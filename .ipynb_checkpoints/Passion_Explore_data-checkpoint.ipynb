{
 "cells": [
  {
   "cell_type": "code",
   "execution_count": 1,
   "metadata": {
    "collapsed": true
   },
   "outputs": [],
   "source": [
    "import pandas as pd\n",
    "import pickle\n",
    "import glob\n",
    "import re"
   ]
  },
  {
   "cell_type": "code",
   "execution_count": 35,
   "metadata": {
    "collapsed": true
   },
   "outputs": [],
   "source": [
    "import matplotlib.pyplot as plt"
   ]
  },
  {
   "cell_type": "code",
   "execution_count": 36,
   "metadata": {
    "collapsed": true
   },
   "outputs": [],
   "source": [
    "%matplotlib inline"
   ]
  },
  {
   "cell_type": "code",
   "execution_count": null,
   "metadata": {
    "collapsed": true
   },
   "outputs": [],
   "source": [
    "!ls ./pickles_for_project/list_df_names.pkl"
   ]
  },
  {
   "cell_type": "code",
   "execution_count": 2,
   "metadata": {
    "collapsed": true
   },
   "outputs": [],
   "source": [
    "df_name_list = pickle.load(open( \"./pickles_for_project/list_df_names.pkl\", \"rb\" ) )"
   ]
  },
  {
   "cell_type": "code",
   "execution_count": 4,
   "metadata": {
    "collapsed": true
   },
   "outputs": [],
   "source": [
    "for _df in df_name_list:\n",
    "    exec( _df + \" = pd.read_pickle('./pickles_for_project/\" + _df + \".pkl')\")"
   ]
  },
  {
   "cell_type": "code",
   "execution_count": 3,
   "metadata": {},
   "outputs": [
    {
     "data": {
      "text/plain": [
       "['df_drimpair',\n",
       " 'df_cevent',\n",
       " 'df_damage',\n",
       " 'df_vsoe',\n",
       " 'df_miper',\n",
       " 'df_accident',\n",
       " 'df_nmcrash',\n",
       " 'df_nmimpair',\n",
       " 'df_person',\n",
       " 'df_vindecode',\n",
       " 'df_violatn',\n",
       " 'df_parkwork',\n",
       " 'df_distract',\n",
       " 'df_maneuver',\n",
       " 'df_safetyeq',\n",
       " 'df_miacc',\n",
       " 'df_pbtype',\n",
       " 'df_midrvacc',\n",
       " 'df_factor',\n",
       " 'df_vevent',\n",
       " 'df_vision',\n",
       " 'df_nmprior',\n",
       " 'df_vehicle']"
      ]
     },
     "execution_count": 3,
     "metadata": {},
     "output_type": "execute_result"
    }
   ],
   "source": [
    "df_name_list"
   ]
  },
  {
   "cell_type": "markdown",
   "metadata": {},
   "source": [
    "GPS Coordinate Bounds:\n",
    "\n",
    "UL Woodstock (42.29632,-88.4317)\n",
    "LL Lisbon (41.47434,-88.4770)\n",
    "LR Chicago Heights (41.465,-87.5322)\n",
    "\n",
    "IL_bound UL (42.483,-91.69"
   ]
  },
  {
   "cell_type": "code",
   "execution_count": 21,
   "metadata": {},
   "outputs": [
    {
     "data": {
      "text/plain": [
       "(32166, 52)"
      ]
     },
     "execution_count": 21,
     "metadata": {},
     "output_type": "execute_result"
    }
   ],
   "source": [
    "df_accident.shape"
   ]
  },
  {
   "cell_type": "code",
   "execution_count": 39,
   "metadata": {},
   "outputs": [
    {
     "data": {
      "text/plain": [
       "99.999899999999997"
      ]
     },
     "execution_count": 39,
     "metadata": {},
     "output_type": "execute_result"
    }
   ],
   "source": [
    "df_accident['LATITUDE'].max()"
   ]
  },
  {
   "cell_type": "code",
   "execution_count": 50,
   "metadata": {},
   "outputs": [
    {
     "data": {
      "text/plain": [
       "(31959, 52)"
      ]
     },
     "execution_count": 50,
     "metadata": {},
     "output_type": "execute_result"
    }
   ],
   "source": [
    "df_accident[df_accident['LATITUDE']<=71].shape"
   ]
  },
  {
   "cell_type": "code",
   "execution_count": 55,
   "metadata": {},
   "outputs": [
    {
     "data": {
      "text/plain": [
       "-166.54955555999999"
      ]
     },
     "execution_count": 55,
     "metadata": {},
     "output_type": "execute_result"
    }
   ],
   "source": [
    "df_accident['LONGITUD'].min()"
   ]
  },
  {
   "cell_type": "code",
   "execution_count": 26,
   "metadata": {},
   "outputs": [],
   "source": [
    "bound_df = df_accident[df_accident['LATITUDE']<=42.2963]"
   ]
  },
  {
   "cell_type": "code",
   "execution_count": 27,
   "metadata": {},
   "outputs": [
    {
     "data": {
      "text/plain": [
       "(27788, 52)"
      ]
     },
     "execution_count": 27,
     "metadata": {},
     "output_type": "execute_result"
    }
   ],
   "source": [
    "bound_df.shape"
   ]
  },
  {
   "cell_type": "code",
   "execution_count": 28,
   "metadata": {},
   "outputs": [],
   "source": [
    "bound_df = bound_df[bound_df['LATITUDE']>=41.4743]"
   ]
  },
  {
   "cell_type": "code",
   "execution_count": 29,
   "metadata": {},
   "outputs": [
    {
     "data": {
      "text/plain": [
       "(1641, 52)"
      ]
     },
     "execution_count": 29,
     "metadata": {},
     "output_type": "execute_result"
    }
   ],
   "source": [
    "bound_df.shape"
   ]
  },
  {
   "cell_type": "code",
   "execution_count": 30,
   "metadata": {
    "collapsed": true
   },
   "outputs": [],
   "source": [
    "bound_df = bound_df[bound_df['LONGITUD']>=-88.477]"
   ]
  },
  {
   "cell_type": "code",
   "execution_count": 32,
   "metadata": {},
   "outputs": [
    {
     "data": {
      "text/plain": [
       "(1333, 52)"
      ]
     },
     "execution_count": 32,
     "metadata": {},
     "output_type": "execute_result"
    }
   ],
   "source": [
    "bound_df.shape"
   ]
  },
  {
   "cell_type": "code",
   "execution_count": 33,
   "metadata": {
    "collapsed": true
   },
   "outputs": [],
   "source": [
    "bound_df = bound_df[bound_df['LONGITUD']<=-87.532]"
   ]
  },
  {
   "cell_type": "code",
   "execution_count": 56,
   "metadata": {},
   "outputs": [
    {
     "data": {
      "text/plain": [
       "(330, 52)"
      ]
     },
     "execution_count": 56,
     "metadata": {},
     "output_type": "execute_result"
    }
   ],
   "source": [
    "bound_df.shape"
   ]
  },
  {
   "cell_type": "code",
   "execution_count": 64,
   "metadata": {},
   "outputs": [
    {
     "data": {
      "text/plain": [
       "(207, 52)"
      ]
     },
     "execution_count": 64,
     "metadata": {},
     "output_type": "execute_result"
    }
   ],
   "source": [
    "df_accident[df_accident.LONGITUD>61].shape"
   ]
  },
  {
   "cell_type": "code",
   "execution_count": 61,
   "metadata": {},
   "outputs": [
    {
     "data": {
      "text/plain": [
       "(array([  3.19590000e+04,   0.00000000e+00,   0.00000000e+00,\n",
       "          0.00000000e+00,   0.00000000e+00,   0.00000000e+00,\n",
       "          0.00000000e+00,   0.00000000e+00,   1.80000000e+01,\n",
       "          1.89000000e+02]),\n",
       " array([-166.54955556,  -49.89461   ,   66.76033555,  183.41528111,\n",
       "         300.07022666,  416.72517222,  533.38011778,  650.03506333,\n",
       "         766.69000889,  883.34495444,  999.9999    ]),\n",
       " <a list of 10 Patch objects>)"
      ]
     },
     "execution_count": 61,
     "metadata": {},
     "output_type": "execute_result"
    },
    {
     "data": {
      "image/png": "[encoded data removed]",
      "text/plain": [
       "<matplotlib.figure.Figure at 0x7fa77ee4b1d0>"
      ]
     },
     "metadata": {},
     "output_type": "display_data"
    }
   ],
   "source": [
    "plt.hist(df_accident.LONGITUD)"
   ]
  },
  {
   "cell_type": "code",
   "execution_count": 73,
   "metadata": {},
   "outputs": [
    {
     "data": {
      "text/plain": [
       "(array([  1.00000000e+00,   1.99400000e+03,   2.41900000e+03,\n",
       "          1.29400000e+03,   1.33500000e+03,   4.47400000e+03,\n",
       "          4.83100000e+03,   8.50100000e+03,   5.41700000e+03,\n",
       "          1.54900000e+03]),\n",
       " array([-132.93291944, -126.39957944, -119.86623944, -113.33289944,\n",
       "        -106.79955944, -100.26621944,  -93.73287944,  -87.19953944,\n",
       "         -80.66619944,  -74.13285944,  -67.59951944]),\n",
       " <a list of 10 Patch objects>)"
      ]
     },
     "execution_count": 73,
     "metadata": {},
     "output_type": "execute_result"
    },
    {
     "data": {
      "image/png": "[encoded data removed]",
      "text/plain": [
       "<matplotlib.figure.Figure at 0x7fa77ea04550>"
      ]
     },
     "metadata": {},
     "output_type": "display_data"
    }
   ],
   "source": [
    "t1 = df_accident[df_accident.LONGITUD<=0]\n",
    "t1 = t1[t1.LONGITUD>=-140]\n",
    "plt.hist(t1.LONGITUD)"
   ]
  },
  {
   "cell_type": "code",
   "execution_count": 65,
   "metadata": {},
   "outputs": [
    {
     "data": {
      "text/plain": [
       "(array([  1.16900000e+03,   1.27240000e+04,   1.55470000e+04,\n",
       "          2.45900000e+03,   3.00000000e+00,   5.70000000e+01,\n",
       "          0.00000000e+00,   1.80000000e+01,   1.00000000e+00,\n",
       "          1.88000000e+02]),\n",
       " array([ 19.27305 ,  27.345735,  35.41842 ,  43.491105,  51.56379 ,\n",
       "         59.636475,  67.70916 ,  75.781845,  83.85453 ,  91.927215,  99.9999  ]),\n",
       " <a list of 10 Patch objects>)"
      ]
     },
     "execution_count": 65,
     "metadata": {},
     "output_type": "execute_result"
    },
    {
     "data": {
      "image/png": "[encoded data removed]",
      "text/plain": [
       "<matplotlib.figure.Figure at 0x7fa77ea02320>"
      ]
     },
     "metadata": {},
     "output_type": "display_data"
    }
   ],
   "source": [
    "plt.hist(df_accident.LATITUDE)"
   ]
  },
  {
   "cell_type": "code",
   "execution_count": 58,
   "metadata": {},
   "outputs": [
    {
     "data": {
      "text/plain": [
       "array([17])"
      ]
     },
     "execution_count": 58,
     "metadata": {},
     "output_type": "execute_result"
    }
   ],
   "source": [
    "bound_df.STATE.unique()"
   ]
  },
  {
   "cell_type": "markdown",
   "metadata": {},
   "source": [
    "types of w"
   ]
  },
  {
   "cell_type": "code",
   "execution_count": 77,
   "metadata": {},
   "outputs": [
    {
     "data": {
      "text/plain": [
       "(array([  2.53680000e+04,   1.00000000e+02,   3.18000000e+02,\n",
       "          4.02000000e+02,   2.30000000e+01,   1.30000000e+01,\n",
       "          5.90000000e+01,   0.00000000e+00,   5.48100000e+03,\n",
       "          4.70000000e+01]),\n",
       " array([  1. ,   2.1,   3.2,   4.3,   5.4,   6.5,   7.6,   8.7,   9.8,\n",
       "         10.9,  12. ]),\n",
       " <a list of 10 Patch objects>)"
      ]
     },
     "execution_count": 77,
     "metadata": {},
     "output_type": "execute_result"
    },
    {
     "data": {
      "image/png": "[encoded data removed]",
      "text/plain": [
       "<matplotlib.figure.Figure at 0x7fa77e38ea20>"
      ]
     },
     "metadata": {},
     "output_type": "display_data"
    }
   ],
   "source": [
    "plt.hist(df_accident.WEATHER[df_accident.WEATHER<20])"
   ]
  },
  {
   "cell_type": "code",
   "execution_count": null,
   "metadata": {
    "collapsed": true
   },
   "outputs": [],
   "source": []
  },
  {
   "cell_type": "code",
   "execution_count": 7,
   "metadata": {},
   "outputs": [
    {
     "name": "stdout",
     "output_type": "stream",
     "text": [
      "<class 'pandas.core.frame.DataFrame'>\n",
      "RangeIndex: 32166 entries, 0 to 32165\n",
      "Data columns (total 52 columns):\n",
      "STATE         32166 non-null int64\n",
      "ST_CASE       32166 non-null int64\n",
      "VE_TOTAL      32166 non-null int64\n",
      "VE_FORMS      32166 non-null int64\n",
      "PVH_INVL      32166 non-null int64\n",
      "PEDS          32166 non-null int64\n",
      "PERNOTMVIT    32166 non-null int64\n",
      "PERMVIT       32166 non-null int64\n",
      "PERSONS       32166 non-null int64\n",
      "COUNTY        32166 non-null int64\n",
      "CITY          32166 non-null int64\n",
      "DAY           32166 non-null int64\n",
      "MONTH         32166 non-null int64\n",
      "YEAR          32166 non-null int64\n",
      "DAY_WEEK      32166 non-null int64\n",
      "HOUR          32166 non-null int64\n",
      "MINUTE        32166 non-null int64\n",
      "NHS           32166 non-null int64\n",
      "RUR_URB       32166 non-null int64\n",
      "FUNC_SYS      32166 non-null int64\n",
      "RD_OWNER      32166 non-null int64\n",
      "ROUTE         32166 non-null int64\n",
      "TWAY_ID       32166 non-null object\n",
      "TWAY_ID2      8400 non-null object\n",
      "MILEPT        32166 non-null int64\n",
      "LATITUDE      32166 non-null float64\n",
      "LONGITUD      32166 non-null float64\n",
      "SP_JUR        32166 non-null int64\n",
      "HARM_EV       32166 non-null int64\n",
      "MAN_COLL      32166 non-null int64\n",
      "RELJCT1       32166 non-null int64\n",
      "RELJCT2       32166 non-null int64\n",
      "TYP_INT       32166 non-null int64\n",
      "WRK_ZONE      32166 non-null int64\n",
      "REL_ROAD      32166 non-null int64\n",
      "LGT_COND      32166 non-null int64\n",
      "WEATHER1      32166 non-null int64\n",
      "WEATHER2      32166 non-null int64\n",
      "WEATHER       32166 non-null int64\n",
      "SCH_BUS       32166 non-null int64\n",
      "RAIL          32166 non-null object\n",
      "NOT_HOUR      32166 non-null int64\n",
      "NOT_MIN       32166 non-null int64\n",
      "ARR_HOUR      32166 non-null int64\n",
      "ARR_MIN       32166 non-null int64\n",
      "HOSP_HR       32166 non-null int64\n",
      "HOSP_MN       32166 non-null int64\n",
      "CF1           32166 non-null int64\n",
      "CF2           32166 non-null int64\n",
      "CF3           32166 non-null int64\n",
      "FATALS        32166 non-null int64\n",
      "DRUNK_DR      32166 non-null int64\n",
      "dtypes: float64(2), int64(47), object(3)\n",
      "memory usage: 12.8+ MB\n"
     ]
    }
   ],
   "source": [
    "df_accident.info()"
   ]
  },
  {
   "cell_type": "code",
   "execution_count": 11,
   "metadata": {},
   "outputs": [],
   "source": [
    "just_weather_df = df_accident.loc[:,['LGT_COND','WEATHER','WEATHER1','WEATHER2']]"
   ]
  },
  {
   "cell_type": "code",
   "execution_count": 81,
   "metadata": {},
   "outputs": [
    {
     "data": {
      "text/html": [
       "<div>\n",
       "<style>\n",
       "    .dataframe thead tr:only-child th {\n",
       "        text-align: right;\n",
       "    }\n",
       "\n",
       "    .dataframe thead th {\n",
       "        text-align: left;\n",
       "    }\n",
       "\n",
       "    .dataframe tbody tr th {\n",
       "        vertical-align: top;\n",
       "    }\n",
       "</style>\n",
       "<table border=\"1\" class=\"dataframe\">\n",
       "  <thead>\n",
       "    <tr style=\"text-align: right;\">\n",
       "      <th></th>\n",
       "      <th>LGT_COND</th>\n",
       "      <th>WEATHER1</th>\n",
       "      <th>WEATHER2</th>\n",
       "    </tr>\n",
       "    <tr>\n",
       "      <th>WEATHER</th>\n",
       "      <th></th>\n",
       "      <th></th>\n",
       "      <th></th>\n",
       "    </tr>\n",
       "  </thead>\n",
       "  <tbody>\n",
       "    <tr>\n",
       "      <th>1</th>\n",
       "      <td>22904</td>\n",
       "      <td>22904</td>\n",
       "      <td>22904</td>\n",
       "    </tr>\n",
       "    <tr>\n",
       "      <th>2</th>\n",
       "      <td>2464</td>\n",
       "      <td>2464</td>\n",
       "      <td>2464</td>\n",
       "    </tr>\n",
       "    <tr>\n",
       "      <th>3</th>\n",
       "      <td>100</td>\n",
       "      <td>100</td>\n",
       "      <td>100</td>\n",
       "    </tr>\n",
       "    <tr>\n",
       "      <th>4</th>\n",
       "      <td>318</td>\n",
       "      <td>318</td>\n",
       "      <td>318</td>\n",
       "    </tr>\n",
       "    <tr>\n",
       "      <th>5</th>\n",
       "      <td>402</td>\n",
       "      <td>402</td>\n",
       "      <td>402</td>\n",
       "    </tr>\n",
       "    <tr>\n",
       "      <th>6</th>\n",
       "      <td>23</td>\n",
       "      <td>23</td>\n",
       "      <td>23</td>\n",
       "    </tr>\n",
       "    <tr>\n",
       "      <th>7</th>\n",
       "      <td>13</td>\n",
       "      <td>13</td>\n",
       "      <td>13</td>\n",
       "    </tr>\n",
       "    <tr>\n",
       "      <th>8</th>\n",
       "      <td>59</td>\n",
       "      <td>59</td>\n",
       "      <td>59</td>\n",
       "    </tr>\n",
       "    <tr>\n",
       "      <th>10</th>\n",
       "      <td>5481</td>\n",
       "      <td>5481</td>\n",
       "      <td>5481</td>\n",
       "    </tr>\n",
       "    <tr>\n",
       "      <th>11</th>\n",
       "      <td>23</td>\n",
       "      <td>23</td>\n",
       "      <td>23</td>\n",
       "    </tr>\n",
       "    <tr>\n",
       "      <th>12</th>\n",
       "      <td>24</td>\n",
       "      <td>24</td>\n",
       "      <td>24</td>\n",
       "    </tr>\n",
       "    <tr>\n",
       "      <th>98</th>\n",
       "      <td>100</td>\n",
       "      <td>100</td>\n",
       "      <td>100</td>\n",
       "    </tr>\n",
       "    <tr>\n",
       "      <th>99</th>\n",
       "      <td>255</td>\n",
       "      <td>255</td>\n",
       "      <td>255</td>\n",
       "    </tr>\n",
       "  </tbody>\n",
       "</table>\n",
       "</div>"
      ],
      "text/plain": [
       "         LGT_COND  WEATHER1  WEATHER2\n",
       "WEATHER                              \n",
       "1           22904     22904     22904\n",
       "2            2464      2464      2464\n",
       "3             100       100       100\n",
       "4             318       318       318\n",
       "5             402       402       402\n",
       "6              23        23        23\n",
       "7              13        13        13\n",
       "8              59        59        59\n",
       "10           5481      5481      5481\n",
       "11             23        23        23\n",
       "12             24        24        24\n",
       "98            100       100       100\n",
       "99            255       255       255"
      ]
     },
     "execution_count": 81,
     "metadata": {},
     "output_type": "execute_result"
    }
   ],
   "source": [
    "just_weather_df.groupby(by=['WEATHER']).count()"
   ]
  },
  {
   "cell_type": "code",
   "execution_count": null,
   "metadata": {
    "collapsed": true
   },
   "outputs": [],
   "source": [
    "just_day_of_week = "
   ]
  },
  {
   "cell_type": "code",
   "execution_count": 80,
   "metadata": {},
   "outputs": [
    {
     "data": {
      "text/plain": [
       "(115275, 10)"
      ]
     },
     "execution_count": 80,
     "metadata": {},
     "output_type": "execute_result"
    }
   ],
   "source": [
    "df_vevent.shape"
   ]
  },
  {
   "cell_type": "code",
   "execution_count": null,
   "metadata": {
    "collapsed": true
   },
   "outputs": [],
   "source": []
  }
 ],
 "metadata": {
  "kernelspec": {
   "display_name": "Python 3",
   "language": "python",
   "name": "python3"
  },
  "language_info": {
   "codemirror_mode": {
    "name": "ipython",
    "version": 3
   },
   "file_extension": ".py",
   "mimetype": "text/x-python",
   "name": "python",
   "nbconvert_exporter": "python",
   "pygments_lexer": "ipython3",
   "version": "3.6.1"
  }
 },
 "nbformat": 4,
 "nbformat_minor": 2
}

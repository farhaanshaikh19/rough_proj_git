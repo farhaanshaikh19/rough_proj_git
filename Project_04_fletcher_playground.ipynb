{
 "cells": [
  {
   "cell_type": "markdown",
   "metadata": {},
   "source": []
  },
  {
   "cell_type": "code",
   "execution_count": 1,
   "metadata": {
    "collapsed": true
   },
   "outputs": [],
   "source": [
    "import nltk\n",
    "import pandas as pd\n",
    "import numpy as np\n",
    "import matplotlib.pyplot as plt\n",
    "%matplotlib inline"
   ]
  },
  {
   "cell_type": "code",
   "execution_count": 2,
   "metadata": {
    "collapsed": true
   },
   "outputs": [],
   "source": [
    "import pickle"
   ]
  },
  {
   "cell_type": "code",
   "execution_count": 80,
   "metadata": {
    "collapsed": true
   },
   "outputs": [],
   "source": [
    "from collections import defaultdict"
   ]
  },
  {
   "cell_type": "code",
   "execution_count": 3,
   "metadata": {
    "collapsed": true
   },
   "outputs": [],
   "source": [
    "from sklearn.externals import joblib"
   ]
  },
  {
   "cell_type": "code",
   "execution_count": 14,
   "metadata": {
    "collapsed": true
   },
   "outputs": [],
   "source": [
    "from sklearn.feature_extraction.text import TfidfVectorizer"
   ]
  },
  {
   "cell_type": "code",
   "execution_count": 4,
   "metadata": {
    "collapsed": true
   },
   "outputs": [],
   "source": [
    "import re\n",
    "from copy import deepcopy\n",
    "from collections import Counter"
   ]
  },
  {
   "cell_type": "code",
   "execution_count": 5,
   "metadata": {
    "collapsed": true
   },
   "outputs": [],
   "source": [
    "from nltk.tokenize import sent_tokenize"
   ]
  },
  {
   "cell_type": "code",
   "execution_count": 6,
   "metadata": {
    "collapsed": true
   },
   "outputs": [],
   "source": [
    "from nltk.tokenize import TreebankWordTokenizer"
   ]
  },
  {
   "cell_type": "code",
   "execution_count": 7,
   "metadata": {
    "collapsed": true
   },
   "outputs": [],
   "source": [
    "from nltk.tag import pos_tag"
   ]
  },
  {
   "cell_type": "code",
   "execution_count": 8,
   "metadata": {
    "collapsed": true
   },
   "outputs": [],
   "source": [
    "from sklearn.feature_extraction.text import CountVectorizer\n",
    "\n",
    "from sklearn.decomposition import TruncatedSVD\n",
    "\n",
    "from scipy.sparse.linalg import svds\n",
    "from scipy.sparse import coo_matrix\n",
    "\n",
    "from sklearn.cluster import KMeans"
   ]
  },
  {
   "cell_type": "code",
   "execution_count": 9,
   "metadata": {
    "collapsed": true
   },
   "outputs": [],
   "source": [
    "from sklearn.metrics import silhouette_score"
   ]
  },
  {
   "cell_type": "code",
   "execution_count": 10,
   "metadata": {
    "collapsed": true
   },
   "outputs": [],
   "source": [
    "from sklearn.feature_extraction.stop_words import ENGLISH_STOP_WORDS\n",
    "from nltk.corpus import stopwords"
   ]
  },
  {
   "cell_type": "markdown",
   "metadata": {},
   "source": [
    "**ORIGINAL DATA SET CAN BE FOUND HERE:**\n",
    "\n",
    "[Kaggle Fake News Dataset](https://www.kaggle.com/mrisdal/fake-news/downloads/fake-news.zip)"
   ]
  },
  {
   "cell_type": "markdown",
   "metadata": {
    "collapsed": true
   },
   "source": [
    "zipfile_path = '/home/farhaan/Downloads/fake-news.zip'\n",
    "df_fakenews = pd.read_csv(zipfile_path,compression=\"zip\")"
   ]
  },
  {
   "cell_type": "markdown",
   "metadata": {},
   "source": [
    "pd.to_pickle(df_fakenews,'/home/farhaan/working_projects/pickles/df_fakenews.p')"
   ]
  },
  {
   "cell_type": "code",
   "execution_count": 11,
   "metadata": {
    "collapsed": true
   },
   "outputs": [],
   "source": [
    "df_fakenews = pd.read_pickle('/home/farhaan/working_projects/pickles/df_fakenews.p')"
   ]
  },
  {
   "cell_type": "code",
   "execution_count": 101,
   "metadata": {
    "scrolled": false
   },
   "outputs": [
    {
     "data": {
      "text/html": [
       "<div>\n",
       "<style>\n",
       "    .dataframe thead tr:only-child th {\n",
       "        text-align: right;\n",
       "    }\n",
       "\n",
       "    .dataframe thead th {\n",
       "        text-align: left;\n",
       "    }\n",
       "\n",
       "    .dataframe tbody tr th {\n",
       "        vertical-align: top;\n",
       "    }\n",
       "</style>\n",
       "<table border=\"1\" class=\"dataframe\">\n",
       "  <thead>\n",
       "    <tr style=\"text-align: right;\">\n",
       "      <th></th>\n",
       "      <th>uuid</th>\n",
       "      <th>ord_in_thread</th>\n",
       "      <th>author</th>\n",
       "      <th>published</th>\n",
       "      <th>title</th>\n",
       "      <th>text</th>\n",
       "      <th>language</th>\n",
       "      <th>crawled</th>\n",
       "      <th>site_url</th>\n",
       "      <th>country</th>\n",
       "      <th>domain_rank</th>\n",
       "      <th>thread_title</th>\n",
       "      <th>spam_score</th>\n",
       "      <th>main_img_url</th>\n",
       "      <th>replies_count</th>\n",
       "      <th>participants_count</th>\n",
       "      <th>likes</th>\n",
       "      <th>comments</th>\n",
       "      <th>shares</th>\n",
       "      <th>type</th>\n",
       "    </tr>\n",
       "  </thead>\n",
       "  <tbody>\n",
       "    <tr>\n",
       "      <th>1930</th>\n",
       "      <td>2bc19d968de3c8aca55cd66276c372d5b658b49f</td>\n",
       "      <td>0</td>\n",
       "      <td>Consortiumnews.com</td>\n",
       "      <td>2016-11-24T15:40:54.573+02:00</td>\n",
       "      <td>Greens Question Trump’s Victory</td>\n",
       "      <td>Greens Question Trump’s Victory November 24, 2...</td>\n",
       "      <td>english</td>\n",
       "      <td>2016-11-24T15:40:54.573+02:00</td>\n",
       "      <td>consortiumnews.com</td>\n",
       "      <td>US</td>\n",
       "      <td>NaN</td>\n",
       "      <td>Greens Question Trump’s Victory</td>\n",
       "      <td>0.0</td>\n",
       "      <td>NaN</td>\n",
       "      <td>0</td>\n",
       "      <td>1</td>\n",
       "      <td>0</td>\n",
       "      <td>0</td>\n",
       "      <td>0</td>\n",
       "      <td>bs</td>\n",
       "    </tr>\n",
       "    <tr>\n",
       "      <th>9099</th>\n",
       "      <td>67d3a69f9f17c0a263b8c65ef654a42bfc5d3863</td>\n",
       "      <td>0</td>\n",
       "      <td>Dave Hodges</td>\n",
       "      <td>2016-10-31T17:30:02.289+02:00</td>\n",
       "      <td>The Hodges &amp; Hagmann Hour- America’s Last Chan...</td>\n",
       "      <td>\\nDoug Hagmann\\n \\nThe recent show in which Do...</td>\n",
       "      <td>english</td>\n",
       "      <td>2016-10-31T17:30:02.289+02:00</td>\n",
       "      <td>thecommonsenseshow.com</td>\n",
       "      <td>US</td>\n",
       "      <td>91878.0</td>\n",
       "      <td>The Hodges &amp; Hagmann Hour- America’s Last Chan...</td>\n",
       "      <td>0.0</td>\n",
       "      <td>NaN</td>\n",
       "      <td>0</td>\n",
       "      <td>1</td>\n",
       "      <td>0</td>\n",
       "      <td>0</td>\n",
       "      <td>0</td>\n",
       "      <td>bs</td>\n",
       "    </tr>\n",
       "    <tr>\n",
       "      <th>7857</th>\n",
       "      <td>f48ffc58d20cf1b2f2a95aff39ff20b62027a928</td>\n",
       "      <td>0</td>\n",
       "      <td>Ariana</td>\n",
       "      <td>2016-11-07T05:52:48.233+02:00</td>\n",
       "      <td>Arsenic and Lead: Read This Before Eating Rice</td>\n",
       "      <td>Rice is a staple food in many cultures, but ar...</td>\n",
       "      <td>english</td>\n",
       "      <td>2016-11-07T05:52:48.233+02:00</td>\n",
       "      <td>realfarmacy.com</td>\n",
       "      <td>US</td>\n",
       "      <td>22432.0</td>\n",
       "      <td>Arsenic and Lead: Read This Before Eating Rice</td>\n",
       "      <td>0.0</td>\n",
       "      <td>http://www.realfarmacy.com/wp-content/uploads/...</td>\n",
       "      <td>0</td>\n",
       "      <td>1</td>\n",
       "      <td>0</td>\n",
       "      <td>0</td>\n",
       "      <td>0</td>\n",
       "      <td>bs</td>\n",
       "    </tr>\n",
       "  </tbody>\n",
       "</table>\n",
       "</div>"
      ],
      "text/plain": [
       "                                          uuid  ord_in_thread  \\\n",
       "1930  2bc19d968de3c8aca55cd66276c372d5b658b49f              0   \n",
       "9099  67d3a69f9f17c0a263b8c65ef654a42bfc5d3863              0   \n",
       "7857  f48ffc58d20cf1b2f2a95aff39ff20b62027a928              0   \n",
       "\n",
       "                  author                      published  \\\n",
       "1930  Consortiumnews.com  2016-11-24T15:40:54.573+02:00   \n",
       "9099         Dave Hodges  2016-10-31T17:30:02.289+02:00   \n",
       "7857              Ariana  2016-11-07T05:52:48.233+02:00   \n",
       "\n",
       "                                                  title  \\\n",
       "1930                    Greens Question Trump’s Victory   \n",
       "9099  The Hodges & Hagmann Hour- America’s Last Chan...   \n",
       "7857     Arsenic and Lead: Read This Before Eating Rice   \n",
       "\n",
       "                                                   text language  \\\n",
       "1930  Greens Question Trump’s Victory November 24, 2...  english   \n",
       "9099  \\nDoug Hagmann\\n \\nThe recent show in which Do...  english   \n",
       "7857  Rice is a staple food in many cultures, but ar...  english   \n",
       "\n",
       "                            crawled                site_url country  \\\n",
       "1930  2016-11-24T15:40:54.573+02:00      consortiumnews.com      US   \n",
       "9099  2016-10-31T17:30:02.289+02:00  thecommonsenseshow.com      US   \n",
       "7857  2016-11-07T05:52:48.233+02:00         realfarmacy.com      US   \n",
       "\n",
       "      domain_rank                                       thread_title  \\\n",
       "1930          NaN                    Greens Question Trump’s Victory   \n",
       "9099      91878.0  The Hodges & Hagmann Hour- America’s Last Chan...   \n",
       "7857      22432.0     Arsenic and Lead: Read This Before Eating Rice   \n",
       "\n",
       "      spam_score                                       main_img_url  \\\n",
       "1930         0.0                                                NaN   \n",
       "9099         0.0                                                NaN   \n",
       "7857         0.0  http://www.realfarmacy.com/wp-content/uploads/...   \n",
       "\n",
       "      replies_count  participants_count  likes  comments  shares type  \n",
       "1930              0                   1      0         0       0   bs  \n",
       "9099              0                   1      0         0       0   bs  \n",
       "7857              0                   1      0         0       0   bs  "
      ]
     },
     "execution_count": 101,
     "metadata": {},
     "output_type": "execute_result"
    }
   ],
   "source": [
    "df_fakenews.sample(3)"
   ]
  },
  {
   "cell_type": "code",
   "execution_count": 12,
   "metadata": {},
   "outputs": [
    {
     "data": {
      "text/plain": [
       "['As we reported one week ago, the latest Treasury International Capital report revealed something disturbing : not only had foreign central banks sold a record amount of US Treasurys in the past 12 months, some $346 billion worth…\\n\\n… but America’s largest foreign creditor, China, sold a record $34 billion in US paper in the latest month, and bringing its total holdings to the lowest since 2012.\\n\\nThis led to an obvious question: is China dumping all of its foreign reserve holdings proportionately, or is Beijing strategically offloading its US paper, for financial, political reasons or otherwise, as it buys other foreign government bonds. The answer, at least according to the Nikkei, is the latter.\\nAs the Japanese owner of the Financial Times reports , China is on a shopping spree, and has been “gobbling” up Japanese government bonds, adding that Beijing bought close to a net 9 trillion yen ($86.6 billion) worth of JGBs in the January-August period, more than tripling the amount from the same period last year. Incidentally that’s almost equivalent to the number of US Treasurys sold by China.\\nA simple explanation for the shift is that the People’s Bank of China has been reducing its holdings of U.S. Treasurys in anticipation of higher U.S. interest rates and shifting some of its money to JGBs, where higher rates – courtesy of 250% in debt/GDP – are largely guaranteed to never arrive.\\nBut more importantly, and this could explain the perplexing recent strength in the Yuan, this trend may be a reason behind the yen’s appreciation in foreign exchange markets in recent months .\\nAccording to Japan’s Ministry of Finance, China invested 8.9 trillion yen in Japanese securities in net terms between January and August. Buying started to exceed selling more often on a monthly basis in the second half of 2015. In April, net buying surpassed 3 trillion yen. Curiously, China is not buying the Japanese bonds for the “yield”, but rather for liquidity: most of the securities purchased by the PBOC are bonds with maturities of one year or less.\\nJudging by the latest TIC data, China’s selling of US paper is accelerating, which also suggests that just as China has been a factor pushing the Yuan higher, the dollar has been pressured lower by the ongoing Chinese liquidation. One wonders how much higher the USD will jump if and when China decides to halt its selling of US paper, and how much lower the Yuan will then tumble in response, leading to even faster capital outflows from China.\\nSource: Zero Hedge \\n']"
      ]
     },
     "execution_count": 12,
     "metadata": {},
     "output_type": "execute_result"
    }
   ],
   "source": [
    "list(df_fakenews.loc[:,'text'].sample(1))"
   ]
  },
  {
   "cell_type": "code",
   "execution_count": 11,
   "metadata": {},
   "outputs": [
    {
     "data": {
      "text/plain": [
       "(12999, 20)"
      ]
     },
     "execution_count": 11,
     "metadata": {},
     "output_type": "execute_result"
    }
   ],
   "source": [
    "df_fakenews.shape"
   ]
  },
  {
   "cell_type": "code",
   "execution_count": 12,
   "metadata": {},
   "outputs": [
    {
     "data": {
      "text/plain": [
       "bs            11492\n",
       "bias            443\n",
       "conspiracy      430\n",
       "hate            246\n",
       "satire          146\n",
       "state           121\n",
       "junksci         102\n",
       "fake             19\n",
       "Name: type, dtype: int64"
      ]
     },
     "execution_count": 12,
     "metadata": {},
     "output_type": "execute_result"
    }
   ],
   "source": [
    "df_fakenews['type'].value_counts()"
   ]
  },
  {
   "cell_type": "code",
   "execution_count": 11,
   "metadata": {},
   "outputs": [
    {
     "data": {
      "text/plain": [
       "9933"
      ]
     },
     "execution_count": 11,
     "metadata": {},
     "output_type": "execute_result"
    }
   ],
   "source": [
    "str_lengths = df_fakenews.text.str.len()\n",
    "len(str_lengths[str_lengths>1000])"
   ]
  },
  {
   "cell_type": "code",
   "execution_count": 14,
   "metadata": {
    "scrolled": true
   },
   "outputs": [
    {
     "data": {
      "image/png": "[encoded data removed]",
      "text/plain": [
       "<matplotlib.figure.Figure at 0x7f72dc800e10>"
      ]
     },
     "metadata": {},
     "output_type": "display_data"
    }
   ],
   "source": [
    "plt.hist(str_lengths[str_lengths>1000],bins=40);"
   ]
  },
  {
   "cell_type": "markdown",
   "metadata": {},
   "source": [
    "## Filtered fakenews dataframe"
   ]
  },
  {
   "cell_type": "code",
   "execution_count": 17,
   "metadata": {},
   "outputs": [
    {
     "name": "stdout",
     "output_type": "stream",
     "text": [
      "Initial filters complete\n",
      "compilation completed\n",
      "200 articles parsed\n",
      "400 articles parsed\n",
      "600 articles parsed\n",
      "800 articles parsed\n",
      "1000 articles parsed\n",
      "1200 articles parsed\n",
      "1400 articles parsed\n",
      "1600 articles parsed\n",
      "1800 articles parsed\n",
      "2000 articles parsed\n",
      "2200 articles parsed\n",
      "2400 articles parsed\n",
      "2600 articles parsed\n",
      "2800 articles parsed\n",
      "3000 articles parsed\n",
      "3200 articles parsed\n",
      "3400 articles parsed\n",
      "3600 articles parsed\n",
      "3800 articles parsed\n",
      "4000 articles parsed\n",
      "4200 articles parsed\n",
      "4400 articles parsed\n",
      "4600 articles parsed\n",
      "4800 articles parsed\n",
      "5000 articles parsed\n",
      "5200 articles parsed\n",
      "5400 articles parsed\n",
      "5600 articles parsed\n",
      "5800 articles parsed\n",
      "6000 articles parsed\n",
      "6200 articles parsed\n",
      "6400 articles parsed\n",
      "6600 articles parsed\n",
      "6800 articles parsed\n",
      "7000 articles parsed\n",
      "7200 articles parsed\n",
      "7400 articles parsed\n",
      "7600 articles parsed\n",
      "7800 articles parsed\n",
      "8000 articles parsed\n",
      "8200 articles parsed\n",
      "8400 articles parsed\n",
      "8600 articles parsed\n",
      "8800 articles parsed\n",
      "9000 articles parsed\n",
      "9200 articles parsed\n",
      "9400 articles parsed\n",
      "9600 articles parsed\n",
      "9800 articles parsed\n",
      "10000 articles parsed\n",
      "10200 articles parsed\n",
      "10400 articles parsed\n",
      "10600 articles parsed\n",
      "10800 articles parsed\n",
      "11000 articles parsed\n",
      "11200 articles parsed\n",
      "11400 articles parsed\n",
      "11600 articles parsed\n",
      "11800 articles parsed\n",
      "12000 articles parsed\n",
      "12200 articles parsed\n"
     ]
    }
   ],
   "source": [
    "fakenews_df_filtered = df_fakenews[pd.notnull(df_fakenews['text'])]\n",
    "fakenews_df_filtered = fakenews_df_filtered[fakenews_df_filtered['language']=='english']\n",
    "print('Initial filters complete')\n",
    "delregex0 = re.compile('Click here to get.*and write as you like.|Click Here To Learn More About.*Join us!',re.IGNORECASE|re.DOTALL)\n",
    "delregex1 = re.compile('Submit your review|Print this post|(?:Share|Follow) on[ :]+?(?:Facebook|Twitter)',re.IGNORECASE)\n",
    "delregex2 = re.compile('Be the First to Comment.*?articles$|(?: Related:|Share:).{0,100}$| Subscribe *$|',re.IGNORECASE|re.DOTALL)\n",
    "delregex3 = re.compile('^.{0,60}(?:King World News|Share this)|Also released: .{0,550}$|(?:Reprinted from |King World News| You can contact|Read more ).{0,300}$|Follow @.{0,50}$',re.IGNORECASE|re.DOTALL)\n",
    "delregex4 = re.compile('(?:21st| )*Century Wire(?:says| )*|.*Psychic protection.*|Newsinfo|Delivered by The Daily Sheeple.{0,400}$|barracuda brigade',re.IGNORECASE|re.DOTALL)\n",
    "delregex5 = re.compile('READ MORE ELECTION NEWS AT.{0,200}$|Read the Full Article at.{0,700}$|(?:Connect|Donate|Share[s]?).{0,10}$',re.IGNORECASE|re.DOTALL)\n",
    "delregex6 = re.compile('^.{,300}(:?Leave a|Add) (?:Reply|Comment)|^.{2,40}(?:[by ]|Email) *|^.{0,60}/|Click here to get more.{0,150}$|(?:-|Source).{0,35}$',re.IGNORECASE|re.DOTALL)\n",
    "delregex7 = re.compile('FOR ENTIRE ARTICLE CLICK LINK|SUBSCRIBE on YouTube|like and share|This article was written by [^\\n\\.]*',re.IGNORECASE)\n",
    "delregex8 = re.compile('^.{2,40}(?:[by ]|Like[s]?[ :]|Comment[s][ :]|Views[s]?[ :]|Print[ :]|Share[s]?[ :]|Post[s]?[ :])|Learn More: .*',re.DOTALL|re.IGNORECASE)\n",
    "print(\"compilation completed\")\n",
    "count=0\n",
    "for ind,txt in zip(fakenews_df_filtered.index,fakenews_df_filtered.text):\n",
    "    txt = re.sub(delregex0,\"\",txt)\n",
    "    txt = re.sub(delregex1,\"\",txt)\n",
    "    txt = re.sub(delregex2,\"\",txt)\n",
    "    txt = re.sub(delregex3,\"\",txt)\n",
    "    txt = re.sub(delregex4,\"\",txt)\n",
    "    txt = re.sub(delregex5,\"\",txt)\n",
    "    txt = re.sub(delregex6,\"\",txt)\n",
    "    txt = re.sub(delregex7,\"\",txt)\n",
    "    txt = re.sub(delregex8,\"\",txt)\n",
    "    fakenews_df_filtered.set_value(ind,'text',txt)\n",
    "    count+=1\n",
    "    if count%200 ==0:\n",
    "        print('{} articles parsed'.format(count))\n",
    "fakenews_df_filtered = fakenews_df_filtered[fakenews_df_filtered.text.str.len()>700]\n",
    "text= fakenews_df_filtered.text"
   ]
  },
  {
   "cell_type": "markdown",
   "metadata": {},
   "source": [
    "pd.to_pickle(fakenews_df_filtered,'/home/farhaan/working_projects/pickles/df_fakenews_filtered1.pkl')\n",
    "pd.to_pickle(text,'/home/farhaan/working_projects/pickles/text_filtered1.pkl')"
   ]
  },
  {
   "cell_type": "code",
   "execution_count": 12,
   "metadata": {
    "collapsed": true
   },
   "outputs": [],
   "source": [
    "fakenews_df_filtered = pd.read_pickle('/home/farhaan/working_projects/pickles/df_fakenews_filtered1.pkl')\n",
    "text = pd.read_pickle('/home/farhaan/working_projects/pickles/text_filtered1.pkl')"
   ]
  },
  {
   "cell_type": "code",
   "execution_count": 13,
   "metadata": {},
   "outputs": [
    {
     "data": {
      "text/plain": [
       "9865"
      ]
     },
     "execution_count": 13,
     "metadata": {},
     "output_type": "execute_result"
    }
   ],
   "source": [
    "len(fakenews_df_filtered)"
   ]
  },
  {
   "cell_type": "code",
   "execution_count": 65,
   "metadata": {},
   "outputs": [
    {
     "name": "stdout",
     "output_type": "stream",
     "text": [
      "Int64Index([11944], dtype='int64')\n"
     ]
    }
   ],
   "source": [
    "state = 84\n",
    "index1 = fakenews_df_filtered.sample(random_state=state).index\n",
    "print(index1)"
   ]
  },
  {
   "cell_type": "code",
   "execution_count": 66,
   "metadata": {},
   "outputs": [
    {
     "data": {
      "text/plain": [
       "Int64Index([11944], dtype='int64')"
      ]
     },
     "execution_count": 66,
     "metadata": {},
     "output_type": "execute_result"
    }
   ],
   "source": [
    "fakenews_df_filtered.loc[index1].index"
   ]
  },
  {
   "cell_type": "code",
   "execution_count": 67,
   "metadata": {
    "scrolled": true
   },
   "outputs": [
    {
     "name": "stdout",
     "output_type": "stream",
     "text": [
      "[11944] \n",
      " ['our General Posting Department whereby we share posts from other sources along with general information with our readers. It is managed by our Editorial Board NATO and Turkey: Time to admit reality By GPD on November 4, 2016 By DAVID ROMANO \\nThe North Atlantic Treaty Organization (NATO) was created after World War Two to unite democratic states or Western Europe and North America against Soviet expansionism. The alliance admitted Turkey in 1952, two years after the country transitioned into a democratic electoral system of government. \\nToday, in contrast, neither the Soviet Union nor a democratic Turkey exist. Going on with the charade of NATO may, under the circumstances, do more harm than good. Russia today remains much smaller and less powerful than the Soviet empire was, and bilateral arrangements with countries looking for protection against their eastern neighbor should suffice. From the Russian point of view, a large alliance apparently arrayed against it, working hard to encircle Russia, provokes understandable concerns. The West should consider asking Russia what it would concede in return for the dissolution of the alliance. \\nIn the case of Turkey, the country’s NATO membership also increasingly makes a mockery of the alliance’s charter and places significant liabilities on the shoulders of other members. Perusing the NATO charter, one finds statements such as: \\nThe Parties to this…are determined to safeguard the freedom, common heritage and civilisation of their peoples, founded on the principles of democracy, individual liberty and the rule of law…..The Parties will contribute toward the further development of peaceful and friendly international relations by strengthening their free institutions, by bringing about a better understanding of the principles upon which these institutions are founded, and by promoting conditions of stability and well-being. \\nAlthough Turkey’s military coups in 1960, 1971 and 1980 briefly interrupted democracy there, the military made good on its promises to quickly return power to elected civilian control. Today, in contrast, it seems increasingly clear that President Erdogan will never relinquish power. His purges and complete subversion of democratic institutions and individual liberties may take decades to repair, if ever. \\nThis process began well before the failed July 15 coup in Turkey, but that event provided a pretext for taking the purges in Turkey to new heights. Under new “emergency rule” legislation, some 200,000 civil servants have been dismissed with scant evidence of wrongdoing. Around 2000 academics lost their posts, including just about every university dean – replacements for which will all be appointed directly by Mr. Erdogan. Many of the academics dismissed were only guilty of signing a petition for peace between the government and the Kurdistan Workers’ Party (PKK). \\nMr. Erdogan’s government also shut down some 170 media outlets, including a Kurdish children’s broadcaster. Remaining media, including Turkey most venerable newspaper ( Cumhuriyet ) have seen their editors and journalists arrested and imprisoned. People now face arrest and imprisonment without charge for up to 30 days, and the state can now record conversations between those arrested and their lawyers (when they finally get so see one), with the recordings then provided to prosecutors. According to Human Rights Watch, torture has also now returned to Turkish prisons, where 27 elected mayors from mostly Kurdish cities like Diyarbakir now reside. Judges and prosecutors doing anything even mildly displeasing to the ruling party have been summarily dismissed or arrested themselves, only to be replaced with more pliant sycophants (laws were also changed to allow the ruling party to appoint even High Court judges). Hundreds of generals and officers are behind bars, to the point that the Turkish air force can only operate a portion of its fighter planes. \\nYour columnist could go on, of course, but the point seems clear enough – “freedom, democracy, individual liberty and the rule of law” have withered in Turkey. What’s more, Ankara’s actions and foreign policy threaten NATO. This became abundantly clear when Turkey shot down a Russian fighter plane last year, threatening to drag the alliance into a war it did not want. Although Turkey has since reconciled with Russia, Ankara threatens or even appears poised to go to war with a number actors helping other NATO countries – Iraq, the Democratic Union Party of Syria (PYD), and even Greece, a NATO member itself (Mr. Erdogan recently fumed that the 1923 Treaty of Lausanne made a mistake in giving Greece islands off Turkey’s Aegean coast). During the July 15 attempted coup, Ankara cut off electricity to U.S. forces at Incirlik air base (where they guard nuclear weapons, among other things). Mr. Erdogan and his government suggested that the United States either condoned the coup or even had a role in it. \\nCombined with Ankara’s support for a number of Islamist groups in the region, including some fairly hard-core Jihadi outfits in Syria, these developments ring a lot of alarm bells in Brussels and Washington. Rep. Dana Rohrabacher, the Republican chair of a House subcommittee on emerging threats, expressed such concerns a few weeks ago when he stated that “Ten years ago Turkey was a solid NATO ally and a staunch opponent of radical Islam and a friend of the United States, and today that’s all in question… Erdogan is purging pro-Western people throughout his country who are in positions of influence. He himself has become more aggressive in his Islamic beliefs, and there’s reason for us to be seriously concerned.” \\nThe NATO charter lacks any provisions for expelling members, however, and such a public break is probably not in any member’s interest. The better approach would be to disband NATO and put something new together. American policy makers will protest that Washington can’t afford to lose Turkey. This ignores the fact that they have already lost the Turks to Mr. Erdogan and his ilk – they just haven’t officially left yet. \\n\\nDavid Romano has been a Rudaw columnist since 2010. He holds the Thomas G. Strong Professor of Middle East Politics at Missouri State University and is the author of numerous publications on the Kurds and the Middle East. \\nThe views expressed in this article are those of the author and do not necessarily reflect the position of Rudaw. \\nRelated Posts: No Related Posts The   GPD   50 Reads Filed under Politics  ']\n"
     ]
    }
   ],
   "source": [
    "print(list(fakenews_df_filtered.loc[index1].index),'\\n',list(fakenews_df_filtered.loc[index1].text))"
   ]
  },
  {
   "cell_type": "code",
   "execution_count": 68,
   "metadata": {
    "scrolled": true
   },
   "outputs": [
    {
     "data": {
      "text/plain": [
       "['Trump rape accuser skips press conference, citing threats ‹ › GPD is our General Posting Department whereby we share posts from other sources along with general information with our readers. It is managed by our Editorial Board NATO and Turkey: Time to admit reality By GPD on November 4, 2016 By DAVID ROMANO \\nThe North Atlantic Treaty Organization (NATO) was created after World War Two to unite democratic states or Western Europe and North America against Soviet expansionism. The alliance admitted Turkey in 1952, two years after the country transitioned into a democratic electoral system of government. \\nToday, in contrast, neither the Soviet Union nor a democratic Turkey exist. Going on with the charade of NATO may, under the circumstances, do more harm than good. Russia today remains much smaller and less powerful than the Soviet empire was, and bilateral arrangements with countries looking for protection against their eastern neighbor should suffice. From the Russian point of view, a large alliance apparently arrayed against it, working hard to encircle Russia, provokes understandable concerns. The West should consider asking Russia what it would concede in return for the dissolution of the alliance. \\nIn the case of Turkey, the country’s NATO membership also increasingly makes a mockery of the alliance’s charter and places significant liabilities on the shoulders of other members. Perusing the NATO charter, one finds statements such as: \\nThe Parties to this…are determined to safeguard the freedom, common heritage and civilisation of their peoples, founded on the principles of democracy, individual liberty and the rule of law…..The Parties will contribute toward the further development of peaceful and friendly international relations by strengthening their free institutions, by bringing about a better understanding of the principles upon which these institutions are founded, and by promoting conditions of stability and well-being. \\nAlthough Turkey’s military coups in 1960, 1971 and 1980 briefly interrupted democracy there, the military made good on its promises to quickly return power to elected civilian control. Today, in contrast, it seems increasingly clear that President Erdogan will never relinquish power. His purges and complete subversion of democratic institutions and individual liberties may take decades to repair, if ever. \\nThis process began well before the failed July 15 coup in Turkey, but that event provided a pretext for taking the purges in Turkey to new heights. Under new “emergency rule” legislation, some 200,000 civil servants have been dismissed with scant evidence of wrongdoing. Around 2000 academics lost their posts, including just about every university dean – replacements for which will all be appointed directly by Mr. Erdogan. Many of the academics dismissed were only guilty of signing a petition for peace between the government and the Kurdistan Workers’ Party (PKK). \\nMr. Erdogan’s government also shut down some 170 media outlets, including a Kurdish children’s broadcaster. Remaining media, including Turkey most venerable newspaper ( Cumhuriyet ) have seen their editors and journalists arrested and imprisoned. People now face arrest and imprisonment without charge for up to 30 days, and the state can now record conversations between those arrested and their lawyers (when they finally get so see one), with the recordings then provided to prosecutors. According to Human Rights Watch, torture has also now returned to Turkish prisons, where 27 elected mayors from mostly Kurdish cities like Diyarbakir now reside. Judges and prosecutors doing anything even mildly displeasing to the ruling party have been summarily dismissed or arrested themselves, only to be replaced with more pliant sycophants (laws were also changed to allow the ruling party to appoint even High Court judges). Hundreds of generals and officers are behind bars, to the point that the Turkish air force can only operate a portion of its fighter planes. \\nYour columnist could go on, of course, but the point seems clear enough – “freedom, democracy, individual liberty and the rule of law” have withered in Turkey. What’s more, Ankara’s actions and foreign policy threaten NATO. This became abundantly clear when Turkey shot down a Russian fighter plane last year, threatening to drag the alliance into a war it did not want. Although Turkey has since reconciled with Russia, Ankara threatens or even appears poised to go to war with a number actors helping other NATO countries – Iraq, the Democratic Union Party of Syria (PYD), and even Greece, a NATO member itself (Mr. Erdogan recently fumed that the 1923 Treaty of Lausanne made a mistake in giving Greece islands off Turkey’s Aegean coast). During the July 15 attempted coup, Ankara cut off electricity to U.S. forces at Incirlik air base (where they guard nuclear weapons, among other things). Mr. Erdogan and his government suggested that the United States either condoned the coup or even had a role in it. \\nCombined with Ankara’s support for a number of Islamist groups in the region, including some fairly hard-core Jihadi outfits in Syria, these developments ring a lot of alarm bells in Brussels and Washington. Rep. Dana Rohrabacher, the Republican chair of a House subcommittee on emerging threats, expressed such concerns a few weeks ago when he stated that “Ten years ago Turkey was a solid NATO ally and a staunch opponent of radical Islam and a friend of the United States, and today that’s all in question… Erdogan is purging pro-Western people throughout his country who are in positions of influence. He himself has become more aggressive in his Islamic beliefs, and there’s reason for us to be seriously concerned.” \\nThe NATO charter lacks any provisions for expelling members, however, and such a public break is probably not in any member’s interest. The better approach would be to disband NATO and put something new together. American policy makers will protest that Washington can’t afford to lose Turkey. This ignores the fact that they have already lost the Turks to Mr. Erdogan and his ilk – they just haven’t officially left yet. \\n\\nDavid Romano has been a Rudaw columnist since 2010. He holds the Thomas G. Strong Professor of Middle East Politics at Missouri State University and is the author of numerous publications on the Kurds and the Middle East. \\nThe views expressed in this article are those of the author and do not necessarily reflect the position of Rudaw. \\nRelated Posts: No Related Posts The   GPD   50 Reads Filed under Politics  ']"
      ]
     },
     "execution_count": 68,
     "metadata": {},
     "output_type": "execute_result"
    }
   ],
   "source": [
    "list(df_fakenews.iloc[index1,5])"
   ]
  },
  {
   "cell_type": "markdown",
   "metadata": {},
   "source": [
    "## Count vectorizer and PCA, straight up "
   ]
  },
  {
   "cell_type": "code",
   "execution_count": 69,
   "metadata": {
    "collapsed": true
   },
   "outputs": [],
   "source": [
    "vectorizer = CountVectorizer(strip_accents='ascii',analyzer='word',lowercase=True,stop_words='english',min_df=18,max_df=15000)"
   ]
  },
  {
   "cell_type": "code",
   "execution_count": 70,
   "metadata": {},
   "outputs": [
    {
     "data": {
      "text/plain": [
       "CountVectorizer(analyzer='word', binary=False, decode_error='strict',\n",
       "        dtype=<class 'numpy.int64'>, encoding='utf-8', input='content',\n",
       "        lowercase=True, max_df=15000, max_features=None, min_df=18,\n",
       "        ngram_range=(1, 1), preprocessor=None, stop_words='english',\n",
       "        strip_accents='ascii', token_pattern='(?u)\\\\b\\\\w\\\\w+\\\\b',\n",
       "        tokenizer=None, vocabulary=None)"
      ]
     },
     "execution_count": 70,
     "metadata": {},
     "output_type": "execute_result"
    }
   ],
   "source": [
    "vectorizer.fit(text)"
   ]
  },
  {
   "cell_type": "code",
   "execution_count": 71,
   "metadata": {
    "collapsed": true
   },
   "outputs": [],
   "source": [
    "# print(vectorizer.get_feature_names())"
   ]
  },
  {
   "cell_type": "code",
   "execution_count": 72,
   "metadata": {},
   "outputs": [
    {
     "data": {
      "text/plain": [
       "15686"
      ]
     },
     "execution_count": 72,
     "metadata": {},
     "output_type": "execute_result"
    }
   ],
   "source": [
    "len(vectorizer.get_feature_names())"
   ]
  },
  {
   "cell_type": "code",
   "execution_count": 73,
   "metadata": {
    "collapsed": true
   },
   "outputs": [],
   "source": [
    "feat_names_dirty = vectorizer.get_feature_names()"
   ]
  },
  {
   "cell_type": "code",
   "execution_count": 74,
   "metadata": {
    "collapsed": true
   },
   "outputs": [],
   "source": [
    "regex='[\\S]*[^a-zA-Z]+?[\\S]*?'\n",
    "feat_names_clean= [s for s in feat_names_dirty if (re.findall(regex,s)==[] and len(s)>3 and len(s)<19)]\n",
    "\n",
    "feat_names_clean= list(set(feat_names_clean))"
   ]
  },
  {
   "cell_type": "markdown",
   "metadata": {},
   "source": [
    "nltk.download(\"stopwords\")"
   ]
  },
  {
   "cell_type": "code",
   "execution_count": 292,
   "metadata": {
    "collapsed": true
   },
   "outputs": [],
   "source": [
    "content_specific_stopwords = ['trump', 'clinton', 'hillary', 'election', 'people', 'said', 'president','presidential',\n",
    "                              'obama', 'campaign','donald','american', 'americans','make','dont','right','military',\n",
    "                              'government','russia','state','world','media','like','clintons','emails','time',\n",
    "                              'political','states','going','email','country','syria','year','trumps','want','comey',\n",
    "                              'know','galacticconnection','galactic','news','russian','america','investigation','republican',\n",
    "                              'years','vote','united','think','party','investigations','house','voters','democratic',\n",
    "                              'information','public','policy','support','told','good','national', 'foreign', 'according',\n",
    "                              'washington', 'need', 'percent', 'putin', 'life', 'fact', 'work', 'times', 'change','come', 'left',\n",
    "                              'real','voting','money', 'free', 'believe', 'called', 'report', 'thats', 'today',\n",
    "                              'voting', 'long', 'federal', 'candidate', 'really', 'case', 'department', 'democrats', 'things', 'million',\n",
    "                              'january','february','march','april','may','june','july','august','september','october','november','december',\n",
    "                              'post', 'anti', 'says','point','days','video','used', 'help', 'look','including','great',\n",
    "                              'white', 'power', 'police', 'black', 'women', 'security', 'syrian','administration',\n",
    "                              'article','forces','group','human','order','global','control','evidence','office','city']\n",
    "                                #\n",
    "STOPLIST = set(stopwords.words('english') + [\"n't\", \"'s\", \"'m\", \"ca\",\"’s\",\"'ve\"] + list(ENGLISH_STOP_WORDS)+content_specific_stopwords)\n",
    "feat_names_clean = [vocab_wd for vocab_wd in feat_names_clean if vocab_wd not in STOPLIST]"
   ]
  },
  {
   "cell_type": "code",
   "execution_count": 116,
   "metadata": {},
   "outputs": [
    {
     "data": {
      "text/plain": [
       "[]"
      ]
     },
     "execution_count": 116,
     "metadata": {},
     "output_type": "execute_result"
    }
   ],
   "source": [
    "[w for w in feat_names_clean if len(w)>=19]"
   ]
  },
  {
   "cell_type": "code",
   "execution_count": 117,
   "metadata": {},
   "outputs": [
    {
     "data": {
      "text/plain": [
       "Counter({4: 1214,\n",
       "         5: 1763,\n",
       "         6: 2207,\n",
       "         7: 2435,\n",
       "         8: 2202,\n",
       "         9: 1802,\n",
       "         10: 1330,\n",
       "         11: 835,\n",
       "         12: 484,\n",
       "         13: 231,\n",
       "         14: 107,\n",
       "         15: 35,\n",
       "         16: 20,\n",
       "         17: 8,\n",
       "         18: 2})"
      ]
     },
     "execution_count": 117,
     "metadata": {},
     "output_type": "execute_result"
    }
   ],
   "source": [
    "Counter([len(i) for i in feat_names_clean])"
   ]
  },
  {
   "cell_type": "code",
   "execution_count": 118,
   "metadata": {
    "collapsed": true
   },
   "outputs": [],
   "source": [
    "# print(feat_names_clean)"
   ]
  },
  {
   "cell_type": "code",
   "execution_count": 119,
   "metadata": {},
   "outputs": [
    {
     "data": {
      "text/plain": [
       "14675"
      ]
     },
     "execution_count": 119,
     "metadata": {},
     "output_type": "execute_result"
    }
   ],
   "source": [
    "len(feat_names_clean)"
   ]
  },
  {
   "cell_type": "code",
   "execution_count": 120,
   "metadata": {
    "collapsed": true
   },
   "outputs": [],
   "source": [
    "vectorizer = CountVectorizer(vocabulary=feat_names_clean)"
   ]
  },
  {
   "cell_type": "code",
   "execution_count": 121,
   "metadata": {},
   "outputs": [
    {
     "data": {
      "text/plain": [
       "9865"
      ]
     },
     "execution_count": 121,
     "metadata": {},
     "output_type": "execute_result"
    }
   ],
   "source": [
    "len(text)"
   ]
  },
  {
   "cell_type": "code",
   "execution_count": 122,
   "metadata": {},
   "outputs": [
    {
     "data": {
      "text/plain": [
       "CountVectorizer(analyzer='word', binary=False, decode_error='strict',\n",
       "        dtype=<class 'numpy.int64'>, encoding='utf-8', input='content',\n",
       "        lowercase=True, max_df=1.0, max_features=None, min_df=1,\n",
       "        ngram_range=(1, 1), preprocessor=None, stop_words=None,\n",
       "        strip_accents=None, token_pattern='(?u)\\\\b\\\\w\\\\w+\\\\b',\n",
       "        tokenizer=None,\n",
       "        vocabulary=['aggressions', 'various', 'feminism', 'fred', 'tries', 'twin', 'harmony', 'grievances', 'unspoken', 'crime', 'weaver', 'vicinity', 'discounted', 'assigns', 'bolstered', 'cannon', 'conspiracies', 'apology', 'farmland', 'shape', 'corrosive', 'impacting', 'proteins', 'lightning', 'consultan...', 'patterns', 'stretching', 'minors', 'permanently', 'toxins', 'millennium', 'instincts', 'todays'])"
      ]
     },
     "execution_count": 122,
     "metadata": {},
     "output_type": "execute_result"
    }
   ],
   "source": [
    "vectorizer.fit(text)"
   ]
  },
  {
   "cell_type": "code",
   "execution_count": 123,
   "metadata": {},
   "outputs": [
    {
     "name": "stdout",
     "output_type": "stream",
     "text": [
      "['aggressions', 'various', 'feminism', 'fred', 'tries', 'twin', 'harmony', 'grievances', 'unspoken', 'crime', 'weaver', 'vicinity', 'discounted', 'assigns', 'bolstered', 'cannon', 'conspiracies', 'apology', 'farmland', 'shape', 'corrosive', 'impacting', 'proteins', 'lightning', 'consultants', 'dotcom', 'replied', 'yard', 'nominees', 'monstrous', 'enables', 'hundreds', 'recognized', 'incidentally', 'strikes', 'volunteered', 'activated', 'occasionally', 'subordinate', 'facial', 'warner', 'possession', 'expecting', 'abdullah', 'romney', 'traits', 'scriptures', 'suffer', 'vegetables', 'prowess', 'enormous', 'perpetuated', 'trickle', 'demographic', 'virus', 'personally', 'albright', 'created', 'caption', 'geographic', 'beautiful', 'bernish', 'blessings', 'picks', 'polluted', 'careless', 'master', 'vigorous', 'masculinity', 'papers', 'temperatures', 'impressive', 'noses', 'pedophiles', 'indication', 'occurred', 'worldly', 'enduring', 'revenue', 'conviction', 'battlefield', 'gunfire', 'longer', 'awoke', 'announced', 'collectivism', 'reagans', 'cereal', 'choice', 'lifestyle', 'straight', 'inflection', 'quarterfinals', 'begs', 'sleeve', 'titles', 'bulls', 'joke', 'worlds', 'physically', 'hygiene', 'foxnews', 'coffin', 'forecasting', 'clothing', 'disable', 'unequivocally', 'losses', 'vessel', 'vincent', 'constitution', 'conventional', 'revisit', 'stern', 'eisenhower', 'shipping', 'paradise', 'muslims', 'indispensable', 'superb', 'kenya', 'claimed', 'heard', 'interim', 'cloud', 'fever', 'alike', 'asinine', 'outlets', 'addiction', 'freed', 'interventions', 'methane', 'reddit', 'sided', 'hedge', 'settling', 'patrol', 'network', 'coms', 'suppose', 'differ', 'engineer', 'environment', 'passionate', 'apogee', 'recognizes', 'role', 'bonuses', 'queer', 'occur', 'acquire', 'contradicted', 'james', 'gingrich', 'freaking', 'sullivan', 'peek', 'undisclosed', 'forgiven', 'laureate', 'speculating', 'bloodshed', 'cloak', 'overwhelm', 'separately', 'justin', 'stubborn', 'empowerment', 'saker', 'tons', 'trace', 'idiotic', 'joel', 'communicate', 'grammar', 'klein', 'font', 'challenger', 'bitcoin', 'reliably', 'seth', 'successor', 'assess', 'nimoy', 'evaluations', 'distress', 'cute', 'ranchers', 'posted', 'consist', 'mistress', 'sovereign', 'aggressiveness', 'quietly', 'spikes', 'tired', 'chopped', 'claire', 'brave', 'lifeline', 'supplement', 'allows', 'forged', 'schuttler', 'boeing', 'dutch', 'uneducated', 'fbis', 'prey', 'bleak', 'police', 'collected', 'stalling', 'ordeal', 'stark', 'hopeful', 'unification', 'concluding', 'driver', 'recruiting', 'despondent', 'viewpoints', 'economists', 'bolster', 'resolving', 'scarcely', 'tactics', 'reward', 'islamists', 'gentlemen', 'photo', 'treatments', 'producer', 'gateway', 'deferred', 'amnesty', 'mask', 'noose', 'succeed', 'bring', 'preferably', 'selective', 'vocal', 'sharif', 'sponsorship', 'teen', 'token', 'illustration', 'kidnapped', 'peacekeeping', 'smiled', 'worsening', 'decision', 'kinds', 'awakening', 'charm', 'emanates', 'november', 'grouping', 'harvard', 'heading', 'convenience', 'legitimate', 'closure', 'sponsors', 'pointing', 'neural', 'disappointed', 'clock', 'lock', 'quell', 'reducing', 'fanatical', 'wound', 'asian', 'theatre', 'girlfriend', 'thank', 'prohibits', 'broken', 'capability', 'circumcisions', 'abolished', 'advises', 'terminated', 'toxicity', 'traditionally', 'preemptive', 'clout', 'factions', 'pistols', 'stem', 'tourist', 'relocate', 'cargo', 'continuity', 'musicians', 'counseling', 'coup', 'fiasco', 'qualities', 'drops', 'acts', 'habits', 'flashpoint', 'examiner', 'derail', 'immortal', 'lowest', 'miscarriage', 'heads', 'infinitely', 'devised', 'crazed', 'ammo', 'dental', 'terrestrial', 'weighed', 'effect', 'theorists', 'aristocracy', 'prevalent', 'irritation', 'forward', 'behaviors', 'analytical', 'cents', 'sands', 'diego', 'blatantly', 'conspiracy', 'wwii', 'expressed', 'invasive', 'collectively', 'inbox', 'stones', 'flies', 'lets', 'salt', 'negotiator', 'encourage', 'blew', 'budget', 'ingredient', 'ruthlessly', 'typically', 'reverse', 'radical', 'legislators', 'hidden', 'usage', 'abedin', 'asked', 'walker', 'bigoted', 'illustrated', 'rigged', 'predict', 'surge', 'demonstrates', 'developer', 'endless', 'berman', 'eighteenth', 'quipped', 'orwells', 'scarcity', 'reflect', 'residency', 'framework', 'tribal', 'overcome', 'retrieved', 'cease', 'stain', 'tensions', 'occurrence', 'calorie', 'libertarian', 'attacker', 'keith', 'bubble', 'shotguns', 'seventeen', 'performances', 'holds', 'prosper', 'cowardly', 'wisely', 'contributes', 'bias', 'trillion', 'pursued', 'firmly', 'reads', 'delete', 'fabric', 'venue', 'misery', 'innate', 'hotter', 'lightly', 'therapeutic', 'settlement', 'farmers', 'legend', 'instructions', 'reputation', 'salty', 'meteor', 'neighbours', 'attach', 'brags', 'collapse', 'gains', 'story', 'wings', 'donalds', 'secondly', 'anybody', 'counterpunch', 'carelessly', 'depict', 'rendition', 'companion', 'tweeted', 'tree', 'account', 'struggling', 'banker', 'institutional', 'efficiency', 'unresponsive', 'bernardino', 'lust', 'thrive', 'matched', 'merge', 'demand', 'rouge', 'rubbish', 'natives', 'neighbors', 'totally', 'following', 'eloquent', 'expansion', 'voting', 'scrap', 'genetic', 'improvised', 'latino', 'meth', 'grabbing', 'sanctioned', 'drastically', 'systems', 'consisted', 'untrue', 'liberate', 'entail', 'aerial', 'perfectly', 'valley', 'confederate', 'thirteen', 'mattered', 'statistics', 'uttered', 'duke', 'everyday', 'thoughts', 'gops', 'imports', 'katy', 'majorities', 'demanding', 'pieczenik', 'overseen', 'explicit', 'avoidance', 'enlistment', 'enlighten', 'fragile', 'visibly', 'minor', 'tomatoes', 'fell', 'oliver', 'country', 'funneled', 'hesitated', 'officially', 'confrontation', 'install', 'queens', 'slick', 'erroneously', 'present', 'wendy', 'anticipated', 'honoring', 'cleveland', 'ambassadors', 'charities', 'conservation', 'extremist', 'withdraw', 'goats', 'black', 'personality', 'https', 'stacked', 'express', 'occurs', 'michigan', 'arise', 'dogma', 'sleepy', 'traces', 'elizabeth', 'groped', 'disproportionate', 'easter', 'humiliating', 'fronts', 'oman', 'retire', 'enemies', 'sing', 'invention', 'bigot', 'fracking', 'jonathan', 'whores', 'routed', 'prepared', 'fate', 'murderous', 'racially', 'rodrigo', 'bleach', 'siberian', 'somewhat', 'synagogue', 'nafta', 'spokesperson', 'feminist', 'marketed', 'especially', 'unleashed', 'unwarranted', 'asserted', 'tony', 'ipad', 'kosovo', 'tuition', 'moines', 'formal', 'glenn', 'killer', 'chasing', 'cultivation', 'mythical', 'servant', 'sham', 'copies', 'unsurprising', 'involve', 'titled', 'northwest', 'onions', 'displayed', 'aside', 'casting', 'astronaut', 'convened', 'hater', 'lauded', 'condemn', 'informing', 'powerless', 'spiegel', 'taught', 'yemen', 'baggage', 'quicker', 'exposures', 'walmart', 'bonanza', 'anti', 'institutionalized', 'philadelphia', 'coalitions', 'emptied', 'hair', 'emotionally', 'protections', 'reduce', 'delusion', 'visibility', 'tackled', 'pyramids', 'featured', 'residents', 'indulging', 'celebrating', 'idaho', 'stir', 'season', 'entrepreneurial', 'trade', 'shoigu', 'sleep', 'ethos', 'separating', 'aging', 'harmful', 'series', 'write', 'silly', 'agree', 'beaten', 'intimidating', 'applying', 'anticipation', 'rotten', 'unify', 'unsuccessful', 'ordered', 'denominator', 'quotes', 'singers', 'infested', 'animated', 'swore', 'betraying', 'display', 'parts', 'covering', 'frontlines', 'shore', 'leftwing', 'touting', 'begin', 'museum', 'alter', 'secured', 'sister', 'individually', 'subsidy', 'licensing', 'candle', 'renaissance', 'respect', 'steep', 'common', 'ohio', 'smells', 'halls', 'hashd', 'latters', 'disgraceful', 'conference', 'loathe', 'terminate', 'stirring', 'stunned', 'dilemma', 'crazier', 'salvador', 'wiped', 'syrup', 'warrants', 'pervasive', 'republished', 'major', 'virtual', 'deploy', 'thanking', 'neoconservative', 'september', 'cleaner', 'michaels', 'carrier', 'partners', 'reserved', 'experiment', 'consequence', 'onlookers', 'developing', 'healthy', 'executive', 'central', 'belly', 'proverbial', 'aggressor', 'cement', 'bets', 'angrily', 'exempt', 'mount', 'fresh', 'careful', 'rabid', 'spam', 'cerebral', 'commissioner', 'flipping', 'imbalance', 'disclosures', 'politics', 'embrace', 'preserving', 'purpose', 'stars', 'answering', 'trained', 'lawrence', 'using', 'villages', 'despicable', 'nightmare', 'canonize', 'deed', 'users', 'quest', 'dictatorship', 'congratulations', 'overly', 'spine', 'focuses', 'thesis', 'angered', 'modeling', 'tasked', 'assassinated', 'eliminating', 'citizen', 'poured', 'education', 'sexually', 'sorely', 'undergo', 'outweighs', 'condescending', 'dates', 'consuming', 'reforming', 'strengthen', 'negligence', 'authorizes', 'african', 'referencing', 'flight', 'dislike', 'giuliani', 'obligation', 'authorized', 'governors', 'austrian', 'labor', 'gods', 'letting', 'predictions', 'mortgages', 'seekers', 'lighting', 'scenes', 'tablets', 'plug', 'changed', 'incapable', 'vaguely', 'sequester', 'hughes', 'commenters', 'vetted', 'tonnes', 'swedish', 'conscience', 'historian', 'telegraph', 'curve', 'premises', 'check', 'saga', 'traveled', 'eminent', 'angles', 'garden', 'disseminated', 'mention', 'hello', 'hemisphere', 'associate', 'pathways', 'monarchy', 'copied', 'pence', 'tape', 'seriously', 'declared', 'invalid', 'rift', 'fills', 'termination', 'clark', 'pennies', 'works', 'minus', 'concrete', 'fraud', 'weekend', 'toast', 'harvey', 'confirmed', 'case', 'insurgent', 'campaigns', 'complacent', 'fascist', 'ninth', 'rahm', 'treatment', 'creates', 'unnatural', 'disclosing', 'evident', 'noam', 'preaching', 'laundering', 'neutralize', 'tenacity', 'cartoonists', 'corruption', 'pamela', 'switches', 'casey', 'ultimate', 'shelter', 'camps', 'grades', 'mandela', 'largest', 'truths', 'unspeakable', 'complained', 'programs', 'levy', 'smoking', 'announce', 'encounters', 'antarctic', 'sized', 'unheard', 'solicited', 'mortality', 'pertains', 'unsurprisingly', 'handful', 'households', 'patrice', 'sisters', 'assailants', 'fueled', 'fighter', 'disrespect', 'provoking', 'mosul', 'filmmakers', 'smooth', 'reliable', 'panel', 'relations', 'pilots', 'troubles', 'averaged', 'rigorous', 'matt', 'operatives', 'nice', 'directly', 'remembered', 'introduction', 'patrick', 'imagine', 'proxies', 'overrun', 'countries', 'defiance', 'humas', 'daughters', 'rebuilt', 'interested', 'tenure', 'podesta', 'dire', 'capital', 'timothy', 'arrests', 'bloomberg', 'lieberman', 'liabilities', 'task', 'shiites', 'discourage', 'libraries', 'escalate', 'chronically', 'inherit', 'standard', 'rigging', 'anonymous', 'mart', 'resonated', 'thug', 'weather', 'likelihood', 'mongering', 'program', 'bipartisan', 'grind', 'inflammatory', 'lever', 'action', 'contamination', 'barbara', 'erotic', 'statues', 'guidelines', 'fined', 'carved', 'revealed', 'carter', 'perpetuating', 'intolerance', 'bounced', 'rests', 'armageddon', 'reconcile', 'soak', 'inspector', 'secretly', 'musician', 'emirates', 'january', 'profiling', 'employs', 'stability', 'excerpts', 'derived', 'educate', 'adept', 'started', 'initial', 'liquid', 'dumb', 'hotline', 'ruling', 'homemade', 'pains', 'watergate', 'weights', 'proponent', 'lesbian', 'shouldnt', 'reference', 'laura', 'tenet', 'feast', 'wrist', 'anticipating', 'automated', 'distorted', 'cyber', 'findings', 'infuriated', 'negative', 'mitchell', 'online', 'encroaching', 'ranger', 'wayne', 'protestors', 'sochi', 'sixteen', 'alfred', 'tolerate', 'israels', 'salvage', 'graphs', 'october', 'orderly', 'roadblock', 'spun', 'bernstein', 'learned', 'whilst', 'recruitment', 'daisy', 'orange', 'apprehension', 'fukushima', 'mercy', 'bride', 'extracted', 'traded', 'shaken', 'voice', 'brokers', 'guerrilla', 'needle', 'inter', 'antidote', 'passages', 'angels', 'beat', 'hostility', 'trading', 'upcoming', 'confuse', 'parked', 'uniquely', 'indefinitely', 'likened', 'establishing', 'pawns', 'ryans', 'lost', 'relocation', 'labels', 'seizure', 'priceless', 'assorted', 'kidneys', 'factual', 'outlines', 'statute', 'soil', 'stellar', 'polite', 'spoke', 'epidemic', 'monsantos', 'overriding', 'guarantees', 'prepare', 'havoc', 'broader', 'normally', 'yugoslavia', 'accuracy', 'ticking', 'recruits', 'cities', 'militarily', 'affirmed', 'draw', 'drunken', 'casualties', 'nashville', 'composition', 'pays', 'portray', 'spans', 'diffuse', 'enablers', 'disorders', 'floridas', 'unelected', 'gather', 'plays', 'spectacular', 'returning', 'scattered', 'warming', 'visionary', 'fond', 'lrad', 'myriad', 'basic', 'opting', 'greatly', 'missile', 'term', 'longevity', 'bourgeois', 'fits', 'member', 'served', 'invitation', 'litigation', 'technically', 'bush', 'imported', 'rival', 'wide', 'blue', 'abandoned', 'monkey', 'remainder', 'executives', 'dakota', 'networks', 'quite', 'tireless', 'nominate', 'victors', 'perilous', 'clearing', 'simpson', 'alerts', 'certification', 'pools', 'slowed', 'counting', 'executes', 'defies', 'achieve', 'smear', 'aviv', 'grasp', 'maneuvering', 'break', 'novelist', 'robotic', 'baked', 'sacrificing', 'junk', 'facing', 'flaws', 'fork', 'politician', 'instigated', 'pakistani', 'alien', 'protectionist', 'apologize', 'conveniently', 'inhibit', 'banning', 'materialize', 'portrayed', 'laced', 'impeachment', 'occupying', 'pardon', 'synchronize', 'emotions', 'fatal', 'standards', 'wikileaks', 'talked', 'realized', 'ashes', 'altered', 'indicate', 'revolution', 'interpretations', 'demeanor', 'considered', 'corporation', 'hopes', 'died', 'passenger', 'antiquated', 'shred', 'parallel', 'waxman', 'neutralizing', 'amid', 'subpoenas', 'outreach', 'michele', 'fading', 'lease', 'feels', 'remnant', 'objective', 'distractions', 'help', 'nazi', 'politely', 'brock', 'graphics', 'jesuit', 'modeled', 'caliber', 'motorcycle', 'expense', 'bind', 'guinea', 'roads', 'observe', 'bolton', 'ahmad', 'stocks', 'surplus', 'weekends', 'impotent', 'plane', 'cynical', 'fulfillment', 'systematic', 'officer', 'britons', 'supporting', 'clay', 'outrageous', 'applicable', 'appointee', 'blanket', 'caricature', 'closer', 'genic', 'cesspool', 'exact', 'dude', 'female', 'recurring', 'discussion', 'catherine', 'revived', 'recordings', 'payer', 'guaranteeing', 'sordid', 'vessels', 'units', 'revoked', 'failing', 'overtures', 'dividing', 'tells', 'confusion', 'deter', 'logistic', 'jose', 'variables', 'acoustic', 'interrogation', 'jails', 'pause', 'circling', 'tenth', 'chairmen', 'massacred', 'senators', 'admin', 'vagina', 'fury', 'influenced', 'acres', 'deployments', 'sounds', 'athens', 'protecting', 'visitors', 'marina', 'besieged', 'mcgovern', 'goodbye', 'reminds', 'asset', 'california', 'offered', 'obscured', 'instinctively', 'realdonaldtrump', 'advertisement', 'detailed', 'dangers', 'slander', 'appealing', 'mississippi', 'worsen', 'regulation', 'shortcomings', 'cola', 'shelters', 'trap', 'cheers', 'mexico', 'report', 'holiday', 'ruined', 'inward', 'rhetorical', 'remnants', 'injunction', 'pharma', 'ngos', 'pollutants', 'eternity', 'sentencing', 'teams', 'believing', 'quoted', 'settings', 'selecting', 'consultation', 'texans', 'rally', 'reached', 'possibilities', 'epicenter', 'straightforward', 'registered', 'reputations', 'coincidentally', 'encourages', 'flucker', 'exports', 'exchanged', 'details', 'abbas', 'probation', 'beheaded', 'orders', 'ruled', 'ceased', 'waking', 'danger', 'provided', 'millionaire', 'isolationist', 'threatening', 'concocted', 'exploring', 'premiums', 'dancing', 'entrepreneurs', 'planetoid', 'indoctrination', 'gridlock', 'tempted', 'psychotic', 'expectations', 'powell', 'enrich', 'colony', 'carcinogenic', 'explosions', 'civilized', 'perjury', 'boxes', 'uranium', 'kleptocracy', 'testimony', 'conservatism', 'safely', 'briefly', 'ocean', 'enforce', 'mechanisms', 'viewers', 'removing', 'vulgar', 'nefarious', 'adversaries', 'circuit', 'argue', 'crossed', 'cyprus', 'exposure', 'economically', 'damning', 'waiting', 'spreading', 'cancerous', 'soda', 'frightening', 'starter', 'awaited', 'excesses', 'upload', 'adversely', 'overhead', 'russians', 'nuland', 'environmentalists', 'gleefully', 'holders', 'activation', 'structure', 'checking', 'disinterest', 'mechanical', 'correlation', 'monitors', 'forefront', 'prototype', 'assets', 'mixed', 'google', 'elimination', 'lieutenant', 'mistaken', 'rust', 'obstacle', 'basketball', 'pushed', 'spiraling', 'horizons', 'locals', 'mails', 'neocon', 'particle', 'facility', 'persist', 'pravda', 'sunday', 'belong', 'selectively', 'appropriately', 'frauds', 'academic', 'sight', 'federal', 'parenthood', 'hole', 'hegemon', 'link', 'helmets', 'impartiality', 'mistakes', 'impropriety', 'deem', 'meetings', 'shapes', 'dangerously', 'free', 'department', 'hoover', 'innumerable', 'implement', 'seasonal', 'drill', 'strained', 'outlet', 'theres', 'welfare', 'contradictions', 'jihadis', 'officers', 'importantly', 'deceit', 'detectives', 'afflicted', 'start', 'changes', 'guardians', 'traditions', 'cling', 'forefathers', 'provides', 'inches', 'didnt', 'bombs', 'outburst', 'answer', 'herbal', 'refrain', 'opinions', 'attitude', 'counselor', 'sneak', 'flip', 'diabetes', 'radicals', 'sunset', 'saxon', 'posting', 'bullets', 'sending', 'drugs', 'unmistakable', 'happiness', 'holly', 'storms', 'evidence', 'dustbin', 'investigations', 'rebellious', 'vengeance', 'fleet', 'flashes', 'consulted', 'staffed', 'bosses', 'biggest', 'historic', 'exclusion', 'comfort', 'development', 'informal', 'landing', 'charges', 'guevara', 'exception', 'women', 'ontario', 'disliked', 'minister', 'surrounded', 'eaters', 'reporters', 'sympathizers', 'reagan', 'submarine', 'predator', 'terribly', 'commanders', 'realignment', 'illicit', 'beach', 'flying', 'diameter', 'rounds', 'observation', 'surprises', 'southern', 'undertake', 'announces', 'proposed', 'designer', 'summers', 'spells', 'blow', 'brad', 'cattle', 'owning', 'exchange', 'chile', 'inevitably', 'assume', 'jailing', 'ouster', 'bombers', 'entertaining', 'literal', 'tougher', 'remarks', 'childrens', 'peshmerga', 'struggles', 'overlooked', 'trespass', 'arizona', 'aclu', 'tremor', 'motions', 'working', 'likely', 'playground', 'brushed', 'bust', 'weiner', 'extensively', 'campus', 'womb', 'perverted', 'australian', 'sony', 'marathon', 'triumphant', 'weighted', 'looted', 'easier', 'flares', 'listed', 'wills', 'identical', 'odor', 'laughable', 'respiratory', 'semites', 'parkinsons', 'vice', 'amazon', 'unchallenged', 'trillions', 'espoused', 'filthy', 'inauguration', 'ivory', 'facebook', 'chapel', 'players', 'julia', 'trauma', 'misrepresented', 'aaron', 'striking', 'emerge', 'mnuchin', 'crimean', 'sachs', 'copy', 'planning', 'stoning', 'remark', 'position', 'point', 'build', 'passport', 'inhabit', 'proxy', 'rates', 'repeat', 'strive', 'questioning', 'biased', 'bleachbit', 'prevent', 'fully', 'greatness', 'nurses', 'honour', 'medvedev', 'upper', 'grenades', 'frantically', 'katrina', 'conflict', 'replacement', 'verifying', 'harder', 'exclusively', 'firepower', 'argument', 'karl', 'mantle', 'turner', 'guild', 'wildlife', 'anchor', 'abilities', 'kindle', 'accomplishing', 'perestroika', 'supported', 'counties', 'triggering', 'slurs', 'split', 'unraveling', 'cultures', 'shake', 'resistance', 'wandering', 'blows', 'loses', 'gladly', 'unhealthy', 'fascism', 'newton', 'curiosity', 'backward', 'oceti', 'bathroom', 'daylight', 'absentee', 'hack', 'interconnected', 'opponent', 'centers', 'housed', 'donate', 'greetings', 'processed', 'renewed', 'measles', 'rant', 'announcement', 'pills', 'follows', 'plaintiffs', 'occasion', 'intervening', 'meltdown', 'qataris', 'lawsuit', 'princes', 'animosity', 'editorial', 'sheriffs', 'antics', 'echoing', 'ecuadorian', 'unravel', 'produce', 'committing', 'anniversary', 'longest', 'silver', 'longtime', 'bennett', 'bullied', 'carpet', 'weakness', 'detriment', 'nasdaq', 'clear', 'engagements', 'play', 'cairo', 'blindness', 'fiber', 'final', 'indisputable', 'artifacts', 'cover', 'filth', 'explode', 'abrupt', 'succeeds', 'definitive', 'destabilize', 'bound', 'stumbling', 'supplied', 'instinct', 'southwestern', 'ceases', 'critics', 'runner', 'sausage', 'convention', 'minds', 'wired', 'armys', 'fodder', 'reprinted', 'skeptics', 'violates', 'shameless', 'continuum', 'amendment', 'wealth', 'conducts', 'marcus', 'rapper', 'brighter', 'debit', 'highlight', 'covert', 'removed', 'medic', 'volunteer', 'fucked', 'ended', 'loyalists', 'aegis', 'disguise', 'persisted', 'disappears', 'young', 'item', 'efficient', 'extremism', 'ministers', 'masks', 'denver', 'subscription', 'anticipates', 'milestone', 'brains', 'deteriorating', 'emotional', 'funding', 'researched', 'transit', 'courses', 'peasants', 'nicknamed', 'liberty', 'slaughter', 'corrupted', 'immensely', 'killing', 'tunisia', 'extremes', 'qatari', 'entries', 'fathers', 'apart', 'nebulous', 'drink', 'logical', 'dojs', 'homestead', 'paints', 'resilience', 'sadly', 'coal', 'overlap', 'khan', 'pander', 'recounted', 'deliberations', 'prophecy', 'pleaded', 'twentieth', 'fullest', 'delicious', 'stigma', 'liaison', 'memos', 'houses', 'defenseless', 'raped', 'surrounding', 'chappaqua', 'vulnerabilities', 'pluto', 'mode', 'aint', 'exemplified', 'destroyer', 'analyses', 'disperse', 'fibers', 'multitude', 'ships', 'reasons', 'scholar', 'nerd', 'planet', 'staffer', 'singer', 'authorize', 'inept', 'irresponsible', 'religions', 'spraying', 'thankfully', 'concluded', 'debut', 'soap', 'custody', 'harm', 'mold', 'colossal', 'dncs', 'specific', 'links', 'sender', 'careers', 'dick', 'scores', 'products', 'salad', 'gear', 'predicated', 'syrmopoulos', 'dreamer', 'commented', 'institutions', 'casual', 'reckoned', 'dunford', 'effective', 'surprisingly', 'captions', 'deepen', 'invisible', 'minutes', 'daughter', 'heal', 'strategies', 'cancers', 'pole', 'gearing', 'placed', 'improve', 'grandparents', 'principles', 'aspiring', 'proclaiming', 'electronics', 'deranged', 'plagued', 'purchased', 'rampant', 'prosecute', 'telling', 'slippery', 'beneficial', 'offgridoutpost', 'friction', 'kenyan', 'blaze', 'transport', 'practiced', 'fans', 'ancestors', 'exemptions', 'bigfoot', 'cowboy', 'unprofessional', 'royalty', 'casino', 'respectable', 'sanjiv', 'stalled', 'form', 'nail', 'adjacent', 'turned', 'bandwagon', 'contributor', 'distracted', 'coconut', 'madame', 'buddhism', 'hardcore', 'sickness', 'revealing', 'balkans', 'comparing', 'caveat', 'additionally', 'book', 'originate', 'testified', 'manifestation', 'originated', 'highlights', 'devices', 'combatants', 'wisconsin', 'pathway', 'invade', 'dealers', 'bailouts', 'manchester', 'choosing', 'discrepancies', 'infantry', 'permission', 'compassionate', 'divorce', 'kidnapping', 'oblivious', 'actuality', 'cooler', 'wary', 'renzi', 'lifting', 'crowd', 'entry', 'obsolete', 'peers', 'package', 'conquer', 'pokemon', 'globalist', 'bragged', 'cave', 'ebola', 'smokescreen', 'courts', 'belgian', 'overseeing', 'criminalize', 'systemic', 'quebec', 'harper', 'blaming', 'cheered', 'pandering', 'repairing', 'rigid', 'proposal', 'marginalized', 'assessments', 'supportive', 'composite', 'rockets', 'rake', 'alcoholic', 'migrated', 'unfolded', 'spread', 'seminars', 'fascists', 'classmates', 'mccabe', 'todd', 'healthiest', 'mocking', 'stressing', 'narrative', 'puppet', 'mixing', 'asking', 'orwell', 'triple', 'reveling', 'reaffirmed', 'olympics', 'understandable', 'civic', 'interventionist', 'certified', 'murphy', 'gone', 'introducing', 'spain', 'enzymes', 'handing', 'john', 'thinks', 'baraka', 'mentioned', 'duopoly', 'view', 'foundational', 'pressured', 'asthma', 'growth', 'sean', 'pseudonym', 'sprawling', 'wests', 'pacific', 'enter', 'bewildering', 'rare', 'twitter', 'residence', 'crashed', 'radiation', 'notified', 'difficulty', 'formations', 'insiders', 'disturbing', 'cartwright', 'undemocratic', 'contradict', 'memo', 'surroundings', 'issued', 'triumph', 'prince', 'melting', 'attracting', 'admittedly', 'calais', 'negotiation', 'french', 'bankruptcy', 'valdai', 'escapades', 'essentially', 'interventionists', 'reproductive', 'punished', 'sleeping', 'conclusion', 'disparate', 'maduro', 'partiers', 'faces', 'nexus', 'potatoes', 'root', 'gulf', 'tidal', 'calculate', 'protective', 'unearthed', 'debating', 'drew', 'blair', 'suppliers', 'australia', 'thursdays', 'deficiencies', 'fortunate', 'fascistic', 'ratings', 'equates', 'colors', 'come', 'reunited', 'mikhail', 'essay', 'considerably', 'mysterious', 'perpetual', 'pleasing', 'couples', 'prohibition', 'components', 'divides', 'doctor', 'muscular', 'batteries', 'garage', 'preferences', 'coin', 'pots', 'slave', 'circumstance', 'streets', 'aimed', 'arrival', 'parrot', 'publishers', 'today', 'filtered', 'hands', 'subservient', 'dispatch', 'exploitation', 'observed', 'guests', 'satanist', 'seemingly', 'angry', 'prepping', 'declare', 'original', 'moderation', 'tapper', 'bombed', 'bake', 'guessing', 'landscape', 'hoax', 'mistrust', 'frequent', 'tailored', 'gerald', 'sanity', 'money', 'stamps', 'ignite', 'incarcerated', 'plunge', 'awful', 'cliche', 'bloom', 'lawmaker', 'mayor', 'argentina', 'nerves', 'rethink', 'dozens', 'parole', 'letters', 'donor', 'declaration', 'merging', 'marching', 'announcing', 'opens', 'immoral', 'contrarian', 'cincinnati', 'awarded', 'await', 'bleeding', 'transmitting', 'lobbied', 'nightmares', 'marxism', 'countdown', 'suspension', 'cavalry', 'authored', 'milo', 'outpost', 'quiet', 'illiterate', 'dominated', 'posturing', 'dems', 'airport', 'altogether', 'craziest', 'fragmented', 'exposes', 'costly', 'snapshot', 'lunches', 'specter', 'carnegie', 'insect', 'locally', 'deutsche', 'makes', 'equal', 'allegedly', 'smoked', 'senseless', 'combing', 'whispers', 'persons', 'flag', 'random', 'plate', 'authorities', 'mother', 'nation', 'obscure', 'shrouded', 'vain', 'curtailed', 'afar', 'taxpayers', 'counsel', 'dissolution', 'palatable', 'heavens', 'distinctions', 'purports', 'rushed', 'winter', 'irredeemable', 'devastated', 'subsequently', 'gassed', 'national', 'branded', 'payments', 'embarrassing', 'hide', 'accounts', 'indiana', 'loudly', 'syria', 'bubbles', 'overtime', 'edward', 'picture', 'anthem', 'indictments', 'alluded', 'bonus', 'roughly', 'jihadism', 'lens', 'mountains', 'competent', 'complement', 'controversial', 'required', 'intend', 'captivity', 'trash', 'yorker', 'statement', 'honest', 'armor', 'camp', 'bodily', 'impression', 'johnny', 'quds', 'therapist', 'affluent', 'brilliantly', 'slogans', 'raised', 'table', 'collateral', 'assads', 'flocked', 'infiltration', 'reprint', 'displeasure', 'inefficient', 'cuba', 'translate', 'year', 'restrain', 'inclusion', 'libyan', 'secure', 'insisting', 'scam', 'nurtured', 'cadre', 'endeavor', 'novel', 'enforcements', 'renounce', 'exodus', 'hassan', 'insure', 'rioters', 'sheeple', 'donations', 'awaiting', 'netanyahu', 'porno', 'prevalence', 'reigns', 'belt', 'seven', 'terrain', 'unfettered', 'sounding', 'mindset', 'affinity', 'complaint', 'misused', 'entitlement', 'frankfurt', 'girl', 'greatest', 'immediately', 'player', 'airlines', 'stick', 'booker', 'wildfire', 'wellbeing', 'converting', 'successes', 'enrollment', 'transnational', 'blowback', 'fled', 'contracted', 'industrialized', 'drying', 'multicultural', 'mundane', 'enrolled', 'protege', 'provide', 'tissue', 'aunt', 'reluctant', 'privately', 'forest', 'sarcasm', 'bright', 'resembles', 'beverages', 'attends', 'taylor', 'bacterial', 'idol', 'portfolio', 'shouts', 'frames', 'lane', 'marine', 'henry', 'decried', 'accepted', 'echoed', 'controlled', 'continued', 'concludes', 'accomplish', 'abysmal', 'purple', 'behavioral', 'liberating', 'reversed', 'mortars', 'rent', 'deepening', 'mortar', 'zika', 'dissolve', 'turnover', 'organisms', 'congratulated', 'dublin', 'arkansas', 'mockery', 'portugal', 'apples', 'deaths', 'praying', 'commentaries', 'album', 'dodd', 'propel', 'freer', 'salazar', 'signs', 'correction', 'enhance', 'unified', 'resisting', 'water', 'leading', 'persistent', 'summit', 'titanic', 'famous', 'clue', 'warsaw', 'wounding', 'originally', 'epic', 'html', 'base', 'healing', 'backed', 'glass', 'crystal', 'hypocrisy', 'aggression', 'jump', 'kevin', 'ammunition', 'score', 'tracking', 'unnoticed', 'viruses', 'intricate', 'inflict', 'bending', 'staring', 'blackmailed', 'humanitarian', 'scour', 'needless', 'religiously', 'hangs', 'poses', 'resembled', 'ratify', 'execution', 'admiral', 'winning', 'reception', 'deeply', 'gmos', 'input', 'markers', 'portuguese', 'hrcs', 'needlessly', 'breast', 'policymakers', 'easy', 'search', 'hits', 'dried', 'bogus', 'headlines', 'promised', 'successful', 'swell', 'compensate', 'homeland', 'conquering', 'drives', 'fringe', 'array', 'fide', 'iran', 'purged', 'reviewing', 'vanity', 'dutertes', 'leaks', 'hypothesis', 'disparity', 'paintings', 'offshore', 'earthly', 'failed', 'reaching', 'resolve', 'initiative', 'sticky', 'appreciated', 'faire', 'rulers', 'familiar', 'lads', 'sweat', 'electorate', 'blitz', 'tender', 'analyzing', 'similarly', 'temperature', 'sobering', 'equated', 'journal', 'arriving', 'popping', 'robinson', 'bothered', 'substances', 'theyll', 'suspended', 'episode', 'preceded', 'slots', 'checkpoint', 'loading', 'conclusions', 'porn', 'mich', 'volume', 'websites', 'cheek', 'nest', 'digest', 'bottles', 'corridor', 'protest', 'updated', 'smoke', 'bedroom', 'exerted', 'offend', 'prep', 'ethiopia', 'plotters', 'accusation', 'pale', 'autonomy', 'advancement', 'preparations', 'projections', 'upheld', 'voices', 'organizations', 'costs', 'algorithm', 'protectors', 'perverse', 'supposed', 'britain', 'criticized', 'retract', 'willie', 'subjective', 'derivatives', 'rico', 'sociopathic', 'destabilized', 'pets', 'focused', 'aerospace', 'obtaining', 'checked', 'blogs', 'chants', 'reclaim', 'screengrab', 'blackberry', 'ally', 'backwards', 'store', 'aspects', 'coerce', 'shallow', 'happy', 'nancy', 'lazy', 'samuel', 'brilliant', 'divest', 'doctrine', 'oneself', 'privy', 'businessmen', 'rode', 'blowing', 'giving', 'skinned', 'contingency', 'guide', 'revolutionaries', 'prepares', 'enlarged', 'offenses', 'groundbreaking', 'successfully', 'testament', 'andy', 'writing', 'flush', 'endanger', 'unpaid', 'waste', 'distinction', 'away', 'france', 'rewards', 'soars', 'testosterone', 'rivals', 'gerber', 'tones', 'mans', 'patriarchal', 'topped', 'specials', 'hostile', 'flames', 'absorb', 'travelling', 'realist', 'banner', 'existed', 'kirk', 'buddy', 'credentials', 'isnt', 'power', 'ethical', 'property', 'trips', 'nope', 'cold', 'fallout', 'statesman', 'sunnis', 'morass', 'reportedly', 'neglect', 'crumbling', 'newspaper', 'organism', 'sidewalk', 'whereabouts', 'feeble', 'glimpse', 'foolish', 'gordon', 'pants', 'lesson', 'annex', 'linking', 'surrounds', 'explanation', 'principal', 'vandals', 'credibility', 'invest', 'swath', 'afloat', 'distasteful', 'continent', 'butt', 'tier', 'wires', 'slightly', 'colonization', 'paltry', 'francis', 'redskins', 'abstract', 'disbanded', 'igor', 'putin', 'tied', 'broadly', 'lefts', 'unit', 'beneficiary', 'libertarians', 'hitting', 'pretense', 'bunnies', 'lester', 'romanian', 'conducting', 'malign', 'wallace', 'baptist', 'sakowin', 'dmitry', 'flesh', 'novels', 'hate', 'rulings', 'effects', 'strategically', 'brokered', 'carried', 'homosexual', 'incorporated', 'hammered', 'marble', 'replace', 'unhinged', 'proportions', 'element', 'posters', 'retirees', 'someones', 'partisanship', 'subversion', 'cats', 'elitist', 'matter', 'franklin', 'acquired', 'subscribing', 'dangerous', 'operations', 'assisting', 'incompetent', 'transformative', 'artist', 'chorus', 'horrific', 'peru', 'enjoyed', 'addicted', 'scenarios', 'resort', 'reacting', 'quick', 'outset', 'mobile', 'narrow', 'astonishing', 'sincerity', 'cautioned', 'limited', 'bribed', 'carney', 'outdated', 'morale', 'rejects', 'church', 'hacks', 'substantial', 'blamed', 'diligence', 'model', 'actively', 'presstitute', 'deemed', 'graduate', 'woken', 'definitely', 'fingerprints', 'calcium', 'infinite', 'livestock', 'lukewearechange', 'likewise', 'thailand', 'execute', 'rocked', 'generally', 'bother', 'obtain', 'conditions', 'preparedness', 'spanish', 'methodist', 'senator', 'spice', 'impossible', 'finnish', 'harshly', 'raytheon', 'trouble', 'crossroads', 'stifling', 'bernays', 'preference', 'passed', 'apparently', 'employment', 'teeth', 'thoroughly', 'attempted', 'ethnicities', 'traumatized', 'cooperate', 'consulting', 'frontier', 'readership', 'finishes', 'patiently', 'pump', 'elite', 'inimical', 'shocked', 'technicians', 'pragmatist', 'hold', 'investors', 'integral', 'predominantly', 'reset', 'clan', 'disinformation', 'dreadful', 'outward', 'annoying', 'exclusive', 'navigation', 'groups', 'welcome', 'magazines', 'defeating', 'duma', 'sovereignty', 'akin', 'marriages', 'dispossessed', 'unpredictable', 'elderly', 'scorpio', 'panties', 'mineral', 'baiting', 'forgive', 'cocktail', 'competitor', 'contributions', 'drain', 'terror', 'reluctantly', 'foils', 'installment', 'practices', 'fame', 'untouchable', 'subtle', 'motivate', 'portland', 'loyalty', 'fisa', 'hilarious', 'periodically', 'swearing', 'wrapped', 'proud', 'noticed', 'improves', 'instability', 'lord', 'saves', 'tesla', 'resignation', 'tended', 'plaintiff', 'football', 'founder', 'justifying', 'slaughtered', 'unlike', 'wing', 'foothold', 'confidential', 'insects', 'legality', 'antibiotics', 'fomenting', 'attitudes', 'nigel', 'biological', 'brazen', 'output', 'philosophers', 'ramping', 'course', 'beating', 'boiling', 'complications', 'stagnation', 'ineligible', 'bordering', 'particular', 'designs', 'seizing', 'types', 'hopelessly', 'physicians', 'return', 'respected', 'prolonged', 'rectify', 'southwest', 'revenues', 'sting', 'guru', 'merrill', 'walled', 'guarded', 'unfolds', 'dose', 'contraction', 'shit', 'warped', 'podcast', 'prevailed', 'syndrome', 'shift', 'stricter', 'stirred', 'comrade', 'reprieve', 'spying', 'dave', 'waco', 'pipeline', 'psychology', 'founded', 'revolt', 'therapy', 'confirm', 'preacher', 'constellation', 'constituency', 'resides', 'battalions', 'special', 'street', 'sundays', 'sabotaging', 'unresolved', 'assaults', 'analyzes', 'assistance', 'preached', 'concealed', 'kurt', 'timely', 'countless', 'gloria', 'postponed', 'enslavement', 'scope', 'nullify', 'figured', 'impulse', 'separates', 'moon', 'history', 'depended', 'overcoming', 'upshot', 'molotov', 'awakened', 'storage', 'resentment', 'defending', 'felt', 'priority', 'paved', 'duncan', 'settler', 'needing', 'suppressing', 'dollars', 'vocabulary', 'unjustified', 'snyder', 'desire', 'enlist', 'lately', 'fancy', 'league', 'seizures', 'morality', 'concentrating', 'inexorably', 'purchase', 'brightest', 'civilian', 'vacations', 'reckless', 'endowment', 'torpedo', 'comey', 'fractured', 'burnt', 'deposits', 'tried', 'implicated', 'abandon', 'necessity', 'servers', 'republish', 'changer', 'colder', 'onion', 'trolling', 'carry', 'captain', 'limiting', 'sensitivity', 'death', 'nickel', 'protection', 'eagerly', 'naturalnews', 'annexes', 'exceeds', 'sticking', 'maintains', 'routinely', 'inviting', 'breadth', 'binds', 'shanghai', 'fires', 'blocking', 'equilibrium', 'alleged', 'fixing', 'scottish', 'deport', 'gang', 'intertwined', 'incident', 'endocrine', 'hosted', 'buyers', 'punishing', 'frightened', 'legacy', 'photograph', 'biometric', 'fairy', 'peoples', 'summer', 'commodities', 'sociable', 'importing', 'test', 'championship', 'acquiescence', 'magic', 'lend', 'preposterous', 'persona', 'tragically', 'eliminate', 'crimea', 'complex', 'nausea', 'butter', 'updates', 'fulfilled', 'filing', 'naming', 'gotten', 'relinquish', 'unthinkable', 'experience', 'weeks', 'controlling', 'summarize', 'bizarre', 'cancel', 'quit', 'wreck', 'preserve', 'encompassing', 'ruins', 'accessories', 'paranoid', 'resulting', 'algeria', 'turning', 'clearer', 'elitists', 'ethicists', 'midwest', 'person', 'responsibilities', 'doubtless', 'defenders', 'intersection', 'disability', 'positions', 'americas', 'philosophy', 'erupted', 'reflecting', 'unfold', 'witnesses', 'georgia', 'belarus', 'fungal', 'coincidence', 'mediterranean', 'princess', 'strategists', 'sanctity', 'dinners', 'based', 'figuring', 'juggernaut', 'crashes', 'hesitate', 'limits', 'peaceful', 'hurt', 'counterproductive', 'insight', 'shareholder', 'reformed', 'substantive', 'decisions', 'eurasia', 'seize', 'manning', 'hottest', 'selfie', 'interviewing', 'gambit', 'measures', 'supervisor', 'florida', 'uploads', 'mondays', 'carroll', 'psyche', 'shes', 'privilege', 'milk', 'static', 'industries', 'administration', 'desires', 'laboratory', 'transform', 'pure', 'whore', 'emergence', 'corrupt', 'budgets', 'concern', 'races', 'albeit', 'critical', 'shown', 'flower', 'perspectives', 'ties', 'antagonistic', 'thread', 'lucky', 'agent', 'beef', 'bailed', 'gayest', 'possess', 'fatty', 'regulatory', 'paused', 'virtue', 'weigh', 'mailbox', 'seventh', 'assurance', 'newer', 'championed', 'logo', 'studied', 'toes', 'pivotal', 'manufacturing', 'estimates', 'indirectly', 'liberalism', 'shooter', 'ordained', 'financing', 'magically', 'procurement', 'plainly', 'celebrated', 'arabs', 'stripping', 'plantation', 'pictured', 'mini', 'flexibility', 'mailed', 'enters', 'rifles', 'doug', 'wade', 'urgently', 'rooting', 'disappear', 'tyranny', 'shaped', 'fragment', 'dispel', 'irvin', 'somalia', 'unicorn', 'tend', 'victoria', 'commenter', 'territory', 'blasts', 'explosive', 'cites', 'belonging', 'content', 'malaysia', 'vanish', 'motive', 'seat', 'oranges', 'russ', 'poroshenko', 'nicholas', 'humility', 'coughing', 'fights', 'provinces', 'misuse', 'primer', 'followers', 'flaming', 'nazism', 'rebuked', 'magnet', 'princeton', 'broncos', 'deployed', 'realize', 'superiority', 'signal', 'fried', 'dozen', 'commentators', 'debilitating', 'outline', 'perceived', 'relating', 'greens', 'amazed', 'dispute', 'accidents', 'hardly', 'repeal', 'privatize', 'precipitated', 'real', 'arbitrarily', 'thwart', 'linda', 'hugely', 'nstagram', 'ward', 'documentaries', 'afghan', 'honored', 'newman', 'negate', 'trades', 'estonia', 'resist', 'mook', 'jesus', 'handed', 'pussy', 'actors', 'communal', 'toppling', 'bravely', 'irans', 'anguish', 'erdogans', 'subway', 'shock', 'governed', 'size', 'outraged', 'frozen', 'patrons', 'humanly', 'tense', 'strain', 'inappropriately', 'oblivion', 'coherent', 'haters', 'smurfdom', 'accomplishments', 'weakening', 'unwelcome', 'provisional', 'ideal', 'slowdown', 'retailers', 'offence', 'divine', 'zuckerberg', 'remote', 'ukraine', 'contol', 'heartland', 'folder', 'brands', 'warmongering', 'chairman', 'crass', 'precautions', 'dontholduptheline', 'satisfy', 'applications', 'establishment', 'indicted', 'dawn', 'hubris', 'pops', 'safer', 'obnoxious', 'preferred', 'resemble', 'unaccountable', 'depicted', 'authority', 'deception', 'hunger', 'concept', 'sword', 'potent', 'dries', 'implements', 'interests', 'mixture', 'bribery', 'protect', 'restraint', 'crap', 'uncommon', 'fatalities', 'competitors', 'rosa', 'adjustments', 'principals', 'trucks', 'convert', 'autonomous', 'bankrupt', 'hoard', 'soup', 'unfortunate', 'aggravated', 'mouth', 'occupy', 'fathom', 'developed', 'affiliations', 'reporting', 'benjamin', 'standoff', 'barred', 'odds', 'roland', 'misdeeds', 'niche', 'emerging', 'syndicated', 'financiers', 'drop', 'protested', 'withdrawing', 'goat', 'swiftly', 'endgame', 'chiefs', 'operate', 'amidst', 'disappearing', 'suitable', 'dragged', 'generates', 'auspices', 'heritage', 'obligations', 'flood', 'antioxidants', 'poison', 'calm', 'bigotry', 'babtist', 'conform', 'seeker', 'brazilian', 'soared', 'parcel', 'single', 'stink', 'straw', 'subterranean', 'atom', 'versions', 'certificate', 'conceived', 'chemicals', 'meals', 'sounded', 'hospitality', 'significant', 'aftermath', 'settled', 'sharply', 'disposal', 'stifle', 'vein', 'thirty', 'mobilizing', 'signed', 'protected', 'variations', 'corporations', 'inequality', 'medias', 'trey', 'functioning', 'vaccines', 'pardons', 'tearing', 'universe', 'imminent', 'hard', 'infiltrate', 'markets', 'tabloid', 'label', 'operational', 'classes', 'variants', 'steroids', 'announcements', 'booth', 'achieved', 'craft', 'universal', 'exposed', 'elian', 'madison', 'stench', 'equipped', 'considerable', 'objectives', 'offs', 'stone', 'frances', 'idlib', 'retirement', 'published', 'rodham', 'accept', 'specializing', 'assigned', 'feature', 'mintpress', 'outfits', 'incompetence', 'purposes', 'eurasian', 'colon', 'babys', 'product', 'warn', 'foia', 'reactor', 'stuck', 'smack', 'shade', 'milne', 'spearhead', 'frustration', 'absent', 'priests', 'deploys', 'stimulation', 'lobbyist', 'plethora', 'profit', 'financially', 'propagandists', 'obedient', 'cozy', 'spinning', 'spring', 'espionage', 'defeat', 'style', 'hasten', 'sunlight', 'cash', 'transparent', 'scheduled', 'logistical', 'city', 'brick', 'fiercely', 'transatlantic', 'intent', 'sugars', 'egyptians', 'digestive', 'estimate', 'rejoice', 'suddenly', 'attacked', 'innocent', 'insistence', 'discern', 'data', 'affiliation', 'steps', 'tweeting', 'friends', 'ethnic', 'projected', 'lingering', 'jersey', 'distraction', 'nicolas', 'definitively', 'gesture', 'ultra', 'marriage', 'stranglehold', 'pretending', 'bomber', 'waved', 'densely', 'rapes', 'decimating', 'missed', 'achievement', 'pillars', 'okie', 'recover', 'eagle', 'helpless', 'failure', 'congressional', 'cartels', 'omega', 'dark', 'libya', 'impacted', 'moron', 'courageous', 'afford', 'bigots', 'startling', 'partisans', 'miserably', 'tracks', 'server', 'milkman', 'expertise', 'empires', 'alexei', 'suicides', 'armed', 'statisticians', 'runs', 'billions', 'scandalous', 'ablaze', 'convoy', 'float', 'offset', 'outlined', 'panels', 'electric', 'awards', 'calculations', 'governmental', 'phoenix', 'underscores', 'incompatible', 'tricky', 'itll', 'amazingly', 'liberation', 'stretched', 'aggressors', 'traffickers', 'surprising', 'center', 'continues', 'credible', 'relationships', 'malcolm', 'immediate', 'fearful', 'fugitive', 'chase', 'confronting', 'loss', 'profiles', 'horns', 'benefits', 'goals', 'destiny', 'hooked', 'glasses', 'iraqi', 'rising', 'cool', 'eroding', 'serbia', 'slowing', 'conciliatory', 'dress', 'advisor', 'newspapers', 'eyewitness', 'deceive', 'sound', 'essential', 'scenario', 'cosmopolitan', 'cope', 'nurse', 'dominating', 'kilometers', 'sharing', 'carrying', 'precision', 'swamp', 'speculation', 'hispanics', 'warren', 'damaged', 'stun', 'arrived', 'days', 'restoring', 'liar', 'lifezette', 'clinic', 'beast', 'complicit', 'fuzzy', 'dependency', 'relieved', 'painful', 'facebooks', 'drivers', 'protocol', 'beauty', 'similar', 'tools', 'variant', 'destroys', 'compelled', 'pillar', 'boycott', 'salman', 'lion', 'cult', 'oath', 'weary', 'window', 'cheerleader', 'mice', 'cancelled', 'drowning', 'mccabes', 'prefer', 'ladder', 'sought', 'inaugurated', 'installation', 'saber', 'stockmans', 'uphold', 'mourn', 'riding', 'reelected', 'meaningful', 'trolls', 'explodes', 'worries', 'touching', 'inversion', 'mizzou', 'torn', 'ignorance', 'silicon', 'transmit', 'predators', 'vigorously', 'ideological', 'intervened', 'alas', 'louis', 'mccain', 'rodriguez', 'invaders', 'briefing', 'simplicity', 'outgoing', 'rockefeller', 'nursing', 'delusional', 'hint', 'massacre', 'rabbit', 'clause', 'murdered', 'uganda', 'references', 'voicing', 'defendants', 'material', 'seats', 'allocated', 'characteristics', 'gotta', 'zakharova', 'malfeasance', 'victory', 'bombast', 'flashing', 'radar', 'hudson', 'moreno', 'guidance', 'exceptions', 'deems', 'fetched', 'leveled', 'displacing', 'jason', 'mind', 'judges', 'rule', 'alarming', 'arising', 'landslide', 'moment', 'subversive', 'breakthroughs', 'nailed', 'rendered', 'william', 'antibiotic', 'downfall', 'revisionists', 'spoiler', 'fervor', 'graph', 'intel', 'reminded', 'doubts', 'provocations', 'duterte', 'quotas', 'staging', 'wicked', 'divorced', 'acrobats', 'eliminated', 'qaida', 'periphery', 'provocateurs', 'defied', 'earthquakes', 'seconds', 'utopian', 'generators', 'verified', 'precedent', 'headed', 'listening', 'exceptionalism', 'monstrosity', 'domino', 'koch', 'stepped', 'marker', 'chemtrails', 'kerry', 'urge', 'youtube', 'movements', 'tunnels', 'inefficiently', 'heel', 'wife', 'mate', 'spawned', 'disgust', 'spirituality', 'arteries', 'jumped', 'perform', 'hammond', 'shatter', 'stance', 'marshals', 'list', 'empowering', 'born', 'huff', 'strains', 'watershed', 'chronic', 'teacher', 'upgrade', 'physician', 'distrusted', 'mace', 'suffers', 'consolidating', 'unnamed', 'alexander', 'classic', 'startup', 'bugs', 'boggling', 'fearing', 'noteworthy', 'geographical', 'greek', 'unaffected', 'tribunal', 'mathematical', 'grasping', 'intercept', 'harming', 'hawks', 'constrained', 'affidavit', 'hijackers', 'deadly', 'fixer', 'inclination', 'reactions', 'shop', 'experiences', 'confidant', 'unexpectedly', 'familys', 'informative', 'brown', 'plotting', 'connection', 'unanimous', 'emitted', 'wheels', 'deployment', 'losing', 'cheating', 'clearance', 'promoted', 'awareness', 'subjected', 'sinister', 'collaborative', 'horrendous', 'applaud', 'peters', 'gallon', 'battling', 'burying', 'recent', 'textbook', 'graciously', 'interpret', 'sail', 'newt', 'folk', 'reelection', 'endorsed', 'codes', 'waited', 'pictures', 'legendary', 'climb', 'revolutionary', 'regulations', 'normal', 'incite', 'conspired', 'beverly', 'infamous', 'locker', 'converted', 'totalitarian', 'refuge', 'square', 'victories', 'maggie', 'disconnected', 'hadron', 'mainstream', 'plain', 'sherman', 'doorstep', 'cancels', 'centered', 'pertaining', 'reince', 'right', 'spectacle', 'characteristic', 'ugly', 'cartoons', 'stroke', 'spheres', 'coat', 'dispersed', 'creek', 'manufacture', 'arent', 'allowing', 'banana', 'eighth', 'plans', 'backer', 'unreliable', 'refers', 'declining', 'collaborated', 'leader', 'tribune', 'helps', 'maria', 'mosques', 'proportion', 'cost', 'poorer', 'unofficial', 'smart', 'clarity', 'bears', 'larry', 'associations', 'wreak', 'mason', 'touts', 'accord', 'communists', 'addictive', 'thursday', 'infowars', 'inception', 'abadi', 'simplest', 'later', 'choking', 'disconnect', 'strife', 'creeping', 'naacp', 'transpired', 'ahrar', 'hardware', 'ransom', 'birthright', 'collects', 'absurdly', 'putting', 'denial', 'harness', 'tortured', 'slanted', 'demands', 'meat', 'ovarian', 'champion', 'lighter', 'goes', 'personified', 'unapologetic', 'homosexuals', 'vatican', 'prosperity', 'solely', 'intervention', 'ditch', 'conservatives', 'approaches', 'earned', 'collective', 'pizza', 'whistle', 'guise', 'machine', 'coups', 'counterparts', 'translates', 'uncovered', 'mere', 'kingdoms', 'bold', 'ministries', 'hazardous', 'vehemently', 'toppled', 'bestseller', 'rampage', 'plano', 'protests', 'associated', 'acrobat', 'konashenkov', 'newest', 'lung', 'expands', 'licensed', 'chair', 'dementia', 'qaeda', 'repay', 'boston', 'cracking', 'boldly', 'rounded', 'esteem', 'petition', 'cholesterol', 'thereof', 'empower', 'aide', 'viable', 'sooner', 'systematically', 'joshua', 'validated', 'intuition', 'meaningless', 'improper', 'occurring', 'finland', 'mins', 'russell', 'drug', 'perpetually', 'summed', 'http', 'axis', 'compete', 'illegally', 'hotels', 'wounds', 'equals', 'predictable', 'colleges', 'miraculously', 'wellness', 'bargain', 'editing', 'lawful', 'lose', 'planets', 'mounted', 'probability', 'source', 'student', 'vigilant', 'presently', 'institutes', 'fruits', 'corey', 'herbs', 'obvious', 'handcuffs', 'justice', 'centerpiece', 'nuke', 'outlawed', 'gross', 'socialists', 'stiff', 'funerals', 'scratch', 'semblance', 'rethinking', 'personalities', 'ounces', 'bills', 'ammon', 'charity', 'chiefly', 'detox', 'headaches', 'centralized', 'inflationary', 'revive', 'groundwork', 'clothesline', 'showdown', 'hebrew', 'someday', 'charms', 'release', 'decimated', 'evacuate', 'sidney', 'warlike', 'dictated', 'rodeo', 'usher', 'limit', 'contenders', 'clad', 'sheriff', 'suburban', 'agitation', 'knowingly', 'aiming', 'shorter', 'brewing', 'process', 'euros', 'implied', 'existence', 'subconscious', 'classmate', 'wanted', 'numerous', 'exercise', 'burdens', 'speculated', 'sadness', 'deluded', 'dailymail', 'partisan', 'tycoons', 'scalia', 'aides', 'shot', 'implode', 'jurors', 'distraught', 'survivopedia', 'breath', 'homelessness', 'arch', 'exchanges', 'rallies', 'penis', 'surfaced', 'injustice', 'texts', 'ostensible', 'bobby', 'buttons', 'reaction', 'treasonous', 'figurehead', 'discriminatory', 'lashed', 'crumble', 'evaluate', 'erasing', 'accepting', 'morning', 'mounting', 'enjoy', 'sector', 'throws', 'tighten', 'widget', 'vladimir', 'offices', 'satisfaction', 'knows', 'operators', 'application', 'deck', 'deterioration', 'consciousness', 'idiocy', 'knowledge', 'jung', 'discovered', 'astronauts', 'dubious', 'frontal', 'hears', 'negotiations', 'stuffing', 'adventure', 'determines', 'countering', 'actually', 'took', 'ailes', 'colluding', 'hailed', 'sentences', 'shoppers', 'inflation', 'davids', 'leviathan', 'obesity', 'worthwhile', 'rein', 'passes', 'conversion', 'accepts', 'notes', 'analytics', 'resolved', 'senses', 'modernize', 'pandoras', 'wire', 'proceed', 'cass', 'suspiciously', 'arctic', 'remain', 'newcomers', 'punches', 'accountability', 'shielding', 'succumb', 'channeling', 'holistic', 'fundamental', 'adaptation', 'agreements', 'hotel', 'jokes', 'programmed', 'tempting', 'criticised', 'hearts', 'unprovoked', 'proceeds', 'nephew', 'shadow', 'enlightenment', 'choices', 'proximity', 'improvement', 'narcissistic', 'license', 'unaware', 'contemplating', 'trumpland', 'warriors', 'herb', 'victim', 'decade', 'hostages', 'situations', 'blog', 'rife', 'violating', 'kill', 'language', 'purposefully', 'wireless', 'facade', 'fervent', 'chips', 'gauge', 'travesty', 'eloquently', 'mayhem', 'tuesday', 'demonstrating', 'sewer', 'supercharge', 'christopher', 'supplies', 'tours', 'bruised', 'imperialists', 'invite', 'professed', 'olympic', 'specify', 'modest', 'wearechange', 'catching', 'ibrahim', 'brzezinski', 'affairs', 'margin', 'mouse', 'sailors', 'militancy', 'olds', 'providing', 'early', 'entice', 'convenient', 'divert', 'modification', 'practice', 'scrambling', 'shoddy', 'stops', 'thing', 'spirit', 'surreptitiously', 'dwarf', 'began', 'exponential', 'loosely', 'studios', 'violently', 'boasting', 'garnered', 'ranges', 'sunshine', 'region', 'statism', 'unfavorable', 'getting', 'objections', 'understandably', 'catastrophic', 'sons', 'script', 'shielded', 'construction', 'inch', 'calamity', 'used', 'ditz', 'ambush', 'rejoin', 'severity', 'performance', 'blasted', 'editor', 'holocaust', 'intensify', 'displaced', 'avail', 'tuning', 'oligarchs', 'strapped', 'policing', 'slams', 'tears', 'equipment', 'dragging', 'deported', 'abundance', 'embark', 'doomsday', 'writer', 'insecurity', 'debts', 'chickens', 'intact', 'kadzik', 'baghdadi', 'sour', 'instruments', 'mohamed', 'appoint', 'flavor', 'deposed', 'spambots', 'cohen', 'culminating', 'brain', 'completion', 'donates', 'calculation', 'consortiumnews', 'dealt', 'anthony', 'jeff', 'rallied', 'unpredictability', 'meantime', 'restaurant', 'hurdles', 'pursuing', 'maximize', 'described', 'nteb', 'rebels', 'glaring', 'richard', 'cooperating', 'prediction', 'beneficiaries', 'dull', 'smoothly', 'forgot', 'greg', 'cabal', 'ceilings', 'defaced', 'capacity', 'debunked', 'game', 'railroad', 'delusions', 'bear', 'instance', 'tagged', 'brothers', 'unseen', 'adviser', 'meta', 'baffling', 'logically', 'barrier', 'midwestern', 'unconventional', 'unreasonable', 'contraceptives', 'juncture', 'connecticut', 'aligned', 'renames', 'enslaved', 'randomly', 'adoption', 'digits', 'factors', 'marianne', 'poisons', 'lesser', 'review', 'forbid', 'cinema', 'profitable', 'accelerating', 'print', 'widows', 'subsidized', 'fuck', 'management', 'tackle', 'boob', 'contacting', 'multilateral', 'legally', 'lobby', 'narcissist', 'employers', 'mergers', 'genocidal', 'killary', 'parenting', 'puts', 'exciting', 'hitlers', 'romneys', 'upgraded', 'comic', 'postpone', 'racist', 'disgrace', 'washing', 'ordinarily', 'natural', 'thought', 'documentation', 'compliment', 'expired', 'words', 'kings', 'firm', 'alpha', 'franks', 'golden', 'terrorize', 'lopez', 'aided', 'inaccurate', 'lottery', 'selling', 'emeritus', 'homo', 'squarely', 'polarized', 'malevolence', 'borrowed', 'doctorate', 'disciplines', 'actress', 'loophole', 'magnetic', 'sacred', 'regain', 'direct', 'kiev', 'reinforced', 'pathological', 'cynicism', 'strict', 'apply', 'exiting', 'lining', 'accounting', 'exhausted', 'responds', 'bystanders', 'marginal', 'repercussions', 'preferable', 'citizenry', 'residing', 'count', 'liars', 'lockheed', 'brazile', 'lena', 'interview', 'potential', 'promoting', 'bench', 'appoints', 'anglo', 'nominal', 'tropical', 'sphere', 'compel', 'older', 'manufacturers', 'provoked', 'screened', 'india', 'hovering', 'wraps', 'luck', 'administrative', 'wrap', 'worded', 'instant', 'informational', 'nothings', 'mailman', 'weird', 'nurture', 'arresting', 'documenting', 'hearted', 'coke', 'brics', 'providers', 'baghdad', 'flawed', 'millennia', 'yearning', 'traffic', 'insurers', 'shtfplan', 'illegals', 'eyed', 'pinnacle', 'racial', 'billionaire', 'condemnation', 'retaliation', 'surrendered', 'breasts', 'zombies', 'bulgaria', 'green', 'profound', 'vibration', 'commands', 'moores', 'sprayed', 'disclose', 'sizes', 'salesman', 'electricity', 'tenets', 'proprietary', 'marijuana', 'congresswoman', 'rand', 'revelation', 'spectrum', 'risen', 'isolating', 'lebanon', 'orthodoxy', 'wallet', 'promise', 'contributors', 'broke', 'consumers', 'evan', 'publisher', 'reunion', 'ostensibly', 'combating', 'organised', 'pinterest', 'arabic', 'courageously', 'scandal', 'troopers', 'undeniable', 'survey', 'admire', 'patrols', 'chip', 'retired', 'extinct', 'leaders', 'loving', 'conversely', 'resurrection', 'movies', 'diagnosis', 'detected', 'blocked', 'rebellion', 'contend', 'export', 'comeys', 'discharged', 'rednecks', 'solid', 'acronym', 'legislation', 'tight', 'paid', 'service', 'maintenance', 'wells', 'realizes', 'joseph', 'admissions', 'organically', 'sport', 'indicates', 'optimal', 'citigroup', 'parent', 'boosting', 'eventual', 'laugh', 'disturbance', 'gettysburg', 'moroccans', 'darker', 'defender', 'teneo', 'handout', 'marched', 'shockwaves', 'studies', 'coach', 'temper', 'futile', 'passion', 'setback', 'majority', 'cheese', 'critically', 'container', 'foreign', 'went', 'reno', 'mild', 'posed', 'hype', 'problem', 'vowing', 'premature', 'symbol', 'greedy', 'cornerstone', 'principle', 'raping', 'alan', 'truthdig', 'earliest', 'furniture', 'irregularities', 'david', 'magnitude', 'demonstrate', 'monthly', 'scorched', 'exotic', 'loot', 'stretches', 'cooperation', 'yoke', 'wholly', 'energies', 'globalism', 'putins', 'says', 'willfully', 'symbolism', 'improved', 'steven', 'alarm', 'concede', 'misunderstood', 'hormones', 'circle', 'splitting', 'authorization', 'warranted', 'showed', 'stoltenberg', 'teleprompters', 'childs', 'noted', 'deploying', 'trumpian', 'chairwoman', 'ghost', 'pond', 'peasant', 'meeting', 'attracts', 'undermined', 'confirmation', 'activists', 'tally', 'disgruntled', 'jerk', 'feasible', 'soon', 'ascended', 'scarce', 'swept', 'astonishingly', 'monster', 'communist', 'palestinians', 'prayed', 'shinseki', 'reopen', 'establishments', 'qualify', 'adult', 'shootings', 'unwavering', 'ashamed', 'inject', 'earnest', 'islamophobe', 'fluids', 'severed', 'beasts', 'shoot', 'entitled', 'harvest', 'hilary', 'fighters', 'names', 'rauf', 'growing', 'hotly', 'resource', 'translating', 'combat', 'topple', 'sins', 'travelled', 'volatile', 'maxim', 'gently', 'crafted', 'intercourse', 'rang', 'cruz', 'converts', 'battles', 'helm', 'judy', 'perfection', 'mastered', 'lots', 'readings', 'servants', 'magnesium', 'remarkably', 'conclude', 'floods', 'raining', 'prescriptions', 'conquered', 'intentional', 'baseless', 'onward', 'travels', 'defenses', 'integrated', 'joining', 'beats', 'academics', 'offense', 'large', 'smashing', 'ditto', 'pepe', 'waning', 'howard', 'turkey', 'buried', 'honorable', 'ludicrous', 'tradition', 'unexpected', 'fatally', 'represents', 'preservation', 'adherence', 'greenwald', 'thieves', 'visas', 'disparaging', 'fluctuations', 'happens', 'springbreak', 'shows', 'mothers', 'administrators', 'owners', 'tractable', 'pyongyang', 'stuart', 'causes', 'decorated', 'wagon', 'blown', 'timeline', 'phil', 'perpetrator', 'augustine', 'substance', 'stereotypes', 'signatures', 'gentleman', 'exploits', 'humble', 'publication', 'rebuilding', 'imam', 'fetal', 'tall', 'distortions', 'conservative', 'youngest', 'bangladesh', 'believed', 'neoliberal', 'relevance', 'isolate', 'tasks', 'takes', 'hopeless', 'contract', 'pandemic', 'tigris', 'explored', 'loves', 'businesses', 'pumped', 'praising', 'withheld', 'accidentally', 'gaining', 'janet', 'lauren', 'responses', 'fundraising', 'initiating', 'gary', 'lewis', 'aforementioned', 'gigantic', 'commerce', 'robin', 'worthy', 'fitness', 'introduced', 'contemplate', 'market', 'risked', 'leaning', 'ridiculous', 'tightening', 'acquisition', 'loop', 'provider', 'stopping', 'managers', 'bathing', 'arrest', 'race', 'supreme', 'scale', 'foods', 'kremlin', 'enterprise', 'glacier', 'anathema', 'miley', 'tumblr', 'misinterpreted', 'twilight', 'climbed', 'cons', 'nearing', 'visiting', 'inserting', 'mindful', 'overweight', 'devoting', 'example', 'temples', 'exploit', 'thou', 'shores', 'maga', 'symbols', 'predicts', 'derogatory', 'researcher', 'pharaoh', 'facilities', 'sign', 'unlawfully', 'weighs', 'disabled', 'deteriorated', 'bismarck', 'varieties', 'oregon', 'london', 'romania', 'punishment', 'worrying', 'proclaim', 'transportation', 'army', 'crafts', 'examine', 'immune', 'nicaragua', 'misses', 'rioting', 'gratuitous', 'spirited', 'repealed', 'featuring', 'aids', 'tragedy', 'added', 'prudent', 'servicemen', 'sputnik', 'bacon', 'frost', 'hailing', 'perpetrate', 'natos', 'strategy', 'launchers', 'censor', 'undermining', 'trove', 'chinese', 'attention', 'bits', 'outfit', 'baxter', 'gosnell', 'drums', 'acquiring', 'cleanse', 'juice', 'piles', 'slate', 'torturing', 'vent', 'perfected', 'chaos', 'seattle', 'advanced', 'leaked', 'ensures', 'regained', 'twist', 'branches', 'discord', 'resurrect', 'worse', 'linings', 'saturday', 'recession', 'tide', 'organs', 'lays', 'pages', 'univision', 'osama', 'lover', 'disagreed', 'latent', 'inclined', 'speakers', 'migration', 'shelves', 'ranks', 'warfare', 'introduce', 'steer', 'hatch', 'warrant', 'afterward', 'capture', 'crumbles', 'butts', 'pharmaceuticals', 'company', 'navigate', 'sudden', 'shells', 'crumbled', 'founding', 'jihadists', 'paths', 'glorious', 'orwellian', 'faulty', 'siberia', 'vibrant', 'vaults', 'echelon', 'crash', 'heirs', 'yanukovych', 'hegemony', 'gardens', 'felons', 'outdoor', 'devote', 'holed', 'proliferation', 'describing', 'doled', 'holes', 'live', 'obstructed', 'artificially', 'attend', 'bullies', 'crushing', 'mohammed', 'savers', 'analysis', 'fundamentalists', 'suburb', 'ordinary', 'safeguard', 'whatsoever', 'plaguing', 'dismay', 'truck', 'rick', 'customs', 'deporting', 'whites', 'permit', 'director', 'sole', 'generous', 'emphatically', 'diaspora', 'manifestly', 'recommend', 'buildings', 'impose', 'inability', 'toilet', 'significance', 'suspicious', 'barbaric', 'allergies', 'archeologists', 'czech', 'pope', 'razor', 'booked', 'tipped', 'rated', 'patriotism', 'unrelenting', 'component', 'timber', 'shops', 'prosecutor', 'containing', 'illuminati', 'swat', 'discrediting', 'fundamentalist', 'restrictions', 'kidney', 'protesters', 'amen', 'apartment', 'desk', 'periscope', 'defend', 'compliance', 'southeast', 'ironic', 'place', 'fault', 'duck', 'parental', 'love', 'internationally', 'indirect', 'potus', 'arranged', 'meme', 'funeral', 'reinforcing', 'reckoning', 'fallacy', 'repetition', 'hesitation', 'bureaucrats', 'grim', 'sheets', 'youre', 'finalized', 'astronomers', 'vision', 'exile', 'roll', 'diseases', 'mobilize', 'continue', 'zionism', 'session', 'andrei', 'dismantle', 'body', 'unsuspecting', 'arbitrary', 'chronicles', 'adequately', 'carters', 'piper', 'specializes', 'hydrogen', 'angle', 'faults', 'happening', 'manifested', 'necks', 'mutual', 'blackouts', 'society', 'crossing', 'uneasy', 'victimized', 'omission', 'viewer', 'loan', 'limitations', 'octopus', 'deductible', 'premier', 'idiots', 'vacant', 'euphrates', 'candidates', 'incredibly', 'spotlight', 'compass', 'democrat', 'polluting', 'decent', 'spiked', 'blood', 'unionize', 'teenagers', 'vanguard', 'malicious', 'reposted', 'envisioned', 'deregulation', 'veneer', 'putsch', 'judgment', 'yemeni', 'impassioned', 'seas', 'picking', 'comfortably', 'voodoo', 'descriptions', 'smaller', 'sold', 'spies', 'advancing', 'disgraced', 'prone', 'vietnamese', 'trains', 'increasing', 'evasion', 'buyer', 'pornography', 'rwanda', 'generational', 'hire', 'kurdistan', 'supernatural', 'wags', 'flame', 'study', 'vaccination', 'wins', 'edits', 'passions', 'blackagendareport', 'edition', 'debunk', 'jurisdictions', 'southeastern', 'trafficking', 'expulsion', 'undertaking', 'opponents', 'defiant', 'poland', 'respectfully', 'chicken', 'superficial', 'festivities', 'prominently', 'filters', 'tweet', 'scares', 'revolving', 'bunkers', 'embargo', 'operates', 'bump', 'ease', 'divide', 'idealistic', 'directorate', 'ponzi', 'foresight', 'confinement', 'warmonger', 'furious', 'arranging', 'confessions', 'gorbachev', 'adjusted', 'redacted', 'colored', 'relationship', 'predicted', 'uncontrolled', 'overtaken', 'brainwashed', 'heck', 'arguing', 'filings', 'finest', 'resigns', 'searching', 'somebody', 'submerged', 'irreversible', 'synthesis', 'wiser', 'text', 'podestas', 'shocking', 'half', 'chains', 'sidelines', 'studying', 'contrary', 'clarified', 'dissenting', 'feat', 'transcript', 'wonderful', 'anecdotal', 'wakingtimes', 'weaponry', 'connected', 'curriculum', 'manages', 'hashtag', 'theantimedia', 'portrayal', 'jeantel', 'claiming', 'lethal', 'miracle', 'hypocrites', 'salem', 'overlook', 'stood', 'confessed', 'swift', 'nineveh', 'cubans', 'wahhabi', 'brew', 'overreach', 'concession', 'harassment', 'human', 'representation', 'quoting', 'carefully', 'radicalism', 'acids', 'powerhouse', 'yemenis', 'clintonemail', 'reserves', 'basics', 'mosque', 'activism', 'recipients', 'tastes', 'tour', 'disqualified', 'floating', 'twice', 'undergraduate', 'payouts', 'utah', 'wealthy', 'granted', 'guessed', 'whipped', 'bout', 'partnered', 'submission', 'mayors', 'paramilitary', 'countys', 'employing', 'planetary', 'affirm', 'theoretical', 'christian', 'scant', 'economy', 'sufficient', 'knees', 'additives', 'disrupted', 'peterson', 'reconsider', 'wrongly', 'hacking', 'pose', 'tongue', 'kick', 'interpreter', 'click', 'injustices', 'intervene', 'lack', 'sanctions', 'blooded', 'disarm', 'land', 'block', 'pawn', 'tourism', 'architects', 'tomdispatch', 'widely', 'join', 'newborn', 'shattered', 'clearest', 'persecution', 'regiment', 'quasi', 'exert', 'momentous', 'marx', 'round', 'goodwill', 'havana', 'demonic', 'oppressive', 'upward', 'obtained', 'electromagnetic', 'spiritually', 'reproduction', 'liability', 'rail', 'descended', 'wider', 'ginger', 'upend', 'tycoon', 'enforcement', 'portrait', 'arrogance', 'accomplice', 'concert', 'advocacy', 'cruise', 'expanded', 'diminishing', 'diverse', 'alliances', 'unparalleled', 'assembling', 'accuses', 'confrontations', 'hijab', 'bundy', 'mays', 'detained', 'operated', 'obscene', 'farmer', 'breitbart', 'hooded', 'adequate', 'halted', 'louder', 'percentage', 'rallying', 'warehouse', 'willing', 'wong', 'continental', 'precarious', 'folks', 'avoid', 'gaps', 'bringing', 'cigarette', 'changing', 'ensuring', 'afraid', 'computers', 'attribute', 'eugene', 'nations', 'sciences', 'variation', 'prop', 'advisers', 'compound', 'generating', 'ascend', 'malley', 'undergone', 'incidence', 'impacts', 'pipe', 'settlers', 'domestically', 'spreads', 'unite', 'extracts', 'feeding', 'imagery', 'allied', 'accompany', 'wine', 'threatens', 'event', 'pinky', 'subtly', 'trying', 'resign', 'bishop', 'unfit', 'deposition', 'campaigning', 'rejection', 'forget', 'raided', 'girls', 'bailout', 'monopolies', 'livelihoods', 'cultivated', 'zbigniew', 'devastating', 'offering', 'governing', 'jordan', 'recycling', 'nutritional', 'comments', 'resonate', 'appalled', 'gripped', 'dust', 'introduces', 'multibillion', 'explosives', 'chomsky', 'kool', 'somali', 'released', 'yielded', 'foundations', 'fort', 'humans', 'embracing', 'feed', 'truth', 'hardships', 'imagination', 'signifies', 'strangers', 'collins', 'shifted', 'stomach', 'disputes', 'suppression', 'tass', 'executions', 'punish', 'dictates', 'healer', 'semite', 'shamed', 'cleverly', 'silencing', 'ancient', 'improperly', 'smiles', 'banners', 'critique', 'wilderness', 'microphone', 'obamas', 'idea', 'limitation', 'suspicions', 'nate', 'berkeley', 'columns', 'sheet', 'client', 'hungary', 'seeks', 'businessman', 'privatization', 'spills', 'anymore', 'relates', 'remorse', 'defines', 'sealed', 'affiliates', 'yoga', 'vienna', 'approve', 'interfere', 'speech', 'saud', 'prevented', 'scans', 'precise', 'warheads', 'baier', 'werent', 'tuesdays', 'strengthening', 'urged', 'eroded', 'fallen', 'biology', 'frustrated', 'frustrations', 'span', 'dear', 'forgiving', 'unintended', 'pollsters', 'afghanistan', 'tout', 'ramifications', 'undesirable', 'vaccinated', 'capitol', 'fetus', 'explained', 'tightly', 'determined', 'unaccompanied', 'grassroots', 'criminality', 'weak', 'deliver', 'powering', 'membership', 'skidmore', 'debris', 'endeavors', 'retains', 'vigilante', 'youd', 'fence', 'avert', 'dissuade', 'measurement', 'migrant', 'predatory', 'technique', 'cohesion', 'speeding', 'initiation', 'finance', 'mislead', 'hillarycare', 'nelson', 'broadcasting', 'violation', 'infected', 'hoping', 'commissions', 'jake', 'emotion', 'overlapping', 'record', 'outspoken', 'tiny', 'classification', 'stemmed', 'winds', 'kathleen', 'weekly', 'worst', 'punishments', 'agreement', 'infection', 'initiate', 'remind', 'nuremberg', 'starved', 'tanked', 'enthusiastically', 'diplomacy', 'overshadowed', 'propose', 'tales', 'illusions', 'attached', 'decides', 'surgeon', 'advocating', 'tampered', 'sodium', 'deputies', 'grown', 'touches', 'athletes', 'variety', 'civilizations', 'subtracting', 'taste', 'medal', 'entities', 'priebus', 'theories', 'reject', 'herbicides', 'buddhist', 'statistical', 'flops', 'sorted', 'thorough', 'westboro', 'spewing', 'extends', 'tangible', 'circular', 'momentum', 'fashioned', 'slimy', 'heap', 'capturing', 'lament', 'notably', 'tragic', 'maya', 'bombings', 'dissent', 'invested', 'blessing', 'rationale', 'cnns', 'retreated', 'establishes', 'broadest', 'engagement', 'flee', 'lift', 'supplements', 'drought', 'publishes', 'flowed', 'previously', 'omar', 'clown', 'breaches', 'corps', 'monitoring', 'shale', 'govt', 'protestant', 'reform', 'luke', 'estranged', 'possibly', 'walking', 'professors', 'singular', 'hurricane', 'social', 'warmongers', 'intimidate', 'arguably', 'wedge', 'commanding', 'ivan', 'congenital', 'ratio', 'roam', 'timed', 'plutocrats', 'carving', 'proper', 'seeds', 'impossibility', 'dennis', 'gutter', 'ukraines', 'argued', 'shoots', 'almighty', 'subsequent', 'sells', 'sleeps', 'fanatics', 'sailed', 'heres', 'inducing', 'alternet', 'intense', 'recalls', 'extraordinary', 'bids', 'criticisms', 'depressing', 'latin', 'layer', 'meek', 'unfair', 'neighbour', 'caught', 'criticize', 'constituencies', 'head', 'propensity', 'diet', 'includes', 'bushs', 'confidence', 'weakened', 'false', 'traitors', 'ancestral', 'recount', 'indoor', 'trick', 'trustworthy', 'muster', 'accident', 'pockets', 'urgency', 'cartoon', 'idle', 'mathematically', 'habit', 'viewing', 'horror', 'sift', 'abyss', 'delays', 'nears', 'jalapenos', 'plausible', 'democracies', 'subjugation', 'needy', 'suffering', 'private', 'bilateral', 'splatter', 'foil', 'ahead', 'abolish', 'ignores', 'alleging', 'medicine', 'ruler', 'captive', 'polling', 'thwarted', 'balanced', 'unconscious', 'havent', 'freight', 'incriminating', 'arnaldo', 'intention', 'popular', 'perfect', 'abound', 'asleep', 'positioning', 'queen', 'heather', 'profited', 'phone', 'teach', 'repeats', 'nearest', 'forgotten', 'marketing', 'transactions', 'despotic', 'late', 'usda', 'cleaning', 'ruthless', 'react', 'mainly', 'trenches', 'vibrations', 'darkest', 'liberal', 'maryland', 'gold', 'girlfriends', 'appeal', 'jail', 'oaths', 'england', 'alexis', 'paste', 'slim', 'bookmark', 'avoiding', 'accompanying', 'plead', 'local', 'wrath', 'populated', 'bell', 'depiction', 'extremely', 'backfired', 'credits', 'dare', 'attributable', 'themes', 'breaks', 'quarter', 'proudly', 'pace', 'styles', 'manipulate', 'contrived', 'conveyed', 'spent', 'tops', 'sinking', 'suite', 'fledged', 'increase', 'erected', 'frankly', 'sharealike', 'angel', 'builders', 'mail', 'counteract', 'fingers', 'regardless', 'mcdonalds', 'wright', 'pain', 'championing', 'producing', 'husbands', 'descendants', 'libyans', 'earths', 'sustain', 'nasa', 'anomalies', 'expect', 'second', 'plains', 'vegas', 'dragon', 'sympathy', 'incredible', 'moments', 'tone', 'horowitz', 'struggle', 'prohibit', 'forehead', 'filter', 'equality', 'smeared', 'pitiful', 'eligible', 'disgusted', 'slip', 'approves', 'excludes', 'morons', 'disasters', 'unwilling', 'complicity', 'eligibility', 'footing', 'overthrew', 'iron', 'defining', 'steve', 'bronze', 'leaves', 'reversing', 'surpass', 'heroic', 'elevated', 'orbit', 'possessions', 'tune', 'cause', 'unabated', 'beings', 'epstein', 'tapping', 'idiot', 'experiments', 'havens', 'selves', 'objectivity', 'revelations', 'interactive', 'songs', 'spontaneously', 'territories', 'chris', 'inhabitants', 'bicycle', 'earns', 'outbursts', 'dismissal', 'muammar', 'sellers', 'firearm', 'biblical', 'korea', 'reliance', 'prejudice', 'strange', 'durable', 'loved', 'renamed', 'underlying', 'poverty', 'deeper', 'embraces', 'corn', 'bites', 'administer', 'johnsons', 'fridays', 'juche', 'reconstruction', 'primacy', 'hurts', 'assembly', 'olive', 'extension', 'shaking', 'petro', 'currently', 'theoretically', 'rich', 'matches', 'steak', 'obeying', 'austin', 'temptation', 'valued', 'hodges', 'approximate', 'duration', 'reap', 'mistreatment', 'parasite', 'similarities', 'highs', 'barrel', 'instructor', 'cyrus', 'behavior', 'celebrities', 'swallowed', 'latitude', 'propagated', 'childhood', 'section', 'wording', 'inside', 'guardian', 'currencies', 'profits', 'insider', 'warmly', 'children', 'minority', 'contained', 'upwards', 'plight', 'tripled', 'scholarship', 'texan', 'balance', 'abandons', 'parade', 'came', 'goodness', 'vets', 'gmail', 'inclusiveness', 'koran', 'necessarily', 'encountered', 'accurately', 'eggs', 'martial', 'generate', 'replicated', 'scene', 'chemistry', 'dinner', 'blind', 'fails', 'reporter', 'spelled', 'legitimize', 'friedman', 'jeans', 'insinuate', 'reserve', 'entertain', 'pollution', 'sweden', 'uber', 'colour', 'atheists', 'jungle', 'births', 'escort', 'mutually', 'peter', 'undoubtedly', 'wesley', 'frighten', 'shoe', 'qatar', 'censored', 'begins', 'locate', 'industry', 'thanked', 'benefited', 'problems', 'insisted', 'filling', 'agrees', 'sunni', 'ussr', 'marked', 'address', 'advised', 'distracting', 'goal', 'documents', 'robert', 'discovering', 'endangering', 'purge', 'ship', 'swaths', 'defying', 'geological', 'mates', 'thyroid', 'tweets', 'fast', 'subsidiary', 'smartphones', 'chavez', 'houthi', 'oust', 'goldman', 'mapped', 'monarchs', 'wants', 'donbass', 'march', 'hypocritical', 'cooked', 'kashmir', 'neighbor', 'monarchies', 'boundaries', 'liberals', 'superpower', 'detoxification', 'mute', 'curtail', 'summoned', 'uphill', 'pulling', 'karen', 'consent', 'forbidden', 'inherent', 'nets', 'unveil', 'designated', 'organ', 'relative', 'gaming', 'comprehension', 'echelons', 'creature', 'abandoning', 'rivers', 'mentioning', 'homicide', 'culturally', 'opposes', 'abide', 'apps', 'darkness', 'fatah', 'surrogates', 'littered', 'heaven', 'fluoride', 'hungry', 'requires', 'commenting', 'forwarded', 'wives', 'yesterdays', 'demonstrated', 'phony', 'guantanamo', 'repugnant', 'greyerz', 'cherished', 'weasel', 'persuaded', 'worried', 'tying', 'watched', 'bombing', 'damage', 'derailed', 'drum', 'portrays', 'repetitive', 'paradigm', 'regulator', 'residual', 'asap', 'blitzer', 'equity', 'unidentified', 'turkeys', 'lapdog', 'burial', 'bylaws', 'churn', 'depending', 'individual', 'problematic', 'marshall', 'remake', 'whichever', 'dance', 'phenomena', 'perpetrators', 'roles', 'disappearance', 'gravely', 'profanity', 'tanker', 'jacket', 'realclearpolitics', 'overt', 'anomaly', 'eliminates', 'ominous', 'modus', 'artificial', 'differently', 'unacceptable', 'erosion', 'lure', 'provocation', 'upset', 'fraudulent', 'conceal', 'degree', 'puerto', 'excessively', 'rapture', 'abraham', 'prominence', 'endorsements', 'agency', 'bottle', 'fostering', 'mandate', 'opinion', 'rightwing', 'favorable', 'divided', 'edit', 'factory', 'pilot', 'nationalized', 'sociology', 'generalized', 'depression', 'wholeheartedly', 'hunts', 'jeremiah', 'hannah', 'clears', 'strings', 'candidate', 'threatened', 'bearing', 'detention', 'moroccan', 'tyrant', 'survivors', 'lean', 'imply', 'enraged', 'ukip', 'pardoned', 'stock', 'elections', 'rothschilds', 'hugo', 'scientist', 'illinois', 'joked', 'independently', 'lake', 'perks', 'kagan', 'aggregate', 'originating', 'heavy', 'lucy', 'skeet', 'drilling', 'struggled', 'diversity', 'horrifying', 'asia', 'intolerant', 'middle', 'covered', 'looting', 'intimidated', 'bundys', 'employed', 'devoted', 'specifically', 'moms', 'loopholes', 'hesitant', 'aims', 'needs', 'viciously', 'immunity', 'bully', 'wind', 'authentic', 'rock', 'parliamentary', 'aircraft', 'afternoon', 'intentionally', 'continual', 'continuation', 'retreat', 'fade', 'scholars', 'complaining', 'minimize', 'alienated', 'presenting', 'firearms', 'pulse', 'expelled', 'goldberg', 'nukes', 'japan', 'ones', 'ceremonies', 'accomplices', 'upbringing', 'menacing', 'erstwhile', 'pumping', 'influx', 'circumvent', 'restored', 'allah', 'lawyer', 'outlaw', 'flows', 'younger', 'notice', 'wyoming', 'nomination', 'suicidal', 'counts', 'looters', 'downside', 'municipalities', 'paradoxically', 'donation', 'confrontational', 'teens', 'decree', 'independents', 'deprived', 'elephants', 'schultz', 'pastors', 'beyonce', 'permalink', 'judgmental', 'recep', 'arson', 'risks', 'turnout', 'permanent', 'targeted', 'belonged', 'wont', 'bases', 'refugees', 'solutions', 'violators', 'respects', 'insights', 'rights', 'trespassing', 'lives', 'spelling', 'fallujah', 'village', 'attest', 'carolina', 'accords', 'artistic', 'faux', 'brotherhood', 'receipt', 'circumstantial', 'viewpoint', 'channeled', 'litany', 'enriched', 'dale', 'greater', 'illegitimate', 'hampshire', 'downward', 'inform', 'borrow', 'moore', 'fighting', 'lending', 'unemployment', 'europe', 'dialogue', 'endlessly', 'mogia', 'properly', 'policeman', 'lifes', 'code', 'games', 'industrys', 'casualty', 'import', 'colluded', 'heed', 'implemented', 'sensation', 'smartphone', 'resembling', 'spot', 'adolf', 'smarter', 'mosquitoes', 'screaming', 'shia', 'cracks', 'assert', 'expansive', 'index', 'citing', 'scathing', 'pessimistic', 'assertions', 'presentation', 'shadows', 'serves', 'arnold', 'oversight', 'flickr', 'anonymously', 'activities', 'elephant', 'provocative', 'worship', 'prompting', 'fought', 'insane', 'devils', 'manually', 'sexuality', 'deceived', 'buddies', 'impunity', 'peanut', 'representatives', 'stating', 'contradictory', 'stresses', 'persuasion', 'broadcaster', 'looms', 'dressing', 'operandi', 'decide', 'finished', 'carnage', 'choose', 'juror', 'farm', 'learnt', 'occult', 'alright', 'riches', 'mechanism', 'diary', 'safety', 'encircle', 'betrayal', 'dismissed', 'coasts', 'cited', 'funnel', 'neoconservatives', 'vomit', 'serving', 'prisons', 'indiscretions', 'shipments', 'experimental', 'troublesome', 'enthusiastic', 'instrument', 'underground', 'dissonance', 'guts', 'belligerent', 'grounds', 'morally', 'cent', 'balls', 'christmas', 'forbes', 'temperament', 'winners', 'extreme', 'perplexed', 'unilaterally', 'gradual', 'despair', 'discontent', 'iraq', 'overhaul', 'erroneous', 'investigation', 'lively', 'psychic', 'operative', 'respondents', 'specified', 'tariff', 'bernard', 'arrange', 'trumps', 'toll', 'devoid', 'fewer', 'hadnt', 'intern', 'recommended', 'crimes', 'suits', 'legitimately', 'comprehend', 'sang', 'kumar', 'pete', 'duties', 'target', 'host', 'charge', 'embedded', 'matching', 'collections', 'awesome', 'goddamn', 'latvia', 'usable', 'cambridge', 'mali', 'obedience', 'level', 'animals', 'obligated', 'lackeys', 'biography', 'pipelines', 'recognised', 'distribution', 'laughs', 'charging', 'bred', 'expel', 'foreigner', 'portends', 'publicity', 'rope', 'vegetable', 'signature', 'wasted', 'exceeded', 'prophets', 'prospective', 'shattering', 'noise', 'rescued', 'conversation', 'hijacked', 'laissez', 'wondered', 'hellfire', 'discourse', 'acquittal', 'headline', 'invasions', 'ghastly', 'adopted', 'preparation', 'unveiling', 'noises', 'deficits', 'ideally', 'places', 'varying', 'rape', 'fight', 'sincerely', 'susceptible', 'respective', 'thinking', 'brutality', 'ankara', 'modernizing', 'shower', 'design', 'requirements', 'spared', 'unless', 'clips', 'evade', 'afforded', 'flash', 'motivation', 'regularly', 'insert', 'isolated', 'underworld', 'upright', 'disapproval', 'unconscionable', 'removes', 'disintegration', 'baking', 'resident', 'nervous', 'spare', 'unsecured', 'canadian', 'owner', 'paycheck', 'rebirth', 'chased', 'laughing', 'beliefs', 'punching', 'snap', 'blackmail', 'recklessly', 'wear', 'emanuel', 'excessive', 'massively', 'derided', 'delegates', 'dearly', 'embodiment', 'rangers', 'calories', 'mean', 'policies', 'mantra', 'repair', 'comes', 'filmmaker', 'clues', 'eternal', 'tribe', 'unwanted', 'creations', 'develop', 'persecuted', 'hook', 'structures', 'christine', 'drones', 'emmy', 'genocide', 'hypothetical', 'order', 'switch', 'amounted', 'creative', 'counted', 'pelosi', 'strengthened', 'contest', 'strongly', 'breaking', 'positive', 'stumble', 'righteousness', 'moisture', 'monetary', 'watching', 'pittsburgh', 'citizens', 'parry', 'simultaneous', 'characterization', 'proactive', 'downing', 'organisations', 'commonwealth', 'shelling', 'beleaguered', 'forests', 'bridge', 'deluge', 'enabled', 'recreation', 'trevor', 'bible', 'stooge', 'screen', 'actor', 'swiss', 'propagate', 'molecules', 'zealand', 'launched', 'kind', 'beginning', 'conglomerate', 'heights', 'deny', 'phillips', 'autumn', 'muscle', 'timid', 'overheard', 'implicitly', 'daniel', 'wrong', 'huge', 'invites', 'decentralized', 'remarked', 'tent', 'glitch', 'stealing', 'hilton', 'inquiries', 'prompt', 'diplomat', 'unqualified', 'reviewed', 'chapter', 'lunch', 'grams', 'sales', 'summary', 'observers', 'dent', 'embraced', 'fema', 'spitting', 'shiny', 'automatically', 'evolutionary', 'wouldnt', 'faster', 'fictitious', 'badges', 'docs', 'wields', 'consequential', 'throw', 'poll', 'reviews', 'tobacco', 'patron', 'forming', 'lifestyles', 'holdings', 'oversampling', 'tribes', 'blocs', 'stronghold', 'doom', 'circus', 'robbed', 'unveiled', 'tanks', 'dispatched', 'surveyed', 'religion', 'termed', 'idealist', 'lamented', 'basis', 'ought', 'native', 'survival', 'recommendations', 'vitaly', 'cronyism', 'deafening', 'wilson', 'cliffs', 'peripheral', 'nightclub', 'snopes', 'carlos', 'consideration', 'envoy', 'infrared', 'threats', 'dismantled', 'integrity', 'turtles', 'pirates', 'gavin', 'fisher', 'newsthump', 'audiences', 'rahul', 'weaken', 'butler', 'shifts', 'ground', 'impromptu', 'humane', 'casually', 'deductibles', 'prize', 'nicole', 'pray', 'merkel', 'claus', 'investigative', 'condemning', 'depriving', 'fired', 'languages', 'consistent', 'kirkuk', 'desperately', 'crying', 'bribe', 'financed', 'prior', 'pronouncements', 'protestants', 'reminding', 'renewable', 'suggesting', 'crow', 'ethics', 'height', 'penalties', 'refutes', 'outsiders', 'perpetrated', 'politicians', 'siege', 'emptive', 'boards', 'apologizing', 'attracted', 'shades', 'disagreement', 'passively', 'coincidental', 'riddle', 'engaged', 'romance', 'makeshift', 'defined', 'overthrown', 'agencies', 'planned', 'extraterrestrials', 'comprised', 'continents', 'takfiri', 'abedins', 'resonance', 'lawyers', 'particles', 'chancellor', 'custom', 'spew', 'suspects', 'bath', 'hardline', 'rubles', 'making', 'circumstances', 'naked', 'sailing', 'coordinator', 'soldiers', 'participants', 'stranger', 'darling', 'traction', 'maher', 'vendor', 'buys', 'presidents', 'societal', 'told', 'faked', 'centralization', 'swap', 'suicide', 'washed', 'tissues', 'accommodation', 'publishing', 'keyboards', 'farewell', 'hang', 'payers', 'sums', 'rightfully', 'charter', 'powerfully', 'constituents', 'tapes', 'reactive', 'doses', 'miss', 'flipped', 'newly', 'declines', 'egregious', 'annihilate', 'defective', 'elements', 'justified', 'multipolar', 'nonviolent', 'ukrainian', 'displays', 'tolerance', 'foreigners', 'ensued', 'damascus', 'peaked', 'switzerland', 'atmospheric', 'boasted', 'boxer', 'advertisements', 'preserved', 'german', 'slows', 'suggestions', 'optical', 'equally', 'mimic', 'trails', 'stockpiling', 'routes', 'suns', 'mint', 'smallest', 'packing', 'bloated', 'shove', 'threaten', 'guilty', 'strikingly', 'deliberately', 'societies', 'miraculous', 'witnessing', 'testify', 'rate', 'dealer', 'schmidt', 'strips', 'georgian', 'incidents', 'opened', 'humansarefree', 'judging', 'million', 'researching', 'bend', 'favoring', 'addition', 'honduras', 'hispanic', 'nominally', 'busting', 'critic', 'thrilled', 'kindly', 'neck', 'sticks', 'sanitizer', 'rumored', 'mankind', 'length', 'archaic', 'knives', 'charlie', 'rapist', 'protects', 'habitual', 'theft', 'awaits', 'excess', 'keeping', 'utilized', 'foreseeable', 'noah', 'chapters', 'stimulate', 'bahrain', 'insufficient', 'ukrainians', 'nazis', 'detective', 'extract', 'employees', 'harris', 'draining', 'proposing', 'delhi', 'incoming', 'cannabis', 'ownership', 'recycled', 'vested', 'driving', 'martin', 'veritable', 'analyzed', 'inhabited', 'thirst', 'marxist', 'exemption', 'gases', 'handle', 'presidential', 'saudis', 'effectively', 'inspire', 'wooden', 'preceding', 'gifts', 'jefferson', 'negatively', 'attacking', 'suggestion', 'continually', 'syndicate', 'charlotte', 'lights', 'unemployed', 'possibility', 'relying', 'sends', 'excited', 'locked', 'camping', 'consultations', 'reinvented', 'silently', 'inherited', 'doesnt', 'famine', 'policy', 'concussion', 'countrys', 'office', 'amateur', 'disaffected', 'attributed', 'dirt', 'deprive', 'prophet', 'nativism', 'destruction', 'armchair', 'overdose', 'harass', 'homes', 'deviant', 'mess', 'arose', 'question', 'chanted', 'premium', 'scientifically', 'concentration', 'grip', 'practicing', 'monumental', 'deep', 'appointing', 'vandalized', 'result', 'moons', 'tehran', 'influence', 'wrongdoing', 'colleague', 'bannon', 'unsavory', 'staggering', 'tossed', 'definite', 'theorist', 'maritime', 'separate', 'barring', 'laboratories', 'mills', 'earn', 'metro', 'digging', 'charisma', 'nodapl', 'renaming', 'enquirer', 'disdain', 'tricked', 'grants', 'grocery', 'paramount', 'railway', 'enthusiasm', 'machines', 'implosion', 'resting', 'soliciting', 'vince', 'retain', 'usual', 'layers', 'assortment', 'august', 'heartbeat', 'ankles', 'isis', 'ordering', 'offended', 'showing', 'brian', 'doubtful', 'standing', 'stimulating', 'dunham', 'gosh', 'unavoidable', 'heels', 'exceeding', 'irrespective', 'merit', 'graduating', 'collaboration', 'kerrys', 'slow', 'normalizing', 'displaying', 'skin', 'paperwork', 'bovine', 'airs', 'embarrassed', 'ceasefire', 'blvd', 'care', 'chad', 'fossil', 'flourish', 'jury', 'kellyanne', 'lunacy', 'outrage', 'eyes', 'reservation', 'residential', 'entails', 'criminals', 'continuously', 'microsoft', 'milwaukee', 'hunters', 'applied', 'concentrations', 'permitted', 'lacked', 'typical', 'autism', 'parks', 'smile', 'hordes', 'paula', 'recorded', 'degenerate', 'similarity', 'capitalists', 'punched', 'abuse', 'reach', 'cells', 'courtesy', 'commissioned', 'appointment', 'handler', 'slovenia', 'properties', 'repent', 'inspect', 'riddled', 'particularly', 'proclaimed', 'viewed', 'footnote', 'files', 'matthew', 'protester', 'evaluating', 'terrible', 'paul', 'labeled', 'miami', 'really', 'apocalyptic', 'school', 'youngsters', 'tyler', 'music', 'bribes', 'compared', 'fucking', 'constructed', 'tariffs', 'ceta', 'courage', 'sweet', 'remaining', 'consistency', 'consumes', 'surgery', 'delaying', 'feud', 'killers', 'club', 'francisco', 'washingtons', 'chosen', 'uncovering', 'corp', 'sheer', 'johnson', 'noncommercial', 'oreilly', 'soviets', 'migrants', 'ritual', 'lectures', 'spouse', 'stepping', 'goons', 'overall', 'inadequate', 'buchanan', 'friendship', 'vacate', 'ongoing', 'indifference', 'moscow', 'staple', 'civilisation', 'depraved', 'yournewswire', 'islamic', 'observations', 'doubled', 'demeaning', 'disputed', 'afghans', 'ross', 'sauce', 'treasuries', 'collider', 'oversee', 'gays', 'international', 'innovative', 'shoulder', 'downhill', 'exacerbated', 'inconsistent', 'construct', 'chance', 'invented', 'lacks', 'sufficiently', 'reluctance', 'explicitly', 'uncover', 'insignificant', 'concepts', 'holding', 'implies', 'brussels', 'garb', 'jane', 'kissinger', 'offending', 'overthrowing', 'salon', 'demanded', 'savior', 'uniform', 'baker', 'globalized', 'thanksgiving', 'vineyard', 'repealing', 'monies', 'terrifying', 'daddy', 'climbing', 'consumed', 'comprise', 'acquisitions', 'preventing', 'entered', 'informant', 'greed', 'notwithstanding', 'mistakenly', 'alliance', 'yeah', 'oval', 'falsified', 'bucket', 'counterpart', 'depopulation', 'kenneth', 'constraints', 'bureaus', 'graphic', 'frank', 'patent', 'devaluation', 'profiteers', 'realfarmacy', 'tyrants', 'cancellation', 'effort', 'guys', 'assistant', 'accent', 'massachusetts', 'maintain', 'stanford', 'threads', 'hawaii', 'eats', 'infectious', 'imaginable', 'resettlement', 'accountants', 'elder', 'hackers', 'sophisticated', 'tandem', 'wasserman', 'sympathetic', 'walls', 'barbarians', 'tarmac', 'grief', 'citizenship', 'restaurants', 'abiding', 'resumption', 'chef', 'essence', 'ideas', 'virtues', 'contention', 'babylon', 'daesh', 'eating', 'satanic', 'creamer', 'shareholders', 'snapchat', 'barely', 'literacy', 'disorder', 'natures', 'total', 'convey', 'nonwhite', 'alerted', 'tantamount', 'mirror', 'tipsheet', 'unrest', 'militant', 'eras', 'judaism', 'steadily', 'future', 'separated', 'rousing', 'delegate', 'congressmen', 'anxious', 'mandates', 'mining', 'lodge', 'violent', 'maneuvers', 'defy', 'flynn', 'disobedience', 'belief', 'footprint', 'gossip', 'iconic', 'restricted', 'selections', 'sexist', 'guard', 'canadas', 'evangelicals', 'explores', 'months', 'praise', 'settles', 'afoul', 'step', 'offshoring', 'trivial', 'spencer', 'undergoing', 'prohibiting', 'plots', 'attorneys', 'stockpile', 'challenge', 'behaving', 'incorporate', 'bradley', 'victorious', 'unchecked', 'tablet', 'indictment', 'falsely', 'tirade', 'convinced', 'discussed', 'leveraged', 'dysfunctional', 'seek', 'feel', 'district', 'fiction', 'apartments', 'lewinsky', 'weapons', 'injecting', 'lungs', 'handles', 'flint', 'professional', 'yards', 'airports', 'breached', 'assembled', 'scroll', 'parasitic', 'exponentially', 'sides', 'humanity', 'hints', 'lynchs', 'internal', 'workforce', 'sack', 'apparent', 'pink', 'undermines', 'exercised', 'investigator', 'historically', 'ills', 'trilateral', 'unlikely', 'disappeared', 'camped', 'feet', 'giants', 'needed', 'absorbing', 'architecture', 'punk', 'allege', 'reinforce', 'militarist', 'scholarly', 'segregation', 'translated', 'mortal', 'satisfying', 'recognizing', 'promotion', 'heats', 'handled', 'stemming', 'contingent', 'bothering', 'condition', 'constitutes', 'bumper', 'correlated', 'hurting', 'junior', 'managed', 'elector', 'concerns', 'mark', 'urging', 'theory', 'rasmussen', 'accidental', 'candy', 'regarding', 'yelled', 'download', 'msnbc', 'reproduce', 'symptom', 'mideast', 'psychiatric', 'throats', 'forwards', 'extinguish', 'fraternity', 'interfered', 'investigated', 'infamously', 'lawless', 'classrooms', 'absorbed', 'succeeding', 'referred', 'sudan', 'challenged', 'demise', 'envy', 'jared', 'outcry', 'tolerant', 'july', 'congress', 'peddling', 'companies', 'shirts', 'expectation', 'launch', 'crony', 'verge', 'katherine', 'drove', 'confiscation', 'containment', 'neglected', 'disbelief', 'highlighting', 'advances', 'memes', 'decreased', 'named', 'coping', 'nuts', 'prosecutors', 'jointly', 'unhappy', 'headquartered', 'demonized', 'indignation', 'recapture', 'endtime', 'adjusting', 'availability', 'grew', 'hunt', 'islamist', 'hamilton', 'characters', 'purely', 'sandwich', 'totaling', 'imprison', 'philippine', 'gullible', 'reflects', 'authoritarianism', 'wage', 'rubberstamps', 'loyalties', 'dissolved', 'walid', 'likes', 'capacities', 'rinf', 'operation', 'monica', 'maid', 'mandated', 'serial', 'oakland', 'surrender', 'imaginary', 'malevolent', 'coins', 'leaving', 'mailing', 'pseudo', 'visually', 'reiterated', 'mastermind', 'naturally', 'amazing', 'prolong', 'isolation', 'jihad', 'slew', 'contested', 'republican', 'germany', 'prelude', 'casts', 'evidenced', 'auction', 'exonerated', 'injuring', 'descend', 'republics', 'promising', 'deterred', 'mighty', 'distinguished', 'dizzy', 'retaliates', 'richest', 'withholding', 'singled', 'screw', 'categories', 'launching', 'appears', 'familiarity', 'spill', 'cursed', 'comb', 'arguments', 'unionized', 'limb', 'possessed', 'electorates', 'lunar', 'outside', 'relies', 'messaging', 'stinks', 'embattled', 'impressed', 'dropping', 'kinda', 'montana', 'sexiest', 'repressive', 'strongest', 'received', 'shouting', 'limbs', 'marital', 'students', 'number', 'seals', 'cronies', 'intended', 'paralysis', 'relocated', 'rome', 'referring', 'enormously', 'baffled', 'configured', 'skewed', 'bunker', 'alternative', 'primarily', 'tacit', 'background', 'stripes', 'translation', 'legalized', 'icon', 'candid', 'teachings', 'descent', 'deterrence', 'eerie', 'obstruction', 'samples', 'usaf', 'horses', 'pension', 'demolished', 'hung', 'catholics', 'consume', 'delayed', 'channels', 'starters', 'heir', 'examination', 'uniforms', 'intake', 'scams', 'bullion', 'unfolding', 'post', 'revolutions', 'mathematics', 'punch', 'socialist', 'merkels', 'truly', 'meant', 'understands', 'semitism', 'confront', 'pigs', 'menu', 'plants', 'anyones', 'catastrophe', 'version', 'japans', 'benign', 'obviously', 'merged', 'sharpton', 'rejected', 'grider', 'worm', 'degradation', 'distinctly', 'indiscriminately', 'contractors', 'methods', 'ridiculously', 'injury', 'cardiovascular', 'health', 'appetite', 'invasion', 'wolf', 'identification', 'desperation', 'grace', 'taxed', 'watches', 'profoundly', 'timing', 'extradition', 'lowers', 'planners', 'unilateral', 'usmc', 'advise', 'assassinations', 'spree', 'blogger', 'serbian', 'expires', 'walk', 'bore', 'sweatshops', 'overnight', 'inappropriate', 'arrivals', 'dictionary', 'rough', 'typo', 'veil', 'frisk', 'hadi', 'contaminants', 'begun', 'springs', 'linked', 'bullying', 'protracted', 'glue', 'requests', 'continuing', 'unknown', 'belongs', 'dreaded', 'stances', 'underwear', 'battalion', 'constitutional', 'segments', 'zeitgeist', 'widening', 'strip', 'engineered', 'totals', 'erect', 'recovering', 'foes', 'edgar', 'analyst', 'survivor', 'pounding', 'klan', 'hammer', 'gaza', 'offensives', 'platform', 'wheel', 'harsh', 'dressed', 'brother', 'clueless', 'incessant', 'belgium', 'schematic', 'select', 'heightened', 'ponder', 'mega', 'painter', 'escorted', 'breakfast', 'tail', 'discrimination', 'remembering', 'certainly', 'attachments', 'soaked', 'ecosystem', 'induced', 'tracked', 'materials', 'evidently', 'marches', 'wielding', 'penalty', 'connect', 'blast', 'produces', 'rays', 'ideologues', 'mall', 'wreckage', 'cloth', 'ducks', 'caliphate', 'networking', 'misdemeanor', 'deserves', 'past', 'unwittingly', 'achievements', 'hapless', 'qaddafi', 'addresses', 'syrians', 'amplified', 'burkas', 'founders', 'confined', 'lister', 'unbelievable', 'chop', 'lisa', 'africans', 'brits', 'assumption', 'swings', 'ruth', 'computer', 'culprit', 'reversal', 'supporter', 'craig', 'polarization', 'funneling', 'debacle', 'cooling', 'promises', 'business', 'milosevic', 'brass', 'extent', 'militarys', 'elected', 'thompson', 'icbm', 'backgrounds', 'xenophobia', 'laid', 'collecting', 'reacts', 'realistic', 'cops', 'rotational', 'flushed', 'vermont', 'ushering', 'clergy', 'hated', 'photography', 'herald', 'boon', 'strengths', 'ramadi', 'sizable', 'rats', 'superpowers', 'realise', 'stereotype', 'reading', 'define', 'jimmy', 'misogyny', 'beloved', 'legal', 'shooting', 'thorn', 'intermediate', 'progression', 'memorandum', 'complete', 'recounts', 'installations', 'flowers', 'cage', 'mystical', 'sink', 'foval', 'yeltsin', 'research', 'wrecked', 'portal', 'stabbing', 'decidedly', 'pertinent', 'questionable', 'genuine', 'shouted', 'croatia', 'coincide', 'musical', 'commits', 'expand', 'lemon', 'trials', 'weighing', 'jack', 'dominant', 'deplorable', 'requested', 'rationally', 'extractive', 'conferences', 'tapped', 'pertain', 'anna', 'nutritious', 'metric', 'cigarettes', 'leslie', 'summarizes', 'contacted', 'levels', 'foster', 'petroleum', 'reside', 'behaviour', 'infusion', 'battered', 'cheerleaders', 'liked', 'cheap', 'points', 'firms', 'rash', 'primitive', 'battery', 'refer', 'smuggled', 'geoffrey', 'obamacare', 'randy', 'leaking', 'alternatively', 'reclassifying', 'recognize', 'sergey', 'supremacists', 'devotee', 'innovation', 'dying', 'thinker', 'adverse', 'satan', 'relation', 'sorts', 'stephanopoulos', 'formaldehyde', 'brutal', 'crescent', 'obsessed', 'method', 'raises', 'seething', 'confession', 'madeleine', 'favourite', 'nasas', 'tainted', 'endorses', 'enforcing', 'scrambled', 'hates', 'tore', 'ingenious', 'space', 'importance', 'civilization', 'prepper', 'christianity', 'ignored', 'canada', 'interrupted', 'crushed', 'learning', 'anger', 'nicely', 'sitting', 'exceptionally', 'plutonium', 'banks', 'azerbaijan', 'encouraged', 'alzheimers', 'castro', 'cups', 'inspiration', 'plaza', 'stooges', 'carl', 'shutting', 'trailer', 'runway', 'boost', 'philippines', 'insurmountable', 'endured', 'bargaining', 'believers', 'fortune', 'naive', 'shall', 'inspired', 'criminal', 'global', 'leads', 'ballot', 'mcconnell', 'documented', 'cookies', 'pronounced', 'probably', 'ecuador', 'stress', 'prison', 'collision', 'bullshit', 'horse', 'insurgents', 'psychological', 'lessen', 'vivid', 'drinking', 'embarrassment', 'placing', 'venezuelan', 'explain', 'durden', 'immigration', 'supremacy', 'syrian', 'reflected', 'integration', 'prayer', 'promptly', 'savings', 'white', 'unborn', 'backs', 'returns', 'illness', 'shamelessly', 'traveling', 'spit', 'permissible', 'panic', 'rapprochement', 'baton', 'confidante', 'resisted', 'memorable', 'missions', 'pentagons', 'cannabinoids', 'michel', 'prof', 'recently', 'automatic', 'glowing', 'parties', 'cable', 'denounce', 'biases', 'closest', 'disabilities', 'utmost', 'prescribed', 'stare', 'rush', 'inheritance', 'camouflage', 'populace', 'align', 'approaching', 'normalization', 'dump', 'authentically', 'reconciliation', 'universitys', 'forced', 'veggies', 'burning', 'militarism', 'denounced', 'versa', 'barack', 'elementary', 'lewd', 'intensive', 'appealed', 'stadium', 'situated', 'sjws', 'softer', 'guess', 'laramie', 'upheaval', 'steering', 'neighborhoods', 'dismantling', 'infiltrated', 'declassified', 'payroll', 'motor', 'tina', 'compulsive', 'near', 'recipient', 'blankfein', 'maybe', 'mainland', 'situation', 'kucinich', 'drama', 'perceive', 'recommendation', 'occupation', 'powerball', 'funds', 'pinging', 'demon', 'micah', 'grant', 'cheat', 'assimilation', 'lyndon', 'conscious', 'hatched', 'nypd', 'onerous', 'validity', 'pushback', 'benedict', 'buffer', 'occupations', 'iphone', 'assessing', 'energized', 'grandfather', 'hires', 'antiwar', 'towns', 'gulag', 'mismanagement', 'recall', 'stations', 'area', 'focusing', 'edges', 'binding', 'peninsula', 'progress', 'unfairly', 'accumulate', 'gallery', 'teaching', 'evolved', 'echo', 'footsteps', 'nobel', 'publish', 'pulses', 'stds', 'beware', 'informed', 'ceiling', 'downtown', 'literature', 'endorse', 'archaeologists', 'subsidies', 'armored', 'anarchists', 'previous', 'nutrients', 'attack', 'palestine', 'park', 'repaired', 'branding', 'candles', 'esoteric', 'wake', 'safeguards', 'reopened', 'repeated', 'printed', 'leftists', 'cuts', 'cheer', 'remedy', 'spoiling', 'massive', 'steady', 'coleman', 'wave', 'colorado', 'countered', 'motives', 'privileges', 'denominations', 'packaged', 'uncertainty', 'cotton', 'restricting', 'caused', 'facilitating', 'sponsored', 'improving', 'simplistic', 'deflect', 'emulate', 'jabhat', 'opening', 'alters', 'fund', 'killed', 'woke', 'endorsement', 'pristine', 'religious', 'disagreements', 'internet', 'browns', 'clinics', 'eaten', 'inevitable', 'strait', 'striving', 'door', 'balkan', 'software', 'slaves', 'unsustainable', 'vehicles', 'robots', 'gilbert', 'tourists', 'rebuild', 'riyadh', 'immense', 'purposely', 'fist', 'baltimore', 'whistleblowing', 'inadvertently', 'racism', 'talented', 'minute', 'flick', 'creepy', 'woods', 'restrained', 'populism', 'figure', 'approval', 'bitter', 'campaigners', 'acne', 'incorporating', 'ranked', 'treaties', 'harassed', 'disagrees', 'understanding', 'trusts', 'rewarding', 'tube', 'colonized', 'irrational', 'arthritis', 'mongers', 'affecting', 'banksters', 'bestowed', 'juries', 'parody', 'solution', 'fake', 'nathan', 'rapid', 'panicked', 'heavenly', 'populations', 'abnormal', 'battled', 'brandon', 'dynamics', 'night', 'savage', 'grazing', 'desperate', 'waving', 'colombia', 'adventurism', 'freak', 'plaque', 'cooperative', 'ascension', 'frantic', 'concedes', 'towers', 'chemical', 'detect', 'pesticides', 'predecessor', 'khrushchev', 'educational', 'sweeping', 'guided', 'epsteins', 'murdoch', 'cases', 'racketeering', 'consistently', 'forum', 'offer', 'packed', 'pilger', 'posing', 'reinforces', 'backlash', 'stream', 'irrefutable', 'canned', 'affordable', 'discipline', 'speculators', 'clouds', 'dining', 'predictably', 'trendy', 'vietnam', 'attendant', 'dined', 'passive', 'uninterested', 'ebook', 'utility', 'adventures', 'ufos', 'occupiers', 'charismatic', 'appearing', 'slight', 'thousands', 'egos', 'nights', 'chanting', 'successors', 'encryption', 'spoiled', 'easily', 'ultimately', 'platforms', 'litmus', 'discover', 'cutting', 'stewart', 'hypocrite', 'speeches', 'poisonous', 'abhorrent', 'deir', 'airing', 'drone', 'sideways', 'wouldve', 'authors', 'reported', 'borrowing', 'uncertain', 'indifferent', 'nickname', 'statewide', 'decrees', 'inserted', 'kicking', 'adam', 'asserting', 'sustainable', 'machinations', 'fabrications', 'tremendous', 'unpopular', 'ambulance', 'wished', 'awkward', 'fantasy', 'spokeswoman', 'contacts', 'excellence', 'bands', 'goldwater', 'gonzalez', 'bankers', 'fall', 'lilian', 'dumping', 'modernization', 'line', 'competence', 'pursuit', 'munitions', 'acceptance', 'pedophilia', 'metal', 'customer', 'risky', 'hyperinflation', 'copyright', 'exited', 'abroad', 'locking', 'viability', 'inflicted', 'abortion', 'katie', 'levied', 'median', 'chain', 'headlined', 'robot', 'dixon', 'investor', 'albania', 'patriarch', 'hague', 'charged', 'mishandling', 'masses', 'doctrines', 'pieces', 'poet', 'unpleasant', 'unspecified', 'sorry', 'brimelow', 'harrison', 'passengers', 'beijing', 'simple', 'worth', 'aura', 'earth', 'coordinating', 'dated', 'factored', 'outed', 'erased', 'airline', 'tank', 'location', 'lakota', 'kong', 'lifelong', 'stressed', 'greanvillepost', 'persian', 'europes', 'illusion', 'placement', 'suing', 'relax', 'feedback', 'useless', 'cybersecurity', 'squeeze', 'shut', 'recaptured', 'representative', 'preachers', 'regimes', 'priest', 'archive', 'sucker', 'considerations', 'unproven', 'exhibits', 'scored', 'annoyed', 'identifying', 'teachers', 'anytime', 'crosshairs', 'walsh', 'caring', 'cures', 'ellen', 'blunt', 'parker', 'purse', 'demonstrations', 'nowadays', 'waged', 'possessing', 'unique', 'value', 'deliberate', 'radius', 'atmosphere', 'technical', 'dana', 'investing', 'alternate', 'nasty', 'nutty', 'avoids', 'hideous', 'intriguing', 'iranians', 'concentrate', 'device', 'portions', 'badly', 'boris', 'till', 'cube', 'talent', 'extending', 'hobbies', 'shed', 'vault', 'incarceration', 'escalating', 'trends', 'phones', 'discredited', 'disposition', 'stole', 'incursions', 'happen', 'wiles', 'routine', 'contaminated', 'odonnell', 'resurrected', 'sightings', 'feeds', 'manuel', 'grain', 'stocking', 'suited', 'chaotic', 'unbelievably', 'metaphor', 'pity', 'inspirational', 'nightly', 'reality', 'resilient', 'herbicide', 'selected', 'cognitive', 'doke', 'forcefully', 'instrumental', 'forgetting', 'organizes', 'accounted', 'spirits', 'wall', 'funny', 'ambassador', 'landowners', 'opposed', 'injure', 'recruit', 'docile', 'maddow', 'ironically', 'speculate', 'boundary', 'sane', 'faded', 'exhibit', 'horrible', 'main', 'causing', 'hurry', 'sponsor', 'compensation', 'objected', 'match', 'commit', 'catch', 'presence', 'ugliness', 'covers', 'elders', 'chooses', 'philosophical', 'judiciary', 'pinch', 'seen', 'austria', 'dares', 'distinct', 'ralph', 'fish', 'gathering', 'hollywood', 'severe', 'threshold', 'argues', 'whispered', 'ivanka', 'spend', 'description', 'federally', 'footage', 'colonial', 'running', 'pissed', 'eager', 'journalistic', 'breakdown', 'greenhouse', 'yuan', 'manifest', 'patriot', 'closing', 'tomb', 'caribbean', 'rituals', 'antonio', 'brace', 'lovely', 'compromising', 'traps', 'traced', 'beneath', 'functional', 'hormonal', 'prevails', 'selfies', 'goddess', 'snapped', 'airborne', 'prized', 'savvy', 'renewing', 'citibank', 'areas', 'compulsory', 'defense', 'zionists', 'fulfilling', 'star', 'clerk', 'defendant', 'distinctive', 'mcdonald', 'laden', 'glory', 'ignorant', 'television', 'ensure', 'direction', 'modify', 'backing', 'committee', 'payment', 'cart', 'monsters', 'spin', 'forwarding', 'chicago', 'band', 'illegal', 'meditation', 'democracy', 'carrots', 'assault', 'oppression', 'finding', 'womens', 'betray', 'compromise', 'considers', 'communism', 'empowered', 'liberated', 'accusers', 'democratically', 'thirdly', 'clever', 'medications', 'concerned', 'stack', 'desired', 'aurora', 'meets', 'dubbed', 'crucifixion', 'devastation', 'lands', 'handling', 'beacon', 'secession', 'waters', 'cruiser', 'michael', 'sacrifice', 'explanations', 'conflicts', 'diets', 'fertility', 'inaugural', 'crown', 'diamond', 'discard', 'msnbcs', 'yield', 'imploding', 'approved', 'displace', 'decisively', 'institution', 'stairs', 'diabolical', 'dies', 'boosts', 'hawk', 'available', 'gratitude', 'oppose', 'irony', 'owned', 'card', 'dedicated', 'jewish', 'misunderstanding', 'protector', 'sunk', 'minneapolis', 'skills', 'liberties', 'audio', 'awhile', 'hardworking', 'tumultuous', 'brooklyn', 'birthday', 'picked', 'bored', 'galaxy', 'conspirators', 'rules', 'moderates', 'sprott', 'viktor', 'chlorine', 'quran', 'plume', 'enlightening', 'confidently', 'rumors', 'veto', 'funded', 'suffered', 'heavyweights', 'bypass', 'rest', 'spell', 'dances', 'unleashing', 'delight', 'develops', 'definitions', 'fascination', 'evening', 'finish', 'nigeria', 'drudge', 'bacteria', 'bunch', 'rachel', 'sentiment', 'habitat', 'visible', 'solves', 'famously', 'ruin', 'palmieri', 'literary', 'hateful', 'mechanics', 'imagining', 'instill', 'pick', 'compounded', 'optimism', 'discarded', 'multiply', 'library', 'kaliningrad', 'majesty', 'activity', 'publicize', 'cluster', 'distort', 'rewarded', 'presents', 'worthless', 'security', 'asserts', 'rivalry', 'witch', 'haunted', 'retreating', 'robbing', 'rise', 'vilified', 'conduct', 'offspring', 'satisfied', 'pacs', 'convince', 'permitting', 'ladies', 'engines', 'principled', 'audience', 'underestimate', 'pressing', 'rose', 'flexible', 'acknowledging', 'pounds', 'morris', 'happier', 'wikipedia', 'geography', 'jailed', 'resemblance', 'disarray', 'unconditional', 'squads', 'campaigner', 'essays', 'prestigious', 'isil', 'cardinal', 'desirable', 'jinping', 'hikes', 'norman', 'purges', 'aiding', 'flooding', 'suspected', 'tornado', 'census', 'bounce', 'piled', 'smears', 'rebound', 'noble', 'livid', 'ousted', 'engage', 'devastate', 'fairly', 'overseas', 'project', 'reduces', 'cried', 'headache', 'encouragement', 'gamble', 'akbar', 'outstanding', 'uncomfortable', 'horizon', 'obstruct', 'utter', 'shredding', 'suppress', 'tightened', 'masse', 'turmoil', 'overturned', 'juan', 'maximum', 'date', 'rapacious', 'sociopath', 'musk', 'fortunately', 'designed', 'kingdom', 'lucifer', 'conception', 'indonesia', 'dictator', 'response', 'ridiculed', 'deciding', 'expects', 'talks', 'alice', 'financier', 'managing', 'organizing', 'exploiting', 'seldom', 'pass', 'waging', 'ticket', 'selection', 'economic', 'contender', 'retaliate', 'thanks', 'sick', 'warlords', 'secular', 'venus', 'nominated', 'plenty', 'organized', 'scrutinized', 'bags', 'cubs', 'slot', 'wash', 'dominates', 'arrow', 'scoop', 'bidding', 'psychologically', 'restart', 'horrified', 'expresses', 'widespread', 'countryside', 'ecological', 'mens', 'suspicion', 'exaggeration', 'clean', 'bells', 'expenses', 'medical', 'refute', 'resources', 'slipped', 'summarized', 'costa', 'nineteenth', 'melted', 'sale', 'costing', 'periodic', 'dole', 'congratulates', 'boyfriend', 'digestion', 'garbage', 'catholic', 'cambodia', 'accumulated', 'genesis', 'models', 'moneys', 'slap', 'vital', 'dime', 'handedly', 'structural', 'responsibility', 'trajectory', 'stash', 'guards', 'initiated', 'objectively', 'crews', 'retrieve', 'dash', 'fabricated', 'appease', 'specifics', 'zero', 'solitary', 'archambault', 'palace', 'winner', 'activist', 'resorting', 'drafted', 'gives', 'regrettably', 'interacting', 'jeanette', 'outlaws', 'blame', 'freedoms', 'plunged', 'cycles', 'register', 'measuring', 'approach', 'powder', 'cultural', 'clients', 'hyper', 'iranian', 'nanny', 'read', 'tale', 'oslo', 'compassion', 'concerning', 'joints', 'rounding', 'viral', 'jill', 'abruptly', 'ariana', 'flags', 'obey', 'rothschild', 'foremost', 'anonymity', 'drawn', 'freely', 'obstructing', 'outsider', 'contradicts', 'buzzfeed', 'swim', 'erratic', 'fungi', 'villagers', 'lifetime', 'penetrate', 'plan', 'violated', 'cabinet', 'chemotherapy', 'revised', 'whip', 'self', 'ottoman', 'delighted', 'shared', 'combines', 'officeholders', 'democratization', 'communicated', 'franchise', 'hero', 'prevents', 'bergdahl', 'imperative', 'jordanian', 'cheryl', 'farage', 'misguided', 'reactionary', 'hunted', 'frontline', 'opposing', 'raising', 'whopping', 'counters', 'jessica', 'income', 'roundup', 'comparisons', 'scandals', 'relaxing', 'totalitarianism', 'scorn', 'given', 'partial', 'gained', 'jamie', 'environmental', 'gasoline', 'responsibly', 'angela', 'secondary', 'schemes', 'miracles', 'deceitful', 'agreeing', 'interactions', 'sacrificed', 'shipped', 'train', 'infant', 'kentucky', 'quarters', 'turkish', 'epitome', 'refuses', 'ceded', 'freeman', 'warhead', 'representing', 'distorting', 'alarmed', 'theyd', 'proclamation', 'difficult', 'cheering', 'chairs', 'swear', 'stealth', 'fuels', 'loads', 'takeover', 'throne', 'remotely', 'descending', 'knock', 'elliot', 'calculus', 'urgent', 'categorized', 'apple', 'stems', 'included', 'saints', 'rely', 'enmity', 'increasingly', 'closet', 'feathers', 'lends', 'schools', 'debbie', 'advancements', 'landmark', 'christie', 'alongside', 'magical', 'comparative', 'joint', 'petitions', 'called', 'feminine', 'agreed', 'examining', 'lenin', 'fascinated', 'steins', 'grotesque', 'field', 'protein', 'womans', 'broad', 'rebecca', 'endorsing', 'sierra', 'messes', 'archaeological', 'shares', 'disturbances', 'anita', 'whining', 'precinct', 'dioxide', 'solved', 'streams', 'britains', 'shah', 'alleviate', 'hometown', 'brett', 'shedding', 'accusations', 'halloween', 'visitor', 'crippled', 'opportunity', 'vandalism', 'good', 'preview', 'treason', 'involved', 'maidan', 'highway', 'genetically', 'chief', 'nixons', 'centcom', 'paris', 'restrict', 'accountable', 'laundry', 'lithuania', 'melissa', 'insurgency', 'catalyst', 'securing', 'context', 'uzbekistan', 'georgetown', 'pastor', 'philanthropic', 'nutrition', 'captured', 'amounts', 'expose', 'naughty', 'seniors', 'purchases', 'boosted', 'laying', 'slope', 'chocolate', 'escapism', 'sparked', 'escaped', 'islamism', 'brighton', 'hiker', 'buildup', 'slide', 'decisive', 'animal', 'navy', 'mastery', 'organic', 'hours', 'eichenwald', 'instagram', 'north', 'secrets', 'margins', 'density', 'globalization', 'islamophobia', 'oceans', 'temporarily', 'watch', 'anxiety', 'benchmark', 'heroes', 'enacted', 'walt', 'limbaugh', 'bodies', 'italy', 'understand', 'skilled', 'wood', 'sanction', 'exterminated', 'commercially', 'prosecutions', 'reunification', 'achieving', 'suburbs', 'administrations', 'flank', 'sanctuary', 'discoveries', 'escape', 'participating', 'defamation', 'samantha', 'missouri', 'pirate', 'indefensible', 'politico', 'telecommunications', 'benevolent', 'career', 'africa', 'approached', 'redistribution', 'heart', 'corrections', 'implicit', 'swinging', 'cahoots', 'stays', 'impairment', 'interesting', 'maps', 'understatement', 'welcomes', 'plot', 'regards', 'reacted', 'articulated', 'fleets', 'community', 'caves', 'longstanding', 'family', 'labour', 'supposedly', 'visceral', 'wartime', 'tabs', 'gets', 'realizing', 'spotted', 'nytimes', 'sequence', 'yesterday', 'convoluted', 'correctly', 'fertilizers', 'finale', 'rove', 'admit', 'canal', 'cripple', 'portraying', 'thats', 'colonel', 'forums', 'thugs', 'sustained', 'determining', 'rogers', 'thrust', 'instead', 'topic', 'sentiments', 'masonic', 'potassium', 'accustomed', 'overthrow', 'shenanigans', 'submitting', 'commonly', 'pool', 'endure', 'burden', 'muscles', 'sued', 'aborted', 'mortgage', 'receives', 'void', 'strong', 'cared', 'culture', 'thoughtful', 'midnight', 'unauthorized', 'worships', 'equate', 'passover', 'practically', 'energy', 'prosecution', 'continuous', 'milton', 'awake', 'reuters', 'glasnost', 'grains', 'uploaded', 'fool', 'ignoring', 'consumer', 'logistics', 'demographics', 'entrepreneur', 'surreal', 'warning', 'alabama', 'riots', 'rubber', 'cache', 'volcano', 'caroline', 'imposing', 'tighter', 'invariably', 'motivations', 'refueling', 'month', 'powerful', 'bragging', 'blank', 'establish', 'torch', 'photographs', 'note', 'harbor', 'harms', 'skip', 'theresa', 'polls', 'hatred', 'messianic', 'participated', 'dealings', 'archives', 'decay', 'rogue', 'indicative', 'benefiting', 'triangle', 'elects', 'abolition', 'varsity', 'judicial', 'look', 'validate', 'consecutive', 'enemy', 'loathing', 'robust', 'cure', 'expedition', 'greeted', 'kazakhstan', 'acceptable', 'sperm', 'completed', 'rational', 'siblings', 'tackling', 'zones', 'rubble', 'obamaphone', 'send', 'churchill', 'stopped', 'doubted', 'christs', 'lucas', 'ashton', 'ubiquitous', 'whim', 'current', 'clowns', 'pollute', 'alcohol', 'minions', 'falsehoods', 'portion', 'secures', 'flock', 'probes', 'dimension', 'purity', 'accused', 'uproar', 'sydney', 'millionaires', 'outnumbered', 'shocker', 'apologist', 'cultivating', 'taken', 'lectured', 'fine', 'circulating', 'hubble', 'ominously', 'practitioner', 'traumatic', 'columbus', 'notions', 'stationed', 'means', 'devil', 'dreams', 'sudafed', 'lurking', 'australians', 'gospel', 'efforts', 'grateful', 'pistol', 'denied', 'bastards', 'fahrenheit', 'preparing', 'reports', 'inquired', 'witnessed', 'hopelessness', 'bury', 'solomon', 'seeking', 'keeps', 'comeback', 'richer', 'wanting', 'vastly', 'redemption', 'clifford', 'secretaries', 'frequently', 'arlington', 'inspiring', 'iceland', 'ronald', 'weaker', 'unquestionably', 'suggestive', 'prime', 'anticipate', 'unleash', 'compatible', 'verify', 'numbers', 'civil', 'province', 'supports', 'graham', 'bash', 'controls', 'knowledgeable', 'tankers', 'stayed', 'severely', 'hood', 'shout', 'valuable', 'dock', 'spoken', 'begging', 'windows', 'investigators', 'woes', 'values', 'tricks', 'swallow', 'married', 'happily', 'boiled', 'troubling', 'guccifer', 'krugman', 'prescient', 'editors', 'bike', 'tell', 'hierarchy', 'intelligentsia', 'qaedas', 'unesco', 'lawlessness', 'medicaid', 'odessa', 'declares', 'decreeed', 'brush', 'flagged', 'mahmoud', 'freezing', 'clothes', 'hunter', 'sore', 'user', 'discredit', 'boils', 'subject', 'unfriends', 'contends', 'hills', 'built', 'oriental', 'debate', 'frequency', 'signals', 'authoritarian', 'stage', 'magnificent', 'measure', 'congratulate', 'photos', 'rural', 'childish', 'mercury', 'boys', 'sits', 'castle', 'strike', 'upsetting', 'worsened', 'alignment', 'issuance', 'heat', 'implying', 'arming', 'denomination', 'ranch', 'directed', 'roosevelt', 'swing', 'imposed', 'infused', 'metabolic', 'legs', 'centre', 'sociopaths', 'enjoys', 'nutshell', 'dividends', 'hosting', 'knocked', 'pipes', 'shea', 'altar', 'communities', 'precisely', 'alphabet', 'pledge', 'joined', 'accordingly', 'regarded', 'sections', 'underwater', 'emperor', 'absorption', 'egyptian', 'treasury', 'increases', 'directors', 'columnists', 'fare', 'prominent', 'basement', 'curtain', 'emphasizing', 'grave', 'baltic', 'fair', 'treats', 'oversaw', 'elaborate', 'iskander', 'firing', 'household', 'gripping', 'procedures', 'covertly', 'statutes', 'accessing', 'lanes', 'syrias', 'starting', 'missing', 'researchers', 'approving', 'defence', 'eventually', 'installed', 'patented', 'vomiting', 'humvees', 'degrading', 'behaved', 'dylan', 'minimum', 'repudiated', 'genuinely', 'skill', 'living', 'smith', 'unusual', 'accordance', 'everybodys', 'whove', 'understood', 'tokyo', 'june', 'altitude', 'rapists', 'sampling', 'battle', 'beheading', 'comply', 'boast', 'despotism', 'primaries', 'agricultural', 'message', 'repeatedly', 'issuing', 'readers', 'sever', 'irregular', 'invoke', 'luxury', 'stands', 'boom', 'cheaper', 'surfaces', 'grinding', 'blocks', 'solo', 'fourteen', 'efficacy', 'weiss', 'nonetheless', 'aboard', 'drivel', 'embarrass', 'important', 'evaluated', 'privatized', 'spectacularly', 'assuming', 'ballots', 'starts', 'loyal', 'advising', 'pearl', 'sighted', 'belgrade', 'college', 'attachment', 'aggressively', 'andrew', 'drills', 'delivered', 'mentor', 'myth', 'toss', 'assisted', 'tayyip', 'pervert', 'exploding', 'gene', 'iceberg', 'approximately', 'gardener', 'gray', 'ecosystems', 'diagnosed', 'mike', 'launches', 'kidding', 'zach', 'destabilization', 'george', 'struck', 'blade', 'simultaneously', 'reinstated', 'filipino', 'behold', 'spilling', 'visits', 'admitted', 'truthful', 'nationalistic', 'believe', 'surprise', 'fastest', 'abused', 'arrangement', 'electors', 'forms', 'headquarters', 'packaging', 'riot', 'voluntarily', 'youths', 'audacity', 'bitch', 'intercontinental', 'popped', 'recording', 'thumbs', 'snipers', 'reveals', 'minded', 'vows', 'semitic', 'thumb', 'damn', 'fitting', 'laughed', 'need', 'tectonic', 'fidel', 'obliged', 'push', 'ridicule', 'deeds', 'greenfield', 'shields', 'posts', 'embody', 'criteria', 'disrupting', 'exit', 'bent', 'multiple', 'triggers', 'assaulting', 'praises', 'mystery', 'halfway', 'warm', 'republic', 'bret', 'indian', 'english', 'cosmos', 'emissions', 'helicopter', 'moguls', 'levers', 'stinging', 'expensive', 'caution', 'thermal', 'broker', 'accumulation', 'alec', 'invoking', 'spots', 'warns', 'diligently', 'defends', 'stolen', 'spokesman', 'accommodate', 'producers', 'governments', 'firsthand', 'identity', 'pair', 'pinocchio', 'destination', 'feverish', 'captures', 'circulated', 'south', 'autobiography', 'telephone', 'pursue', 'word', 'axles', 'locations', 'domestic', 'double', 'empire', 'dramatic', 'hinder', 'advisors', 'neutral', 'employer', 'accompanies', 'alexandra', 'instantly', 'charitable', 'honesty', 'shield', 'indications', 'victor', 'prosecuting', 'creatures', 'surface', 'piece', 'sweep', 'decided', 'elect', 'disruptive', 'ratified', 'wahhabism', 'impeach', 'load', 'threw', 'zimbabwe', 'judeo', 'kept', 'invading', 'oxford', 'transfers', 'contains', 'emphasized', 'ensured', 'weaponized', 'consult', 'members', 'pesticide', 'powdered', 'royals', 'seriousness', 'academy', 'pitch', 'credence', 'doubling', 'studys', 'unfounded', 'disney', 'citys', 'demons', 'selfish', 'assassination', 'felony', 'spectral', 'tough', 'provincial', 'comedy', 'undercover', 'detroit', 'allergic', 'offerings', 'super', 'ambiguous', 'challenging', 'downright', 'injection', 'posture', 'trudeau', 'israelis', 'witches', 'apex', 'fivethirtyeight', 'depths', 'scared', 'embroiled', 'calls', 'aspect', 'pulls', 'thousand', 'king', 'economist', 'leveraging', 'coward', 'donated', 'articles', 'backyard', 'tends', 'transporting', 'imperial', 'worms', 'highways', 'zeal', 'distance', 'stop', 'consolidation', 'peak', 'salaries', 'compelling', 'schumer', 'affair', 'modern', 'examines', 'metres', 'kansas', 'spur', 'monument', 'talking', 'souls', 'celebrity', 'taquiyya', 'pioneering', 'racket', 'adamant', 'implementing', 'invaluable', 'settlements', 'zion', 'default', 'monolithic', 'pathology', 'agorist', 'cameron', 'nose', 'deputy', 'friendly', 'seed', 'unknowingly', 'overdue', 'shame', 'fuss', 'channel', 'seeing', 'manned', 'occasional', 'spike', 'formidable', 'pens', 'recovery', 'vary', 'bloody', 'piracy', 'classroom', 'unethical', 'liberalization', 'oklahoma', 'trait', 'existent', 'webster', 'wrestling', 'messiah', 'scrutiny', 'raids', 'teaches', 'tampering', 'denying', 'perennial', 'diverted', 'phase', 'appreciation', 'bureaucracies', 'outsourcing', 'shill', 'clocks', 'hegemonic', 'nominee', 'dictatorships', 'humor', 'rapidly', 'stein', 'acted', 'knights', 'dream', 'mitigate', 'witness', 'trusted', 'chamber', 'prompted', 'senior', 'realms', 'impressions', 'tentacles', 'elusive', 'light', 'delay', 'statistically', 'alternatives', 'perry', 'raqqa', 'asylum', 'betting', 'complains', 'saddam', 'enslave', 'curiously', 'terrific', 'crayon', 'empirical', 'oven', 'movie', 'torches', 'farce', 'initially', 'laser', 'blower', 'orchestrated', 'receptors', 'respecting', 'vast', 'fireworks', 'instituted', 'patients', 'resolution', 'assholes', 'bastard', 'hunting', 'daytime', 'shockingly', 'speeds', 'murky', 'preach', 'shrink', 'clubs', 'respond', 'satire', 'strangely', 'contrast', 'worry', 'agents', 'breakthrough', 'scott', 'stable', 'arrows', 'champions', 'established', 'russias', 'connections', 'extermination', 'sportsplace', 'architect', 'paradox', 'productivity', 'pierre', 'conduit', 'hungarian', 'compiling', 'airstrikes', 'skull', 'eskimos', 'male', 'popularity', 'varied', 'busy', 'worker', 'flat', 'ports', 'honors', 'collusion', 'prompts', 'listeners', 'bonds', 'statist', 'atrocities', 'services', 'pushing', 'cousins', 'dysfunction', 'attended', 'unimaginable', 'fuel', 'diminish', 'mormon', 'passionately', 'records', 'arrogant', 'impaired', 'globe', 'priorities', 'vicious', 'manipulations', 'wednesday', 'proven', 'miserable', 'team', 'negotiated', 'psychosis', 'vehicle', 'iris', 'entire', 'suit', 'creativity', 'saving', 'reveal', 'long', 'functions', 'slavery', 'stumbled', 'extremists', 'referenced', 'soothing', 'suckers', 'segregated', 'crude', 'testifying', 'fest', 'disrupt', 'lance', 'bloc', 'intellectually', 'focus', 'reprehensible', 'symbolic', 'estimated', 'honey', 'charts', 'pattern', 'asshole', 'delicate', 'resignations', 'microwave', 'beer', 'populists', 'flatulence', 'electrical', 'abundant', 'spurious', 'shrinking', 'imprisonment', 'agony', 'kennedy', 'orbiting', 'misinformation', 'relegated', 'culprits', 'negotiate', 'pakistan', 'save', 'prisoner', 'subpoena', 'fuller', 'guaranteed', 'create', 'feudal', 'grids', 'articulate', 'europeans', 'identified', 'israeli', 'betrayed', 'depleted', 'jupiter', 'negotiators', 'stored', 'cardiac', 'terry', 'carol', 'snow', 'expediency', 'breeding', 'passing', 'trample', 'medicare', 'home', 'promote', 'recommends', 'pending', 'manipulation', 'harmonious', 'stevens', 'manager', 'shutdown', 'exterminate', 'brainer', 'everyones', 'atop', 'exporting', 'inexplicable', 'practitioners', 'rabble', 'academia', 'instances', 'helicopters', 'sarah', 'lloyd', 'misogynist', 'rachael', 'predecessors', 'hinted', 'fray', 'domination', 'districts', 'irrelevant', 'recap', 'pensions', 'little', 'performing', 'yall', 'lone', 'peso', 'entourage', 'festival', 'drank', 'discussing', 'warned', 'birch', 'fiery', 'rain', 'atomic', 'ample', 'jong', 'hobby', 'prescription', 'dimensions', 'crowds', 'bullet', 'forth', 'amend', 'patriarchy', 'competition', 'credit', 'unipolar', 'eradicate', 'releasing', 'choom', 'hallmarks', 'communications', 'lebanese', 'austro', 'centres', 'floodgates', 'rings', 'considering', 'priced', 'vassals', 'starvation', 'hiking', 'listen', 'peacefully', 'boat', 'corners', 'pressed', 'arrested', 'arrives', 'symptoms', 'reputable', 'manila', 'disaster', 'teenage', 'groping', 'amanda', 'additional', 'presses', 'vegan', 'demonstrators', 'lakes', 'sermon', 'vaunted', 'welcoming', 'coast', 'screams', 'urine', 'perspective', 'sets', 'emerged', 'czar', 'terminal', 'industrial', 'questions', 'absence', 'dietary', 'mexican', 'gabriel', 'advantageous', 'pakistanis', 'leonard', 'implicate', 'obese', 'regulated', 'injured', 'leverage', 'bailey', 'grossly', 'relatively', 'layoffs', 'followed', 'stressful', 'pound', 'busted', 'saturated', 'countrymen', 'southerners', 'barrels', 'generously', 'preliminary', 'bidder', 'incited', 'chose', 'readily', 'playing', 'starving', 'cemetery', 'handy', 'arises', 'dwellers', 'imperialism', 'impartial', 'performs', 'observatory', 'grabs', 'outlining', 'husband', 'miles', 'motion', 'pour', 'rating', 'disingenuous', 'retaining', 'roaring', 'firstly', 'affirmation', 'marines', 'secretive', 'simply', 'notify', 'irish', 'huffington', 'assad', 'capabilities', 'superior', 'touched', 'virulent', 'intentions', 'reich', 'pave', 'lovers', 'pushes', 'heroin', 'ballistic', 'outbreak', 'copper', 'morocco', 'tablespoon', 'allen', 'neurological', 'gallons', 'luckily', 'spanning', 'verifiable', 'playbook', 'baby', 'exam', 'bare', 'cables', 'slamming', 'balances', 'independence', 'appearances', 'efficiently', 'regard', 'draft', 'seasons', 'digital', 'wrote', 'destroyed', 'scheme', 'persists', 'whims', 'class', 'geneva', 'christina', 'receive', 'lavoy', 'distinguish', 'coming', 'flagship', 'commanded', 'shelf', 'mouthed', 'distributed', 'format', 'contempt', 'arena', 'advertise', 'coercion', 'consultant', 'elaborated', 'families', 'coordinated', 'desert', 'inclusive', 'kindness', 'inciting', 'ripped', 'historical', 'presented', 'complicate', 'cemented', 'coverup', 'fitton', 'ideals', 'warrior', 'kurds', 'legends', 'identifiable', 'damages', 'taiwan', 'holy', 'analyze', 'journalism', 'bypassing', 'signaled', 'traditional', 'accessed', 'blinded', 'excuses', 'face', 'chupacabras', 'saved', 'staying', 'luther', 'enshrined', 'flocking', 'maze', 'refugee', 'sexual', 'traders', 'youll', 'diminished', 'guides', 'populate', 'leaf', 'sectors', 'episodes', 'hearing', 'involvement', 'mouthpieces', 'supervised', 'theyre', 'incomplete', 'suspending', 'stormed', 'nationality', 'moses', 'sensing', 'regime', 'celestial', 'murder', 'type', 'masked', 'blend', 'injected', 'manipulating', 'volunteers', 'endemic', 'deficient', 'chimney', 'multinational', 'technologies', 'embassies', 'quintessential', 'circles', 'painting', 'latinos', 'conspiring', 'donors', 'intrigue', 'pernicious', 'offers', 'googles', 'escalation', 'misinformed', 'better', 'authenticity', 'briefed', 'opaque', 'ball', 'marco', 'confided', 'rooted', 'beret', 'falls', 'evading', 'imposition', 'deportations', 'existing', 'netflix', 'unprepared', 'indefinite', 'correspondence', 'superiors', 'stormer', 'capitalize', 'wednesdays', 'increased', 'confirms', 'physical', 'multiculturalism', 'indians', 'communicating', 'favored', 'exiled', 'regrets', 'casinos', 'renewal', 'sustainability', 'misleading', 'dating', 'held', 'gathered', 'migrate', 'trans', 'proving', 'engine', 'left', 'exchanging', 'assure', 'consciously', 'physicist', 'antarctica', 'fractures', 'soul', 'utilize', 'harmless', 'refusal', 'glad', 'flaw', 'workshop', 'observer', 'chat', 'advantages', 'friend', 'memoir', 'coffers', 'dual', 'prejudices', 'vague', 'curb', 'powers', 'organizational', 'pathetic', 'moral', 'collapsed', 'according', 'freeze', 'requirement', 'medium', 'racing', 'francois', 'recognizable', 'grab', 'cans', 'unrealistic', 'paragraph', 'categorically', 'infrastructure', 'voter', 'distances', 'diversion', 'dictate', 'kuwait', 'estate', 'finally', 'murdering', 'oils', 'morphed', 'jacob', 'pepper', 'stake', 'framing', 'unbridled', 'onwards', 'strictly', 'sugar', 'basing', 'boasts', 'gates', 'implications', 'tinfoil', 'damaging', 'generator', 'abramovic', 'societys', 'finishing', 'astronomical', 'sentence', 'corridors', 'workers', 'manafort', 'windfall', 'underway', 'evil', 'sees', 'berlin', 'diplomats', 'permits', 'pragmatic', 'notices', 'calling', 'monsanto', 'seventy', 'gestures', 'easing', 'marie', 'solidarity', 'breach', 'whistleblowers', 'brent', 'sergeant', 'lash', 'universally', 'assemble', 'albert', 'fifth', 'jackson', 'punitive', 'mission', 'requiring', 'homeowners', 'backbone', 'gastrointestinal', 'wholesale', 'pride', 'secretary', 'fiscal', 'oligarch', 'midst', 'unattended', 'transparency', 'fantastic', 'suggest', 'subscribers', 'pollster', 'forge', 'laptop', 'proof', 'overpriced', 'pharmaceutical', 'settle', 'reclassify', 'mock', 'disagree', 'steel', 'verse', 'productive', 'performed', 'kate', 'qualifications', 'rapees', 'euro', 'determination', 'evangelical', 'instructs', 'knife', 'greece', 'blackout', 'guns', 'racists', 'identities', 'regions', 'appointees', 'cough', 'downturn', 'underestimated', 'garrison', 'independent', 'lynching', 'koreas', 'fail', 'ranking', 'clinical', 'santa', 'civilians', 'yale', 'hefty', 'respectful', 'saul', 'supply', 'indicating', 'painted', 'theorized', 'winston', 'assignment', 'distanced', 'href', 'anchors', 'stamped', 'guilt', 'intimate', 'consider', 'meddling', 'excerpt', 'mary', 'dubai', 'involves', 'carbon', 'incremental', 'nonsensical', 'claim', 'infants', 'ratification', 'carcinogens', 'denials', 'character', 'christ', 'garner', 'ceremonial', 'muhammad', 'positioned', 'proceeding', 'gracious', 'infowarsstore', 'atheist', 'infections', 'diesel', 'elses', 'nonsense', 'unconstitutional', 'corrupting', 'patriots', 'conclusive', 'phenomenon', 'basket', 'staffers', 'detection', 'pretexts', 'lightfromtheright', 'palestinian', 'greanville', 'hating', 'effectiveness', 'figures', 'tactical', 'wasting', 'nonprofit', 'directs', 'badge', 'singing', 'delegitimize', 'radioactive', 'patience', 'blacks', 'roots', 'kennels', 'imposes', 'harmed', 'peanuts', 'assessment', 'onslaught', 'cleansing', 'heralded', 'analysts', 'enable', 'gandhi', 'gunned', 'paraphrase', 'queries', 'rental', 'speaking', 'wish', 'forecasts', 'fairness', 'interviewer', 'emailing', 'safest', 'unjust', 'implanted', 'ireland', 'transmission', 'helpful', 'affiliate', 'williams', 'wears', 'destabilizing', 'searched', 'gentle', 'slipping', 'embassy', 'universities', 'palpable', 'nationals', 'depressed', 'theaters', 'memory', 'slated', 'denmark', 'submitted', 'disease', 'apparatus', 'smell', 'lips', 'pentagon', 'reduction', 'kaine', 'replete', 'undocumented', 'nevada', 'forecast', 'mouthpiece', 'rises', 'adds', 'misconduct', 'openly', 'perpetuate', 'contests', 'sponsoring', 'brought', 'censorship', 'leftist', 'abetted', 'patently', 'sparking', 'sustaining', 'speak', 'roadblocks', 'update', 'orchestrating', 'presided', 'bottled', 'helped', 'resulted', 'tendency', 'righteous', 'pumpkin', 'apologized', 'precious', 'dollar', 'manipulative', 'justifies', 'mirrors', 'interviewed', 'apprentice', 'rotating', 'reasoning', 'seminal', 'wearing', 'derive', 'emily', 'attackers', 'wifes', 'coaching', 'stupid', 'anarchy', 'facilitate', 'personal', 'ttip', 'sporting', 'spilled', 'madness', 'susan', 'eighteen', 'journey', 'buying', 'intensified', 'containers', 'excuse', 'earthquake', 'altering', 'highlighted', 'transgender', 'echoes', 'cell', 'maker', 'reiterate', 'satanism', 'culmination', 'graduation', 'atlanta', 'circulation', 'discovers', 'attempting', 'sneaking', 'harold', 'airplane', 'hats', 'stakes', 'null', 'inventory', 'californias', 'adjustment', 'east', 'birds', 'flurry', 'scramble', 'monkeys', 'vintage', 'alinsky', 'rage', 'twisted', 'huma', 'orphans', 'attempts', 'recovered', 'pleasant', 'buzz', 'carson', 'apologists', 'assuredly', 'disciplined', 'immigrants', 'hammers', 'vertical', 'associates', 'entrance', 'solar', 'mammals', 'borne', 'northern', 'internally', 'wedding', 'spurred', 'feeling', 'progressed', 'signaling', 'uninformed', 'hearings', 'scan', 'corresponds', 'washingtonsaying', 'existential', 'noxious', 'wiping', 'employee', 'personnel', 'miners', 'philanthropy', 'wild', 'piling', 'bull', 'shreds', 'explains', 'frequencies', 'learn', 'incomprehensible', 'hopefully', 'grey', 'romantic', 'contemplated', 'remember', 'averages', 'beta', 'poisoning', 'imperfect', 'thief', 'logged', 'adams', 'murderers', 'disadvantaged', 'hacker', 'dead', 'opec', 'dreamed', 'orgy', 'shaabi', 'describes', 'antonin', 'rolling', 'matthews', 'affirmative', 'lamb', 'poisoned', 'sacked', 'encouraging', 'churches', 'hong', 'projection', 'capitalist', 'dominance', 'governs', 'haider', 'midterm', 'fishing', 'partys', 'refusing', 'warships', 'adhere', 'uptick', 'commercial', 'expert', 'deplorables', 'knight', 'intolerable', 'airstrike', 'holder', 'memories', 'minnesota', 'troll', 'regulating', 'klux', 'fantasies', 'inflammation', 'profile', 'searches', 'theodore', 'pennsylvania', 'refuted', 'wonder', 'extended', 'landed', 'socialized', 'saint', 'scotland', 'lasting', 'tension', 'unlawful', 'plant', 'blogspot', 'assures', 'adversary', 'stephen', 'subvert', 'crush', 'letter', 'contemporary', 'regulate', 'rescue', 'dissident', 'ellison', 'lump', 'successive', 'recalled', 'destructive', 'conformity', 'implementation', 'slept', 'deaf', 'unsubstantiated', 'aggressive', 'thinkers', 'offenders', 'salary', 'walks', 'lgbtq', 'speculations', 'throwing', 'produced', 'bite', 'currency', 'courthouse', 'pyramid', 'rancher', 'bullish', 'capitals', 'prostitution', 'river', 'discomfort', 'republicans', 'outcome', 'socio', 'dean', 'merger', 'senate', 'slammed', 'exercises', 'subscribe', 'suspect', 'listens', 'width', 'resurgence', 'surveillance', 'shelby', 'flow', 'hijack', 'engages', 'profiled', 'spite', 'politicos', 'success', 'coincided', 'kremlins', 'alive', 'overwhelmed', 'treasure', 'comprehensive', 'gave', 'glitches', 'jihadi', 'meters', 'cord', 'curious', 'filmed', 'filming', 'storm', 'affirming', 'tragedies', 'moderator', 'atrocity', 'inmates', 'prayers', 'murders', 'barrack', 'sharia', 'stalin', 'keyboard', 'unending', 'philosopher', 'foul', 'zone', 'sharp', 'hebdo', 'falsehood', 'persuade', 'brigade', 'represented', 'appeared', 'mumford', 'skyrocketing', 'unsettling', 'extensions', 'slid', 'written', 'herman', 'profiting', 'coalition', 'waterways', 'concessions', 'hoarding', 'identify', 'aleppo', 'dishonesty', 'trending', 'islam', 'narendra', 'arms', 'sarkozy', 'cuban', 'criminally', 'scheming', 'arsenal', 'complain', 'beck', 'ambition', 'boring', 'decency', 'exporters', 'illustrate', 'indicated', 'manage', 'metadata', 'chaired', 'stats', 'truce', 'yorks', 'bravery', 'legislatures', 'dynamic', 'applauded', 'kits', 'freelance', 'watchers', 'veiled', 'detachment', 'sensational', 'secrecy', 'engineering', 'dirty', 'reliability', 'davis', 'degrees', 'optimistic', 'unclear', 'hemp', 'disarmament', 'undercut', 'degrade', 'artillery', 'bond', 'offender', 'retiring', 'segment', 'wickedness', 'preservatives', 'humiliation', 'measured', 'voiced', 'uprisings', 'blasting', 'millennials', 'populist', 'buffalo', 'dependent', 'runaway', 'rainbow', 'ulrich', 'losers', 'exterior', 'reminder', 'bird', 'wildly', 'affected', 'discovery', 'offline', 'addressed', 'maintained', 'vigilance', 'rifle', 'austerity', 'fooled', 'guarantee', 'hides', 'downplayed', 'jews', 'militias', 'cellular', 'presumably', 'investigate', 'wars', 'cannons', 'cooking', 'father', 'landrieu', 'shopping', 'graves', 'military', 'indoctrinated', 'authoritative', 'evolve', 'employ', 'anderson', 'brookings', 'fears', 'remembers', 'stephanie', 'obstructions', 'federalist', 'professionals', 'slush', 'dallas', 'publicized', 'treacherous', 'undue', 'peddle', 'walter', 'shrugged', 'stamp', 'tallahassee', 'nader', 'deceased', 'knew', 'underlined', 'progressive', 'pulled', 'dome', 'kimberley', 'truman', 'destroying', 'respectively', 'stalins', 'fuelled', 'rapids', 'armies', 'bloodbath', 'exclude', 'played', 'reliant', 'unreal', 'whistles', 'dept', 'abortions', 'conversations', 'sort', 'surging', 'ceremony', 'egypt', 'fanatic', 'wapo', 'planted', 'tract', 'enlisted', 'journalists', 'closes', 'amplifying', 'surround', 'intelligence', 'portable', 'monitor', 'revert', 'crops', 'revolves', 'optional', 'prefers', 'telescope', 'volunteering', 'penchant', 'prevailing', 'rolls', 'ambitious', 'skyrocketed', 'innovations', 'pressure', 'convincing', 'involving', 'attorney', 'deposit', 'poles', 'probable', 'torture', 'mobility', 'switched', 'indict', 'coffee', 'virgin', 'commence', 'favorite', 'protesting', 'clandestine', 'cursory', 'transformed', 'unbearable', 'nusra', 'substantially', 'commitments', 'jihadist', 'boss', 'overstated', 'faith', 'resistant', 'distorts', 'excluded', 'kirby', 'treated', 'rider', 'lavish', 'paulcraigroberts', 'consequences', 'nationally', 'journalist', 'ribbon', 'aviation', 'trial', 'require', 'assumptions', 'uncle', 'recommending', 'technology', 'comrades', 'february', 'printing', 'moscows', 'newfound', 'polish', 'edge', 'enhanced', 'hear', 'cautious', 'stanley', 'excellent', 'sally', 'lines', 'cliff', 'temporary', 'guarding', 'breed', 'ride', 'cowards', 'liable', 'soviet', 'treaty', 'retake', 'labeling', 'burned', 'commentator', 'control', 'creating', 'indebted', 'force', 'noticing', 'distortion', 'trend', 'ensuing', 'belongings', 'directives', 'wishing', 'board', 'ayatollah', 'chess', 'dismal', 'famed', 'genitals', 'butcher', 'fear', 'insofar', 'condemned', 'honorary', 'phrase', 'toys', 'virginia', 'starve', 'cards', 'parameters', 'hysterical', 'pressuring', 'solving', 'funders', 'wealthiest', 'beginnings', 'administered', 'tech', 'skeptical', 'bomb', 'matrix', 'actions', 'rosenberg', 'extortion', 'period', 'remains', 'signing', 'leak', 'maneuver', 'psychopathic', 'initiatives', 'favorites', 'reservations', 'emboldened', 'arbitration', 'condolences', 'safe', 'extinction', 'testimonies', 'unlimited', 'lists', 'submit', 'faculty', 'greeks', 'collapses', 'committees', 'manufactured', 'dropped', 'building', 'alex', 'sniper', 'accelerated', 'leap', 'fortunes', 'fees', 'fundamentally', 'conventions', 'norwegian', 'exploited', 'peculiar', 'fines', 'venture', 'sleazy', 'tremendously', 'professionally', 'jealous', 'setup', 'slogan', 'definition', 'pitched', 'lasted', 'cosmic', 'targeting', 'atlas', 'intelligent', 'prophetic', 'unions', 'virtually', 'willful', 'peace', 'spat', 'culminated', 'cars', 'partnership', 'admitting', 'verses', 'deterrent', 'plummeted', 'nutrient', 'auto', 'favors', 'customers', 'fascinating', 'sustains', 'psycho', 'primary', 'feds', 'adding', 'excruciating', 'innocents', 'cheated', 'sway', 'coca', 'brigades', 'underage', 'appointed', 'celebrations', 'movement', 'behest', 'patents', 'crowded', 'completely', 'kitchen', 'angeles', 'commons', 'heartbreaking', 'divisions', 'lifetimes', 'atlantic', 'film', 'mentality', 'meter', 'adherents', 'recounting', 'discount', 'humankind', 'freeing', 'apologies', 'adhd', 'investment', 'blessed', 'tested', 'prolific', 'bluntly', 'fact', 'nearly', 'advertisers', 'bail', 'pretty', 'inflated', 'ethnicity', 'daily', 'destroyers', 'indias', 'high', 'facet', 'demonization', 'trader', 'departments', 'scales', 'departed', 'contribution', 'pact', 'eyebrows', 'deliveries', 'category', 'rewrite', 'robby', 'submarines', 'setbacks', 'cruel', 'photographed', 'unnecessary', 'hens', 'slice', 'wasnt', 'aspire', 'brennan', 'perversion', 'displacement', 'realm', 'recalling', 'remedies', 'tantrum', 'targets', 'collaborating', 'sheikh', 'vanished', 'close', 'negotiating', 'revival', 'heating', 'logan', 'psychopath', 'xenophobic', 'insults', 'jazeera', 'contribute', 'blasphemy', 'retail', 'ridden', 'entertainment', 'shine', 'obsession', 'command', 'histories', 'renew', 'endangered', 'gunshot', 'analogy', 'grows', 'undone', 'liking', 'fluid', 'mexicans', 'noticeable', 'realities', 'specially', 'checks', 'clarke', 'feelings', 'delivery', 'mobilized', 'utterly', 'beth', 'deceptions', 'pupils', 'theater', 'hazard', 'banned', 'stupidity', 'richmond', 'bucks', 'compromised', 'yelling', 'deceiving', 'nationalist', 'shoes', 'murderer', 'chances', 'defensive', 'unto', 'improbable', 'nbcs', 'caucasus', 'frederick', 'adapt', 'moves', 'invoked', 'privacy', 'roger', 'browse', 'africas', 'deserved', 'rhode', 'variable', 'transcripts', 'crisis', 'glen', 'physicists', 'probe', 'defended', 'wool', 'inconceivable', 'goodman', 'dismiss', 'undertaken', 'alienation', 'cast', 'rhetoric', 'geopolitics', 'horn', 'phillip', 'aliens', 'erin', 'arabias', 'fundamentals', 'specialized', 'fields', 'developments', 'oligarchic', 'educating', 'meaning', 'plates', 'chill', 'survived', 'depravity', 'apollo', 'yellow', 'provision', 'weve', 'poorest', 'crack', 'elevate', 'observing', 'contributing', 'hostilities', 'revered', 'gonna', 'insurrection', 'specialize', 'overlooking', 'dreaming', 'addressing', 'caucus', 'repression', 'gowdy', 'resounding', 'incentives', 'attributes', 'disposable', 'fleeing', 'antioxidant', 'interventionism', 'aged', 'dive', 'cares', 'transitional', 'correspondent', 'schizophrenic', 'exacerbate', 'violence', 'peskov', 'intensifying', 'labs', 'ramp', 'mistake', 'recognition', 'costume', 'advocated', 'doubles', 'genetics', 'lavrov', 'ploy', 'marxists', 'dissatisfied', 'visions', 'loser', 'institute', 'poorly', 'tanden', 'harassing', 'excluding', 'combined', 'malignant', 'chunk', 'entering', 'grid', 'qualified', 'extra', 'jennifer', 'redcoats', 'relate', 'millennial', 'backup', 'oddly', 'mitt', 'armstrong', 'stump', 'sense', 'evils', 'necessary', 'bulk', 'shadowproof', 'barrage', 'honorably', 'starbucks', 'appalling', 'gatherings', 'armenia', 'aroused', 'kicks', 'hamas', 'insatiable', 'ahmed', 'emitting', 'farther', 'films', 'trophy', 'child', 'embodies', 'travelers', 'haul', 'penned', 'things', 'delaware', 'core', 'page', 'registrations', 'ancestry', 'bread', 'gambling', 'saudi', 'beltway', 'stunt', 'dedication', 'bolivia', 'earlier', 'fearsome', 'sociologist', 'compounds', 'psychologist', 'upholding', 'transported', 'porter', 'tumors', 'disadvantage', 'corresponding', 'pretext', 'berkley', 'rarely', 'thriving', 'unsure', 'digit', 'items', 'refined', 'nuclear', 'basically', 'comment', 'drag', 'beds', 'haim', 'largely', 'opioid', 'erase', 'homosexuality', 'constantly', 'discussions', 'bang', 'golf', 'expanding', 'railing', 'mardi', 'trailing', 'lynch', 'guiding', 'individuals', 'colorful', 'pediatrician', 'transmitted', 'yell', 'accomplished', 'thrown', 'depicting', 'istanbul', 'enact', 'cornered', 'interfering', 'orthodox', 'brazil', 'precedence', 'bureaucratic', 'suffice', 'lower', 'lied', 'notion', 'behalf', 'opportunities', 'orleans', 'arts', 'origins', 'votes', 'documentary', 'monarch', 'lawmakers', 'misplaced', 'congressman', 'dimensional', 'progressives', 'predicting', 'pageviews', 'cows', 'adults', 'registration', 'bryan', 'hope', 'electronic', 'consensual', 'cultivate', 'degraded', 'commonplace', 'gotnews', 'faiths', 'kennedys', 'circulate', 'matteo', 'statue', 'watson', 'acknowledges', 'dictatorial', 'rocking', 'advertising', 'math', 'terms', 'waves', 'decrease', 'encounter', 'string', 'unanimously', 'precincts', 'scapegoat', 'sterling', 'annexed', 'okeefe', 'obstacles', 'public', 'potentially', 'kicked', 'coastal', 'deduced', 'palm', 'warnings', 'neoliberalism', 'compiled', 'bones', 'medication', 'beans', 'patient', 'difference', 'regressive', 'meager', 'ignore', 'crook', 'pneumonia', 'literally', 'remove', 'resigned', 'unarmed', 'tennis', 'cruelty', 'hussein', 'marc', 'insidious', 'archived', 'coordination', 'heinous', 'house', 'lendman', 'oligarchy', 'general', 'discouraged', 'convict', 'looming', 'undo', 'constitute', 'felon', 'verdicts', 'volumes', 'accomplishment', 'visited', 'flowing', 'legalization', 'utopia', 'twain', 'healthier', 'steal', 'ruse', 'einstein', 'clicking', 'laptops', 'emergency', 'turks', 'brink', 'dishes', 'conway', 'buck', 'decreasing', 'freeloaders', 'yields', 'listing', 'entirely', 'brings', 'borders', 'collar', 'appropriate', 'checkpoints', 'invent', 'mouths', 'thermonuclear', 'justify', 'evacuated', 'organizer', 'highest', 'impoverished', 'duty', 'capitalism', 'patrolling', 'hemispheric', 'silence', 'illogical', 'noting', 'nationalism', 'advent', 'chested', 'willy', 'option', 'article', 'monopoly', 'propaganda', 'burns', 'exposing', 'contractor', 'surveys', 'confusing', 'sober', 'learns', 'ellis', 'color', 'cosmetic', 'outs', 'pleading', 'logs', 'hostage', 'radically', 'spiral', 'decreases', 'allow', 'violations', 'crooked', 'humiliated', 'nonstop', 'rainy', 'mass', 'opted', 'rejecting', 'lions', 'crew', 'derision', 'hybrid', 'capita', 'chaffetz', 'avoided', 'assertion', 'hired', 'timelines', 'apprehended', 'dolan', 'rudy', 'stages', 'trayvon', 'breathing', 'controversies', 'assassinate', 'talents', 'sites', 'peer', 'wages', 'americanism', 'backdrop', 'broadcasters', 'restoration', 'pretends', 'clashes', 'eastern', 'hospitals', 'notorious', 'encampments', 'stringent', 'superdelegates', 'sports', 'western', 'flabby', 'hans', 'alaska', 'improvements', 'island', 'presidency', 'lawsuits', 'unbiased', 'kaci', 'validation', 'frustrating', 'bait', 'unjustly', 'explaining', 'measurements', 'impulses', 'snake', 'downplay', 'nearby', 'flourishing', 'supermarket', 'ring', 'unfamiliar', 'affect', 'graffiti', 'strives', 'sinks', 'audit', 'comedian', 'recourse', 'hugh', 'techniques', 'eurozone', 'congo', 'updating', 'enlarge', 'aspirations', 'enjoying', 'fruit', 'narratives', 'week', 'outnumber', 'tests', 'vowed', 'shady', 'explosion', 'sample', 'sights', 'vitamins', 'executing', 'openness', 'override', 'inquiry', 'smiling', 'reinstate', 'succeeded', 'skillfully', 'stimulus', 'morton', 'weddings', 'occasions', 'prosperous', 'spacecraft', 'companys', 'willingly', 'shocks', 'benefit', 'socialism', 'cries', 'getty', 'support', 'demonize', 'percentages', 'granting', 'tonight', 'schooling', 'attractive', 'thinly', 'inaction', 'kills', 'abusers', 'debt', 'pull', 'enthusiast', 'judge', 'gregory', 'doctored', 'expenditures', 'quantity', 'yellen', 'owed', 'motto', 'defeated', 'lawn', 'gallup', 'slain', 'change', 'keepers', 'surgical', 'wieners', 'raise', 'drifting', 'soar', 'sledgehammer', 'lead', 'neocons', 'calendar', 'whoring', 'equation', 'massage', 'justification', 'attending', 'site', 'weight', 'potato', 'deleting', 'advocate', 'earning', 'proceedings', 'switching', 'demolition', 'abusive', 'discriminate', 'haired', 'sucking', 'surpassed', 'external', 'anyways', 'object', 'experts', 'coverage', 'cousin', 'discharge', 'experienced', 'rightly', 'directions', 'petty', 'militarized', 'elites', 'owes', 'sacramento', 'answered', 'combine', 'century', 'disillusioned', 'matters', 'northeast', 'operating', 'withstand', 'allocation', 'injections', 'inflicting', 'grass', 'unstable', 'lolita', 'mired', 'columnist', 'song', 'imagined', 'overwhelming', 'untold', 'faithful', 'stagnant', 'territorial', 'webb', 'keen', 'training', 'confronted', 'pros', 'ushered', 'crashing', 'revise', 'screens', 'judgments', 'sarandon', 'suggests', 'believes', 'shaping', 'shtf', 'branch', 'eddie', 'sjlendman', 'licenses', 'dictators', 'function', 'lined', 'samsung', 'evolving', 'supporters', 'philip', 'oops', 'multi', 'jumping', 'intends', 'chopping', 'referendum', 'romans', 'slapped', 'sheep', 'weed', 'airspace', 'publications', 'teaspoon', 'astounding', 'court', 'michigans', 'concerted', 'cruzs', 'inline', 'medicinal', 'jesse', 'perception', 'reductions', 'road', 'conceded', 'unanswered', 'arnoldski', 'preventative', 'televised', 'declarations', 'surely', 'purify', 'tomorrow', 'confiscated', 'grounded', 'percent', 'publics', 'damned', 'cocaine', 'mildly', 'stand', 'juvenile', 'crawl', 'slightest', 'apocalypse', 'colleagues', 'induce', 'tampa', 'merely', 'demonizing', 'classified', 'keys', 'reign', 'screamed', 'consequently', 'clapper', 'characterized', 'condemns', 'honor', 'discuss', 'carries', 'monday', 'outsells', 'unfortunately', 'facto', 'maturity', 'applies', 'rebuffed', 'squad', 'terrorism', 'cumulative', 'stab', 'videos', 'credited', 'stubbornly', 'compromises', 'latest', 'bolsters', 'ministry', 'speaker', 'boot', 'relentless', 'differences', 'vaccine', 'spark', 'ends', 'replies', 'manner', 'hoped', 'inherently', 'nikki', 'tents', 'fats', 'creator', 'tolerated', 'commission', 'wisdom', 'begged', 'crowley', 'mafia', 'disastrous', 'iota', 'semi', 'hardest', 'maine', 'conditioning', 'vdare', 'fbook', 'finger', 'transferred', 'coded', 'zionist', 'peel', 'evaluation', 'cryptic', 'hickox', 'concentrated', 'stretch', 'tags', 'capable', 'redeem', 'messenger', 'urban', 'restriction', 'babies', 'admits', 'doomed', 'forces', 'farming', 'breathtaking', 'grenade', 'metaphorically', 'terrified', 'conflagration', 'firestorm', 'neighborhood', 'deal', 'males', 'sprung', 'mourning', 'premeditated', 'brainwashing', 'renegotiate', 'strategist', 'allegiance', 'attacks', 'photoshop', 'affects', 'lucrative', 'depth', 'restore', 'staged', 'lived', 'pundits', 'zimmerman', 'organizers', 'stores', 'mcauliffe', 'group', 'northwestern', 'wales', 'intimately', 'developers', 'intercepted', 'transaction', 'bleed', 'deer', 'tennessee', 'port', 'regional', 'samuelson', 'bone', 'unprecedented', 'verification', 'mania', 'scissors', 'kissing', 'dismissive', 'hardship', 'open', 'pine', 'kent', 'characterize', 'operator', 'worldview', 'lies', 'barnesandnoble', 'merits', 'combination', 'trees', 'nerve', 'glance', 'horribly', 'slam', 'theology', 'sucked', 'purchasing', 'readiness', 'evacuation', 'tribute', 'complaints', 'dignity', 'hiding', 'insanity', 'hindu', 'lengths', 'flown', 'bona', 'influential', 'obliterate', 'track', 'unconfirmed', 'overview', 'reins', 'defect', 'abuses', 'precursor', 'medicines', 'benefactors', 'cole', 'mandating', 'studio', 'petersburg', 'supervisors', 'inner', 'squeezed', 'resolutions', 'shoulders', 'arabia', 'experiencing', 'lastly', 'opposite', 'unstoppable', 'relatives', 'circumcision', 'doubt', 'decades', 'scripture', 'spearheaded', 'preferring', 'trunews', 'embodied', 'scaled', 'convicted', 'emanating', 'bulldozers', 'distributing', 'burgeoning', 'draws', 'escaping', 'vassal', 'processing', 'beirut', 'commodity', 'tear', 'thirds', 'texas', 'beam', 'ethan', 'fend', 'penetrated', 'flagrant', 'emergencies', 'withdrawal', 'energetic', 'sergei', 'melania', 'generals', 'owing', 'exceedingly', 'wondering', 'county', 'confused', 'grow', 'agitators', 'composed', 'gate', 'starring', 'true', 'darrell', 'informants', 'ringing', 'spends', 'lenders', 'looks', 'complacency', 'consists', 'production', 'whomever', 'presumed', 'newsweek', 'hysteria', 'feminists', 'asks', 'brandished', 'agenda', 'mile', 'consensus', 'propagandist', 'adopting', 'plunder', 'indiscriminate', 'abundantly', 'erdogan', 'gems', 'koreans', 'distract', 'cleaned', 'dish', 'promotes', 'bosnia', 'calculated', 'insecure', 'wipe', 'empathy', 'taser', 'actual', 'handlers', 'penetration', 'uniting', 'prosecuted', 'enriching', 'forensic', 'provoke', 'faking', 'reeling', 'downs', 'suzanne', 'programming', 'ridge', 'munich', 'legalize', 'eerily', 'usually', 'calif', 'emailgate', 'teleprompter', 'despised', 'comparison', 'invited', 'minimal', 'carelessness', 'normalized', 'courtroom', 'dwell', 'amendments', 'debates', 'shirt', 'outlandish', 'traitor', 'proposes', 'psychopaths', 'closely', 'tendencies', 'clip', 'organization', 'collection', 'caps', 'utilizing', 'writes', 'kaiser', 'expression', 'genius', 'warmth', 'exaggerated', 'couch', 'nationwide', 'youth', 'conceivably', 'small', 'statehood', 'tomorrows', 'disturbed', 'delivers', 'euphemism', 'functioned', 'throat', 'rumor', 'bradford', 'resorted', 'richter', 'undersecretary', 'factor', 'shook', 'annual', 'withhold', 'spiritual', 'coated', 'disproportionately', 'convoys', 'corner', 'disruption', 'path', 'prospect', 'smashed', 'ghosts', 'earnings', 'mandatory', 'boko', 'shadowy', 'compile', 'kiss', 'livelihood', 'driven', 'stared', 'plea', 'mcmullin', 'technological', 'bodys', 'fictional', 'scream', 'fountain', 'swirling', 'ideologically', 'consolidated', 'crises', 'justices', 'unregulated', 'voters', 'british', 'holland', 'ears', 'retrospect', 'kelly', 'intensely', 'linkedin', 'share', 'imprisoned', 'lowering', 'practical', 'panda', 'halting', 'reconnaissance', 'appear', 'urges', 'entrusted', 'extracting', 'shrine', 'debated', 'planes', 'puppets', 'puzzled', 'donetsk', 'jobs', 'wheres', 'speed', 'york', 'bankrupting', 'mood', 'pledges', 'orgonlight', 'slower', 'mysteries', 'known', 'harry', 'cracked', 'connects', 'holidays', 'mobilization', 'physics', 'sexting', 'simpler', 'balancing', 'fierce', 'great', 'crusade', 'antagonism', 'saying', 'trust', 'tzrwu', 'reaches', 'versus', 'hosts', 'award', 'life', 'flights', 'projects', 'ineffective', 'information', 'deeming', 'dominate', 'amended', 'pundit', 'swelling', 'filtering', 'encampment', 'passwords', 'resume', 'shifting', 'boil', 'touted', 'alleges', 'cabin', 'smash', 'gage', 'perez', 'covenant', 'caved', 'registry', 'daring', 'average', 'treachery', 'measurable', 'futures', 'robbery', 'indigenous', 'oversees', 'lynn', 'globalists', 'delegation', 'billy', 'assertive', 'knee', 'responsive', 'sage', 'technocratic', 'shiite', 'ripping', 'errant', 'evenly', 'separation', 'stockpiles', 'fluke', 'intellihub', 'insurance', 'plague', 'neera', 'pressures', 'domains', 'abject', 'grandson', 'organisation', 'blumenthal', 'tumor', 'surrogate', 'haunting', 'globally', 'mental', 'transfer', 'malnourished', 'politicized', 'despise', 'receiving', 'oldest', 'cheney', 'stripped', 'station', 'shelled', 'examined', 'compare', 'ankle', 'ford', 'judged', 'malnutrition', 'premise', 'favorably', 'legalizing', 'constructive', 'noon', 'terrorist', 'shotgun', 'taliban', 'japanese', 'appointments', 'absolutely', 'booths', 'interstate', 'fertile', 'loud', 'inexplicably', 'despots', 'wonders', 'pocket', 'hillarys', 'tower', 'declined', 'computerized', 'hopkins', 'sexy', 'prevention', 'utilities', 'satellites', 'insists', 'staff', 'expressing', 'drowned', 'tables', 'veterans', 'envision', 'baltics', 'petraeus', 'silenced', 'militants', 'clique', 'brady', 'preemptively', 'floated', 'councils', 'fourth', 'factories', 'fixated', 'allies', 'passage', 'professor', 'division', 'blankets', 'foundation', 'rooms', 'saban', 'intellectuals', 'mindless', 'proves', 'couple', 'makeup', 'vulnerable', 'township', 'bashar', 'fiat', 'verdict', 'unconsciously', 'elias', 'acquitted', 'ethnically', 'packages', 'politic', 'appearance', 'competitive', 'hallmark', 'solidly', 'troop', 'umbrella', 'sacrifices', 'include', 'treat', 'bernie', 'sessions', 'contentious', 'consortium', 'acknowledged', 'revenge', 'challenges', 'formulated', 'addict', 'unifying', 'royal', 'inconvenience', 'scourge', 'undecided', 'welcomed', 'misled', 'higher', 'unchanged', 'touch', 'adopt', 'directive', 'benghazi', 'rupert', 'fitted', 'assumes', 'generations', 'extensive', 'valid', 'overwhelmingly', 'disguised', 'nature', 'danish', 'bees', 'yemens', 'escalated', 'serve', 'interpreted', 'dodge', 'classical', 'deadline', 'lest', 'views', 'withdrew', 'sticker', 'peril', 'drastic', 'lecture', 'undermine', 'sarin', 'larger', 'correctness', 'conjunction', 'succession', 'officials', 'seated', 'harvesting', 'phrases', 'proposition', 'chelsea', 'chant', 'karma', 'mines', 'purportedly', 'overarching', 'garlic', 'subjects', 'rear', 'lehman', 'herd', 'resonates', 'inferior', 'criticizing', 'govern', 'sioux', 'starship', 'parents', 'pleasure', 'barry', 'tubes', 'aufc', 'refused', 'constituted', 'screenshot', 'hiroshima', 'advertised', 'inescapable', 'raging', 'dumped', 'voluntary', 'centuries', 'electoral', 'gauntlet', 'graduates', 'deepest', 'masters', 'partly', 'interference', 'prisoners', 'chart', 'illustrates', 'sure', 'impeached', 'error', 'germanys', 'participant', 'occupies', 'hezbollah', 'pregnancy', 'disappointing', 'lunatic', 'transition', 'mogul', 'islands', 'placate', 'alexandria', 'economics', 'facets', 'poised', 'widow', 'terrorists', 'defects', 'zombie', 'transferring', 'directing', 'dissatisfaction', 'deals', 'exploded', 'adolescent', 'overtly', 'appeals', 'accompanied', 'perceptions', 'mushroom', 'costumes', 'governor', 'newsletter', 'theyve', 'price', 'vaccinations', 'avid', 'passports', 'marking', 'bigger', 'mars', 'messy', 'quid', 'realization', 'disappointment', 'interface', 'jeopardy', 'satellite', 'beheadings', 'fools', 'jeffrey', 'recipe', 'anointed', 'deleted', 'declaring', 'enclave', 'tarnished', 'constitutionally', 'transformation', 'mountain', 'reasonable', 'favor', 'rubin', 'brand', 'title', 'programmes', 'relied', 'steemit', 'avalanche', 'accelerate', 'turn', 'proved', 'extraordinarily', 'cream', 'scientists', 'bombshell', 'bombardment', 'haitians', 'depend', 'distrust', 'ignited', 'reopening', 'polled', 'drawing', 'militarization', 'quake', 'shaming', 'reed', 'annually', 'legitimacy', 'assuring', 'loose', 'menstrual', 'creed', 'remained', 'wiener', 'lady', 'route', 'trusting', 'trail', 'justifiable', 'opposition', 'bean', 'failures', 'modified', 'streaming', 'university', 'democratic', 'poetic', 'issue', 'compact', 'fallon', 'narrowly', 'manifestations', 'fixed', 'clash', 'represent', 'disregard', 'transforming', 'environments', 'coined', 'positively', 'keystone', 'troops', 'walked', 'confirming', 'guerilla', 'kadziks', 'methodology', 'smuggling', 'rides', 'montgomery', 'contain', 'oxygen', 'flung', 'resolves', 'sulfur', 'responded', 'determine', 'tips', 'recruited', 'crippling', 'hollow', 'replacing', 'brooks', 'insulted', 'dreamers', 'puzzle', 'candidacy', 'cliven', 'disrespectful', 'amassed', 'blindly', 'cafe', 'accessible', 'assured', 'dormant', 'tiger', 'outfitted', 'weapon', 'morals', 'woman', 'unicef', 'meal', 'dukes', 'screening', 'pointed', 'neutrality', 'magazine', 'visa', 'insult', 'inconvenient', 'cages', 'ruining', 'manual', 'sand', 'profession', 'unwillingness', 'drive', 'finds', 'hike', 'overturn', 'rightful', 'communication', 'interrupting', 'lucid', 'quakes', 'guest', 'extraction', 'complexity', 'ventures', 'withdrawn', 'kurdish', 'bearer', 'asians', 'filed', 'entity', 'amassing', 'bashing', 'charles', 'falling', 'salute', 'contributed', 'malheur', 'sliding', 'objects', 'periods', 'louisiana', 'cnbc', 'privileged', 'spray', 'dogs', 'incorrect', 'disclosed', 'securities', 'miller', 'hannity', 'mccarthy', 'transcend', 'upside', 'grand', 'alert', 'consumption', 'destroy', 'stabbed', 'regular', 'request', 'acting', 'fundraiser', 'gasp', 'perimeter', 'reasonably', 'tilt', 'kicker', 'dependence', 'legions', 'adobe', 'houston', 'accurate', 'relaxed', 'voted', 'bought', 'confess', 'mythology', 'proposals', 'camera', 'misogynistic', 'merchandise', 'risking', 'offensive', 'piss', 'drained', 'gruesome', 'ottomans', 'zerohedge', 'raid', 'arsenals', 'drift', 'brexit', 'calmly', 'trapped', 'fraction', 'manifests', 'canceled', 'broadcast', 'demarcation', 'excitement', 'skyrocket', 'nato', 'mobs', 'contradiction', 'exclaimed', 'active', 'devout', 'realised', 'pals', 'domain', 'sabotage', 'visit', 'sandy', 'climate', 'survive', 'rants', 'entirety', 'lasts', 'charade', 'warring', 'prostitutes', 'outright', 'behave', 'expressions', 'environmentally', 'troubled', 'interacted', 'neighboring', 'coronation', 'breathe', 'diplomatic', 'inland', 'located', 'mentally', 'species', 'supplying', 'tactic', 'disgusting', 'onset', 'halt', 'parroting', 'proceeded', 'turns', 'jumps', 'installing', 'forever', 'worn', 'shots', 'silk', 'certainty', 'nevertrump', 'administrator', 'bald', 'exercising', 'buses', 'lgbt', 'button', 'absurdity', 'metropolitan', 'follow', 'dynasty', 'hollande', 'paying', 'fellow', 'leon', 'weakest', 'reviled', 'fulfill', 'strategic', 'wore', 'partially', 'appreciate', 'books', 'dutifully', 'centrist', 'downtime', 'shortage', 'danny', 'retained', 'elevation', 'china', 'formulation', 'unsafe', 'crucial', 'masquerading', 'humanitys', 'pricing', 'room', 'ages', 'facilitated', 'able', 'rails', 'marketplace', 'protocols', 'hayes', 'tens', 'listened', 'ability', 'hastily', 'jerry', 'expire', 'whos', 'detached', 'resumed', 'lodged', 'feared', 'swimming', 'taxation', 'dismissing', 'mercenary', 'appropriation', 'eighty', 'issues', 'whitewater', 'everybody', 'eritrea', 'dapl', 'angst', 'arrangements', 'december', 'eric', 'grapple', 'unnecessarily', 'handouts', 'geopolitical', 'oscar', 'worked', 'emailed', 'sigh', 'connecting', 'forgiveness', 'cycle', 'stabilize', 'reply', 'detat', 'enhancing', 'islamophobic', 'joan', 'sufficiency', 'napolitano', 'teenager', 'devious', 'dedicate', 'bureau', 'celebrate', 'interaction', 'times', 'replaced', 'designation', 'tickets', 'iraqs', 'grandchildren', 'remarkable', 'compares', 'stricken', 'whats', 'okay', 'annexation', 'forceful', 'townsend', 'grandmother', 'examples', 'backers', 'seized', 'sources', 'forcibly', 'blah', 'manhattan', 'convergence', 'blatant', 'differing', 'exactly', 'douglas', 'projecting', 'shell', 'extend', 'iraqis', 'knowing', 'democrats', 'knocking', 'indicator', 'consisting', 'exist', 'quantum', 'assessed', 'judgement', 'killings', 'hospital', 'lecturer', 'lent', 'taboo', 'dairy', 'recognise', 'villain', 'gaga', 'bolt', 'reader', 'absurd', 'hanging', 'minerals', 'affiliated', 'cohorts', 'scratching', 'symbolically', 'fusion', 'joins', 'cathy', 'proponents', 'topics', 'failings', 'highly', 'spontaneous', 'acid', 'demagogue', 'generated', 'association', 'prove', 'gender', 'intensity', 'sucks', 'impede', 'moveon', 'pledged', 'volatility', 'heavily', 'gaddafi', 'mature', 'worrisome', 'agencys', 'hacked', 'acknowledge', 'diana', 'april', 'acknowledgement', 'esteemed', 'equivalent', 'populous', 'questioned', 'comprising', 'cartel', 'drunk', 'elon', 'enlightened', 'haiti', 'numbered', 'logging', 'observes', 'happened', 'novosti', 'advice', 'subpoenaed', 'deficit', 'cleared', 'nagasaki', 'orientation', 'erode', 'ideologies', 'toxic', 'dishonest', 'wonderfully', 'beatings', 'agendas', 'avenue', 'corpse', 'mocked', 'speculative', 'looking', 'haram', 'laughter', 'pioneer', 'immersed', 'slowly', 'geared', 'incentive', 'poetry', 'responsible', 'arab', 'interact', 'retaliatory', 'musket', 'prevail', 'abandonment', 'crop', 'sect', 'burn', 'donna', 'censoring', 'ailments', 'info', 'moratorium', 'speaks', 'aptly', 'engaging', 'oceanic', 'donating', 'leagues', 'newsworthy', 'commandments', 'gifted', 'lieu', 'blockade', 'writings', 'deserving', 'criticizes', 'nebraska', 'council', 'autoimmune', 'alberta', 'undoing', 'activate', 'birth', 'pretend', 'compliant', 'oppress', 'cataclysmic', 'bitterly', 'ceos', 'renowned', 'baseball', 'subjugate', 'manpower', 'erupt', 'tirelessly', 'colonies', 'jean', 'repairs', 'collect', 'nationalists', 'substitute', 'sworn', 'believable', 'trademark', 'gaddafis', 'tipping', 'science', 'roberts', 'defunct', 'corpses', 'dramatically', 'climax', 'ways', 'vile', 'cias', 'socially', 'possible', 'greenpeace', 'lessons', 'denouncing', 'notification', 'image', 'acute', 'contents', 'advance', 'medieval', 'weaknesses', 'hardened', 'programme', 'bank', 'trumped', 'entrenched', 'aisle', 'annihilation', 'brainforce', 'difficulties', 'exploration', 'specialists', 'legion', 'houthis', 'nixon', 'formed', 'crazy', 'conquest', 'grabbed', 'databases', 'advisory', 'distant', 'eliot', 'legislative', 'allowed', 'formation', 'marry', 'penny', 'taking', 'militarists', 'singapore', 'engineers', 'tiffany', 'unclassified', 'replayed', 'crosses', 'mansion', 'caller', 'mccarthyism', 'swastika', 'conflicting', 'publicly', 'messages', 'contracts', 'astronomy', 'implication', 'advocates', 'felonies', 'abusing', 'clearly', 'column', 'cherry', 'furthermore', 'influencing', 'maricopa', 'mysteriously', 'reinforcements', 'depicts', 'objection', 'cite', 'acre', 'sanders', 'integrate', 'victims', 'tuned', 'conducted', 'cook', 'loaded', 'origin', 'celebration', 'dice', 'manufacturer', 'scripted', 'addicts', 'builds', 'boots', 'suppressed', 'regret', 'repeating', 'recreational', 'algorithms', 'narcotics', 'abdel', 'voltaire', 'commitment', 'exceptional', 'awaken', 'interceptor', 'coastline', 'assurances', 'kyle', 'margaret', 'press', 'preppers', 'prophecies', 'stunning', 'twists', 'asses', 'decline', 'gain', 'manipulated', 'italian', 'ready', 'interestingly', 'hedges', 'watchdog', 'bounds', 'tsunami', 'bruce', 'distribute', 'normalize', 'battleground', 'rebel', 'propelled', 'praised', 'oppressed', 'shaky', 'illusory', 'quantities', 'honestly', 'municipal', 'hiring', 'planting', 'significantly', 'refreshing', 'certain', 'cosby', 'frenzy', 'athlete', 'christians', 'releases', 'assist', 'drumbeat', 'rodgers', 'militia', 'iowa', 'packs', 'modes', 'reason', 'skepticism', 'folly', 'intellectual', 'aipac', 'wwiii', 'snip', 'images', 'explore', 'logic', 'orchestrate', 'entitlements', 'powered', 'emerges', 'venezuela', 'visual', 'bless', 'crooks', 'guatemala', 'flew', 'insist', 'commentary', 'goods', 'events', 'derivative', 'doors', 'policemen', 'smug', 'taxpayer', 'stockholm', 'fateful', 'forcing', 'inhumane', 'podium', 'pauls', 'flatly', 'melt', 'faced', 'deceptive', 'ripe', 'cancer', 'complicated', 'jerusalem', 'boats', 'batch', 'invaded', 'moderate', 'surviving', 'registering', 'javascript', 'shapiro', 'workings', 'assumed', 'williamson', 'liver', 'worldwide', 'tonkin', 'lame', 'palin', 'apartheid', 'responding', 'leave', 'expected', 'norms', 'patreon', 'airplanes', 'bastion', 'synthetic', 'whistleblower', 'purported', 'horrors', 'possesses', 'outskirts', 'controllers', 'wanna', 'fold', 'johns', 'drinks', 'evolution', 'informs', 'macro', 'ethically', 'errors', 'inspection', 'wakes', 'tunnel', 'admiration', 'requesting', 'yearly', 'accusing', 'foot', 'veteran', 'consolidate', 'ardent', 'comforting', 'competing', 'ambitions', 'discusses', 'starr', 'nuanced', 'formally', 'lowered', 'omitted', 'sensitive', 'thankful', 'economies', 'stuff', 'financial', 'norway', 'velocity', 'prospects', 'crackdown', 'presstitutes', 'underneath', 'electing', 'bans', 'envelope', 'marks', 'european', 'specialist', 'stay', 'photographer', 'different', 'looked', 'naval', 'styled', 'merchants', 'ounce', 'haunt', 'unable', 'filled', 'deserve', 'conditioned', 'friday', 'manifesto', 'parasites', 'reasoned', 'scientific', 'setting', 'innocence', 'fragments', 'journals', 'griffin', 'hitherto', 'masculine', 'rank', 'bombarded', 'kids', 'lincoln', 'nonexistent', 'unusually', 'pedophile', 'incumbent', 'phantom', 'condone', 'arrive', 'indulge', 'aluminum', 'siding', 'wishful', 'completing', 'quote', 'loretta', 'megyn', 'colonialism', 'jurisdiction', 'biden', 'nick', 'cake', 'chest', 'pledging', 'gangs', 'campaigned', 'departure', 'faint', 'dwight', 'suggested', 'sabotaged', 'sexism', 'blueprint', 'jones', 'flooded', 'advantage', 'housing', 'evergreen', 'laws', 'fraught', 'jaish', 'dissidents', 'fostered', 'parking', 'shining', 'storing', 'supremacist', 'verbal', 'coordinate', 'jens', 'procedure', 'poster', 'related', 'militaristic', 'goose', 'bursts', 'leadership', 'myths', 'barriers', 'outer', 'treating', 'drown', 'tool', 'relieve', 'foreclosure', 'brunt', 'electioneering', 'soaring', 'document', 'best', 'instruction', 'agriculture', 'shortages', 'presume', 'draconian', 'bushes', 'login', 'martha', 'pack', 'separatists', 'dmca', 'warmer', 'adapted', 'verbally', 'metabolism', 'wizard', 'attendance', 'west', 'libel', 'fatigue', 'silent', 'exceed', 'heated', 'grade', 'combining', 'unrelated', 'attract', 'scaring', 'michelle', 'historians', 'enrichment', 'politically', 'indicators', 'duff', 'endurance', 'strength', 'australias', 'hall', 'abstained', 'mentions', 'gift', 'staunch', 'prosecutorial', 'militaries', 'shortly', 'meet', 'batches', 'hospitalized', 'intuitive', 'sell', 'conglomerates', 'creation', 'relentlessly', 'theme', 'reminiscent', 'fashion', 'artists', 'moved', 'dense', 'spaces', 'pretended', 'concealing', 'westerners', 'sensible', 'gutted', 'allegations', 'dumps', 'video', 'helmet', 'contact', 'impact', 'correct', 'hitler', 'isaac', 'rotation', 'pulitzer', 'revolting', 'deficiency', 'standpoint', 'mecca', 'pickup', 'processes', 'wrongs', 'nonpartisan', 'hayden', 'aligning', 'vitamin', 'soldier', 'union', 'pakistans', 'wounded', 'instructed', 'hillaryclinton', 'solve', 'catastrophes', 'prices', 'access', 'kuznetsov', 'booming', 'rice', 'collaborate', 'attraction', 'counter', 'memorial', 'ferguson', 'untrustworthy', 'maintaining', 'outcomes', 'partnerships', 'minorities', 'farms', 'graduated', 'midday', 'dread', 'faction', 'venues', 'soft', 'woodhouse', 'sectarian', 'vitriol', 'northeastern', 'squeezing', 'attendees', 'delivering', 'surprised', 'want', 'unrepentant', 'investments', 'screwed', 'destined', 'detractors', 'pivot', 'executed', 'patriotic', 'temple', 'rattling', 'kindergarten', 'cessation', 'confident', 'hail', 'counterterrorism', 'ajamu', 'quarterly', 'loans', 'aware', 'demonstration', 'gloves', 'nude', 'sept', 'vulnerability', 'including', 'doctors', 'preeminent', 'interviews', 'organize', 'orlando', 'comparatively', 'pile', 'complying', 'rocks', 'arthur', 'detrimental', 'mushrooms', 'veritas', 'notable', 'comparable', 'platter', 'writers', 'cross', 'interpretation', 'sunny', 'scum', 'lobbyists', 'exhaustion', 'population', 'nichols', 'vetting', 'criticism', 'emphasis', 'helping', 'unity', 'commander', 'massacres', 'rotting', 'pork', 'pouring', 'enterprises', 'uses', 'oriented', 'wheat', 'launcher', 'paranoia', 'fueling', 'wielded', 'workplace', 'fargo', 'manners', 'illnesses', 'roof', 'despite', 'russophobia', 'simon', 'turnaround', 'kallstrom', 'sustenance', 'modi', 'prescribing', 'recipes', 'file', 'removal', 'encircling', 'finances', 'bloggers', 'coordinates', 'egypts', 'dots', 'render', 'attribution', 'paper', 'spending', 'coupled', 'micro', 'assimilate', 'paint', 'causal', 'reassure', 'forthcoming', 'generation', 'rocket', 'gras', 'secret', 'antichrist', 'salvation', 'ranging', 'lobbies', 'coveted', 'monitored', 'favour', 'clinically', 'shameful', 'embarked', 'mischief', 'outlook', 'knockoff', 'clarify', 'stated', 'author', 'immigrant', 'chambers', 'dared', 'corporate', 'lengthy', 'colin', 'israel', 'features', 'sixth', 'participate', 'insulting', 'lonely', 'chilling', 'rude', 'morgan', 'desktop', 'probing', 'vendors', 'frame', 'interior', 'jets', 'magnate', 'healthcare', 'homeless', 'narcissism', 'enforced', 'wishes', 'menace', 'ravaged', 'bowl', 'fruition', 'curse', 'rabbi', 'dealing', 'denies', 'publically', 'droves', 'provisions', 'answers', 'enabling', 'controversy', 'julie', 'reforms', 'sara', 'washington', 'moving', 'statements', 'prohibited', 'scary', 'trigger', 'lows', 'carriers', 'freedom', 'heterons', 'stories', 'surged', 'discretion', 'suck', 'hill', 'parallels', 'painfully', 'whitewash', 'apathy', 'unexplained', 'investigates', 'aired', 'herbert', 'ideology', 'billionaires', 'toilets', 'exhibited', 'wise', 'ending', 'injuries', 'pointless', 'floor', 'americans', 'stuffed', 'anne', 'structured', 'chuck', 'manbij', 'censors', 'glyphosate', 'hand', 'missiles', 'results', 'hinting', 'conspiratorial', 'blink', 'lords', 'perish', 'prestige', 'banking', 'relief', 'sickening', 'yahoo', 'rocky', 'extraterrestrial', 'norm', 'genes', 'duplicates', 'cooper', 'liquidity', 'machinery', 'blake', 'bridges', 'occupied', 'amusing', 'skies', 'cellphone', 'supervision', 'radio', 'bureaucracy', 'framed', 'tormented', 'formula', 'rebuke', 'sagging', 'tooth', 'neil', 'deportation', 'expectancy', 'collapsing', 'website', 'committed', 'influences', 'emperors', 'pregnant', 'makers', 'joking', 'polar', 'arabian', 'believer', 'mercenaries', 'rendering', 'patch', 'creators', 'columbia', 'crafting', 'database', 'mohammad', 'reid', 'substantiated', 'talk', 'thomas', 'josh', 'lying', 'briefings', 'attempt', 'intimidation', 'madrid', 'plastic', 'partner', 'sake', 'smugglers', 'deborah', 'swan', 'thrones', 'weiners', 'toronto', 'panama', 'assanges', 'disclosure', 'taxes', 'useful', 'murray', 'hour', 'teamed', 'warplanes', 'investigating', 'quickly', 'divisive', 'seasoned', 'youve', 'londons', 'cooperated', 'parliaments', 'participation', 'homs', 'preventable', 'adjust', 'corrected', 'giant', 'quantitative', 'range', 'cured', 'dwelling', 'imperialist', 'chinas', 'repudiation', 'detailing', 'ingredients', 'yiannopoulos', 'seal', 'refuse', 'gore', 'metals', 'aboriginal', 'poor', 'reflection', 'trip', 'discreetly', 'options', 'pleased', 'emphasize', 'sentenced', 'korean', 'notoriously', 'applause', 'campuses', 'annexing', 'admission', 'inundated', 'cameras', 'easiest', 'rolled', 'females', 'oscars', 'legislature', 'owns', 'vindicated', 'edited', 'themed', 'governance', 'kasich', 'short', 'assange', 'border', 'hormone', 'blunder', 'judith', 'snowden', 'threat', 'unreported', 'vacuum', 'burst', 'correcting', 'scare', 'dominion', 'hawkish', 'lacking', 'hairs', 'supplier', 'enacting', 'federation', 'disenfranchised', 'rushing', 'billion', 'steam', 'contra', 'parliament', 'wait', 'jeremy', 'brutally', 'brief', 'generic', 'negligent', 'relevant', 'sourced', 'exists', 'convictions', 'eagles', 'germans', 'facts', 'reduced', 'comfortable', 'pill', 'sent', 'tyrannical', 'closed', 'commercials', 'quality', 'attain', 'blurred', 'canadians', 'returned', 'seismic', 'work', 'gravity', 'town', 'allegation', 'claims', 'wiki', 'oral', 'gradually', 'risk', 'blames', 'constant', 'bars', 'chronicle', 'detainees', 'bogged', 'equitable', 'depends', 'roman', 'adultery', 'spooky', 'hell', 'jewelry', 'netherlands', 'official', 'batons', 'identifies', 'antipathy', 'millions', 'suspend', 'groomed', 'educated', 'food', 'veracity', 'retribution', 'moot', 'soros', 'rubio', 'status', 'violate', 'impending', 'regulators', 'ryan', 'circled', 'soccer', 'triggered', 'julian', 'lobbying', 'burkhart', 'schedule', 'vacation', 'willingness', 'campbell', 'absolute', 'authentication', 'accuse', 'travel', 'assaulted', 'incoherent', 'wield', 'motivated', 'stomping', 'muslim', 'plus', 'incomes', 'innuendo', 'lifted', 'towel', 'defeats', 'uprising', 'adversity', 'golds', 'testing', 'stronger', 'incendiary', 'patterns', 'stretching', 'minors', 'permanently', 'toxins', 'millennium', 'instincts', 'todays']\n"
     ]
    }
   ],
   "source": [
    "print(vectorizer.get_feature_names())"
   ]
  },
  {
   "cell_type": "code",
   "execution_count": 124,
   "metadata": {
    "collapsed": true
   },
   "outputs": [],
   "source": [
    "wd_frequency = vectorizer.transform(text)"
   ]
  },
  {
   "cell_type": "code",
   "execution_count": 125,
   "metadata": {
    "collapsed": true
   },
   "outputs": [],
   "source": [
    "tsvd = TruncatedSVD(n_components=200,random_state=40)"
   ]
  },
  {
   "cell_type": "code",
   "execution_count": 126,
   "metadata": {},
   "outputs": [
    {
     "data": {
      "text/plain": [
       "TruncatedSVD(algorithm='randomized', n_components=200, n_iter=5,\n",
       "       random_state=40, tol=0.0)"
      ]
     },
     "execution_count": 126,
     "metadata": {},
     "output_type": "execute_result"
    }
   ],
   "source": [
    "tsvd.fit(wd_frequency)"
   ]
  },
  {
   "cell_type": "code",
   "execution_count": 127,
   "metadata": {},
   "outputs": [
    {
     "data": {
      "text/plain": [
       "{'algorithm': 'randomized',\n",
       " 'n_components': 200,\n",
       " 'n_iter': 5,\n",
       " 'random_state': 40,\n",
       " 'tol': 0.0}"
      ]
     },
     "execution_count": 127,
     "metadata": {},
     "output_type": "execute_result"
    }
   ],
   "source": [
    "tsvd.get_params()"
   ]
  },
  {
   "cell_type": "code",
   "execution_count": 128,
   "metadata": {},
   "outputs": [
    {
     "data": {
      "text/plain": [
       "0.55756321592605329"
      ]
     },
     "execution_count": 128,
     "metadata": {},
     "output_type": "execute_result"
    }
   ],
   "source": [
    "sum(tsvd.explained_variance_ratio_)"
   ]
  },
  {
   "cell_type": "code",
   "execution_count": 129,
   "metadata": {},
   "outputs": [
    {
     "data": {
      "image/png": "[encoded data removed]",
      "text/plain": [
       "<matplotlib.figure.Figure at 0x7f72d7dcf9e8>"
      ]
     },
     "metadata": {},
     "output_type": "display_data"
    }
   ],
   "source": [
    "\n",
    "\n",
    "cumul=0\n",
    "n_components=[]\n",
    "cum_vals = []\n",
    "for ind,singv in enumerate(tsvd.explained_variance_ratio_):\n",
    "    cumul += singv\n",
    "    n_components.append(ind+1)\n",
    "    cum_vals.append(cumul)\n",
    "    \n",
    "plt.plot(n_components,cum_vals,'g-');"
   ]
  },
  {
   "cell_type": "code",
   "execution_count": 130,
   "metadata": {
    "collapsed": true
   },
   "outputs": [],
   "source": [
    "transformed_wd_frequency = pd.DataFrame(tsvd.transform(wd_frequency))"
   ]
  },
  {
   "cell_type": "code",
   "execution_count": 135,
   "metadata": {},
   "outputs": [
    {
     "data": {
      "text/plain": [
       "Counter({0: 9185, 1: 651, 2: 19, 3: 10})"
      ]
     },
     "execution_count": 135,
     "metadata": {},
     "output_type": "execute_result"
    }
   ],
   "source": [
    "kmeanscl = KMeans(n_clusters=4,n_jobs=-1,random_state=40)\n",
    "\n",
    "kmeanscl.fit(transformed_wd_frequency)\n",
    "\n",
    "centroids = kmeanscl.cluster_centers_\n",
    "\n",
    "Counter(kmeanscl.labels_)"
   ]
  },
  {
   "cell_type": "code",
   "execution_count": 132,
   "metadata": {},
   "outputs": [
    {
     "data": {
      "text/plain": [
       "9865"
      ]
     },
     "execution_count": 132,
     "metadata": {},
     "output_type": "execute_result"
    }
   ],
   "source": [
    "len(kmeanscl.labels_)"
   ]
  },
  {
   "cell_type": "code",
   "execution_count": 133,
   "metadata": {},
   "outputs": [
    {
     "data": {
      "text/plain": [
       "<matplotlib.text.Text at 0x7f7391636e80>"
      ]
     },
     "execution_count": 133,
     "metadata": {},
     "output_type": "execute_result"
    },
    {
     "data": {
      "image/png": "[encoded data removed]",
      "text/plain": [
       "<matplotlib.figure.Figure at 0x7f73915d13c8>"
      ]
     },
     "metadata": {},
     "output_type": "display_data"
    }
   ],
   "source": [
    "n_clusters_list = []\n",
    "inertia_list = []\n",
    "silhouette_score_list = []\n",
    "\n",
    "for n in range(2,12):\n",
    "    kmeanscl = KMeans(n_clusters=n,n_jobs=-1,random_state=40)\n",
    "    kmeanscl.fit(transformed_wd_frequency)\n",
    "    cluster_lab = kmeanscl.predict(transformed_wd_frequency)\n",
    "    s_score = silhouette_score(transformed_wd_frequency,cluster_lab)\n",
    "    n_clusters_list.append(n)\n",
    "    inertia_list.append(kmeanscl.inertia_)\n",
    "    silhouette_score_list.append(s_score)\n",
    "\n",
    "\n",
    "plt.subplot(2,1,1)\n",
    "plt.plot(n_clusters_list,inertia_list,'g-')\n",
    "plt.xlabel('n_clusters')\n",
    "plt.ylabel('inertia')\n",
    "\n",
    "plt.subplot(2,1,2)\n",
    "plt.plot(n_clusters_list,silhouette_score_list,'red')\n",
    "plt.xlabel('n_clusters')\n",
    "plt.ylabel('silhouette score')"
   ]
  },
  {
   "cell_type": "code",
   "execution_count": null,
   "metadata": {
    "collapsed": true
   },
   "outputs": [],
   "source": []
  },
  {
   "cell_type": "code",
   "execution_count": 60,
   "metadata": {},
   "outputs": [
    {
     "data": {
      "text/plain": [
       "9952"
      ]
     },
     "execution_count": 60,
     "metadata": {},
     "output_type": "execute_result"
    }
   ],
   "source": [
    "len(fakenews_df_filtered)"
   ]
  },
  {
   "cell_type": "code",
   "execution_count": 95,
   "metadata": {
    "collapsed": true
   },
   "outputs": [],
   "source": [
    "clustered_text = pd.merge(pd.DataFrame(fakenews_df_filtered),\n",
    "                          pd.DataFrame(kmeanscl.labels_,\n",
    "                                       index=fakenews_df_filtered.index,\n",
    "                                       columns=['cluster_label']),\n",
    "                          how='left',left_index=True,right_index=True)"
   ]
  },
  {
   "cell_type": "code",
   "execution_count": 97,
   "metadata": {},
   "outputs": [
    {
     "data": {
      "text/plain": [
       "['studies at Hampshire College and the author, most recently, of The Race for What’s Left . A documentary movie version of his book Blood and Oil is available from the Media Education Foundation . Follow him on Twitter at @mklare1. Originally published at TomDispatch \\nOnce upon a time, when choosing a new president, a factor for many voters was the perennial question: “Whose finger do you want on the nuclear button?” Of all the responsibilities of America’s top executive, none may be more momentous than deciding whether, and under what circumstances, to activate the “nuclear codes”— the secret alphanumeric messages that would inform missile officers in silos and submarines that the fearful moment had finally arrived to launch their intercontinental ballistic missiles (ICBMs) toward a foreign adversary, igniting a thermonuclear war. \\nUntil recently in the post-Cold War world, however, nuclear weapons seemed to drop from sight, and that question along with it. Not any longer. In 2016, the nuclear issue is back big time, thanks both to the rise of Donald Trump ( including various unsettling comments he’s made about nuclear weapons) and actual changes in the global nuclear landscape. \\nWith passions running high on both sides in this year’s election and rising fears about Donald Trump’s impulsive nature and Hillary Clinton’s hawkish one, it’s hardly surprising that the “nuclear button” question has surfaced repeatedly throughout the campaign. In one of the more pointed exchanges of the first presidential debate, Hillary Clinton declared that Donald Trump lacked the mental composure for the job. “A man who can be provoked by a tweet,” she commented , “should not have his fingers anywhere near the nuclear codes.” Donald Trump has reciprocated by charging that Clinton is too prone to intervene abroad. “You’re going to end up in World War III over Syria,” he told reporters in Florida last month. \\nFor most election observers, however, the matter of personal character and temperament has dominated discussions of the nuclear issue, with partisans on each side insisting that the other candidate is temperamentally unfit to exercise control over the nuclear codes. There is, however, a more important reason to worry about whose finger will be on that button this time around: at this very moment, for a variety of reasons, the “nuclear threshold”— the point at which some party to a “conventional” (non-nuclear) conflict chooses to employ atomic weapons — seems to be moving dangerously lower. \\nNot so long ago, it was implausible that a major nuclear power — the United States, Russia, or China — would consider using atomic weapons in any imaginable conflict scenario. No longer. Worse yet, this is likely to be our reality for years to come, which means that the next president will face a world in which a nuclear decision-making point might arrive far sooner than anyone would have thought possible just a year or two ago — with potentially catastrophic consequences for us all. \\nNo less worrisome, the major nuclear powers (and some smaller ones) are all in the process of acquiring new nuclear arms, which could, in theory, push that threshold lower still. These include a variety of cruise missiles and other delivery systems capable of being used in “limited” nuclear wars — atomic conflicts that, in theory at least, could be confined to just a single country or one area of the world (say, Eastern Europe) and so might be even easier for decision-makers to initiate. The next president will have to decide whether the U.S. should actually produce weapons of this type and also what measures should be taken in response to similar decisions by Washington’s likely adversaries. \\nLowering the Nuclear Threshold \\nDuring the dark days of the Cold War, nuclear strategists in the United States and the Soviet Union conjured up elaborate conflict scenarios in which military actions by the two superpowers and their allies might lead from, say, minor skirmishing along the Iron Curtain to full-scale tank combat to, in the end, the use of “battlefield” nuclear weapons, and then city-busting versions of the same to avert defeat. In some of these scenarios, strategists hypothesized about wielding “tactical” or battlefield weaponry — nukes powerful enough to wipe out a major tank formation, but not Paris or Moscow — and claimed that it would be possible to contain atomic warfare at such a devastating but still sub-apocalyptic level. (Henry Kissinger, for instance, made his reputation by preaching this lunatic doctrine in his first book, Nuclear Weapons and Foreign Policy .) Eventually, leaders on both sides concluded that the only feasible role for their atomic arsenals was to act as deterrents to the use of such weaponry by the other side. This was, of course, the concept of “ mutually assured destruction ,” or — in one of the most classically apt acronyms of all times: MAD. It would, in the end, form the basis for all subsequent arms control agreements between the two superpowers. \\nAnxiety over the escalatory potential of tactical nuclear weapons peaked in the 1970s when the Soviet Union began deploying the SS-20 intermediate-range ballistic missile (capable of striking cities in Europe, but not the U.S.) and Washington responded with plans to deploy nuclear-armed, ground-launched cruise missiles and the Pershing-II ballistic missile in Europe. The announcement of such plans provoked massive antinuclear demonstrations across Europe and the United States. On December 8, 1987, at a time when worries had been growing about how a nuclear conflagration in Europe might trigger an all-out nuclear exchange between the superpowers, President Ronald Reagan and Soviet leader Mikhail Gorbachev signed the Intermediate-Range Nuclear Forces (INF) Treaty. \\nThat historic agreement — the first to eliminate an entire class of nuclear delivery systems — banned the deployment of ground-based cruise or ballistic missiles with a range of 500 and 5,500 kilometers and required the destruction of all those then in existence. After the collapse of the Soviet Union, the Russian Federation inherited the USSR’s treaty obligations and pledged to uphold the INF along with other U.S.-Soviet arms control agreements. In the view of most observers, the prospect of a nuclear war between the two countries practically vanished as both sides made deep cuts in their atomic stockpiles in accordance with already existing accords and then signed others, including the New START , the Strategic Arms Reduction Treaty of 2010. \\nToday, however, this picture has changed dramatically. The Obama administration has concluded that Russia has violated the INF treaty by testing a ground-launched cruise missile of prohibited range, and there is reason to believe that, in the not-too-distant future, Moscow might abandon that treaty altogether. Even more troubling, Russia has adopted a military doctrine that favors the early use of nuclear weapons if it faces defeat in a conventional war, and NATO is considering comparable measures in response. The nuclear threshold, in other words, is dropping rapidly. \\nMuch of this is due, it seems, to Russian fears about its military inferiority vis-à-vis the West. In the chaotic years following the collapse of the USSR, Russian military spending plummeted and the size and quality of its forces diminished accordingly. In an effort to restore Russia’s combat capabilities, President Vladimir Putin launched a multi-year, multi-billion-dollar expansion and modernization program. The fruits of this effort were apparent in the Crimea and Ukraine in 2014, when Russian forces, however disguised, demonstrated better fighting skills and wielded better weaponry than in the Chechnya wars a decade earlier. Even Russian analysts acknowledge, however, that their military in its current state would be no match for American and NATO forces in a head-on encounter, given the West’s superior array of conventional weaponry. To fill the breach, Russian strategic doctrine now calls for the early use of nuclear weapons to offset an enemy’s superior conventional forces. \\nTo put this in perspective, Russian leaders ardently believe that they are the victims of a U.S.-led drive by NATO to encircle their country and diminish its international influence. They point, in particular, to the build-up of NATO forces in the Baltic countries, involving the semi-permanent deployment of combat battalions in what was once the territory of the Soviet Union, and in apparent violation of promises made to Gorbachev in 1990 that NATO would not do so. As a result, Russia has been bolstering its defenses in areas bordering Ukraine and the Baltic states, and training its troops for a possible clash with the NATO forces stationed there. \\nThis is where the nuclear threshold enters the picture. Fearing that it might be defeated in a future clash, its military strategists have called for the early use of tactical nuclear weapons, some of which no doubt would violate the INF Treaty, in order to decimate NATO forces and compel them to quit fighting. Paradoxically, in Russia, this is labeled a “ de-escalation ” strategy, as resorting to strategic nuclear attacks on the U.S. under such circumstances would inevitably result in Russia’s annihilation. On the other hand, a limited nuclear strike (so the reasoning goes) could potentially achieve success on the battlefield without igniting all-out atomic war. As Eugene Rumer of the Carnegie Endowment of International Peace explains, this strategy assumes that such supposedly “limited” nuclear strikes “will have a sobering effect on the enemy, which will then cease and desist.” \\nTo what degree tactical nuclear weapons have been incorporated into Moscow’s official military doctrine remains unknown, given the degree of secrecy surrounding such matters. It is apparent, however, that the Russians have been developing the means with which to conduct such “limited” strikes. Of greatest concern to Western analysts in this regard is their deployment of the Iskander-M short-range ballistic missile, a modern version of the infamous Soviet-era “Scud” missile (used by Saddam Hussein’s forces during the Iran-Iraq war of 1980-1988 and the Persian Gulf War of 1990-1991). Said to have a range of 500 kilometers (just within the INF limit), the Iskander can carry either a conventional or a nuclear warhead. As a result, a targeted country or a targeted military could never be sure which type it might be facing (and might simply assume the worst). Adding to such worries, the Russians have deployed the Iskander in Kaliningrad, a tiny chunk of Russian territory wedged between Poland and Lithuania that just happens to put it within range of many western European cities. \\nIn response, NATO strategists have discussed lowering the nuclear threshold themselves, arguing — ominously enough — that the Russians will only be fully dissuaded from employing their limited-nuclear-war strategy if they know that NATO has a robust capacity to do the same. At the very least, what’s needed, some of them claim , is a more frequent inclusion of nuclear-capable or dual-use aircraft in exercises on Russia’s frontiers to “signal” NATO’s willingness to resort to limited nuclear strikes, too. Again, such moves are not yet official NATO strategy, but it’s clear that senior officials are weighing them seriously. \\nJust how all of this might play out in a European crisis is, of course, unknown, but both sides in an increasingly edgy standoff are coming to accept that nuclear weapons might have a future military role, which is, of course, a recipe for almost unimaginable escalation and disaster of an apocalyptic sort. This danger is likely to become more pronounced in the years ahead because both Washington and Moscow seem remarkably intent on developing and deploying new nuclear weapons designed with just such needs in mind. \\nThe New Nuclear Armaments \\nBoth countries are already in the midst of ambitious and extremely costly efforts to “ modernize ” their nuclear arsenals. Of all the weapons now being developed, the two generating the most anxiety in terms of that nuclear threshold are a new Russian ground-launched cruise missile (GLCM) and an advanced U.S. air-launched cruise missile (ALCM). Unlike ballistic missiles, which exit the Earth’s atmosphere before returning to strike their targets, such cruise missiles remain within the atmosphere throughout their flight. \\nAmerican officials claim that the Russian GLCM, reportedly now being deployed, is of a type outlawed by the INF Treaty. Without providing specifics, the State Department indicated in a 2014 memo that it had “a range capability of 500 km [kilometers] to 5,500 km,” which would indeed put it in violation of that treaty by allowing Russian combat forces to launch nuclear warheads against cities throughout Europe and the Middle East in a “limited” nuclear war. \\nThe GLCM is likely to prove one of the most vexing foreign policy issues the next president will face. So far, the White House has been reluctant to press Moscow too hard, fearing that the Russians might respond by exiting the INF Treaty altogether and so eliminate remaining constraints on its missile program. But many in Congress and among Washington’s foreign policy elite are eager to see the next occupant of the Oval Office take a tougher stance if the Russians don’t halt deployment of the missile, threatening Moscow with more severe economic sanctions or moving toward countermeasures like the deployment of enhanced anti-missile systems in Europe. The Russians would, in turn, undoubtedly perceive such moves as threats to their strategic deterrent forces and so an invitation for further weapons acquisitions, setting off a fresh round in the long-dormant Cold War nuclear arms race. \\nOn the American side, the weapon of immediate concern is a new version of the AGM-86B air-launched cruise missile, usually carried by B-52 bombers. Also known as the Long-Range Standoff Weapon (LRSO), it is, like the Iskander-M, expected to be deployed in both nuclear and conventional versions, leaving those on the potential receiving end unsure what might be heading their way. In other words, as with the Iskander-M, the intended target might assume the worst in a crisis, leading to the early use of nuclear weapons. Put another way, such missiles make for twitchy trigger fingers and are likely to lead to a heightened risk of nuclear war, which, once started, might in turn take Washington and Moscow right up the escalatory ladder to a planetary holocaust. \\nNo wonder former Secretary of Defense William J. Perry called on President Obama to cancel the ALCM program in a recent Washington Post op-ed piece. “Because they… come in both nuclear and conventional variants,” he wrote, “cruise missiles are a uniquely destabilizing type of weapon.” And this issue is going to fall directly into the lap of the next president. \\nThe New Nuclear Era \\nWhoever is elected on November 8th, we are evidently all headed into a world in which Trumpian-style itchy trigger fingers could be the norm. It already looks like both Moscow and Washington will contribute significantly to this development — and they may not be alone. In response to Russian and American moves in the nuclear arena, China is reported to be developing a “ hypersonic glide vehicle ,” a new type of nuclear warhead better able to evade anti-missile defenses — something that, at a moment of heightened crisis, might make a nuclear first strike seem more attractive to Washington. And don’t forget Pakistan, which is developing its own short-range “tactical” nuclear missiles, increasing the risk of the quick escalation of any future Indo-Pakistani confrontation to a nuclear exchange. (To put such “regional” dangers in perspective, a local nuclear war in South Asia could cause a global nuclear winter and, according to one study , possibly kill a billion people worldwide, thanks to crop failures and the like.) \\nAnd don’t forget North Korea, which is now testing a nuclear-armed ICBM, the Musudan, intended to strike the Western United States. That prompted a controversial decision in Washington to deploy THAAD (Terminal High Altitude Area Defense) anti-missile batteries in South Korea (something China bitterly opposes), as well as the consideration of other countermeasures, including undoubtedly scenarios involving first strikes against the North Koreans. \\nIt’s clear that we’re on the threshold of a new nuclear era: a time when the actual use of atomic weapons is being accorded greater plausibility by military and political leaders globally, while war plans are being revised to allow the use of such weapons at an earlier stage in future armed clashes. \\nAs a result, the next president will have to grapple with nuclear weapons issues — and possible nuclear crises — in a way unknown since the Cold War era. Above all else, this will require both a cool head and a sufficient command of nuclear matters to navigate competing pressures from allies, the military, politicians, pundits, and the foreign policy establishment without precipitating a nuclear conflagration. On the face of it, that should disqualify Donald Trump. When questioned on nuclear issues in the first debate, he exhibited a striking ignorance of the most basic aspects of nuclear policy. But even Hillary Clinton, for all her experience as secretary of state, is likely to have a hard time grappling with the pressures and dangers that are likely to arise in the years ahead, especially given that her inclination is to toughen U.S. policy toward Russia. \\nIn other words, whoever enters the Oval Office, it may be time for the rest of us to take up those antinuclear signs long left to molder in closets and memories, and put some political pressure on leaders globally to avoid strategies and weapons that would make human life on this planet so much more precarious than it already is. 0 0 0 0 0 0']"
      ]
     },
     "execution_count": 97,
     "metadata": {},
     "output_type": "execute_result"
    }
   ],
   "source": [
    "list(clustered_text[clustered_text['cluster_label']==3]['text'].sample())"
   ]
  },
  {
   "cell_type": "code",
   "execution_count": 98,
   "metadata": {},
   "outputs": [
    {
     "data": {
      "text/html": [
       "<div>\n",
       "<style>\n",
       "    .dataframe thead tr:only-child th {\n",
       "        text-align: right;\n",
       "    }\n",
       "\n",
       "    .dataframe thead th {\n",
       "        text-align: left;\n",
       "    }\n",
       "\n",
       "    .dataframe tbody tr th {\n",
       "        vertical-align: top;\n",
       "    }\n",
       "</style>\n",
       "<table border=\"1\" class=\"dataframe\">\n",
       "  <thead>\n",
       "    <tr style=\"text-align: right;\">\n",
       "      <th></th>\n",
       "      <th>uuid</th>\n",
       "      <th>ord_in_thread</th>\n",
       "      <th>author</th>\n",
       "      <th>published</th>\n",
       "      <th>title</th>\n",
       "      <th>text</th>\n",
       "      <th>language</th>\n",
       "      <th>crawled</th>\n",
       "      <th>site_url</th>\n",
       "      <th>country</th>\n",
       "      <th>...</th>\n",
       "      <th>thread_title</th>\n",
       "      <th>spam_score</th>\n",
       "      <th>main_img_url</th>\n",
       "      <th>replies_count</th>\n",
       "      <th>participants_count</th>\n",
       "      <th>likes</th>\n",
       "      <th>comments</th>\n",
       "      <th>shares</th>\n",
       "      <th>type</th>\n",
       "      <th>cluster_label</th>\n",
       "    </tr>\n",
       "  </thead>\n",
       "  <tbody>\n",
       "  </tbody>\n",
       "</table>\n",
       "<p>0 rows × 21 columns</p>\n",
       "</div>"
      ],
      "text/plain": [
       "Empty DataFrame\n",
       "Columns: [uuid, ord_in_thread, author, published, title, text, language, crawled, site_url, country, domain_rank, thread_title, spam_score, main_img_url, replies_count, participants_count, likes, comments, shares, type, cluster_label]\n",
       "Index: []\n",
       "\n",
       "[0 rows x 21 columns]"
      ]
     },
     "execution_count": 98,
     "metadata": {},
     "output_type": "execute_result"
    }
   ],
   "source": [
    "clustered_text[clustered_text['language']!='english']"
   ]
  },
  {
   "cell_type": "code",
   "execution_count": 99,
   "metadata": {},
   "outputs": [
    {
     "data": {
      "text/html": [
       "<div>\n",
       "<style>\n",
       "    .dataframe thead tr:only-child th {\n",
       "        text-align: right;\n",
       "    }\n",
       "\n",
       "    .dataframe thead th {\n",
       "        text-align: left;\n",
       "    }\n",
       "\n",
       "    .dataframe tbody tr th {\n",
       "        vertical-align: top;\n",
       "    }\n",
       "</style>\n",
       "<table border=\"1\" class=\"dataframe\">\n",
       "  <thead>\n",
       "    <tr style=\"text-align: right;\">\n",
       "      <th></th>\n",
       "      <th>uuid</th>\n",
       "      <th>ord_in_thread</th>\n",
       "      <th>author</th>\n",
       "      <th>published</th>\n",
       "      <th>title</th>\n",
       "      <th>text</th>\n",
       "      <th>language</th>\n",
       "      <th>crawled</th>\n",
       "      <th>site_url</th>\n",
       "      <th>country</th>\n",
       "      <th>...</th>\n",
       "      <th>thread_title</th>\n",
       "      <th>spam_score</th>\n",
       "      <th>main_img_url</th>\n",
       "      <th>replies_count</th>\n",
       "      <th>participants_count</th>\n",
       "      <th>likes</th>\n",
       "      <th>comments</th>\n",
       "      <th>shares</th>\n",
       "      <th>type</th>\n",
       "      <th>cluster_label</th>\n",
       "    </tr>\n",
       "  </thead>\n",
       "  <tbody>\n",
       "  </tbody>\n",
       "</table>\n",
       "<p>0 rows × 21 columns</p>\n",
       "</div>"
      ],
      "text/plain": [
       "Empty DataFrame\n",
       "Columns: [uuid, ord_in_thread, author, published, title, text, language, crawled, site_url, country, domain_rank, thread_title, spam_score, main_img_url, replies_count, participants_count, likes, comments, shares, type, cluster_label]\n",
       "Index: []\n",
       "\n",
       "[0 rows x 21 columns]"
      ]
     },
     "execution_count": 99,
     "metadata": {},
     "output_type": "execute_result"
    }
   ],
   "source": [
    "clustered_text[clustered_text['cluster_label']==8]"
   ]
  },
  {
   "cell_type": "code",
   "execution_count": 51,
   "metadata": {},
   "outputs": [
    {
     "name": "stdout",
     "output_type": "stream",
     "text": [
      "2016 elections by Robin D.G. Kelley \n",
      "The author writes: “I am not suggesting that white racism alone explains Trump’s victory. Nor am I dismissing the white working class’s very real economic grievances. It is not a matter of disaffection versus racism or sexism versus fear. Rather, racism, class anxieties, and prevailing gender ideologies operate together, inseparably, or as Kimberlé Crenshaw would say, intersectionally.” Trump Says Go Back, We Say Fight Back by Robin D.G. Kelley \n",
      "This article previously appeared in Boston Review . \n",
      "“We need to reject a thoroughly bankrupt Democratic Party leadership that is calling for conciliation and, in Obama’s words, “rooting for [Trump’s] success.” \n",
      "“If we are to keep the enormity of the forces aligned against us from establishing a false hierarchy of oppression, we must school ourselves to recognize that any attack against Blacks, any attack against women, is an attack against all of us who recognize that our interests are not being served by the systems we support. Each one of us here is a link in the connection between antipoor legislation, gay shootings, the burning of synagogues, street harassment, attacks against women, and resurgent violence against Black people.” — Audre Lorde, “Learning from the 60s” \n",
      "Donald J. Trump’s election was a national trauma, an epic catastrophe that has left millions in the United States and around the world in a state of utter shock, uncertainty, deep depression, and genuine fear. The fear is palpable and justified, especially for those Trump and his acolytes targeted—the undocumented, Muslims, anyone who “looks” undocumented or Muslim, people of color, Jews, the LGBTQ community, the disabled, women, activists of all kinds (especially Black Lives Matter and allied movements resisting state-sanctioned violence), trade unions. . . . the list is long. And the attacks have begun; as I write these words, reports of hate crimes and racist violence are flooding my inbox. \n",
      "The common refrain is that no one expected this. (Of course, the truth is that many people did expect this, just not in the elite media.) At no point, this refrain goes, could “we” imagine Trump in the Oval office surrounded by a cabinet made up of some of the most idiotic, corrupt, and authoritarian characters in modern day politics—Rudolph Giuliani, Chris Christie, Newt Gingrich, Sarah Palin, John Bolton, Ben Carson, Jeff Sessions, David “Blue Lives Matter” Clarke, Joe Arpaio, to name a few. Meanwhile, paid professional pundits are scrambling to peddle their analyses and to normalize the results—on the same broadcast media that helped deliver Trump’s victory by making him their ratings-boosting spectacle rather than attending to issues, ideas, and other candidates (e.g., Bernie Sanders or Jill Stein). They deliver the same old platitudes: disaffected voters, angry white men who have suffered economically and feel forgotten, Trump’s populist message represented the nation’s deep-seated distrust of Washington, ad infinitum. Some liberal pundits have begun to speak of President-Elect Trump as thoughtful and conciliatory, and some even suggest that his unpredictability may prove to be an asset. The protests are premature or misplaced. All of this from the same folks who predicted a Clinton victory. \n",
      "“Trump’s followers are attracted to his wealth as metonym of an American dream that they, too, can enjoy once America is ‘great’ again.” \n",
      "But the outcome should not have surprised us. This election was, among other things, a referendum on whether the United States will be a straight, white nation reminiscent of the mythic “old days” when armed white men ruled, owned their castle, boasted of unvanquished military power, and everyone else knew their place. Henry Giroux’s new book America at War With Itself made this point with clarity and foresight two months before the election. The easy claim that Trump appeals to legitimate working-class populism driven by class anger, Giroux argues, ignores both the historical link between whiteness, citizenship, and humanity, and the American dream of wealth accumulation built on private property. Trump’s followers are not trying to redistribute the wealth, nor are they all “working class”—their annual median income is about $72,000. On the contrary, they are attracted to Trump’s wealth as metonym of an American dream that they, too, can enjoy once America is “great” again—which is to say, once the country returns to being “a white MAN’s country.” What Giroux identifies as “civic illiteracy” keeps them convinced that the descendants of unfree labor or the colonized, or those who are currently unfree, are to blame for America’s decline and for blocking their path to Trump-style success. \n",
      "For the white people who voted overwhelmingly for Trump, their candidate embodied the anti-Obama backlash. Pundits who say race was not a factor point to rural, predominantly white counties that went for Obama in 2008 and 2012, but now went for Trump, and to the low black and Latinx voter turnout. However, turnout was down overall, not just among African Americans. Post-election analysis shows that as a percentage of total votes the black vote dropped only 1 percent compared with the 2012 election, even while the number of black ballots counted decreased by nearly 11 percent. (Why this happened is beyond the scope of this essay, but one might begin with Greg Palast’s findings about voter suppression and the use of “crosscheck” to invalidate ballots.) Moreover, claims that nearly a third of Latinxs went for Trump have been disputed by the website Latino Decision, whose careful research puts the figure at 18 percent. The turnout does not contradict the fact that Trump drew the clear majority of white votes. This is not startling news. \n",
      "“We cannot ignore the fact that the vast majority of white men and a majority of white women, across class lines, voted for a platform and a message of white supremacy.” \n",
      "If history is our guide, “whitelash” usually follows periods of expanded racial justice and democratic rights. In the aftermath of Reconstruction, there were many instances in which southern white men switched from the biracial, abolitionist Republicans to the “redeemers,” whether it be the Democrats or, in states like Texas, the “White Man’s Party.” (No ambiguity there.) Or in the 1880s and ’90s, when white Populists betrayed their Black Populist allies in a united struggle to redistribute railroad land grants to farmers, reduce debt by inflating currency, abolish private national banks, nationalize railroads and telegraphs, and impose a graduated income tax to shift the burden onto the wealthy, among other things. Many of these one-time white “allies” joined the Ku Klux Klan, defeated the Lodge Force Bill of 1890 which would have authorized federal supervision of elections to protect black voting rights, and led the efforts to disfranchise black voters. Or the late 1960s, when vibrant struggles for black, brown, American Indian, Asian American, gay and lesbian, and women’s liberation, the anti-war movement, and student demands for a democratic revolution were followed by white backlash and the election of Richard Nixon—whose rhetoric of “law and order” and the “silent majority” Trump shamelessly plagiarized. \n",
      "Of course, Hilary Clinton did win the popular vote, and some are resorting to the easy lament that, were it not for the arcane Electoral College (itself a relic of slave power), we would not be here. One might add, too, that had it not been for the gutting of the Voting Rights Act opening the door for expanded strategies of voter suppression, or the permanent disfranchisement of some or all convicted felons in ten states, or the fact that virtually all people currently in cages cannot vote at all, or the persistence of misogyny in our culture, we may have had a different outcome. This is all true. But we cannot ignore the fact that the vast majority of white men and a majority of white women, across class lines, voted for a platform and a message of white supremacy, Islamophobia, misogyny, xenophobia, homophobia, anti-Semitism, anti-science, anti-Earth, militarism, torture, and policies that blatantly maintain income inequality. The vast majority of people of color voted against Trump, with black women registering the highest voting percentage for Clinton of any other demographic (93 percent). It is an astounding number when we consider that her husband’s administration oversaw the virtual destruction of the social safety net by turning welfare into workfare, cutting food stamps, preventing undocumented workers from receiving benefits, and denying former drug felons and users access to public housing; a dramatic expansion of the border patrol, immigrant detention centers, and the fence on Mexico’s border; a crime bill that escalated the war on drugs and accelerated mass incarceration; as well as NAFTA and legislation deregulating financial institutions. \n",
      "Still, had Trump received only a third of the votes he did and been defeated, we still would have had ample reason to worry about our future. \n",
      "“White privilege is taken for granted to the point where it need not be named and can’t be named.” \n",
      "I am not suggesting that white racism alone explains Trump’s victory. Nor am I dismissing the white working class’s very real economic grievances. It is not a matter of disaffection versus racism or sexism versus fear. Rather, racism, class anxieties, and prevailing gender ideologies operate together, inseparably, or as Kimberlé Crenshaw would say, intersectionally. White working-class men understand their plight through a racial and gendered lens. For women and people of color to hold positions of privilege or power over them is simply unnatural and can only be explained by an act of unfairness—for example, affirmative action. White privilege is taken for granted to the point where it need not be named and can’t be named. So, as activist/scholar Bill Fletcher recently observed, even though Trump’s call to deport immigrants, close the borders, and reject free trade policies appealed to working-class whites’ discontent with the effects of globalization, Trump’s plans do not amount to a rejection of neoliberalism. Fletcher writes, “Trump focused on the symptoms inherent in neoliberal globalization, such as job loss, but his was not a critique of neoliberalism. He continues to advance deregulation, tax cuts, anti-unionism, etc. He was making no systemic critique at all, but the examples that he pointed to from wreckage resulting from economic and social dislocation, resonated for many whites who felt, for various reasons, that their world was collapsing.” Yet Fletcher is quick not to reduce white working-class support for Trump to class fears alone, adding, “This segment of the white population was looking in terror at the erosion of the American Dream, but they were looking at it through the prism of race.” \n",
      "A New York Times poll shows that Trump supporters identified immigration and terrorism, not the economy, as the two most important issues in the campaign. Immigration and terrorism are both about race—Mexicans and Muslims. That there are “illegal” immigrants from around the globe, including Canada, Israel, and all over Europe doesn’t matter: anti-immigrant movements target those who can be racially profiled. And while Trump’s America fears “terrorism,” it does not disavow homegrown terrorist organizations such as the Ku Klux Klan, despite the fact that white nationalist movements are responsible for the majority of violent terrorist attacks on U.S. soil. On the contrary, Trump was not only endorsed by white nationalists and U.S.-based fascists, but during the campaign he refused to renounce their support, and Trump’s leading candidate for attorney general, Rudy Giuliani, has openly called Black Lives Matter “terrorists.” \n",
      "So where do we go from here? If we really care about the world, our country, and our future, we have no choice but to resist. We need to reject a thoroughly bankrupt Democratic Party leadership that is calling for conciliation and, in Obama’s words, “rooting for [Trump’s] success.” Pay attention: Trump’s success means mass deportation; massive military spending; the continuation and escalation of global war; a conservative Supreme Court poised to roll back Roe v. Wade, marriage equality, and too many rights to name here; a justice department and FBI dedicated to growing the Bush/Obama-era surveillance state and waging COINTELPRO-style war on activists; fiscal policies that will accelerate income inequality; massive cuts in social spending; the weakening or elimination of the Affordable Care Act; and the partial dismantling and corporatization of government. \n",
      "What must resistance look like? There are at least five things we have to do right now: \n",
      "1. Build up the sanctuary movement. \n",
      "In the 1980s, when nearly one million refugees fled U.S.-backed dictatorships in Guatemala and El Salvador, churches offered shelter, sanctuary, and assistance to those seeking political asylum, and over thirty cities were subsequently designated “sanctuary cities” by their local governments. The Obama administration’s deportations of undocumented workers rebooted the sanctuary movement, along with a vibrant immigrant rights movement that pushed the president to use executive authority to launch the Deferred Action for Childhood Arrivals (DACA) program and the Deferred Action for Parents of Americans and Lawful Permanent Residents (DAPA). Trump has vowed to end both programs, leaving some five million immigrants vulnerable to deportation and identifiable through their applications, and he has promised to immediately cut all federal funding for sanctuary cities. To those who argue that millions of undocumented people are not “political refugees,” I counter that Trump’s war on immigrants is driven entirely by his quest to take power—they will become casualties of his political machinations. Some states have already outlawed the longstanding principle of sanctuary status, but this should not deter us from strengthening and expanding the sanctuary movement to other institutions. For example, many of us who work in the University of California system are working to turn our campuses into sanctuaries—preferably with legal and administrative backing. But even without the law behind us, we must act on moral principle. \n",
      "2. Defend all of our targeted communities. \n",
      "We must defend against hate crimes, Islamophobia, anti-black racism, attacks on queer and trans people, and the erosion of reproductive rights. There is no need to reinvent the wheel since there are already hundreds of organizations across the country dedicated to the fight, including INCITE: Women of Color Against Violence, Radical Women, the Immigrant Solidarity Network, the Praxis Project, the Praxis Center, CAAAV: Organizing Asian Communities, the Coalition for Humane Immigrant Rights of Los Angeles (CHIRLA), the African American Policy Forum, the Network Against Islamophobia, and Causa Justa, to name only a few. One of the main targets of attack, of course, is the Movement for Black Lives, along with the dozens of organizations upon which it was built—Black Lives Matter, the Dream Defenders, Million Hoodies, Black Youth Project 100, Malcolm X Grassroots Movement, We Charge Genocide, and Black Organizing for Leadership and Dignity (BOLD), among others. We need to support these movements and institutions, financially and by doing the work. And we must defend the political and cultural spaces that enable us to plot, plan, build community and sustain social movements. Here in Los Angeles this means spaces such as the L.A. Black Workers Center, the Labor/Community Strategy Center and its new community space, Strategy and Soul, the L.A. Community Action Network, the Southern California Library for Social Studies and Research, the Community Coalition, and Revolutionary Autonomous Communities, among many others. In New York we can point to Decolonize This Place; in Detroit, the Boggs Center; in St. Louis, Organization for Black Struggle, and so on. There are literally hundreds of centers around the country building for local power, and while none were immune to state surveillance in the past, we can expect heightened monitoring and outright attacks under this extreme right-wing regime. Now is not the time to retreat to our identity silos. We need solidarity more than ever, recognizing that all solidarities are imperfect, often fragile, temporary, and always forged in struggle and sustained through hard work. In our state of emergency, political disagreements, slights, misunderstandings, and microaggressions should not prohibit us from fighting for peoples rights, privileges, and lives. \n",
      "3. Stop referring to the South as a political backwater, a distinctive site of racist right-wing reaction. \n",
      "First, white supremacy, homophobia, and anti-union attitudes are national, not regional, problems. Second, black and multiracial groups in the South are at the forefront of resisting Trump’s authoritarian agenda and building power outside the mainstream Democratic Party. Among them are Project South, Southerners on New Ground (SONG), the Moral Mondays Movement, Kindred: Southern Healing Justice Collective, Jackson Rising in Mississippi, Showing Up for Racial Justice (SURJ) in Louisville, Asian Americans Advancing Justice in Atlanta, and the Georgia Latino Alliance for Human Rights. \n",
      "The frontline battles that preceded Trump’s election must not be abandoned. On the contrary, they need to be strengthened. We must redouble our fight against the Dakota Access Pipeline and support the Standing Rock Sioux Nation’s historic resistance. There is no question that Trump’s election has further empowered the corporation behind the pipeline—the Texas-based Fortune 500 company Energy Transfer Partners—to continue to build no matter what the U.S. Army Corps of Engineers or the Obama Justice Department says. We need to recognize Standing Rock as not only a struggle for environmental justice but an episode in Native people’s five-hundred-year resistance to colonialism. And speaking of colonialism, the crisis in Puerto Rico has not abated—not in the least. As I write, Puerto Ricans on the island and in the U.S. mainland are using every means at their disposal to resist PROMESA, the U.S. plan that empowers a seven-member, unelected board to impose austerity measures as a way of restructuring its debt—measures that include wage reductions, selling off public assets, altering retirement plans for public employees, and fast-tracking changes even if they violate existing laws. \n",
      "4. Support and deepen the anti-Klan and anti-fascist movement. \n",
      "We must especially support groups such as Southern Poverty Law Center, which has been on the frontlines of this movement for decades. Although the fight against white supremacist organizations has been continual since the 1860s, the federal government has never successfully outlawed the Klan and similar vigilante groups (although in the 1950s the state of Alabama succeeded in outlawing the NAACP). With Trump’s election we are likely to see a surge in white nationalist and other right-wing terrorism, including attacks on black churches, synagogues, mosques, abortion clinics; and against non-white, queer, and trans people and immigrants. Some on the left will argue that resisting the so-called “alt-right” is a secondary issue since these are fringe movements and building class unity across racial lines ought to be our priority. But with the memory of Colorado Springs and Charleston seared into our memory, this argument rings hollow. And while President Obama’s poignant rendition of “Amazing Grace” at Reverend Clementa Pinckney’s funeral moved much of the nation, the truth is that it is easier to pass laws criminalizing organizations that support the boycott of businesses and institutions complicit in Israel’s illegal occupation of Palestine than it is to outlaw the Ku Klux Klan. \n",
      "5. Rebuild the labor movement. \n",
      "As obvious as this may seem, the entire labor movement is under attack on a global scale. Today labor unions are portrayed as corrupt, bloated, a drain on the economy, and modern-day cartels that threaten workers’ “liberty.” Corporations and the CEOs who run them are portrayed as the most efficient and effective mode of organization. In our neoliberal age, emergency financial managers are sent in to replace elected government during real or imagined economic crises; charter schools organized along corporate lines are replacing public schools; universities are being restructured along corporate lines with presidents increasingly functioning like CEOs; and a businessman with a checkered record, a history of improprieties and legal violations and allegations of sexual assault, and no experience whatsoever in government is elected president. \n",
      "Today’s economic debates focus not on alternatives to capitalism but on what kind of capitalism—capitalism with a safety net for the poor or one driven by extreme free-market liberalization? A capitalism in which the state’s role is to bail out big banks and financial institutions, or one where the state imposes (or rather restores) greater regulation in order to avoid economic crises? In both of these scenarios, a weakened labor movement is a given. The once-powerful unions are doing little more than fighting to restore basic collective bargaining rights and deciding how much they are going to give back. Union leaders are struggling just to participate in crafting austerity measures. In the New Deal era, the state’s efforts to save capitalism centered on Keynesian strategies of massive state expenditures in infrastructure, job creation, a social safety net in the form of direct aid and social security, and certain protections for the right of unions to organize. All these measures were made possible by a strong labor movement. There was a level of militant organization that we did not see in our post-2008 collapse, in spite of Occupy Wall Street. While Occupy was massive, international, and built on preexisting social justice movements, it lacked the kind of institutional power base and political clout that organized labor had in the 1930s. Of course, labor unions have also been powerful engines of racial and gender exclusion, working with capital to impose glass ceilings and racially segmented wages, but the twenty-first-century labor movement has largely embraced principles of social justice, antiracism, immigrant rights, and cross-border strategies. \n",
      "“I am talking about opening a path to freeing white people from the prison house of whiteness.” \n",
      "Obviously there is much missing here, like abolishing the Electoral College and continuing to wage a fight for local power in the legislative and electoral arenas as well as in the streets. Local campaigns to raise the minimum wage, for example, have not only produced key victories but served to mobilize people around issues of injustice and inequality. The sites of resistance will become clearer as the political situation becomes more concrete, especially after January 20. \n",
      "But I want to return to the white working class and how we might break the cycle of “whitelash.” First, we cannot change this country without winning over some portion of white working people, and I am not talking about gaining votes for the Democratic Party. I am talking about opening a path to freeing white people from the prison house of whiteness. True, with whiteness comes privilege, but many of the perceived privileges are inaccessible to most, which then generates resentment. Exposing whiteness for what it is—a foundational myth for the birth and consolidation of capitalism—is fundamental if we are to build a genuine social movement dedicated to dismantling the oppressive regimes of racism, heteropatriarchy, empire, and class exploitation that is at the root of inequality, precarity, materialism, and violence in many forms. I am not suggesting we ignore their grievances, but that we help white working people understand the source of their discontent—real and imagined. \n",
      "Is this possible? The struggle to recruit the white working class is an old story. Black movement leaders have been trying to free white working people from the paltry wages of whiteness since Reconstruction, at least, and it seems to always end badly. This history is not necessarily legible because we tend to conflate populism and fascism with what Henry Giroux astutely identifies as authoritarianism. Populism is the idea that ordinary people ought to have the power to control their government and their communities, especially along lines that benefit the collective. In the 1880s and ’90s, the black populist movement adopted a vision of a new society based on cooperative economics. The great writer and activist Timothy Thomas Fortune gave their unique vision eloquent voice and plans for action in his book Black and White: Land, Labor and Politics in the South (1884), which offered a path for the emancipation of the nation as a whole, not just black people. He attacked America’s betrayal of Reconstruction, identified monopoly and private ownership of land as the central source of inequality, and articulated a vision of a democratic, caring political economy based on equity and fairness. The National Colored Alliance members had advanced beyond printing more money or demanding free silver, adopting instead a more radical redistribution of wealth and power. They wanted more than a short-term alliance just to raise wages for picking cotton or reducing debt. But Fortune understood that a genuine cooperative commonwealth is not possible unless white workers and farmers join the movement. “The hour is approaching,” he wrote, “when the laboring classes of our country, North, East, West and South, will recognize that they have a common cause, a common humanity and a common enemy; and that, therefore, if they would triumph over wrong and place the laurel wreath upon triumphant justice, without distinction of race or of previous condition they must unite!” Whatever unity they managed to create proved ephemeral. As in so many other scenarios, most whites chose white supremacy over liberation. \n",
      "The lessons here are crucial. We cannot build a sustainable movement without a paradigm shift. Stopgap, utilitarian alliances to stop Trump aren’t enough. I concur with Giroux, who calls on all of us to wage “an anti-fascist struggle that is not simply about remaking economic structures, but also about refashioning identities, values, and social relations as part of a democratic project that reconfigures what it means to desire a better and more democratic future.” Robin Davis Gibran Kelley is the Gary B. Nash Professor of American History at UCLA. \n",
      "\n",
      "\n",
      "Home / Badge Abuse / Police Admit Officers May Also Be Responsible For Gunning Down Orlando Nightclub Patrons Police Admit Officers May Also Be Responsible For Gunning Down Orlando Nightclub Patrons Jay Syrmopoulos June 14, 2016 233 Comments \n",
      "Orlando, FL – New details have emerged that may shed more light on the extreme casualty count in the Orlando nightclub killings. On Monday, Orlando Police Chief John Mina intimated that some of the victims may have been killed by officers trying to perform a rescue operation. \n",
      "“I will say this, that’s all part of the investigation,” Mina said. “But I will say when our SWAT officers, about eight or nine officers, opened fire, the backdrop was a concrete wall, and they were being fired upon.” \n",
      "A confidential law enforcement source close to the investigation said a crowd of up to 300 people within the club — combined with the complex layout of the structure — may have resulted in numerous patrons being struck by gunfire from officers, according to WFAA-ABC 8 . \n",
      "Mina stood by his decision to employ a tactical strike amidst the rising likelihood that a number of the dead were the result of “friendly fire” from officers. \n",
      "“It was a hard decision to make, but it was the right decision,” he said. “Our No. 1 priority is on saving lives, and it was the right decision to make.” \n",
      "Details of the investigation are a being pieced together by local, federal and state investigators, as they continue to process the gruesome scene from a number of law enforcement mobile command units. \n",
      "Authorities have determined that Mateen, 29, walked to the club at 2:02 a.m. armed with a semi-automatic long rifle and a Glock handgun. \n",
      "An off-duty police officer working security at the club was outside investigating an underage drinker when he heard gunshots inside the club. The off-duty officer then proceeded to run inside the club and exchange gunfire with Mateen, with three additional officers soon arriving to back up the off-duty cop, law enforcement sources told WFAA-ABC 8. As the officers fired at Mateen, he retreated into a bathroom toward the rear of the club with a number of hostages. \n",
      "“Those additional officers made entry while the suspect was shooting,” Mina said. “They forced him to stop shooting and retreat to the bathroom where we believe he had several hostages.” \n",
      "While in the bathroom Mateen called 911 three times, pledging his allegiance to the Islamic State during one of the calls, although currently he has no known affiliation with any specific terrorist group. Mateen has been linked with American suicide bomber Moner Abu-Salha — who drove 16 tons of explosives into a Syrian government facility on behalf of Al Qaeda-linked Nusra Front in late May of that year. The men had also attended the same Eastern Florida mosque. \n",
      "It has since come to light that he was a regular at the gay club, which raises serious questions about the credibility of his Islamist “terrorist” connection, and raises the possibility that Mateen suffered from severe identity issues that manifested in violence. The FBI confirmed that Mateen had been on their radar and had been interviewed on 3 separate occasions. \n",
      "“He was in one bathroom fortified with hostages,” Mina said. “There were people in the opposing bathroom, about 15 or 20 people. And the details are unknown, they’re part of the investigation.” \n",
      "Orlando police crisis negotiators that spoke with Mateen said he remained calm during the talks, but that he intimated that he intended to kill more people, Mina said. \n",
      "“Based off statements made by the suspect and based on information we received by the suspect and from the hostages and the people inside,” Mina said, “we believe further loss of life was imminent. I made the decision to commence the rescue operation and do the explosive breach.” \n",
      "The SWAT team attempted to topple the exterior wall leading to the bathroom that held 15 to 20 people, but failed, so Mina decided to use a Bearcat to break a hole in the wall. The vehicle rammed the wall, creating a small opening — about 3 feet wide and 2 feet off the ground — that captives could use to escape. \n",
      "“We were able to rescue dozens and dozens of people who came out of that wall,” Mina said. “The suspect came out of that hole himself with a handgun and a long gun and engaged in a gunbattle with officers where he was ultimately killed.” \n",
      "Mateen engaged officers immediately , striking one of them in his helmet, as officers returned fire striking the assailant several times. \n",
      "The exterior concrete wall where the siege occurred is dotted with dozens of bullet holes, evidence of a shootout that included dozens of rounds fired by officers that likely hit and killed many hostages. \n",
      "The final exchange of gunfire Mateen had with law enforcement occurred at 5 a.m., ending the three-hour ordeal. Officers then walked into the nightclub and found the dead bodies of club patrons strewn about the club, with more bodies found in a nearby bathroom. \n",
      "There is a strong likelihood that we will never find out how many of the victims were ultimately killed by “friendly fire”. Jay Syrmopoulos is a political analyst, free thinker, researcher, and ardent opponent of authoritarianism. He is currently a graduate student at University of Denver pursuing a masters in Global Affairs. Jay’s work has been published on Ben Swann’s Truth in Media, Truth-Out, Raw Story, MintPress News, as well as many other sites. You can follow him on Twitter @sirmetropolis, on Facebook at Sir Metropolis and now on tsu. Share \n",
      "swat teams are responsible for cleaning up the scene the fbi created Prince \n",
      "Where’d they put all dead bodies? john smith \n",
      "wut? the swat teams have been proven to be the real killers in these false flags..so ummm they did not put them anywhere Prince \n",
      "Just wondering, as I didn’t see any footage of mass bodies being loaded into hearses. Mighty-Morphin Larry \n",
      "only time will tell… mrshouse \n",
      "Why won’t we find out? Can’t they tell from the bullets used to kill the victims? Matthew Shapiro \n",
      "The forensic examination and reconstruction will most definitely determine which rounds were fired by police vs. terrorist, even if it is not possible to identify the particular officer who fired each shot. Sangreaal \n",
      "They would be able to tell which gun fired what bullet via the rifling signature, so sure, they can indeed find out which officer fired the shot. Anon22385 \n",
      "lol, all of the bullets fired by the officers will be found to be “significantly damaged as to prohibit accurate analysis”… 2broke4 her \n",
      "exactly, and the rounds would go through most people if not all of them, unless damaged by ricocheting off something and stayed intact in the victim, then too distorted to pin point which cop..imagine a cop being told he/she killed several people.. that should make his/her day! Jo6346 \n",
      "I make in the range of $6.000-$8.000 /month doing an online job. So if you are willing to work simple online jobs for several hours /a day from your house and earn good payment in the same time… This is perfect for you… http://ur1.ca/p7vx2 \n",
      "hkhjhj \n",
      "The sarcasm was wasted on you. spg210 \n",
      "Rounds do NOT go through most people. Even at close range, unless a high powered weapon is being used. Even then the range is a deciding factor. Where did you even get that from? 2broke4 her \n",
      "funny the ones i knew in Nam went through their bodies! A 22 magnum will go through a person unless it hits bone.. the .44 special Bulldog, i have the round travels around 850 fps, it wont go through a person unless the area is unobstructed and soft tissue.. a .45 Colt 875fps wont go through either.. a cop i know was shot with a .223 at about 150 feet away and it went clean through.. in reality it comes down the factors of ballistics and if the round is affected by an obstacle, as in Bone or soft tissue.. \n",
      "They may go through, but they may also turn, and fragment. There is some very dense, and hard tissue in humans, and also tissue that is very light. benbernecky \n",
      "you’re overlooking the trail that is always left by the spent casings on the ground. How many of which caliber and their location gives a lot of clues as to how a shooting went down. If for instance they find 30 spend casings in the bar with the shooters firing pin “finger print” and other firearm indicatives like extractor marks etc. That’s why you always see spent casings designated wi5th a marker. The only problem, besides grief obviously, I have is the knee-jerk reaction to enact more inane stupid senseless gun laws that only disarm citizens of their 2nd amendment rights. You are supposed to have access “shall not be infringed” access to the heaviest firepower it takes to prevent your government from putting you into a FEMA camp. The 2nd amend. is NOT a duck-hunting right. Its for self protection. One person armed with a concealed gun would have made a world of difference and you ALL know it. CA just passed a pile of anti-gun, anti-citizen gun laws. One requires ALL parts of guns to have serial numbers? That’ll really make the jihadists think twice huh? We are not fighting a gun, we are at war with Islam jihadist which their Quran -only one- calls for all adherent’s to kill infidels- like myself. Good luck with that any of you jihadists out there. Molon Labe! Tothe \n",
      "FMJ v. JHP? Do we know which bullets were used by either side yet? 2broke4 her \n",
      "true Jeremy Shives \n",
      "My rounds go through 250lb deer at well over 100 hundred yards. Since they haven’t yet released which MCX setup the guy had we don’t know if it was 5.56, 7.62, or 300 BLK. I can assure you that 7.62 and 300 BLK will def go through a human at close range. You have to remember though the officers who may have hit patrons fired through a concrete wall first so I would suspect those rounds would be pretty messed up prior to hitting club goers… disqus_s4n9NxE7Bi \n",
      "of course. Bill Garrett \n",
      "The shooter was using .223. The SWAT team was most likely using 5.56 NATO which fires the exact same bullet. Most likely 90% of the bullets fired that night were 77 grain Sierra Match King hollow point .223. Good luck guessing which rifle they came out of. Friend of Tibet \n",
      "Even for 9mm the cops were most likely equipped with Glock pistols as well. NortonSmitty \n",
      "Orlando issues .40 S&W. Bill Garrett \n",
      "Looks like the reporting was wrong (really? the media calling a random rifle AR-15 because it was black and magazine fed?). If the shooter was using a Sig MCX then it would have been 300BLK rather than .223. LE may have been using 300BLK as well, but it was most likely 5.56. benbernecky \n",
      "I seriously doubt they won’t be able to identify any bullet. If you believe that you do not know ballistics or what rounds police prefer/required to use in close encounters. A FMJ will usually get cleanly through a human without causing blood loss trauma. That is what kills is massive blood loss. That’s why anyone trained to use a gun shoot at the core of a human target -head included. At a distance as the 223/5.56 slows down it has time to mushroom and deform causing massive soft tissue damage but can still be survivable. At close range most high powered bullets do not have time to distort even hollow points that hit nothing solid .Been doing ordinance, and ballistics all my life kids. katz ro \n",
      "They probably can’t tell if the bullet went all the way through Friend of Tibet \n",
      "Both sides used .223/5.56mm ammunition during the attack. So we are talking about exact same bullets here. disqus_s4n9NxE7Bi \n",
      "or so we’ve been told. (both sides using same ammo) Friend of Tibet \n",
      "Police uses ar15 and Suspect used SIG MCX, both chambered in .223/5.56 NATO round. So yep…… Robert Karp \n",
      "No. The difference would be the the ones used by the terrorist was a hunting round and the bullet would perform differently from the rounds used by the police. The police rounds do less damage to the body, because the hunting round is designed to most assuredly kill it’s target. They both kill but you’re more likely to survive a police round because it doesn’t expand and splinter as much. Friend of Tibet \n",
      "Gimme a break. Orlando shooter used a SIG MCX as primary weapon. It is a Tactical Semiautomatic rifle intended for LEO market. As someone who regular shoots ar15 with friends for .223/5.56 there are no so called “hunting round “and “Police round”. Both sides use off the shelf Ammunition and both sides used FMJ type ammunition. Police do not and will never choose ammunition of ” less damage to the body” on their duty rifle because they are looking at maximum stopping power. disqus_s4n9NxE7Bi \n",
      "that’s what we’ve been told, kind of convenient, no? Lily Munster \n",
      "They’re going to shut your theory down. Tom Losh \n",
      "The active shooter and many of the police were using the same ammo – .223/5.56 – and at the distance they were firing from I suspect many/most of the bullets went right through the victim so all you have is a quarter inch entry wound and a larger exit wound with no hint of what weapon it came from… \n",
      "The cartridges used may be the same as the M-16s used by the police. The rifling may be different, but high velocity rifle rounds often break up when hitting flesh, walls or floor at short range. kat \n",
      "If you google the location you will see that the bar was not very big. I can’t see how 300+ people fit into the place. The parking lot holds no more than 20 cars and it is bigger than the bar. The videos that you see on tv of people carrying other people actually shows them walking towards the bar and not away from it. You can see for yourself. https: [email protected] \n",
      "Oh fucking please! Get an education fool! Prince \n",
      "Flagged for profanity, and not a false flag John J Publicus! WestDetroitNigga \n",
      "Can you be flagged for stupidity? Bobby5939 \n",
      "Perhaps you better open yours eyes son. The raw footage is everywhere of the errors they made. Education means nothing without common sense, and common sense would dictate if you are helping injured people that were shot in the club, they would be walking AWAY from the club, not towards it. \n",
      "You lose bucko. John J Publicus \n",
      "Sure you would. Except for the hospital that’s two blocks away in that direction. \n",
      "Do you need to work hard to get to your level of batshit crazy or is it more something you’re born with? kat \n",
      "So they carried everyone in the wrong direction first then they decided that the hospital was in the other direction so they turned around and started carrying people 4 blocks in the other direction. Is that correct? Where would ambulances be at this point? Or even police cars would be better then people carrying people with no blood what so ever on them……. John J Publicus \n",
      "Go it. You need to work REALLY hard to reach your level of utter stupidity. \n",
      "Funny, I’d have thought it more of a calling…. kat \n",
      "The video’s are very clear, I’m not the utterly stupid one here. You and your actors failed to fool the public once again. John J Publicus \n",
      "You’re cute!. Do you actually think I’m ‘debating’ you? disqus_s4n9NxE7Bi \n",
      "Can you send me links to where I can see this footage? I haven’t seen it- or noticed the observations you noticed. But i did notice a lack of bodies. Pist-Off \n",
      "http://investmentwatchblog.com/100-proof-nobody-died-in-the-orlando-homocaust-doctors-victims-are-fake-lone-gunman-doesnt-seem-possible/ kat \n",
      "Go to youtube Orlando false flag and you will see many videos of mistakes they made while producing this false flag. john smith \n",
      "excellent point. Mark Choi \n",
      "No it’s not. Anyone who has ever gone to clubs that size knows full well what capacity they have. The idea that there could not have been 300+ patrons would only come from an ignoramus with no experience with matters at which he pretends expertise. John Willis \n",
      "yaa like 300 plus fit in there no way Rogue cops cost us money \n",
      "Bullshit It is called ballistic…….. There is a strong likelihood that we will never find out how many of the victims were ultimately killed by “friendly fire”. We may never know it depends on how FDLE does their job. Past performances dictate it will be a shit job, and all ballistics related information will be ignored tainted or covered up. disqus_s4n9NxE7Bi \n",
      "Unfortunately, we will never know. Has our gov’t or any other governmental entity every admitted to fault or wrongdoing? (serious question) I mean even on a different scale hell- cops kill black kids in plain sight and not one has been charged/convicted. Bob Btme \n",
      "Good thing law enforcement was focused on “underage drinking” Andy Cripps \n",
      "Multiple shooters theory kind of proved, just not quite as the conspiracy theorists had imagined. All so tragic. I suppose a fast acting consciousness blocking gas canister through the hole created in the walls to subdue the shooter was out of the question, do they exist even? spg210 \n",
      "I guess that’s kind of like asking why didn’t the cop use his taser instead of shooting the suspect. David Hall \n",
      "Cowards waited almost three hours to breech the bar and ended up killing probably 15-20 hostages. They will never release how many were killed by cops. 50 fucking people get killed and that one cop running around showing everyone he got shot in his kevlar helmut. Like anyone is worried about the little knick in his helmut, compared to over 100 people being shot. Guy \n",
      "Easy enough for you to accuse people of cowardice as you sit safe, fuzzy and warm in your easy chair while, weekend quarterbacking of police who were trying to make safe almost 300 people from a deranged homicidal killer armed with a AR-15 type of assault rifle and a clock, who is shooting and killing people, in a very enclosed space with no rear exits ! Be sure to let everyone know how you from your vast experience, would have done it differently to keep people from being hurt or killed, from sniper or friendly fire, in a situation that was changing from minute to minute. Guy’s like you, who take cheap shots, piss me off ! Easy enough for you to flap your opinion about it, as long as there is a captive audience ! But put your ass on the line were it counts, and you all become very quiet ! SexForUs \n",
      "There is no such thing as an assault rifle. \n",
      "An assault is an action. \n",
      "My fist is a weapon. Me throat punching you with it for being a fucking idiot, would be an assault. \n",
      "Guy’s like you talk a lot of shit defending people who did what was mentioned and yet, where is your fucking vast experience? spg210 \n",
      "“‘GUYS’ like you” I see what you did there. John J Publicus \n",
      "The military themselves named this type of rifle an ‘assault’ rifle when it was developed around the time of Vietnam. It was developed to REPLACE a ‘wood’ rifle, the kind your type like to compare the AR-15 to (the rifle used was a ‘souped up’ version of an AR-15) and claim its ‘just like the other rifle, with different pajamas’ or some such shit. \n",
      "No morons, the military developed this weapon to REPLACE rifles like the Garrand specifically BECAUSE is performed better. Faster rate of fire, more reliable, larger magazines that are faster to load, lighter and changes very quickly. They also required a smaller, lighter round that would have the same or similar stopping power to the 30.xx cal that was in current use (they did this with added velocity). I’m actually paraphrasing the requirements that the armed services had developed for this weapon. The ‘auto fire’ feature was almost dropped and later modified to 3 round bursts for accuracy and because troops could not keep the weapon on target under auto fire. Different suppressor/compensator fixtures were later added to correct that. \n",
      "So you see, this rifle and all it’s variants were originally developed to do one thing, kill people, as quickly and as efficiently as possible. Nothing you ammosexuals say or do can change this history and frankly, the more you continue to padal this crappola, the more you will look like utter morons to anyone who actually KNOWS the development history of this weapon! John Willis \n",
      "and the military designates that as a “select fire ” small arm ,,youre blowing smoke troll or youre chooomin benbernecky \n",
      "yes there are assault weapons, a 50 cal is most certainly an assault weapon. But since they are illegal -assault weapons that is -then when the media starts doing the AR-15 monkey dance and screaming assault weapons we all know what they’re trying to spite out is the term “semi-automatic rifle”, but assault weapon sounds more dramatic, to hell with truthful accurate journalism. it all went out with the ol “untouchable” supreme court. Rights judge Roberts? SexForUs \n",
      "FDR’s NFA of 1934 already requires machine guns to be heavily taxed, highly regulated and registered with the federal government but it isn’t an assault weapon. \n",
      "An assault is an action and regarding the Jackals in Black Robes, I’ll refer to Thomas Jefferson’s take on that Bench of Control Freaks. \n",
      "homas Jefferson strongly opposed the doctrine of judicial review, and feared it would lead to “judicial despotism,” an opinion he voiced often. \n",
      "Jefferson wrote to Abigail Adams (wife of former President John Adams) in 1804: \n",
      "“The Constitution… meant that its coordinate branches should be checks on each other. But the opinion which gives to the judges the right to decide what laws are constitutional and what not, not only for themselves in their own sphere of action but for the Legislature and Executive also in their spheres, would make the Judiciary a despotic branch.” \n",
      "to Spencer Roane in 1819: \n",
      "“In denying the right [the Supreme Court usurps] of exclusively explaining the Constitution, I go further than [others] do, if I understand rightly [this] quotation from the Federalist of an opinion that ‘the judiciary is the last resort in relation to the other departments of the government, but not in relation to the rights of the parties to the compact under which the judiciary is derived.’ If this opinion be sound, then indeed is our Constitution a complete felo de se[act of suicide]. For intending to establish three departments, coordinate and independent, that they might check and balance one another, it has given, according to this opinion, to one of them alone the right to prescribe rules for the government of the others, and to that one, too, which is unelected by and independent of the nation. For experience has already shown that the impeachment it has provided is not even a scare-crow… The Constitution on this hypothesis is a mere thing of wax in the hands of the judiciary, which they may twist and shape into any form they please.” \n",
      "to William C. Jarvis in 1820: \n",
      "“To consider the judges as the ultimate arbiters of all constitutional questions [is] a very dangerous doctrine indeed, and one which would place us under the despotism of an oligarchy. Our judges are as honest as other men and not more so. They have with others the same passions for party, for power, and the privilege of their corps. Their maxim is boni judicis est ampliare jurisdictionem [good justice is broad jurisdiction], and their power the more dangerous as they are in office for life and not responsible, as the other functionaries are, to the elective control. The Constitution has erected no such single tribunal, knowing that to whatever hands confided, with the corruptions of time and party, its members would become despots. It has more wisely made all the departments co-equal and co-sovereign within themselves.” \n",
      "and to Edward Livingstone in 1825: \n",
      "“This member of the Government was at first considered as the most harmless and helpless of all its organs. But it has proved that the power of declaring what the law is, ad libitum, by sapping and mining slyly and without alarm the foundations of the Constitution, can do what open force would not dare to attempt.” ~ Thomas Jefferson. John J Publicus \n",
      "“There is no such thing as an assault rifle” \n",
      "Actually, there is. The weapon and the round itself was designed from the ground up to kill as many people as efficiently as possible on the battlefield-by DEFINTION, it’s an ‘assault rifle’. \n",
      "By definition, this weapon is NOT “just like any other semi auto rifle”. If you actually knew what you were shooting off your mouth about this would be self evident… SexForUs \n",
      "What you are saying is, it’s the only military grade assault rifle not used by any military anywhere in the world. \n",
      "Got t. \n",
      "Yeah them clocks sure are deadly Brandon Swords \n",
      "You’re a credulous moron. Sangreaal \n",
      "Ummm…there was NO AR15 John J Publicus \n",
      "Oh really? So he was using a sling shot? Moron… Need_to_Know \n",
      "No, Moron, it was a Sig MCX, which is NOT an AR-15. John J Publicus \n",
      "Oh, so,it was an AR-15 VARIANT? Silly me \n",
      "Yeah, get your money back from school, you were robbed…. John J Publicus \n",
      "Yes it was Einstein. Here’s a little from the brochure for,the MCX; \n",
      "“Even while in the field, you can configure the SIG MCX as needs or conditions change. The combination of the 13″ monolithic upper receiver and handguard create a 17 3/4″ continuous top rail. The upper is backwards compatible with any mil-spec AR lower, allowing you to upgrade your existing AR platform to the SIG MCX. The AR upgrade kit includes side-folding stock assembly and adapter.” \n",
      "Yeah, sounds to me like it was nothing like an AR-15. More like an AR on steroids if you ask almost anyone…. \n",
      "Apparently you are a bigger moron than first thought!! \n",
      "IT’S A CARBINE!! \n",
      "A Carbine is NOT an AR. John J Publicus \n",
      "‘Carbine’ describes a style of weapon whose most recognizable feature is a short barrel length. You might want to stop using words that you don’t actually know the meaning of. \n",
      "Even while in the field, you can configure the SIG MCX as needs or conditions change. The combination of the 13″ monolithic upper receiver and handguard create a 17 3/4″ continuous top rail. The upper is backwards compatible with any mil-spec AR lower, allowing you to upgrade your existing AR platform to the SIG MCX. The AR upgrade kit includes side-folding stock assembly and adapter. \n",
      "A carbine is a style of rifle, most usually defined by a shooter barrel. \n",
      "Are you really this arrogantly misinformed? Need_to_Know \n",
      "Carbines have a shorter and different gas system than AR-15’s, thus making the difference much more than barrel length. John J Publicus \n",
      "“most usually defined by a (shorter) barrel.” \n",
      "I was very specific in what I said. James Paul \n",
      "John, you are a idiot. The media has said the shooter had a handgun, a Glock. He didn’t have a AR-15. Look up the fact before making a fool of yourself. John J Publicus \n",
      "It was an AR-15 variant. \n",
      "Fool NortonSmitty \n",
      "You know what is easy to say? THE ASSHOLES WAITED THREE HOURS IN SWAT GEAR WHILE UNTOLD DOZENS BLED OUT ON THE FLOOR! That, sir, is the very definition of cowardly incompetence. Mark Choi \n",
      "You have no information on which to make that claim. You do however, appear to have a broken shift key. NortonSmitty \n",
      "It was in every story on every venue if you actually paid attention. Moron. Mark Choi \n",
      "No it wasn’t. But thanks for your superficial analysts of events that were too complex for you to understand. First, the shooting began at a little after 2:00. Almost IMMEDIATELY he is engaged by gunfire by an OPD officer, at 2:02 AM. Within MINUTES more OPD backup arrives, engaging Mateen and forcing him to retreat into a bathroom, taking hostages. It is now about 2:30. Mateen calls 911 several times. Meanwhile, he has taken hostages in the restroom, preventing a direct, all out assault. OPD SWAT requests a bomb unit. It is now 4:10 AM. A controlled explosion demolishes a small section of exterior wall of Pulse, leading to the aforementioned restroom. The hole is not large enough to allow a breach, so another officer uses his vehicle to ram the wall, making an opening large enough to enter. Police immediately engage Mateen in gunfire, and rescue 30 hostages. It is now 5:05 AM. Mateen is pronounced dead. It is now 5:53. NONE of this timeline backs up your claim, either of cowardice, or that anyone bled out in the intervening time. Moreover, you most certainly can NOT state definitely that more people would not have been killed, particularly those 30 hostages, had they performed a full frontal assault on the building. In fact, even as it was, the OPD can not be sure their officers did not accidentally shoot some of the victims in the ensuing chaos. It is you, sir, who are the one who is mentally deficient. But at least you appear to have fixed your keyboard. Mark Choi \n",
      "http://www.laweekly.com/news/did-swat-wait-too-long-to-storm-the-orlando-nightclub-7027891 Mark Choi \n",
      "No it wasn’t you microcephalic idiot. As already mentioned, what WAS on the news coverage was the fact that during that three hours, the shooter repeatedly called 911 claiming that he had an explosive vest, and that he had set booby traps all throughout the building, that nevertheless the police were actively accessing the building and evacuating as many people as possible, and that no additional shots were fired during that standoff, changing the situation from an active shooter protocol to a hostage negotiation protocol. What is also known is that you’re a bloviating, misinformed idiot. Funny how after all this went mainstream, and the 911 tapes were released, all of a sudden you began radio silence. You would have done well to start there. John Willis \n",
      "it was televised ding dong ,and there are records showing time elapsed from police arrival till mop up , where do you morons come from ? John J Publicus \n",
      "From under the nearest rock. \n",
      "The real question is; will they crawl back under those rocks once tRump loses in a landslide? Mark Choi \n",
      "No it wasn’t you idiot. What WAS televised is that during that three hours, during which the shooter repeatedly called 911 claiming that he had an explosive vest, and that he had set booby traps all throughout the building, nevertheless the police were actively accessing the building and evacuating as many people as possible. What is also known is that no additional shots were fired during that standoff, changing the situation from an active shooter protocol to a hostage negotiation protocol. Did I happen to mention that you’re an idiot? You’re an idiot. Tothe \n",
      "I’m not the one whose alleged job is charging into dangerous situations and putting my life on the line. Isn’t that what people say when I argue that the law enforcement monopoly is ever in the wrong? “You aren’t the one charging into dangerous situations,” or something, right? \n",
      "Remember when cops sat on the sidelines during the Columbine massacre, too? David Hall \n",
      "You stupid POS, I have put my ass on the fucking line for 27 months. I lost my right eye, half of my face, back of my right leg nearly blown off and a bayonet ripped throught 17 inches of my right arm. Dude I have earned to say what I damn well please. Have you?. I spent 23 months in hospitals in three Countries.Arm chair asshole like you is what pisses me off. If you bothered to read 3 of the best guys in the business that trains the SWAT officers said the same thing, that they should have went in hours sooner. Policy is now with a mass type shooter to immediately engage the shooter. Learn before speaking, go back to you Mom’s basement and take some meds. I went into a hundred fucking places tighter and smaller than that with many hostages. James Paul \n",
      "Listen up Guy, The official story says the shooter had a hand gun, not a AR-15. Get your facts straight before making a fool of yourself. James Paul \n",
      "The truth is, it never happened. It was a staged event, false flag, just like Sandy Hook. The powers that be want our guns and will do anything to get them. Staging a event like this to push gun legislation is not out of the realm of possibility. if the event actually happened there would not be so many discrepancies spotted so quickly. Interrupting Reply Bot 2014 \n",
      "I’d like to see things from your point of view. But no sane person can possibly shove their head that far up their assholes. Lily Munster \n",
      "It’s a secret! Ed \n",
      "There is a strong likelihood that we will never find out how many of the victims were ultimately killed by “friendly fire”. But we better thoroughly investigate, no matter the cost! Prince \n",
      "Where’s all the dead bodies? John J Publicus \n",
      "Idiot,,what makes you think you’ll see dead bodies? Prince \n",
      "An off-duty police officer working security at the club was outside investigating an underage drinker when he heard gunshots inside the club. The off-duty officer then proceeded to run inside the club and exchange gunfire with Mateen, with three additional officers soon arriving to back up the off-duty cop, law enforcement sources told WFAA-ABC 8. \n",
      "Well why were there 3 additional cops so close to the off duty cop? Dark_Space \n",
      "I’m guessing they were close to where they get regular calls… stubbikins \n",
      "It was Saturday night in an area with a lot going on, probably several places with private security. Three is not that many Sangreaal \n",
      "No wonder there were witness reports of there being more than one shooter killing people. spg210 \n",
      "Police tend to hang out around night club areas, especially close to last call, for obvious reasons. Marlene Piazza \n",
      "and what about all the reports that state the officer engaged in a shoot out with the gunman OUTSIDE the club first, before he went in. And stories about one victim and his girlfriend being shot when they were walking to their car, as they passed the gunman on his way to the club? Paul Val \n",
      "there is absolutely NO REASON why they can’t figure out who was shot by friendly fire, it’s called BALLISTICS Dan Bray \n",
      "You watch too much CSI. Prince \n",
      "youre :john q pubiclikus jean boyd \n",
      "People saw the cops shooting so they had to cover their butts somehow. Same thing happened in San Bernadino. People saw SWAT type soldiers at the scene but they just ignored it on the news. These are False Flags and look at the family members crying and reading scripts. Been going on for a while. The Government and news stations are allowed to produce propaganda for the continuation of their agenda and the American people just buy it up. Please investigate people. They just want a gun grab. Alberto \n",
      "Who’s to take responsibility for the victims the swat team killed, it was a moronic decision that took place. The swat team probably killed or injured most of the victims. Lets take a close look at the weapon the shooter had with him a semi-automatic long rifle carries 10rounds per clip and a Glock handgun 10-15 rounds depending on the type of hand gun. I’m puzzled how did the shooter managed to shoot and kill 50 people and injured 53 more. This shooter must’ve been an expert at changing his clips. stubbikins \n",
      "He was in there for 3 hours. Taylor Franklin \n",
      "It’s a magazine and a standard mag holds 30 rounds but even so he would have had to have 31 of them to have that many rounds Dan Bray \n",
      "Allegedly 202 rounds fired. Less than 10 mags. Patrick \n",
      "I suspect the real culprits were actually the first four ‘police’ on the scene 🙁 Samantha Atkins \n",
      "Uh, ballistics can tell you how many of the dead were not killed by Mateen. Lily Munster \n",
      "You think we’ll ever know that? It will destroy Obama and Billary’s master plan a-la Wasserman. Wild_Bill_vintage_1948 \n",
      "Why would anyone be interested in doing such ballistics? I’m sure they won’t. Windell Clark \n",
      "No excuse – You have adrenaline pumping – you dont want to hurt any innocents now add in the fact YOU dont want to die and its not a drill and you cant take back a bullet and start over. You can have the best gear with lights on the front, laser sights etc but add emotion and someone trying to kill you and things change. Ask any cop whats going through his of her mind when just room clearing in the most basic form – its tough. Now add an active shooter(s) with an Auto or Semi Automatic weapon(s) and the stakes jump. Add people begging for help but you cant stop and render aid because the threat is not neutralized -so you must leave them for time being-. Oh did i mention this is only the first 30 seconds of a dynamic entry? If other Officers have entered at another point you dont want to shoot them by accident – someone runs at you with something in hand you have maybe a fraction of a second to determine if its a cellphone in hand or a weapon guess wrong and you’re dead or that innocent with a cell phone is dead. Ok now that either you have killed an innocent or your team is stepping over your body because you guessed wrong the mission must go on. You still have 5 or 10 of the longest nerve racking minutes of your life to clear a building you’ve never been in..Good luck Kyle Pinson \n",
      "That sounds compelling, but this took three hours. Care to revise your fantasy here? Windell Clark \n",
      "Only painting a picture of what a person MIGHT possibly come up against in that situation. Bud Miser \n",
      "Me. Lie_Buster \n",
      "Relax, children. Normal logical questions are rendered “conspiracy theory” and “tinfoil hats” etc when the rulers do their false flag thing. Its starting to look obvious that MOST of the victims were murdered by sharp, accurate-shooting members of the police force. Oops – sorry for questioning the guvmint’s tall tale(s). Now, if the truth turns out to be that the cops are responsible for most of the deaths, I want y’all to hold your breath that some “forensics” lab is gonna tell y’all that truth. Sirios \n",
      "“Our number one priority is on saving lives” WTF? The cops were saving the people from the shooter as they were shooting the people they were saving? Ghassan Awada \n",
      "We had to destroy the village to save it That strategy is longstanding policy in the US 2broke4 her \n",
      "a 3 hour wait because cops thought explosives might be there.. meanwhile a turkey shoot is going on and then the cops killing people.. sounds like an excellent plan! Contrarianthefirst \n",
      "No film, no pics, it never happened. John J Publicus \n",
      "“There is a strong likelihood that we will never find out how many of the victims were ultimately killed by “friendly fire”.” \n",
      "Oh fucking please! Do they really think we are that stupid? Of COURSE they will be able to tell which bullets came from who’s weapon! Do,they think we’re in the 18th century? Every bullet in every single body will be catalogued and identified. \n",
      "I was wondering why the LE suits were pushing how many lives they saved by rushing the club. I’m betting that the coming weeks will show how much of a police induced cluster duck it REALLY was….. Prince \n",
      "John J Publicus – Flagged again for profanity. Can’t stop using the “F” word, can you? John J Publicus \n",
      "Can’t stop being bat$hit crazy, can you? David Nininger \n",
      "So just to recap, collateral damage is allowed on US citizens from police but is a war crime when out military does it…. ? spg210 \n",
      "Uh… NO. Collateral damage is NOT a war crime. Collateral damage is not purposely killing civilians. Purposely killing civilians is a war crime. So just to recap, if you drop a bomb on a verified enemy stronghold and kill some civilians in the process, that’s not against the Geneva Convention. bf110c4 \n",
      "“Our No. 1 priority is on saving lives, and it was the right decision to make.” The lives he is speaking of were the cops. They let dozens of victims bleed out during the 3 hour stand-off. Mateen basically had his way with the patrons and the cops. Thunder_Kiss_1965 \n",
      "This should be kept out of the public domain. Before anyone jumps me you should take into account what happens the next time . A SWAT team leary of hitting civilians doesn’t go in and the death toll is higher you can’t reason with a radical. Kevis \n",
      "They can get a very good idea on how many were hit by whom. Even where exact matching isn’t possible marks on fragments can exclude or include certain guns fired. disqus_s4n9NxE7Bi \n",
      "Orlando Alligator Detractor/Distraction? Anyone else think this 2 yr old Alligator Death was set up to distract the American Public away from critically analyzing and questioning this night-club shooting? I do. Very much so. The vast majority of our pubic are just “sheep” ;( blindly following without questioning Prince \n",
      "Didn’t some singer in Orlando that was on the T.V. show The Voice supposedly also get killed too while signing autographs? Reuel Excalibur Francis \n",
      "That happened before the shooting tho disqus_s4n9NxE7Bi \n",
      "It’s true: WHERE ARE THE BODIES?! Zero footage?!? No way. Prince \n",
      "Don’t worry they’ll splash around some fake blood for post event pictures to be taken. lancelotlink \n",
      "“It was a hard decision to make, but it was the right decision,” Madeline Allbright \n",
      "“We went, we saw and he died.” Hillary Clinton MrMiran \n",
      "Just how big is that bathroom, and how many people were in it when the gunman was forced to retreat into it? I mean once he was pinned down in there by the officers on location, evacuate the club… then work on rescuing the hostages in the bathroom. \n",
      "Hey, I wasn’t there… I don’t have all the facts… I’m just asking questions about how it was handled. With cops on-site when it went down… and the gunman’s quick retreat… I’m just trying to get my head around how over 100 people were shot. My thoughts and prayers are with the victims and their families and friends. Andy Cripps \n",
      "Apparently this guy was a regular visitor. Looks like he was in two minds. Instinctual same sex urges and ideological nonsense that bans it. How about a system where you could be honest about your personal situation to get the help required without fear of character annihilation to maybe stop some of this sort of stuff happening. The war on crime has been as successful as prohibition of alcohol was and the war on drugs is. Maybe time to address what it is to be human and assess the damage crass ideologies have on people and start banning shit that really damages society! Chris Shirah \n",
      "Who gives a rats ass who did what. Peoples lives were saved and peoples lives were taken, that’s all that matters. When the dust cleared that fruit cake was dead. On to the next one, people will die then too just hope it isn’t your family grieving while a bunch of tardos make dumb ass remarks about the police that do the saving of the rest. Prince \n",
      "What R U, a cop lover? Chris Shirah \n",
      "I don’t know. Is a convicted felon a lover of cops? All I care about is that a lot of lives were saved. I wouldn’t have cared if it was Minnie and Mickey Mouse that saved them. What are you? A hater of human life? NortonSmitty \n",
      "This makes no sense. If the officer(S) chased the shooter into a bathroom with 15 or 20 hostages within seconds how did over 100 people get shot with a semi-automatic weapon. As a veteran I can tell you it’s impossible. Prince \n",
      "It most likely didn’t happen. Lily Munster \n",
      "Hey, Boo! Mark Choi \n",
      "As a person who can read, I can tell you that you’re a misinformed idiot. d griffin \n",
      "Grossly irresponsible “reporting.” The death-toll inside the club would have been in the hundreds, had police not responded forcefully. Also, the terrorist made it very clear what his motivation and allegiance were, and his being probably gay is a sidenote. Get a clue, kiddies. The war is against Islamic terror, and you’ll be fighting it for the next hundred years or so. Prince \n",
      "The club didn’t even hold that many people. d griffin \n",
      "The Miami Herald reports that as many as 800 people have packed that club. On that night, at closing, there were upwards of 300 people inside at closing time. So go back to being dead from a stupid overdose, you. lol Bud Miser \n",
      "Aren’t you just a ray of sunshine! Prince \n",
      "Not what Eye heard. It could have been a murder as well… John J Publicus \n",
      "Why can’t you stay dead? Bobby5939 \n",
      "Your attempt at disinformation is pathetic. Martin351 \n",
      "False flag is a false flag. While were talking about cops in this case… why on earth when you get of a report of an armed gunman with either an AR15 or AK47 (yes botth of these being reported showing they can’t even get that right).. \n",
      "Why on earth would they send conventional cops to the scene with no armor, no kevlar, and no helmets? \n",
      "Seriously people, how stupid can you be to believe this garbage? People being carried TOWARDS the club? People being caught off camera standing on their own and moving around after they were shot in the leg? Then their rescuers laughing and smiling? News reports can’t decide if an armored vehicle crashed into the club or explosives were used? It is clear either a sledgehammer was used and a special cutting saw. We have the same person conducting multiple interviews under different names yet never bothered to even change her shirt to attempt to deceive? We have “survivors” of the shooting with time and location stamps on social media pitting them completely out of the state 1-2hrs before hand? \n",
      "No bodies, no blood, no ambulances, no Swat, no bullet holes, no ID when entering the club (think about that one for a second), people having oodles of time to post on facebook during the incident? Even the nightclubs webpage has time to update to get out of the club and keep running?? LMFAO \n",
      "And to think some of you bought this hook, line, and sinker.. unbelievable. Bob413 \n",
      "You can easily tell by some of the comments on this article that the people are commenting to spread disinformation and divert attention away to the errors made in the cover up. \n",
      "Sorry folks, there are more critical errors and holes in this incident and cover up than swiss cheese. You really dropped the ball on this one, and the whole world knows it now. The rest of the countries have washed their hands of this story and calling it like it is, a false flag. That’s bad when massive media outlets across the globe are now calling it a false flag not even 4 days after. Patricia Golding \n",
      "Now they have released this crock of a florida gator eating a baby story because now they realize they’ve made so many mistakes with this shooting they are quickly trying to divert people’s attention John J Publicus \n",
      "So many stunningly stupid people. You as much a moron as the last one… disqus_s4n9NxE7Bi \n",
      "YES I said this yesterday. And guess what? It worked! I’m so glad others are wise enough to realize the staged gator incident. \n",
      "The vast majority of American People are “sheep” following without questioning. disqus_s4n9NxE7Bi \n",
      "But my genuine question is this: Do they get families to cooperate (family of the boy)? Or would the family be completely unsuspecting? How does this whole thing work? (even with the “survivors” of orlando and witnesses) kat \n",
      "Did you not see the same people interview over and over again. They are called actors. Go to youtube and watch how the one Mother smiles and laughs through the entire video with CNN after she finally finds out her son is dead. You can’t make this crap up. Lily Munster \n",
      "A Philadelphia native and Fox 29 intern who survived the Orlando mass shooting has disputed claims on social media that she was a “crisis actor” for the station, and was not actually at Pulse nightclub when the incident occurred. Lily Munster \n",
      "Lord, don’t let my tears fail me now! \n",
      "She could have at least got a wig that doesn’t sit 3 inches behind her forehead. John J Publicus \n",
      "You just can’t fake stupid like you…. Fardale Labradors \n",
      "I guess you didn’t see the kevlar helmets that save a few cops? Know what you;re talking about before you post bs. Autumn \n",
      "It was one cop, and the kevlar helmet had a hole in it and damage that was not consistent with a bullet’s entry point. Rather, it looked as though it had been bashed against some concrete. \n",
      "No ambulances. People declared dead inside the nightclub (that can’t be done until you reach the hospital.) Injured being carried from down the block toward the club. One loaded into a truck. \n",
      "I understand that part of you may feel wrong to question a tragedy, but when something doesn’t feel right, you should follow your gut. That’s what I did for Sandy Hook and have been doing ever since. \n",
      "Look into the points that have been made, Faradale, and see for yourself. Fardale Labradors \n",
      "Were you there Autumn? My husband, a retired Port Authority 911 P.O had friends on the scene , a relative working in the hospital and others I can’t discuss on the scene. What we can ALL do is show some respect to those lost and stop arguing about what went on and what didn’t. Trysmiling \n",
      "We certainly can and should show respect to those that lost loved one during this shooting. No one is trying to disrespect them or the pain they are experiencing. But they need to know that those they loved and lost were sacrificed by a sick government for their agenda of immigration and gun control. That is all those poor people were, pawn is a huge game of chess.We never saw what happened inside, but what we saw outside was nothing but crisis actors. Your husbands friend probably has no clue that this was a staged event. It’s not like everyone has to be in the know to pull something like this off. Nahla Salvia \n",
      "The article was stating that it never happened. That’s why he mentioned no ambulances. A set up or not people died and out of respect for their families, maybe people should wait and let them mournemourne before busting out conspiracy theories George \n",
      "I guess that people died in Star Wars too. I mean really died. Fardale Labradors \n",
      "Shooting? I was talking about 911. When we reach FL next month we will both CONCEAL CARRY by Law. He has his badge, we have to with his retirement badge on him. No further discussion, we will carry. Lily Munster \n",
      "Is’t that ALWAYS the case when the truth must be shrouded? \n",
      "Sanders vs. Billary – same thing. Lily Munster \n",
      "All mainstream media publications, gay and straight alike have been compromised by the same entity. \n",
      "The want to shut Indie press down too. Nahla Salvia \n",
      "Why isn’t anyone in Orlando saying it never happened? Did you watched the local news of that city, when they were showing the live broadcast? George \n",
      "LMAO No helmets? It says right there in the article that when mateen emerged he engaged the officers immediately and even hit ONE IN THE HELMET. Cry wolf. \n",
      "How long have you been insane, son? You know they have meds for that, now. John J Publicus \n",
      "i see,you’ve posted all those facts her for all to see…oh, wait. disqus_s4n9NxE7Bi \n",
      "@Martin351:disqus my gut instinct also feels it is false flag. Not being facetious, but where/what footage photos etc have you seen that confirms what you posted above? \n",
      "I personally didn’t notice the reporter with the same shirt and many psuedonyms (do you have a name or channel she reports for?) Also, I didn’t see any footage of rescuers laughing or carrying people towards club. \n",
      "I did notice there were no bodies. I did notice it took 4 days for “vine” clips to emerge (doubt their authenticity). In these circumstances, does the govt recruit and compensate people to make such statements in their interviews? Genuine Question. Pist-Off \n",
      "E7Bi, this site may shed some lite on things for you. I believe that Martin is rite on. http://investmentwatchblog.com/100-proof-nobody-died-in-the-orlando-homocaust-doctors-victims-are-fake-lone-gunman-doesnt-seem-possible/ John J Publicus \n",
      "That ‘gut instinct’ is the compacted shit in your colon. A diet that didn’t include Taco Bell and McDonald’s washed down with non stop soda. Just because you have a great big gut, doesn’t mean you have the first clue of what reality looks like. \n",
      "It’s assholes like you that give syphilis a bad name! Nahla Salvia \n",
      "They don’t really show bodies in US news, i don’t really see them on the news I watch. Also too, no one that lives there is saying anything about it never happening. If it didn’t, l know for sure that Orlandoneans would be talking not foreigners. This is an ongoing investigation, they have to withhold information devontae hook \n",
      "‘no bodies’ what a piece of shit you are, i went to school with 2 people that died in that club that shit wasnt fake, you moron fgvyti \n",
      "what school and what are their names \n",
      "shill \n",
      "\n",
      "\n",
      "Charlie Baker , Massachusetts (2015–present)[31] R obert J. Bentley , Alabama (2011–present) (withdrew endorsement)[32] Dennis Daugaard , South Dakota (2011–present) (withdrew endorsement, called on Trump to withdraw his candidacy)[33] Bill Haslam , Tennessee (2011–present)[34] Gary Herbert , Utah (2009–present) (withdrew endorsement)[35] Larry Hogan , Maryland (2015–present)[36][37] Susana Martinez , New Mexico (2011–present); Chair of the Republican Governors Association (2015–present)[38] Brian Sandoval , Nevada (2011–present) (withdrew endorsement)[39] Rick Snyder , Michigan (2011–present)[40] \n",
      "Former Former Massachusetts Governor and 2012 nominee for President Mitt Romney Arne Carlson , Minnesota (1991–99) (endorsed Hillary Clinton)[17] A. Linwood Holton Jr ., Virginia (1970–74); Assistant Secretary of State for Legislative Affairs (1974–75) (endorsed Hillary Clinton)[41] Jon Huntsman Jr ., Utah (2005–09); United States Ambassador to China (2009–11); United States Ambassador to Singapore (1992–93) (withdrew endorsement)[42] William Milliken , Michigan (1969–83) (endorsed Hillary Clinton)[43] Kay A. Orr , Nebraska (1987–91)[44] Tim Pawlenty , Minnesota (2003–11) (withdrew endorsement)[45] Marc Racicot , Montana (1993–01); Chair of the Republican National Committee (2001–03)[46] Mitt Romney , Massachusetts (2003–07), 2012 nominee for President[47] Arnold Schwarzenegger , California (2003–11)[48] William Weld , Massachusetts (1991–97) (2016 Libertarian nominee for Vice President)[49] U.S. Senators Kelly Ayotte , New Hampshire (2011–present) (withdrew intended vote, writing-in Mike Pence)[50] Shelley Moore Capito , West Virginia (2015–present) (withdrew endorsement)[51] Susan Collins , Maine (1997–present)[52] Jeff Flake , Arizona (2013–present) (called on Trump to withdraw his candidacy)[53][54] Cory Gardner , Colorado (2015–present) (withdrew endorsement, called on Trump to withdraw his candidacy, writing-in Mike Pence)[55] Dean Heller , Nevada (2011–present)[56] Mark Kirk , Illinois (2010–present) (withdrew endorsement, writing-in Colin Powell)[37] Mike Lee , Utah (2011–present)[57] John McCain , Arizona (1987–present); 2008 nominee for President (withdrew endorsement)[58] Lisa Murkowski , Alaska (2002–present) (called on Trump to withdraw his candidacy)[59] Rob Portman , Ohio (2010-present) [60] Ben Sasse , Nebraska (2015–present)[20][61] Dan Sullivan , Alaska (2015–present) (withdrew endorsement, called on Trump to withdraw candidacy, writing-in Mike Pence)[62] John Thune , South Dakota (2005–present) (withdrew endorsement, called on Trump to withdraw candidacy)[63] Former Norm Coleman , Minnesota (2003–09)[28][64] David Durenberger , Minnesota (1978–95) (endorsed Hillary Clinton)[17] Slade Gorton , Washington (1981–87, 1989–2001) (endorsed Evan McMullin)[65] Gordon J. Humphrey , New Hampshire (1979–90) (endorsed Hillary Clinton)[66][67] John Warner , Virginia (1979–2009); United States Secretary of the Navy (1972–74) (endorsed Hillary Clinton)[68] U.S. Representatives Justin Amash , Michigan (2011–present)[28] Mike Coffman , Colorado (2009–present)[69] Barbara Comstock , Virginia (2015–present)[70] Carlos Curbelo , Florida (2015–present)[20][71] Rodney Davis , Illinois (2013–present) (withdrew endorsement)[72] Charlie Dent , Pennsylvania (2005–present)[73] Bob Dold , Illinois (2011–13, 2015–present)[28][74] Jeff Fortenberry , Nebraska (2005–present) (withdrew endorsement)[72] Scott Garrett , New Jersey (2003–present) (withdrew endorsement)[72] Kay Granger , Texas (1997–present) (called on Trump to withdraw his candidacy)[75] Richard L. Hanna , New York (2011–present) (endorsed Hillary Clinton)[28][76] Cresent Hardy , Nevada (2015–present) (withdrew endorsement)[77] Joe Heck , Nevada (2011–present); 2016 nominee for U.S. Senate (withdrew endorsement)[77] Jaime Herrera Beutler , Washington (2011–present) (writing-in Paul Ryan)[78] Will Hurd , Texas (2015–present)[79] David Jolly , Florida (2014–present)[80] John Katko , New York (2015–present)[81] Adam Kinzinger , Illinois (2011–present)[82] Steve Knight , California (2015–present)[83] Frank LoBiondo , New Jersey (1995–present) (withdrew endorsement, writing-in Mike Pence)[84] Mia Love , Utah (2015–present)[85] Pat Meehan , Pennsylvania (2011–present) (called on Trump to withdraw his candidacy)[84] Erik Paulsen , Minnesota (2009–present) (withdrew endorsement)[86] Reid Ribble , Wisconsin (2011–present)[28] Scott Rigell , Virginia (2011–present) (endorsed Gary Johnson)[20] Martha Roby , Alabama (2011–present) (called on Trump to withdraw his candidacy)[87][88] Tom Rooney , Florida (2009–present) (withdrew endorsement)[72] Ileana Ros-Lehtinen , Florida (1989–present)[28] Mike Simpson , Idaho (1999–present) (withdrew endorsement)[10] Fred Upton , Michigan (1987–present)[89] David Valadao, California (2013–present)[90] Ann Wagner , Missouri (2013–present) (withdrew endorsement)[91] Host of Morning Joe on MSNBC and former U.S. Representative from Florida Joe Scarborough Former Steve Bartlett , Texas (1983–91)[92] Bob Bauman , Maryland (1973–81)[92] Sherwood Boehlert , New York (1993–2007) (endorsed Hillary Clinton)[93] Jack Buechner , Missouri (1987–91)[92] Tom Campbell , California (1989–93, 1995–2001) (endorsed Gary Johnson)[94] Bill Clinger , Pennsylvania (1979–97)[92] Tom Coleman , Missouri (1976–93)[92] Geoff Davis , Kentucky (2005–12)[92] Mickey Edwards , Oklahoma (1977–93)[92] Harris Fawell , Illinois (1985–99)[92] Ed Foreman , Texas (1963–65, 1969–71)[92] Amo Houghton , New York (1987–2005)[92] Bob Inglis , South Carolina (1993–99, 2005–11)[28] Jim Kolbe , Arizona (1985–2007) (endorsed Gary Johnson)[95] Steve Kuykendall , California (1999–2001)[92] Jim Leach , Iowa (1977–2007)[92] Pete McCloskey , California (1967–83)[92] Connie Morella , Maryland (1987–2003) (endorsed Hillary Clinton)[17] Mike Parker , Mississippi (1989–99); Assistant Secretary of the Army for Civil Works (2001–02)[92] Ron Paul , Texas (1976–77, 1979–85, 1997–2013)[96] Tom Petri , Wisconsin (1979–2015)[92] John Porter , Illinois (1980–2001)[92] Joe Scarborough , Florida (1995–2001); commentator and author[97] Claudine Schneider , Rhode Island (1981–91) (endorsed Hillary Clinton)[93] Chris Shays , Connecticut (1987–2009) (endorsed Hillary Clinton)[17] Peter Smith , Vermont (1989–11)[92] Mark Souder , Indiana (1995–2010)[98] J.C. Watts , Oklahoma (1995–2003)[20] Edward Weber , Ohio (1981–83)[92] Vin Weber , Minnesota (1983–93)[99] G. William Whitehurst , Virginia (1969–87)[92] Dick Zimmer , New Jersey (1991–97) (endorsed Gary Johnson)[100] Former State Department officials Richard Armitage , Deputy Secretary of State; Assistant Secretary of Defense for International Security Affairs (endorsed Hillary Clinton)[101] John B. Bellinger III , Legal Adviser of the Department of State; Legal Adviser to the National Security Council[12] Robert Blackwill , United States Ambassador to India; Deputy National Security Advisor for Strategic Planning (endorsed Hillary Clinton)[12][17] R. Nicholas Burns , Under Secretary of State for Political Affairs; United States Ambassador to NATO; United States Ambassador to Greece (endorsed Hillary Clinton)[102] Eliot A. Cohen , Counselor of the United States Department of State[12][20] Chester Crocker , Assistant Secretary of State for African Affairs[22] Jendayi Frazer , Assistant Secretary of State for African Affairs[12] James K. Glassman , Under Secretary of State for Public Diplomacy and Public Affairs (endorsed Hillary Clinton)[22] David F. Gordon , Director of Policy Planning[12] Donald Gregg , United States Ambassador to South Korea[19] David A. Gross , U.S. Coordinator for International Communications and Information Policy (endorsed Hillary Clinton)[17] John Hillen , Assistant Secretary of State for Political-Military Affairs[12] Reuben Jeffery III , Under Secretary of State for Economic Growth, Energy, and the Environment[12] Robert Joseph , Under Secretary of State for Arms Control and International Security Affairs[22] David J. Kramer , Assistant Secretary of State for Democracy, Human Rights, and Labor[12] Stephen D. Krasner , Director of Policy Planning[22] Frank Lavin , United States Ambassador to Singapore; Under Secretary of Commerce for International Trade (endorsed Hillary Clinton)[17] Robert McCallum , United States Ambassador to Australia; Acting United States Deputy Attorney General[12] Richard Miles , United States Ambassador to Azerbaijan, Bulgaria, and Georgia; Acting United States Ambassador to Kyrgyzstan[22] Roger Noriega , Assistant Secretary of State for Western Hemisphere Affairs[22] John Osborn , Member of the U.S. Advisory Commission on Public Diplomacy[22] Kristen Silverberg , Assistant Secretary of State for International Organization Affairs[12] William Howard Taft IV , Legal Adviser of the Department of State; United States Ambassador to NATO; United States Deputy Secretary of Defense[12] Shirin R. Tahir-Kheli , Senior Advisor for Women’s Empowerment; Special Assistant to the President for Democracy, Human Rights and International Operations (endorsed Hillary Clinton)[12][17] Betty Tamposi , Assistant Secretary of State for Consular Affairs (endorsed Hillary Clinton)[103] Peter Teeley , United States Ambassador to Canada (endorsed Hillary Clinton)[17] Robert Tuttle , United States Ambassador to the United Kingdom (endorsed Hillary Clinton)[104] Philip Zelikow , Counselor of the United States Department of State[12] Former Defense Department officials D on Bacon , Brigadier General, United States Air Force; 2016 nominee for Nebraska’s 2nd district (called on Trump to withdraw his candidacy)[105] Seth Cropsey , Assistant Secretary of Defense for Special Operations/Low Intensity Conflict & Interdependent Capabilities[22] Michael B. Donley , United States Secretary of the Air Force (endorsed Hillary Clinton)[17] Eric Edelman , Under Secretary of Defense for Policy[12] Doug Feith , Under Secretary of Defense for Policy[106] Robert Hastings , Acting Assistant to the Secretary of Defense for Public Affairs[22] Tim Kane , United States Air Force intelligence officer; Chief Labor Economist, Joint Economic Committee[22] Mary Beth Long , Assistant Secretary of Defense for International Security Affairs[12] Alberto J. Mora , General Counsel of the Navy (endorsed Hillary Clinton)[17] Gale Pollock , Acting Surgeon General of the United States Army (endorsed Hillary Clinton)[17] Martha Rainville , Major General, United States Air Force; Vermont Adjutant General[22] Michael Rubin , Defense Country Director for Iran and Iraq[22] Kalev Sepp , Deputy Assistant Secretary of Defense for Special Operations Capabilities[22] Matthew Waxman , Deputy Assistant Secretary of Defense for Detainee Affairs (endorsed Hillary Clinton)[10][12] Paul Wolfowitz , United States Deputy Secretary of Defense; President of the World Bank Group (voting for Clinton)[107] Dov Zakheim , Comptroller of the Department of Defense[12] Former National Security officials Ken Adelman , Director of the Arms Control and Disarmament Agency (endorsed Hillary Clinton)[10][22] Mike Baker , covert operations officer, Central Intelligence Agency[22] Tom Donnelly , Director of the Policy Group, House Armed Services Committee[22] Gary Edson , Deputy National Security Advisor[12] Richard Falkenrath , Deputy Homeland Security Advisor[12] Peter Feaver , Senior Director for Strategic Planning[12] Aaron Friedberg , Deputy National Security Advisor to the Vice President[12] Greg Garcia , Assistant Secretary of Homeland Security for Cyber Security and Telecommunications[22] Michael Green , Senior Director for Asia, National Security Council[12] Paul Haenle , Director for China and Taiwan, National Security Council[12] Michael Hayden , Director of the Central Intelligence Agency (2006–09)[12] William Inboden , Senior Director for Strategic Planning, National Security Council[12] James Jeffrey , Deputy National Security Advisor[12] James C. Langdon, Jr ., Chair of the President’s Intelligence Advisory Board[12] Deborah Loewer , Director of the White House Situation Room (endorsed Hillary Clinton)[108] Evan McMullin , Operations officer, Central Intelligence Agency; Senior Adviser for National Security, House Foreign Affairs Committee (Independent candidate for President)[109][110] P aul D. Miller , Director for Afghanistan, National Security Council[22] Meghan O’Sullivan , Deputy National Security Advisor for Iraq and Afghanistan[12] Kori Schake , Director of Defense Strategy, National Security Council[12] Gary Schmitt , Executive Director of the President’s Intelligence Advisory Board[22] Brent Scowcroft , National Security Advisor (1975–77, 1989–93); Chair of the President’s Intelligence Advisory Board (2001–05) (endorsed Hillary Clinton)[17] David Shedd , Deputy Director of National Intelligence; Acting Director of the Defense Intelligence Agency[22] Stephen Slick , Senior Director for Intelligence Programs, National Security Council[12] Frances Townsend , Homeland Security Advisor[22] Kenneth Wainstein , Homeland Security Advisor[12] Other former federal government officials Former Chief of Staff to the Vice President and founder of The Weekly Standard Bill Kristol Donald B. Ayer , United States Deputy Attorney General[12] Phillip D. Brady , White House Staff Secretary; White House Cabinet Secretary (endorsed Hillary Clinton)[108] Paul K. Charlton , United States Attorney[111] Linda Chavez , Director of the Office of Public Liaison; 1986 nominee for U.S. Senator from Maryland[28] Jim Cicconi , White House Staff Secretary (endorsed Hillary Clinton)[17] Scott Evertz , Director of the Office of National AIDS Policy (endorsed Hillary Clinton)[17] Tony Fratto , Deputy White House Press Secretary[112] Charles Fried , United States Solicitor General; Associate Justice of the Massachusetts Supreme Judicial Court (endorsed Hillary Clinton)[113] Fred T. Goldberg, Jr. , Assistant Secretary of the Treasury for Tax Policy; Commissioner of Internal Revenue (endorsed Hillary Clinton)[17] Hugh Hewitt , Assistant White House Counsel; conservative radio host (called on Trump to withdraw his candidacy)[114] Theodore Kassinger , United States Deputy Secretary of Commerce[12] Bill Kristol , Chief of Staff to the Vice President (endorsed Evan McMullin)[115] Rosario Marin , Treasurer of the United States (endorsed Hillary Clinton)[116] John McKay , former United States Attorney (endorsed Hillary Clinton)[117] Andrew Natsios , Administrator of the United States Agency for International Development; Chair of the Massachusetts Republican Party[12] Daniel F. Runde , Director of the Global Development Alliance[22] Larry D. Thompson , United States Deputy Attorney General[12] Dan Webb , former United States Attorney (endorsed Hillary Clinton)[118] Peter Wehner , Director of the Office of Strategic Initiatives[10] Lezlee Westine , Director of the Office of Public Liaison (2001–2005) (endorsed Hillary Clinton)[99][119] Peter Zeidenberg, Assistant United States Attorney[111] Statewide officials Current Brian Calley , Lieutenant Governor of Michigan (2011–present) (called on Trump to withdraw his candidacy)[120] Spencer Cox , Lieutenant Governor of Utah (2013–present)[121] Kim Guadagno , Lieutenant Governor of New Jersey (2010–present)[122] Former Paul Anderson , Associate Justice of the Minnesota Supreme Court (1994–2013) (endorsed Hillary Clinton)[123] Greg Bell , Lieutenant Governor of Utah (2009–13) (endorsed Evan McMullin)[124] Bob Brown , Secretary of State of Montana (2001–05) (endorsed Hillary Clinton)[125] Betty Montgomery , Attorney General of Ohio (1995–2003), Ohio State Auditor (2003–07)[126] Mark Shurtleff , Attorney General of Utah (2001–13) (endorsed Hillary Clinton)[127] Robert Smith , Associate Judge of the New York Court of Appeals (2004–14) (endorsed Hillary Clinton)[128] Michael Steele , Lieutenant Governor of Maryland (2003–07) and RNC Chair (2009–11)[129] Diana Taylor , New York Superintendent of Banks (2003–07) (endorsed Hillary Clinton)[130] Grant Woods , Attorney General of Arizona (1991–99) (endorsed Hillary Clinton)[131] State legislators Current Jack Ciattarelli , New Jersey State Representative (2011–present) (withdrew endorsement)[122] Kurt Daudt , Minnesota State Representative (2011–present), Speaker of the Minnesota House of Representatives (2015–present) (called on Trump to withdraw his candidacy)[132] David Johnson , Iowa State Senator (2003–present)[37][133] Mark B. Madsen , Utah State Senator (2005–present) (endorsed Gary Johnson)[134] Charisse Millett , Alaska State Representative (2009–present), Majority Leader (2015–present) (withdrew endorsement)[135][136] Ross Spano , Florida State Representative (2012–present)[80] Joe Sweeney , New Hampshire State Representative (2012–present) (withdrew endorsement)[137] Former Lois Sherman Hagarty , Pennsylvania State Representative (1980–92)[138] Brian Lees , Massachusetts State Senator (1989–2007), Minority Leader (1993–2007)[139] Jack McGregor , Pennsylvania State Senator (1963–70) (endorsed Hillary Clinton)[108] Will Weatherford , Florida State Representative (2006–14), Speaker of the Florida House of Representatives (2012–14)[140] Municipal officials Joel Giambra , former Erie County Executive (endorsed Hillary Clinton)[141] Carlos A. Giménez , Mayor of Miami-Dade County (endorsed Hillary Clinton)[142] Danny Jones , Mayor of Charleston, West Virginia (endorsed Gary Johnson)[143][144] Aimee Winder Newton , Member of the Salt Lake County Council (withdrew endorsement)[145] Tomás Regalado , Mayor of Miami[146] OTHER NOTABLE INDIVIDUALS  \n",
      "\n",
      "\n",
      "John Kerry’s Remarks at the Chicago Council on Global Affairs by John F. Kerry Voltaire Network | Chicago | 26 October 2016 Well, good evening, everybody. And thank you, very, very much to Ivo Daalder. Thank you, sir, Mr. Ambassador. And thanks to the Chicago Council for Global Affairs for inviting me here. And a profound thank you to Ambassador Lou Susman for his very generous introduction. And most importantly, Marge and Lou, thank you for many, many years of extraordinary friendship. I really value it. And I think everybody is grateful for the service of both of these ambassadors. Thank you.\n",
      "With respect to my being here, I have to tell you I was surprised that you guys showed up given the Cubbies. (Laughter.) I figured that – I was surprised at the generous welcome, because I thought the only people who would come would be White Sox fans – (applause) – but I’m pleasantly, pleasantly surprised. More to say about that.\n",
      "Ivo is one of our top foreign policy experts of the generation, and I had the occasion to be at his residence in Brussels with President Karzai and the then chief of staff of Pakistan’s armed forces, and we abused his premises significantly for hours while we negotiated. But I’m grateful for the job he did. He was an outstanding United States ambassador to NATO.\n",
      "And Lou, folks, if you don’t know it, is a Chicago fixture. He is a former emissary to the United Kingdom to the Court of St. James, a lawyer, a businessman, and as I mentioned, a longtime friend. He is also one of those very irritating people who no matter what he tries he succeeds at it. (Laughter.)\n",
      "So Ambassador Daalder and Susman, you guys make a great team. And my deepest respects to you, and thank you for continuing with the council in providing leadership. We really appreciate it.\n",
      "To my former colleague on Capitol Hill, Senator Dick Durbin, to Secretary Bill Daley, to Ambassador Jim Dobbins, members of the consular corps, and to all of you, thank you very much for your warm welcome to Chicago, the hometown of my boss. (Applause.)\n",
      "I’m not saying this for your consumption; I say it anywhere and everywhere. President Obama is going to go down in history as one of America’s significant and most accomplished chief executives. (Applause.) And lucky guy, he’s only in his fifties. He’s got a lot more to contribute to the country, so we’re all lucky.\n",
      "And over the years, I have heard President Obama talk a lot about Chicago, as you could imagine. And I am sure he has heard me as a champion of Boston complaining about Chicago’s unconscionable kidnapping of Theo Epstein and Jon Lester. (Laughter.) Envy is a terrible thing, folks. (Laughter.)\n",
      "We all know that for many decades, Boston and Chicago were linked by an evil curse hatched by demons dwelling thousands of miles beneath the Earth’s crust. (Laughter.) And a dozen years ago, with Theo’s help, Boston broke from the spell. And skies opened, the lotus blossoms fell like rain. (Laughter.) And because some of you may be superstitious – which actually means all of you are superstitious – I will say no more except to say: Forget about yesterday. Your Cubbies are wicked awesome, as we say in Boston. (Applause.) And I promise to get you home tonight before the seventh inning stretch. (Laughter.)\n",
      "Now, my focus this evening is on diplomacy, the art of negotiating and building relationships. It is a skill that some people have and others do not. For example, when Ulysses S. Grant was a boy, he lived across the state in Galina. And at the age of eight, he got permission from his dad to buy a neighbor’s horse. So he went to the neighbor’s farm and he told the guy there, “Papa says I can offer you $20 for the colt, but if you don’t take it, I’m to offer twenty-two-and-a-half. And if you don’t take that, I’m to give you 25.”\n",
      "Now, my friends, with that kind of transparency, we could put WikiLeaks out of business. (Laughter.) But I’ve got to tell you, it makes you wonder how the North ever won the Civil War. (Laugher.) Now, we can all read about the Civil War and have, and we can all sit in the grandstands and watch the World Series, but actually, we’re here tonight not as spectators. We’re here as real-life participants in a troubled world. And we know that we have choices to make as citizens and as a country that can spell the difference between security and suffering, progress and stagnation, in an era of rapid, breathtaking transition. And that breathtaking transition is at the heart of a lot of the discontent that we see playing out in the most disturbing and unattractive ways.\n",
      "But we have to take seriously what’s underneath it. The stark and bipolar divide of the Cold War that I encountered when I first arrived in the United States Senate that I grew up with, as a kid who grew up through the Cold War, but which I arrived at in the Senate more than 30 years ago, that bipolar, simple world has disappeared, and I don’t think anyone regrets that. But we are confronted today by a globe that is both no less dangerous and far more complex, where the power to influence events is less hierarchical, far more broadly dispersed, and change is at least as likely to be driven from the bottom as it is from the top.\n",
      "For better and often for worse, non-state actors have assumed a more prominent role on the global stage. Chicago’s MacArthur Foundation is one of the happier examples. And the astonishing march of technology has and continues to revolutionize the workplace, and seemingly it has shrunk time and space, and that makes neighbors of all of us. Political instability, economic hardships, and even climate change have caused record numbers of people to migrate across borders in search of a better life. And all of this has made the job of governing in a way that meets public expectations harder than it has ever been before.\n",
      "Here in the United States, we saw our nation attacked on 9/11 and our armed forces enter a fight at great cost in Afghanistan and Iraq. In recent years, we have witnessed the rise of Daesh/ISIL and again experienced the tragedy of terrorist murders close to home. We are confronted as well by the specter of cyber warfare, and by the unwelcome return of vicious sectarian violence and extreme nationalism.\n",
      "It is little wonder that some yearn for what seems like a far simpler time. But it would be foolish to think that we can move ahead with our eyes firmly fixed on the rearview mirror. International challenges can’t be wished away, they can’t be ignored. They have to be met with honesty and determination and confidence. And that is the approach that our country at its best has always taken. As a famous son of Illinois once said, “optimist” is just another name for an American. And I agree – on at least this point – with Ronald Reagan. (Laughter.)\n",
      "Put simply, the tasks that we face in the world today are more diverse and more complicated than those that our predecessors wrestled with. And frankly, our strategies have to reflect that and they don’t always. Some problems are relatively narrow in scope or they’re confined to a particular region, but a few – such as those that are posed by poor governance, of which there is far too much in this world right now – corruption, climate change, violent extremism; these are problems and challenges that are literally generational in their scope, and they require both short-term and long-term actions – something that our politics is finding it really difficult to deal with to our great detriment as a country.\n",
      "At times we will be able to count on global institutions, but more often we’re going to have to do a lot of the heavy lifting ourselves. That’s what I’ve learned as Secretary. In every case, we have to act with our nation’s values and our best interests in mind. And I want to be crystal clear that is exactly what we are doing.\n",
      "Now, we’ve all heard some people accuse the United States of standing aloof from the world’s problems or somehow being in retreat. I’ve heard that narrative. I hear people say why is the United States disengaging? Why are you pulling back? And I scratch my head, and I say, where are these people coming from? But those assertions are, to use a diplomatic term of art, absolute nonsense. The truth is that the United States today is more deeply engaged in more places simultaneously on more critical issues with greater consequence than ever before in the history of this nation, and I know that. (Applause.)\n",
      "Now, let me run through that a little bit so it’s not just a sentence, it’s not rhetoric. Consider for a moment the world’s most dynamic region.\n",
      "The Asia Pacific is essential to the security and the prosperity of the United States – period. Of our top ten trading partners in the world, five of them are in Asia. The globe’s most populous country and its largest democracy are located there. In East Asia, we have enduring defense alliances with Japan and the Republic of Korea that we continue to strengthen and reaffirm and that we have strengthened and reaffirmed in this administration twice since I have been Secretary.\n",
      "We have a regional diplomatic agenda that covers everything from nonproliferation to the prevention of human trafficking. Just two days ago I chaired – because I chair the Interagency Task Force – we had the Attorney General of the United States, the head of the FBI, the Treasury Department, the entire government – Education Department, Commerce – all at the same table talking about how we’re going to deal with human trafficking and end the scourge of modern-day slavery in the year 2016. I don’t know any other nation. (Applause.) You tell me what other nation has every arm of its government sitting around the same table on the same day wrestling with a global international issue and offering leadership as we have been on the issue of trafficking. Young women who are sold into slavery and sex traffics; a young man with a shackle around his neck that The New York Times chronicled so effectively, who was two years at sea, shackled to a boat where he was made to fish illegally and as a slave. You can run through 27 million stories, folks. I don’t know them all, but I know that each is as horrible as the other, and so do you. And these are people who are powerless; people from whom it is only a country like us that is willing to work to try to stand up and bring them out of the shadows and liberate them that we are their only hope, their only possibility of survival in situations where otherwise they might be forgotten to anybody and everybody – a speck of history that disappeared in some horrible moment that we don’t even witness.\n",
      "We are cooperating with local (inaudible) leaders to restrain North Korea’s dangerous nuclear program and we’re adding muscle to one of the toughest economic sanctions regimes ever imposed, and we led the effort to achieve that. We consult regularly with regional partners to prevent misunderstandings that would lead to even greater tensions in the South China Sea. And we are helping to guide Myanmar’s historic transition from global outcast to emerging democracy. Just yesterday, I met with leaders from Vietnam to deepen our ties to a one-time adversary with whom we have found areas of common ground that not long ago would have seemed literally unimaginable.\n",
      "Yesterday, I sat across a man who told me he fought in Quang Tri in the north of Vietnam while I was in the south, improbable as it might have been years ago for me to imagine we would sit across the table from each other and talk about how we really make peace. We left there in 1975 – as you all know, ’73 – we left in ’75, the fall of Saigon, then-Saigon, and the rest is history. Well, I’m proud that the United States saw the President of the United States Barack Obama, together with the Secretary of State who fought in that war in Hanoi, in Ho Chi Minh City, forging stronger ties with what is now a raging capitalist country that is changing rapidly. And that is how you really make peace, my friends – by building, by diplomacy. (Applause.)\n",
      "In September, I sat down with New York – in New York with representatives from many Asian nations, and they reiterated a message that I have heard over and over again as Secretary of State. They welcome America’s presence in their region. And they don’t go to bed at night wondering about when we’re going to leave; they worry that we might leave. They don’t want any one country to try and dictate to others what they can and cannot do. And they see the United States of America as a balancing and stabilizing force, but they’re also concerned about what the future is going to bring. And the question they ask, the critical test of our commitment above all others, is whether we will formally approve the Trans Pacific Partnership or the TPP.\n",
      "Now, let me tell you, this 12-nation agreement which we sought, which we led to create, which we have put our credibility on the line in order to build this 40 percent of global GDP entity that will create a race to the top, not a race to the bottom. It’s a global economy, and this agreement includes three of the biggest trading partners of Chicago – Canada, Mexico, and Japan. Unlike any trade agreement that our country has ever previously signed, TPP includes unprecedented labor and environmental protections within the four corners of the agreement, unlike the others. It mandates a level playing field between private sector companies and state-owned companies. Who do you think benefits from that? We don’t have state-owned companies. Other countries do. And now we create a level playing field. And provided Congress approves it, this pact will abolish 18,000 foreign taxes on American goods and services, making it easier for our farmers, our ranchers, and our businesspeople to be able to export overseas.\n",
      "That is why the TPP is both a good deal for the American economy and it is a litmus test of our country’s capacity to lead. Make no mistake; if we’re going to live up to our responsibilities in Asia, if we’re going to treat our partners with the respect that they deserve while earning their respect at the same time, and if we’re going to do what is necessary to protect our interests, we have to maintain a steady and a reliable presence in that region. And I’ll just share with you our involvement can’t be in one sector and not in others. We can’t focus on one country and not be inclusive. We can’t focus on security at one moment and then ignore the economic dimension. You can’t turn it on and off like a faucet. Whenever and wherever vacuums exist in this world today, others will move to fill them in ways that may not embrace the rule of law and that will certainly not reflect the kind of high trading standards that we, the United States, seek.\n",
      "If we were to see the TPP rejected, it would be a gigantic self-inflicted wound on our nation – a setback to our own interests in the region, where our credibility as a country on any agreement we’re trying to negotiate would be in doubt. It would amount to a conscious turning of our backs on the Asia Pacific at the very moment that we ought to be linking arms. It would be an act that would hurt American workers, slow our economy, hinder our ability to advance the full range of U.S. objectives in a region that is just, by common sense, with five of the fastest-growing nations in the world, a region that is important to our future.\n",
      "Now, the good news is most of our citizens realize this. A recent survey by this council showed that a majority of Americans favor the TPP and believe that free trade is beneficial – and as I say free, I say fair, because it’s important that it be an agreement like the TPP, where you have labor standards and environment standards. But it is beneficial to our economy and is helpful to America’s standard of living.\n",
      "And those people who are the majority in America who say they do support it realize that if America is going to keep growing – just think about this, it’s sort of basic common sense. You want the economy to grow, folks? Then you have to be able to sell to the places where 95 percent of the world’s customers live, and that’s not in the United States. Ninety-five percent of the world’s customers live in other countries – beyond our borders – and we can’t grow our economy unless we’re willing to engage in trade. So don’t throw the baby out with the bathwater. That’s not what this is about. The problem is not that the average American worker is penalized by trade itself. The average American worker is penalized by a system that doesn’t allow them to share in the benefits of that trade, which sees the top 1 percent take most of the benefits away with them. And what we need is a measure of fairness in our tax structure, in our social structure, education, ongoing education, that provides opportunity for all Americans, so that whatever disruption or dislocation might come is adjusted for because we understand what we’re doing.\n",
      "So I call on Congress when it returns to Washington after the election to take up and approve the TPP. It is the right thing to do for America – and no matter what the loudest voices may be shouting – it is also the popular choice. (Applause.)\n",
      "Now even – but even as we demonstrate sustained leadership on the rebalance of our national security policy towards the Asia Pacific, we have to confront a lot of other tests as well. And none is more urgent than responding to the threat that is posed by violent extremists. This is a danger that has evolved steadily since 9/11 and we work constantly to defend against it, both here and at home; and in helping Nigeria to push back against the terrorist kidnappers of Boko Haram, which we are doing successfully; of helping Somalia to reclaim land from al-Shabaab, which we are doing successfully; of helping Afghanistan to safeguard its citizens from the Taliban; to help friends in the Middle East who are confronted by the most ruthless terrorist organization of all.\n",
      "I want you to think back to the summer of 2014, ask yourself who is retreating. In 2014, Daesh terrorists were rampaging across Syria and Iraq, and you remember seeing on TV the Toyotas and the black flags and the sweeping columns moving through town after town plundering cities, murdering and torturing the innocent, and claiming to establish a caliphate that would rule all Islam. We heard dire predictions that Baghdad was about to fall and that young people from every single corner of the globe were going to flock to Daesh to kill and die in the name of hate.\n",
      "It was a time to provide leadership, and that is exactly what President Obama did when he ordered U.S. planes to engage and bomb those terrorists and help rescue an endangered group of Yazidis on Mount Sinjar in northern Iraq, where we stopped a slaughter from taking place. We led the effort to mobilize a diverse coalition that now numbers 67 countries. And together with our partners on the ground, we took on the terrorists and began to liberate the cities that they had occupied – Kobani, Tikrit, Fallujah, Ramadi, and more. And today, the citizens who were driven out have returned to those communities. Day after day, we have been eliminating the leaders of Daesh, choking their finances, disrupting their supply lines, hammering their oil facilities, and reducing their recruitment to a trickle.\n",
      "And from the outset, we warned that eliminating Daesh completely wasn’t going to happen overnight; it was going to take a number of years. And that remains the case. But I’m telling you, the terrorists haven’t been able to launch a significant offensive and hold territory since May of last year. We have closed off the strategic border between Syria and Turkey.\n",
      "And just last week, Iraqi and Peshmerga forces began a campaign to free Mosul, the so-called spiritual capital of Daesh’s phony caliphate and its largest remaining stronghold. Now this is going to be a difficult and consuming assault against a dug-in foe; but I’ll tell you this, our resolve could not be more firm. Daesh is opposed to every value human civilization aspires to. Daesh kills Christians because they are Christians; Jews because they are Jews; Yazidis because they are Yazidis; Shiite Muslims because they are Shiite Muslims; and Sunni Muslims if they reject Daesh’s ugly view of the world. Daesh sells little girls into slavery and brags about it. It cuts off the heads of innocent people in public, and sometimes forces children to watch and to even participate in executions. I said it earlier this year and I will say it again: Daesh is guilty of genocide and we will hold Daesh accountable. (Applause.)\n",
      "My friends, it matters that every time we defeat these terrorists in one place, we seize files that help us to disrupt the networks that they are trying to establish in others; we learn more about how Daesh operates and who is aiding or conspiring with them. No one hears much about the attacks that don’t happen. We’re glad; we like it that way. But by sharing information, our coalition is helping to deter and break up plots on a regular basis before anyone gets hurt.\n",
      "We are also engaged in a nonstop effort to rebut the lies that fuel propaganda. Here, too, we are making gains. Daesh’s presence on social media has plummeted and it has become apparent that its pledge to create Paradise on Earth is crumbling into a hand full of dust.\n",
      "So here’s the bottom line: Because of the determined use of our diplomacy backed by our armed forces and the commitment of our partners, and the leadership that we have provided, we are going to win the fight against Daesh. And we are going to prevail without altering the nature of our societies, without succumbing to bigotry, without closing our borders, without betraying the democratic values that terrorists have vowed to destroy.\n",
      "We will also persist in our effort to find a diplomatic solution to the conflict in Syria, and I believe we will find a way to ultimately end the most severe humanitarian crisis since World War II. It is a crisis, I might add, that is not going to be solved by just writing checks for refugees. We’re the largest donor in the world to the Syrian refugees. But what we have to do is stop the flow of refugees; we have to end the war. And this is as complicated a bit of diplomatic business as I’ve ever seen.\n",
      "The situation in Syria is made worse by the multi-sided nature of the fighting as well as the utter depravity of the Assad regime, and there are so many different forces there. But precisely because the war is so complex, clear principles are required to end it. And because some outside powers have been playing an unhelpful role, international cooperation is essential as well. That’s why a year ago, we, the United States, brought together a group of stakeholders – the International Syria Support Group. It includes every single country that is involved in the conflict, including Russia and Iran.\n",
      "And some people say, “Well, why are you sitting at the table with those guys?” Because they’re involved. Because without them being part of the solution, they are part of the problem. Each and every one of those countries promised to support a cessation of hostilities, the unfettered delivery of humanitarian aid, and negotiations that would lead to a political transition. Now, these remain the right principles for ending the war; but as the world knows far too well, the promises made on paper have not yet been matched by actions on the ground.\n",
      "And this failure to keep faith has been both deeply tragic and unbelievably frustrating, piling misery on top of misery, and squandering opportunities for progress when they’re staring us right in the face. And despite the many setbacks, my friends, there’s a simple reality. The need for diplomacy remains, because the fact remains that a military solution in the judgment of most people is simply not possible – at least not if Syria is ever to be a whole country again.\n",
      "This is complicated because there are many wars taking place simultaneously in the same place – Kurd on Kurd, Kurd on Turkey, Iran versus Saudi Arabia, Saudi Arabia versus Iran; Iran and Hizballah versus Israel versus us and those who have labeled Hizballah a terrorist organization; a lot of people against Assad; the whole world against Daesh; Daesh against Assad and civilization and everybody else; Shia versus Sunni; Persian Shia versus Arab Sunni. I think that’s more than six.\n",
      "So let me be clear: There’s nothing inevitable about this war. The Syrian disaster resulted from choices that people made. And what people have the power to choose, they have the ability to change. I don’t think it’s hard to envision the changes that we need: a real and lasting ceasefire, representatives from both sides coming together in Geneva and coming together in the country, coming together in the country to defeat the terrorists and coming together in Geneva to define the transitional governing body of the Geneva Communique; to agree on new leadership and on new forms of governance; and to prepare for elections.\n",
      "And why can I say that? Because every single country at the table of the International Syria Support Group has said they support that – elections, a transition government, a whole Syria, respect for rights of all minorities, secular, non-sectarian. The problem is there remains a mountain of mistrust between where we are and where we need to get to. And as we try to chip away at that mountain, we will make – I will make and President Obama will make zero apology for using every single diplomatic tool at our disposal to try to end this war. And we make no apology for not giving up when hospitals are being bombed, when children are still dying in the streets, and more and more refugees are added to the most horrific mass exodus in modern times. We owe the world our best effort to end this war, and we will continue to provide it. (Applause.)\n",
      "Now, the impact of our diplomacy is also being felt in Europe, which is in the process of responding to an array of economic and other dilemmas, including the influx of refugees from Syria, from the Middle East, from Afghanistan, from Africa, and the decision, of course, by Great Britain to leave the European Union.\n",
      "And we take these concerns very seriously, but they don’t diminish our faith in the future of the European project or the resilience of the transatlantic relationship partnership. I was in Brussels earlier this month, and I found that the sense of common purpose across the Atlantic is being demonstrated every single day. The United States and Europe continue to maintain tough economic sanctions against Russia because of its aggression in Ukraine, and our unity has been made even stronger by Russian President Putin’s repeated efforts to interfere in the functioning of our democratic systems. In July, at the NATO Summit in Warsaw, we agreed to bolster our security efforts in the Baltics and in Central Europe, and we’re doing that. We’re emphasizing energy diversification, helping to lead countries that have a one-place energy source and try to diversify for them in order to avoid the potential of being exposed to economic blackmail. And as I’ve said clearly on both sides of the English Channel: Brexit does not alter in the least American’s unwavering commitment to a strong Europe, a strong United Kingdom, and close diplomatic cooperation on matters of importance to all of us.\n",
      "One illustration of that kind of diplomatic cooperation was the nuclear agreement that was referred to in Lou’s introduction regarding Iran. The Joint Comprehensive Plan of Action would never have gotten off the ground without firm European support for the sanctions that helped to bring Iran to the bargaining table. And that support was critical because before negotiations began, Iran had developed the ability to produce enough fissile material for a nuclear bomb in just two months. In fact, they had enough nuclear material for 12 bombs. That’s where we were. The clock was ticking. So we made the decision to negotiate, and it is a good thing we did.\n",
      "Under the plan that we reached, Iran agreed to ship 98 percent of its enriched uranium out of the country, to shut down two-thirds of its centrifuges, to take the core of its plutonium nuclear reactor and fill it with concrete rendering it unusable forever, and they acceded to a state-of-the-art, rigorous verification regime.\n",
      "Now, as we know, this was a contentious debate here in this country. Many people argued against negotiating with Iran, let alone coming to an agreement, saying it would be a terrible mistake. I’ll tell you, to my core, I still believe they were and are wrong. The Iran agreement wasn’t a miscalculation. It has made the whole world safer, and it shows the value of diplomatic engagement even – and perhaps especially – when the governments involved disagree with another on as many issues as we did. When we came together to begin this negotiation, we hadn’t even talked formally to an official of Iran in 35 years.\n",
      "Now, I’m not standing here pretending to you that diplomacy can solve every problem. It can’t. But the peaceful breakthroughs that it can provide are well worth the attempt. Nothing has ever been accomplished by an unwillingness to try. And I’ve always said I’d rather be caught trying.\n",
      "Our diplomacy is also making a difference on global issues, and at the top of that is the historic progress that we are now beginning to make with regard to climate change.\n",
      "Here in Chicago, as elsewhere around the world, you’ve experienced record high temperatures. If the present trend continues, average thermometer readings in the Midwest are going to reach those traditionally associated with the deep South. Each last month was the hottest month in human history – July the hottest month in recorded history. May, June, run the list – so much so that the last 10 years add to the fact that not only was last year the hottest year in human history, the last 10 years are the hottest year – or the hottest decade. And guess what? The decade before that is the second-hottest in human history, and the decade before that is the third-hottest in human history. You’d think with those trend lines that everybody would catch on. But in fact, we had a political party in our country that didn’t allow – not one single candidate running for president – to say anything about climate change. And in the debates that we just had for president, out of six hours of debates, the vice president and president combined, not one single question was asked about climate change.\n",
      "Now, here in Chicago, you’ve been responding to this challenge by implementing flood protection measures, by planting trees, by committing to green technology. But for these steps to be fully effective, they’re going to have to be matched by a concerted international campaign that is now, because of our efforts, gathering steam. And no one country can solve this problem alone. If we went to zero tomorrow, we’d still have a major problem.\n",
      "Last December in Paris, the United States joined governments from nearly 200 nations in approving the most far-reaching agreement on climate change ever negotiated. And to arrive at that point, we had to put the environment where it belonged: right at the top or near top of our foreign policy agenda.\n",
      "In 2009 in Copenhagen – I remember being there – the world convened to talk about climate change but adjourned in total disarray, a famous implosion where the Chinese were involved with the G77 in moving in the opposite direction. So recognizing that, one of my first initiatives as Secretary of State was to prevent that from happening again. I went to Beijing to create in the early – within a month and a half or so of being Secretary, we created a bilateral working group in order to see if it was possible for us to find a different way to move forward with the exact purpose of trying to have our presidents be able to announce the level of reductions that we would jointly engage in.\n",
      "Well, that effort paid off when, in January of 2015, President Obama and President Xi stood side by side in Beijing, representing the world’s two largest economies and the two biggest emitters of greenhouse gases, and together we set ambitious targets for action while encouraging other countries to do the same. That is what broke open the possibility of the Paris Agreement.\n",
      "And the Paris Agreement was a diplomatic milestone, but it’s still far from the finish line. We began this year hoping to take additional strides. First, we wanted to ensure that enough countries would formally ratify the Paris Agreement so that we could bring it into force by the end of the year. That required a whirlwind effort to gain the approval of cabinets and parliaments, the kind of process that often consumes – ask Ivo or ask Lou – could consume a decade. We did it in 10 months.\n",
      "Our second goal was to map out a path towards carbon-neutral growth for the international aviation industry. We achieved that goal in September.\n",
      "And two weeks ago, I flew to Rwanda in pursuit of our third goal: a plan to phase down the use of heat-trapping hydrofluorocarbons in air conditioners, refrigerators, and other devices. And this is probably the single-most important step that we could take to limit the severity of global warming in ways because it, by itself, if properly implemented, will save one-half a degree Centigrade in the warming of Planet Earth. This negotiation also was the product of years of painstaking diplomacy, and it, too, had a positive outcome.\n",
      "So as I said earlier, shielding our planet from the worst consequences of climate change is a generational challenge. But in the three decades that I have been working on this issue, I have never seen the kind of positive momentum that we have now. Across the globe, leaders from the private sector, from civil society, the scientific community, the religious organizations, and governments at all levels are all together moving in the same direction. Yes, there are still pockets of blindness and denial, some right here in America, as I mentioned. And yes, the agreement does not by itself guarantee that we will halt the temperature increase at 2 degrees Centigrade.\n",
      "But by acting boldly on all three fronts – Paris Agreement, civil aviation, hydrofluorocarbons – we have sent an unmistakable, powerful message to entrepreneurs and investors everywhere in the world that now is the time to revolutionize the way we produce and use energy. And as I have said many times, the solution to climate change is staring us in the face. It’s not something we have to discover in the future. It’s here, it’s now, it’s energy policy, it’s moving to make better choices about how we power our transportation, our buildings, our electricity. That’s the solution. And the sooner we move to a low-carbon, no-carbon economy, the sooner we will solve this problem for future generations. (Applause.)\n",
      "And by the way, it is the biggest market in the history of human beings. The market that grew my state of Massachusetts unbelievably and even our country in the 1990s was a $1 trillion market with a billion users. That was the high-tech market – computers, personal computers, and communications. This market is a 4 to 5 billion user market today going up to 9 billion users, and it’s a multi-trillion-dollar market today and it’s going to go up into the 40, 50 trillion mark in terms of investment over the course of the next years. This is the way you put people back to work. If there is one piece of advice I will have for my successor, it will be to ensure that environmental diplomacy remains an integral part of our foreign policy, because we cannot safeguard the future of this planet for our children and our grandchildren if we fail to defend the fundamental principles of a safe and clean Mother Earth. (Applause.)\n",
      "Now, you should know – now, maybe you’re beginning to get the sense of our engagement. What I’ve discussed so far is really just the tip of a very big iceberg. Every day, the State Department’s Foreign and Civil Service professional are hard at work on issues affecting places like Colombia, where we’re aiding President Santos’s effort to end a 50-year war, the longest-running civil conflict in our hemisphere; Cuba, where we have restored diplomatic relations for the first time in more than half a century; Yemen, where we’re trying to work every day now to establish a roadmap towards a durable peace; Libya, where we are working to strengthen the government of national accord, and I will be meeting in London on Monday of next week on that very subject; Sub-Sahara Africa, where we’re training young leaders, promoting connectivity, supporting the empowerment of women; Central Asia, where we’re engaged on energy security and helping civil society to take root.\n",
      "And as the men and women who work in our country’s diplomatic posts can attest to you, being the face of America abroad is an honor, yes, but it’s also a continual challenge filled with personal sacrifice and even risk. I have nothing but admiration for the members of our overseas teams, which is why I think the Chicago Council’s new Youth Diplomats program to help prepare the leaders of tomorrow is a fantastic idea. Let no one doubt the effort by the United States to assist people in other nations makes a major difference to them, but also it makes a major difference to us. And it has done much to shape what our country means to the world.\n",
      "Back in 1949, a junior State Department official named Benjamin Hardy had an idea. He thought that some of the concepts behind America’s New Deal might work if they were applied internationally. He proposed a large-scale program that would harness popular, Quote: , “enthusiasm for social and economic improvement,” and thereby repulse Communism and create a decent life for the Earth’s millions.\n",
      "Mr. Hardy sent his suggestion up the State Department chain-of-command only to see it come back down with the deadly words, “Needs further study.” He sent it up again; it came down again. And here I assure you that nothing like this would ever happen in the flawlessly managed State Department of today – (laughter) – but after trying and failing a third time to get support from above, he did something which I do not recommend to anyone’s who’s aggrieved in my department, he reached directly out to the White House. And the next thing he knew, President Harry Truman was unveiling a program of international assistance as the featured fourth point in his Inaugural Address.\n",
      "This was truly something new. Never before had a country launched a major effort to help people to whom it had no special ties except a shared interest in peace and prosperity. And it’s no accident that that country was the United States of America.\n",
      "I’m not going to tell you that in the time since we’ve solved every problem or that every indicator of international progress is due to America. No, it’s not. But I do know, because I’ve seen it firsthand in country after country, the difference that our leadership and our resources have had a lot to do with what is happening for the good in so many places in the world today. Children born today can expect to live longer and healthier lives than in any previous generation. Did you know that? Compared to just 20 years ago, we have cut in half the number of mothers who die during childbirth and the number of infants who perish because of malnutrition. We’ve vastly expanded access to education for girls and boys. In Afghanistan in 2001, only about a million kids went to school, and they were all boys. Now there are more than 9 million kids in school, and 40 percent of them are girls. (Applause.)\n",
      "We have driven extreme poverty below 10 percent for the first time in human history. We defied predictions to save hundreds of thousands of people who were at risk of Ebola. Remember they said a million people were going to die two Christmases ago, and we never got close to that because President Obama dared to send 3,000 troops over to build health care delivery capacity, and doctors and nurses and aides provided courageous assistance to save lives. We joined forces with the global health community to turn the tide in the fight against HIV/AIDS. I remember 15, 20 years ago it was death sentence and people didn’t even want to talk about it. Now we can look forward, thanks to our program that we put together first in the Senate and then globally, to the first “born free from AIDS” generation in more than three decades. (Applause.)\n",
      "And with the help that we have just received from Congress, you can bet we are going to go after the Zika virus with all the energy that we have, because the prospect of becoming a parent should be a source of joy for everyone everywhere, not a source of fear. (Applause.)\n",
      "This, my friends, is really just scratching the surface of a record in which all Americans can take pride. And yes, it comes at a cost. But do you know that amazing surveys show that many of our citizens think we devote a full quarter or even a third of our federal budget to foreign aid? Do you know what the reality is? One single penny of every dollar that our government spends abroad in terms of diplomacy and all of the programs and all of our aid – one single penny of every dollar is used for international operations and includes everything from counterterrorism to assistance to providing security at our embassies and paying for the staffs of embassies around the world. One penny out of every dollar. One percent. Without doubt, the biggest and best single bargain in the government today.\n",
      "Now, in October of 1937, President Franklin Delano Roosevelt arrived in Chicago to dedicate the Outer Drive Bridge. He was expected to talk about local issues, but instead he had a global message in mind. Congress had earlier approved a neutrality law prohibiting the Executive from sending aid to the democratic countries of Europe. And there were many in our country who said that to remain safe, America should close its eyes to the storms gathering abroad and avoid making an enemy of Hitler.\n",
      "Standing in front of an array of microphones, legs supported by clamps, hands gripping the podium for support, Roosevelt warned that a “reign of terror and international lawlessness” was threatening “the very foundations of civilization.” In vivid terms, he denounced the rise of fascism in Europe, aggression in the Pacific, and the slaughter of defenseless civilians in Abyssinia and China. He said that trying to ignore these outrages would bring not peace, but more of the same – and he compared them to a disease that people everywhere should join in isolating.\n",
      "FDR’s so-called “quarantine” speech, as it came to be known, was denounced by many as “warlike,” and his summons to action was rebuffed by the European advocates of appeasement. But as history was soon to demonstrate, Roosevelt’s every word was proven true.\n",
      "As I enter my final three months as Secretary of State, I am as convinced now, as FDR was then, of the need for peace-loving people on every continent to band together to reject the apostles of hate, the authors of aggression, the manipulators of truth who threaten to hold us back and do us harm. We need to fulfill the responsibility that we all share to uphold the global norms, to defend freedom in all of its dimensions, and to respect the rights and the dignity of every single human being.\n",
      "Also like Roosevelt, I recognize – as I think everyone here does – the importance of flexible and creative U.S. leadership in making that happen. Our country is blessed with an $18 trillion economy. We should be asking ourselves not how quickly or sharply we can shed the responsibilities of leadership, but rather how much more can we do. We have our own storm clouds and our own foundations of civilization to protect. And let us never forget that America is the exceptional nation that so many people in public life like to talk about, but we’re not exceptional because we make speeches about being exceptional, and we’re not exceptional when we shove our face in other people’s faces and tell them how exceptional we are. We are exceptional when and because we do exceptional things. That’s what makes America exceptional. And America can do more, even today, with greater impact. But we have to be willing to put resources on the table and empower people to live our vision – not view it with envy from the outside.\n",
      "I believe that we should look to the future with every ounce of optimism that has always inspired and energized our nation, but we should also acknowledge that we will not be able to chart a sure course for others unless we are at peace with ourselves.\n",
      "A great American from this state once warned, in the words of the scriptures, that, “a house divided against itself cannot stand.” Whatever happens in the next two weeks, our country is going to have to begin a process of healing, of reconnecting with one another, of listening, of forgiving, and remembering that every action we take is being carefully observed by our global allies and adversaries, and that what they see will have a direct impact on our future ability to be able to lead.\n",
      "I think that we have one of the greatest stories in the world to tell. The strength of America, unlike some places where they’re defined by ethnicity or by centuries of homogeneity – we are not. We are defined by an idea, unlike most other countries, and that idea is about freedom and the pursuit of happiness and all people being created equal with the opportunity to make the most of themselves.\n",
      "Ladies and gentlemen, American greatness is not an entitlement and it cannot be taken for granted. It has to be demonstrated; it has to be earned by every generation. And one of the great strengths I hear from other people whenever I travel is how they see in America a country that is always changing, always moving forward, always looking to the future, always able to redefine itself. That effort demands the best from us and it demands the best within us. The world will be watching to see whether we, the American people, remain up to that challenge. There is not a scintilla of doubt in my mind that the answer is yes, but we are going to do a better job – all of us together, I believe – or we need to all do a better job in proving it to people.\n",
      "This Administration still has miles to go before we pass into history, and I intend to work with the president as he does until January 20th to advance the cause of our country. And in doing so, I will be grateful for as long as I live for the privilege I have been given to serve, just as I am now grateful for your hospitality in welcoming me to the matchless city of Chicago. Thank you and go Cubs. (Applause.) Thank you very much. Thank you very much. Please, please, please (inaudible).\n",
      "MR DAALDER: Mr. Secretary, I think I speak for all of us here to thank you for your service and for this really rousing call for continued strong American leadership and engagement in the world. We have a couple more minutes, so we’ve gotten some questions that we’ve collected, and I wanted to start with a question of a young man who is a political science student here in – at DePaul University who wants to think about his future by asking you something about his past. He asks: “How has your experience as a Vietnam veteran influenced you not only throughout your life, but particularly your service as Secretary of State?”\n",
      "SECRETARY KERRY: Well, it’s a great question. Thank you for the question. I did a podcast earlier today with David Axelrod in which we talked a little bit about this. It requires a little bit of biography. But when I – I signed up for the United States military in 1965, not too long after Lyndon Johnson said we need 500,000 troops in Vietnam and the Gulf of Tonkin incident had allegedly happened. And I was, like many, many, many of my classmates, actually, I was surprised when I went back and looked in our reunion book how many classmates served. And I think it was part of our generation’s sense of responsibility – lucky enough to go to great university, mindful of President Kennedy’s call to action that we would bear any price and – pay any price, bear any burden, and recognizing we were in the Cold War and seeing things in a fairly simplistically defined way – East, West, Soviet Union versus the West, bipolar, pretty simple stuff, defend against Communism – and we tended to see most of our challenges within that lens.\n",
      "Well, by time – the first draft card hadn’t been burned. I think it was first burned in about 1967. And by 1968, when I was training – when I left for Vietnam for a tour of duty in the Gulf of Tonkin in a ship, and then when I went over as skipper of a small gun boat, 1968 was an incredible year, as you all know from history and some of you from living it. Medgar Evers was assassinated, Martin Luther King was assassinated, Robert Kennedy was assassinated. There was tumultuous convention right here in this city. And I was in uniform and watching all of this and listening to the stories of those who were coming back from Vietnam and sharing with us what their experience was.\n",
      "So when I went over in-country as we called in October, I think it was, of 1968, I saw a very different set of circumstances from those that we had mostly read about or had described to us. And I really found myself – as we did all of us who were there – wrapped up in a civil war with very few options in a sense and a war that, in my judgment, we were simply not going to win the way it was being fought and with the choices and options that we had, and perhaps couldn’t be in the long run depending on how you saw the North-South civil component of it.\n",
      "So what I learned was, in answer to your question, and what I vowed was as a young man, that if I was ever in a position of responsibility to make a judgment about putting people like me in harm’s way again, I was going to make sure that we understood what we were doing, and I was going to make sure that we had the right lens and the right understanding of what it was. We haven’t done that, obviously, in every case, but I think that the notion – I think – when I testified before Congress and before the Senate Foreign Relations Committee in 1971, I laid out my reasons for opposition to the war as a veteran. As I was leading a group of veterans and a small group of my friends – we brought about 5,000 veterans to Washington. We camped out on the Mall and we stared down the Supreme Court and the Washington police and the administration, and stayed on the Mall and delivered a message to Congress about the war. And it was a breakthrough moment where people began to really understand what was happening.\n",
      "I think that the lesson I learned is – are several. Number one, make sure you really ask the right questions, examine all the possibilities, and get an understanding of the place you’re thinking about going so you understand what the dynamics are, what the downside risks are, and what is the what then, what next. Once you’ve succeeded in your immediate goal, how do you manage it as you go forward?\n",
      "I also learned that not everything is Vietnam, and that’s a very important lesson, folks. Some people get trapped in that place in history, and I thought it was very important not to be trapped, that sometimes we do have to use force. I supported what we did in Kosovo and Serbia. I thought it was critical to save lives. And as you all know, President Clinton greatly regrets the fact that they didn’t respond in Rwanda. There are times when I think we do have a responsibility and we have to do some things that we don’t like to do. But it depends on what the stakes are, and you have to examine them very, very carefully.\n",
      "So the real – I also learned an indelible lesson, because we were the veterans who first called to attention of the nation the treatment of vets in the VA hospitals, the lack of adequate allowances to go to school, the lack of adequate staffing in the hospitals, the absence of any kind of thank you or homecoming for a group of veterans who fought as hard as any other people in war at any other time, and I learned indelibly that this country should never, ever again confuse the war with the warriors. And I think we have learned that lesson, and it’s a good one. (Applause.)\n",
      "MR DAALDER: Mr. Secretary, thank you for your service. Thank you for joining us here today. I very much appreciate you coming to Chicago. Particularly on this night, you’ve kept an audience for a long time, and particularly what’s going on right now.\n",
      "SECRETARY KERRY: Do we have a score?\n",
      "MR DAALDER: They’re winning, 2-nothing. Thank you. (Applause.)\n",
      "SECRETARY KERRY: Two-nothing. That’s a good note to end on. Thank you. (Applause.)\n",
      "John F. Kerry \n",
      "\n",
      "\n",
      "Donate Trump in the White House: an Interview With Noam Chomsky Noam Chomsky speaks in Buenos Aires, Argentina, on March 12, 2015. (Photo: Ministerio de Cultura de la Nación Argentina) By C.J. Polychroniou / truth-out.org On November 8, 2016, Donald Trump managed to pull the biggest upset in US politics by tapping successfully into the anger of white voters and appealing to the lowest inclinations of people in a manner that would have probably impressed Nazi propagandist Joseph Goebbels himself. But what exactly does Trump's victory mean, and what can one expect from this megalomaniac when he takes over the reins of power on January 20, 2017? What is Trump's political ideology, if any, and is \"Trumpism\" a movement? Will US foreign policy be any different under a Trump administration? Some years ago, public intellectual Noam Chomsky warned that the political climate in the US was ripe for the rise of an authoritarian figure. Now, he shares his thoughts on the aftermath of this election, the moribund state of the US political system and why Trump is a real threat to the world and the planet in general. C.J. Polychroniou for Truthout: Noam, the unthinkable has happened: In contrast to all forecasts, Donald Trump scored a decisive victory over Hillary Clinton, and the man that Michael Moore described as a \"wretched, ignorant, dangerous part-time clown and full-time sociopath\" will be the next president of the United States. In your view, what were the deciding factors that led American voters to produce the biggest upset in the history of US politics? Noam Chomsky: Before turning to this question, I think it is important to spend a few moments pondering just what happened on November 8, a date that might turn out to be one of the most important in human history, depending on how we react. No exaggeration. The most important news of November 8 was barely noted, a fact of some significance in itself. On November 8, the World Meteorological Organization (WMO) delivered a report at the international conference on climate change in Morocco (COP22) which was called in order to carry forward the Paris agreement of COP21. The WMO reported that the past five years were the hottest on record. It reported rising sea levels, soon to increase as a result of the unexpectedly rapid melting of polar ice, most ominously the huge Antarctic glaciers. Already, Arctic sea ice over the past five years is 28 percent below the average of the previous 29 years, not only raising sea levels, but also reducing the cooling effect of polar ice reflection of solar rays, thereby accelerating the grim effects of global warming. The WMO reported further that temperatures are approaching dangerously close to the goal established by COP21, along with other dire reports and forecasts. Another event took place on November 8, which also may turn out to be of unusual historical significance for reasons that, once again, were barely noted. On November 8, the most powerful country in world history, which will set its stamp on what comes next, had an election. The outcome placed total control of the government -- executive, Congress, the Supreme Court -- in the hands of the Republican Party, which has become the most dangerous organization in world history. Apart from the last phrase, all of this is uncontroversial. The last phrase may seem outlandish, even outrageous. But is it? The facts suggest otherwise. The Party is dedicated to racing as rapidly as possible to destruction of organized human life. There is no historical precedent for such a stand. Is this an exaggeration? Consider what we have just been witnessing. During the Republican primaries, every candidate denied that what is happening is happening -- with the exception of the sensible moderates, like Jeb Bush, who said it's all uncertain, but we don't have to do anything because we're producing more natural gas, thanks to fracking. Or John Kasich, who agreed that global warming is taking place, but added that \"we are going to burn [coal] in Ohio and we are not going to apologize for it.\" The winning candidate, now the president-elect, calls for rapid increase in use of fossil fuels, including coal; dismantling of regulations; rejection of help to developing countries that are seeking to move to sustainable energy; and in general, racing to the cliff as fast as possible. Trump has already taken steps to dismantle the Environmental Protection Agency (EPA) by placing in charge of the EPA transition a notorious (and proud) climate change denier, Myron Ebell. Trump's top adviser on energy, billionaire oil executive Harold Hamm, announced his expectations, which were predictable: dismantling regulations, tax cuts for the industry (and the wealthy and corporate sector generally), more fossil fuel production, lifting Obama's temporary block on the Dakota Access pipeline. The market reacted quickly. Shares in energy corporations boomed, including the world's largest coal miner, Peabody Energy, which had filed for bankruptcy, but after Trump's victory, registered a 50 percent gain. The effects of Republican denialism had already been felt. There had been hopes that the COP21 Paris agreement would lead to a verifiable treaty, but any such thoughts were abandoned because the Republican Congress would not accept any binding commitments, so what emerged was a voluntary agreement, evidently much weaker. Effects may soon become even more vividly apparent than they already are. In Bangladesh alone, tens of millions are expected to have to flee from low-lying plains in coming years because of sea level rise and more severe weather, creating a migrant crisis that will make today's pale in significance. With considerable justice, Bangladesh's leading climate scientist says that \"These migrants should have the right to move to the countries from which all these greenhouse gases are coming. Millions should be able to go to the United States.\" And to the other rich countries that have grown wealthy while bringing about a new geological era, the Anthropocene, marked by radical human transformation of the environment. These catastrophic consequences can only increase, not just in Bangladesh, but in all of South Asia as temperatures, already intolerable for the poor, inexorably rise and the Himalayan glaciers melt, threatening the entire water supply. Already in India, some 300 million people are reported to lack adequate drinking water. And the effects will reach far beyond. It is hard to find words to capture the fact that humans are facing the most important question in their history -- whether organized human life will survive in anything like the form we know -- and are answering it by accelerating the race to disaster. Similar observations hold for the other huge issue concerning human survival: the threat of nuclear destruction, which has been looming over our heads for 70 years and is now increasing. It is no less difficult to find words to capture the utterly astonishing fact that in all of the massive coverage of the electoral extravaganza, none of this receives more than passing mention. At least I am at a loss to find appropriate words. Turning finally to the question raised, to be precise, it appears that Clinton received a slight majority of the vote. The apparent decisive victory has to do with curious features of American politics: among other factors, the Electoral College residue of the founding of the country as an alliance of separate states; the winner-take-all system in each state; the arrangement of congressional districts (sometimes by gerrymandering) to provide greater weight to rural votes (in past elections, and probably this one too, Democrats have had a comfortable margin of victory in the popular vote for the House, but hold a minority of seats); the very high rate of abstention (usually close to half in presidential elections, this one included). Of some significance for the future is the fact that in the age 18-25 range, Clinton won handily, and Sanders had an even higher level of support. How much this matters depends on what kind of future humanity will face. According to current information, Trump broke all records in the support he received from white voters, working class and lower middle class, particularly in the $50,000 to $90,000 income range, rural and suburban, primarily those without college education. These groups share the anger throughout the West at the centrist establishment, revealed as well in the unanticipated Brexit vote and the collapse of centrist parties in continental Europe. [Many of] the angry and disaffected are victims of the neoliberal policies of the past generation, the policies described in congressional testimony by Fed chair Alan Greenspan -- \"St. Alan,\" as he was called reverentially by the economics profession and other admirers until the miraculous economy he was supervising crashed in 2007-2008, threatening to bring the whole world economy down with it. As Greenspan explained during his glory days, his successes in economic management were based substantially on \"growing worker insecurity.\" Intimidated working people would not ask for higher wages, benefits and security, but would be satisfied with the stagnating wages and reduced benefits that signal a healthy economy by neoliberal standards. Working people, who have been the subjects of these experiments in economic theory, are not particularly happy about the outcome. They are not, for example, overjoyed at the fact that in 2007, at the peak of the neoliberal miracle, real wages for nonsupervisory workers were lower than they had been years earlier, or that real wages for male workers are about at 1960s levels while spectacular gains have gone to the pockets of a very few at the top, disproportionately a fraction of 1%. Not the result of market forces, achievement or merit, but rather of definite policy decisions, matters reviewed carefully by economist Dean Baker in recently published work . The fate of the minimum wage illustrates what has been happening. Through the periods of high and egalitarian growth in the '50s and '60s, the minimum wage -- which sets a floor for other wages -- tracked productivity. That ended with the onset of neoliberal doctrine. Since then, the minimum wage has stagnated (in real value). Had it continued as before, it would probably be close to $20 per hour. Today, it is considered a political revolution to raise it to $15. With all the talk of near-full employment today, labor force participation remains below the earlier norm. And for working people, there is a great difference between a steady job in manufacturing with union wages and benefits, as in earlier years, and a temporary job with little security in some service profession. Apart from wages, benefits and security, there is a loss of dignity, of hope for the future, of a sense that this is a world in which I belong and play a worthwhile role. The impact is captured well in Arlie Hochschild's sensitive and illuminating portrayal of a Trump stronghold in Louisiana , where she lived and worked for many years. She uses the image of a line in which residents are standing, expecting to move forward steadily as they work hard and keep to all the conventional values. But their position in the line has stalled. Ahead of them, they see people leaping forward, but that does not cause much distress, because it is \"the American way\" for (alleged) merit to be rewarded. What does cause real distress is what is happening behind them. They believe that \"undeserving people\" who do not \"follow the rules\" are being moved in front of them by federal government programs they erroneously see as designed to benefit African-Americans, immigrants and others they often regard with contempt. All of this is exacerbated by [Ronald] Reagan's racist fabrications about \"welfare queens\" (by implication Black) stealing white people's hard-earned money and other fantasies. Sometimes failure to explain, itself a form of contempt, plays a role in fostering hatred of government. I once met a house painter in Boston who had turned bitterly against the \"evil\" government after a Washington bureaucrat who knew nothing about painting organized a meeting of painting contractors to inform them that they could no longer use lead paint -- \"the only kind that works\" -- as they all knew, but the suit didn't understand. That destroyed his small business, compelling him to paint houses on his own with substandard stuff forced on him by government elites. Sometimes there are also some real reasons for these attitudes toward government bureaucracies. Hochschild describes a man whose family and friends are suffering bitterly from the lethal effects of chemical pollution but who despises the government and the \"liberal elites,\" because for him, the EPA means some ignorant guy who tells him he can't fish, but does nothing about the chemical plants. These are just samples of the real lives of Trump supporters, who are led to believe that Trump will do something to remedy their plight, though the merest look at his fiscal and other proposals demonstrates the opposite -- posing a task for activists who hope to fend off the worst and to advance desperately needed changes. Exit polls reveal that the passionate support for Trump was inspired primarily by the belief that he represented change, while Clinton was perceived as the candidate who would perpetuate their distress. The \"change\" that Trump is likely to bring will be harmful or worse, but it is understandable that the consequences are not clear to isolated people in an atomized society lacking the kinds of associations (like unions) that can educate and organize. That is a crucial difference between today's despair and the generally hopeful attitudes of many working people under much greater economic duress during the Great Depression of the 1930s. There are other factors in Trump's success. Comparative studies show that doctrines of white supremacy have had an even more powerful grip on American culture than in South Africa, and it's no secret that the white population is declining. In a decade or two, whites are projected to be a minority of the work force, and not too much later, a minority of the population. The traditional conservative culture is also perceived as under attack by the successes of identity politics, regarded as the province of elites who have only contempt for the ''hard-working, patriotic, church-going [white] Americans with real family values'' who see their familiar country as disappearing before their eyes. One of the difficulties in raising public concern over the very severe threats of global warming is that 40 percent of the US population does not see why it is a problem, since Christ is returning in a few decades. About the same percentage believe that the world was created a few thousand years ago. If science conflicts with the Bible, so much the worse for science. It would be hard to find an analogue in other societies. The Democratic Party abandoned any real concern for working people by the 1970s, and they have therefore been drawn to the ranks of their bitter class enemies, who at least pretend to speak their language -- Reagan's folksy style of making little jokes while eating jelly beans, George W. Bush's carefully cultivated image of a regular guy you could meet in a bar who loved to cut brush on the ranch in 100-degree heat and his probably faked mispronunciations (it's unlikely that he talked like that at Yale), and now Trump, who gives voice to people with legitimate grievances -- people who have lost not just jobs, but also a sense of personal self-worth -- and who rails against the government that they perceive as having undermined their lives (not without reason). One of the great achievements of the doctrinal system has been to divert anger from the corporate sector to the government that implements the programs that the corporate sector designs, such as the highly protectionist corporate/investor rights agreements that are uniformly mis-described as \"free trade agreements\" in the media and commentary. With all its flaws, the government is, to some extent, under popular influence and control, unlike the corporate sector. It is highly advantageous for the business world to foster hatred for pointy-headed government bureaucrats and to drive out of people's minds the subversive idea that the government might become an instrument of popular will, a government of, by and for the people. Is Trump representing a new movement in American politics, or was the outcome of this election primarily a rejection of Hillary Clinton by voters who hate the Clintons and are fed-up with \"politics as usual?\" It's by no means new. Both political parties have moved to the right during the neoliberal period. Today's New Democrats are pretty much what used to be called \"moderate Republicans.\" The \"political revolution\" that Bernie Sanders called for, rightly, would not have greatly surprised Dwight Eisenhower. The Republicans have moved so far toward a dedication to the wealthy and the corporate sector that they cannot hope to get votes on their actual programs, and have turned to mobilizing sectors of the population that have always been there, but not as an organized coalitional political force: evangelicals, nativists, racists and the victims of the forms of globalization designed to set working people around the world in competition with one another while protecting the privileged and undermining the legal and other measures that provided working people with some protection, and with ways to influence decision-making in the closely linked public and private sectors, notably with effective labor unions. The consequences have been evident in recent Republican primaries. Every candidate that has emerged from the base -- such as [Michele] Bachmann, [Herman] Cain or [Rick] Santorum -- has been so extreme that the Republican establishment had to use its ample resources to beat them down. The difference in 2016 is that the establishment failed, much to its chagrin, as we have seen. Deservedly or not, Clinton represented the policies that were feared and hated, while Trump was seen as the symbol of \"change\" -- change of what kind requires a careful look at his actual proposals, something largely missing in what reached the public. The campaign itself was remarkable in its avoidance of issues, and media commentary generally complied, keeping to the concept that true \"objectivity\" means reporting accurately what is \"within the beltway,\" but not venturing beyond. Trump said following the outcome of the election that he \"will represent all Americans.\" How is he going to do that when the nation is so divided and he has already expressed deep hatred for many groups in the United States, including women and minorities? Do you see any resemblance between Brexit and Donald Trump's victory? There are definite similarities to Brexit, and also to the rise of the ultranationalist far-right parties in Europe -- whose leaders were quick to congratulate Trump on his victory , perceiving him as one of their own: [Nigel] Farage, [Marine] Le Pen, [Viktor] Orban and others like them. And these developments are quite frightening. A look at the polls in Austria and Germany -- Austria and Germany -- cannot fail to evoke unpleasant memories for those familiar with the 1930s, even more so for those who watched directly, as I did as a child. I can still recall listening to Hitler's speeches, not understanding the words, though the tone and audience reaction were chilling enough. The first article that I remember writing was in February 1939, after the fall of Barcelona, on the seemingly inexorable spread of the fascist plague. And by strange coincidence, it was from Barcelona that my wife and I watched the results of the 2016 US presidential election unfold. As to how Trump will handle what he has brought forth -- not created, but brought forth -- we cannot say. Perhaps his most striking characteristic is unpredictability. A lot will depend on the reactions of those appalled by his performance and the visions he has projected, such as they are. Trump has no identifiable political ideology guiding his stance on economic, social and political issues, yet there are clear authoritarian tendencies in his behavior. Therefore, do you find any validity behind the claims that Trump may represent the emergence of \"fascism with a friendly face?\" in the United States? For many years, I have been writing and speaking about the danger of the rise of an honest and charismatic ideologue in the United States, someone who could exploit the fear and anger that has long been boiling in much of the society, and who could direct it away from the actual agents of malaise to vulnerable targets. That could indeed lead to what sociologist Bertram Gross called \"friendly fascism\" in a perceptive study 35 years ago. But that requires an honest ideologue, a Hitler type, not someone whose only detectable ideology is Me. The dangers, however, have been real for many years, perhaps even more so in the light of the forces that Trump has unleashed. With the Republicans in the White House, but also controlling both houses and the future shape of the Supreme Court, what will the US look like for at least the next four years? A good deal depends on his appointments and circle of advisers. Early indications are unattractive, to put it mildly. The Supreme Court will be in the hands of reactionaries for many years, with predictable consequences. If Trump follows through on his Paul Ryan-style fiscal programs, there will be huge benefits for the very rich -- estimated by the Tax Policy Center as a tax cut of over 14 percent for the top 0.1 percent and a substantial cut more generally at the upper end of the income scale, but with virtually no tax relief for others, who will also face major new burdens. The respected economics correspondent of the Financial Times, Martin Wolf, writes that, \"The tax proposals would shower huge benefits on already rich Americans such as Mr Trump,\" while leaving others in the lurch, including, of course, his constituency. The immediate reaction of the business world reveals that Big Pharma, Wall Street, the military industry, energy industries and other such wonderful institutions expect a very bright future. One positive development might be the infrastructure program that Trump has promised while (along with much reporting and commentary) concealing the fact that it is essentially the Obama stimulus program that would have been of great benefit to the economy and to the society generally, but was killed by the Republican Congress on the pretext that it would explode the deficit. While that charge was spurious at the time, given the very low interest rates, it holds in spades for Trump's program, now accompanied by radical tax cuts for the rich and corporate sector and increased Pentagon spending. There is, however, an escape, provided by Dick Cheney when he explained to Bush's Treasury Secretary Paul O'Neill that \"Reagan proved that deficits don't matter\" -- meaning deficits that we Republicans create in order to gain popular support, leaving it to someone else, preferably Democrats, to somehow clean up the mess. The technique might work, for a while at least. There are also many questions about foreign policy consequences, mostly unanswered. There is mutual admiration between Trump and Putin. How likely is it therefore that we may see a new era in US-Russia relations? One hopeful prospect is that there might be reduction of the very dangerous and mounting tensions at the Russian border: note \"the Russian border,\" not the Mexican border. Thereby lies a tale that we cannot go into here. It is also possible that Europe might distance itself from Trump's America, as already suggested by [German] Chancellor [Angela] Merkel and other European leaders -- and from the British voice of American power, after Brexit. That might possibly lead to European efforts to defuse the tensions, and perhaps even efforts to move towards something like Mikhail Gorbachev's vision of an integrated Eurasian security system without military alliances, rejected by the US in favor of NATO expansion, a vision revived recently by Putin, whether seriously or not, we do not know, since the gesture was dismissed. Is US foreign policy under a Trump administration likely to be more or less militaristic than what we have seen under the Obama administration, or even the George W. Bush administration? I don't think one can answer with any confidence. Trump is too unpredictable. There are too many open questions. What we can say is that popular mobilization and activism, properly organized and conducted, can make a large difference. And we should bear in mind that the stakes are very large. Copyright, Truthout. Reprinted with . \n",
      "\n",
      "\n"
     ]
    },
    {
     "data": {
      "text/plain": [
       "[[None, None, None, None, None]]"
      ]
     },
     "execution_count": 51,
     "metadata": {},
     "output_type": "execute_result"
    }
   ],
   "source": [
    "[list(print(doc,'\\n\\n') for doc in clustered_text[clustered_text['cluster_label']==2].sample(5).text)]"
   ]
  },
  {
   "cell_type": "code",
   "execution_count": null,
   "metadata": {
    "collapsed": true
   },
   "outputs": [],
   "source": []
  },
  {
   "cell_type": "markdown",
   "metadata": {
    "collapsed": true
   },
   "source": [
    "## TFIDF"
   ]
  },
  {
   "cell_type": "code",
   "execution_count": 293,
   "metadata": {
    "collapsed": true
   },
   "outputs": [],
   "source": [
    "vectorizer = TfidfVectorizer(strip_accents='unicode',analyzer='word',lowercase=True,vocabulary=feat_names_clean)"
   ]
  },
  {
   "cell_type": "code",
   "execution_count": 294,
   "metadata": {},
   "outputs": [
    {
     "data": {
      "text/plain": [
       "TfidfVectorizer(analyzer='word', binary=False, decode_error='strict',\n",
       "        dtype=<class 'numpy.int64'>, encoding='utf-8', input='content',\n",
       "        lowercase=True, max_df=1.0, max_features=None, min_df=1,\n",
       "        ngram_range=(1, 1), norm='l2', preprocessor=None, smooth_idf=True,\n",
       "        stop_words=None, strip_accents='unicode', sublinear_tf=False,\n",
       "        token_pattern='(?u)\\\\b\\\\w\\\\w+\\\\b', tokenizer=None, use_idf=True,\n",
       "        vocabulary=['aggressions', 'various', 'feminism', 'fred', 'tries', 'twin', 'harmony', 'grievances', 'unspoken', 'crime', 'weaver', 'vicinity', 'discounted', 'assigns', 'bolstered', 'cannon', 'conspiracies', 'apology', 'farmland', 'shape', 'corrosive', 'impacting', 'proteins', 'lightning', 'consultan...', 'patterns', 'stretching', 'minors', 'permanently', 'toxins', 'millennium', 'instincts', 'todays'])"
      ]
     },
     "execution_count": 294,
     "metadata": {},
     "output_type": "execute_result"
    }
   ],
   "source": [
    "vectorizer.fit(text)"
   ]
  },
  {
   "cell_type": "code",
   "execution_count": 295,
   "metadata": {},
   "outputs": [
    {
     "data": {
      "text/plain": [
       "14581"
      ]
     },
     "execution_count": 295,
     "metadata": {},
     "output_type": "execute_result"
    }
   ],
   "source": [
    "len(vectorizer.get_feature_names())"
   ]
  },
  {
   "cell_type": "code",
   "execution_count": 296,
   "metadata": {},
   "outputs": [
    {
     "data": {
      "text/plain": [
       "TruncatedSVD(algorithm='randomized', n_components=200, n_iter=5,\n",
       "       random_state=40, tol=0.0)"
      ]
     },
     "execution_count": 296,
     "metadata": {},
     "output_type": "execute_result"
    }
   ],
   "source": [
    "wd_frequency = vectorizer.transform(text)\n",
    "tsvd = TruncatedSVD(n_components=200,random_state=40)\n",
    "tsvd.fit(wd_frequency)"
   ]
  },
  {
   "cell_type": "code",
   "execution_count": 297,
   "metadata": {},
   "outputs": [
    {
     "data": {
      "image/png": "[encoded data removed]",
      "text/plain": [
       "<matplotlib.figure.Figure at 0x7f73911c9860>"
      ]
     },
     "metadata": {},
     "output_type": "display_data"
    }
   ],
   "source": [
    "cumul=0\n",
    "n_components=[]\n",
    "cum_vals = []\n",
    "for ind,singv in enumerate(tsvd.explained_variance_ratio_):\n",
    "    cumul += singv\n",
    "    n_components.append(ind+1)\n",
    "    cum_vals.append(cumul)\n",
    "    \n",
    "plt.plot(n_components,cum_vals,'g-');"
   ]
  },
  {
   "cell_type": "code",
   "execution_count": 298,
   "metadata": {
    "collapsed": true
   },
   "outputs": [],
   "source": [
    "transformed_wd_frequency = pd.DataFrame(tsvd.transform(wd_frequency))"
   ]
  },
  {
   "cell_type": "code",
   "execution_count": 300,
   "metadata": {},
   "outputs": [
    {
     "data": {
      "text/plain": [
       "Counter({0: 184, 1: 503, 2: 2043, 3: 5970, 4: 120, 5: 545, 6: 500})"
      ]
     },
     "execution_count": 300,
     "metadata": {},
     "output_type": "execute_result"
    }
   ],
   "source": [
    "kmeanscl = KMeans(n_clusters=7,n_jobs=-1,random_state=41)\n",
    "\n",
    "kmeanscl.fit(transformed_wd_frequency)\n",
    "\n",
    "centroids = kmeanscl.cluster_centers_\n",
    "\n",
    "Counter(kmeanscl.labels_)"
   ]
  },
  {
   "cell_type": "code",
   "execution_count": 301,
   "metadata": {
    "collapsed": true
   },
   "outputs": [],
   "source": [
    "clustered_text = pd.merge(pd.DataFrame(fakenews_df_filtered),\n",
    "                          pd.DataFrame(kmeanscl.labels_,\n",
    "                                       index=fakenews_df_filtered.index,\n",
    "                                       columns=['cluster_label']),\n",
    "                          how='left',left_index=True,right_index=True)"
   ]
  },
  {
   "cell_type": "code",
   "execution_count": 302,
   "metadata": {
    "scrolled": true
   },
   "outputs": [
    {
     "name": "stdout",
     "output_type": "stream",
     "text": [
      "Cluster # 0 [3, 0, 4, 7] #Articles = 184\n",
      "Topic rel. importance: [ 0.411  0.164  0.075  0.024]\n",
      "\n",
      "Topic # 3 ['pipeline', 'dakota', 'water', 'rock', 'standing', 'protesters', 'protectors', 'sioux', 'north', 'access', 'native', 'land', 'camp', 'enforcement', 'construction', 'arrested', 'dapl', 'county', 'tribe', 'sheriff']\n",
      "Topic # 0 ['foundation', 'nuclear', 'secretary', 'podesta', 'china', 'economic', 'wikileaks', 'justice', 'israel', 'nation', 'isis', 'history', 'director', 'rights', 'children', 'social', 'john', 'officials', 'twitter', 'saudi']\n",
      "Topic # 4 ['gold', 'silver', 'market', 'china', 'dollar', 'bank', 'weiner', 'abedin', 'pipeline', 'price', 'markets', 'financial', 'debt', 'huma', 'currency', 'economy', 'inflation', 'dakota', 'banks', 'private']\n",
      "Topic # 7 ['podesta', 'wikileaks', 'saudi', 'assange', 'arabia', 'foundation', 'john', 'isis', 'kadzik', 'qatar', 'israel', 'julian', 'gold', 'mosul', 'band', 'yemen', 'pilger', 'jewish', 'tony', 'pipeline']\n",
      "\n",
      "*******Excerpt#1: *********\n",
      " etween riot police and peaceful protesters, a herd of buffalo appeared near the Standing Rock protest camp.\n",
      "Yesterday, tensions between law enforcement workers and peaceful protestors with the Standing Rock Sioux tribe escalated. A series of standoffs resulted in “protectors” being maced, shot with rubber bullets, tasered, and even attacked with sound and concussion cannons. Ultimately, 117 people were arrested in the plight to stop the four-state Dakota Access Pipeline (DAPL) from being constructed.\n",
      "After months of similar struggle to protect sacred burial grounds and the Missouri river, opposers of the DAPL were blessed today when a herd of buffalo appeared from nowhere. While mass arrests, macing, and beatings from batons took place, a stampede of bison appeared near the Standing Rock protest camp. Reportedly, a cry of joy erupted from the crowd, as protectors have been praying for he\n",
      "\n",
      "*******Excerpt#2: *********\n",
      " stand by his commitment to curb climate change by stopping the Dakota pipeline.\n",
      "In a statement issued on his official U.S. Senate website , Sanders — who garnered over 11 million votes in the Democratic presidential primary — asked Obama to halt construction of the pipeline until federal officials properly conduct a cultural and environmental review.\n",
      "“It is deeply distressing to me that the federal government is putting the profits of the oil industry ahead of the treaty and sovereign rights of Native American communities,” Sanders wrote. “Mr. President, you took a bold and principled stand against the Keystone pipeline – I ask you to take a similar stand against the Dakota Access Pipeline.”\n",
      "“To my mind, the [U.S. Army Corps of Engineers] should have never approved this project on an expedited process in the first place,” he continued.\n",
      "The Vermont senator also called on the president to \n",
      "\n",
      "*******Excerpt#3: *********\n",
      " construction of a section of the Dakota Access Pipeline, two other pipelines are moving forward. \n",
      "In May, the Obama administration granted the permits for both the Trans-Pecos and Comanche Trail pipelines, and while construction has not yet begun on the pipelines, implementation plans for the building of the pipelines is well underway. \n",
      "Earlier this week, DeSmogBlog investigative reporter Steve Horn highlighted the approval and pending construction of both pipelines, as well as their significant impact on local water supplies and indigenous territory. As Horn wrote, the Trans-Pecos pipeline will carry natural gas extracted from the Permian Basin in West Texas, and transport it across international borders to Mexico. \n",
      "According to the Texas Tribune, the 42-inch-wide Trans-Pecos Pipeline will carry 1.6 billion cubic feet of gas every day under the Rio Grande River. Should a leak or spill o\n",
      "\n",
      "\n",
      "\n",
      "___________________________________________________________________________\n",
      "Cluster # 1 [0, 6, 9, 11] #Articles = 503\n",
      "Topic rel. importance: [ 0.143  0.107  0.087  0.022]\n",
      "\n",
      "Topic # 0 ['foundation', 'nuclear', 'secretary', 'podesta', 'china', 'economic', 'wikileaks', 'justice', 'israel', 'nation', 'isis', 'history', 'director', 'rights', 'children', 'social', 'john', 'officials', 'twitter', 'saudi']\n",
      "Topic # 6 ['mosul', 'gold', 'isis', 'iraqi', 'voter', 'votes', 'polls', 'fraud', 'poll', 'silver', 'electoral', 'machines', 'civilians', 'florida', 'polling', 'aleppo', 'daesh', 'ballots', 'county', 'republicans']\n",
      "Topic # 9 ['israel', 'voter', 'health', 'votes', 'cancer', 'poll', 'fraud', 'infowars', 'israeli', 'brain', 'polls', 'machines', 'podesta', 'water', 'florida', 'palestinian', 'study', 'jerusalem', 'ballots', 'electoral']\n",
      "Topic # 11 ['saudi', 'arabia', 'yemen', 'aleppo', 'gold', 'qaeda', 'rights', 'yemeni', 'children', 'saudis', 'bundy', 'attacks', 'rebels', 'crimes', 'silver', 'houthi', 'humanitarian', 'nusra', 'kingdom', 'weiner']\n",
      "\n",
      "*******Excerpt#1: *********\n",
      " Clinton’s email case. \n",
      "The news came while Clinton was without WiFi on a flight to an Iowa campaign stop, so while reporters hurled questions at her upon landing, all Clinton could muster was the old smile-and-wave. \n",
      "Later, after collecting her thoughts, Clinton faced national reporters eager to hear her reaction and declared that the FBI needs to explain their behavior against her. \n",
      "“We are 11 days out from perhaps the most important national elections of our lifetimes,” Clinton said . “Voting is already underway in our country. So the American people deserve to get the full and complete facts immediately.” \n",
      "Like so many others who’ve jumped to defend her after FBI Director James Comey announced there would be an investigation into newly uncovered emails, Clinton claimed that the FBI should have kept their mouths shut until after the election. \n",
      "There’s an election going on, after all. \n",
      "\n",
      "\n",
      "*******Excerpt#2: *********\n",
      " outgoing president and the incoming president of the United States will work effectively together to ensure a seamless transition. © AP Photo/ Julio Cortez 2016 US Presidential Election Costs May Exceed Record $6.6Bln WASHINGTON (Sputnik) — Despite rhetoric used in the current US presidential election, Americans should be confident in the process and that there will be a peaceful transition of power, White House spokesperson Josh Earnest said in a press briefing on Wednesday. \"The American people should draw some confidence from the idea that we can engage in a vigorous debate in this country, and then when the votes are tallied… the outgoing president and the incoming president will work effectively together to ensure a seamless transition,\" Earnest stated. \n",
      "The 2016 campaign between US presidential candidates Hillary Clinton and Donald Trump has been marked by hostile rhetoric and pers\n",
      "\n",
      "*******Excerpt#3: *********\n",
      " lr \n",
      "On Monday, Paul LePage, Maine’s infamous racist Governor, issued a statement which basically threatened any out-of-state student attending college in his state with an investigation should they decide to vote. \n",
      "LePage’s statement came on the eve of Election Day, and many believe it was designed to scare Democratic leaning college students away from the polls. \n",
      "The governor complained about Democrats encouraging out-of-state students to commit voter fraud by voting in both their home state and the state where they are attending college. He also said that “there is no way to determine” if a person has cast his or her ballot in two states. \n",
      "The Washington Post : \n",
      "“Democrats for decades have encouraged college students from out of state to vote in Maine, even though there is no way to determine whether these college students also voted in their home states,” LePage said in a statement. \n",
      "\n",
      "\n",
      "\n",
      "\n",
      "___________________________________________________________________________\n",
      "Cluster # 2 [0, 1, 10, 28] #Articles = 2043\n",
      "Topic rel. importance: [ 0.197  0.039  0.01   0.007]\n",
      "\n",
      "Topic # 0 ['foundation', 'nuclear', 'secretary', 'podesta', 'china', 'economic', 'wikileaks', 'justice', 'israel', 'nation', 'isis', 'history', 'director', 'rights', 'children', 'social', 'john', 'officials', 'twitter', 'saudi']\n",
      "Topic # 1 ['mosul', 'isis', 'aleppo', 'saudi', 'nato', 'iraq', 'turkey', 'iraqi', 'civilians', 'nuclear', 'western', 'assad', 'iran', 'israel', 'east', 'terrorists', 'army', 'arabia', 'weapons', 'troops']\n",
      "Topic # 10 ['saudi', 'arabia', 'obamacare', 'isis', 'health', 'economic', 'congress', 'weiner', 'yemen', 'mosul', 'iran', 'iraq', 'rights', 'abedin', 'republicans', 'foundation', 'insurance', 'trade', 'turkey', 'justice']\n",
      "Topic # 28 ['sanders', 'violence', 'students', 'creamer', 'veterans', 'nuclear', 'star', 'abedin', 'bernie', 'school', 'veritas', 'cleveland', 'huma', 'mosul', 'project', 'species', 'university', 'turtles', 'data', 'weapons']\n",
      "\n",
      "*******Excerpt#1: *********\n",
      " Trump’s victory is barely of interest to me, and so it may be that the world is not waiting in quiet desperation for an account. I have no information on this matter from Ulan Bator or Sulawesi. Insofar as my reaction was that of half of the country, it may be of note. \n",
      "My reaction was, “Yes! Yes! Yessss!” \n",
      "This of course is because like all of Trump’s supporters I am sick of corruption, oligarchs, New York, candidate’s who sell state favors surrounded by serial rapists and goofy-looking pedophiles, and the goddamned bought-and-paid-for media. \n",
      "And then I wondered how much I should be delighted. I am not a particularly enthusiastic Trump fan. The man seems radically incoherent, almost nutty. What now? Of the things Trump has promised, which, if any, make sense? Which are unthought-out huff and puff? From what will he back away? Will he transmute himself by degrees into Hillary? \n",
      "For exam\n",
      "\n",
      "*******Excerpt#2: *********\n",
      " Email => \n",
      "Even before Donald Trump’s election victory it was becoming clear that we are living in an age of disintegration. Nation states are returning to relationships based on rivalry and friction when the trend was meant to be in the opposite direction. The internal unity of country after country is under stress or has already broken down. Governments and universities used to set up institutions to study greater integration and cooperation, while in fact they might have been better looking at how things fall apart. \n",
      "The phenomenon is most obvious in the wider Middle East where there are at least seven wars and three insurgencies raging in the swathe of countries between Pakistan and Nigeria. But in Europe and the US, foreign and domestic antagonisms are also becoming deeper and more venomous. In this more rancorous political landscape, the election of Donald Trump as US President feel\n",
      "\n",
      "*******Excerpt#3: *********\n",
      " Possibly Be Correct Michael On Television Half Of The Population Of The World Is Dirt Poor – And The Global Elite Want To Keep It That Way   22nd, 2016 \n",
      "Could you survive on just $2.50 a day? According to Compassion International , approximately half of the population of the entire planet currently lives on $2.50 a day or less. Meanwhile, those hoarding wealth at the very top of the global pyramid are rapidly becoming a lot wealthier. Don’t get me wrong – I am a very big believer in working hard and contributing something of value to society, and those that work the hardest and contribute the most should be able to reap the rewards. In this article I am in no way, shape or form criticizing true capitalism, because if true capitalism were actually being practiced all over the planet we would have far, far less poverty today. Instead, our planet is dominated by a heavily socialized debt-ba\n",
      "\n",
      "\n",
      "\n",
      "___________________________________________________________________________\n",
      "Cluster # 3 [0, 5, 7, 22] #Articles = 5970\n",
      "Topic rel. importance: [ 0.114  0.024  0.009  0.006]\n",
      "\n"
     ]
    },
    {
     "name": "stdout",
     "output_type": "stream",
     "text": [
      "Topic # 0 ['foundation', 'nuclear', 'secretary', 'podesta', 'china', 'economic', 'wikileaks', 'justice', 'israel', 'nation', 'isis', 'history', 'director', 'rights', 'children', 'social', 'john', 'officials', 'twitter', 'saudi']\n",
      "Topic # 5 ['mosul', 'health', 'cancer', 'body', 'food', 'children', 'brain', 'iraqi', 'isis', 'study', 'weiner', 'medical', 'disease', 'aleppo', 'research', 'child', 'civilians', 'abedin', 'water', 'foods']\n",
      "Topic # 7 ['podesta', 'wikileaks', 'saudi', 'assange', 'arabia', 'foundation', 'john', 'isis', 'kadzik', 'qatar', 'israel', 'julian', 'gold', 'mosul', 'band', 'yemen', 'pilger', 'jewish', 'tony', 'pipeline']\n",
      "Topic # 22 ['foundation', 'band', 'teneo', 'iran', 'creamer', 'kelly', 'soros', 'memo', 'veritas', 'veterans', 'lynch', 'project', 'donors', 'paid', 'chelsea', 'nuclear', 'mccabe', 'secretary', 'company', 'turkey']\n",
      "\n",
      "*******Excerpt#1: *********\n",
      " \n",
      "If your firearms require repair after a social collapse, it will be too late to start thinking about how to work on firearms and keep them in good working order. Now is the time to start learning how to repair and maintain your firearms so that your guns are always ready to serve your needs. \n",
      "You Need to Be a Gunsmith and a Blacksmith \n",
      "These days, if your handguns, rifles, or shotguns need repair, you can just take them to a gunsmith, or return them to the manufacturer for factory warranty work. \n",
      "In a time of crisis there may not be any gunsmiths or even any warranty service centers open to repair your weapons. With this in mind, you must know how to make and replace any parts that break or wear out. \n",
      "Two good trades to learn and be proficient in are gunsmithing and blacksmithing. A good gunsmith can repair and modify most modern firearms with a good supply of spare parts. If you don’t \n",
      "\n",
      "*******Excerpt#2: *********\n",
      " Deirdre Fulton / Common Dreams Facebook had more than 1 billion monthly active users in the second quarter of 2016. ( Flickr / CC 2.0 ) \n",
      "As Facebook comes under fire for its alleged censorship and tracking of activists and protesters, a coalition of more than 70 groups and individuals has demanded the social media behemoth “clarify its policy on removing video and other content, especially human rights documentation, at the request of government actors.” \n",
      "A letter —whose signatories include the American Civil Liberties Union (ACLU), 350.org, Color of Change, and the Indigenous Environmental Network—sent Monday cites recent incidents including: the deactivation of Korryn Gaines’ account, the removal of iconic photographs, reports of suppression of Indigenous resistance , continued reports of Black activists’ content being removed, and the disabling of Palestinian journalists’ accounts. \n",
      "“\n",
      "\n",
      "*******Excerpt#3: *********\n",
      " Posted on October 28, 2016 by Robert Rich in Politics Share This \n",
      "For many Americans, there’s little doubt that Democrats were behind shutting down Julian Assange in a desperate attempt to silence what he knows, but it’s not working. In fact, just a short while after Hillary Clinton’s henchmen cut him off from the rest of the world, it seems that Assange is about to get himself some sweet revenge – and hopefully, the presidential hopeful likes the color orange. Wikileaks founder Julian Assange (left) and Hillary Clinton (right) \n",
      "Democrats are using every dirty trick in the book, despite their recent motto being “when they go low, we’ll go high.” In fact, it certainly seems that the only people going low are Hillary Clinton and those fiercely trying to force the American people to let her into the Oval Office. \n",
      "Proving just that, it seems that Barack Obama put on the pressure , on behalf \n",
      "\n",
      "\n",
      "\n",
      "___________________________________________________________________________\n",
      "Cluster # 4 [4, 6, 0, 8] #Articles = 120\n",
      "Topic rel. importance: [ 0.376  0.154  0.142  0.119]\n",
      "\n",
      "Topic # 4 ['gold', 'silver', 'market', 'china', 'dollar', 'bank', 'weiner', 'abedin', 'pipeline', 'price', 'markets', 'financial', 'debt', 'huma', 'currency', 'economy', 'inflation', 'dakota', 'banks', 'private']\n",
      "Topic # 6 ['mosul', 'gold', 'isis', 'iraqi', 'voter', 'votes', 'polls', 'fraud', 'poll', 'silver', 'electoral', 'machines', 'civilians', 'florida', 'polling', 'aleppo', 'daesh', 'ballots', 'county', 'republicans']\n",
      "Topic # 0 ['foundation', 'nuclear', 'secretary', 'podesta', 'china', 'economic', 'wikileaks', 'justice', 'israel', 'nation', 'isis', 'history', 'director', 'rights', 'children', 'social', 'john', 'officials', 'twitter', 'saudi']\n",
      "Topic # 8 ['israel', 'gold', 'jewish', 'israeli', 'palestinian', 'jerusalem', 'mosul', 'jews', 'weiner', 'palestinians', 'unesco', 'resolution', 'iraqi', 'silver', 'isis', 'muslim', 'abedin', 'netanyahu', 'huma', 'palestine']\n",
      "\n",
      "*******Excerpt#1: *********\n",
      " legendary for his predictions on QE, historic moves in currencies, and major global events, spoke with King World News about the the coming ‘Super Depression,’ social unrest, wars, cyberwar, $10,000 gold, and $1,000 silver. \n",
      "The Beginning Of The End Egon von Greyerz: “ Money printing and debt is just the most beautiful scheme invented by governments to make ends meet and give the people whatever they want. In this perfect system, it makes not the slightest difference if the budget doesn’t balance. Conventional methods of increasing taxes or reducing government expenses is old hat and totally unnecessary. With modern methods, such trivial problems are solved by the printing press… \n",
      "Continue reading the Egon von Greyerz interview below… \n",
      "In a King World News interview I spoke with the man who predicted the Swiss National Bank would experience staggering losses and that the Fed would also e\n",
      "\n",
      "*******Excerpt#2: *********\n",
      " Spectacular Levels – GATA Chairman \n",
      "For now the big accumulators of physical gold (China, Russia, India) are content with the current rigged market price of gold as long as the west can continue to make deliveries into these countries. But at some point the west’s “cupboard” will be bare and big buyers will see what the Comex really has in its vaults. It’s at that point when the precious metals market will become interesting… From PM Fund Manager Dave Kranzler : \n",
      "“Some sort of Black Swan event will come out of nowhere and cause an explosive move in gold and silver” – Bill Murphy on Shadow of Truth \n",
      "In the absence of intervention, gold and silver would be trading at a level that is a few multiples higher from they “trade” now. At some point, some entity will want to take possession of a big “chunk” of gold or silver and will stand for delivery of the physical with the intent to remove tha\n",
      "\n",
      "*******Excerpt#3: *********\n",
      " the most spirited economic debates at the moment involves which direction the dollar will move in the coming months. While Goldman Sachs is predicting the dollar and euro will reach a value equivalency by Q4 of 2017, other analysts see the greenback trending downward next year. \n",
      "The dollar has risen 4.4% against the euro and 2% against a basket of world currencies since Trump’s win on November 8, according to Fortune. Big moves within securities and bonds markets since Trump’s victory are creating a general sense of uncertainty, making predicting anything a difficult task. \n",
      "But for market veterans like Jim Paulsen of Wells Capital Management and Peter Schiff of Euro Pacific Capital, the dollar’s demise is clear given inflationary anticipations mixed with short and long-term interest rate increases. \n",
      "Paulsen recently described the weakening dollar as “the big wild card in 2017,” according\n",
      "\n",
      "\n",
      "\n",
      "___________________________________________________________________________\n",
      "Cluster # 5 [0, 2, 4, 3] #Articles = 545\n",
      "Topic rel. importance: [ 0.172  0.165  0.061  0.027]\n",
      "\n",
      "Topic # 0 ['foundation', 'nuclear', 'secretary', 'podesta', 'china', 'economic', 'wikileaks', 'justice', 'israel', 'nation', 'isis', 'history', 'director', 'rights', 'children', 'social', 'john', 'officials', 'twitter', 'saudi']\n",
      "Topic # 2 ['weiner', 'abedin', 'huma', 'podesta', 'mosul', 'server', 'isis', 'saudi', 'aleppo', 'foundation', 'director', 'anthony', 'wikileaks', 'classified', 'secretary', 'letter', 'iraqi', 'arabia', 'turkey', 'iraq']\n",
      "Topic # 4 ['gold', 'silver', 'market', 'china', 'dollar', 'bank', 'weiner', 'abedin', 'pipeline', 'price', 'markets', 'financial', 'debt', 'huma', 'currency', 'economy', 'inflation', 'dakota', 'banks', 'private']\n",
      "Topic # 3 ['pipeline', 'dakota', 'water', 'rock', 'standing', 'protesters', 'protectors', 'sioux', 'north', 'access', 'native', 'land', 'camp', 'enforcement', 'construction', 'arrested', 'dapl', 'county', 'tribe', 'sheriff']\n",
      "\n",
      "*******Excerpt#1: *********\n",
      " polls indicate that 63% of Americans still don’t give a damn about Hillary Clinton’s emails. \n",
      "The House Republicans’ final gambit is the worst example of grasping at straws, and only days later yet the American people are signaling that yet another attempt to revive the Clinton email non-scandal has failed, miserably. \n",
      "Recent reports say 21 million early votes have already been cast in this year’s election, which represents roughly 1/6th of the total cast in the 2012 general election and none of those votes will be impacted by the FBI Director’s memo. \n",
      "Today, The Guardian reports that voters’ minds are already mostly made up about Clinton’s emails, and recent disclosures are having more impact among Republicans and other groups already not pre-disposed to vote for the Democratic nominee. \n",
      "“About a third of likely voters say they are less likely to support Clinton given FBI director James\n",
      "\n",
      "*******Excerpt#2: *********\n",
      " it looked like Hillary Clinton was poised to win the 2016 election , the FBI has thrown a gamechanger into the mix. On Friday, FBI Director James Comey announced that his agency has discovered new emails related to Hillary Clinton’s mishandling of classified information that they had not previously seen. According to the Associated Press , the newly discovered emails “did not come from her private server”, but instead were found when the FBI started going through electronic devices that belonged to top Clinton aide Huma Abedin and her husband Anthony Weiner. The FBI has been looking into messages of a sexual nature that Weiner had exchanged with a 15-year-old girl in North Carolina, and that is why they originally seized those electronic devices. According to the Washington Post , the “emails were found on a computer used jointly by both Weiner and his wife, top Clinton aide Huma Abedin,\n",
      "\n",
      "*******Excerpt#3: *********\n",
      " corruption and lies have been revealed by the Podesta e-mails published by WikiLeaks. The e-mails also document that — his protestations to the contrary notwithstanding — President Obama lied to the American people when he claimed that he had been unaware of Hillary Clinton’s use of a private, unsecured e-mail server which she used to conduct official State business, including both sending and receiving classified information. \n",
      "In a pre-recorded interview aired on CBS on March 8, 2015, the president said he had learned of Clinton’s server “through news reports” and that he learned of it “the same time everybody else” did. Of course, that was not true, since he had exchanged e-mails with Clinton while she was secretary of state and the e-mail address would clearly have been her private address instead of the state.gov address she should have been using. \n",
      "The day after the interview aired \n",
      "\n",
      "\n",
      "\n",
      "___________________________________________________________________________\n",
      "Cluster # 6 [1, 0, 2, 6] #Articles = 500\n",
      "Topic rel. importance: [ 0.196  0.163  0.127  0.079]\n",
      "\n",
      "Topic # 1 ['mosul', 'isis', 'aleppo', 'saudi', 'nato', 'iraq', 'turkey', 'iraqi', 'civilians', 'nuclear', 'western', 'assad', 'iran', 'israel', 'east', 'terrorists', 'army', 'arabia', 'weapons', 'troops']\n",
      "Topic # 0 ['foundation', 'nuclear', 'secretary', 'podesta', 'china', 'economic', 'wikileaks', 'justice', 'israel', 'nation', 'isis', 'history', 'director', 'rights', 'children', 'social', 'john', 'officials', 'twitter', 'saudi']\n",
      "Topic # 2 ['weiner', 'abedin', 'huma', 'podesta', 'mosul', 'server', 'isis', 'saudi', 'aleppo', 'foundation', 'director', 'anthony', 'wikileaks', 'classified', 'secretary', 'letter', 'iraqi', 'arabia', 'turkey', 'iraq']\n",
      "Topic # 6 ['mosul', 'gold', 'isis', 'iraqi', 'voter', 'votes', 'polls', 'fraud', 'poll', 'silver', 'electoral', 'machines', 'civilians', 'florida', 'polling', 'aleppo', 'daesh', 'ballots', 'county', 'republicans']\n",
      "\n",
      "*******Excerpt#1: *********\n",
      " Shim worked for Iranian broadcaster Press TV as a foreign correspondent covering wars, legitimate protests and fake uprisings in multiple countries. \n",
      "Via AnonHQ \n",
      "\n",
      "She reported live from Syria, Iraq, Turkey, and Lebanon during the conflict since 2011, including in the critical region of Daraa during the beginning of protests, which are misrepresented by American media as the reasons for the fake civil war. Serena Shim was killed two years ago on October 19, 2014, in Turkey while reporting on the intense battle for the Syrian border city of Kobani which was the focus of international media attention. She was 29 when she died.\n",
      "Scroll Down For Video Below! The city of Kobani, which has one of Turkey’s major border crossings with Syria, because it was under threat of being completely captured by the Islamic State. The US was forced to respond because Islamic State grew out of control and thre\n",
      "\n",
      "*******Excerpt#2: *********\n",
      " forty got injured as a result of a shelling of the Aleppo's Western part by fighters. The Al-Mayadeen satellite TV channel reported, that extremists applied projectiles rigged with chemical agents. The region of Al-Hamdaniya was struck. A military academy which is under control of the government forces is situated there. Both civilians and military men got poisoned. Later, Zahir al-Hajw, head of the Aleppo province forensic medicine, noted that symptoms of those injured evidence the use of chlorine. '41 people were delivered to hospitals after the attack. Among the symptoms are watery eyes, frothing at the mouth, vomit, nausea. There are mild and moderate severity categories. For the moment no one has been discharged from the hospital,' he said. The UN Envoy to Syria Staffan de Mistura had already expressed his indignation at the acts of the so-called opposition. According to him, \"credi\n",
      "\n",
      "*******Excerpt#3: *********\n",
      " Ministry Published time: 26 Oct, 2016 22:53 Edited time: 26 Oct, 2016 23:12 Get short URL Aerial view of the Foreign Ministry building in Moscow. © Maksim Blinov / Sputnik The NGOs that demanded Russia’s removal from UN Human Rights Council lack impartiality as they ignore terrorist activities as well as violations by the US-led coalition in Syria, the Russian Foreign Ministry's Commissioner for Human Rights told RT. Trends Russian anti-terror op in Syria , Syria unrest \n",
      "Targeting Russia was “a gross misstep on the part of the human rights defenders,” Konstantin Dolgov said. \n",
      "“If they call themselves [human rights defenders] they have to be objective. Al least, they have to try to be impartial. How can they assess the human rights situation in Syria in this one-sided manner? Just to join the chorus of Western governments and politicians, groundlessly accusing Russia of bombing civilian t\n",
      "\n",
      "\n",
      "\n",
      "___________________________________________________________________________\n"
     ]
    }
   ],
   "source": [
    "# to get the most important topics in the cluster:\n",
    "for cluster_ind in range(len(centroids)):\n",
    "    main_topics_in_cluster = [topic[0] for topic in sorted([(ind,val) for ind,val in enumerate(centroids[cluster_ind])],key=lambda x: x[1],reverse=True)[:4]]\n",
    "    topic_relative_importance = [topic[1] for topic in sorted([(ind,val) for ind,val in enumerate(centroids[cluster_ind])],key=lambda x: x[1],reverse=True)[:4]]\n",
    "    print('Cluster # {} {} #Articles = {}'.format(cluster_ind,main_topics_in_cluster,len(clustered_text[clustered_text['cluster_label']==cluster_ind])))\n",
    "    print(\"Topic rel. importance: {}\\n\".format(np.around(topic_relative_importance,3)))\n",
    "    for topic in main_topics_in_cluster:\n",
    "        words_in_topic = [word_ind[0] for word_ind in sorted([(ind,val) for ind,val in enumerate(tsvd.components_[topic])],key=lambda x: x[1],reverse=True)[:20]]\n",
    "        print(\"Topic # {}\".format(topic),[feat_names_clean[word_ind] for word_ind in words_in_topic])\n",
    "    excerpts = clustered_text[clustered_text['cluster_label']==cluster_ind]\n",
    "    excerpts = excerpts.loc[:,'text']\n",
    "    excerpts = excerpts.sample(3)\n",
    "    for ind,excerpt in enumerate(excerpts):\n",
    "        print(\"\\n*******Excerpt#{}: *********\\n {}\".format(ind+1,excerpt[:min(900,len(excerpt))]))\n",
    "    print('\\n')\n",
    "    print(\"________________________________________________________________________________________\")\n",
    "    print(\"________________________________________________________________________________________\")"
   ]
  },
  {
   "cell_type": "code",
   "execution_count": 299,
   "metadata": {},
   "outputs": [
    {
     "data": {
      "text/plain": [
       "<matplotlib.text.Text at 0x7f7390923c50>"
      ]
     },
     "execution_count": 299,
     "metadata": {},
     "output_type": "execute_result"
    },
    {
     "data": {
      "image/png": "[encoded data removed]",
      "text/plain": [
       "<matplotlib.figure.Figure at 0x7f73911a1a58>"
      ]
     },
     "metadata": {},
     "output_type": "display_data"
    }
   ],
   "source": [
    "n_clusters_list = []\n",
    "inertia_list = []\n",
    "silhouette_score_list = []\n",
    "\n",
    "for n in range(2,11):\n",
    "    kmeanscl = KMeans(n_clusters=n,n_jobs=-1,random_state=40)\n",
    "    kmeanscl.fit(transformed_wd_frequency)\n",
    "    cluster_lab = kmeanscl.predict(transformed_wd_frequency)\n",
    "    s_score = silhouette_score(transformed_wd_frequency,cluster_lab)\n",
    "    n_clusters_list.append(n)\n",
    "    inertia_list.append(kmeanscl.inertia_)\n",
    "    silhouette_score_list.append(s_score)\n",
    "\n",
    "\n",
    "plt.subplot(2,1,1)\n",
    "plt.plot(n_clusters_list,inertia_list,'g-')\n",
    "plt.xlabel('n_clusters')\n",
    "plt.ylabel('inertia')\n",
    "\n",
    "plt.subplot(2,1,2)\n",
    "plt.plot(n_clusters_list,silhouette_score_list,'red')\n",
    "plt.xlabel('n_clusters')\n",
    "plt.ylabel('silhouette score')"
   ]
  },
  {
   "cell_type": "code",
   "execution_count": 147,
   "metadata": {
    "collapsed": true
   },
   "outputs": [],
   "source": [
    "clustered_text = pd.merge(pd.DataFrame(fakenews_df_filtered),\n",
    "                          pd.DataFrame(kmeanscl.labels_,\n",
    "                                       index=fakenews_df_filtered.index,\n",
    "                                       columns=['cluster_label']),\n",
    "                          how='left',left_index=True,right_index=True)"
   ]
  },
  {
   "cell_type": "code",
   "execution_count": 148,
   "metadata": {},
   "outputs": [
    {
     "data": {
      "text/plain": [
       "['Extraterrestrials page: 1 link I was reading an article that talked about Extraterrestrials the other day and of course at the end of the article the tired line about Extraordinary measures....blah, blah, blah came out towards the end of the article. This needs to stop when talking about Extraterrestrials. It may have been an extraordinary claim 60 years ago but it\\'s not today. With the scientific evidence we have today, many people including one of the top Scientist of our time has reached the conclusion that Extraterrestrials exist based on the evidence. Hawking said,\"Aliens almost certainly exist.\" These are conclusions reached based on the evidence not extraordinary claims. The article was on a possible signal that could be of Extraterrestrial origin. This signal matches a prediction made in 2012 and it\\'s just science. This is what was said at the end of the article and it\\'s this type of thinking that needs to stop. With things like water found on other planets, exoplanets in habitable zones, extremophiles in places we thought life couldn\\'t exist, building blocks of life found on comets and more, saying Extraterrestrials exist isn\\'t an extraordinary claim but a possible explanation based on the evidence. Here\\'s what was said. “The one in 10,000 objects with unusual spectra seen by Borra and Trottier are certainly worthy of additional study,” the team said in a statement. “However, extraordinary claims require extraordinary evidence. “It is too early to unequivocally attribute these purported signals to the activities of extraterrestrial civilizations. Internationally agreed-upon protocols for searches for evidence of advanced life beyond Earth (SETI) require candidates to be confirmed by independent groups using their own telescopes, and for all natural explanations to be exhausted before invoking extraterrestrial agents as an explanation. www.independent.co.uk... First, the Scientist who are behind this study never said UNEQUIVOCALLY. This is an old tactic that\\'s used by some people on this board from time to time. They can\\'t debate the evidence presented so they try to make it seem as you made a blanket sstatement. The Scientist say \"PROBABLY\" right there on the updated comments on their published paper. Here\\'s what they said: But they make clear that further work will need to be done to confirm or deny that hypothesis. That will need to be done by watching for the same signals on different equipment so that all other explanations can be discarded. Again, NOBODY SAID UNEQUIVOCALLY. I hate it when people do that. This is why I always ask people to quote me where I said this or that because when people can\\'t debate the evidence they try to debate against things that were never said. They also said this: ALL natural explanations need to be exhausted BEFORE Extraterrestrials are invoked as a possible explanation. WHAT!!! That makes no sense. This standard would make it almost impossible to find an Extraterrestrial signal. In most cases ALL natural explanations will never be exhausted so we will have to talk about these things in terms of probability and what\\'s most likely and least likely at least at first. Look, it\\'s easy to cherry pick after the fact. Like I said, an earlier study about the search for Extraterrestrials PREDICTED that we would see these signals and that would be evidence to support the hypothesis. That\\'s just Science. If you look at the sentence, it says BEFORE you can even invoke Extraterrestrials as a possible explanation. Again, that\\'s absurd. Extraterrestrial existence needs to be looked at as a possible explanation based on the observed evidence not an extraordinary claim. edit on 26-10-2016 by neoholographic because: (no reason given)',\n",
       " 'much on a singular belief issue or pattern, and then it becomes self affirming for you in your research. First, this: But voices actual voices in your head is always mental illness. Sorry, maybe a stress reaction, not to be judgmental, happens to the best and such, just really not what I am trying to convey here. Though I believe you are quite intelligent, I don\\'t think you are qualified, exactly, to make that wholesale, definitive judgement. You even contradict that by referencing Dr. Vinod\\'s \"channeling\" of the Nine in 1952. Channeling, by definition, (from Dictionary.com) means in one sense: the practice of professedly entering a meditative or trancelike state in order to convey messages from a spiritual guide. Surely this process would involve the sensory structure of hearing. I don\\'t wish to debate voice to skull tech with you because I don\\'t sense this is really what your thread is about. But there have been lawsuits waged and won over such technology being used to harass people, who don\\'t test as schizophrenic or any other DSM related diagnosis that would explain auditory hallucinations, indicating mental illness. Now, that\\'s not to say that anyone hearing voices is being technologically harassed. But saying definitively it\\'s always mental illness does a disservice to the search for knowledge, and stopping such technology being used on people. link to lawsuit PSYCHOTRONIC WEAPONS-SPACE PRESERVATION ACT-House Resolution bill 2977-Brain manipulation from a distance-2001-2002 Last year, in October, the Congressman Dennis J. Kucinich introduced in the American Congress a bill, obliging the American president to get engaged in the negotiations aimed at the ban of space based weapons. In this bill the definition of a weapon system includes: any other unacknowledged or as yet undeveloped means inflicting death or injury on, or damaging or destroying, a person (or the biological life, bodily health, mental health, or physical and economic well-being of a person) through the use of land-based, sea-based, or space-based systems using radiation, electromagnetic, psychotronic, sonic, laser, or other energies directed at individual persons or targeted populations or the purpose of information war, mood management, or mind control of such persons or populations\" (12). As in all legislative acts quoted in this article the bill counts with sound, light or electromagnetic stimulation of human brain. Psychotronic weapons remain, at least for a layman uninformed of secret military research, in the sphere of science fiction, since so far none of the published scientific experiments was presented in the way which would allow for its replication. That it is feasible to manipulate human behavior with the use of subliminal, either sound or visual, messages is now generally known. This is why in most of the countries the use of such technologies, without consent of the user, is banned. Devices using light for the stimulation of the brain show another way how the light flashing in certain frequencies could be used for the manipulation of human psychic life. As for the sound, a report on the device transmitting a beam of sound waves, which can hear only persons at whom the beam of sound waves is targeted, appeared last year in the world newspapers. The beam is formed by a combination of sound and ultrasound waves which causes that a person targeted by this beam hears the sound inside of his head. Such a perception could easily convince the human being that it is mentally ill. The acts presented in this article suggest that with the development of technology and knowledge of the functioning of human brain new ways of manipulation of human mind keep emerging. One of them seems to be the electromagnetic energy. Though in the open scientific literature only some 30 experiments were published, supporting this assumption (1),(2), already in 1974, in the USSR, after successful testing with military unit in Novosibirsk, the installation Radioson (Radiosleep) was registered with the Government Committee on the Matters of Inventions and Discoveries of the USSR, described as a method of induction of sleep by means of radio waves (3), (4), (5)… 22. Dear Senator-Attorney Letter included: We seek your office’s assistance in initiating hearings and a fact-finding congressional inquiry into the government agencies and/or private companies that are targeting citizens. Many citizens are desperate to be freed from the disturbing, intrusive and oppressive targeting. Evidence supports the conclusion that weapons exist that could be used against individuals, based on U.S. Patent and Trademark Office filings, public releases by agencies, and other technologies that indicate the level of technological sophistication. The weapons are believed to be based on electromagnetism, microwaves, sonic waves, lasers and other types of directed energy, and were characterized as “psychotronic” in Rep. Dennis Kucinich’s draft of House Resolution 2977, the Space Preservation Act of 2001. Furthermore, it is undeniable that government agencies have tested citizens without permission in the past; for example, the CIA’s human experimentation discussed in Orlikow v. U.S., 682 F.Supp. 77 (D.D.C. 1988), secretly administered lysergic acid diethylamide discussed in United States v. Stanley, 483 U.S. 669 (1987), and military chemical experimentation as discussed in Congressional Committee Report 103-97, 103d Congress, 2d Session, S. Prt. 103-97 (Dec. 8, 1994). Lastly, the sheer numbers of people complaining of being targeted, including people with post-graduate degrees and a lifetime of achievements, and the similarities in symptoms tend to outweigh a dismissive response based on charges of anecdotal evidence or group paranoia. there is a certain risk of sounding too conspiratorial, however, common denominators such as physical symptoms and medical reports, surveillance scenarios, harassment techniques, and more can be readily established. I highly recommend reading in full the details of this lawsuit, containing a great deal of verifiable information. The military has admitted for some time to having, at the least, a non lethal (lol) weapon called active denial. But this rabbit hole goes much, much deeper. Having said all that, as I\\'ve said before in one of your threads, I think it wise to consider that it\\'s not just one thing or another. It\\'s many things. There could be aliens, for instance. And then there could be MILABS, leaving the person with the memory of an alien abduction, rather than their being used for human experimentation, which is supposed to be against our constitution, and most certainly against our human rights. And then people can also suffer from temporal lobe, seizure like hallucinations, but one must also remember that these can most certainly be induced, artificially, as well. In short, I think your rabbit hole is only making it to the gopher level regards,',\n",
       " \"heard of this about 2 months ago. His blood is clumping up and they found crystals that seem engineered in the blood using an electron microscope. then today i read this.. remote influencing.. As we all know all electronic circuits need power, in the case of Remote Influencing Psychotronic Generators provide this power. Tim Rifat has developed the Psychotronic Generator from simple Pavlita generators to the far future Bone Generators(TM) using your own skull and bones as Psychotronic Crystal Generators. These Bone Generators(TM) change the Quantum Wave Function of reality, Remote Influencing. The science of Remote Influencing is based on quantum mechanics only Tim Rifat has developed science to explain Remote Influencing. The process is to decohere the Quantum Wave Function, decollapse it and return it to it's quantum vacuum grand state, modify the Quantum Wave Function to the remote influenced event, collapse it using hyperinfinity so it manifests as your remote influenced event. (see www.supernaturalspirit.com Services for full explanation). In effect we zap the thing to be changed make it vanish and remanifest it as the event we went in laymans language; this takes energy supplied by Psychotronic Amplifiers in your Psychotronic Bone Generators(TM) as well as hyperinfinity the operator that holds the new event in being supplied by your Bone Generators(TM). Only one event can be carried out at a time (explained on www.psychicpowergambling.com) so Tim Rifat has arranged to quantum mechanically change your skeleton into Bone Psychotronic Generators(TM) for one specific event and give you the energy and Psychotronic Fuel with the hyperinfinity to manifest 12 of these singular events after which your Bone Generators which are acting as Psychotronic Batteries run out of energy. ive experienced temporal effects both physical and mental in being attacked by some kind of possibly similar technology. i have no dount im on a similar program as magnus. i get tortured bad. thats all ill say.\",\n",
       " \"page: 1 Hello ATS I'm subject to a fierce experiment, or, how it feels to me : torture. I'm not an expert on biology or how the brain works in detail, so forgive me if this post is a little simplistic. Basically I've nanobots (which supposedly don't exist) in my brain, an,d (I assume) they act on my brain chemicals in such a way as to cause chronic depression...suicidal depression in fact. To cut to the chase, as you say in the USA, they also electrocute my nerves (ALL AT ONCE), causing agonising pain! The 'bots are remote/radio controlled by the English SS (and they ARE very similar to the Nazi SS in their treatment of me, I think). So basically, I hear voices (The SS again), and am suffering from feelings that I want to die. About my quite happy 'previous life' before this happened : I was just a young lad who e naonwanted career in computer programming and studied Math/Maths to a high standard (my tutor said I was doing the work of a professor), and still lived at home bashing away at my computer to try and achieve my ambition. As a lot of you will know though COMPUTING is a conspiracy theory too (ie it's not all it states it is). So I suppose I'm doubly unlucky. Why they can't just use a monkey, instead of driving me to my death I don't know, I really dont. Anyways, oh I forgot...the nanobots block the action of nearly ALL the psycho-active drugs I've tried liked anti\",\n",
       " \"Mexican Supreme Court ruled by 4 to 1 that banning the consumption and cultivation of cannabis for personal use violates the human right to free development of one’s personality. … … Freedom To Smoke a Human Right. It's about damn time! For a long time now, people have been fighting for the basic human right of being able to consume whatever substances they wish, and do with their personal property (the human body) as they see fit. This is especially true of cannabis, which has a long list of medicinal benefits. In spite of its minor adverse effects (which pale in comparison to alcohol and cigarettes) people in the United States, and other parts of the world, are still being locked up for simply using the “miracle plant” to help combat disease and pain. Mexico, however, often demonized as being backwards by their Norther neighbors, has ruled that smoking marijuana should be a basic human right! edit on 26-10-2016 by Encryptor because: (no reason given) new topics\",\n",
       " \"clearly see this is not Teotihuacan but we are very close to it. With places like Puma Punku that have Quick Crete stones that have these shapes in them... And you can clearly see that Ancient Man were telling us in the future that one day would have our green plantations marked by streaks of gold. Obviously being a circuitry board. Our heaven is dependency on technology! This is Teotihuacan People were inspired to build such large and grandiose structures and attribute them to the Sun and the Moon. But why obviously the sun being a life giver is something to honor. But the Moon is a great question. Night is the absence of the Sun and everything depending on the Sun surely would not want to celebrate it's absence. It must be because the Sun was attributed to a great king who sailed across a mighty ocean much like the sun does the sky. And the moon was attributed to a great queen that did the same. And both of them must have proven with great detail. That not only made you believe past all the great technology they brought with them but also believing in them with your heart and soul. That kind of belief transcends time and it also transcends race and species. Those people knew that the moon was not real proof of this is that they symbolize the moon with the crescent moon. If you pay attention at all the moon like god and everything else on the planet snitches what the truth is no matter how good it is at hiding it. And the crescent moon is a snitch that it can cloak and uncloak. Otherwise why would anyone attribute the night with the moon. You would just mark tiny dots in a sky and point to the day and say absent of the sun. It means that while we are very technologically dependent we are being told to believe through what is natural and what mother nature has intended you to see. Why advancement is necessary it's also good to stay rooted and see that everything from top to bottom no matter how primitive still believes in the same Sun and Moon that all life depend on. And that kind of love builds cities,nations, and galactic kingdoms.\",\n",
       " 'planet we are actually on now, that the Mandela Effect is the greatest and most important single event in the history of all mankind on every possible level. That\\'s not in question anymore, the only remaining question left is \"Who done it?\". Will the real one responsible for this, please stand up? Now, because this is the biggest display of sheer Power, there are a lot of government agencies whose only job is to make you think that they have power who are sitting down and yelling \"we did it, we are the ones and we did it with our collider!\" And there\\'s others sitting down and yelling \"we did it, with our d computers!\" These collider and d computers are jokes, they can\\'t do anything, you can barely play pacman on them - they are just impressive looking things to you which make you scared of the people who want to control you. That\\'s all they are. You people need to stop being scared of your bullies. Your bully who took you lunch money every day in the 2nd grade - is not the same person who caused a universal-earth-ending-space-time-continuum-Shift. This is real power. Whoever can do this, isn\\'t the same bully who took your lunch money in the 2nd grade. Your government and Nasa and Cern are all a bunch of bullies, who throw water bottles at your head then when you turn around they point to the person next to them and call them a terrorist. That\\'s all they have done throughout the years. But whoever did the Mandela Effect is entirely different from them, whoever did that has True and Real Light. I\\'ll just go ahead and flatly state it for the whole world to hear - I, Pyron, created the Mandela Effect through metaphysical sciences through writing. No computers no colliders, only my mind and heart. It was my true desire to create a new world where those who control you will lose control. I wrote from age 12 to age 32, obsessively for 20 years in a row without break, I\\'ve been rejected by everyone the whole time, no one out there has been continuously rejected like I have, so I just kept on continuously going into my own space and writing more and more. Not caring about money or controlling people for selfish gain or any of that, I was just going on a self-journey. And in doing that, I cracked the code for the fabric of the Space Time continuum and opened up the Stargate. And I recorded every last thing that I did, and tell the whole world exactly how I did it and how everything occurred in a 50 page book - that I\\'ve put up for free on Youtube. This 50 page book is the liberation and the Revolution for every soul in all of existence, and I offer it for free here www.youtube.com...',\n",
       " 'simulation, math that works so specifically, so well, so many predictions from math and science that are proved right more and more often etc and so on. (not going to get into \"proof\" google it!) So you have to ask yourself WHY would a thing, being, God, whatever want to create such a virtual simulation? We know that we as humans have the right to live and have family\\'s, often with as many kids as sustainable (at the time). This means that however well we create food, we WILL use up all resources on this planet weather we make the best plans or not. But we cant crack viable ways to leave this planet and populate others beyond our own slowly decaying star. So what about this. What if the answer was to create a sped up reality, using all our computing and programming powers to emulate the universe (or observable universe), wait for life to grow on a planet and then give them the same problem we have so that we can reap the answer for ourselves? LEAVING THE SOLAR SYSTEM TO COLONISE OTHER SYSTEMS, INDEFINITELY. Could it be as simple as that? Love to hear your thoughts, been thinking about this for some time now.',\n",
       " 'that NASA is making good on his promise and is moving forward with the plan by establishing a Deep-Space Habitat near the Moon to test out systems for people who would live in orbit or travel long distances in Space; a gateway to deep space NASA plans to address its problem by parking a “deep space” habitat in a location near the Moon, which astronauts could visit and use to become acclimated to life beyond low-Earth orbit. President Obama mentioned deep space habitats earlier this month, when he reiterated his call for NASA to send humans to Mars. “I\\'m excited to announce that we are working with our commercial partners to build new habitats that can sustain and transport astronauts on long-duration missions in deep space,” Obama said. This wasn’t really a new announcement, as NASA has been working on the habitat program for a couple of years. Nevertheless, before the president\\'s mention, this NextSTEP program had received surprisingly little attention given its significance—it might be the most important contract NASA awards for next decade. As Obama said, NASA has embarked upon a \"Journey to Mars.\" While the plan may change to include lunar landings as a stepping stone to Mars, the space agency does intend to try and venture back into deep space for the first time since the Apollo program. Whatever destination it chooses, NASA\\'s ambitions will begin with the deep space habitat, because it is an affordable first step, costing hundreds of millions or a few billion dollars initially, instead of multiple billions needed for a full-blown expedition to the Moon\\'s surface, Mars or elsewhere in deep space. \"This is the right next step,\" Simon said. \"We need to understand how to live in deep space, how to live off of our planet.\" The first habitat launched in the 2020s won’t be exactly the same as the vehicle NASA eventually sends to Mars. Rather, it will serve as a prototype to help the space agency understand the capabilities, technologies, and systems needed for astronauts to survive for long periods in deep space. Some of those systems can be tested on the ground or the existing space station, but others can only be tested further from Earth. This venture is part of the Next step program initiated by NASA: www.nasa.gov... NextSTEP is a public-private partnership model that seeks commercial development of deep space exploration capabilities to support more extensive human space flight missions in the Proving Ground around and beyond cislunar space—the space near Earth that extends just beyond the moon. So far, NASA has partnered with 6 companies in this effort: Bigelow Aerospace, Boeing, Lockheed Martin, Orbital ATK, Sierra Nevada Corporation, and NanoRacks. This is great, ATS! I am very excited at this news, even with all of the morbidity we have in the world today; I\\'m still excited for the future..! This is an ambitious plan..can US aerospace companies pull this off alone, or should this be more of a global effort? What does ATS think?',\n",
       " 'to the views of such a planet that many on this board hold. However, I have always felt there was a massive missing planet as we could never satisfactorily explain perturbations of a planet like Jupiter and the movement of outer objects. The view that there is a missing massive planet has always been on the table and NASA has always supported the idea and never stood in the way of people trying to find proof of it. We know planets, often many, orbit stars in this outer region, why should we be different? Link: Planet X Overview, Source: NASA Caltech researchers have found evidence suggesting there may be a \"Planet X\" deep in the solar system. This hypothetical Neptune-sized planet orbits our sun in a highly elongated orbit far beyond Pluto. The object, which the researchers have nicknamed \"Planet Nine,\" could have a mass about 10 times that of Earth and orbit about 20 times farther from the sun on average than Neptune. It may take between 10,000 and 20,000 Earth years to make one full orbit around the sun. But this is all from January you might say, quite old and possibly already discussed. Fast forward to my news feed for today and what do I find? Narrowing the field for the 9th planet Batygin and Brown\\'s work narrowed down the planet’s possible mass and orbit to areas where previous observations might have missed it. Their calculations suggest that it has a mass between five to 20 times that of Earth—a figure that is key to knowing the approximate size of the object they are looking for. They also suggest that its orbit is likely tilted about 30 degrees compared to the plane of the solar system—the relatively thin, flat zone in which the eight major planets orbit. They also propose that the planet is now likely near its farthest point from the sun, in the sky\\'s northern hemisphere, and that it likely has an elongated orbit averaging between 380 and 980 astronomical units (AU) from the sun. (One AU is the average distance between Earth and the sun.) We are on the virge of finding a very real planet in our outer solar system. They previsouly released this model for what the orbit could look like: And they\\'ve created 100+ more of those which have not yet been published. n an as-yet unpublished set of about 100 new high-resolution computer simulations, Batygin says he and Brown have narrowed down Planet Nine\\'s location to a roughly 600- to 800-square degree patch of sky. The biggest piece of proof has turned out to be the very tilt of our solar system from the perspective of the inner planets. Bailey and her colleagues ran computer simulations that suggest that the tilt of the eight official planets can be explained by the gravitational influence of Planet Nine \"over the 4.5-billion-years-ish lifetime of the solar system,\" Bailey told Space.com. This is fascinating stuff!']"
      ]
     },
     "execution_count": 148,
     "metadata": {},
     "output_type": "execute_result"
    }
   ],
   "source": [
    "list(clustered_text[clustered_text['cluster_label']==2].loc[:,'text'].iloc[i] for i in range(10))"
   ]
  },
  {
   "cell_type": "code",
   "execution_count": 149,
   "metadata": {},
   "outputs": [
    {
     "data": {
      "text/plain": [
       "\"Click Here To Learn More About Alexandra's Personalized Essences Psychic Protection Click Here for More Information on Psychic Protection! Implant Removal Series Click here to listen to the IRP and SA/DNA Process Read The Testimonials Click Here To Read What Others Are Experiencing! Copyright © 2012 by Galactic Connection. All Rights Reserved. \\nExcerpts may be used, provided that full and clear credit is given to Alexandra Meadors and www.galacticconnection.com with appropriate and specific direction to the original content. Unauthorized use and/or duplication of any material on this website without express and written permission from its author and owner is strictly prohibited. Thank you. \\nPrivacy Policy \\nBy subscribing to GalacticConnection.com you acknowledge that your name and e-mail address will be added to our database. As with all other personal information, only working affiliates of GalacticConnection.com have access to this data. We do not give GalacticConnection.com addresses to outside companies, nor will we ever rent or sell your email address. Any e-mail you send to GalacticConnection.com is completely confidential. Therefore, we will not add your name to our e-mail list without your permission. Continue reading... Galactic Connection 2016 | Design & Development by AA at Superluminal Systems Sign Up forOur Newsletter \\nJoin our newsletter to receive exclusive updates, interviews, discounts, and more. Join Us!\""
      ]
     },
     "execution_count": 149,
     "metadata": {},
     "output_type": "execute_result"
    }
   ],
   "source": [
    "df_fakenews.loc[3785].text"
   ]
  },
  {
   "cell_type": "code",
   "execution_count": null,
   "metadata": {
    "collapsed": true
   },
   "outputs": [],
   "source": []
  },
  {
   "cell_type": "markdown",
   "metadata": {},
   "source": [
    "# SPACY"
   ]
  },
  {
   "cell_type": "code",
   "execution_count": 15,
   "metadata": {
    "collapsed": true
   },
   "outputs": [],
   "source": [
    "import spacy"
   ]
  },
  {
   "cell_type": "code",
   "execution_count": 16,
   "metadata": {
    "collapsed": true
   },
   "outputs": [],
   "source": [
    "nlp = spacy.load('en')"
   ]
  },
  {
   "cell_type": "code",
   "execution_count": 305,
   "metadata": {
    "collapsed": true
   },
   "outputs": [],
   "source": [
    "mod_text = pd.read_pickle('/home/farhaan/working_projects/pickles/text_filtered1.pkl') #same pickled file as text above"
   ]
  },
  {
   "cell_type": "code",
   "execution_count": 17,
   "metadata": {
    "collapsed": true
   },
   "outputs": [],
   "source": [
    "from sklearn.base import TransformerMixin\n",
    "from sklearn.pipeline import Pipeline\n",
    "import string"
   ]
  },
  {
   "cell_type": "code",
   "execution_count": 18,
   "metadata": {
    "collapsed": true
   },
   "outputs": [],
   "source": [
    "# A custom stoplist\n",
    "content_specific_stopwords = ['trump', 'clinton', 'hillary', 'election', 'people', 'said', 'president','presidential',\n",
    "                              'obama', 'campaign','donald','american', 'americans','make','dont','right','military',\n",
    "                              'government','russia','state','world','media','like','clintons','emails','time',\n",
    "                              'political','states','going','email','country','syria','year','trumps','want','comey',\n",
    "                              'know','galacticconnection','galactic','news','russian','america','investigation','republican',\n",
    "                              'years','vote','united','think','party','investigations','house','voters','democratic',\n",
    "                              'information','public','policy','support','told','good','national', 'foreign', 'according',\n",
    "                              'washington', 'need', 'percent', 'putin', 'life', 'fact', 'work', 'times', 'change','come', 'left',\n",
    "                              'real','voting','money', 'free', 'believe', 'called', 'report', 'thats', 'today',\n",
    "                              'voting', 'long', 'federal', 'candidate', 'really', 'case', 'department', 'democrats', 'things', 'million',\n",
    "                              'january','february','march','april','may','june','july','august','september','october','november','december',\n",
    "                              'post', 'anti', 'says','point','days','video','used', 'help', 'look','including','great',\n",
    "                              'white', 'power', 'police', 'black', 'women', 'security', 'syrian','administration',\n",
    "                              'article','forces','group','human','order','global','control','evidence','office','city']\n",
    "STOPLIST = set(stopwords.words('english') + [\"n't\", \"'s\", \"'m\", \"ca\",\"’s\",\"'ve\"] + list(ENGLISH_STOP_WORDS)+content_specific_stopwords)\n",
    "# List of symbols we don't care about\n",
    "SYMBOLS = \" \".join(string.punctuation).split(\" \") + ['-', \".\", \"“\", \"”\",'…' ,'’','–']\n",
    "\n",
    "# Every step in a pipeline needs to be a \"transformer\". \n",
    "# Define a custom transformer to clean text using spaCy\n",
    "class CleanTextTransformer(TransformerMixin):\n",
    "    \"\"\"\n",
    "    Convert text to cleaned text\n",
    "    \"\"\"\n",
    "\n",
    "    def transform(self, X, **transform_params):\n",
    "        return [cleanText(text) for text in X]\n",
    "\n",
    "    def fit(self, X, y=None, **fit_params):\n",
    "        return self\n",
    "\n",
    "    def get_params(self, deep=True):\n",
    "        return {}\n",
    "    \n",
    "# A custom function to clean the text before sending it into the vectorizer\n",
    "def cleanText(text):\n",
    "    \n",
    "    text = u\"{}\".format(text)\n",
    "    \n",
    "    # get rid of newlines\n",
    "    text = text.replace(\"\\n\", \"  \").replace(\"\\r\", \"  \")\n",
    "    \n",
    "    # split up words or contract certain words comlicated by some symbols\n",
    "    dashreg = re.compile('-+')\n",
    "    text = re.sub(dashreg,\" \",text)\n",
    "    dotreg = re.compile('.+[^ ]*(?=[a-zA-z0-9])')\n",
    "    text = re.sub(dashreg,\". \",text)\n",
    "    \n",
    "    \n",
    "    #convert text to unicode\n",
    "    emoji_pattern = re.compile(\"[\"\n",
    "        u\"\\U0001F600-\\U0001F64F\"  # emoticons\n",
    "        u\"\\U0001F300-\\U0001F5FF\"  # symbols & pictographs\n",
    "        u\"\\U0001F680-\\U0001F6FF\"  # transport & map symbols\n",
    "        u\"\\U0001F1E0-\\U0001F1FF\"  # flags (iOS)\n",
    "                           \"]+\", flags=re.UNICODE)\n",
    "    text = emoji_pattern.sub(r' ', text) # no emoji\n",
    "    \n",
    "#     # replace HTML symbols\n",
    "#     bracs_regex = re.compile('<.*?>')\n",
    "#     text = re.sub(bracs_regex,\" \",text)\n",
    "#     text = text.replace(\"&amp;\", \"and\").replace(\"&gt;\", \">\").replace(\"&lt;\", \"<\")\n",
    "    \n",
    "    # delete urls\n",
    "    url_reg = re.compile('\\s\\S+?[@\\.]+?\\S+?\\s')\n",
    "    text = re.sub(url_reg, \" \", text)\n",
    "    url_reg2 = re.compile('http\\S+?\\s')\n",
    "    text = re.sub(url_reg2, \" \", text)\n",
    "\n",
    "    # remove twitter @mentions\n",
    "    mentionFinder = re.compile(r\"@[a-z0-9_]{1,15}\", re.IGNORECASE)\n",
    "    text = mentionFinder.sub(\"\", text)    \n",
    "    \n",
    "    # delete words countaining numbers\n",
    "    num_reg = re.compile('(?<= )\\S*?\\d+?\\S*?(?=\\s)')\n",
    "    text = re.sub(num_reg, \" \", text)\n",
    "        \n",
    "    # lowercase\n",
    "    text = text.lower()\n",
    "\n",
    "    #remove end whitespaces and convert many whitespaces to few\n",
    "    text = text.strip()\n",
    "    spacereg = re.compile('\\s{2,}')\n",
    "    text = re.sub(spacereg,' ',text)\n",
    "    return text\n",
    "\n",
    "# A custom function to tokenize the text using spaCy\n",
    "# and convert to lemmas\n",
    "def tokenizeText(sample):\n",
    "\n",
    "    # get the tokens using spaCy\n",
    "    tokens = nlp(sample)\n",
    "\n",
    "    # lemmatize\n",
    "    lemmas = []\n",
    "    for tok in tokens:\n",
    "        lemmas.append(tok.lemma_.lower().strip() if tok.lemma_ != \"-PRON-\" else tok.lower_)\n",
    "    tokens = lemmas\n",
    "\n",
    "    # stoplist the tokens\n",
    "    tokens = [tok for tok in tokens if tok not in STOPLIST]\n",
    "\n",
    "    # stoplist symbols\n",
    "    tokens = [tok for tok in tokens if set(str(tok)).isdisjoint(SYMBOLS)]\n",
    "\n",
    "    # remove large strings of whitespace\n",
    "    while \"\" in tokens:\n",
    "        tokens.remove(\"\")\n",
    "    while \" \" in tokens:\n",
    "        tokens.remove(\" \")\n",
    "    while \"\\n\" in tokens:\n",
    "        tokens.remove(\"\\n\")\n",
    "    while \"\\n\\n\" in tokens:\n",
    "        tokens.remove(\"\\n\\n\")\n",
    "\n",
    "    tokens = [token for token in tokens if len(token)>=4]\n",
    "    global count\n",
    "    if count%400==0:\n",
    "        print('{} documents tokenized'.format(count))\n",
    "    count+=1\n",
    "    return tokens\n",
    "\n",
    "def printNMostInformative(vectorizer, clf, N):\n",
    "    \"\"\"Prints features with the highest coefficient values, per class\"\"\"\n",
    "    feature_names = vectorizer.get_feature_names()\n",
    "    coefs_with_fns = sorted(zip(clf.coef_[0], feature_names))\n",
    "    topClass1 = coefs_with_fns[:N]\n",
    "    topClass2 = coefs_with_fns[:-(N + 1):-1]\n",
    "    print(\"Class 1 best: \")\n",
    "    for feat in topClass1:\n",
    "        print(feat)\n",
    "    print(\"Class 2 best: \")\n",
    "    for feat in topClass2:\n",
    "        print(feat)\n",
    "    \n",
    "# # the vectorizer and classifer to use\n",
    "# # note that I changed the tokenizer in CountVectorizer to use a custom function using spaCy's tokenizer\n",
    "# vectorizer = TfidfVectorizer(tokenizer=tokenizeText, ngram_range=(1,1))\n",
    "# clf =  KMeans(n_clusters=10,n_jobs=-1,random_state=40)\n",
    "# # the pipeline to clean, tokenize, vectorize, and classify\n",
    "# pipe = Pipeline([('cleanText', CleanTextTransformer()), ('vectorizer', vectorizer), ('clf', clf)])"
   ]
  },
  {
   "cell_type": "code",
   "execution_count": 309,
   "metadata": {
    "collapsed": true
   },
   "outputs": [],
   "source": [
    "cl_text_tf = CleanTextTransformer()"
   ]
  },
  {
   "cell_type": "code",
   "execution_count": 310,
   "metadata": {},
   "outputs": [
    {
     "data": {
      "text/plain": [
       "<__main__.CleanTextTransformer at 0x7f7354fd7320>"
      ]
     },
     "execution_count": 310,
     "metadata": {},
     "output_type": "execute_result"
    }
   ],
   "source": [
    "cl_text_tf.fit(mod_text)"
   ]
  },
  {
   "cell_type": "code",
   "execution_count": 311,
   "metadata": {
    "collapsed": true
   },
   "outputs": [],
   "source": [
    "cl_txt = cl_text_tf.transform(mod_text)"
   ]
  },
  {
   "cell_type": "markdown",
   "metadata": {},
   "source": [
    "with open('/home/farhaan/working_projects/pickles/cleaned_text_spacy01.pkl', 'wb') as f:\n",
    "    pickle.dump(cl_txt, f)"
   ]
  },
  {
   "cell_type": "code",
   "execution_count": 19,
   "metadata": {
    "collapsed": true
   },
   "outputs": [],
   "source": [
    "with open('/home/farhaan/working_projects/pickles/cleaned_text_spacy01.pkl', 'rb') as f:\n",
    "    cl_txt = pickle.load(f)"
   ]
  },
  {
   "cell_type": "code",
   "execution_count": 20,
   "metadata": {},
   "outputs": [
    {
     "data": {
      "text/plain": [
       "'administration is blocking congressional probe into cash payments to iran. of course she needs to plead the she either can’t recall, refuses to answer, or just plain deflects the question. straight up corruption at its finest! ; talk about covering your ass! loretta lynch did just that when she plead the fifth to avoid incriminating herself over payments to iran…corrupt to the core! attorney general loretta lynch is declining to comply with an investigation by leading members of congress about the obama administration’s secret efforts to send iran billion in cash earlier this year, prompting accusations that lynch has “pleaded the fifth” amendment to avoid incriminating herself over these payments, according to lawmakers and communications exclusively obtained by the washington free beacon. sen. marco rubio fla.) and rep. mike pompeo kan.) initially presented lynch in october with a series of questions about how the cash payment to iran was approved and delivered. in an oct. response, assistant attorney general peter kadzik responded on lynch’s behalf, refusing to answer the questions and informing the lawmakers that they are barred from publicly disclosing any details about the cash payment, which was bound up in a ransom deal aimed at freeing several american hostages from iran. the response from the attorney general’s office is “unacceptable” and provides evidence that lynch has chosen to “essentially plead the fifth and refuse to respond to inquiries regarding [her]role in providing cash to the world’s foremost state sponsor of terrorism,” rubio and pompeo wrote on friday in a follow'"
      ]
     },
     "execution_count": 20,
     "metadata": {},
     "output_type": "execute_result"
    }
   ],
   "source": [
    "cl_txt[0]"
   ]
  },
  {
   "cell_type": "code",
   "execution_count": 21,
   "metadata": {
    "collapsed": true
   },
   "outputs": [],
   "source": [
    "count=0\n",
    "vectorizer = TfidfVectorizer(tokenizer=tokenizeText, ngram_range=(1,1),max_df=11000,min_df=30)"
   ]
  },
  {
   "cell_type": "code",
   "execution_count": 22,
   "metadata": {},
   "outputs": [
    {
     "name": "stdout",
     "output_type": "stream",
     "text": [
      "0 documents tokenized\n",
      "400 documents tokenized\n",
      "800 documents tokenized\n",
      "1200 documents tokenized\n",
      "1600 documents tokenized\n",
      "2000 documents tokenized\n",
      "2400 documents tokenized\n",
      "2800 documents tokenized\n",
      "3200 documents tokenized\n",
      "3600 documents tokenized\n",
      "4000 documents tokenized\n",
      "4400 documents tokenized\n",
      "4800 documents tokenized\n",
      "5200 documents tokenized\n",
      "5600 documents tokenized\n",
      "6000 documents tokenized\n",
      "6400 documents tokenized\n",
      "6800 documents tokenized\n",
      "7200 documents tokenized\n",
      "7600 documents tokenized\n",
      "8000 documents tokenized\n",
      "8400 documents tokenized\n",
      "8800 documents tokenized\n",
      "9200 documents tokenized\n",
      "9600 documents tokenized\n"
     ]
    },
    {
     "data": {
      "text/plain": [
       "TfidfVectorizer(analyzer='word', binary=False, decode_error='strict',\n",
       "        dtype=<class 'numpy.int64'>, encoding='utf-8', input='content',\n",
       "        lowercase=True, max_df=11000, max_features=None, min_df=30,\n",
       "        ngram_range=(1, 1), norm='l2', preprocessor=None, smooth_idf=True,\n",
       "        stop_words=None, strip_accents=None, sublinear_tf=False,\n",
       "        token_pattern='(?u)\\\\b\\\\w\\\\w+\\\\b',\n",
       "        tokenizer=<function tokenizeText at 0x7f301a0f6bf8>, use_idf=True,\n",
       "        vocabulary=None)"
      ]
     },
     "execution_count": 22,
     "metadata": {},
     "output_type": "execute_result"
    }
   ],
   "source": [
    "vectorizer.fit(cl_txt)"
   ]
  },
  {
   "cell_type": "code",
   "execution_count": 23,
   "metadata": {},
   "outputs": [
    {
     "name": "stdout",
     "output_type": "stream",
     "text": [
      "0 documents tokenized\n",
      "400 documents tokenized\n",
      "800 documents tokenized\n",
      "1200 documents tokenized\n",
      "1600 documents tokenized\n",
      "2000 documents tokenized\n",
      "2400 documents tokenized\n",
      "2800 documents tokenized\n",
      "3200 documents tokenized\n",
      "3600 documents tokenized\n",
      "4000 documents tokenized\n",
      "4400 documents tokenized\n",
      "4800 documents tokenized\n",
      "5200 documents tokenized\n",
      "5600 documents tokenized\n",
      "6000 documents tokenized\n",
      "6400 documents tokenized\n",
      "6800 documents tokenized\n",
      "7200 documents tokenized\n",
      "7600 documents tokenized\n",
      "8000 documents tokenized\n",
      "8400 documents tokenized\n",
      "8800 documents tokenized\n",
      "9200 documents tokenized\n",
      "9600 documents tokenized\n"
     ]
    }
   ],
   "source": [
    "count=0\n",
    "sparsed_txt = vectorizer.transform(cl_txt)"
   ]
  },
  {
   "cell_type": "code",
   "execution_count": 339,
   "metadata": {},
   "outputs": [
    {
     "name": "stdout",
     "output_type": "stream",
     "text": [
      "10000 documents tokenized\n",
      "10400 documents tokenized\n",
      "10800 documents tokenized\n",
      "11200 documents tokenized\n",
      "11600 documents tokenized\n",
      "12000 documents tokenized\n",
      "12400 documents tokenized\n",
      "12800 documents tokenized\n",
      "13200 documents tokenized\n",
      "13600 documents tokenized\n",
      "14000 documents tokenized\n",
      "14400 documents tokenized\n",
      "14800 documents tokenized\n",
      "15200 documents tokenized\n",
      "15600 documents tokenized\n",
      "16000 documents tokenized\n",
      "16400 documents tokenized\n",
      "16800 documents tokenized\n",
      "17200 documents tokenized\n",
      "17600 documents tokenized\n",
      "18000 documents tokenized\n",
      "18400 documents tokenized\n",
      "18800 documents tokenized\n",
      "19200 documents tokenized\n",
      "19600 documents tokenized\n"
     ]
    }
   ],
   "source": [
    "with open('/home/farhaan/working_projects/pickles/tokenized_text_spacy01.pkl', 'wb') as f:\n",
    "    pickle.dump(sparsed_txt, f)"
   ]
  },
  {
   "cell_type": "code",
   "execution_count": 164,
   "metadata": {},
   "outputs": [
    {
     "data": {
      "text/plain": [
       "['!',\n",
       " '\"',\n",
       " '#',\n",
       " '$',\n",
       " '%',\n",
       " '&',\n",
       " \"'\",\n",
       " '(',\n",
       " ')',\n",
       " '*',\n",
       " '+',\n",
       " ',',\n",
       " '-',\n",
       " '.',\n",
       " '/',\n",
       " ':',\n",
       " ';',\n",
       " '<',\n",
       " '=',\n",
       " '>',\n",
       " '?',\n",
       " '@',\n",
       " '[',\n",
       " '\\\\',\n",
       " ']',\n",
       " '^',\n",
       " '_',\n",
       " '`',\n",
       " '{',\n",
       " '|',\n",
       " '}',\n",
       " '~',\n",
       " '-----',\n",
       " '---',\n",
       " '--',\n",
       " '-',\n",
       " '...',\n",
       " '“',\n",
       " '”',\n",
       " '…',\n",
       " '’',\n",
       " '–']"
      ]
     },
     "execution_count": 164,
     "metadata": {},
     "output_type": "execute_result"
    }
   ],
   "source": [
    "SYMBOLS"
   ]
  },
  {
   "cell_type": "code",
   "execution_count": 340,
   "metadata": {
    "collapsed": true
   },
   "outputs": [],
   "source": [
    "a=0\n",
    "b=a+100"
   ]
  },
  {
   "cell_type": "code",
   "execution_count": 343,
   "metadata": {},
   "outputs": [
    {
     "data": {
      "text/plain": [
       "['annex',\n",
       " 'annexation',\n",
       " 'annihilate',\n",
       " 'annihilation',\n",
       " 'anniversary',\n",
       " 'announce',\n",
       " 'announcement',\n",
       " 'annoying',\n",
       " 'annual',\n",
       " 'annually',\n",
       " 'anoint',\n",
       " 'anomaly',\n",
       " 'anonymity',\n",
       " 'anonymous',\n",
       " 'answer',\n",
       " 'antarctic',\n",
       " 'anthem',\n",
       " 'anthony',\n",
       " 'antibiotic',\n",
       " 'antichrist',\n",
       " 'anticipate',\n",
       " 'antioxidant',\n",
       " 'antonio',\n",
       " 'anxiety',\n",
       " 'anxious',\n",
       " 'anybody',\n",
       " 'anymore',\n",
       " 'anytime',\n",
       " 'apart',\n",
       " 'apartheid',\n",
       " 'apartment',\n",
       " 'apocalypse',\n",
       " 'apocalyptic',\n",
       " 'apologist',\n",
       " 'apologize',\n",
       " 'apology',\n",
       " 'appal',\n",
       " 'appalling',\n",
       " 'apparatus',\n",
       " 'apparent',\n",
       " 'apparently',\n",
       " 'appeal',\n",
       " 'appear',\n",
       " 'appearance',\n",
       " 'appease',\n",
       " 'appetite',\n",
       " 'applaud',\n",
       " 'applause',\n",
       " 'apple',\n",
       " 'applicable',\n",
       " 'application',\n",
       " 'apply',\n",
       " 'appoint',\n",
       " 'appointee',\n",
       " 'appointment',\n",
       " 'appreciate',\n",
       " 'appreciation',\n",
       " 'apprentice',\n",
       " 'approach',\n",
       " 'appropriate',\n",
       " 'appropriately',\n",
       " 'appropriation',\n",
       " 'approval',\n",
       " 'approve',\n",
       " 'approximately',\n",
       " 'arab',\n",
       " 'arabia',\n",
       " 'arabian',\n",
       " 'arabic',\n",
       " 'arbitrarily',\n",
       " 'arbitrary',\n",
       " 'arbitration',\n",
       " 'arch',\n",
       " 'archaeologist',\n",
       " 'archeologist',\n",
       " 'architect',\n",
       " 'archive',\n",
       " 'arctic',\n",
       " 'ardent',\n",
       " 'area',\n",
       " 'arena',\n",
       " 'argentina',\n",
       " 'arguably',\n",
       " 'argue',\n",
       " 'argument',\n",
       " 'arise',\n",
       " 'aristocracy',\n",
       " 'arizona',\n",
       " 'arkansa',\n",
       " 'arkansas',\n",
       " 'arlington',\n",
       " 'armageddon',\n",
       " 'armed',\n",
       " 'armor',\n",
       " 'armored',\n",
       " 'army',\n",
       " 'arnold',\n",
       " 'arouse',\n",
       " 'arrange',\n",
       " 'arrangement']"
      ]
     },
     "execution_count": 343,
     "metadata": {},
     "output_type": "execute_result"
    }
   ],
   "source": [
    "a+=100\n",
    "b=a+100\n",
    "vectorizer.get_feature_names()[a:b]"
   ]
  },
  {
   "cell_type": "code",
   "execution_count": 118,
   "metadata": {},
   "outputs": [
    {
     "data": {
      "text/plain": [
       "scipy.sparse.csr.csr_matrix"
      ]
     },
     "execution_count": 118,
     "metadata": {},
     "output_type": "execute_result"
    }
   ],
   "source": [
    "type(sparsed_txt)"
   ]
  },
  {
   "cell_type": "code",
   "execution_count": 344,
   "metadata": {},
   "outputs": [
    {
     "data": {
      "text/plain": [
       "TruncatedSVD(algorithm='randomized', n_components=200, n_iter=5,\n",
       "       random_state=40, tol=0.0)"
      ]
     },
     "execution_count": 344,
     "metadata": {},
     "output_type": "execute_result"
    }
   ],
   "source": [
    "tsvd = TruncatedSVD(n_components=200,random_state=40)\n",
    "tsvd.fit(sparsed_txt)"
   ]
  },
  {
   "cell_type": "code",
   "execution_count": 345,
   "metadata": {},
   "outputs": [
    {
     "data": {
      "text/plain": [
       "0.28261397443314379"
      ]
     },
     "execution_count": 345,
     "metadata": {},
     "output_type": "execute_result"
    }
   ],
   "source": [
    "sum(tsvd.explained_variance_ratio_)"
   ]
  },
  {
   "cell_type": "code",
   "execution_count": 346,
   "metadata": {
    "collapsed": true
   },
   "outputs": [],
   "source": [
    "transformed_wd_frequency = pd.DataFrame(tsvd.transform(sparsed_txt))"
   ]
  },
  {
   "cell_type": "code",
   "execution_count": 347,
   "metadata": {
    "collapsed": true
   },
   "outputs": [],
   "source": [
    "n_clusters_list = []\n",
    "inertia_list = []\n",
    "silhouette_score_list = []"
   ]
  },
  {
   "cell_type": "code",
   "execution_count": 348,
   "metadata": {
    "collapsed": true
   },
   "outputs": [],
   "source": [
    "for n in range(2,12):\n",
    "    kmeanscl = KMeans(n_clusters=n,n_jobs=-1,random_state=40)\n",
    "    kmeanscl.fit(transformed_wd_frequency)\n",
    "    cluster_lab = kmeanscl.predict(transformed_wd_frequency)\n",
    "    s_score = silhouette_score(transformed_wd_frequency,cluster_lab)\n",
    "    n_clusters_list.append(n)\n",
    "    inertia_list.append(kmeanscl.inertia_)\n",
    "    silhouette_score_list.append(s_score)\n"
   ]
  },
  {
   "cell_type": "code",
   "execution_count": 350,
   "metadata": {},
   "outputs": [
    {
     "data": {
      "text/plain": [
       "<matplotlib.text.Text at 0x7f734f6737f0>"
      ]
     },
     "execution_count": 350,
     "metadata": {},
     "output_type": "execute_result"
    },
    {
     "data": {
      "image/png": "[encoded data removed]",
      "text/plain": [
       "<matplotlib.figure.Figure at 0x7f7390a84d30>"
      ]
     },
     "metadata": {},
     "output_type": "display_data"
    }
   ],
   "source": [
    "plt.subplot(2,1,1)\n",
    "plt.plot(n_clusters_list,inertia_list,'g-')\n",
    "plt.xlabel('n_clusters')\n",
    "plt.ylabel('inertia')\n",
    "\n",
    "plt.subplot(2,1,2)\n",
    "plt.plot(n_clusters_list,silhouette_score_list,'red')\n",
    "plt.xlabel('n_clusters')\n",
    "plt.ylabel('silhouette score')"
   ]
  },
  {
   "cell_type": "code",
   "execution_count": 89,
   "metadata": {
    "collapsed": true
   },
   "outputs": [],
   "source": [
    "tsvd = TruncatedSVD(n_components=200,random_state=40)\n",
    "transformed_wd_frequency = pd.DataFrame(tsvd.fit_transform(sparsed_txt))\n",
    "\n",
    "kmeanscl = KMeans(n_clusters=8,n_jobs=-1,random_state=40)\n",
    "\n",
    "kmeanscl.fit(transformed_wd_frequency)\n",
    "\n",
    "centroids = kmeanscl.cluster_centers_"
   ]
  },
  {
   "cell_type": "code",
   "execution_count": 90,
   "metadata": {},
   "outputs": [
    {
     "data": {
      "text/plain": [
       "Counter({0: 172, 1: 595, 2: 188, 3: 6118, 4: 917, 5: 388, 6: 1020, 7: 467})"
      ]
     },
     "execution_count": 90,
     "metadata": {},
     "output_type": "execute_result"
    }
   ],
   "source": [
    "Counter(kmeanscl.labels_)"
   ]
  },
  {
   "cell_type": "code",
   "execution_count": 91,
   "metadata": {
    "collapsed": true
   },
   "outputs": [],
   "source": [
    "clustered_text = pd.merge(pd.DataFrame(fakenews_df_filtered),\n",
    "                          pd.DataFrame(kmeanscl.labels_,\n",
    "                                       index=fakenews_df_filtered.index,\n",
    "                                       columns=['kmeans_label']),\n",
    "                          how='left',left_index=True,right_index=True)"
   ]
  },
  {
   "cell_type": "code",
   "execution_count": 361,
   "metadata": {
    "collapsed": true
   },
   "outputs": [],
   "source": [
    "for cluster_ind in range(len(centroids)):\n",
    "    excerpts = clustered_text[clustered_text['cluster_label']==cluster_ind]\n",
    "    pd.to_pickle(excerpts,'/home/farhaan/working_projects/pickles/spacy_kclusters1_no_'+str(cluster_ind)+'.pkl')"
   ]
  },
  {
   "cell_type": "code",
   "execution_count": 362,
   "metadata": {},
   "outputs": [
    {
     "name": "stdout",
     "output_type": "stream",
     "text": [
      ".\t\t\t   spacy_kclusters1_no_0.pkl  spacy_kclusters1_no_6.pkl\r\n",
      "..\t\t\t   spacy_kclusters1_no_1.pkl  spacy_kclusters1_no_7.pkl\r\n",
      "cleaned_text_spacy01.pkl   spacy_kclusters1_no_2.pkl  text_filtered1.p\r\n",
      "df_fakenews_filtered1.p    spacy_kclusters1_no_3.pkl  text_filtered1.pkl\r\n",
      "df_fakenews_filtered1.pkl  spacy_kclusters1_no_4.pkl\r\n",
      "df_fakenews.p\t\t   spacy_kclusters1_no_5.pkl\r\n"
     ]
    }
   ],
   "source": [
    "!ls -a ../pickles/"
   ]
  },
  {
   "cell_type": "code",
   "execution_count": 360,
   "metadata": {},
   "outputs": [
    {
     "name": "stdout",
     "output_type": "stream",
     "text": [
      "Cluster # 0 [25, 0, 27, 8] #Articles = 67\n",
      "Topic rel. importance: [ 0.171  0.166  0.143  0.13 ]\n",
      "\n",
      "Topic # 25 ['shit', 'premature', 'taught', 'defenders', 'dutch', 'discourage', 'synchronize', 'brother', 'threads', 'moons', 'paralysis', 'revolution', 'feast', 'desperately', 'enquirer', 'deficits', 'daesh', 'review', 'slogans', 'html']\n",
      "Topic # 0 ['juncture', 'chanted', 'brother', 'paralysis', 'collaboration', 'legality', 'explicit', 'principles', 'float', 'arrest', 'improved', 'personally', 'herbs', 'sacrificing', 'cloth', 'poroshenko', 'nazi', 'smoothly', 'bout', 'surprises']\n",
      "Topic # 27 ['shit', 'bout', 'verge', 'discourage', 'synchronize', 'taught', 'sacrificing', 'premature', 'revolution', 'blown', 'moons', 'efficiency', 'herbs', 'neural', 'fraud', 'rejected', 'respective', 'poorer', 'graphic', 'appoints']\n",
      "Topic # 8 ['carefully', 'bylaws', 'contaminants', 'efficiency', 'scarcity', 'shit', 'plain', 'juncture', 'overshadowed', 'associations', 'fixer', 'outlawed', 'leader', 'attributable', 'flexibility', 'lisa', 'arguing', 'taught', 'watched', 'gorbachev']\n",
      "\n",
      "*******Excerpt#1: *********\n",
      " Clinton did not disclose ‘expensive gifts,’ free vacations, and complimentary private jet travel her family received from business interests while she was at the State Department, according to leaked emails and federal disclosure records reviewed by the DailyMail.com. \n",
      "Long-time Clinton aide Doug Band claimed in a confidential 2011 memo published by Wikileaks this week that he helped obtain free vacations and personal travel for Bill Clinton and his family as part of his duties. \n",
      "During Hillary Clinton’s tenure at the State Department, she did not report any gifts or travel reimbursements for herself or her spouse in her financial disclosure filings. \n",
      "‘In support of the President’s for-profit activity, we also have solicited and obtained, as appropriate, in-kind services for the President and his family – for personal travel, hospitality, vacation and the like,’ wrote Band in the Nov. 16, 2011 memo to attorneys conducting an internal review of the Clinton Foundation. \n",
      "He added that his\n",
      "\n",
      "*******Excerpt#2: *********\n",
      " to further its portrayal of Hillary Clinton as a corrupt politician and doubling down on allegations that she grew wealthy through “pay-to-play politics.”The TV spot hits Clinton, the Democratic presidential nominee, on controversies related to her family’s foundation, stating that “staggering amounts of cash poured into the Clinton Foundation from criminals, dictators, countries that hate America” and that “Hillary cut deals for donors.” \n",
      "Clinton’s charitable foundation has faced intense scrutiny this election over concerns about possible conflicts of interest because it took in money from corporations and foreign governments. Clinton has repeatedly denied, however, that her work as secretary of state was compromised by the foundation’s work or that she gave any special privileges to its donors.The Clintons have also said that the foundation, which contributes to AIDS relief abroad, among other charitable causes, will cease taking money from corporations and foreign governments if she\n",
      "\n",
      "*******Excerpt#3: *********\n",
      " Party presidential nominee, have attracted billions of dollars to their own foundation to trade power and influence, Wall Street investor and analyst Charles Ortel told Sputnik. \n",
      "Charles Ortel is a veteran Wall Street investment analyst who has carried out major studies into the operation of the Clinton Foundation and its legal status, and runs a blog monitoring its activities. Ortel was the whistleblower that blew the lid off the General Electric financial discrepancies in 2008.\n",
      "“The Clinton Foundation has been a gigantic slush fund,” Ortel said. “People can donate relatively small sums to the Clinton regime and get gigantic concessions worth hundreds of millions or even billions of dollars back.” During the four years that Hillary Clinton was secretary of state, hundreds of millions of dollars flowed into the Clinton Foundation from governments around the world, many of which then enjoyed favored treatment from the US State Department, Ortel noted. “To the world at large, the Clinton\n",
      "\n",
      "*******Excerpt#4: *********\n",
      " Department fisher 8 mins ago News Comments Off on FOR SALE: Hillary’s State Department FOR SALE: Hillary ‘s State Department \n",
      "As new revelations continue to unfold regarding Hillary ’s time as Secretary of State, it has become clear that her State Department was highly influenced by donors to the Clinton Foundation. Before Hillary became Secretary of State, she had to sign an agreement with the Obama administration restricting the ability of the Clinton Foundation to accept foreign donations. In February of this year the Clinton Foundation admitted that the agreement had in fact been broken. \n",
      "Now it has been discovered that over half of non-government officials who met with Hillary while she was Secretary of State gave money to the Clinton Foundation. What they received in return is just one of the questions Hillary has refused to answer byavoiding the press for the past eight months. In newly released emails there are details of donors being granted access to ambassadors due to their \n",
      "\n",
      "*******Excerpt#5: *********\n",
      " has operated as part of the Veterans Today Network ; a group that operates over 50 plus media, information and service online sites for U.S. Military Veterans. Woodward On Clinton Foundation “It’s Corrupt” By VNN on October 28, 2016 He’s correct: The Clinton Foundation is corrupt, and voters should be troubled by Clinton’s role in the unethical pay-for-play scandals. \n",
      "Conservative Tribune \n",
      "Voters have been concerned about Democrat presidential nominee Hillary Clinton’s involvement in the scandal-ridden Clinton Foundation. \n",
      "Liberal journalist Bob Woodward legitimized those concerns Sunday on Fox News by pointing to the Foundation’s “ pay-for-play ” scandals while Clinton served as secretary of state as something that should trouble voters. \n",
      "Woodward, who broke the Watergate story that led to the downfall of President Richard Nixon, told host Chris Wallace in no uncertain terms that the Clinton Foundation is “corrupt” and a “scandal.” \n",
      "Watch Woodward’s comments on Fox News Sunday here: \n",
      "\n",
      "\n",
      "*******Excerpt#6: *********\n",
      " is a veteran Wall Street investment analyst who has carried out major studies into the operation of the Clinton Foundation and its legal status, and runs a blog monitoring its activities. Ortel was the whistleblower that blew the lid off the General Electric financial discrepancies in 2008. “The Clinton Foundation has been a gigantic slush fund,” Ortel said. “People can donate relatively small sums to the Clinton regime and get gigantic concessions worth hundreds of millions or even billions of dollars back.” \n",
      "During the four years that Hillary Clinton was secretary of state, hundreds of millions of dollars flowed into the Clinton Foundation from governments around the world, many of which then enjoyed favored treatment from the US State Department, Ortel noted. “To the world at large, the Clintons are open for business,” he stated. \n",
      "The US corporate media always refused to subject the Clinton Foundation to any kind of serious or skeptical coverage, in part because of fear of alienatin\n",
      "\n",
      "*******Excerpt#7: *********\n",
      " Clinton looks at her mobile phone as she leaves her house to attend Congressional Black Caucus Foundation's Phoenix Awards Dinner at the Washington convention center in Washington, U.S., \n",
      "Five FBI field offices in mayor cities are looking deeping into the Clinton Foundation, Allegations of Pay-to-Play. \n",
      "Federal agencies in New York, Los Angeles, Washington, D.C. and Little Rock, Ark., are investigating the Clinton Foundation regarding pay-to-play financial and political corruption . The Wall Street Journal reported the update on Sunday mirroring information provided by a former senior law enforcement official. The FBI field offices are coordinating with the U. S. Attorneys working in those cities. FBI agents in Miami are also joining the probe,. The Clinton Foundation has numerous programs operating in Haiti, the Caribbean, Latin America and South America.\n",
      "\n",
      "*******Excerpt#8: *********\n",
      " Podesta emails reveal extent of Bill Clinton’s ‘for profit’ activities By 0 32 \n",
      "Conflicts of interest between Bill Clinton and the Clinton Foundation, as well as the former president’s “for profit” activities and acceptance of “expensive gifts” have been revealed in WikiLeaks’ Podesta emails. \n",
      "One of the emails released by the whistleblowing site from the account of Hillary Clinton’s campaign chair, John Podesta, includes a November 2011 email chain between Podesta and Douglas Band, a former Foundation fundraiser and long time adviser to the Clintons. \n",
      "Band attaches a 12 page document detailing the many ways Bill Clinton had conflicts of interest with the Foundation and his “for profit” activities. \n",
      "Band is co-founder of global PR consulting firm Teneo and worked as Bill Clinton’s personal assistant during his presidency. Teneo had raised millions for the Foundation while also working for Bill Clinton’s personal interests when he was a paid adviser to the company. In 2012, Clinton’s po\n",
      "\n",
      "*******Excerpt#9: *********\n",
      " Comey’s professional history and relationships shows that the Obama cabinet leader — now under fire for his handling of the investigation of Hillary Clinton — is deeply entrenched in the big-money cronyism culture of Washington, D.C. His personal and professional relationships — all undisclosed as he announced the Bureau would not prosecute Clinton — reinforce bipartisan concerns that he may have politicized the criminal probe. \n",
      "These concerns focus on millions of dollars that Comey accepted from a Clinton Foundation defense contractor, Comey’s former membership on a Clinton Foundation corporate partner’s board, and his surprising financial relationship with his brother Peter Comey, who works at the law firm that does the Clinton Foundation’s taxes. \n",
      "Lockheed Martin \n",
      "When President Obama nominated Comey to become FBI director in 2013, Comey promised the United States Senate that he would recuse himself on all cases involving former employers. \n",
      "But Comey earned $6 million in one year al\n",
      "\n",
      "*******Excerpt#10: *********\n",
      " to further its portrayal of Hillary Clinton as a corrupt politician and doubling down on allegations that she grew wealthy through “pay-to-play politics.”The TV spot hits Clinton, the Democratic presidential nominee, on controversies related to her family’s foundation, stating that “staggering amounts of cash poured into the Clinton Foundation from criminals, dictators, countries that hate America” and that “Hillary cut deals for donors.” \n",
      "Clinton’s charitable foundation has faced intense scrutiny this election over concerns about possible conflicts of interest because it took in money from corporations and foreign governments. Clinton has repeatedly denied, however, that her work as secretary of state was compromised by the foundation’s work or that she gave any special privileges to its donors.The Clintons have also said that the foundation, which contributes to AIDS relief abroad, among other charitable causes, will cease taking money from corporations and foreign governments if she\n",
      "\n",
      "\n",
      "________________________________________________________________________________________\n",
      "________________________________________________________________________________________\n",
      "Cluster # 1 [0, 1, 6, 2] #Articles = 1227\n",
      "Topic rel. importance: [ 0.206  0.112  0.057  0.035]\n",
      "\n",
      "Topic # 0 ['juncture', 'chanted', 'brother', 'paralysis', 'collaboration', 'legality', 'explicit', 'principles', 'float', 'arrest', 'improved', 'personally', 'herbs', 'sacrificing', 'cloth', 'poroshenko', 'nazi', 'smoothly', 'bout', 'surprises']\n",
      "Topic # 1 ['legislation', 'dutch', 'fixer', 'legality', 'remnant', 'bylaws', 'enquirer', 'splitting', 'boggling', 'threads', 'fearing', 'explicit', 'blown', 'grace', 'banker', 'startup', 'constituencies', 'version', 'hearted', 'delete']\n",
      "Topic # 6 ['plotting', 'dismay', 'locker', 'connection', 'premature', 'conspired', 'carefully', 'earns', 'startup', 'blown', 'juncture', 'challenge', 'entitled', 'privately', 'chronicles', 'shit', 'improved', 'substances', 'contaminants', 'daesh']\n",
      "Topic # 2 ['cardiovascular', 'fred', 'protected', 'ceremonies', 'carefully', 'bylaws', 'radiation', 'legislation', 'shit', 'fixer', 'effect', 'arrest', 'dutch', 'process', 'bolton', 'rothschilds', 'remnant', 'contaminants', 'systematically', 'tons']\n",
      "\n",
      "*******Excerpt#1: *********\n",
      " military history and the real causes of conflicts. His studies in history and background in the media industry have given him a keen insight into the use of mass media as a creator of conflict in the modern world. His favored areas of study include state sponsored terrorism, media manufactured reality and the role of intelligence services in manipulation of populations and the perception of events. Rock star Roger Waters said to lose $4m over anti-Israel activism By Ian Greenhalgh on October 28, 2016 [Editor’s note: This sorry tale of the persecution of a famous musician due to his moral stance against the fascist, racist, genocidal apartheid state of Israel starkly illustrates why so many others choose not to speak out – they know that they will be attacked and it will probably end up hurting them financially, in Water’s case, to the tune of 4 million dollars. As Waters himself said in an interview, celebrities are ‘scared shitless’ to criticise Israel. Ian] Rock star Roger Waters sai\n",
      "\n",
      "*******Excerpt#2: *********\n",
      " mural of Russia’s president covers the wall of a residential building in Simferopol, Crimea, August 19, 2015. The message reads: \"Ours\". REUTERS/Pavel Rebrov \n",
      "Russia has begun rebuilding a chain of military installations from Crimea to Kaliningrad, with 18 new sites near Sevastopol alone. Russia has reoccupied the missile bunkers that dot the verdant hills along Crimea’s southern coast. Villager who worked at Crimea base: “It is a functioning military base with an anti-ship missile system.” Russia is creating a chain of radar stations on rocky hilltops around Crimea. Local villager: “There is a military base here, air defense system and missiles. There are air defense systems on every cape here.” On the outskirts of the port city of Sevastopol sits another radar station called “Dnepr.” Russian newspaper Izvestiya: Moscow will restore the Dnepr station so it can “detect launches of ballistic, cruise and hypersonic missiles from the Black Sea and Mediterranean Sea area.” In Crimea region\n",
      "\n",
      "*******Excerpt#3: *********\n",
      " Free Society in the US \n",
      "Smears and intimidation vs. free debate, civil liberties and peace Originally appeared at Anti War \n",
      "I’m often taken to task by some of my readers for characterizing the current anti-Russian hysteria as “McCarthyism.” After all, they say, Sen. Joseph McCarthy was right – there were, indeed, high-ranking individuals in the US government covertly sympathetic to the Soviet regime. And, yes, we now know that many of these were working directly for Soviet intelligence. \n",
      "This was the predictable result of our wartime alliance with Russia: combined with the left-wing proclivities of the Roosevelt administration, and the “Popular Front” politics of the Communist Party USA during this period, it’s surprising that Soviet penetration of US government circles wasn’t more extensive than it turned out to be. \n",
      "In any case, what we are seeing today with the revival of the cold war mindset is in many ways the complete opposite of the “old” McCarthyism: the target may be the same \n",
      "\n",
      "*******Excerpt#4: *********\n",
      " Putin winning across the board, Washington is struggling to contain its humilitation Originally appeared at Strategic Culture Foundation \n",
      "The Obama administration is now accusing Russia of cyber-crime and trying to disrupt the US presidential election. The claim is so far-fetched, it is hardly credible. More credible is that the US is reeling from Putin’s stunning humiliation earlier this week. \n",
      "Since June, US media and supporters of Democrat presidential contender Hillary Clinton have been blaming Russian state-sponsored hackers for breaking into the Democratic party’s database. \n",
      "It is further alleged that Moscow is stealthily trying to influence the outcome of the election, by releasing damaging information on Clinton, which might favor Republican candidate Donald Trump. \n",
      "Russia has vehemently denied any connection to the cyber-crime charges, or trying to disrupt the November poll. \n",
      "Now the Obama administration has stepped into the fray by openly accusing Russia. «US government offic\n",
      "\n",
      "*******Excerpt#5: *********\n",
      " “If that’s what you think,” Kaminski says, “you’re kidding yourself!” \n",
      "President-elect Donald Trump’s claim he is reinvestigating 9/11 is just so much meaningless hot air — more neocon crapola — if he intends to solve the greatest crime in American history by including two of the event’s participating perpetrators — Rudy Giuliani and Lewis Eisenberg — on his team of detectives. \n",
      "What kind of truth can we expect from this kind of sandbagged scrutiny? None at all. Once again our government is investigating itself with predictable results. It will do no better than the first time — which was a total whitewash, because it is the very system itself that all these political functionaries are trying to defend which bears responsibility for this event and its impact on history. \n",
      "Hiring the people who played minor supporting roles in the 9/11 bloodbath to identify its architects and actors may yield a few sacrificial scapegoats like Cheney and some generals, but the top of the line power struct\n",
      "\n",
      "*******Excerpt#6: *********\n",
      " now, as most polls indicate? \n",
      "He has already declared that he will recognize the results – but only if he wins. \n",
      "That sounds like a joke. But it is far from being a joke. \n",
      "Trump has already announced that the election is rigged. The dead are voting (and all the dead vote for Hillary Clinton). The polling station committees are corrupt. The polling machines forge the results. \n",
      "No, that is not a joke. Not at all. \n",
      "This is not a joke, because Trump represents tens of millions of Americans, who belong to the lower strata of the white population, which the white elite used to call “white trash”. In more polite language they are called “blue collar workers”, meaning manual workers, unlike the “white collar workers” who occupy the offices. \n",
      "If the tens of millions of blue-collar voters refuse to recognize the election results, American democracy will be in danger. The United States may become a banana republic, like some of its southern neighbors, which have never enjoyed a stable democracy. \n",
      "\n",
      "*******Excerpt#7: *********\n",
      " to US imperialist policy [in Syria], without prevarications. The task falls on the left, but it cannot be a left divided by relativist consideration of “evil” on all sides…” W hy are they lying? Everything is being done to convince the public that Russia wants war; that it has annexed Ukraine; that it will attack Western Europe; that it will crush the Baltic states and Poland in its advance; that it’s committing war crimes in Syria; that Assad is a dictator and a butcher; that he has met peaceful demands for reform with brutal repression; that those fighting Assad are moderate rebels; that he is dropping barrel bombs on civilians. Why are they lying? Because the people don’t want war: they want jobs and bread. They will not agree to murder people who have done them no harm. They will consent to war if told they are under attack or that the war will save other people from genocide, rape, or other gross violations of human rights. The people are not interested in world domination, but th\n",
      "\n",
      "*******Excerpt#8: *********\n",
      " 28, 2016 Previous post \n",
      "“Therefore was the name of it called Bavel; because Hashem did there confound the language of all the earth; and from thence did Hashem scatter them abroad upon the face of all the earth.” Genesis 11:9 (The Israel Bible™) \n",
      "When Europeans first glimpsed Native Americans more than 400 years ago, many were convinced they had discovered the Lost Tribes of Israel. At closer look, the connections are astounding. This hidden association has taken on greater importance recently as the two nations face similar threats, and perhaps even a common Messianic vision quest. \n",
      "Unmistakable traces of Jewish prayer echo in the voice of Joseph Riverwind , the Amahura (war chief) of the Northern Arawak Nation, the indigenous peoples of South America and Caribbean, as he sings, “Shema, shema, nayena, popaska hoya yah”. He translated this ancient Native American song for Breaking Israel News : \n",
      "“Listen, listen, people, as you gather together, we will dance before the creator.” This is\n",
      "\n",
      "*******Excerpt#9: *********\n",
      " over the next ten years, ensuring America’s continued role in funding the occupation of Palestine. Meanwhile, my friends and colleagues here in Gaza live in fear of another significant Israeli attack in the near future. \n",
      "They have every reason to fear another major escalation – violence is a daily reality in Gaza. In two recent incidents, a rocket was fired from Gaza into Israel without causing damage or injuries, and in both instances Israel responded by bombing targets throughout Gaza. \n",
      "In August alone, Israel bombed more than 50 locations in the small territory . \n",
      "The simple story told about these events focuses on action and reaction: Palestinians attacked Israel with a rocket and Israel responded. We hear this logic after nearly every event of this sort, but it’s woefully incomplete. \n",
      "In both instances, the rockets fired weren’t fired by Hamas, but rather by small radical armed groups at odds with Hamas, which governs Gaza. These groups seek to incite Israeli attacks on Hamas with\n",
      "\n",
      "*******Excerpt#10: *********\n",
      " said on Tuesday that Democrat Hillary Clinton’s plan for Syria would “lead to World War Three,” because of the potential for conflict with military forces from nuclear-armed Russia. \n",
      "In an interview focused largely on foreign policy, Trump said defeating Islamic State is a higher priority than persuading Syrian President Bashar al-Assad to step down, playing down a long-held goal of U.S. policy. \n",
      "… \n",
      "“What we should do is focus on ISIS. We should not be focusing on Syria,” said Trump as he dined on fried eggs and sausage at his Trump National Doral golf resort. “You’re going to end up in World War Three over Syria if we listen to Hillary Clinton. \n",
      "“You’re not fighting Syria any more, you’re fighting Syria, Russia and Iran, all right? Russia is a nuclear country, but a country where the nukes work as opposed to other countries that talk,” he said.\n",
      "\n",
      "\n",
      "________________________________________________________________________________________\n",
      "________________________________________________________________________________________\n",
      "Cluster # 2 [0, 2, 4, 11] #Articles = 607\n",
      "Topic rel. importance: [ 0.201  0.181  0.086  0.026]\n",
      "\n",
      "Topic # 0 ['juncture', 'chanted', 'brother', 'paralysis', 'collaboration', 'legality', 'explicit', 'principles', 'float', 'arrest', 'improved', 'personally', 'herbs', 'sacrificing', 'cloth', 'poroshenko', 'nazi', 'smoothly', 'bout', 'surprises']\n",
      "Topic # 2 ['cardiovascular', 'fred', 'protected', 'ceremonies', 'carefully', 'bylaws', 'radiation', 'legislation', 'shit', 'fixer', 'effect', 'arrest', 'dutch', 'process', 'bolton', 'rothschilds', 'remnant', 'contaminants', 'systematically', 'tons']\n",
      "Topic # 4 ['defenders', 'tuning', 'cardiovascular', 'baggage', 'fred', 'representatives', 'protected', 'event', 'pakistani', 'ceremonies', 'nightmares', 'shit', 'colony', 'jordan', 'traumatized', 'robbed', 'instinct', 'commanding', 'founder', 'truly']\n",
      "Topic # 11 ['legislation', 'fixer', 'cardiovascular', 'fearing', 'boggling', 'fred', 'privately', 'libyan', 'protected', 'threads', 'substances', 'arguing', 'principles', 'drill', 'bylaws', 'bind', 'effect', 'watched', 'nurtured', 'unofficial']\n",
      "\n",
      "*******Excerpt#1: *********\n",
      " within the FBI that was validated by online and personal sources concerning the outcome of the Clinton investigation. Now it’s been revealed that the FBI has been flooded with resignations letters by disenfranchised agents ever since Comey decided last July not to indict Hillary Clinton. Comey’s now attempting to save face has reopened the investigation into Hillary Clinton’s private server claiming that the FBI has now found an additional 650,000 email messages on Anthony Weiner’s laptop, ten thousand of which were found were in a folder called “Life Insurance.” Things are boiling up for the Clinton campaign, what an October surprise!\n",
      "10,000 new emails found on Huma Abedin and Anthony Weiner's computer and phones. They were in a file marked \"Life Insurance\". #Corruption \n",
      "— Morgan Brittany (@MorganBrittany4) October 29, 2016 \n",
      "\n",
      "Weiner is under investigation for sending sexually explicit pictures and material to a 15 year old girl and it drags Hillary’s campaign and chances of presidency\n",
      "\n",
      "*******Excerpt#2: *********\n",
      " Such as Hillary Clinton The power above the US Federal Bureau of Investigation (FBI) is the US Attorney General, and, above that person, the US President. That’s whom the FBI actually serves — not the US public. This is the reason why the FBI is having such internal tensions and dissensions over the investigation of Hillary Clinton: Not only is she the current President’s ardently preferred and designated successor — and overwhelmingly supported also by America’s aristocracy and endorsed by the aristocracy’s press — but the top leadership of the FBI have terms-in-office that (unlike, for example, the term of the US Attorney General) do not end with the installation of the next President; and these people will therefore be serving, quite possibly, the very same person whom they are now ‘investigating’. This is the reason why James Comey, the FBI’s Director, let Clinton totally off the hook on July 5th, when he declined to present the case to a grand jury: he and the rest of the FBI’s to\n",
      "\n",
      "*******Excerpt#3: *********\n",
      " THE FBI? CLINTON, COMEY AND THE E-MAIL SCANDAL: IS THERE A REBELLION AT THE FBI? 0 SHARES \n",
      "[10/31/16] The Clintons are a “crime family” and Hillary a “pathological liar,” said former assistant FBI director James Kallstrom during an interview Sunday. And it appears his belief is shared by current rank-and-file FBI agents, as a rebellion has apparently been brewing within the bureau. \n",
      "The latest shocking news on this front is that despite a plea deal to destroy laptops (evidence) belonging to Clinton associates, those devices were not destroyed and are still in the possession of the FBI. As the Daily Caller reports : \n",
      "Washington D.C. attorney Joe DiGenova said on The David Webb Show on SiriusXM Friday night that despite the FBI agreeing to destroy the laptops of Clinton aide Cheryl Mills and ex-campaign staffer Heather Samuelson as part of immunity deals made during the initial investigation of Clinton’s email server, agents involved in the case refused to destroy the laptops. \n",
      "“Accordin\n",
      "\n",
      "*******Excerpt#4: *********\n",
      " Democratic presidential candidate Hillary Clinton (© Carlos Barria / Reuters) The FBI has learned of more emails involving Hillary Clinton’s private email server while she headed the State Department, FBI Director James Comey told several members of Congress, telling them he is reopening the investigation. “In connection with an unrelated case, the FBI has learned of the existence of email that appear to be pertinent” to Clinton’s investigation, Comey wrote to the chairs of several relevant congressional committees, adding that he was briefed about the messages on Thursday. “I agree that the FBI should take appropriate investigative steps designed to allow investigators to review these emails to determine whether they contain classified information, as well as to assess their importance to our investigation.” \n",
      "The FBI director cautioned, however, that the bureau has yet to assess the importance of the material, and that he doesn’t know how long that will take. \n",
      "The Clinton campaign has\n",
      "\n",
      "*******Excerpt#5: *********\n",
      " to explain at length why I cannot vote for either Hillary Clinton or Donald Trump and plan to vote for Gary Johnson for president. In a nutshell, big government is our biggest problem. It thrives on more debt, more taxes, more regulations, more war, a secretive deep state and less personal freedom. Both Clinton and Trump would grow the government. Only Johnson would shrink it. \n",
      "One of the most dangerous tendencies of big government is the generation of a police state — wherein laws, rules and procedures are primarily written and can often be bent to aid law enforcement when it is encroaching on our personal freedoms. We saw a terrifying example of that last week when FBI Director James Comey behaved as if he were his most infamous predecessor, J. Edgar Hoover. \n",
      "Here is the back story. \n",
      "Late last week, in an effort to redeem himself from the consequences of having ignored a mountain of evidence of guilt against former Secretary of State Hillary Clinton last summer, Comey told Congress i\n",
      "\n",
      "*******Excerpt#6: *********\n",
      " pleading the 5th and Congress is slamming her for it! \n",
      "Obama sneaks $1.7 Billion in cash to Iran, who wants to destroy us, and they can’t understand why someone might question that insanity. \n",
      "You ONLY plead the 5th if you COULD INCRIMINATE yourself. Thanks Loretta for admitting guilt! \n",
      "Newsmax reports : \n",
      "Attorney General Loretta Lynch is declining to comply with a probe into the Obama administration’s secret efforts to send Iran $1.7 billion in cash earlier this year to avoid incriminating herself, according to The Washington Free Beacon. \n",
      "Florida Sen. Marco Rubio and Kansas Rep. Mike Pompeo wrote in a letter that Lynch chose to “essentially plead the Fifth,” after the Republican lawmakers presented her with questions about the cash payment! \n",
      "Attorney General Loretta Lynch is declining to comply with a probe into the Obama administration’s secret efforts to send Iran $1.7 billion in cash earlier this year to avoid incriminating herself, according to The Washington Free Beacon. \n",
      "Florida\n",
      "\n",
      "*******Excerpt#7: *********\n",
      " criminally responsible for mishandling classified State Department documents last July, along with perjury for lying to the FBI and Congress, a firestorm of criticism wouldn’t have followed his Friday announcement. \n",
      "1. THE COMEY IMBROGLIO \n",
      "Senate Minority Leader Harry Reid (D. NV) accused him of “tarring Secretary Clinton with thin innuendo,” saying his action “appears to be a clear intent to aid one political party over another” – claiming he “may have broken the law,” citing the 1939 Hatch Act (An Act to Prevent Pernicious Political Activities). It prohibits federal executive branch employees from engaging in certain forms of political activity – exempting the president, vice president and designated high-level administration officials. Proof of intent is required to hold someone culpable under the law. .. According to the Wall Street Journal , within the FBI, there was “ sharp internal disagreement over matters related to the Clintons, and how to handle those matters fairly and care\n",
      "\n",
      "*******Excerpt#8: *********\n",
      " the FBI announced it is reopenning its investigation into Hillary Clinton’s email server case, by probing newly emerging emails linked to Hillary Clinton. \n",
      "‘NEW PROBE’– The FBI gives Hillary Clinton a second look. (Photo illustraion 21WIRE) \n",
      "FBI October Surprise? \n",
      "According to reports , in a letter written today, FBI Director James Comey , stated that the FBI has begun a new probe into Hillary Clinton related emails once again. Comey offered scant details about the new probe, but due to an unrelated case, additional classified material may have been mishandled on Clinton’s personal email server. \n",
      "CNBC reported the latest FBI developments, including a passage from Comey’s letter discussing the new investigation: \n",
      "“In previous congressional testimony, I referred to the fact that the Federal Bureau of Investigation (FBI) had completed its investigation of former Secretary Clinton’s personal email server. Due to recent developments, I am writing to supplement my previous testimony,” Comey \n",
      "\n",
      "*******Excerpt#9: *********\n",
      " Director James Comey as having used his office to influence the presidential election, as Comey sent a letter about Hillary Clinton's emails, but refused to call out Russia for meddling in the election by hacking Democrats.   \n",
      "A new report is painting CIA Director James Comey as having used his office to influence the presidential election, as Comey sent a letter about Hillary Clinton’s emails, but refused to call out Russia for meddling in the election by hacking Democrats. \n",
      "CNBC reported : FBI Director James Comey argued privately that it was too close to Election Day for the United States government to name Russia as meddling in the U.S. election and ultimately ensured that the FBI’s name was not on the document that the U.S. government put out, a former FBI official tells CNBC. \n",
      "…. \n",
      "According to the former official, Comey agreed with the conclusion the intelligence community came to: “A foreign power was trying to undermine the election. He believed it to be true, but was against p\n",
      "\n",
      "*******Excerpt#10: *********\n",
      " ureau of Investigation Director James Comey notified key members of Congress that the agency will be reopening their investigation against former Secretary of State Hillary Clinton.\n",
      "In a letter to Congress, Comey wrote that the FBI has recently “ learned of the existence of emails that appear to be pertinent to the investigation” regarding Clinton’s use of a private server during her tenure at the State Department.\n",
      "While Comey did not elaborate on what those emails contain, the director that the emails were discovered “in connection with an unrelated case.” \n",
      "Via FoxNews \n",
      "He told lawmakers the investigative team briefed him on the information a day earlier, “and I agreed that the FBI should take appropriate investigative steps designed to allow investigators to review these emails to determine whether they contain classified information, as well as to assess their importance to our investigation.”\n",
      "He said the FBI could not yet assess whether the new material is significant and he could \n",
      "\n",
      "\n",
      "________________________________________________________________________________________\n",
      "________________________________________________________________________________________\n",
      "Cluster # 3 [3, 0, 5, 4] #Articles = 188\n",
      "Topic rel. importance: [ 0.432  0.187  0.143  0.039]\n",
      "\n",
      "Topic # 3 ['arguing', 'rapper', 'truly', 'ramifications', 'begins', 'swiss', 'unintended', 'alright', 'esteem', 'afghanistan', 'buried', 'abdullah', 'lightly', 'circle', 'homemade', 'healing', 'repealing', 'bathing', 'consulted', 'item']\n",
      "Topic # 0 ['juncture', 'chanted', 'brother', 'paralysis', 'collaboration', 'legality', 'explicit', 'principles', 'float', 'arrest', 'improved', 'personally', 'herbs', 'sacrificing', 'cloth', 'poroshenko', 'nazi', 'smoothly', 'bout', 'surprises']\n",
      "Topic # 5 ['defenders', 'paralysis', 'bout', 'arguing', 'tuning', 'rapper', 'baggage', 'representatives', 'principles', 'condemn', 'nightmares', 'pakistani', 'battalions', 'buried', 'event', 'robbed', 'libyan', 'nurses', 'ramifications', 'nurtured']\n",
      "Topic # 4 ['defenders', 'tuning', 'cardiovascular', 'baggage', 'fred', 'representatives', 'protected', 'event', 'pakistani', 'ceremonies', 'nightmares', 'shit', 'colony', 'jordan', 'traumatized', 'robbed', 'instinct', 'commanding', 'founder', 'truly']\n",
      "\n",
      "*******Excerpt#1: *********\n",
      " construction site just got assistance from military veterans. \n",
      "Between December 4 and December 7, veterans of various branches of the United States armed forces have scheduled a “deployment” to show solidarity and lend support to the Standing Rock Sioux in North Dakota. The event, called “ Veterans Stand for Standing Rock ,” already has 108 confirmed RSVPs on Facebook, and features several high-profile progressive activists who have served in the military, including U.S. Rep. Tulsi Gabbard (D-Hawaii) and Baltimore police officer-turned police brutality whistleblower Michael A. Wood, Jr . \n",
      "“Bring Body armor, gas masks, earplugs AND shooting mufflers (we may be facing a sound cannon) but no drugs, alcohol or weapons,” the event page, organized by Wes Clark Jr., states. \n",
      "The Facebook event is already being used to organize logistics for the veterans to come to Standing Rock, complete with rideshare registration and financial assistance for veterans scattered around the country who want to\n",
      "\n",
      "*******Excerpt#2: *********\n",
      " security currently have the upper hand on the ground in Standing Rock, North Dakota. They’re employing armored vehicles, riot gear, tasers, rubber bullets, pepper spray, sound cannons, and other shows of force against peaceful opposition to the Dakota Access Pipeline. \n",
      "But unlike most of the corporate media, the Internet is taking note of the struggle at Standing Rock and is trying to do its part to contribute to the protests. Over the weekend, unconfirmed reports emerged that police were using Facebook check-ins at Standing Rock to track individuals who arrived at the location to join water protectors. \n",
      "As word spread of the apparent news, the Internet stepped up to neutralize the power of the police-surveillance state. \n",
      "Shortly after, Facebook users from around the country and world began checking into Standing Rock, which registers as Cannon Ball, North Dakota, in an effort to confuse police. According to a statement many posters are copying and pasting: \n",
      "“ The Morton County Sheriff\n",
      "\n",
      "*******Excerpt#3: *********\n",
      " Dakota. Part 1 - Introduction: Since mid-August 2016, thousands have set up camp near the Standing Rock Sioux Reservation in North Dakota. They stand in opposition to the Dakota Access Pipeline and its planned crossing of the Missouri River. This is the largest gathering of Native Americans in over 100 years. Many plan to make... read more \n",
      "Short stories told by water protectors at Standing Rock, North Dakota. \n",
      "Part 1 - Introduction: Since mid-August 2016, thousands have set up camp near the Standing Rock Sioux Reservation in North Dakota. They stand in opposition to the Dakota Access Pipeline and its planned crossing of the Missouri River. This is the largest gathering of Native Americans in over 100 years. Many plan to make this their home until DAPL is stopped. (4mins) \n",
      "Part 2 - Frank from Standing Rock, ND. \"Tears do heal people. They help you learn. They help you move on.\" (5mins) \n",
      "Part 3 - Helen from Wounded Knee, SD. \"I still couldn't sit there and pray freely, until I had to ge\n",
      "\n",
      "*******Excerpt#4: *********\n",
      " of harmony between people and nature, the other driven by an ethos that encourages the exploitation of both. Yet, for months, our clueless media gave this match-up little coverage. \n",
      "For the face-off is between Energy Transfer Partners, one of the world's largest pipeline corporations, and the Standing Rock Lakota Sioux Tribe. It's not merely big news, but the panoramic story of America itself. It's a real reality show -- a cultural, political and moral drama featuring raw greed, grassroots courage, class war, ancient rites, human rights, defenders of the common good, the most nefarious Texas oilman since J. R. Ewing, a historic gathering of Native tribes and a Bull-Connor-style sheriff -- all on location near a North Dakota town named Cannon Ball! \n",
      "The Dakota Access Pipeline is a massive 1,172-mile-long pipeline being constructed by EPT. It will cut through North Dakota, South Dakota, Iowa and Illinois. This pipeline, owned by oilman Kelcy Warren, crosses 200 rivers and countless farms\n",
      "\n",
      "*******Excerpt#5: *********\n",
      " viewers watched the opening game of North American professional baseball’s so-called World Series pitting the Chicago Cubs against the Cleveland Indians (the latter team won 6-0). I made it through the second inning before I had to switch to radio out of disgust at the Indians’ jersey and ball-cap team logo – a wild grinning Native American caricature best understood as a modern-day Red Sambo. It’s bad enough that the Cleveland team retains (well into the 21 st century) the name “the Indians.” First Nations people (the Canadian term) in the United States are more properly called Native or Indigenous Americans – not a name imposed on them by white conquerors who mistakenly thought they’d “discovered” “the Indes. ” \n",
      "But the logo is really beyond the pale . Imagine a team called “The Baltimore Blacks” or “The New Jersey Negroes,” with a ball-cap showing a racist caricature of a “Black Sambo.” Or imagine a German football (soccer) team named the “Buchenwald Semites” – or an Austrian team n\n",
      "\n",
      "*******Excerpt#6: *********\n",
      " October 28th, 2016 Faceless marauders crushed a Native Rebellion on Friday that threatened to impede construction of a sweet new oil pipeline across the Northern US. \n",
      "Citing unfounded claims that oil pipelines leak into water supplies , opposition forces escalated their protest into a mounted assault that led to the injury of at least a few of their horses. \n",
      "The sheriff’s department participated in the defense, having pledged allegiance to the neoliberal javelin of law, and vowed to smash savagery at its root, even if it means cleansing. \n",
      "“Ethnic cleansing is not a word I like to use, because it evokes images of holocaust and genocide,” he said. “But we must leave all options on the table.” \n",
      "Dakota Access Pipeline is projected to be profitable as FUCK and totally keep oil prices low as shit, y’all, so chill. Get those bad thoughts out of your heads. It’s gonna be DANK once that fucker gets built. I’m talking $1.99 per gallon until something like 2020! 93 octane! \n",
      "Emporor Obama is watch\n",
      "\n",
      "*******Excerpt#7: *********\n",
      " watched live feeds of the events going down at Standing Rock.I am at a loss to define my feelings. Anger, outrage, pity, fear \n",
      "...One phrase kept going through my mind, like a mantra- This is not my America. This is not my America. This is not my America. protests at DAPL License DMCA \n",
      "And then in counter-point was the thought- But it is. But it is. But it is.Over one hundred heavily armed cops in riot gear, supported by military assault vehicles and helicopters forced peaceful, prayerful water protectors from their own land, ceded to them in the Treaty of 1851. The police are nothing more than a mercenary army protecting the interests of the owners of the DAPL. There was the wail of sound cannons aimed at the protectors, there was tear gas. There were rubber bullets being fired into the crowd.And in my mind- This is not my America (But it is) This is not my America (But it is) This is not my America (But it is) This is about water. There's no political ideology here. We cannot live wi\n",
      "\n",
      "*******Excerpt#8: *********\n",
      " lawyer and a derivatives trader. She now spends most of her time in India and other parts of Asia researching a book about textile artisans. She also writes regularly about legal, political economy, and regulatory topics for various consulting clients and publications, as well as writes occasional travel pieces for The National . \n",
      "Just in time to pander for progressive votes in the home stretch leading into the election, the Obamamometer suggested earlier this week that the U.S. Army Corps of Engineers may be open to rerouting the Dakota Access Pipeline (DAPL), currently the subject of protests organized in support of the Standing Rock Sioux Tribe and other pipeline opponents. \n",
      "The DAPL is designed to transport light sweet crude oil from the Bakken Shield in North Dakota — an area not served by existing pipelines — through South Dakota, Iowa, and Illinois. DAPL would supersede the previous distribution arrangements, under which oil from this source was shipped by train. \n",
      "What’s now occ\n",
      "\n",
      "*******Excerpt#9: *********\n",
      " and other indigenous people resisting construction of the Dakota Access pipeline on their land.\n",
      "First and foremost, the Sacred Stone Camp established by Standing Rock has an official page for funding the water, propane, food, blankets, and other needs of the camp.\n",
      "Sacred Stone also has a legal defense fund to help defend those engaged in peaceful prayer and nonviolent direction, who are targeted and attacked by police.\n",
      "The Standing Rock Medic and Healer Council was on the ground to assist hundreds of water protectors on Backwater Sunday, when police assaulted them on a highway bridge with a water cannon, tear gas, concussion grenades, rubber bullets, and threatened them with a sound cannon. The Council has an Amazon “wish list” of items needed to continue to provide such assistance to the water protectors.\n",
      "Photo by Leslie Peterson\n",
      "Also, as the water protectors prepare for much colder weather in North Dakota, the Council is raising funds for wool blankets, emergency blankets, wool socks\n",
      "\n",
      "*******Excerpt#10: *********\n",
      " Mapes and Times photographer Alan Berner are on the ground through the end of the week to report on protests of the Dakota Access Pipeline near Bismarck, N.D. Hundreds of protesters have joined the Standing Rock Sioux tribe in their effort to block construction of the pipeline they say threatens water supplies and sacred sites. On Thursday, protesters clashed with police officers who began to push them from land owned by the pipeline developers. More than hundred people were arrested, authorities said. One woman allegedly fired shots at officers while being placed under arrest, according to the North Dakota Department of Emergency Services. Read our primer on what’s going on with the oil pipeline. And here’s what we’re reading about the project and the region’s history. Here’s what happened on Wednesday . \n",
      "Update, 10:25 p.m. \n",
      "More than 12 hours after protesters started clashing with authorities Thursday, the disturbance is still going. No serious injuries have been reported. \n",
      "Numerous \n",
      "\n",
      "\n",
      "________________________________________________________________________________________\n",
      "________________________________________________________________________________________\n",
      "Cluster # 4 [0, 4, 5, 7] #Articles = 468\n",
      "Topic rel. importance: [ 0.196  0.134  0.109  0.071]\n",
      "\n",
      "Topic # 0 ['juncture', 'chanted', 'brother', 'paralysis', 'collaboration', 'legality', 'explicit', 'principles', 'float', 'arrest', 'improved', 'personally', 'herbs', 'sacrificing', 'cloth', 'poroshenko', 'nazi', 'smoothly', 'bout', 'surprises']\n",
      "Topic # 4 ['defenders', 'tuning', 'cardiovascular', 'baggage', 'fred', 'representatives', 'protected', 'event', 'pakistani', 'ceremonies', 'nightmares', 'shit', 'colony', 'jordan', 'traumatized', 'robbed', 'instinct', 'commanding', 'founder', 'truly']\n",
      "Topic # 5 ['defenders', 'paralysis', 'bout', 'arguing', 'tuning', 'rapper', 'baggage', 'representatives', 'principles', 'condemn', 'nightmares', 'pakistani', 'battalions', 'buried', 'event', 'robbed', 'libyan', 'nurses', 'ramifications', 'nurtured']\n",
      "Topic # 7 ['defenders', 'legislation', 'brother', 'fixer', 'representatives', 'fearing', 'premature', 'tuning', 'sacrificing', 'synchronize', 'event', 'robbed', 'tortured', 'remnant', 'baggage', 'brokered', 'fulfilled', 'nightmares', 'municipalities', 'boggling']\n",
      "\n",
      "*******Excerpt#1: *********\n",
      " on April 10th, 2012 \n",
      "Which lifestyle choice produces better results – being a hard working American or being a government parasite? Actually, when you look at the cold, hard numbers they may just surprise you. In America today, we deeply penalize hard work and we greatly reward government dependence. If you live in a very liberal area of the country and you know how to game the system, it is entirely possible to live a comfortable existence without ever working too much at all. In fact, there are some Americans that have been living off of “government benefits” for decades. Many of these people actually plan their lives around doing exactly what they need to do to qualify for as many benefits as possible. America is rapidly turning into a European-style socialist welfare state and it is destroying our nation socially and financially. Ever since the “war on poverty” began our debt has absolutely exploded and yet now there are more poor people in this country than ever before. Obviously \n",
      "\n",
      "*******Excerpt#2: *********\n",
      " the oil market is rebalancing itself' Published: 2 mins ago \n",
      "(CNBC) — U.S. stock closed mostly lower on Wednesday as earnings season continued, while solid economic data helped financials and oil extended its losing streak despite bullish supply data. \n",
      "The Dow Jones industrial average rose 21 points after briefly dropping more than 100 points, with Boeing contributing gains to the tune of 38 points, offsetting sharp losses in Apple, which took about 20 points off the index. \n",
      "The S&P 500 momentarily eked above breakeven before holding 0.22 percent lower, with real estate falling 1.32 percent to lead decliners while industrials and financials outperformed. The Nasdaq lagged, falling 0.64 percent as Apple shed about 2.7 percent.\n",
      "\n",
      "*******Excerpt#3: *********\n",
      " Prize to anti-Trump rioters \n",
      "Democrats blame Hillary's criminal e-mail server for her loss, demand it face prison \n",
      "Afraid of \"dangerous\" Trump presidency, protesters pre-emptively burn America down to the ground \n",
      "Clinton Foundation in foreclosure as foreign donors demand refunds \n",
      "Hillary Clinton blames YouTube video for unexpected and spontaneous voter uprising that prevented her inevitable move into the White House \n",
      "Sudden rise in sea levels explained by disproportionately large tears shed by climate scientists in the aftermath of Trump's electoral victory \n",
      "FBI director Comey delighted after receiving Nobel Prize for Speed Reading (650,000 emails in one week) \n",
      "U.N. deploys troops to American college campuses in order to combat staggeringly low rape rates \n",
      "Responding to Trump's surging poll numbers, Obama preemptively pardons himself for treason \n",
      "Following hurricane Matthew's failure to devastate Florida, activists flock to the Sunshine State and destroy Trump signs manually \n",
      "Tim Kaine\n",
      "\n",
      "*******Excerpt#4: *********\n",
      " ank Unloading Asian Assets to Boost Ledger \n",
      "Deutsche Bank's sale of a 20 percent stake in Chinese peer Hua Xia to PICC Property and Casualty has received regulatory approval, Germany's flagship lender said on Thursday. \n",
      "Hopes to expand into the Chinese banking market never materialized for Deutsche Bank as for several other Western lenders. Bank of America <BAC.N> reacted in 2013 by divesting a shareholding in China Construction Bank <601939.SS>, while Citigroup <C.N> sold its stake in Chinese lender Guangfa [GDDVB.UL] earlier this year. \n",
      "Deutsche Bank, which faces large legal costs for cleaning up past missteps as well as for reinventing itself in a changed market and regulatory environment decided the sale of the Hua Xia stake, in which Deutsche Bank invested in 2006, in December 2015. \n",
      "But it took Hua Xia longer than expected to obtain clearance for the deal from the ChinaBanking Regulatory Commission, weighing on the price of the sale. \n",
      "While Deutsche Bank had said last year that i\n",
      "\n",
      "*******Excerpt#5: *********\n",
      " activists flock to the Sunshine State and destroy Trump signs manually \n",
      "Tim Kaine takes credit for interrupting hurricane Matthew while debating weather in Florida \n",
      "Study: Many non-voters still undecided on how they're not going to vote \n",
      "The Evolution of Dissent: on November 8th the nation is to decide whether dissent will stop being racist and become sexist - or it will once again be patriotic as it was for 8 years under George W. Bush \n",
      "Venezuela solves starvation problem by making it mandatory to buy food \n",
      "Breaking: the Clinton Foundation set to investigate the FBI \n",
      "Obama ​​captures rare Pokémon ​​while visiting Hiroshima \n",
      "Movie news: 'The Big Friendly Giant Government' flops at box office; audiences say \"It's creepy\" \n",
      "Barack Obama: \"If I had a son, he'd look like Micah Johnson\" \n",
      "White House edits Orlando 911 transcript to say shooter pledged allegiance to NRA and Republican Party \n",
      "President George Washington: 'Redcoats do not represent British Empire; King George promotes a distorte\n",
      "\n",
      "*******Excerpt#6: *********\n",
      " Collapse’ Precious metals expert Michael Ballanger discusses his favorite investing books and reviews the landscape for gold and the U.S. dollar between now and the end of the year as the almighty “gravestone doji” signals the end of the dollar rally is near… Submitted by Michael Ballanger, Streetwise : \n",
      "Since entering the hallowed halls of Saint Louis University, that sits near the banks of the equally-venerable-and-old man river, the “Mighty Mississippi,” I have kept a number of books in my library that shall remain as “life textbooks,” tomes upon which to refer in times of confusion, despair, joy and victory. \n",
      "Because of my background in hockey as a (much) younger man, I have always enjoyed re-reading sports books and one of my favorites was Ken Dryden’s “The Game” because he described a team and league that had many members familiar to me in the 1970s. Thomas Hauser’s “Muhammad Ali: His Life and Times” was another superb book about the singular, most-globally-recognized athlete of \n",
      "\n",
      "*******Excerpt#7: *********\n",
      " bullish. \n",
      "Here is what Peter Boockvar wrote today as the world awaits the next round of monetary madness: Robert Heller, the former Federal Reserve Governor, had it right yesterday on the Santelli Exchange. He said what’s the point of scheduling an FOMC meeting one week before the election if the election gives them reason to do nothing… IMPORTANT: To hear which legend just spoke with KWN about $8,000 gold and the coming mania in the gold, silver, and mining shares markets CLICK HERE OR ON THE IMAGE BELOW. \n",
      "It was more than two months ago when Janet Yellen in Jackson Hole said that “the case for an increase in the federal funds rate has strengthened in recent months.” This was repeated by her in the month after and three members wanted to hike in September. As the data hasn’t changed much of late, politics is the only reason why they aren’t hiking today. This comment of mine is putting aside the intellectual debate over the data and whether they should or shouldn’t hike based on it. I’\n",
      "\n",
      "*******Excerpt#8: *********\n",
      " political upset in history and subsequent chaos in global markets, today King World News is pleased to present an extremely important update on the war in the gold market from Michael Oliver at MSA. Oliver allowed KWN exclusively to share this key report with our global audience after last week’s takedown in the gold market. \n",
      "By Michael Oliver, MSA (Momentum Structural Analysis) November 13 ( King World New s) – Gold: If one seeks to capture large trends, then measure large… If one does not have a long-term map to watch as the trend unfolds, then it’s all too easy to run when some bullets fly. And they always fly… Continue reading the Michael Oliver piece below… Advertisement To hear which company investors & institutions around the globe are flocking to that has one of the best gold & silver purchase & storage platforms in the world click on the logo: \n",
      "How We Got To Where We Are Today MSA projected a blow-off type move in gold, commencing in September 2009, based on price and momentum\n",
      "\n",
      "*******Excerpt#9: *********\n",
      " Economy Comex gold manipulation , GLD , mining stocks , silver eagles admin \n",
      "Out with the old, in with the old. Wall Street and the Fed wants to make nice with Trump so as soon as he accepted the next Presidency, the market manipulators went to work on pushing stocks higher and gold lower. \n",
      "What happened with the threat issued by the media that if Trump were elected the stock market would crash? Yesterday Stanley Drunkenmiller issued a proclamation that he sold gold because inflation was coming. I do not believe that I have EVER come across any reference to the notion that gold in inversely correlated with inflation. Someone must’ve slipped Drunkenmiller some LSD in his scotch. But, then again, Drunkenmiller is part of the Soros family, which means he’s the enemy of the people and the truth. \n",
      "The economic thesis connected to Trump is infrastructure spending and inflation generation. The insanely overvalued, over leveraged “infrastructure” stocks like Caterpiller and Terex screamed high\n",
      "\n",
      "*******Excerpt#10: *********\n",
      " people unfamiliar with the liberty movement stumble onto the undeniable fact of the “conspiracy” of globalism they tend to look for easy answers to understand what it is and why it exists. Most people today have been conditioned to perceive events from a misinterpreted standpoint of “Occam’s Razor” — they wrongly assume that the simplest explanation is probably the right one. \n",
      "In fact, this is not what Occam’s Razor states. Instead, to summarize, it states that the simplest explanation GIVEN THE EVIDENCE at hand is probably the right explanation. \n",
      "It has been well known and documented for decades that the push for globalism is a deliberate and focused effort on the part of a select “elite;” international financiers, central bankers, political leaders and the numerous members of exclusive think tanks. They often openly admit their goals for total globalization in their own publications, perhaps believing that the uneducated commoners would never read them anyway. Carroll Quigley, mentor\n",
      "\n",
      "\n",
      "________________________________________________________________________________________\n",
      "________________________________________________________________________________________\n",
      "Cluster # 5 [0, 5, 9, 12] #Articles = 818\n",
      "Topic rel. importance: [ 0.203  0.085  0.025  0.01 ]\n"
     ]
    },
    {
     "name": "stdout",
     "output_type": "stream",
     "text": [
      "\n",
      "Topic # 0 ['juncture', 'chanted', 'brother', 'paralysis', 'collaboration', 'legality', 'explicit', 'principles', 'float', 'arrest', 'improved', 'personally', 'herbs', 'sacrificing', 'cloth', 'poroshenko', 'nazi', 'smoothly', 'bout', 'surprises']\n",
      "Topic # 5 ['defenders', 'paralysis', 'bout', 'arguing', 'tuning', 'rapper', 'baggage', 'representatives', 'principles', 'condemn', 'nightmares', 'pakistani', 'battalions', 'buried', 'event', 'robbed', 'libyan', 'nurses', 'ramifications', 'nurtured']\n",
      "Topic # 9 ['plotting', 'dismay', 'connection', 'locker', 'conspired', 'paralysis', 'bylaws', 'earns', 'challenge', 'bout', 'pussy', 'feast', 'entitled', 'founder', 'desperately', 'carefully', 'scarcity', 'condemn', 'truly', 'plaguing']\n",
      "Topic # 12 ['bylaws', 'scarcity', 'cardiovascular', 'brother', 'lisa', 'protected', 'fred', 'defenders', 'startup', 'effect', 'blown', 'bout', 'africans', 'version', 'truly', 'arguing', 'fulfilled', 'constituencies', 'aftermath', 'systematically']\n",
      "\n",
      "*******Excerpt#1: *********\n",
      " accurately called the results of the last five presidential elections, still asserts that Donald Trump has an 87% chance of defeating Hillary Clinton despite Clinton being ahead in the polls. Norpoth’s model has correctly predicted the outcome of the popular vote for every election since 1996, including the 2000 race where Al Gore won the popular vote but George W. Bush took the presidency. “It usually turns out that the candidate who does better in his party’s primary beats the other guy who does less well,” said Norpoth, adding that Trump’s margin of victory in New Hampshire and South Carolina compared to Clinton (who lost in New Hampshire) was crucial to his model. The other factor is the “swing of the pendulum,” which makes it far more likely for a change of government if one party has been in power for two terms. Norpoth said he\n",
      "\n",
      "*******Excerpt#2: *********\n",
      " Hillary “victory” A NBC station was caught posting election results showing a Hillary Clinton victory days before the election, fueling concerns that the mainstream media is conditioning the public to accept a rigged election favoring Hillary. Political activists discovered a hidden web site for WRCB out of Chattanooga, Tenn. showing election results with Hillary Clinton securing 343 electoral votes and 42% of the popular vote. The web site originated from the FTP server of WorldNow, a media software company that provides real-time data – such as election results – and other media assets to local news stations. The activist who found the page pointed out that the results align well with the “fractional vote” method used by voting machines to rig elections to a predetermined outcome. “On election day, you will see the same percentages overall, with only the numbers that claim to equal them different,” the activist reported. “The difference in total votes shown on the station pages, with\n",
      "\n",
      "*******Excerpt#3: *********\n",
      " shell news just announced by the FBI that it was re-opening its investigation into Hillary Clinton’s private email server. Here’s the text of FBI head James Comey’s letter to Congressional leaders. \n",
      "Obviously, lots of people are out there pontificating on what, if anything, this means. As such, I’m going to add my two cents to the conversation. \n",
      "I’ve prided myself on unemotionally calling this election how I see it the whole time, because I’m neither a Hillary Clinton nor Donald Trump supporter. Being free of the tremendous baggage that comes with cheerleading a particular candidate in this contentious election, I had consistently predicted a Trump victory until the Access Hollywood tape emerged. At that point I penned a thought-piece titled, Donald Trump is in Trouble – Part 2 , in which I changed my forecast to a Hillary Clinton victory. \n",
      "Here’s some of what I wrote: \n",
      "After watching yesterday’s audio and reading through the Wikileaks revelations, my prediction has changed for the fir\n",
      "\n",
      "*******Excerpt#4: *********\n",
      " anned in Maryland since last year, but next year's proposed regulations jeopardize the moratorium. While the planned regulations are strict, they would allow fracking - a practice which is opposed by the majority of voters. Maryland has a year until its moratorium on fracking expires, but voters are already being asked to consider new rules on the controversial practice. Those rules would introduce heavy regulations but leave room for the possibility to allow fracking. A statewide poll taken by OpinionWorks found that 56 percent of Maryland voters would support a complete, statewide ban on fracking. Fracking is the method of pumping water and various chemicals deep underground in order to extract natural gas. Only six percent of the voters in the Maryland poll believe fracking comes without any risks. The risks of fracking are still being studied and were part of the two-year moratorium issued in 2015. A study by the state's Department of Environment is expected to show the potential i\n",
      "\n",
      "*******Excerpt#5: *********\n",
      " Trump! By: John Nolte November 9, 2016 \n",
      "The morally dark Obama-era is over and utterly and totally repudiated. The Clintons have finally and forever been staked in their mercenary black hearts. Our smug, supremacist overlords in the Elite Establishment of both Parties, these rotting, rent-seeking parasites, are now vanquished. But nothing is grander, nothing is more glorious, nothing is more satisfying, nothing is sweeter, nothing is more validating, nothing is better for America than the death of the mainstream media's political power. \n",
      "The elite national political media is done as a force, moral or otherwise, in this country. Done. Buried. Exposed. Over. Out. And using a slow-acting poison called hubris, it was death by suicide. So smug. So sure of themselves. So sanctimonious. So snark-filled. So utterly incapable of anything close to self-reflection. \n",
      "The self-induced poison took effect over a number of years and through five steps. \n",
      "Here they are. \n",
      "1. Pimping for ObamaCare \n",
      "The na\n",
      "\n",
      "*******Excerpt#6: *********\n",
      " Saturday evening at a rally in Philadelphia for Green Party presidential candidate Jill Stein and her running mate, Ajamu Baraka.\n",
      "November 08, 2016 \" Information Clearing House \" - \" Truth Dig \" - No social or revolutionary movement succeeds without a core of people who will not betray their vision and their principles. They are the building blocks of social change. They are our only hope for a viable socialism. They are willing to spend their lives as political outcasts. They are willing to endure repression. They will not sell out the oppressed and the poor. They know that you stand with all of the oppressedpeople of color in our prisons and marginal communities, the poor, unemployed workers, our LGBT community, undocumented workers, the mentally ill and the Palestinians, Iraqis and Afghans whom we terrorize and murderor you stand with none of the oppressed. They know when you fight for the oppressed you get treated like the oppressed. They know this is the cost of the moral life, \n",
      "\n",
      "*******Excerpt#7: *********\n",
      " the MSM was doing a great deal to try and undermine the truths that are being revealed about our government, the rigged election , and their darling, Hillary Clinton. My suspicion was that they were going so far as to set up fake websites and use skewed polls to prepare us for a Clinton victory. It appears I was not alone in that suspicion because all sorts of people began to bring up the topic of skewed polls, including the Trump campaign. Today, I noticed in the headlines that all of the “ official polls ” are telling a different story. They’re telling a story of a battle that is too close to call. Some are even saying that Trump is ahead by a point or two. Some are saying Clinton is a little bit ahead. It’s because they’ve been busted and they’re scrambling to cover the evidence of their dishonesty, of course. Politico even wrote a scathing article about the conspiratorial nature of the very idea of rigged elections . How did this happen? I believe that the combined voices of people\n",
      "\n",
      "*******Excerpt#8: *********\n",
      " be a \"swing state\":\"If nothing else has driven home exactly how weird this election is, this should do it: RealClearPolitics has found that Texas is an electoral toss up. Texas, the blood-red, deeply conservative bastion of all things far right, is a statistical dead heat between Donald Trump and Hillary Clinton.\" http://thedailybanter.com/2016/10/texas-swing-state/ Just search \"Texas Swing State\" for lots of articles on this. The one above shows Clinton at 46% and Trump at 45%. I call BS. There is no way, no way in hell, that Bill Clinton's wife and a pig in her own right is within single digits of Donald Trump in Texas. But that doesn't mean that there won't be an attempt to steal the state's electoral votes. I knew a couple of months ago, when elitist mouthpiece Rush Limbaugh said it was a \"one-point race in Texas,\" that we were being psychologically prepped for the flipping of the state from Republican to Democrat.It could be that we're about to see a sleight-of-hand trick on elect\n",
      "\n",
      "*******Excerpt#9: *********\n",
      " it’s a close election, the cheaters are going to win,’ says Mark Crispin Miller, a professor of media studies who’s spent years combing through U.S. election results for evidence of electronic voting machine fraud. | November 8, 2016 Be Sociable, Share! Voters use electronic voting machines at the Schiller Recreation Center polling station on election day, Tuesday, Nov. 3, 2015, in Columbus, Ohio. \n",
      "AUSTIN, Texas — Election fraud is a dangerously real possibility in the United States, but Donald Trump is wrong about how elections could be rigged under the current system. \n",
      "The Republican nominee has warned his supporters that the election could be rigged against him, and there have already been reports of Trump supporters with guns at polling places intimidating voters. Word is-early voting in FL is very dishonest. Little Marco, his State Chairman, & their minions are working overtime-trying to rig the vote. \n",
      "— Donald J. Trump (@realDonaldTrump) March 12, 2016 Crazy – Election officials \n",
      "\n",
      "*******Excerpt#10: *********\n",
      " woke up and found that the world has changed. World War III was called off. Trump won, Clinton conceded. His victory speech is fair and integrating. \n",
      "My \"not Hillary\" prediction for the election was right. That is, I believe, how Trump won. No so much by gaining genuine votes but by taking them from the crappiest candidate the Democrats could send into the race. This was not a \"white vote\". Trump did better with black (+5) and latino (+2) voters than Romney. Racism does not explain that. Clinton promised more wars. Those who would have to fight them on the ground rejected that position. \n",
      "The people voted against corruption, against international warmongering, against attacks of the culture of their life and against Zionist and Arab manipulation. In short - they voted against Hillary. \n",
      "The media with their outright and widespread manipulation and one sided reporting against Trump and for Clinton lost too. People did not believe the partisan crap that fact-checked Trump on every minor is\n",
      "\n",
      "\n",
      "________________________________________________________________________________________\n",
      "________________________________________________________________________________________\n",
      "Cluster # 6 [0, 17, 7, 31] #Articles = 6183\n",
      "Topic rel. importance: [ 0.147  0.006  0.005  0.005]\n",
      "\n",
      "Topic # 0 ['juncture', 'chanted', 'brother', 'paralysis', 'collaboration', 'legality', 'explicit', 'principles', 'float', 'arrest', 'improved', 'personally', 'herbs', 'sacrificing', 'cloth', 'poroshenko', 'nazi', 'smoothly', 'bout', 'surprises']\n",
      "Topic # 17 ['tier', 'bylaws', 'distortions', 'walls', 'consistent', 'blown', 'scarcity', 'unless', 'heights', 'pakistani', 'fixer', 'accomplices', 'startup', 'conversely', 'silencing', 'slogans', 'admire', 'witnesses', 'version', 'uncovered']\n",
      "Topic # 7 ['defenders', 'legislation', 'brother', 'fixer', 'representatives', 'fearing', 'premature', 'tuning', 'sacrificing', 'synchronize', 'event', 'robbed', 'tortured', 'remnant', 'baggage', 'brokered', 'fulfilled', 'nightmares', 'municipalities', 'boggling']\n",
      "Topic # 31 ['efficiency', 'threads', 'transatlantic', 'priests', 'shake', 'hawaii', 'discourage', 'contaminants', 'garden', 'microphone', 'intent', 'watched', 'dutch', 'consistent', 'conceal', 'embarrassing', 'leader', 'sticky', 'respective', 'stripes']\n",
      "\n",
      "*******Excerpt#1: *********\n",
      " pull on my strings... (The Main): ... and still... here you are Mr Smith. (Mr Smith): Indeed ! (The Main): Poor Mr Smith , doesn't know which pill swallow... doesn't he ? (Mr Smith): You weren't completely honest with me Mr Main. I don't like dishonest people dear Mr Main and I certainly want a dishonest person to become my boss. (The Main): So just follow the rules dear Mr Smith. Forget about the letter have some fun some sex and Die of boredom like the rest of the controllers. (Mr Smith): People that talk about rules are very dangerous people my father used to say. (The Main): your father was a wise man. (The Main): Tell me do you like dangerous Mr Smith ? (Mr Smith): Hyperborea... (The Main): I consider that a yes , Applause for you. You've been investigating haven't you? (The Main): Oh I really start to like you Dear young Mr Smith. (Mr Smith,agitated): 58 Billion death , Genocide !, an entire sentient species !!. Sir You're a monster nothing more !!! (The Main,voice calm): ...And \n",
      "\n",
      "*******Excerpt#2: *********\n",
      " because Facebook told me so; well, maybe not Mark Zuckerberg himself, but all my friends on Facebook were posting pictures of their daughters and celebrating National Daughter’s Day so it must be true, right? \n",
      "Actually, I Googled it, and guess what??? September 24 is NOT National Daughter’s Day…According to Wikipedia , National Daughter’s Day is August 11th. This little snippet in Wikipedia also stated that National Daughter’s Day originated from the Bible. I have done some more digging, and honestly, I can’t find proof for either the day or the fact that the Bible calls for it. So it got me to thinking… \n",
      "How did a day, which didn’t actually exist, go viral in just a few hours on Facebook? There has to be a need which something like this fills or else the entire Facebook population wouldn’t have jumped on it so quickly. \n",
      "Then it hit me. We love our daughters! It really is that simple. We love our daughters so much that we felt we needed to tell them so publicly on Facebook. I saw some \n",
      "\n",
      "*******Excerpt#3: *********\n",
      " United Nations is planning to have all humans imprinted with biometric identification cards . \n",
      "Via AlternativeNews \n",
      "\n",
      "If you’re not sure what this means for you, it would basically be sci-fi meets 1984. The world government would know where you go, what you do, who you’re with, and who you are at all times, anywhere, every day and every night. It means more restrictions and less freedom. The United Nations wants everyone to have a biometric identification tag by 2030, which is part of their Global Goals agenda .\n",
      "The United Nations is already working hard toward the implementation of this goal – particularly among refugee populations. The UN has partnered with Accenture to implement a biometric identification system that reports information “back to a central database in Geneva”.\n",
      "…\n",
      "And these new biometric identification cards will not just be for refugees. According to a different FindBiometrics report, authorities hope this technology will enable them to achieve the UN’s goal of having \n",
      "\n",
      "*******Excerpt#4: *********\n",
      " ISIS, Endorses Donald Trump POWERFUL VIDEO : Father of Kayla Mueller who was Brutally Raped and Murdered by ISIS, Endorses Donald Trump Videos By Amy Moreno November 1, 2016 \n",
      "The Father of Kayla Mueller, the 26-year-old foreign-aide worker who was captured, tortured, and killed by ISIS gave a powerful speech at Donald Trump’s Arizona rally. \n",
      "He told the story of his daughter and how the Obama government lied to them, and let them down, and ultimately BLOCKED them from saving their daughter. \n",
      "Karl Mueller says it’s time for a change. \n",
      "He endorses Donald Trump. This is a movement – we are the political OUTSIDERS fighting against the FAILED GLOBAL ESTABLISHMENT! Join the resistance and help us fight to put America First! Amy Moreno is a Published Author , Pug Lover & Game of Thrones Nerd. You can follow her on Twitter here and Facebook here . Support the Trump Movement and help us fight Liberal Media Bias. Please  this story on Facebook or Twitter. \n",
      "\n",
      "*******Excerpt#5: *********\n",
      " governor turns violent as more than 100,000 Muslims demand death for Christian governor who “blasphemed” Islam JARKARTA: The biggest street protest in years shook this sprawling capital today in a stark display of the more conservative, militant strain of Islam taking hold in the world’s largest Muslim country. ( Which Hillary Clinton has called a “shining example of a ‘moderate’ Islamic country” ) WSJ Police said an estimated 100,000 people turned out for a rally called by hard-line Muslim groups against the capital’s Christian governor, whom they accuse of having committed blasphemy. Blasphemy is a criminal offense in Indonesia and prosecutions have increased in the past decade. President Joko Widodo had met with other political leaders amid calls for calm, but critics say he has been too slow since taking office in 2014 to respond to worsening tension for fear of being labeled anti-Muslim. “Religiosity is rising, especially among the middle class,” said Yon Machmudi, an Islamic poli\n",
      "\n",
      "*******Excerpt#6: *********\n",
      " countless telephone calls to federal drug agents without proper search warrants as part of a secret program called Project Hemisphere . Now it emerges that the telecommunications giant is not just eagerly cooperating with the government but also turning a hefty profit — at taxpayer expense — in the process. \n",
      "The New York Times broke the 2013 story about Hemisphere based on a PowerPoint presentation obtained from West Coast police agencies by a Washington state peace activist. The paper described the program as “a partnership between federal and local drug officials and AT&T” whereby “the government pays AT&T to place its employees in drug-fighting units around the country,” where they “supply [agents] with the phone data from as far back as 1987” on the basis of a subpoena issued by the agency, not a search warrant approved by a judge. \n",
      "“The scale and longevity of the data storage appears to be unmatched by other government programs, including the N.S.A.’s gathering of phone call logs \n",
      "\n",
      "*******Excerpt#7: *********\n",
      " \n",
      "POLITICO \n",
      "Midway through a stump speech riff lamenting that Hillary Clinton had appeared on stage with less-than-family-friendly musicians like Jay-Z and Beyonce, Donald Trump paused at an election-eve rally in Florida Monday morning to gawk at an attendee’s mask. \n",
      "“This is different than a Billy Graham crusade, but you know what? We’re all looking for the same thing. We’re looking for greatness for our country. We’re looking for religious liberty,” the Manhattan billionaire said before the rubber Trump mask caught his eye. “Look at this mask. Look at this mask. Oh wow. Wow, that’s beautiful. Look at that. Looks just like me.” \n",
      "Trump then left the podium for a few seconds as the mask made its way up to the stage. He returned to the microphone and held up the mask next to his own face, before examining it closer. He held it up once more time and joked “nice head of hair, I’ll say that,” before tossing it back. \n",
      "“Is there any place more fun to be than a Trump rally?” has asked the crowd\n",
      "\n",
      "*******Excerpt#8: *********\n",
      " a \"new deal for black America.'   \n",
      "After pretending he cared about earning the votes of African Americans, Donald Trump kicked a black man out of a rally in North Carolina on Wednesday, calling him a “thug” while doing so. Protester escorted out of rally. Trump to protester: “Were you paid $1,500 to be a thug? Were you paid? You can get him out.” pic.twitter.com/jukUj4yuBH \n",
      "— Bryan Anderson (@BryanRAnderson) October 26, 2016 \n",
      "Trump’s insulting and racially tinged rhetoric came hours after he was in Charlotte reaching out to the African-American community and promising a “new deal for black America” if elected president. \n",
      "The Republican nominee has insulted African-American voters throughout much of the campaign, often calling their communities “hell” and claiming they only live in areas riddled with crime and crumbling schools. \n",
      "Of course, in true Trump form, he didn’t just use tasteless rhetoric insulting to the African-American community at his rally. He also took a shot at Syrian re\n",
      "\n",
      "*******Excerpt#9: *********\n",
      " off the television screen. They should not even be aired in the United States because they are nothing but a propaganda arm for the Clinton campaign. WIKILEAKS JUST LEAKED PROOF THAT CNN WORKS WITH THE CLINTON CAMPAIGN. \n",
      "They were just caught colluding with the DNC on what questions Wolf Blitzer should ask Trump ahead of his foreign policy address. \n",
      "Here is a newly leaked email by Wikileaks with someone from the DNC asking for questions from the DNC to send to Wolf Blitzer. You can find the Wikileaks here . \n",
      "Here is a new Wikileaks email where someone named [email protected] asking for questions to ask Cruz on CNN. You can find the Wikileaks by clicking here . \n",
      "*** Here is the interview in question. \n",
      "The DNC literally gave the questions for Wolf Blitzer to ask Trump. We need to expose this to the people of America. They are being lied to. It hurts my heart to see so many people so blind. \n",
      "*** Share this if you are tired of the mainstream media lies! \n",
      "Comment ‘BLACK OUT CNN’ below. We n\n",
      "\n",
      "*******Excerpt#10: *********\n",
      " convoluted Brexit negotiations or just plain scared by a Trump presidency? No? Neither is your Prime Minster. Today Theresa May did what every true leader does in a crisis – which is to turn everyone’s attention to meaningless ephemera; like poppies, Grammar Schools and who should present the new ‘Bake-off’? \n",
      "Taking a break from quashing the Orgreave Inquiry, Mrs May said FIFA’s stance of not politicizing sport was ‘outrageous’. A spokeswoman explained: ‘In these times of austerity, we need cheap, meaningless gestures accompanied by hollow outrage. If over-paid under-achieving footballers are not allowed to wear a poppy – then the terrorists have won. It’s a known fact that Afghan jihadists fear the poppy…although admittedly 80% of their income is based on the opium trade…um…er…I may not have thought this through…’ \n",
      "Armed police are expected to patrol our streets, opening fire on anyone not wearing a poppy or failing to whistle the tune from ‘The Dambusters’. A Police Inspector remarke\n",
      "\n",
      "\n",
      "________________________________________________________________________________________\n",
      "________________________________________________________________________________________\n",
      "Cluster # 7 [1, 0, 2, 7] #Articles = 307\n",
      "Topic rel. importance: [ 0.254  0.174  0.13   0.086]\n",
      "\n",
      "Topic # 1 ['legislation', 'dutch', 'fixer', 'legality', 'remnant', 'bylaws', 'enquirer', 'splitting', 'boggling', 'threads', 'fearing', 'explicit', 'blown', 'grace', 'banker', 'startup', 'constituencies', 'version', 'hearted', 'delete']\n",
      "Topic # 0 ['juncture', 'chanted', 'brother', 'paralysis', 'collaboration', 'legality', 'explicit', 'principles', 'float', 'arrest', 'improved', 'personally', 'herbs', 'sacrificing', 'cloth', 'poroshenko', 'nazi', 'smoothly', 'bout', 'surprises']\n",
      "Topic # 2 ['cardiovascular', 'fred', 'protected', 'ceremonies', 'carefully', 'bylaws', 'radiation', 'legislation', 'shit', 'fixer', 'effect', 'arrest', 'dutch', 'process', 'bolton', 'rothschilds', 'remnant', 'contaminants', 'systematically', 'tons']\n",
      "Topic # 7 ['defenders', 'legislation', 'brother', 'fixer', 'representatives', 'fearing', 'premature', 'tuning', 'sacrificing', 'synchronize', 'event', 'robbed', 'tortured', 'remnant', 'baggage', 'brokered', 'fulfilled', 'nightmares', 'municipalities', 'boggling']\n",
      "\n",
      "*******Excerpt#1: *********\n",
      " 4, 2016 by Eric Walberg \n",
      "The first “Battle of Kunduz” took place from April to October 2015 for control of the city, where Taliban forces were playing cat and mouse for months and finally overran the city, forcing government forces to flee. The capture marked the first time since 2001 that the Taliban had taken control of a major city in Afghanistan. The Afghan government claimed to have largely recaptured Kunduz by October 1 in a counterattack. But by 6 October, the Taliban had recaptured substantial portions of Kunduz. \n",
      "In the confusion, on October 3, long after the government had supposedly recaptured the city, still looking for the Taliban command centre, US fighter pilots ominously circled the Kunduz emergency care trauma hospital. It had been installed and administered by Doctors without Borders (MSF), the only state-of-the-art facility in the war-torn province. \n",
      "For 45 minutes, like ominous clouds, the planes fired pot shots, as if warming up, taunting or warning the doctors and\n",
      "\n",
      "*******Excerpt#2: *********\n",
      " group executed 22 civilians by electrocution in central Mosul.\n",
      "“ISIS militants electrocuted 22 civilians in al-Magmoa al-Thaqafiya area in central Mosul, for collaborating with security forces and Kurdish Peshmerga fighters,” Al Sumaria News stated.\n",
      "Al Sumaria News added, “The ISIS militants were keeping these civilians inside a prison in Mosul for nearly four months.”\n",
      "Yesterday, Parliamentary Human Rights Committee revealed, that the ISIS executed 190 civilians in Hamam al-Alil area and 42 in al-Arij village, south of the city of Mosul, while called Prime Minister Haider al-Abadi and the International coalition to continue liberating the ISIS-held areas in the city.\n",
      "On Tuesday, the UN human rights office said it had preliminary reports about scores of mass killings by ISIS around Mosul in the past week.\n",
      "UN human rights spokesman Rupert Colville told a regular UN briefing in Geneva that the bodies of 70 civilians with bullet wounds had been discovered by Iraqi security forces in Tuloul\n",
      "\n",
      "*******Excerpt#3: *********\n",
      " Video to Show All is Well in Mosul \n",
      "Well they are on the same side, after all Originally appeared at Sputnik \n",
      "In an almost four-minute video, political editor of Spiegel Online Christoph Sydow tried to defend the editorial policy of his magazine regarding the developments in Aleppo and Mosul. However, the shots demonstrated in his video turned out to be the propaganda materials of Daesh terrorists. \n",
      "The video was supposed to be a response to critical letters of Spiegel Online readers and their comments on social networks. Many of them accused the magazine of spreading propaganda and presenting the situation in the Middle East in a biased manner. \"Again and again, readers have been accusing us of presenting the Aleppo siege as a bad one, and that of Mosul as a good one. That's not right. Political editor Christoph Sydow explains the similarities and the differences,\" Spiegel Online reported. In the video, Sydow explained the similarities and differences of both situations. \"Eastern Alep\n",
      "\n",
      "*******Excerpt#4: *********\n",
      " military history and the real causes of conflicts. His studies in history and background in the media industry have given him a keen insight into the use of mass media as a creator of conflict in the modern world. His favored areas of study include state sponsored terrorism, media manufactured reality and the role of intelligence services in manipulation of populations and the perception of events. Saudis support Turkey’s hidden agenda to destroy Iraq By Ian Greenhalgh on November 4, 2016 [Editor’s note: As I have written previously, Asharq Al-Awsat is a Saudi government propaganda mouthpiece, which makes it useful for determining the Saudi opinion on various events. In this case, we have an article that tells us what the Saudis think about the situation in Iraq, in particular Turkey’s intent to seize Mosul and the northern half of the country for itself. It is important to realise that the Saudis are bitter enemies of both Iran and Iraq, furthermore, it is Saudi financial backing that\n",
      "\n",
      "*******Excerpt#5: *********\n",
      " city of Sirte, east of Tripoli, as they try to clear the last remaining Daesh terrorists from the al-Jiza al-Bahriya neighborhood, October 26, 2016. (Photo by AFP) \n",
      "Libyan forces have launched a fresh offensive against Daesh positions in the Mediterranean port city of Sirte. \n",
      "On Thursday, fighters from the nearby city of Misrata, allied with forces of the UN-backed unity government in Tripoli, were pushing their way through the last pockets of resistance in the city’s Ghiza Bahriya District. \n",
      "They were supported by tanks and armored vehicles during the renewed offensive. \n",
      "“Bonyan Marsous forces and the Libyan army forces are advancing onto Ghiza Bahriya to free it ... The Bonyan [forces] have been advancing in Ghiza Bahriya and thank God there have been no causalities so far, there are only some wounded,\" said Hussien Edra, a member of the Bonyan Marsous Brigade. \n",
      "In May, the internationally-backed pro-government troops started a large-scale military operation, including street-by-stre\n",
      "\n",
      "*******Excerpt#6: *********\n",
      " photo Turkish aircraft tried to enter Syrian airspace in the north of the province of Aleppo, but they had to turn back after a warning from Syrian and Russian forces, a source at securety services told Sputnik news agency. On August 24, the Turkish army launched Operation Euphrates Shield against the \"Islamic State terrorist group (banned in Russia). With the participation of the Syrian opposition, the military took control of the border town of Jarabulus in northern Syria and continued the offensive to the south-west. According to Turkish President Tayyip Erdogan, the goal of the offensive is to exterminate terrorists on the territory of up to 5,000 square kilometres and create a safety zone to accommodate refugees. In northern Syria, Turkish troops regularly come into clashes with the forces of the Kurdish militia, which they consider to be related to the Kurdistan Workers' Party. However, the official Damascus shares a different opinion on the subject. The Syrian authorities estima\n",
      "\n",
      "*******Excerpt#7: *********\n",
      " News Network interview with Colin Powell’s former chief of staff when he was Secretary of State, Tom Wilkerson so close to Yves posting Is the US Headed Towards War in Syria? , another interview with the same subject just last week. Yet given the urgency of the topic, reader interest in last week’s post, and the perhaps Panglossian hope that high-level focus on this issue now might limit the range of future options that hawkish Hillary Clinton can take in future– in what I must admit still looks to be the likeliest scenario, that she is inaugurated come January– I upload this post. Perhaps if the Obamamometer took time off from his rounds of legacy-burnishing interviews and concentrated on this problem, he might have a chance of correcting one specific aspect of his horrendous existing foreign policy legacy before the clock runs out on his administration. \n",
      "This Real News Network interview with Lawrence Wilkerson , offers some suggestions on what would be necessary to stop the immediate\n",
      "\n",
      "*******Excerpt#8: *********\n",
      " November 02, 2016 Share This \n",
      "Secretary of Defense Ash Carter today confirmed that negotiations with Turkey are ongoing related to the upcoming invasion of the Syrian city of Raqqa, the de facto capital city of ISIS. Carter suggested Turkey’s involvement would only happen “ further down the road .” \n",
      "The US announced that it intends to launch an invasion of Raqqa very soon, will conduct the operation concurrent with the ongoing invasion of Mosul in Iraq, and that Kurdish YPG forces will be providing the vast majority of the forces for this offensive. \n",
      "That’s irked Turkey, particularly the last part, as Turkish officials repeatedly warned the US against allowing Kurds anywhere near Raqqa and have suggested their own involvement was contingent on there being no Kurds involved. \n",
      "Carter’s comments suggest the US plan to invade without Turkey is unchanged, and that they intend to try to placate Turkey about the involvement of the YPG by giving them some involvement in the post-ISIS situation\n",
      "\n",
      "*******Excerpt#9: *********\n",
      " Aleppo opened sniper fire on around 40 civilians who were trying to escape the rebel-controlled area of the city , the Russian Ministry of Defense announced, confirming that no airstrikes have been conducted in the area for nine days. \"Because of the sniper fire from the militants, another attempt of the Syrian authorities and the Russian reconciliation center to evacuate around 40 people from eastern districts of Aleppo to safe regions of the city was derailed,\" Russian Defense Ministry spokesman Maj. Gen. Igor Konashenkov said on Thursday, adding that the incident happened overnight . The general also said that Russian and Syrian planes have stayed at least 10 kilometers (6.2 miles) away from Aleppo for nine days, after the sorties were halted on October 18. Two days after the strikes ceased, Damascus and Moscow organized safe passage corridors for those wishing to leave the besieged neighborhoods. Six safe routes are now being offered to civilians, while two have been designated for\n",
      "\n",
      "*******Excerpt#10: *********\n",
      " propaganda, it’s hard to know what’s really happening in Syria, but the West’s outrage over Russian-inflicted civilian casualties is clearly hypocritical given the U.S.-Israeli slaughters elsewhere in the region, notes Gareth Porter. \n",
      "By Gareth Porter \n",
      "The Russian-Syrian bombing campaign in eastern Aleppo, which has ended at least for the time being, has been described in press reports and op-eds as though it were unique in modern military history in its indiscriminateness. In an unusual move for a senior U.S. official,   called for an investigation of war crimes in Aleppo. \n",
      "The discussion has been lacking in historical context, however. Certainly the civilian death toll from the bombing and shelling in Aleppo has been high, but many of the strikes may not be all that dissimilar from the major U.S. bombing campaign in Iraq in 2003, nor as indiscriminate as Israel’s recent campaigns in densely populated cities. At the start of the U.S. invasion of Iraq in 2003,   ordered the U.S. milita\n",
      "\n",
      "\n",
      "________________________________________________________________________________________\n",
      "________________________________________________________________________________________\n"
     ]
    }
   ],
   "source": [
    "# to get the most important topics in the cluster:\n",
    "for cluster_ind in range(len(centroids)):\n",
    "    main_topics_in_cluster = [topic[0] for topic in sorted([(ind,val) for ind,val in enumerate(centroids[cluster_ind])],key=lambda x: x[1],reverse=True)[:4]]\n",
    "    topic_relative_importance = [topic[1] for topic in sorted([(ind,val) for ind,val in enumerate(centroids[cluster_ind])],key=lambda x: x[1],reverse=True)[:4]]\n",
    "    print('Cluster # {} {} #Articles = {}'.format(cluster_ind,main_topics_in_cluster,len(clustered_text[clustered_text['cluster_label']==cluster_ind])))\n",
    "    print(\"Topic rel. importance: {}\\n\".format(np.around(topic_relative_importance,3)))\n",
    "    for topic in main_topics_in_cluster:\n",
    "        words_in_topic = [word_ind[0] for word_ind in sorted([(ind,val) for ind,val in enumerate(tsvd.components_[topic])],key=lambda x: x[1],reverse=True)[:20]]\n",
    "        print(\"Topic # {}\".format(topic),[feat_names_clean[word_ind] for word_ind in words_in_topic])\n",
    "    excerpts = clustered_text[clustered_text['cluster_label']==cluster_ind]\n",
    "    excerpts = excerpts.loc[:,'text']\n",
    "    excerpts = excerpts.sample(10)\n",
    "    for ind,excerpt in enumerate(excerpts):\n",
    "        print(\"\\n*******Excerpt#{}: *********\\n {}\".format(ind+1,excerpt[:min(1000,len(excerpt))]))\n",
    "    print('\\n')\n",
    "    print(\"________________________________________________________________________________________\")\n",
    "    print(\"________________________________________________________________________________________\")"
   ]
  },
  {
   "cell_type": "code",
   "execution_count": null,
   "metadata": {
    "collapsed": true
   },
   "outputs": [],
   "source": [
    "# data\n",
    "train = mod_text\n",
    "\n",
    "# train\n",
    "pipe.fit(train)"
   ]
  },
  {
   "cell_type": "code",
   "execution_count": null,
   "metadata": {
    "collapsed": true
   },
   "outputs": [],
   "source": [
    "for sent in list(documents[0].sents)[:10]:\n",
    "    for token in sent:\n",
    "        print(token.lemma_)"
   ]
  },
  {
   "cell_type": "code",
   "execution_count": null,
   "metadata": {
    "collapsed": true
   },
   "outputs": [],
   "source": [
    "len(text)"
   ]
  },
  {
   "cell_type": "code",
   "execution_count": null,
   "metadata": {
    "collapsed": true
   },
   "outputs": [],
   "source": [
    "from spacy.en import English\n",
    "parser = English()"
   ]
  },
  {
   "cell_type": "code",
   "execution_count": null,
   "metadata": {
    "collapsed": true
   },
   "outputs": [],
   "source": [
    "testtoklist = cleanText(text[5])"
   ]
  },
  {
   "cell_type": "code",
   "execution_count": null,
   "metadata": {
    "collapsed": true
   },
   "outputs": [],
   "source": [
    "type(testtoklist[0])"
   ]
  },
  {
   "cell_type": "code",
   "execution_count": null,
   "metadata": {
    "collapsed": true
   },
   "outputs": [],
   "source": [
    "tst2=deepcopy(text[5])"
   ]
  },
  {
   "cell_type": "code",
   "execution_count": null,
   "metadata": {
    "collapsed": true
   },
   "outputs": [],
   "source": [
    "regex = re.compile('\\w+(?:\\.\\w+)+')"
   ]
  },
  {
   "cell_type": "code",
   "execution_count": null,
   "metadata": {
    "collapsed": true
   },
   "outputs": [],
   "source": [
    "re.findall(regex,tst2)"
   ]
  },
  {
   "cell_type": "code",
   "execution_count": null,
   "metadata": {
    "collapsed": true
   },
   "outputs": [],
   "source": [
    "list(ENGLISH_STOP_WORDS)"
   ]
  },
  {
   "cell_type": "code",
   "execution_count": null,
   "metadata": {
    "collapsed": true
   },
   "outputs": [],
   "source": [
    "fakenews_df_filtered"
   ]
  },
  {
   "cell_type": "code",
   "execution_count": null,
   "metadata": {
    "collapsed": true
   },
   "outputs": [],
   "source": [
    "mod_text = deepcopy(text)"
   ]
  },
  {
   "cell_type": "code",
   "execution_count": null,
   "metadata": {
    "collapsed": true
   },
   "outputs": [],
   "source": [
    "import gensim"
   ]
  },
  {
   "cell_type": "code",
   "execution_count": null,
   "metadata": {
    "collapsed": true
   },
   "outputs": [],
   "source": [
    "from gensim import corpora, models, similarities"
   ]
  },
  {
   "cell_type": "code",
   "execution_count": null,
   "metadata": {
    "collapsed": true
   },
   "outputs": [],
   "source": [
    "tfidf = models.TfidfModel(documents[0])"
   ]
  },
  {
   "cell_type": "code",
   "execution_count": 170,
   "metadata": {
    "collapsed": true
   },
   "outputs": [],
   "source": [
    "symtest= [\n",
    " '(',\n",
    " ')',\n",
    " '*',\n",
    " '+',\n",
    " ',',\n",
    " '-',\n",
    " '.',\n",
    "    ]\n",
    "\n",
    "sttest = 'There is a big-boy in my du)sty garage'"
   ]
  },
  {
   "cell_type": "code",
   "execution_count": 192,
   "metadata": {},
   "outputs": [
    {
     "name": "stdout",
     "output_type": "stream",
     "text": [
      "[There, is, a, big, boy, in, my, garage]\n"
     ]
    }
   ],
   "source": [
    "tokentest = [tok for tok in nlp(sttest) if set(str(tok)).isdisjoint(set(symtest))]\n",
    "print(list(tokentest))"
   ]
  },
  {
   "cell_type": "code",
   "execution_count": 174,
   "metadata": {},
   "outputs": [
    {
     "data": {
      "text/plain": [
       "{'(', ')', '*', '+', ',', '-', '.'}"
      ]
     },
     "execution_count": 174,
     "metadata": {},
     "output_type": "execute_result"
    }
   ],
   "source": [
    "set(symtest)"
   ]
  },
  {
   "cell_type": "code",
   "execution_count": 188,
   "metadata": {
    "collapsed": true
   },
   "outputs": [],
   "source": [
    "otest = [str(i) for i in nlp(sttest)]"
   ]
  },
  {
   "cell_type": "code",
   "execution_count": 189,
   "metadata": {},
   "outputs": [
    {
     "data": {
      "text/plain": [
       "['There', 'is', 'a', 'big', '-', 'boy', 'in', 'my', 'du)sty', 'garage']"
      ]
     },
     "execution_count": 189,
     "metadata": {},
     "output_type": "execute_result"
    }
   ],
   "source": [
    "otest"
   ]
  },
  {
   "cell_type": "code",
   "execution_count": 191,
   "metadata": {},
   "outputs": [
    {
     "data": {
      "text/plain": [
       "[{'T', 'e', 'h', 'r'},\n",
       " {'i', 's'},\n",
       " {'a'},\n",
       " {'b', 'g', 'i'},\n",
       " {'-'},\n",
       " {'b', 'o', 'y'},\n",
       " {'i', 'n'},\n",
       " {'m', 'y'},\n",
       " {')', 'd', 's', 't', 'u', 'y'},\n",
       " {'a', 'e', 'g', 'r'}]"
      ]
     },
     "execution_count": 191,
     "metadata": {},
     "output_type": "execute_result"
    }
   ],
   "source": [
    "[set(str(tok)) for tok in otest]"
   ]
  },
  {
   "cell_type": "code",
   "execution_count": 182,
   "metadata": {
    "collapsed": true
   },
   "outputs": [],
   "source": [
    "plist = sttest.split()"
   ]
  },
  {
   "cell_type": "code",
   "execution_count": 186,
   "metadata": {},
   "outputs": [
    {
     "data": {
      "text/plain": [
       "{'T', 'e', 'h', 'r'}"
      ]
     },
     "execution_count": 186,
     "metadata": {},
     "output_type": "execute_result"
    }
   ],
   "source": [
    "set(plist[0])"
   ]
  },
  {
   "cell_type": "code",
   "execution_count": 199,
   "metadata": {},
   "outputs": [
    {
     "data": {
      "text/plain": [
       "['healthcare',\n",
       " 'reform',\n",
       " 'make',\n",
       " 'great',\n",
       " 'march',\n",
       " 'suffer',\n",
       " 'incredible',\n",
       " 'economic',\n",
       " 'burden',\n",
       " 'affordable',\n",
       " 'care',\n",
       " 'act',\n",
       " 'obamacare',\n",
       " 'legislation',\n",
       " 'pass',\n",
       " 'totally',\n",
       " 'partisan',\n",
       " 'house',\n",
       " 'senate',\n",
       " 'sign',\n",
       " 'law',\n",
       " 'divisive',\n",
       " 'partisan',\n",
       " 'history',\n",
       " 'tragically',\n",
       " 'predictably',\n",
       " 'result',\n",
       " 'runaway',\n",
       " 'cost',\n",
       " 'website',\n",
       " 'work',\n",
       " 'great',\n",
       " 'rationing',\n",
       " 'care',\n",
       " 'high',\n",
       " 'premium',\n",
       " 'competition',\n",
       " 'choice',\n",
       " 'obamacare',\n",
       " 'raise',\n",
       " 'economic',\n",
       " 'uncertainty',\n",
       " 'single',\n",
       " 'person',\n",
       " 'reside',\n",
       " 'country',\n",
       " 'appear',\n",
       " 'obamacare',\n",
       " 'certain',\n",
       " 'collapse',\n",
       " 'weight',\n",
       " 'damage',\n",
       " 'democrat',\n",
       " 'abet',\n",
       " 'supreme',\n",
       " 'court',\n",
       " 'difficult',\n",
       " 'repair',\n",
       " 'unless',\n",
       " 'republican',\n",
       " 'congress',\n",
       " 'lead',\n",
       " 'effort',\n",
       " 'bring',\n",
       " 'need',\n",
       " 'free',\n",
       " 'market',\n",
       " 'reform',\n",
       " 'healthcare',\n",
       " 'industry',\n",
       " 'congress',\n",
       " 'act',\n",
       " 'elect',\n",
       " 'representative',\n",
       " 'house',\n",
       " 'senate',\n",
       " 'completely',\n",
       " 'repeal',\n",
       " 'obamacare',\n",
       " 'elect',\n",
       " 'representative',\n",
       " 'eliminate',\n",
       " 'individual',\n",
       " 'mandate',\n",
       " 'person',\n",
       " 'require',\n",
       " 'buy',\n",
       " 'insurance',\n",
       " 'unless',\n",
       " 'want',\n",
       " 'modify',\n",
       " 'exist',\n",
       " 'law',\n",
       " 'inhibit',\n",
       " 'sale',\n",
       " 'health',\n",
       " 'insurance',\n",
       " 'line',\n",
       " 'long',\n",
       " 'plan',\n",
       " 'purchase',\n",
       " 'complie',\n",
       " 'requirement',\n",
       " 'vendor',\n",
       " 'ought',\n",
       " 'able',\n",
       " 'offer',\n",
       " 'insurance',\n",
       " 'allow',\n",
       " 'competition',\n",
       " 'market',\n",
       " 'insurance',\n",
       " 'cost',\n",
       " 'consumer',\n",
       " 'satisfaction',\n",
       " 'allow',\n",
       " 'individual',\n",
       " 'fully',\n",
       " 'deduct',\n",
       " 'health',\n",
       " 'insurance',\n",
       " 'premium',\n",
       " 'payment',\n",
       " 'tax',\n",
       " 'return',\n",
       " 'current',\n",
       " 'tax',\n",
       " 'business',\n",
       " 'allow',\n",
       " 'deduction',\n",
       " 'congress',\n",
       " 'allow',\n",
       " 'individual',\n",
       " 'exemption',\n",
       " 'allow',\n",
       " 'free',\n",
       " 'market',\n",
       " 'provide',\n",
       " 'insurance',\n",
       " 'coverage',\n",
       " 'opportunity',\n",
       " 'company',\n",
       " 'individual',\n",
       " 'make',\n",
       " 'sure',\n",
       " 'slip',\n",
       " 'crack',\n",
       " 'simply',\n",
       " 'afford',\n",
       " 'insurance',\n",
       " 'review',\n",
       " 'basic',\n",
       " 'option',\n",
       " 'medicaid',\n",
       " 'work',\n",
       " 'ensure',\n",
       " 'want',\n",
       " 'healthcare',\n",
       " 'coverage',\n",
       " 'trend',\n",
       " 'feed']"
      ]
     },
     "execution_count": 199,
     "metadata": {},
     "output_type": "execute_result"
    }
   ],
   "source": [
    "tokenizeText(cleanText(text[4]))"
   ]
  },
  {
   "cell_type": "code",
   "execution_count": 210,
   "metadata": {},
   "outputs": [
    {
     "data": {
      "text/plain": [
       "['!',\n",
       " '\"',\n",
       " '#',\n",
       " '$',\n",
       " '%',\n",
       " '&',\n",
       " \"'\",\n",
       " '(',\n",
       " ')',\n",
       " '*',\n",
       " '+',\n",
       " ',',\n",
       " '-',\n",
       " '.',\n",
       " '/',\n",
       " ':',\n",
       " ';',\n",
       " '<',\n",
       " '=',\n",
       " '>',\n",
       " '?',\n",
       " '@',\n",
       " '[',\n",
       " '\\\\',\n",
       " ']',\n",
       " '^',\n",
       " '_',\n",
       " '`',\n",
       " '{',\n",
       " '|',\n",
       " '}',\n",
       " '~',\n",
       " '-----',\n",
       " '---',\n",
       " '--',\n",
       " '-',\n",
       " '...',\n",
       " '“',\n",
       " '”',\n",
       " '…',\n",
       " '’',\n",
       " '–']"
      ]
     },
     "execution_count": 210,
     "metadata": {},
     "output_type": "execute_result"
    }
   ],
   "source": [
    "SYMBOLS"
   ]
  },
  {
   "cell_type": "code",
   "execution_count": 218,
   "metadata": {},
   "outputs": [
    {
     "data": {
      "text/plain": [
       "\"'’'\""
      ]
     },
     "execution_count": 218,
     "metadata": {},
     "output_type": "execute_result"
    }
   ],
   "source": []
  },
  {
   "cell_type": "code",
   "execution_count": null,
   "metadata": {
    "collapsed": true
   },
   "outputs": [],
   "source": [
    "from sklear.externals import joblib"
   ]
  },
  {
   "cell_type": "code",
   "execution_count": null,
   "metadata": {
    "collapsed": true
   },
   "outputs": [],
   "source": [
    "joblib.dump()\n",
    "joblib.load()"
   ]
  },
  {
   "cell_type": "code",
   "execution_count": null,
   "metadata": {
    "collapsed": true
   },
   "outputs": [],
   "source": []
  },
  {
   "cell_type": "code",
   "execution_count": 357,
   "metadata": {
    "collapsed": true
   },
   "outputs": [],
   "source": [
    "for n in range(2,12):\n",
    "    kmeanscl = KMeans(n_clusters=n,n_jobs=-1,random_state=50)\n",
    "    kmeanscl.fit(transformed_wd_frequency)\n",
    "    cluster_lab = kmeanscl.predict(transformed_wd_frequency)\n",
    "    s_score = silhouette_score(transformed_wd_frequency,cluster_lab)\n",
    "    n_clusters_list.append(n)\n",
    "    inertia_list.append(kmeanscl.inertia_)\n",
    "    silhouette_score_list.append(s_score)\n"
   ]
  },
  {
   "cell_type": "code",
   "execution_count": 358,
   "metadata": {},
   "outputs": [
    {
     "data": {
      "text/plain": [
       "<matplotlib.text.Text at 0x7f7354810198>"
      ]
     },
     "execution_count": 358,
     "metadata": {},
     "output_type": "execute_result"
    },
    {
     "data": {
      "image/png": "[encoded data removed]",
      "text/plain": [
       "<matplotlib.figure.Figure at 0x7f7390a7ff28>"
      ]
     },
     "metadata": {},
     "output_type": "display_data"
    }
   ],
   "source": [
    "plt.subplot(2,1,1)\n",
    "plt.plot(n_clusters_list,inertia_list,'g-')\n",
    "plt.xlabel('n_clusters')\n",
    "plt.ylabel('inertia')\n",
    "\n",
    "plt.subplot(2,1,2)\n",
    "plt.plot(n_clusters_list,silhouette_score_list,'red')\n",
    "plt.xlabel('n_clusters')\n",
    "plt.ylabel('silhouette score')"
   ]
  },
  {
   "cell_type": "code",
   "execution_count": 24,
   "metadata": {
    "collapsed": true
   },
   "outputs": [],
   "source": [
    "from sklearn.cluster import DBSCAN"
   ]
  },
  {
   "cell_type": "code",
   "execution_count": 66,
   "metadata": {
    "collapsed": true
   },
   "outputs": [],
   "source": [
    "# tsvd = TruncatedSVD(n_components=200,random_state=40)\n",
    "# transformed_wd_frequency = pd.DataFrame(tsvd.fit_transform(sparsed_txt))\n",
    "np.random.RandomState(seed=40)\n",
    "dbscan = DBSCAN(min_samples=12,n_jobs=-1,eps=.7,p=0.5)\n",
    "dbscan_results = dbscan.fit(transformed_wd_frequency)"
   ]
  },
  {
   "cell_type": "code",
   "execution_count": 67,
   "metadata": {},
   "outputs": [
    {
     "data": {
      "text/plain": [
       "Counter({-1: 24, 0: 9751, 1: 12, 2: 22, 3: 19, 4: 13, 5: 24})"
      ]
     },
     "execution_count": 67,
     "metadata": {},
     "output_type": "execute_result"
    }
   ],
   "source": [
    "Counter(dbscan_results.labels_)"
   ]
  },
  {
   "cell_type": "code",
   "execution_count": null,
   "metadata": {
    "collapsed": true
   },
   "outputs": [],
   "source": []
  },
  {
   "cell_type": "code",
   "execution_count": null,
   "metadata": {
    "collapsed": true
   },
   "outputs": [],
   "source": []
  },
  {
   "cell_type": "code",
   "execution_count": 68,
   "metadata": {
    "collapsed": true
   },
   "outputs": [],
   "source": [
    "from sklearn.cluster import AgglomerativeClustering"
   ]
  },
  {
   "cell_type": "code",
   "execution_count": 97,
   "metadata": {
    "collapsed": true
   },
   "outputs": [],
   "source": [
    "np.random.RandomState(seed=40)\n",
    "aggcl = AgglomerativeClustering(n_clusters=6,linkage='ward',compute_full_tree=False)\n",
    "aggcl_results = aggcl.fit(transformed_wd_frequency)"
   ]
  },
  {
   "cell_type": "code",
   "execution_count": 98,
   "metadata": {},
   "outputs": [
    {
     "data": {
      "text/plain": [
       "Counter({0: 7316, 1: 1355, 2: 145, 3: 739, 4: 119, 5: 191})"
      ]
     },
     "execution_count": 98,
     "metadata": {},
     "output_type": "execute_result"
    }
   ],
   "source": [
    "Counter(aggcl_results.labels_)"
   ]
  },
  {
   "cell_type": "code",
   "execution_count": 100,
   "metadata": {},
   "outputs": [
    {
     "ename": "TypeError",
     "evalue": "object of type 'int' has no len()",
     "output_type": "error",
     "traceback": [
      "\u001b[0;31m---------------------------------------------------------------------------\u001b[0m",
      "\u001b[0;31mTypeError\u001b[0m                                 Traceback (most recent call last)",
      "\u001b[0;32m<ipython-input-100-3ad60dc588e5>\u001b[0m in \u001b[0;36m<module>\u001b[0;34m()\u001b[0m\n\u001b[0;32m----> 1\u001b[0;31m \u001b[0mlen\u001b[0m\u001b[0;34m(\u001b[0m\u001b[0maggcl_results\u001b[0m\u001b[0;34m.\u001b[0m\u001b[0mn_leaves_\u001b[0m\u001b[0;34m)\u001b[0m\u001b[0;34m\u001b[0m\u001b[0m\n\u001b[0m",
      "\u001b[0;31mTypeError\u001b[0m: object of type 'int' has no len()"
     ]
    }
   ],
   "source": [
    "len(aggcl_results.)"
   ]
  },
  {
   "cell_type": "code",
   "execution_count": 95,
   "metadata": {
    "collapsed": true
   },
   "outputs": [],
   "source": [
    "agg_clustered_text = pd.merge(pd.DataFrame(fakenews_df_filtered),\n",
    "                          pd.DataFrame(aggcl_results.labels_,\n",
    "                                       index=fakenews_df_filtered.index,\n",
    "                                       columns=['aggmeans_label']),\n",
    "                          how='left',left_index=True,right_index=True)"
   ]
  },
  {
   "cell_type": "code",
   "execution_count": 92,
   "metadata": {
    "collapsed": true
   },
   "outputs": [],
   "source": [
    "# to get the most important topics in the agg_cluster:\n",
    "for cluster_ind in range(len(list(Counter(aggcl_results.labels_)))):\n",
    "    main_topics_in_cluster = [topic[0] for topic in sorted([(ind,val) for ind,val in enumerate(centroids[cluster_ind])],key=lambda x: x[1],reverse=True)[:4]]\n",
    "    topic_relative_importance = [topic[1] for topic in sorted([(ind,val) for ind,val in enumerate(centroids[cluster_ind])],key=lambda x: x[1],reverse=True)[:4]]\n",
    "    print('Cluster # {} {} #Articles = {}'.format(cluster_ind,main_topics_in_cluster,len(clustered_text[clustered_text['cluster_label']==cluster_ind])))\n",
    "    print(\"Topic rel. importance: {}\\n\".format(np.around(topic_relative_importance,3)))\n",
    "    for topic in main_topics_in_cluster:\n",
    "        words_in_topic = [word_ind[0] for word_ind in sorted([(ind,val) for ind,val in enumerate(tsvd.components_[topic])],key=lambda x: x[1],reverse=True)[:20]]\n",
    "        print(\"Topic # {}\".format(topic),[feat_names_clean[word_ind] for word_ind in words_in_topic])\n",
    "    excerpts = clustered_text[clustered_text['cluster_label']==cluster_ind]\n",
    "    excerpts = excerpts.loc[:,'text']\n",
    "    excerpts = excerpts.sample(10)\n",
    "    for ind,excerpt in enumerate(excerpts):\n",
    "        print(\"\\n*******Excerpt#{}: *********\\n {}\".format(ind+1,excerpt[:min(1000,len(excerpt))]))\n",
    "    print('\\n')\n",
    "    print(\"________________________________________________________________________________________\")\n",
    "    print(\"________________________________________________________________________________________\")"
   ]
  },
  {
   "cell_type": "code",
   "execution_count": 84,
   "metadata": {
    "collapsed": true
   },
   "outputs": [],
   "source": [
    "n_clusters_list=[]\n",
    "silhouette_score_list=[]\n",
    "counter_dict=defaultdict(dict)\n",
    "for n in range(3,12):\n",
    "    aggcl = AgglomerativeClustering(n_clusters=n,linkage='ward',compute_full_tree=False)\n",
    "    aggcl_results = aggcl.fit(transformed_wd_frequency)\n",
    "    cluster_lab = aggcl_results.labels_\n",
    "    s_score = silhouette_score(transformed_wd_frequency,cluster_lab)\n",
    "    n_clusters_list.append(n)\n",
    "    silhouette_score_list.append(s_score)\n",
    "    counter_dict[n]=Counter(aggcl_results.labels_)"
   ]
  },
  {
   "cell_type": "code",
   "execution_count": 85,
   "metadata": {},
   "outputs": [
    {
     "data": {
      "text/plain": [
       "<matplotlib.text.Text at 0x7f301022b470>"
      ]
     },
     "execution_count": 85,
     "metadata": {},
     "output_type": "execute_result"
    },
    {
     "data": {
      "image/png": "[encoded data removed]",
      "text/plain": [
       "<matplotlib.figure.Figure at 0x7f3010448a58>"
      ]
     },
     "metadata": {},
     "output_type": "display_data"
    }
   ],
   "source": [
    "plt.plot(n_clusters_list,silhouette_score_list,'red')\n",
    "plt.xlabel('n_clusters')\n",
    "plt.ylabel('silhouette score')"
   ]
  },
  {
   "cell_type": "code",
   "execution_count": 86,
   "metadata": {},
   "outputs": [
    {
     "data": {
      "text/plain": [
       "defaultdict(dict,\n",
       "            {3: Counter({0: 8319, 1: 1355, 2: 191}),\n",
       "             4: Counter({0: 7580, 1: 1355, 2: 191, 3: 739}),\n",
       "             5: Counter({0: 7461, 1: 1355, 2: 191, 3: 739, 4: 119}),\n",
       "             6: Counter({0: 7316, 1: 1355, 2: 145, 3: 739, 4: 119, 5: 191}),\n",
       "             7: Counter({0: 1355,\n",
       "                      1: 6871,\n",
       "                      2: 445,\n",
       "                      3: 739,\n",
       "                      4: 119,\n",
       "                      5: 191,\n",
       "                      6: 145}),\n",
       "             8: Counter({0: 6871,\n",
       "                      1: 1036,\n",
       "                      2: 445,\n",
       "                      3: 739,\n",
       "                      4: 119,\n",
       "                      5: 191,\n",
       "                      6: 145,\n",
       "                      7: 319}),\n",
       "             9: Counter({0: 271,\n",
       "                      1: 1036,\n",
       "                      2: 445,\n",
       "                      3: 6600,\n",
       "                      4: 119,\n",
       "                      5: 191,\n",
       "                      6: 145,\n",
       "                      7: 319,\n",
       "                      8: 739}),\n",
       "             10: Counter({0: 1036,\n",
       "                      1: 6600,\n",
       "                      2: 445,\n",
       "                      3: 739,\n",
       "                      4: 119,\n",
       "                      5: 191,\n",
       "                      6: 145,\n",
       "                      7: 319,\n",
       "                      8: 247,\n",
       "                      9: 24}),\n",
       "             11: Counter({0: 6600,\n",
       "                      1: 739,\n",
       "                      2: 445,\n",
       "                      3: 319,\n",
       "                      4: 119,\n",
       "                      5: 191,\n",
       "                      6: 145,\n",
       "                      7: 946,\n",
       "                      8: 247,\n",
       "                      9: 24,\n",
       "                      10: 90})})"
      ]
     },
     "execution_count": 86,
     "metadata": {},
     "output_type": "execute_result"
    }
   ],
   "source": [
    "counter_dict"
   ]
  }
 ],
 "metadata": {
  "kernelspec": {
   "display_name": "Python 3",
   "language": "python",
   "name": "python3"
  },
  "language_info": {
   "codemirror_mode": {
    "name": "ipython",
    "version": 3
   },
   "file_extension": ".py",
   "mimetype": "text/x-python",
   "name": "python",
   "nbconvert_exporter": "python",
   "pygments_lexer": "ipython3",
   "version": "3.5.2"
  }
 },
 "nbformat": 4,
 "nbformat_minor": 2
}

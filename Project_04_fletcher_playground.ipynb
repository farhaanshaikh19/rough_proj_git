{
 "cells": [
  {
   "cell_type": "markdown",
   "metadata": {},
   "source": []
  },
  {
   "cell_type": "code",
   "execution_count": 1,
   "metadata": {
    "collapsed": true
   },
   "outputs": [],
   "source": [
    "import nltk\n",
    "import pandas as pd\n",
    "import numpy as np\n",
    "import matplotlib.pyplot as plt\n",
    "%matplotlib inline"
   ]
  },
  {
   "cell_type": "code",
   "execution_count": 2,
   "metadata": {
    "collapsed": true
   },
   "outputs": [],
   "source": [
    "import re\n",
    "from copy import deepcopy\n",
    "from collections import Counter"
   ]
  },
  {
   "cell_type": "code",
   "execution_count": 3,
   "metadata": {
    "collapsed": true
   },
   "outputs": [],
   "source": [
    "from nltk.tokenize import sent_tokenize"
   ]
  },
  {
   "cell_type": "code",
   "execution_count": 4,
   "metadata": {
    "collapsed": true
   },
   "outputs": [],
   "source": [
    "from nltk.tokenize import TreebankWordTokenizer"
   ]
  },
  {
   "cell_type": "code",
   "execution_count": 5,
   "metadata": {
    "collapsed": true
   },
   "outputs": [],
   "source": [
    "from nltk.tag import pos_tag"
   ]
  },
  {
   "cell_type": "code",
   "execution_count": 267,
   "metadata": {
    "collapsed": true
   },
   "outputs": [],
   "source": [
    "from sklearn.feature_extraction.text import CountVectorizer\n",
    "\n",
    "from sklearn.decomposition import TruncatedSVD\n",
    "\n",
    "from scipy.sparse.linalg import svds\n",
    "from scipy.sparse import coo_matrix\n",
    "\n",
    "from sklearn.cluster import KMeans"
   ]
  },
  {
   "cell_type": "markdown",
   "metadata": {},
   "source": [
    "**ORIGINAL DATA SET CAN BE FOUND HERE:**\n",
    "\n",
    "[Kaggle Fake News Dataset](https://www.kaggle.com/mrisdal/fake-news/downloads/fake-news.zip)"
   ]
  },
  {
   "cell_type": "code",
   "execution_count": 6,
   "metadata": {
    "collapsed": true
   },
   "outputs": [],
   "source": [
    "zipfile_path = '/home/farhaan/Downloads/fake-news.zip'\n",
    "df_fakenews = pd.read_csv(zipfile_path,compression=\"zip\")"
   ]
  },
  {
   "cell_type": "code",
   "execution_count": 7,
   "metadata": {
    "scrolled": false
   },
   "outputs": [
    {
     "data": {
      "text/html": [
       "<div>\n",
       "<style>\n",
       "    .dataframe thead tr:only-child th {\n",
       "        text-align: right;\n",
       "    }\n",
       "\n",
       "    .dataframe thead th {\n",
       "        text-align: left;\n",
       "    }\n",
       "\n",
       "    .dataframe tbody tr th {\n",
       "        vertical-align: top;\n",
       "    }\n",
       "</style>\n",
       "<table border=\"1\" class=\"dataframe\">\n",
       "  <thead>\n",
       "    <tr style=\"text-align: right;\">\n",
       "      <th></th>\n",
       "      <th>uuid</th>\n",
       "      <th>ord_in_thread</th>\n",
       "      <th>author</th>\n",
       "      <th>published</th>\n",
       "      <th>title</th>\n",
       "      <th>text</th>\n",
       "      <th>language</th>\n",
       "      <th>crawled</th>\n",
       "      <th>site_url</th>\n",
       "      <th>country</th>\n",
       "      <th>domain_rank</th>\n",
       "      <th>thread_title</th>\n",
       "      <th>spam_score</th>\n",
       "      <th>main_img_url</th>\n",
       "      <th>replies_count</th>\n",
       "      <th>participants_count</th>\n",
       "      <th>likes</th>\n",
       "      <th>comments</th>\n",
       "      <th>shares</th>\n",
       "      <th>type</th>\n",
       "    </tr>\n",
       "  </thead>\n",
       "  <tbody>\n",
       "    <tr>\n",
       "      <th>0</th>\n",
       "      <td>6a175f46bcd24d39b3e962ad0f29936721db70db</td>\n",
       "      <td>0</td>\n",
       "      <td>Barracuda Brigade</td>\n",
       "      <td>2016-10-26T21:41:00.000+03:00</td>\n",
       "      <td>Muslims BUSTED: They Stole Millions In Gov’t B...</td>\n",
       "      <td>Print They should pay all the back all the mon...</td>\n",
       "      <td>english</td>\n",
       "      <td>2016-10-27T01:49:27.168+03:00</td>\n",
       "      <td>100percentfedup.com</td>\n",
       "      <td>US</td>\n",
       "      <td>25689.0</td>\n",
       "      <td>Muslims BUSTED: They Stole Millions In Gov’t B...</td>\n",
       "      <td>0.0</td>\n",
       "      <td>http://bb4sp.com/wp-content/uploads/2016/10/Fu...</td>\n",
       "      <td>0</td>\n",
       "      <td>1</td>\n",
       "      <td>0</td>\n",
       "      <td>0</td>\n",
       "      <td>0</td>\n",
       "      <td>bias</td>\n",
       "    </tr>\n",
       "    <tr>\n",
       "      <th>1</th>\n",
       "      <td>2bdc29d12605ef9cf3f09f9875040a7113be5d5b</td>\n",
       "      <td>0</td>\n",
       "      <td>reasoning with facts</td>\n",
       "      <td>2016-10-29T08:47:11.259+03:00</td>\n",
       "      <td>Re: Why Did Attorney General Loretta Lynch Ple...</td>\n",
       "      <td>Why Did Attorney General Loretta Lynch Plead T...</td>\n",
       "      <td>english</td>\n",
       "      <td>2016-10-29T08:47:11.259+03:00</td>\n",
       "      <td>100percentfedup.com</td>\n",
       "      <td>US</td>\n",
       "      <td>25689.0</td>\n",
       "      <td>Re: Why Did Attorney General Loretta Lynch Ple...</td>\n",
       "      <td>0.0</td>\n",
       "      <td>http://bb4sp.com/wp-content/uploads/2016/10/Fu...</td>\n",
       "      <td>0</td>\n",
       "      <td>1</td>\n",
       "      <td>0</td>\n",
       "      <td>0</td>\n",
       "      <td>0</td>\n",
       "      <td>bias</td>\n",
       "    </tr>\n",
       "    <tr>\n",
       "      <th>2</th>\n",
       "      <td>c70e149fdd53de5e61c29281100b9de0ed268bc3</td>\n",
       "      <td>0</td>\n",
       "      <td>Barracuda Brigade</td>\n",
       "      <td>2016-10-31T01:41:49.479+02:00</td>\n",
       "      <td>BREAKING: Weiner Cooperating With FBI On Hilla...</td>\n",
       "      <td>Red State : \\nFox News Sunday reported this mo...</td>\n",
       "      <td>english</td>\n",
       "      <td>2016-10-31T01:41:49.479+02:00</td>\n",
       "      <td>100percentfedup.com</td>\n",
       "      <td>US</td>\n",
       "      <td>25689.0</td>\n",
       "      <td>BREAKING: Weiner Cooperating With FBI On Hilla...</td>\n",
       "      <td>0.0</td>\n",
       "      <td>http://bb4sp.com/wp-content/uploads/2016/10/Fu...</td>\n",
       "      <td>0</td>\n",
       "      <td>1</td>\n",
       "      <td>0</td>\n",
       "      <td>0</td>\n",
       "      <td>0</td>\n",
       "      <td>bias</td>\n",
       "    </tr>\n",
       "  </tbody>\n",
       "</table>\n",
       "</div>"
      ],
      "text/plain": [
       "                                       uuid  ord_in_thread  \\\n",
       "0  6a175f46bcd24d39b3e962ad0f29936721db70db              0   \n",
       "1  2bdc29d12605ef9cf3f09f9875040a7113be5d5b              0   \n",
       "2  c70e149fdd53de5e61c29281100b9de0ed268bc3              0   \n",
       "\n",
       "                 author                      published  \\\n",
       "0     Barracuda Brigade  2016-10-26T21:41:00.000+03:00   \n",
       "1  reasoning with facts  2016-10-29T08:47:11.259+03:00   \n",
       "2     Barracuda Brigade  2016-10-31T01:41:49.479+02:00   \n",
       "\n",
       "                                               title  \\\n",
       "0  Muslims BUSTED: They Stole Millions In Gov’t B...   \n",
       "1  Re: Why Did Attorney General Loretta Lynch Ple...   \n",
       "2  BREAKING: Weiner Cooperating With FBI On Hilla...   \n",
       "\n",
       "                                                text language  \\\n",
       "0  Print They should pay all the back all the mon...  english   \n",
       "1  Why Did Attorney General Loretta Lynch Plead T...  english   \n",
       "2  Red State : \\nFox News Sunday reported this mo...  english   \n",
       "\n",
       "                         crawled             site_url country  domain_rank  \\\n",
       "0  2016-10-27T01:49:27.168+03:00  100percentfedup.com      US      25689.0   \n",
       "1  2016-10-29T08:47:11.259+03:00  100percentfedup.com      US      25689.0   \n",
       "2  2016-10-31T01:41:49.479+02:00  100percentfedup.com      US      25689.0   \n",
       "\n",
       "                                        thread_title  spam_score  \\\n",
       "0  Muslims BUSTED: They Stole Millions In Gov’t B...         0.0   \n",
       "1  Re: Why Did Attorney General Loretta Lynch Ple...         0.0   \n",
       "2  BREAKING: Weiner Cooperating With FBI On Hilla...         0.0   \n",
       "\n",
       "                                        main_img_url  replies_count  \\\n",
       "0  http://bb4sp.com/wp-content/uploads/2016/10/Fu...              0   \n",
       "1  http://bb4sp.com/wp-content/uploads/2016/10/Fu...              0   \n",
       "2  http://bb4sp.com/wp-content/uploads/2016/10/Fu...              0   \n",
       "\n",
       "   participants_count  likes  comments  shares  type  \n",
       "0                   1      0         0       0  bias  \n",
       "1                   1      0         0       0  bias  \n",
       "2                   1      0         0       0  bias  "
      ]
     },
     "execution_count": 7,
     "metadata": {},
     "output_type": "execute_result"
    }
   ],
   "source": [
    "df_fakenews.head(3)"
   ]
  },
  {
   "cell_type": "code",
   "execution_count": 8,
   "metadata": {},
   "outputs": [
    {
     "data": {
      "text/plain": [
       "[\"Turkey, Syria & Russia proving cooperation possible - Yasar Yakis, ex-Turkish FM Published time: 26 Oct, 2016 17:36 Edited time: 26 Oct, 2016 17:37 Get short URL Former Turkish Foreign Minister Yasar Yakis at the 13th annual meeting of the Valdai International Discussion Club in Sochi © Nina Zotina / Sputnik Journalists, politicians and academicians have descended upon the Russian Black Sea resort of Sochi for the 13th annual Valdai International Discussion Club at a time of deepening political fractures between Russia and the West. \\nRT spoke on the sidelines of the event with Yasar Yakis, former Foreign Minister of Turkey, for his opinion on a wide range of issues, including Russian sanctions and the ongoing Syrian conflict, which has driven a wedge between Russia and the US-led coalition. \\nLater in this section, RT also talks with Wolfgang Schussel, former Federal Chancellor of the Republic of Austria (2000-2007). Russia not to blame for Ukraine crisis and sanctions won't work (Op-Edge by John #Mearsheimer ) https://t.co/BlykHOfU4o #UChicago #Valdai — RT (@RT_com) 26 октября 2016 г. \\nRT: The Turkish–Russian relationship has had a lot of ups and downs over the last year or so. How do you see a future of the relationship particularly now with the regards to solving the Syria conflict, and now that the relationship appears to be at a better level than it was last year? \\nYasar Yakis: I knew that the Syrian crisis may help the Turkish–Russian relations to improve, because there are areas of cooperation. So far, Turkey and Russia agreed to cooperate on several specific questions. Both during the visit of President Recep Erdogan to St. Petersburg, and also during the recent visit of President Putin to Istanbul. \\nAlso at a later stage they talked on telephone to each other – I think it was exchange of concessions, if we may say so. Turkey was asked by Russia whether Turkey could mediate in order to persuade some of the opposition factions in Turkey to withdraw from Eastern Aleppo. If Turkey could do it, it would be a good service to Russia. And in exchange for it, I guess at least, Russia agreed to show understanding to the measures that Turkey is taking in the north of Syria in order to prevent the Kurdish factions to link the two Kurdish cantons. This is a new area of cooperation. \\nThe third area of cooperation is more specific, in my opinion. Now with the Kurdish question in the North of Syria, becoming more important than whether Bashar Assad should remain [in power] or not, because Turkey’s position at the beginning was that first priority has to be given to Assad to step aside, whereas now the Kurdish question has become more important, and which also requires that territorial integrity of Syria has to be preserved. If the Kurds declare their independence or autonomy, then the Syrian territorial integrity will be jeopardized. \\nSo Turkey is moving from: ‘Bashar Assad is going first’ to 'preservation of the territorial integrity of Syria' is a big step. At this point, Turkey’s national interest and the Syrian national interest are overlapping, they are coinciding. And Russia is also in favor of the preservation of the territorial integrity of Syria. These three countries can cooperate. Turkey has now a national interest in cooperating with Assad (…) \\nRT: There has been some discussion in the West about new sanctions being put on Russia, in particularity because of Aleppo. They have been rejected for the time being. Do you view sanctions as an effective measure of achieving foreign policy goals, or should dialogue always come first? \\nYY: Armed conflict is the worst thing. When armed could be avoided, the confrontation could be avoided by sanctions, it may be preferable; but no sanctions at all is the best. For the Aleppo question, the truth is not yet cleared out – who was wrong and why the ceasefire has collapsed etc. We do not know. We’re still waiting for a neutral body to find out what exactly happened in Aleppo and how the ceasefire collapsed. Before ignoring all these details, I don’t think that we should talk about the sanctions. And if possible the international community should not resort to sanctions, because it makes the tension in the international relations more acute. Tool to 'preserve the peace': #Valdai Club hosts intl speakers as tensions peak between Russia & West https://t.co/1pLwoD8HQZ — RT (@RT_com) 25 октября 2016 г. \\nRT next spoke with Wolfgang Schussel, former Federal Chancellor of the Republic of Austria (2000-2007).RT: A new round of sanctions against Russia was rejected for the time being. However, the old ones remain in place. How do you see the future of those relations between Russia and the EU? Do you expect the sanctions to be lifted anytime soon? \\nWolfgang Schussel: I think the most important element was last week’s summit in Berlin with Chancellor Angela Merkel, President [Vladimir] Putin, President [Petro] Poroshenko, and President [Francois] Hollande to find solutions or a road map for Ukraine to extend the ceasefire in Syria, and to recreate a kind of a feeling that a military solution is not possible neither in Ukraine, nor in Syria, or Iraq. What is needed are trust-building measures; a road map to bring about those units who are fighting against each other; to extend the ceasefire; to create an element where the relevant global and regional partners are sitting at the same table and finding a solution. This is the most important thing. The sanctions are always symbols. The symbol will remain. I am sure there is no short-term solution for that, because the problems as such are not disappearing. What is needed today is a return to the good old, as we say it in German, ‘Realpolitik.’ The soft power, economic development, the economic assistance, and diplomacy. This is the most important thing. \\nRT: You mentioned the conflicts in Iraq and Syria. There are currently two operations going on: in Mosul – carried out by the Western-led coalition, and in Aleppo – by the Damascus government and Russia. While the first one is being praised in the western media, saying that any civilians killed in Mosul is just 'collateral damage,' whereas in Aleppo, Russia is being accused of actual war crimes repeatedly by Washington and some others. Why do you think there are such two different narratives here going with these two operations? \\nWS: The main difference in Mosul – everybody is fighting and united against ISIS. This is quite clear. This is the common enemy, because what ISIS did in the last three years was terrible. They expelled, tortured, and killed civilians, mostly all the Christians had to leave the country, a country where they lived for centuries. The oldest part of identity and the Christian communities were living in these parts. And all of these parts are destroyed by ISIS. I hope, and I am not an expert what is really going on in Mosul there will be as few as possible civil causalities. \\nIn Aleppo, there are also radical parts, that is for sure, but also some other factors (...) I don’t deny the attempt of Russians to support President [Bashar] Assad – you can agree with that, or you can disagree. I think a military solution will not be possible in Syria. This is the difference with ISIS. In my opinion it is not helpful always to ask for regime change, but what is needed is to find a political solution to avoid civilian casualties. This is de facto today a very negative scenario. \\nRT: In around two weeks we’ll found out the result of the US presidential election. Regardless of which candidate ends up in the White House, how do you see relations between the triangle of Russia, the US, and the EU evolving? And how do you feel cooperation over the key issues, such as the Minsk agreements and Syria will change after November 8? \\nWS: First of all, I have seen a lot of very emotional election campaigns in American recent history – this is not the only one and not an outstanding one – this is a fight. This is a very personal fight, a very emotional fight. Whoever wins, foreign policy is more or less stringent and a continuous effort [for] all the major players: in America, in Russia, in Europe, in China. Everybody knows the problems, everybody knows the restrictions, the limits of power; nobody can act alone. I think what happens is the return to normal policy, to Realpolitik where the global players: America, Russia, China and Europe are sitting together, inviting also the regional partners to find cooperative ways, to find cooperation instead of confrontation. That is the only way. I think after the November elections, the Americans will return to normal business. The statements, views and opinions expressed in this column are solely those of the author and do not necessarily represent those of RT.\"]"
      ]
     },
     "execution_count": 8,
     "metadata": {},
     "output_type": "execute_result"
    }
   ],
   "source": [
    "list(df_fakenews.loc[:,'text'].sample(1))"
   ]
  },
  {
   "cell_type": "code",
   "execution_count": 9,
   "metadata": {},
   "outputs": [
    {
     "data": {
      "text/plain": [
       "(12999, 20)"
      ]
     },
     "execution_count": 9,
     "metadata": {},
     "output_type": "execute_result"
    }
   ],
   "source": [
    "df_fakenews.shape"
   ]
  },
  {
   "cell_type": "code",
   "execution_count": 10,
   "metadata": {},
   "outputs": [
    {
     "data": {
      "text/plain": [
       "bs            11492\n",
       "bias            443\n",
       "conspiracy      430\n",
       "hate            246\n",
       "satire          146\n",
       "state           121\n",
       "junksci         102\n",
       "fake             19\n",
       "Name: type, dtype: int64"
      ]
     },
     "execution_count": 10,
     "metadata": {},
     "output_type": "execute_result"
    }
   ],
   "source": [
    "df_fakenews['type'].value_counts()"
   ]
  },
  {
   "cell_type": "code",
   "execution_count": 11,
   "metadata": {},
   "outputs": [
    {
     "data": {
      "text/plain": [
       "9933"
      ]
     },
     "execution_count": 11,
     "metadata": {},
     "output_type": "execute_result"
    }
   ],
   "source": [
    "str_lengths = df_fakenews.text.str.len()\n",
    "len(str_lengths[str_lengths>1000])"
   ]
  },
  {
   "cell_type": "code",
   "execution_count": 12,
   "metadata": {
    "scrolled": true
   },
   "outputs": [
    {
     "data": {
      "image/png": "[encoded data removed]",
      "text/plain": [
       "<matplotlib.figure.Figure at 0x7fdc755ceda0>"
      ]
     },
     "metadata": {},
     "output_type": "display_data"
    }
   ],
   "source": [
    "plt.hist(str_lengths[str_lengths>1000],bins=40);"
   ]
  },
  {
   "cell_type": "markdown",
   "metadata": {},
   "source": [
    "## Filtered fakenews dataframe"
   ]
  },
  {
   "cell_type": "code",
   "execution_count": 211,
   "metadata": {},
   "outputs": [],
   "source": [
    "fakenews_df_filtered = df_fakenews[pd.notnull(df_fakenews['text'])]\n",
    "fakenews_df_filtered = fakenews_df_filtered[fakenews_df_filtered['language']=='english']\n",
    "delregex1= re.compile('(?:Be the First to Comment.*articles *$|Subscribe *$|\\nRelated:.*$| Share:.*$)',re.IGNORECASE|re.DOTALL)\n",
    "delregex2 = re.compile('(?:Submit your review|Follow on (?:Facebook|Twitter)|Print this post|Share on (?:Facebook|Twitter))',re.IGNORECASE)\n",
    "delregex3 = re.compile('(?:Century Wire|Newsinfo|Delivered by The Daily Sheeple\\nWe .*$|barracuda brigade)',re.IGNORECASE)\n",
    "delregex4 = re.compile('READ MORE ELECTION NEWS AT .*$',re.IGNORECASE,re.DOTALL)\n",
    "delregex5 = re.compile('^.{0,300}Leave a Comment |Leave a Reply Click here to get more.*',re.IGNORECASE|re.DOTALL)\n",
    "delregex6 = re.compile('(?:SUBSCRIBE on YouTube|[\\n\\.].*?like and share .*|^Share on Twitter.*\\.|This article was written by .*?\\.)',re.IGNORECASE)\n",
    "# delregex7 = re.compile('\\nRelated:.*$',re.IGNORECASE|re.DOTALL)\n",
    "# delregex8 = re.compile('Subscribe *$',re.IGNORECASE)\n",
    "for ind,txt in zip(fakenews_df_filtered.index,fakenews_df_filtered.text):\n",
    "    txt = re.sub(delregex1,\"\",txt)\n",
    "    txt = re.sub(delregex2,\"\",txt)\n",
    "    txt = re.sub(delregex3,\"\",txt)\n",
    "    txt = re.sub(delregex4,\"\",txt)\n",
    "    txt = re.sub(delregex5,\"\",txt)\n",
    "    txt = re.sub(delregex6,\"\",txt)\n",
    "    \n",
    "\n",
    "#     txt = re.sub(delregex7,\"\",txt)\n",
    "#     txt = re.sub(delregex8,\"\",txt)\n",
    "    fakenews_df_filtered.set_value(ind,'text',txt)\n",
    "fakenews_df_filtered = fakenews_df_filtered[fakenews_df_filtered.text.str.len()>850]\n",
    "text= fakenews_df_filtered.text"
   ]
  },
  {
   "cell_type": "code",
   "execution_count": 212,
   "metadata": {},
   "outputs": [
    {
     "data": {
      "text/plain": [
       "9692"
      ]
     },
     "execution_count": 212,
     "metadata": {},
     "output_type": "execute_result"
    }
   ],
   "source": [
    "len(fakenews_df_filtered)"
   ]
  },
  {
   "cell_type": "code",
   "execution_count": 209,
   "metadata": {
    "scrolled": true
   },
   "outputs": [
    {
     "name": "stdout",
     "output_type": "stream",
     "text": [
      "[8857] \n",
      " ['Thu, 27 Oct 2016 15:29 UTC The United States has called for a special meeting with Russia over alleged violations of the 1987 Intermediate-range Nuclear Forces (INF) treaty - a landmark Cold War-era agreement. Washington wants the Special Verification Commission (SVC) to discuss the problems related to the treaty\\'s compliance . The event is expected to take place in mid-November. The INF set up the Special Verification Commission as a way to deal with disputes surrounding the treaty. Ukraine, Belarus and Kazakhstan can also attend the meeting because they housed intermediate range missiles before the disintegration of the Soviet Union and remain parties to the treaty. No SVC meeting has been convened since 2003. Russia welcomes the United States\\' offer. «We have responded positively», said Mikhail Ulyanov, the head of Foreign Ministry\\'s Non-Proliferation and Arms Control Department. The treaty, which bans testing, producing, and possessing ground-launched ballistic and cruise missiles with ranges between 500 to 5,500 kilometers, eliminated an entire class of missiles from Europe, and set up an extensive system of verification and compliance. Two years ago, the United States first asserted that Russia was in violation of the treaty , by developing a missile system that fell within the INF prohibitions. Last year, Rose Gottemoeller, the Under Secretary of State for Arms Control and International Security, said that Russia risked provoking «military and economic countermeasures» if it continued to stonewall the INF issue. The US has not released any specifics about which exactly Russian missile is the source of the violation. It should be noted that if Washington cannot present compelling evidence of the Russian non-compliance, the United States could be seen by the world as the party that killed the INF Treaty . The only thing the State Department has said is that an unspecified Russian ground-launched cruise missile breaches the agreement. The issue has been in focus of US media outlets recently. For instance, an article published by The New York Times on October 19 said « Russia appears to be moving ahead with a program to produce a ground-launched cruise missile». According to the article, «the concern goes beyond those raised by the United States in July 2014, when the Obama administration said that Russia had violated the 1987 treaty on Intermediate-Range Nuclear Forces». On the very same day, The Wall Street Journal chimed in saying «The US is escalating a dispute with Russia over its accusations that Moscow possesses banned missile technology» . On October 17, two top House Republican chairmen - House Armed Services Committee Chairman Mac Thornberry (Texas) and House Intelligence Committee Chairman Devin Nunes (Calif.) - wrote a letter to the US president saying «It has become apparent to us that the situation regarding Russia\\'s violation has worsened, and Russia is now in material breach of the treaty» . Russia, in turn, has accused the US of violating the pact. According to Russia\\'s officials, the Aegis Ashore missile defense system that the US has activated in Romania and plans to install in Poland represents a violation of the treaty. Aegis Ashore uses the naval Mk-41 launching system, which is capable of firing long-range cruise missile. This is a blatant violation of the INF Treaty provisions. The treaty bans launchers capable of firing intermediate range missiles. Mk-41s deployed in Europe may launch short and intermediate range cruise missiles deep into Russian territory . A US intermediate range weapon launched from Romania or Poland would require only a short flight time to reach beyond the Urals. Russia has also said that American armed drones violate the treaty. The US plans to arm tactical aviation in Europe with modernized B61-12 guided warheads will virtually nullify all the benefits of the INF Treaty from the point of view of Russia\\'s security. The aircraft could fly from bases in Lithuania, Estonia and Poland to Russia\\'s largest cities in 15-20 minutes - not that much longer than the flight time of the missiles scuttled by the INF treaty. If the US really wants the talks to produce a positive result, all these concerns should be part of the agenda. The SVC meeting will take place against the background of Russia\\'s withdrawal from the plutonium disposal deal with the US because of Washington\\'s non-compliance , recent movement of nuclear-capable Iskander missiles to Kaliningrad , rising tensions over NATO\\'s ground forces to deploy near Russian borders in 2017, US withdrawal from the agreement over Syria and apparent disintegration of arms control regime. Only political unity among the major global powers can reverse the disintegration process. Non-compliance, technical or material, is not the only problem the INF faces. Russia and the US adherence to the treaty\\'s provisions does not prevent other countries from efforts to acquire ground-based intermediate range nuclear capability. The treaty should become multilateral. Russia and the US could cooperate in an effort to reach this goal with the help of the United Nations. It may be kind of forgotten today as so many things have happened since then, but in October 2007 Russia and the United States issued a joint statement to call on all countries to join a global INF Treaty addressing the First Committee (Disarmament and International Security) of the UN General Assembly. Setting the existing differences aside, the parties could revive the process in an effort to involve other states. The SVC meeting may become a venue for addressing other issues related to arms control. The concerns are there. Candid talk is the best way to address the burning problems of mutual interest. The US has demonstratively refused to discuss the host of problems related to the ballistic missile defense in Europe. This stance is erroneous. The US should change its approach to the problem. The two great powers do need a venue for arms control dialogue. The reached agreement to restart contacts within the framework of SVC against the background of US presidential election gives hope that the tide may gradually turn. Comment: As usual, the U.S. blames Russia for what the U.S. is doing. And as usual, they provide no evidence or argumentation. They can\\'t even say which Russian \"missile\" violates the treaty! Thankfully, these talks will give Russia the opportunity of bringing up the issue of the U.S.\\'s very real violation of the INF treaty.']\n"
     ]
    }
   ],
   "source": [
    "state = 30\n",
    "index1 = fakenews_df_filtered.sample(random_state=state).index\n",
    "print(list(fakenews_df_filtered.sample(random_state=state).index),'\\n',list(fakenews_df_filtered.sample(random_state=state).text))"
   ]
  },
  {
   "cell_type": "code",
   "execution_count": 210,
   "metadata": {
    "scrolled": true
   },
   "outputs": [
    {
     "data": {
      "text/plain": [
       "['Thu, 27 Oct 2016 15:29 UTC The United States has called for a special meeting with Russia over alleged violations of the 1987 Intermediate-range Nuclear Forces (INF) treaty - a landmark Cold War-era agreement. Washington wants the Special Verification Commission (SVC) to discuss the problems related to the treaty\\'s compliance . The event is expected to take place in mid-November. The INF set up the Special Verification Commission as a way to deal with disputes surrounding the treaty. Ukraine, Belarus and Kazakhstan can also attend the meeting because they housed intermediate range missiles before the disintegration of the Soviet Union and remain parties to the treaty. No SVC meeting has been convened since 2003. Russia welcomes the United States\\' offer. «We have responded positively», said Mikhail Ulyanov, the head of Foreign Ministry\\'s Non-Proliferation and Arms Control Department. The treaty, which bans testing, producing, and possessing ground-launched ballistic and cruise missiles with ranges between 500 to 5,500 kilometers, eliminated an entire class of missiles from Europe, and set up an extensive system of verification and compliance. Two years ago, the United States first asserted that Russia was in violation of the treaty , by developing a missile system that fell within the INF prohibitions. Last year, Rose Gottemoeller, the Under Secretary of State for Arms Control and International Security, said that Russia risked provoking «military and economic countermeasures» if it continued to stonewall the INF issue. The US has not released any specifics about which exactly Russian missile is the source of the violation. It should be noted that if Washington cannot present compelling evidence of the Russian non-compliance, the United States could be seen by the world as the party that killed the INF Treaty . The only thing the State Department has said is that an unspecified Russian ground-launched cruise missile breaches the agreement. The issue has been in focus of US media outlets recently. For instance, an article published by The New York Times on October 19 said « Russia appears to be moving ahead with a program to produce a ground-launched cruise missile». According to the article, «the concern goes beyond those raised by the United States in July 2014, when the Obama administration said that Russia had violated the 1987 treaty on Intermediate-Range Nuclear Forces». On the very same day, The Wall Street Journal chimed in saying «The US is escalating a dispute with Russia over its accusations that Moscow possesses banned missile technology» . On October 17, two top House Republican chairmen - House Armed Services Committee Chairman Mac Thornberry (Texas) and House Intelligence Committee Chairman Devin Nunes (Calif.) - wrote a letter to the US president saying «It has become apparent to us that the situation regarding Russia\\'s violation has worsened, and Russia is now in material breach of the treaty» . Russia, in turn, has accused the US of violating the pact. According to Russia\\'s officials, the Aegis Ashore missile defense system that the US has activated in Romania and plans to install in Poland represents a violation of the treaty. Aegis Ashore uses the naval Mk-41 launching system, which is capable of firing long-range cruise missile. This is a blatant violation of the INF Treaty provisions. The treaty bans launchers capable of firing intermediate range missiles. Mk-41s deployed in Europe may launch short and intermediate range cruise missiles deep into Russian territory . A US intermediate range weapon launched from Romania or Poland would require only a short flight time to reach beyond the Urals. Russia has also said that American armed drones violate the treaty. The US plans to arm tactical aviation in Europe with modernized B61-12 guided warheads will virtually nullify all the benefits of the INF Treaty from the point of view of Russia\\'s security. The aircraft could fly from bases in Lithuania, Estonia and Poland to Russia\\'s largest cities in 15-20 minutes - not that much longer than the flight time of the missiles scuttled by the INF treaty. If the US really wants the talks to produce a positive result, all these concerns should be part of the agenda. The SVC meeting will take place against the background of Russia\\'s withdrawal from the plutonium disposal deal with the US because of Washington\\'s non-compliance , recent movement of nuclear-capable Iskander missiles to Kaliningrad , rising tensions over NATO\\'s ground forces to deploy near Russian borders in 2017, US withdrawal from the agreement over Syria and apparent disintegration of arms control regime. Only political unity among the major global powers can reverse the disintegration process. Non-compliance, technical or material, is not the only problem the INF faces. Russia and the US adherence to the treaty\\'s provisions does not prevent other countries from efforts to acquire ground-based intermediate range nuclear capability. The treaty should become multilateral. Russia and the US could cooperate in an effort to reach this goal with the help of the United Nations. It may be kind of forgotten today as so many things have happened since then, but in October 2007 Russia and the United States issued a joint statement to call on all countries to join a global INF Treaty addressing the First Committee (Disarmament and International Security) of the UN General Assembly. Setting the existing differences aside, the parties could revive the process in an effort to involve other states. The SVC meeting may become a venue for addressing other issues related to arms control. The concerns are there. Candid talk is the best way to address the burning problems of mutual interest. The US has demonstratively refused to discuss the host of problems related to the ballistic missile defense in Europe. This stance is erroneous. The US should change its approach to the problem. The two great powers do need a venue for arms control dialogue. The reached agreement to restart contacts within the framework of SVC against the background of US presidential election gives hope that the tide may gradually turn. Comment: As usual, the U.S. blames Russia for what the U.S. is doing. And as usual, they provide no evidence or argumentation. They can\\'t even say which Russian \"missile\" violates the treaty! Thankfully, these talks will give Russia the opportunity of bringing up the issue of the U.S.\\'s very real violation of the INF treaty.']"
      ]
     },
     "execution_count": 210,
     "metadata": {},
     "output_type": "execute_result"
    }
   ],
   "source": [
    "list(df_fakenews.iloc[index1,5])"
   ]
  },
  {
   "cell_type": "markdown",
   "metadata": {},
   "source": [
    "## Count vectorizer and PCA, straight up "
   ]
  },
  {
   "cell_type": "code",
   "execution_count": 222,
   "metadata": {
    "collapsed": true
   },
   "outputs": [],
   "source": [
    "vectorizer = CountVectorizer(strip_accents='ascii',analyzer='word',lowercase=True,stop_words='english',min_df=10)"
   ]
  },
  {
   "cell_type": "code",
   "execution_count": 223,
   "metadata": {},
   "outputs": [
    {
     "data": {
      "text/plain": [
       "CountVectorizer(analyzer='word', binary=False, decode_error='strict',\n",
       "        dtype=<class 'numpy.int64'>, encoding='utf-8', input='content',\n",
       "        lowercase=True, max_df=1.0, max_features=None, min_df=10,\n",
       "        ngram_range=(1, 1), preprocessor=None, stop_words='english',\n",
       "        strip_accents='ascii', token_pattern='(?u)\\\\b\\\\w\\\\w+\\\\b',\n",
       "        tokenizer=None, vocabulary=None)"
      ]
     },
     "execution_count": 223,
     "metadata": {},
     "output_type": "execute_result"
    }
   ],
   "source": [
    "vectorizer.fit(text)"
   ]
  },
  {
   "cell_type": "code",
   "execution_count": 224,
   "metadata": {
    "collapsed": true
   },
   "outputs": [],
   "source": [
    "# print(vectorizer.get_feature_names())"
   ]
  },
  {
   "cell_type": "code",
   "execution_count": 225,
   "metadata": {},
   "outputs": [
    {
     "data": {
      "text/plain": [
       "21801"
      ]
     },
     "execution_count": 225,
     "metadata": {},
     "output_type": "execute_result"
    }
   ],
   "source": [
    "len(vectorizer.get_feature_names())"
   ]
  },
  {
   "cell_type": "code",
   "execution_count": 226,
   "metadata": {
    "collapsed": true
   },
   "outputs": [],
   "source": [
    "feat_names_dirty = vectorizer.get_feature_names()"
   ]
  },
  {
   "cell_type": "code",
   "execution_count": 227,
   "metadata": {
    "collapsed": true
   },
   "outputs": [],
   "source": [
    "regex='[^\\d_]*'\n",
    "feat_names_clean= [re.findall(regex,s)[0] for s in feat_names_dirty if (re.findall(regex,s)!=[] and len(re.findall(regex,s)[0])>=4 and len(re.findall(regex,s)[0])<20)]\n",
    "\n",
    "feat_names_clean= list(set(feat_names_clean))"
   ]
  },
  {
   "cell_type": "code",
   "execution_count": 228,
   "metadata": {
    "collapsed": true
   },
   "outputs": [],
   "source": [
    "# [w for w in feat_names_dirty if len(w)>=20]"
   ]
  },
  {
   "cell_type": "code",
   "execution_count": 229,
   "metadata": {},
   "outputs": [
    {
     "data": {
      "text/plain": [
       "Counter({4: 1590,\n",
       "         5: 2402,\n",
       "         6: 3007,\n",
       "         7: 3326,\n",
       "         8: 3084,\n",
       "         9: 2568,\n",
       "         10: 1906,\n",
       "         11: 1199,\n",
       "         12: 720,\n",
       "         13: 369,\n",
       "         14: 170,\n",
       "         15: 68,\n",
       "         16: 29,\n",
       "         17: 15,\n",
       "         18: 6,\n",
       "         19: 2})"
      ]
     },
     "execution_count": 229,
     "metadata": {},
     "output_type": "execute_result"
    }
   ],
   "source": [
    "Counter([len(i) for i in feat_names_clean])"
   ]
  },
  {
   "cell_type": "code",
   "execution_count": 230,
   "metadata": {
    "collapsed": true
   },
   "outputs": [],
   "source": [
    "# print(feat_names_clean)"
   ]
  },
  {
   "cell_type": "code",
   "execution_count": 231,
   "metadata": {},
   "outputs": [
    {
     "data": {
      "text/plain": [
       "20461"
      ]
     },
     "execution_count": 231,
     "metadata": {},
     "output_type": "execute_result"
    }
   ],
   "source": [
    "len(feat_names_clean)"
   ]
  },
  {
   "cell_type": "code",
   "execution_count": 232,
   "metadata": {
    "collapsed": true
   },
   "outputs": [],
   "source": [
    "vectorizer = CountVectorizer(vocabulary=feat_names_clean)"
   ]
  },
  {
   "cell_type": "code",
   "execution_count": 233,
   "metadata": {},
   "outputs": [
    {
     "data": {
      "text/plain": [
       "CountVectorizer(analyzer='word', binary=False, decode_error='strict',\n",
       "        dtype=<class 'numpy.int64'>, encoding='utf-8', input='content',\n",
       "        lowercase=True, max_df=1.0, max_features=None, min_df=1,\n",
       "        ngram_range=(1, 1), preprocessor=None, stop_words=None,\n",
       "        strip_accents=None, token_pattern='(?u)\\\\b\\\\w\\\\w+\\\\b',\n",
       "        tokenizer=None,\n",
       "        vocabulary=['subsequently', 'handbook', 'romania', 'alleged', 'carriers', 'confirm', 'grips', 'swathes', 'burkhart', 'reigniting', 'unruh', 'foreseeable', 'profile', 'govern', 'chopping', 'residency', 'tactic', 'internally', 'ranchers', 'prism', 'warped', 'roofs', 'seed', 'understood', 'underestimat... 'expands', 'tentatively', 'illegal', 'impromptu', 'tubes', 'forceful', 'predisposed', 'appointees'])"
      ]
     },
     "execution_count": 233,
     "metadata": {},
     "output_type": "execute_result"
    }
   ],
   "source": [
    "vectorizer.fit(text)"
   ]
  },
  {
   "cell_type": "code",
   "execution_count": 234,
   "metadata": {},
   "outputs": [
    {
     "name": "stdout",
     "output_type": "stream",
     "text": [
      "['subsequently', 'handbook', 'romania', 'alleged', 'carriers', 'confirm', 'grips', 'swathes', 'burkhart', 'reigniting', 'unruh', 'foreseeable', 'profile', 'govern', 'chopping', 'residency', 'tactic', 'internally', 'ranchers', 'prism', 'warped', 'roofs', 'seed', 'understood', 'underestimating', 'pharmacy', 'reunification', 'pretext', 'jill', 'topics', 'feverishly', 'attorney', 'insect', 'distancing', 'epsteins', 'amended', 'unilateral', 'wrecked', 'projecting', 'remnants', 'canyon', 'device', 'corrupting', 'controlling', 'bureaucrat', 'shiny', 'compound', 'fairy', 'retribution', 'term', 'subordinate', 'litmus', 'cartoon', 'accredited', 'amazon', 'carnage', 'coca', 'cracked', 'deterrent', 'menu', 'princes', 'denomination', 'intervals', 'lynch', 'pressure', 'tribute', 'cholesterol', 'passive', 'wellness', 'simplistic', 'unpopular', 'east', 'proxy', 'pussy', 'snowden', 'idiocy', 'schwerin', 'unattended', 'contrasts', 'development', 'unipolar', 'warlords', 'addressing', 'soross', 'crackdown', 'bucks', 'aboriginal', 'alcoholism', 'cloaked', 'emptiness', 'pointless', 'initially', 'disappointed', 'pyramids', 'craven', 'steins', 'step', 'closest', 'manic', 'ancestry', 'blame', 'demolishing', 'keepers', 'satire', 'staging', 'deepening', 'flow', 'foolish', 'cryptic', 'paraguay', 'bubbles', 'ground', 'pragmatic', 'iskander', 'research', 'outlandish', 'arrayed', 'outrage', 'brotherhood', 'smears', 'unwittingly', 'outnumber', 'funds', 'samuelson', 'difficult', 'hangover', 'colonies', 'mnuchin', 'philanthropist', 'policymakers', 'sniffing', 'subscriber', 'switzerland', 'poisoning', 'holder', 'illustrious', 'egregiously', 'discernment', 'pensioners', 'forces', 'exploiting', 'parrot', 'southwestern', 'sterilization', 'illuminating', 'deeds', 'shattered', 'antarctica', 'bacon', 'simultaneously', 'walk', 'injustices', 'feat', 'malik', 'portions', 'standpoint', 'tyranny', 'golds', 'cooking', 'shawn', 'laptops', 'cringe', 'indias', 'rapper', 'faiths', 'intention', 'publicly', 'writ', 'loses', 'profession', 'faithless', 'footsteps', 'kicking', 'layered', 'taxed', 'sanitizer', 'orlando', 'malloch', 'clutching', 'monica', 'afforded', 'channeled', 'connect', 'bleachbit', 'leviathan', 'istanbul', 'lucid', 'shootings', 'toothpaste', 'published', 'censorship', 'deia', 'obstacle', 'legs', 'efficiency', 'waning', 'strives', 'lifes', 'bomber', 'rapacious', 'personal', 'bubbling', 'weights', 'lebanon', 'impartially', 'opposed', 'hindi', 'expanse', 'pleads', 'siding', 'effuse', 'specific', 'barbarity', 'adolescence', 'nazis', 'scalia', 'cling', 'pilgrims', 'shortages', 'kill', 'indianapolis', 'isolating', 'delusion', 'incessantly', 'original', 'communism', 'prescribe', 'toned', 'veiled', 'shit', 'christopher', 'rounds', 'depends', 'sake', 'civilian', 'health', 'improbable', 'prompts', 'todays', 'commodities', 'activates', 'copying', 'extraterrestrials', 'spains', 'exopolitics', 'formal', 'variation', 'lakota', 'grass', 'colonialism', 'bathe', 'gather', 'meters', 'cliques', 'preceding', 'correction', 'reopen', 'spirited', 'victories', 'imposing', 'kentucky', 'commend', 'mechanic', 'ranger', 'pies', 'elimination', 'crossed', 'assets', 'kagan', 'smear', 'fingerprints', 'researchers', 'addicts', 'offices', 'abdul', 'swipe', 'vaults', 'saints', 'educating', 'boss', 'trash', 'dedication', 'draining', 'msnbcs', 'improving', 'republics', 'modernity', 'enslaving', 'residues', 'reached', 'expectancy', 'sleazy', 'blames', 'play', 'facade', 'sott', 'authorized', 'wishing', 'blistering', 'averse', 'exhibited', 'changer', 'temper', 'afraid', 'forget', 'count', 'insurrection', 'perpetually', 'beauty', 'haters', 'doctors', 'classifications', 'blowers', 'associate', 'gloria', 'discrepancies', 'intrigue', 'ignoring', 'marred', 'rooms', 'tablespoons', 'secondly', 'victims', 'board', 'hardcore', 'riddance', 'retreat', 'squad', 'aerosol', 'spirits', 'excursion', 'overlap', 'professors', 'salacious', 'kidding', 'urgent', 'builder', 'obstruct', 'conducive', 'factions', 'banking', 'slit', 'campaigns', 'constitutes', 'eradicated', 'penetrated', 'iceland', 'stares', 'zombies', 'delicious', 'govt', 'jones', 'phosphorous', 'outside', 'dictators', 'unofficial', 'spreadsheet', 'attend', 'viability', 'staffers', 'wheat', 'unesco', 'contemporary', 'establishments', 'outlier', 'kellyanne', 'liver', 'partnering', 'previously', 'oblige', 'interior', 'naturally', 'reflection', 'paid', 'abandoning', 'ordeal', 'polarized', 'disorders', 'enlarged', 'converting', 'relation', 'diagnosed', 'pursues', 'suggestions', 'parkinsons', 'template', 'escorted', 'promotional', 'cyberattacks', 'supreme', 'unturned', 'doves', 'enforces', 'greetings', 'richard', 'sage', 'exert', 'humiliated', 'negatives', 'goals', 'olympic', 'quarterfinals', 'newsletter', 'countys', 'kosovo', 'crescendo', 'victorian', 'stance', 'parting', 'loophole', 'notorious', 'farmers', 'commercially', 'federal', 'greet', 'revolving', 'erbil', 'mistakes', 'austrian', 'shaming', 'proceeded', 'texan', 'sing', 'perceptions', 'formaldehyde', 'abandons', 'outbreaks', 'redirected', 'ellis', 'surefire', 'cool', 'limbaugh', 'purchases', 'updates', 'sere', 'dash', 'wildlife', 'denials', 'wong', 'cambridge', 'declines', 'coach', 'astronauts', 'destroyers', 'heterosexual', 'luxury', 'outrages', 'absolute', 'spun', 'handout', 'casual', 'discontinued', 'flowing', 'placing', 'starring', 'healthiest', 'sounds', 'trumpism', 'froman', 'treasury', 'cummings', 'trough', 'charitable', 'unopposed', 'stays', 'divergence', 'unquestioned', 'kirby', 'designer', 'hackers', 'saddest', 'cosmos', 'heal', 'malleable', 'hysteria', 'contra', 'miscalculation', 'petitions', 'steadfast', 'waving', 'cleanses', 'prison', 'pursue', 'statehood', 'functionality', 'normal', 'trespassing', 'mend', 'instant', 'mocks', 'vehicle', 'encounters', 'offered', 'intergovernmental', 'prefect', 'fanning', 'entirely', 'horizons', 'executioners', 'hijackers', 'legislate', 'informally', 'operate', 'modification', 'sequel', 'standard', 'think', 'wealthier', 'frothing', 'importing', 'laundry', 'implied', 'denise', 'managing', 'jumpsuit', 'bolstering', 'justified', 'weiner', 'guarantees', 'obliterated', 'immune', 'defuse', 'worldview', 'malicious', 'participation', 'cernovich', 'profiteers', 'jordan', 'campbell', 'conceded', 'evident', 'tiger', 'renewing', 'unintentional', 'prematurely', 'stationed', 'wounded', 'jail', 'ridiculous', 'overtly', 'sarmat', 'strips', 'brigade', 'nail', 'churkin', 'tougher', 'publishers', 'bulgarian', 'dennis', 'testifying', 'podium', 'anniversary', 'administrators', 'bribing', 'fired', 'bribed', 'depended', 'yiannopoulos', 'jungles', 'voltaire', 'battalions', 'bathrooms', 'colleague', 'mainland', 'tingling', 'enterprise', 'joins', 'avowed', 'stumbled', 'unguarded', 'pets', 'programmer', 'lama', 'recklessly', 'gmos', 'incrementally', 'modus', 'cherry', 'emailid', 'frustrate', 'kidneys', 'beach', 'michigan', 'observable', 'quarters', 'reinforce', 'uber', 'user', 'volume', 'writer', 'idealism', 'scoundrels', 'swinging', 'furious', 'curtain', 'ambiguous', 'erica', 'affects', 'film', 'wrcb', 'tanks', 'houthis', 'waterways', 'yeah', 'choice', 'longevity', 'genetically', 'stephen', 'duncan', 'creature', 'good', 'cheyenne', 'dictatorial', 'statisticians', 'doubts', 'hose', 'usaid', 'bark', 'dissimilar', 'lethal', 'monsantos', 'harrowing', 'philadelphianoting', 'shoigu', 'turmeric', 'unarmed', 'matches', 'hippie', 'ryan', 'deceiving', 'washingtonsaying', 'allergy', 'reaches', 'cemetery', 'acoustic', 'weasel', 'mythical', 'abandonment', 'enclave', 'referred', 'lurking', 'differences', 'communities', 'signature', 'miniature', 'racially', 'wielded', 'starved', 'cavusoglu', 'irreparable', 'leaf', 'husband', 'gardening', 'quipping', 'virtually', 'plans', 'gutting', 'stare', 'model', 'nightclub', 'countries', 'messenger', 'moderately', 'sheriffs', 'joseph', 'peaks', 'monday', 'treated', 'tigris', 'ensured', 'hill', 'greasy', 'reckoning', 'distractions', 'cons', 'jettisoned', 'digs', 'scooped', 'examine', 'equally', 'favored', 'adjustment', 'juggernaut', 'lavrov', 'imposed', 'transcripts', 'trevor', 'belligerence', 'thatll', 'speculator', 'usury', 'nicely', 'dollars', 'vampire', 'dolphins', 'despises', 'eating', 'colorful', 'facto', 'player', 'ceuta', 'mercilessly', 'spencer', 'higher', 'cigarette', 'hurtful', 'measure', 'decentralization', 'expansion', 'predecessors', 'wreaking', 'citys', 'candles', 'civil', 'socialized', 'counterfeiting', 'islamists', 'actual', 'remembers', 'poison', 'ipad', 'blackberry', 'dupe', 'hernandez', 'inferior', 'condone', 'endless', 'evasion', 'felt', 'product', 'recounted', 'buddies', 'incoming', 'nosed', 'shocks', 'weiners', 'coincidentally', 'trumpers', 'lemon', 'lowly', 'prioritize', 'viewers', 'grabs', 'oscar', 'week', 'worsen', 'loose', 'clare', 'fascination', 'miracle', 'attributed', 'standardized', 'survivors', 'bone', 'sadistic', 'nurture', 'truck', 'productivity', 'inferiority', 'lottery', 'encompasses', 'watching', 'ossetia', 'dine', 'googles', 'horse', 'indulgent', 'drying', 'anne', 'prosper', 'seizes', 'wish', 'homs', 'independents', 'proceeding', 'olympics', 'conspiratorial', 'cogs', 'repetitive', 'monsters', 'onion', 'topple', 'landlords', 'mega', 'tongue', 'extinct', 'siberia', 'christs', 'bobby', 'taken', 'deadline', 'bankster', 'doses', 'forbid', 'ushering', 'submit', 'batteries', 'classical', 'invention', 'refuel', 'kurds', 'takedown', 'timeless', 'commenter', 'speculated', 'users', 'rebound', 'waters', 'monitor', 'party', 'derision', 'enemys', 'destructive', 'baathist', 'ideologue', 'darker', 'compile', 'bodys', 'frustrating', 'kicker', 'mistakenly', 'declaration', 'layers', 'overlooking', 'desires', 'sliced', 'termination', 'uninhabitable', 'wrongfully', 'devastated', 'derail', 'trumpland', 'occasion', 'proto', 'airstrike', 'consummate', 'unto', 'caution', 'curry', 'loving', 'browns', 'bumps', 'swiftly', 'vendetta', 'interconnected', 'distinctive', 'main', 'needy', 'relevance', 'rental', 'throw', 'database', 'dropped', 'brighter', 'altering', 'friendly', 'regions', 'gangs', 'circumstantial', 'glaring', 'olives', 'shenanigans', 'unsettling', 'malaise', 'dominance', 'unbecoming', 'africom', 'approach', 'overthrew', 'swapping', 'uninformed', 'assuage', 'reflecting', 'hoaxes', 'jurors', 'balloon', 'apparatchiks', 'slept', 'fond', 'microsoft', 'esque', 'convey', 'education', 'oscars', 'finger', 'assimilate', 'considering', 'formally', 'jumped', 'entertaining', 'rubin', 'dwellings', 'hadron', 'horton', 'materials', 'penchant', 'whispering', 'swimming', 'hardship', 'personnel', 'shooting', 'libs', 'planetary', 'frenzy', 'terrorize', 'differ', 'transmitting', 'anomalies', 'evoke', 'exercising', 'components', 'export', 'rewrite', 'location', 'timetable', 'calling', 'dead', 'genocidal', 'hellhole', 'memphis', 'rubio', 'wounding', 'torched', 'acrobat', 'caved', 'inanimate', 'cabrera', 'spur', 'urges', 'halloween', 'implication', 'headed', 'urged', 'crowned', 'includes', 'superdelegates', 'unpredictability', 'vaccination', 'discussed', 'help', 'shortened', 'advantageous', 'farce', 'westernized', 'inaction', 'profitable', 'soared', 'numerical', 'ethically', 'chronicle', 'indebted', 'discharge', 'genes', 'hyperinflation', 'philly', 'documented', 'equal', 'fabricated', 'fought', 'accords', 'freedom', 'constituting', 'blogger', 'prevailing', 'fortress', 'albright', 'intolerant', 'conspiring', 'recreational', 'sultan', 'stunningly', 'airs', 'detroit', 'budapest', 'corp', 'advisors', 'crowds', 'constantly', 'elias', 'oldest', 'commonwealth', 'emotions', 'stranglehold', 'flagship', 'breasts', 'syndrome', 'freer', 'experienced', 'crashes', 'informational', 'mushrooms', 'resumed', 'scraps', 'rescind', 'unlucky', 'recognizes', 'defense', 'orbiting', 'nanny', 'issuance', 'conflict', 'description', 'manners', 'misleading', 'speechless', 'joking', 'telling', 'dolan', 'especially', 'detectives', 'whispered', 'fictional', 'lodged', 'spies', 'squeezed', 'deceptive', 'slope', 'incomes', 'sugary', 'apart', 'radars', 'personified', 'wondered', 'guardian', 'sidewalk', 'perfection', 'approvals', 'promises', 'sounded', 'timber', 'attitude', 'fema', 'phase', 'cute', 'inhuman', 'parade', 'oceti', 'emitting', 'sanderss', 'chad', 'investment', 'viewpoints', 'enraged', 'pathology', 'explaining', 'slay', 'oslo', 'styled', 'blissful', 'jerome', 'psychopath', 'vitaly', 'cesspool', 'regards', 'reassert', 'pyramid', 'region', 'grounded', 'industrial', 'doctrine', 'lips', 'speculators', 'defence', 'whine', 'statesman', 'adjacent', 'look', 'boosts', 'blink', 'edifice', 'hacks', 'leveraging', 'surprising', 'slice', 'perceive', 'service', 'alec', 'bellicose', 'option', 'regain', 'shatter', 'redistributed', 'guild', 'recently', 'dedicated', 'senators', 'terminate', 'lutheran', 'transcend', 'medically', 'dissonance', 'lucy', 'register', 'undeserved', 'substituted', 'units', 'flattened', 'sharia', 'kingdom', 'parochial', 'queen', 'admissions', 'angrily', 'frantically', 'rumsfeld', 'astral', 'concedes', 'shreds', 'measurable', 'screening', 'bleeds', 'workshop', 'adjusting', 'wraps', 'ditching', 'skilled', 'malfeasance', 'gulag', 'legalized', 'size', 'jameson', 'loyalties', 'sheeple', 'darling', 'commandeered', 'gilbert', 'shaded', 'surprise', 'thank', 'legal', 'aggressiveness', 'collectivism', 'blower', 'longstanding', 'intoxicated', 'principles', 'vigilant', 'riches', 'emblazoned', 'flabby', 'sour', 'genetics', 'admission', 'answer', 'backstory', 'soviet', 'strangely', 'minimizing', 'pace', 'resemblance', 'concessions', 'inducing', 'contribution', 'clara', 'stall', 'mineral', 'killings', 'longtime', 'headlined', 'vice', 'dapl', 'extending', 'lightning', 'specializes', 'bitter', 'transmit', 'wahhabi', 'lender', 'disposable', 'incorporating', 'shanghai', 'fairness', 'unescos', 'predicament', 'cable', 'antichrist', 'disciplinary', 'enrolled', 'gofundme', 'grounding', 'methodically', 'rehearsal', 'believed', 'pnac', 'sunk', 'talents', 'documentary', 'jewelry', 'warning', 'maimed', 'tuned', 'occupies', 'cruel', 'mercola', 'intrigued', 'parent', 'discredit', 'tour', 'tissue', 'awareness', 'socio', 'belligerent', 'shea', 'alliance', 'educators', 'kenny', 'wasserman', 'wider', 'mechanics', 'negotiators', 'ongoing', 'strait', 'subpoena', 'preppers', 'shining', 'jefferson', 'terrible', 'dumped', 'protested', 'surround', 'dissolved', 'inbox', 'mccabe', 'chills', 'doctrinal', 'elaborate', 'theyd', 'vets', 'compulsory', 'pounds', 'prompted', 'detest', 'synthesis', 'match', 'fishing', 'innovations', 'historic', 'allotted', 'bustling', 'nina', 'insinuating', 'trapped', 'disconnection', 'downhill', 'obvious', 'realizing', 'reaching', 'arsenic', 'invented', 'nuts', 'unanswered', 'healing', 'lingering', 'horribly', 'arnold', 'time', 'implementation', 'protection', 'consistent', 'resorts', 'sorted', 'widows', 'unhappiness', 'natos', 'combination', 'disruptive', 'largest', 'opponent', 'entertain', 'resonating', 'trainers', 'underscores', 'wildfires', 'distasteful', 'neural', 'complete', 'leaks', 'inline', 'outings', 'bullets', 'palace', 'infowars', 'witty', 'branding', 'deported', 'infrastructural', 'damning', 'zinc', 'ensued', 'affiliation', 'dopamine', 'trembling', 'amazed', 'supranational', 'filmmaker', 'akin', 'telecommunications', 'theories', 'bans', 'computerized', 'impartial', 'charter', 'gesture', 'competence', 'skip', 'israelis', 'sanctity', 'porter', 'respective', 'reliable', 'roberts', 'variations', 'vastly', 'agitated', 'committed', 'corrected', 'divine', 'living', 'polite', 'reptiles', 'tread', 'succumb', 'savers', 'recognise', 'phoenix', 'hassle', 'happen', 'flickr', 'slap', 'deaths', 'ussr', 'introduction', 'trained', 'tract', 'neurotoxins', 'diluted', 'imposition', 'algae', 'confessed', 'winding', 'crimean', 'witch', 'forecast', 'satisfactory', 'pretexts', 'warner', 'bode', 'cooperative', 'outspoken', 'abundant', 'confiscate', 'roam', 'cough', 'shrewd', 'cabinet', 'hillarys', 'insurgency', 'remembering', 'indo', 'cadre', 'debasement', 'stubborn', 'westboro', 'fischer', 'method', 'todd', 'vodka', 'featuring', 'polling', 'channeling', 'resolve', 'unavailable', 'saigon', 'scrambling', 'destinies', 'sync', 'vegan', 'earns', 'proposition', 'cocktail', 'inexplicably', 'colonel', 'correctly', 'donna', 'screwing', 'runner', 'assault', 'points', 'footage', 'bilderberg', 'discernible', 'dupont', 'spans', 'twilight', 'saviour', 'morning', 'pray', 'cabal', 'clad', 'feminist', 'consensual', 'heartening', 'evoked', 'impotence', 'populace', 'terms', 'lanes', 'deal', 'scofield', 'bows', 'dispel', 'slander', 'imports', 'kennedys', 'assailant', 'boot', 'threatens', 'lawfully', 'goofy', 'rethinking', 'retracted', 'reporting', 'open', 'rings', 'based', 'dncs', 'meetings', 'vyacheslav', 'infested', 'greener', 'proximity', 'zakharova', 'ballot', 'sectarian', 'planted', 'probing', 'names', 'bracket', 'perplexed', 'unaccounted', 'inserts', 'shockwaves', 'menace', 'catastrophic', 'populate', 'suffocating', 'marvel', 'institutionalized', 'starred', 'independent', 'bourgeoisie', 'inheritance', 'baseline', 'wheres', 'exemplary', 'leeway', 'pork', 'tzrwu', 'trains', 'questioned', 'celsius', 'controversies', 'reminds', 'international', 'coordinates', 'percentages', 'millionaire', 'upfront', 'timed', 'drops', 'factual', 'famine', 'frisk', 'italian', 'squalor', 'february', 'physiological', 'raged', 'disguised', 'notoriously', 'refers', 'chains', 'contested', 'intervened', 'advising', 'falsehoods', 'eats', 'incoherent', 'philosophies', 'agreements', 'rectify', 'detestable', 'mathematical', 'threads', 'gestapo', 'prerogative', 'rbth', 'clip', 'contradict', 'opportunities', 'regulations', 'unveiling', 'hispanics', 'unionized', 'neighboring', 'embraced', 'taxis', 'observers', 'posturing', 'indication', 'magnate', 'pertain', 'aggression', 'scrubbed', 'scholars', 'occupants', 'annexing', 'newborn', 'oreilly', 'addictions', 'beholden', 'nick', 'yuge', 'statute', 'coziness', 'emergent', 'readily', 'engage', 'similarly', 'kneel', 'pesticides', 'capabilities', 'paraphrase', 'linda', 'revealing', 'binge', 'decadent', 'doubt', 'earthquake', 'swollen', 'showdown', 'options', 'travelgate', 'dailey', 'semi', 'rate', 'introduces', 'cows', 'northeast', 'corralled', 'animals', 'recent', 'implicating', 'shade', 'depressions', 'startling', 'imprisonment', 'orders', 'structuring', 'escapades', 'jeffery', 'ghettos', 'diploma', 'notifying', 'alluding', 'validate', 'stains', 'chessboard', 'talked', 'captions', 'digits', 'poor', 'stephanopoulos', 'underprivileged', 'walking', 'waterford', 'waved', 'hypertension', 'immaculate', 'mays', 'absentee', 'collapsed', 'amoral', 'coined', 'gmail', 'salazar', 'tremendous', 'opinion', 'argentina', 'unproven', 'gloomy', 'interstate', 'calm', 'teach', 'looking', 'biosphere', 'tankers', 'entrances', 'unifying', 'wrongful', 'chimney', 'denigrated', 'superficial', 'organ', 'irgc', 'decorate', 'nice', 'offgridoutpost', 'hellyer', 'succumbing', 'petrol', 'gazprom', 'somalia', 'root', 'salmon', 'charges', 'behavioral', 'furtherance', 'clinton', 'versus', 'monkeys', 'wagon', 'condolences', 'unwarranted', 'historically', 'knees', 'rancher', 'shove', 'adult', 'peasants', 'initiatives', 'brady', 'universally', 'life', 'utilize', 'washington', 'cancelled', 'individuals', 'sidney', 'scrutinize', 'acute', 'chiefs', 'enigmatic', 'tides', 'weaponry', 'ecosystems', 'saeed', 'guess', 'psychological', 'questioning', 'trap', 'descended', 'chemically', 'lackeys', 'margin', 'nonstop', 'pageant', 'cuck', 'remnant', 'traitors', 'parenthood', 'energize', 'sprung', 'compilation', 'murders', 'feeds', 'maced', 'toes', 'mike', 'tattoos', 'accuse', 'theorist', 'installment', 'enmity', 'behaviors', 'assesses', 'treacherous', 'corollary', 'musician', 'culmination', 'incited', 'watchers', 'flame', 'growth', 'estonia', 'harm', 'cyberwarfare', 'likened', 'pact', 'sinus', 'chung', 'comanche', 'defiant', 'tenth', 'grenada', 'shill', 'germans', 'incredible', 'gosnell', 'rapees', 'skirts', 'contrasted', 'slut', 'sole', 'underscored', 'bounced', 'dreamer', 'sanders', 'asserting', 'medicine', 'tracker', 'grapple', 'unjustified', 'mattress', 'statue', 'criminally', 'differentiate', 'contraction', 'characters', 'qatari', 'skew', 'statism', 'correspondent', 'catching', 'feeble', 'sinister', 'irregularities', 'rattled', 'wooden', 'shambles', 'swim', 'xenophobes', 'filmed', 'pervasive', 'heavyweight', 'specialists', 'antagonistic', 'hindus', 'terrific', 'voted', 'period', 'quinoa', 'occasional', 'supported', 'traffickers', 'manning', 'museums', 'empowers', 'gunshot', 'cosby', 'infrared', 'opednews', 'resign', 'anarchy', 'design', 'innuendo', 'morons', 'simplest', 'sloan', 'worked', 'slinging', 'mediterranean', 'parole', 'consuming', 'according', 'tension', 'platform', 'loudest', 'resurrected', 'unnamed', 'whats', 'attest', 'native', 'symbolized', 'ecowatch', 'frederick', 'critic', 'impact', 'polled', 'enclosed', 'intoday', 'taxation', 'instructing', 'tomb', 'directions', 'delightful', 'serves', 'oversight', 'shrinks', 'rests', 'stressing', 'obscured', 'unlock', 'incorporate', 'addiction', 'anew', 'wave', 'whistles', 'reposted', 'awful', 'sets', 'nonprofit', 'citations', 'abort', 'disarmament', 'passes', 'intercepted', 'calmed', 'declared', 'sounding', 'helping', 'gamble', 'fearful', 'debated', 'articulates', 'containing', 'receptive', 'formative', 'mused', 'jacksonville', 'bother', 'coverup', 'successes', 'jails', 'congo', 'regaining', 'holographic', 'justification', 'lewis', 'markedly', 'selfie', 'warming', 'mistresses', 'mutations', 'revelation', 'covert', 'flares', 'revolt', 'picks', 'losing', 'identities', 'bernays', 'proxies', 'sooner', 'ions', 'sharpest', 'ethanol', 'ilya', 'leverage', 'athe', 'luke', 'jubilant', 'gavin', 'logic', 'sarah', 'android', 'shouts', 'oligarchic', 'dominant', 'candor', 'misused', 'displace', 'happiness', 'rotation', 'hammam', 'transformed', 'mosques', 'cartels', 'dump', 'staple', 'sees', 'descending', 'giving', 'reinforcements', 'galaxy', 'estimate', 'revealed', 'limb', 'nonprofits', 'geographically', 'mayoral', 'rudd', 'melted', 'virgins', 'defund', 'instilled', 'seventh', 'enigma', 'exec', 'observed', 'germany', 'monies', 'sunnis', 'cias', 'reasoned', 'superiority', 'sharpton', 'thimerosal', 'phone', 'zerohedge', 'officialdom', 'river', 'grinding', 'succeeded', 'simpson', 'agreeing', 'marxofascism', 'visually', 'wikileak', 'hustle', 'preferred', 'lock', 'salesman', 'vans', 'approaching', 'question', 'cindy', 'continually', 'sank', 'euphemistically', 'beam', 'expel', 'nato', 'oranges', 'referral', 'enormous', 'water', 'militaries', 'aggressors', 'grandfathers', 'leaked', 'agricultural', 'munitions', 'heretics', 'wield', 'cheek', 'gulf', 'shrines', 'gore', 'personally', 'architectural', 'diarrhea', 'connects', 'enumerated', 'shuffle', 'pollinate', 'illustrations', 'identifying', 'clusters', 'tuning', 'spoke', 'hurdle', 'realm', 'spying', 'anarchists', 'trucks', 'contradiction', 'nauseated', 'kick', 'concerted', 'duopoly', 'malley', 'qataris', 'schism', 'clintonian', 'employs', 'curriculum', 'antibiotic', 'touting', 'gearing', 'nodded', 'rank', 'servers', 'ukraine', 'vogue', 'weep', 'endeavor', 'amounted', 'crook', 'seep', 'interpreting', 'shore', 'discreet', 'emergency', 'ukip', 'tatar', 'surpassed', 'duckworth', 'dislocation', 'quintessential', 'requires', 'sustaining', 'minority', 'haunting', 'marriages', 'wilderness', 'francois', 'neighbourhoods', 'probes', 'converged', 'opportune', 'authentically', 'usmc', 'verified', 'approve', 'jabhat', 'asinine', 'belize', 'owed', 'researcher', 'optimists', 'robin', 'sudanese', 'slogan', 'acknowledgment', 'profiteering', 'acrobats', 'macro', 'triumph', 'stricter', 'dumbed', 'barclays', 'excesses', 'americanism', 'leslie', 'occupied', 'turns', 'plots', 'combustion', 'medias', 'common', 'signifies', 'betrayed', 'astounding', 'palatable', 'psychologist', 'radical', 'deleted', 'upheld', 'innocent', 'severed', 'capitalist', 'centric', 'floodgates', 'industry', 'permitting', 'sweden', 'concerns', 'imperialistic', 'loads', 'operators', 'riders', 'curfew', 'states', 'dont', 'resist', 'nauseating', 'rites', 'stalking', 'insecure', 'elena', 'balkan', 'monopoly', 'robbery', 'carve', 'contagious', 'requisite', 'spooked', 'stimulating', 'disheartening', 'handsomely', 'jazeera', 'achievement', 'kilometers', 'drowning', 'martins', 'theorists', 'wiser', 'penis', 'benchmark', 'robberies', 'hitlers', 'polity', 'promising', 'lanterns', 'ruslan', 'stratton', 'relinquish', 'objecting', 'batons', 'agence', 'concepts', 'lord', 'maduros', 'adept', 'lanny', 'motors', 'popov', 'loyal', 'boasts', 'month', 'alarms', 'demonetisation', 'directorate', 'fanatic', 'suffer', 'tales', 'restrictive', 'navies', 'onslaught', 'bath', 'promulgated', 'things', 'demagogy', 'jars', 'specialist', 'shape', 'receptor', 'salaries', 'families', 'untouched', 'horrific', 'anita', 'controls', 'cinema', 'nitrogen', 'stratosphere', 'enforcements', 'hillaryclinton', 'pistol', 'protectionist', 'presumed', 'commercial', 'sunshine', 'eluded', 'scaring', 'transgressions', 'imploding', 'elective', 'purify', 'token', 'cricket', 'combine', 'europe', 'multimedia', 'protective', 'self', 'turned', 'thailand', 'pigs', 'sorts', 'legion', 'repercussions', 'practitioners', 'rider', 'surged', 'seize', 'turnover', 'trademark', 'schakowsky', 'cctv', 'insists', 'exterminated', 'thatd', 'alain', 'namefield', 'couple', 'spent', 'transparently', 'bilingual', 'apathetic', 'appendix', 'pluto', 'renewed', 'humankind', 'sterling', 'psycho', 'permeates', 'distance', 'flourishing', 'digging', 'buzz', 'musical', 'allocate', 'purge', 'printer', 'pander', 'beans', 'outgoing', 'abundantly', 'pinch', 'oppressor', 'worse', 'narendra', 'cassette', 'hearsay', 'internationalist', 'shipping', 'pizza', 'duma', 'paced', 'restricted', 'initiative', 'evolution', 'ideologically', 'secretive', 'spherical', 'unnecessary', 'texas', 'thomson', 'calculation', 'ailment', 'deterring', 'intended', 'predetermined', 'provisions', 'straws', 'ivana', 'lodge', 'bananas', 'mafia', 'site', 'engaging', 'randomly', 'wrecking', 'succinctly', 'bombarding', 'sinai', 'rappoport', 'snack', 'amino', 'noise', 'mistreated', 'liberalism', 'controversial', 'diktat', 'interference', 'mistress', 'disturbances', 'livid', 'buildup', 'canisters', 'flatter', 'mathew', 'philippines', 'dried', 'banana', 'fide', 'immigrants', 'myths', 'boosted', 'payback', 'subterranean', 'definitive', 'crocodile', 'cauldron', 'portrayed', 'announcements', 'hammered', 'tentacles', 'compassionate', 'flint', 'newer', 'broccoli', 'favorite', 'written', 'nancy', 'chips', 'reich', 'phenomenal', 'andy', 'casey', 'shocked', 'gays', 'haberman', 'anonymously', 'nikkei', 'heavily', 'blockaded', 'madonna', 'bakr', 'nowadays', 'spilling', 'promiscuous', 'kendall', 'profanity', 'spheres', 'personalized', 'apologize', 'criticisms', 'metabolic', 'advertised', 'informants', 'ambassadors', 'agony', 'closure', 'pure', 'singled', 'suckers', 'troll', 'disadvantage', 'pesky', 'carroll', 'protocols', 'rendering', 'welch', 'caracas', 'kirchmeier', 'reformist', 'blatantly', 'slim', 'experiments', 'patiently', 'putative', 'dismay', 'billed', 'accomplishment', 'thought', 'cigar', 'complacent', 'poppy', 'reluctant', 'circulating', 'toothless', 'devote', 'lifted', 'soldier', 'knowingly', 'considerations', 'brian', 'censored', 'eldest', 'propagated', 'begs', 'onboard', 'duplicates', 'defeats', 'predicated', 'bound', 'exclusion', 'annual', 'park', 'artistic', 'replicated', 'complicit', 'teneos', 'stun', 'malfunction', 'anti', 'lovely', 'colors', 'mundane', 'hegemony', 'thousands', 'scotland', 'clothing', 'dynasties', 'buddhism', 'delight', 'protesting', 'magnified', 'comes', 'mosaic', 'censor', 'backwards', 'compatriots', 'disposition', 'firearm', 'decisive', 'linked', 'obama', 'outrageous', 'supervisor', 'splits', 'donor', 'undecided', 'cottage', 'mourners', 'qaddafi', 'preceded', 'pulls', 'insisted', 'indicates', 'bargain', 'trusted', 'kathy', 'trashing', 'allegedly', 'expresses', 'detainee', 'adjustments', 'burdens', 'interrogation', 'affirm', 'arrivals', 'processed', 'wholesome', 'notices', 'slimy', 'slaughtering', 'sprayed', 'haram', 'authority', 'coexist', 'clarence', 'tackled', 'eichenwald', 'french', 'hugely', 'martha', 'peak', 'morally', 'importantly', 'palestine', 'fatally', 'hindering', 'mcconnell', 'prayerful', 'safeguard', 'backed', 'balloting', 'applause', 'govts', 'reps', 'breakfast', 'dyer', 'darpa', 'interfax', 'sponsorship', 'resulting', 'blonde', 'flashed', 'micah', 'pete', 'blocked', 'seventies', 'materially', 'therapeutic', 'prevail', 'lefty', 'knowledgeable', 'construction', 'saddled', 'flexible', 'workshops', 'misdemeanor', 'moderators', 'fists', 'kilograms', 'worshipers', 'haarp', 'somewhat', 'eloquently', 'focuses', 'pitchforks', 'schools', 'ascended', 'tended', 'beliefs', 'fairfax', 'insights', 'evergreen', 'attends', 'baseless', 'iphone', 'nationals', 'outsider', 'photographed', 'repressive', 'banned', 'insatiable', 'used', 'formation', 'supremacists', 'dynasty', 'groundwater', 'kingdoms', 'nationalism', 'sent', 'shines', 'coma', 'merger', 'articulated', 'columbus', 'despite', 'anxious', 'destitute', 'icelands', 'falsified', 'quell', 'reporters', 'severely', 'brethren', 'scum', 'interplay', 'kaepernick', 'prevented', 'sands', 'created', 'airport', 'ingesting', 'oecd', 'threatened', 'clubs', 'violators', 'diligently', 'trunk', 'forecasted', 'riddle', 'crimeas', 'providing', 'tremors', 'ditch', 'complicity', 'dramatic', 'matter', 'entail', 'homeowner', 'immersed', 'teens', 'derivatives', 'treading', 'veliky', 'expeditions', 'watchdogs', 'mayer', 'closing', 'dining', 'information', 'stamping', 'nativist', 'shook', 'land', 'unfolding', 'mars', 'moroccans', 'brainforce', 'ridiculously', 'scam', 'distortion', 'eloquent', 'heinous', 'prosecute', 'suggesting', 'courses', 'defects', 'trans', 'transition', 'bankers', 'infants', 'substituting', 'eccentric', 'initial', 'deceptions', 'hospital', 'malfunctioning', 'neoliberal', 'pages', 'crosses', 'counseled', 'prevalent', 'tide', 'arch', 'carelessly', 'true', 'billy', 'enforced', 'complain', 'disintegrate', 'goats', 'resignation', 'oligarchs', 'sovereignty', 'sweetheart', 'stds', 'affair', 'digest', 'rankings', 'originating', 'unintended', 'dues', 'completion', 'thugs', 'courageous', 'deserts', 'illogical', 'laymans', 'russo', 'dancing', 'underline', 'despotism', 'prone', 'battered', 'helpfully', 'dailymail', 'impropriety', 'provocations', 'deceased', 'amidst', 'reneging', 'stockpile', 'eased', 'frustration', 'opinions', 'crops', 'serve', 'inaudible', 'infused', 'rhetorical', 'lacked', 'tech', 'baltic', 'payoff', 'drinking', 'rallies', 'impression', 'clinic', 'tangled', 'uncovered', 'abject', 'adolescent', 'marijuana', 'forthcoming', 'enacted', 'guarantee', 'lays', 'idly', 'patients', 'relatives', 'enthusiasts', 'puppy', 'barbara', 'tactical', 'unfavorable', 'wednesday', 'portfolio', 'burgeoning', 'needed', 'preconditions', 'eastward', 'pound', 'banding', 'formations', 'paranormal', 'asia', 'owned', 'curbing', 'preaching', 'plantations', 'heterons', 'enjoyment', 'stalingrad', 'divided', 'bailout', 'girlfriends', 'authentic', 'bombings', 'lindsay', 'href', 'neocon', 'precinct', 'concluded', 'undone', 'creamer', 'wisdom', 'choosing', 'cheryl', 'breakaway', 'finnish', 'disturbing', 'misunderstanding', 'carcinogen', 'catholicism', 'cookie', 'northwest', 'assad', 'bogged', 'ministerial', 'rasmussen', 'yall', 'downing', 'mutilated', 'droves', 'menstrual', 'messy', 'administer', 'depth', 'renegade', 'participated', 'excitedly', 'lets', 'indiscretions', 'negotiator', 'redistribute', 'wastewater', 'consumer', 'homeland', 'pitched', 'paranoia', 'smuggled', 'staunchly', 'soothe', 'unresolved', 'armor', 'warrants', 'forest', 'patriotrising', 'australias', 'marshal', 'boost', 'depicted', 'lease', 'angela', 'discarded', 'types', 'nonviolence', 'barrett', 'proved', 'renting', 'shorty', 'finland', 'unhrc', 'truthfeednews', 'fallujah', 'afghan', 'sorrow', 'weakest', 'blamed', 'flipping', 'unexpected', 'economy', 'recipe', 'follower', 'march', 'runs', 'amateur', 'cesar', 'intellectually', 'incompatible', 'legalization', 'sanctioned', 'inferno', 'germ', 'borrowers', 'wade', 'filed', 'honor', 'stabilization', 'perverted', 'spawn', 'arguing', 'festival', 'acceptance', 'plastered', 'inspirational', 'infiltration', 'wiped', 'youd', 'takeover', 'insulation', 'contradictions', 'grip', 'nonsense', 'bomb', 'shame', 'parted', 'prize', 'began', 'drown', 'fried', 'felonies', 'holly', 'jamie', 'organism', 'pain', 'reciprocal', 'nigel', 'novembers', 'interests', 'kerry', 'pierre', 'totals', 'accordance', 'rifle', 'unbreakable', 'permits', 'contamination', 'females', 'lust', 'calendar', 'contains', 'crew', 'ease', 'handed', 'mileage', 'vile', 'bending', 'scott', 'slid', 'allegation', 'noted', 'sochi', 'throne', 'xenophobe', 'bells', 'academic', 'knit', 'forever', 'loaned', 'marriage', 'resisted', 'stimuli', 'tolerated', 'reconciliation', 'sovereign', 'supposed', 'saga', 'vicinity', 'orion', 'wieners', 'notify', 'smearing', 'await', 'nelson', 'scandalous', 'survivopedia', 'centres', 'endure', 'stink', 'interns', 'klux', 'volatility', 'left', 'inception', 'immaterial', 'neglected', 'approximate', 'marched', 'courageously', 'millennium', 'single', 'chief', 'peruse', 'managed', 'militarys', 'instead', 'milwaukee', 'anglin', 'specializing', 'marxist', 'resistance', 'humansarefree', 'unconfirmed', 'betrayal', 'segregated', 'vatican', 'priest', 'rouhani', 'allahu', 'arts', 'annoyed', 'decapitation', 'bury', 'emitted', 'incentives', 'humbly', 'mixing', 'sleepy', 'generosity', 'stinks', 'counterattack', 'hurricanes', 'markers', 'roses', 'disabled', 'discourage', 'engine', 'cruisers', 'determination', 'milosevic', 'nostalgia', 'westerners', 'surplus', 'sergei', 'overdose', 'roosevelts', 'customary', 'delivered', 'malnourished', 'monster', 'compounded', 'council', 'fabrications', 'militiamen', 'aboard', 'rife', 'depict', 'surge', 'rejoicing', 'reconcile', 'tragedy', 'heartland', 'lectured', 'abbey', 'defector', 'barren', 'evacuations', 'condemn', 'drugged', 'funny', 'tore', 'mechanism', 'wickedness', 'pocket', 'banner', 'profiting', 'thrill', 'sahara', 'raping', 'troubling', 'washingtonaccording', 'molotov', 'taiwan', 'naval', 'drum', 'flames', 'flooding', 'cards', 'industrialists', 'jerry', 'surely', 'yards', 'bankruptcy', 'energetic', 'came', 'earn', 'outdated', 'perilous', 'combining', 'deck', 'neocolonial', 'duration', 'sizeable', 'exacerbate', 'rack', 'bombardments', 'empowered', 'tenths', 'unbalanced', 'skype', 'elian', 'disbanded', 'positive', 'represent', 'resolves', 'chicken', 'salman', 'specials', 'windfall', 'hardly', 'coincided', 'blockages', 'endorse', 'granted', 'kidney', 'unapologetic', 'selfless', 'gall', 'devise', 'stamped', 'advertisements', 'hallows', 'mosul', 'mikhail', 'entrepreneurs', 'popcorn', 'poisons', 'room', 'account', 'nullify', 'reprint', 'perestroika', 'lost', 'chile', 'asserted', 'torture', 'adoption', 'marked', 'monitoring', 'protege', 'strategic', 'enlighten', 'ceasefire', 'assassinated', 'climbing', 'envision', 'justin', 'penal', 'allen', 'enablers', 'dehydrated', 'deliverance', 'economists', 'gratuitous', 'enter', 'cider', 'grudgingly', 'hinted', 'logged', 'bundle', 'yorker', 'ladder', 'demographics', 'backroom', 'harder', 'specify', 'mixes', 'harlem', 'continuum', 'discussion', 'aspiring', 'corner', 'leased', 'staggering', 'structural', 'table', 'concurred', 'soluble', 'apex', 'hand', 'logistics', 'atoms', 'sarcastic', 'broad', 'congratulate', 'cousin', 'explanatory', 'dent', 'distributor', 'speculative', 'eruption', 'fingerprint', 'kindness', 'pharisees', 'scapegoat', 'staggered', 'omar', 'unwilling', 'victimhood', 'whistleblowers', 'notwithstanding', 'bombshell', 'negotiable', 'transportation', 'federico', 'analyses', 'gandhi', 'mobilization', 'temperamental', 'nasa', 'horrors', 'pseudo', 'targeted', 'inland', 'divisiveness', 'leaped', 'abstention', 'hyper', 'regarding', 'roundtable', 'forefront', 'slowdown', 'extend', 'concentrate', 'alertness', 'formats', 'cooper', 'harbor', 'rappers', 'studies', 'summit', 'hypocrisy', 'surroundings', 'obsolete', 'filters', 'slides', 'rajendar', 'koreas', 'terror', 'zionism', 'numb', 'registers', 'itemprop', 'contacting', 'eurasia', 'applicable', 'nano', 'droughts', 'endured', 'reads', 'segments', 'elaborates', 'endangers', 'heaps', 'orbital', 'comparing', 'publicity', 'credibly', 'sandberg', 'communitys', 'vivid', 'gotnews', 'schemes', 'crossing', 'obeyed', 'procedural', 'tremor', 'ridden', 'interjected', 'swearing', 'pulling', 'bullying', 'cumulative', 'representing', 'hellish', 'shipped', 'strangle', 'urgently', 'note', 'helicopters', 'segregation', 'dandelion', 'ralph', 'denominated', 'shtf', 'freak', 'faults', 'fellows', 'popping', 'earning', 'flashpoint', 'sums', 'briarwood', 'overwhelmingly', 'threw', 'president', 'deflection', 'transactions', 'radio', 'brevity', 'dakota', 'harms', 'outset', 'emulate', 'yellowstone', 'mailbox', 'nausea', 'electromagnetic', 'sequester', 'palin', 'actress', 'barricade', 'lilian', 'neutralizing', 'prostitutes', 'separation', 'took', 'kirkuk', 'years', 'rays', 'exporter', 'mouthpiece', 'length', 'tooth', 'climbed', 'isaac', 'replaces', 'bidens', 'listen', 'banta', 'completed', 'equitable', 'sourced', 'daughter', 'byron', 'cyprus', 'euros', 'servicemen', 'involve', 'timeline', 'uncomfortable', 'requested', 'arabs', 'devon', 'ages', 'savior', 'stakeholders', 'encoded', 'crime', 'abroad', 'destabilize', 'babys', 'saying', 'antiviral', 'teen', 'relocation', 'potus', 'powerpoint', 'ideologues', 'prestigious', 'annoying', 'worsening', 'decorative', 'clintonaTMs', 'misleaders', 'quiet', 'rioting', 'indirect', 'consumers', 'organizational', 'proprietary', 'pollute', 'sydney', 'culminated', 'tiresome', 'obliterating', 'fluid', 'instinct', 'occasionally', 'possible', 'screw', 'insipid', 'inherently', 'democracynow', 'levers', 'obsessive', 'conquered', 'divides', 'rugged', 'knife', 'streaming', 'unified', 'apogee', 'neurons', 'congressman', 'extracted', 'hefty', 'carved', 'faraway', 'sbcglobal', 'late', 'transfers', 'giza', 'gods', 'acceleration', 'similar', 'yates', 'athens', 'exalted', 'regroup', 'kadziks', 'sacrifices', 'soybeans', 'tanzania', 'enjoys', 'proponents', 'eagle', 'humanitarian', 'powerhouse', 'forerunner', 'persists', 'players', 'interstellar', 'freshman', 'smarter', 'shocker', 'gasses', 'trepidation', 'journals', 'beneficiaries', 'doubted', 'exerts', 'bickering', 'wags', 'johns', 'clients', 'anchor', 'deviation', 'loan', 'sacked', 'limiting', 'electors', 'whitaker', 'vividly', 'undoing', 'judgmental', 'thyroid', 'blockade', 'peskov', 'toppling', 'boxing', 'hornberger', 'outlook', 'rare', 'fractions', 'grandmother', 'leak', 'swathe', 'daisyluther', 'continuous', 'leads', 'globalized', 'peering', 'uruguay', 'souza', 'offences', 'collins', 'dries', 'guerrilla', 'prostrate', 'actions', 'delano', 'constrained', 'failures', 'nationwide', 'stripped', 'furthering', 'negro', 'demo', 'servicing', 'steven', 'toppled', 'happened', 'unsubstantiated', 'helen', 'yielding', 'positioning', 'thrusts', 'perils', 'tensions', 'army', 'residence', 'statement', 'copy', 'socialist', 'struck', 'diverse', 'facie', 'competitiveness', 'mean', 'adheres', 'star', 'organisms', 'regime', 'satanists', 'rounded', 'responsible', 'tyson', 'shady', 'trillions', 'apology', 'deposit', 'gadgets', 'elections', 'avalanche', 'canning', 'interactive', 'ottomans', 'pits', 'sagittarius', 'born', 'worn', 'retaliate', 'endorses', 'frankly', 'arbitrary', 'commits', 'cody', 'populations', 'phosphorus', 'runners', 'booking', 'counterinsurgency', 'soda', 'weird', 'barber', 'temperate', 'appreciation', 'richer', 'saturation', 'listener', 'satisfied', 'lucus', 'declassified', 'qualification', 'swear', 'communists', 'acutely', 'leftover', 'official', 'engagements', 'deeply', 'rabbits', 'atomic', 'negativity', 'office', 'ribbon', 'tables', 'temples', 'constituent', 'paul', 'offensives', 'inconsequential', 'flotilla', 'mining', 'regret', 'annexation', 'austin', 'venezuelan', 'egypts', 'maritime', 'limp', 'reverence', 'friggin', 'eventual', 'pleases', 'guarded', 'inverted', 'suspension', 'vitally', 'summer', 'pests', 'defining', 'frost', 'rupee', 'inextricably', 'leukemia', 'malls', 'prohibited', 'pandoras', 'chosen', 'pakistani', 'abiding', 'nevertrump', 'trumpeted', 'inciting', 'navy', 'whiteness', 'adolf', 'altruistic', 'offends', 'subtracting', 'stunning', 'actor', 'positively', 'bash', 'cuomo', 'bleed', 'devils', 'impressive', 'miscreants', 'buckets', 'gramsci', 'disciples', 'sowed', 'worms', 'assures', 'precipice', 'locus', 'really', 'emphasizing', 'punch', 'honorable', 'jealous', 'psychoactive', 'unhealthy', 'enhances', 'consume', 'roundup', 'unpleasant', 'pfizer', 'algorithm', 'consist', 'diane', 'immigration', 'calorie', 'gras', 'spewing', 'angle', 'accomplices', 'howard', 'bullshit', 'innocents', 'arms', 'levels', 'sensing', 'people', 'couldn', 'settings', 'titus', 'restrictions', 'decide', 'tobacco', 'weve', 'disturbed', 'lynn', 'dirty', 'manages', 'students', 'philanthropy', 'reclaim', 'honest', 'redcoats', 'plant', 'retainer', 'phrases', 'contacts', 'paulcraigroberts', 'medals', 'reinforced', 'discover', 'real', 'medical', 'theodore', 'torpedo', 'absorbed', 'challenge', 'organizations', 'reigned', 'league', 'superluminal', 'reform', 'davos', 'mysteriously', 'repugnant', 'deleting', 'livelihoods', 'graphics', 'asleep', 'totality', 'deluge', 'thirsty', 'bank', 'gambit', 'shredding', 'heck', 'comedian', 'magician', 'organization', 'pulp', 'combatants', 'nationalized', 'viktor', 'tinder', 'friedman', 'chambers', 'leftwing', 'newsweek', 'cameron', 'silencing', 'jason', 'massage', 'restriction', 'bass', 'color', 'delta', 'frequent', 'neutrality', 'reacted', 'serfs', 'panic', 'relative', 'sack', 'criminals', 'eddie', 'engages', 'faltering', 'ethiopia', 'neocons', 'pleaded', 'vast', 'garage', 'perspective', 'preserve', 'tantamount', 'bombers', 'metals', 'peoples', 'valley', 'whereabouts', 'thered', 'befitting', 'loser', 'ideological', 'hovering', 'minister', 'vance', 'interventionism', 'calculations', 'schuttler', 'aryan', 'rear', 'hesitant', 'sluts', 'panel', 'endangering', 'examines', 'legislature', 'policy', 'sustenance', 'veteran', 'ethos', 'demolition', 'exaggerate', 'nominate', 'stats', 'oppressors', 'sending', 'dislikes', 'accept', 'trails', 'outage', 'turtles', 'kasich', 'journalistic', 'challenging', 'anonymous', 'distrusted', 'writings', 'ineffective', 'genitalia', 'arrangements', 'flipped', 'targeting', 'greece', 'strange', 'hoops', 'babies', 'plank', 'mafias', 'anecdotes', 'censors', 'unabated', 'stringent', 'cancers', 'boom', 'automobiles', 'breaking', 'compliant', 'isolationism', 'tenfold', 'theme', 'expansionist', 'originally', 'salisbury', 'nuland', 'alien', 'detat', 'custody', 'consultant', 'generals', 'involvement', 'normally', 'arena', 'suspiciously', 'fakery', 'secession', 'hammer', 'blackout', 'paris', 'hole', 'substitution', 'date', 'woefully', 'battery', 'cuba', 'prefer', 'fostered', 'whipped', 'edwards', 'respectively', 'warren', 'weaker', 'rebelled', 'realizes', 'retain', 'escaping', 'autocratic', 'implanted', 'lick', 'painting', 'disappoint', 'satans', 'smiths', 'outlawing', 'bribe', 'confidant', 'unregulated', 'alike', 'agencies', 'cordial', 'capability', 'illegals', 'chatter', 'electoral', 'overreaching', 'outlawed', 'podesta', 'preserving', 'dating', 'voting', 'holiest', 'landline', 'apparatus', 'jonas', 'crazy', 'acquitted', 'eliminated', 'goodrich', 'kevin', 'opposes', 'imprisoning', 'assembling', 'finishes', 'kung', 'baghdadi', 'moisture', 'vicious', 'game', 'undercover', 'asian', 'centrist', 'floors', 'adorable', 'latina', 'crimea', 'laborers', 'nonsecure', 'julian', 'intend', 'renee', 'entitlement', 'invading', 'subpoenas', 'collaborator', 'integrated', 'teachings', 'iranians', 'mercenary', 'miraculously', 'retract', 'laid', 'unemployment', 'chorus', 'audios', 'classified', 'jointly', 'rash', 'bashar', 'wives', 'gabriel', 'restaurants', 'sticks', 'tuesday', 'encouragement', 'paragraph', 'assembled', 'subway', 'butt', 'mainly', 'totally', 'escalates', 'conscious', 'rubbish', 'wilson', 'blacked', 'traces', 'crashing', 'keefe', 'raided', 'verdict', 'unbound', 'scrapped', 'bigoted', 'progressing', 'purdue', 'shred', 'stern', 'willingness', 'mildly', 'utopian', 'iris', 'standby', 'barred', 'challenges', 'alan', 'expulsion', 'civilized', 'undermining', 'sputnik', 'decreased', 'demagoguery', 'bones', 'selling', 'compare', 'squat', 'beds', 'uproar', 'animal', 'membrane', 'installed', 'taoist', 'reputable', 'brilliance', 'proliferated', 'manifests', 'facilitates', 'christine', 'militarism', 'ovarian', 'boundaries', 'devotion', 'freedomrider', 'inhibit', 'slip', 'marital', 'missions', 'withdraw', 'yatsenyuk', 'fortune', 'benefiting', 'libertarianism', 'continuity', 'competent', 'ludicrous', 'fomented', 'equipment', 'evokes', 'ambassador', 'exact', 'grew', 'humphrey', 'schiff', 'wrench', 'fomc', 'hebrews', 'cropped', 'twitchy', 'unspoken', 'insisting', 'ropes', 'precedence', 'shorthand', 'boko', 'collage', 'shielded', 'toilets', 'veins', 'sighted', 'sensible', 'falsehood', 'shoved', 'democrats', 'uneducated', 'jihadism', 'missouri', 'read', 'golf', 'punchline', 'aipac', 'laden', 'facet', 'racial', 'work', 'universitys', 'guys', 'break', 'dome', 'gennady', 'baseball', 'multidimensional', 'neera', 'nickel', 'frame', 'quantities', 'siblings', 'vein', 'econintersect', 'inhabitants', 'displaced', 'endorsements', 'orgonlight', 'somebodys', 'kissed', 'composition', 'removal', 'candidate', 'monkey', 'challenged', 'protester', 'rodham', 'implementing', 'justice', 'anticipation', 'manipulations', 'ontario', 'highs', 'directs', 'mayors', 'farthest', 'unit', 'wahhabism', 'triggered', 'novosti', 'supervisors', 'marking', 'shutdown', 'fights', 'nominations', 'sacred', 'authorize', 'metabolism', 'greatest', 'accurately', 'excel', 'alpha', 'banning', 'tempting', 'diesel', 'alive', 'temperature', 'click', 'improved', 'aesthetically', 'revisions', 'paradigm', 'delivers', 'kong', 'merciless', 'worsens', 'algeria', 'lithuania', 'wine', 'richly', 'boys', 'cakes', 'affecting', 'brits', 'donbass', 'hedging', 'orientation', 'lonely', 'bullied', 'payouts', 'ammunition', 'frequency', 'pitfalls', 'changing', 'johnny', 'loud', 'politic', 'advisory', 'presidency', 'relaxation', 'liar', 'reinforcing', 'construed', 'grin', 'amusing', 'philosophers', 'preservatives', 'seconds', 'sold', 'wedlock', 'overstate', 'oswald', 'cheerful', 'cracking', 'insecurity', 'precept', 'orthodoxy', 'sleaze', 'announcement', 'bribes', 'disinterest', 'misty', 'vargas', 'chang', 'monumental', 'advocate', 'fervent', 'subsidizing', 'cynthia', 'hope', 'awakening', 'dirt', 'satellites', 'increasing', 'trumped', 'precincts', 'wednesdays', 'scientific', 'terminated', 'activities', 'laney', 'acted', 'coloured', 'humor', 'paths', 'forbidding', 'teresa', 'monitored', 'pave', 'baron', 'blur', 'benjamin', 'branded', 'consequences', 'prosecuting', 'surreptitiously', 'funded', 'preps', 'darkest', 'tantalizing', 'approached', 'corners', 'afterward', 'declining', 'pointed', 'weaken', 'cold', 'foreclosed', 'mines', 'apostasy', 'cultivated', 'muddy', 'inquired', 'renaming', 'turkeys', 'fabricate', 'assert', 'citizen', 'rain', 'regulatory', 'goal', 'indispensable', 'extremely', 'bosses', 'fascistic', 'shutting', 'bombardment', 'adultery', 'concluding', 'barker', 'conversely', 'mama', 'nuremberg', 'vixen', 'realistic', 'epiphany', 'traced', 'translation', 'singlehandedly', 'favoritism', 'delicate', 'islamic', 'gist', 'acid', 'moscow', 'pragmatism', 'entitlements', 'hampered', 'titled', 'airwaves', 'demolished', 'ratios', 'feed', 'meltdown', 'hack', 'lesions', 'organizing', 'respectable', 'extremes', 'resolute', 'tally', 'fisher', 'format', 'huckabee', 'beating', 'graduation', 'lawn', 'atheist', 'incestuous', 'infertility', 'integrating', 'retweet', 'primarily', 'density', 'charles', 'apostle', 'aura', 'crude', 'regularity', 'bearer', 'glue', 'investigation', 'computer', 'landslide', 'glorified', 'strip', 'agonizing', 'inflation', 'bare', 'favors', 'payday', 'ultimately', 'rocks', 'soil', 'trust', 'caltech', 'tabatabai', 'deliveries', 'manifesting', 'begun', 'orphans', 'incident', 'crowning', 'interval', 'squads', 'rocky', 'nasty', 'underneath', 'retaken', 'souls', 'continental', 'flower', 'redskins', 'reflected', 'following', 'lifting', 'broadcast', 'space', 'earlier', 'rovin', 'cyrus', 'rows', 'recourse', 'sinks', 'candy', 'anger', 'ended', 'measured', 'cafeteria', 'purportedly', 'bankrolled', 'microorganisms', 'distort', 'proprietor', 'postwar', 'comeback', 'cajon', 'lawrence', 'radicals', 'colonize', 'levied', 'ceasefires', 'encampment', 'diverted', 'importance', 'neurology', 'fear', 'envelopes', 'linguistic', 'bravo', 'removing', 'douglas', 'morell', 'edits', 'garbage', 'quotes', 'disapprove', 'reelection', 'ordering', 'toxin', 'molecular', 'furor', 'countrys', 'compatible', 'vacation', 'early', 'viewed', 'archaeologists', 'ball', 'breakup', 'contractual', 'contends', 'declined', 'distraught', 'encountering', 'grown', 'acquired', 'surrender', 'migrate', 'manifest', 'safeguards', 'undergraduate', 'cahoots', 'bearish', 'uncomfortably', 'isolated', 'fend', 'believes', 'motive', 'bannered', 'racketeering', 'debatable', 'frank', 'estimation', 'conducting', 'integral', 'multipolar', 'merged', 'digestive', 'malta', 'company', 'lettuce', 'breathtaking', 'youth', 'rotten', 'assistants', 'insults', 'credo', 'survival', 'serpent', 'hopefuls', 'picture', 'bits', 'sidelines', 'ticket', 'hyde', 'poland', 'lifetimes', 'quote', 'commonplace', 'fracturing', 'irvine', 'assumption', 'legalizing', 'minsk', 'geert', 'intensively', 'jacob', 'editing', 'ceases', 'celebrate', 'conscientious', 'realism', 'hoped', 'nonsensical', 'monarchs', 'hired', 'thinkers', 'investigator', 'clandestine', 'disobedience', 'heir', 'mobilize', 'roar', 'wannabe', 'intermittent', 'seti', 'shiite', 'congressional', 'carville', 'overlapping', 'rigging', 'stop', 'maintaining', 'rags', 'tisa', 'files', 'strike', 'supposedly', 'chord', 'vague', 'motor', 'fractures', 'harmony', 'spills', 'spots', 'lady', 'mass', 'heel', 'figurehead', 'accepting', 'fashionable', 'fraud', 'gazette', 'delhi', 'probation', 'fulfills', 'automobile', 'galactic', 'caleb', 'gorbachev', 'collusion', 'directly', 'slab', 'pacs', 'daly', 'creates', 'propaganda', 'avert', 'evicted', 'restless', 'adviser', 'amber', 'sleuth', 'encrypted', 'czechoslovakia', 'godly', 'detrimental', 'sixth', 'bolstered', 'expanding', 'uninterrupted', 'easter', 'soaking', 'bowie', 'disrupt', 'distinguish', 'alberto', 'berkeley', 'prejudices', 'suicidal', 'agribusiness', 'harmful', 'disappearing', 'items', 'sordid', 'roaring', 'solicitor', 'sponsored', 'farming', 'decrees', 'sung', 'bradd', 'flown', 'dimensions', 'headlines', 'starts', 'visceral', 'sects', 'hersh', 'hollandes', 'inconceivable', 'staffan', 'grid', 'feudalism', 'midterm', 'omissions', 'gravy', 'argument', 'laughable', 'wifi', 'demise', 'affirming', 'joining', 'loaf', 'arrest', 'protecting', 'henchmen', 'brighton', 'regulate', 'select', 'internationals', 'asians', 'sacrificing', 'airbase', 'vine', 'tips', 'astute', 'freemasonry', 'dubbed', 'difficulties', 'devotee', 'bargaining', 'competes', 'summed', 'allegiance', 'info', 'intelligentsia', 'stipulate', 'repealing', 'timid', 'trapping', 'wondering', 'belongs', 'unrecognized', 'visitation', 'gears', 'improve', 'container', 'conduit', 'married', 'hitlery', 'preemptively', 'separating', 'arrests', 'turkey', 'subverting', 'perpetuating', 'miserable', 'prisoners', 'anxiously', 'factories', 'bromides', 'embedded', 'recounting', 'subversive', 'emeritus', 'comrade', 'locations', 'gases', 'restructured', 'bribery', 'obesity', 'teas', 'emailed', 'regional', 'administrative', 'scrutinized', 'brave', 'shouldve', 'irrespective', 'impulses', 'badawi', 'detritus', 'population', 'cloud', 'herb', 'metro', 'affidavit', 'oversee', 'bred', 'rand', 'spending', 'labour', 'spectacular', 'stocking', 'nihilistic', 'test', 'brit', 'laziness', 'reasonable', 'rake', 'blade', 'purchasing', 'undertake', 'burundi', 'fashioned', 'teflon', 'threat', 'breeding', 'myth', 'nazi', 'punching', 'communal', 'advance', 'embattled', 'scandinavian', 'detonation', 'membership', 'suffers', 'multimillion', 'inventions', 'matters', 'shadowy', 'reeling', 'replacement', 'bestseller', 'shine', 'unorthodox', 'adrenaline', 'airliner', 'chartered', 'minds', 'attracting', 'noses', 'drifting', 'sheets', 'adherents', 'lambasted', 'erroneously', 'makeup', 'pablo', 'vowed', 'bylaws', 'troy', 'innovators', 'batches', 'investigators', 'kits', 'piling', 'unsavory', 'shopping', 'inquiry', 'viewer', 'mccann', 'hijack', 'stricken', 'repudiating', 'fuelled', 'shinzo', 'bogeyman', 'greenwald', 'atrocious', 'indications', 'jeopardize', 'guam', 'senseless', 'ufos', 'grim', 'noah', 'processes', 'passwords', 'commandos', 'haste', 'harness', 'arabia', 'crisp', 'malevolence', 'strings', 'nickname', 'outline', 'gaze', 'streak', 'indoor', 'assassin', 'tamper', 'gurus', 'morass', 'oklahoma', 'aligns', 'wings', 'generator', 'promotes', 'brainer', 'sucks', 'solicit', 'bona', 'cabin', 'bachelor', 'soft', 'listens', 'stoke', 'stretching', 'willful', 'concur', 'continual', 'cryptographic', 'profess', 'factors', 'court', 'replete', 'oust', 'sleeve', 'harass', 'pickup', 'situational', 'skins', 'labeled', 'trek', 'judaism', 'unrepentant', 'comey', 'mysterious', 'steeper', 'swings', 'cities', 'shaolin', 'warriors', 'holed', 'islands', 'prepared', 'nurses', 'output', 'quash', 'shaken', 'protocol', 'kushner', 'spacecraft', 'lurid', 'televisions', 'missionaries', 'transferred', 'triple', 'smashed', 'deliver', 'readiness', 'invitation', 'sick', 'davids', 'exceptionalism', 'piece', 'return', 'bullet', 'exacerbated', 'discontent', 'decisively', 'degraded', 'squalid', 'loved', 'reboot', 'mitigating', 'lima', 'overhaul', 'psychologically', 'prominent', 'appropriate', 'starr', 'canadians', 'blogs', 'jurisdictions', 'cache', 'eighties', 'humorous', 'repelled', 'attempts', 'belonging', 'corridors', 'uterus', 'hopeful', 'emergence', 'paula', 'giuliani', 'reformers', 'roasted', 'heard', 'scratching', 'homeowners', 'walks', 'crack', 'ghosts', 'bedroom', 'kool', 'hysterical', 'linkedin', 'immunity', 'megan', 'spate', 'disproportionate', 'mugabe', 'legislative', 'shuts', 'grades', 'pollster', 'daycare', 'refrigerator', 'contaminate', 'canada', 'undermines', 'backward', 'generous', 'festivals', 'serbs', 'augment', 'caucasian', 'finished', 'mason', 'anna', 'lobbyist', 'servant', 'bulwark', 'lendman', 'hodges', 'supervision', 'huffington', 'threshold', 'volumes', 'obrien', 'chilling', 'architect', 'ancestral', 'grazing', 'meditating', 'denouncing', 'woke', 'waiting', 'foray', 'kidnapping', 'indicators', 'curious', 'plot', 'charleston', 'aversion', 'fair', 'hearings', 'qaedas', 'framing', 'baiting', 'hamburg', 'isolationist', 'pristine', 'resided', 'discern', 'brzezinski', 'burn', 'distances', 'eerily', 'explorer', 'undergoes', 'unprofessional', 'octopus', 'consenting', 'heritage', 'summary', 'season', 'british', 'unaffordable', 'minus', 'piggy', 'prosperity', 'bragged', 'opined', 'tasty', 'racism', 'mohamed', 'bright', 'splatter', 'pravda', 'attachment', 'homosexual', 'reflective', 'coincides', 'cowards', 'abdel', 'fraudsters', 'fascinated', 'sermon', 'surging', 'survives', 'denominations', 'disagreements', 'pressures', 'bondage', 'haunted', 'repeatedly', 'reprieve', 'avoided', 'colored', 'erin', 'turner', 'figures', 'asset', 'bullish', 'empires', 'exchange', 'lurch', 'participants', 'plymouth', 'commentator', 'schneider', 'exchanges', 'lobster', 'configuration', 'dictate', 'deduced', 'soup', 'tempo', 'launder', 'exacerbating', 'shale', 'inserted', 'costume', 'contaminated', 'paints', 'commute', 'overcriminalization', 'summarizes', 'abusers', 'londons', 'tornado', 'engaged', 'individualism', 'certain', 'reiterated', 'chanted', 'heirs', 'deflation', 'killing', 'robotics', 'berry', 'masters', 'programmers', 'substantially', 'motivations', 'trudeau', 'weedkiller', 'sjlendman', 'castro', 'insulin', 'threatening', 'habits', 'ignorant', 'come', 'inspect', 'critical', 'novels', 'mistrust', 'dust', 'consortiumnews', 'culture', 'flights', 'illegality', 'orwellian', 'shaky', 'unrelenting', 'wide', 'russians', 'superfluous', 'kyle', 'crayon', 'taste', 'assure', 'atrocities', 'christian', 'visions', 'chloride', 'econoday', 'confirming', 'televised', 'indistinguishable', 'plaguing', 'advancing', 'cleared', 'scorpio', 'cheap', 'hour', 'threaten', 'deflationary', 'ointment', 'environmentalist', 'alerts', 'electorate', 'enormously', 'implement', 'refugees', 'glands', 'swirl', 'assign', 'mumford', 'leap', 'restraining', 'believers', 'owes', 'caps', 'vehicles', 'victors', 'distorts', 'purpose', 'reverberate', 'advertisers', 'degeneration', 'historys', 'inspire', 'assumed', 'premier', 'purports', 'cronies', 'including', 'hire', 'tends', 'void', 'punishes', 'shaping', 'suitably', 'overdrive', 'claritypress', 'focusing', 'banister', 'expeditiously', 'perversion', 'blackmailed', 'speed', 'stoked', 'demonstrated', 'alicia', 'neutral', 'hailed', 'powder', 'poetic', 'bumpy', 'overstated', 'norways', 'postmodern', 'shrine', 'tent', 'awaited', 'ramifications', 'oxidative', 'blindness', 'harsh', 'serial', 'ruin', 'borne', 'important', 'inauguration', 'stormed', 'attained', 'tellers', 'teneo', 'specified', 'sympathetic', 'convicted', 'worded', 'recessions', 'purposely', 'sarcasm', 'caroline', 'sinjar', 'navigating', 'soups', 'draw', 'norwegian', 'opportunistically', 'cost', 'grey', 'chat', 'savvy', 'coast', 'occupying', 'supportive', 'bagging', 'poorly', 'glen', 'alongside', 'lesbians', 'zone', 'confidential', 'products', 'aspirations', 'join', 'hometown', 'louis', 'extra', 'lessen', 'arol', 'heralded', 'huddled', 'bailey', 'assorted', 'afoul', 'gospel', 'income', 'crooks', 'internal', 'usaf', 'annually', 'blocks', 'intolerable', 'harney', 'disagreement', 'exits', 'macdonald', 'deals', 'parroting', 'entanglement', 'scorn', 'upend', 'wailing', 'yorkemphasizing', 'extricate', 'perception', 'funding', 'discussions', 'drama', 'discusses', 'jaws', 'planetoid', 'algorithms', 'bonuses', 'drake', 'newsthump', 'knights', 'healers', 'lindsey', 'opposing', 'clarke', 'trading', 'paramount', 'visited', 'firewood', 'crooked', 'sequence', 'paradoxical', 'battle', 'hospitalized', 'jackson', 'academy', 'beth', 'department', 'index', 'nathan', 'australians', 'napoleonic', 'intents', 'originate', 'boosting', 'reactor', 'upgrading', 'netherlands', 'sowell', 'papers', 'weigh', 'disproportionately', 'united', 'individual', 'correspond', 'manipulating', 'uncalled', 'slashing', 'viewing', 'machado', 'robots', 'takfiri', 'heading', 'answers', 'bono', 'tepid', 'malcolm', 'replace', 'roll', 'organized', 'sixteen', 'autumn', 'euphoria', 'irredeemable', 'commanders', 'culprit', 'killer', 'monarchy', 'crap', 'concentrates', 'counterfeit', 'haired', 'elect', 'franchise', 'transporting', 'vest', 'ushered', 'warn', 'picked', 'chanting', 'peek', 'coastline', 'accusing', 'freeman', 'long', 'preachers', 'crypto', 'rightful', 'rough', 'unexplained', 'outed', 'pivot', 'hungarian', 'huma', 'exemptions', 'farm', 'stint', 'travelled', 'logo', 'leadership', 'unlawful', 'burner', 'possessed', 'frontier', 'retiring', 'theory', 'constant', 'shield', 'excessive', 'environment', 'foxs', 'inaugural', 'grandiose', 'trumpian', 'locking', 'villain', 'alley', 'autoimmune', 'component', 'inkling', 'manifestation', 'nicknamed', 'alcohol', 'smuggling', 'apartments', 'bernard', 'counterparts', 'cited', 'clark', 'ascent', 'selfies', 'shapes', 'comfortably', 'blanket', 'carrying', 'whitney', 'magically', 'writing', 'stanton', 'weeds', 'cloth', 'coin', 'disinformation', 'peddle', 'hominem', 'corrective', 'jets', 'oaths', 'rodgers', 'churn', 'biochemistry', 'congenital', 'debilitating', 'fusion', 'bradley', 'improves', 'mcfaul', 'anxieties', 'lurching', 'auspices', 'modernizing', 'tested', 'halted', 'confidante', 'smuggle', 'progressively', 'overbearing', 'acquiring', 'acre', 'dress', 'cult', 'falls', 'medicinal', 'sign', 'youngest', 'quacks', 'manifestations', 'improper', 'hypothesized', 'earliest', 'settled', 'susceptible', 'dartmouth', 'teaches', 'miss', 'reclassifying', 'irregular', 'battlefields', 'marsha', 'boast', 'mandating', 'payroll', 'duterte', 'jeantel', 'sarkozy', 'hubris', 'series', 'pritchard', 'wrists', 'booths', 'channels', 'patent', 'islamism', 'repeal', 'beautiful', 'forbids', 'outlines', 'revisited', 'movies', 'noisy', 'swedens', 'unpack', 'cowboy', 'commitment', 'borra', 'tense', 'credentialed', 'evaporate', 'stagnant', 'mortality', 'polarization', 'indiscriminate', 'blessing', 'characterizing', 'renewable', 'russian', 'shapiro', 'bull', 'unwavering', 'stench', 'risked', 'vilify', 'ceilings', 'lolita', 'resides', 'concentrated', 'contribute', 'peru', 'salvo', 'archetypal', 'colonialist', 'obamaphone', 'mythological', 'obliquely', 'probable', 'ruble', 'homesteading', 'partiers', 'aggregate', 'clout', 'june', 'arabic', 'unusable', 'mute', 'brazil', 'pharaoh', 'follow', 'nailed', 'quest', 'hike', 'smoothly', 'blank', 'barn', 'handle', 'malcontents', 'townsend', 'complains', 'bosnian', 'deserve', 'perpetuation', 'disagreed', 'peel', 'kicked', 'coastal', 'stockpiles', 'quebec', 'auction', 'speculate', 'womansvibe', 'fixes', 'laying', 'invisibly', 'bloated', 'grassroots', 'persuading', 'called', 'spurious', 'aborted', 'ardently', 'considers', 'aegis', 'calamity', 'mateen', 'adds', 'paranoid', 'describing', 'partying', 'shedding', 'nafta', 'teaspoons', 'copper', 'estimates', 'lent', 'vermin', 'brett', 'edges', 'devices', 'insignificant', 'legally', 'fighters', 'actors', 'merkel', 'bacterial', 'paper', 'remembrance', 'profoundly', 'ends', 'experts', 'marines', 'bleach', 'idiot', 'directed', 'nominally', 'soundcloud', 'spouse', 'widow', 'buses', 'opened', 'katrina', 'mastered', 'preserver', 'style', 'penn', 'mirrored', 'supplemented', 'totalitarianism', 'rejected', 'allow', 'dependency', 'agrees', 'sight', 'closer', 'reportedly', 'unconstitutional', 'newt', 'unmolested', 'weave', 'acquainted', 'archeologists', 'mongering', 'employing', 'dish', 'resultant', 'facial', 'dressed', 'burglars', 'encouraged', 'contributions', 'releasing', 'geneticist', 'recycling', 'criminalization', 'brown', 'grows', 'illusions', 'reopening', 'jump', 'practices', 'screamed', 'marginalize', 'mistake', 'objected', 'bloodiest', 'rape', 'rushing', 'asteroid', 'supermarket', 'crowded', 'announced', 'empower', 'drafted', 'minute', 'daytime', 'pirate', 'ecuadorian', 'stemmed', 'treatments', 'biology', 'leonid', 'problematic', 'casinos', 'discreetly', 'blind', 'null', 'tasered', 'hornets', 'persecution', 'balancing', 'heroism', 'delivery', 'weight', 'sustained', 'killed', 'recruits', 'implements', 'caring', 'irvin', 'ministers', 'moves', 'neednt', 'queensland', 'legislators', 'hydrogen', 'predictive', 'scouring', 'rapid', 'riley', 'mistaken', 'defamation', 'depositors', 'arranging', 'irresponsible', 'tyrannical', 'emit', 'figured', 'salvage', 'tentative', 'fluctuations', 'circumstance', 'jonathan', 'evangelicals', 'organised', 'pence', 'perpetrate', 'sluggish', 'hall', 'hospitals', 'disarray', 'forge', 'principals', 'maneuvering', 'slavery', 'careless', 'prevention', 'cells', 'attacker', 'ship', 'marketing', 'dose', 'deserted', 'religions', 'slightest', 'overturn', 'trotsky', 'analyst', 'dreamed', 'sadly', 'generational', 'learnt', 'budget', 'demon', 'facebooks', 'intra', 'protestor', 'rosa', 'forging', 'renouncing', 'unless', 'georges', 'prioritizing', 'keystone', 'legged', 'wrapping', 'kimberley', 'moynihan', 'swastika', 'minors', 'ripe', 'assemblyman', 'obtain', 'comparisons', 'beau', 'seven', 'mouthed', 'osama', 'brenda', 'derives', 'policymaking', 'liberated', 'subjective', 'denounced', 'defenses', 'thieves', 'george', 'operandi', 'circular', 'surprisingly', 'imply', 'roost', 'category', 'maker', 'rational', 'arbitrarily', 'faisal', 'disadvantages', 'buckley', 'nominee', 'promoted', 'gunman', 'relocate', 'dotcom', 'gratification', 'priests', 'redacted', 'bids', 'interacts', 'talent', 'stasi', 'charade', 'privately', 'ronpaul', 'loathing', 'specter', 'publishes', 'deemed', 'ascribed', 'sulfur', 'presses', 'degrading', 'fresh', 'gate', 'plight', 'jerusalem', 'revulsion', 'imagining', 'answering', 'complications', 'examiner', 'overturned', 'replicate', 'rejects', 'allegations', 'cafes', 'connection', 'falsely', 'wash', 'msnbc', 'prosecutor', 'arkansas', 'spat', 'half', 'indirectly', 'appoints', 'calculate', 'gatekeeper', 'highlight', 'album', 'drank', 'arizona', 'revenues', 'euphemism', 'aback', 'sustain', 'repudiated', 'szall', 'laboratory', 'slipped', 'host', 'standoff', 'anglo', 'unsustainable', 'veterans', 'colleges', 'attrition', 'coronal', 'odds', 'launch', 'vibrant', 'gruesome', 'signal', 'partner', 'ante', 'accrued', 'populist', 'climate', 'close', 'tribune', 'swayed', 'symbolically', 'initiated', 'trickled', 'violent', 'tens', 'tomdispatch', 'suicide', 'escalate', 'filings', 'spelling', 'validity', 'prepping', 'spew', 'blitzkrieg', 'context', 'crafting', 'glamorous', 'minimized', 'freezing', 'sophisticated', 'explains', 'lacking', 'compliments', 'abramovic', 'arguments', 'figure', 'integrate', 'ravaged', 'influencing', 'manifestly', 'weaknesses', 'sympathies', 'ezekiel', 'finer', 'schindler', 'disqualifying', 'expensive', 'experimenting', 'fastest', 'fixated', 'needless', 'accomplished', 'delighted', 'promoter', 'gardner', 'relentless', 'jane', 'brothers', 'bahrainis', 'belong', 'enabling', 'mintpress', 'teacher', 'turning', 'horrendous', 'knocked', 'balked', 'rumored', 'bureaucrats', 'intimacy', 'loyalty', 'investigative', 'lapses', 'wholeheartedly', 'basement', 'dreamt', 'wrestle', 'johnston', 'unlawfully', 'delete', 'populists', 'fallen', 'hurt', 'authoritarianism', 'perennial', 'soetoro', 'solidifying', 'camping', 'hicks', 'millennials', 'wiener', 'culminating', 'savagery', 'masse', 'beneficiary', 'chapman', 'malpractice', 'restoration', 'pockets', 'conspicuous', 'tragically', 'vibration', 'astronomers', 'relieved', 'decided', 'separatist', 'obnoxious', 'bind', 'digress', 'korean', 'daybreak', 'clouds', 'principled', 'poll', 'columbia', 'accusers', 'defendant', 'randomized', 'jaredwyand', 'worm', 'purity', 'decaying', 'marxstream', 'exonerated', 'followers', 'chancellor', 'undue', 'queens', 'davies', 'gloves', 'investigating', 'abomination', 'heroes', 'devised', 'nights', 'swanson', 'eagerness', 'aristocrats', 'illegally', 'cured', 'strangling', 'upset', 'saturn', 'thompson', 'bruno', 'issue', 'epstein', 'ceos', 'philosophy', 'distressed', 'sledgehammer', 'rebuild', 'arpaio', 'countdown', 'shitty', 'subsidiaries', 'contrary', 'complex', 'searched', 'conferences', 'fateful', 'aviv', 'daily', 'thumbs', 'trunews', 'vigilante', 'sanitation', 'identified', 'petri', 'possibility', 'proud', 'slavic', 'orgy', 'slaughter', 'dangers', 'covers', 'defined', 'attributable', 'dimension', 'entering', 'scrolling', 'spook', 'detonated', 'tidal', 'rulers', 'achieves', 'doubting', 'proverbs', 'yanukovych', 'delegations', 'distanced', 'uniforms', 'wand', 'demarcation', 'homeless', 'swedish', 'briefed', 'strengths', 'dispatch', 'ridge', 'qatars', 'disruptions', 'chef', 'implicated', 'occupant', 'eradication', 'majors', 'learns', 'moldova', 'indicted', 'hemorrhaging', 'crow', 'foreign', 'chamber', 'lapdogs', 'salad', 'trace', 'fraction', 'stepped', 'anyways', 'encryption', 'lands', 'committing', 'snippet', 'subvert', 'hauled', 'elijah', 'eurozone', 'licking', 'lightfromtheright', 'faithful', 'preferring', 'humiliation', 'businessmen', 'care', 'republish', 'rigid', 'saad', 'solidly', 'williamson', 'genital', 'enjoying', 'toast', 'condemns', 'funnel', 'laundered', 'layoffs', 'playboy', 'spiritually', 'recovery', 'sugar', 'tree', 'praises', 'deepen', 'seth', 'binds', 'bloodbath', 'cameras', 'cynically', 'downstream', 'guru', 'hemisphere', 'jacques', 'mathematically', 'negotiated', 'projection', 'disabilities', 'ripple', 'bankrupted', 'maneuvers', 'riled', 'modeled', 'furiously', 'cooperation', 'definite', 'established', 'flex', 'privy', 'wise', 'slash', 'volunteered', 'oppose', 'dana', 'groupthink', 'mantle', 'dependent', 'lugansk', 'apprentice', 'helmut', 'juices', 'rebranded', 'chairmen', 'cats', 'chokehold', 'colorados', 'intensive', 'jinping', 'continues', 'conveyed', 'superpowers', 'parry', 'australia', 'biologically', 'benefactors', 'meditate', 'carrie', 'subscription', 'dodging', 'parasite', 'pennsylvania', 'chase', 'marie', 'mexicos', 'charming', 'explained', 'emits', 'freedoms', 'damp', 'capped', 'finding', 'dismissing', 'intends', 'holiday', 'radically', 'scapegoating', 'offend', 'deploy', 'arriving', 'meaningful', 'hanged', 'rodrigo', 'impede', 'slaughtered', 'gift', 'hurdles', 'glorifying', 'infrastructure', 'frighten', 'heavier', 'hopelessly', 'english', 'births', 'costs', 'foothold', 'skills', 'approves', 'tidied', 'salon', 'russophobia', 'koch', 'approximately', 'located', 'flexibility', 'brands', 'rethink', 'galvanized', 'admitted', 'enterprises', 'hunter', 'stretched', 'reside', 'breakdown', 'tissues', 'owners', 'vitamins', 'shelled', 'tireless', 'monstrous', 'leading', 'mantra', 'passed', 'critiques', 'worry', 'calais', 'ghouta', 'dreamers', 'canceled', 'schmidt', 'hegemon', 'triumphed', 'unraveled', 'justifications', 'meanings', 'confinement', 'robbers', 'marjorie', 'lendmaniii', 'ministry', 'background', 'slows', 'adaptive', 'dogmas', 'liberate', 'supremacism', 'deport', 'sparks', 'ryans', 'lived', 'vandalism', 'yellow', 'grab', 'sudan', 'case', 'quite', 'cardiologist', 'sharply', 'arne', 'accidents', 'corruption', 'induced', 'opportunists', 'pictured', 'kosher', 'kyrgyzstan', 'philanthropic', 'quoted', 'rapes', 'revisiting', 'hudson', 'volcano', 'investigate', 'complaint', 'endlessly', 'disregarding', 'shaking', 'ruining', 'perched', 'arab', 'yoke', 'photographic', 'temptation', 'mustard', 'adoring', 'society', 'crawl', 'uninvited', 'whistleblower', 'zuesse', 'builders', 'valdai', 'unrest', 'gina', 'instability', 'shifted', 'unfamiliar', 'balkanization', 'uranus', 'freaked', 'smeared', 'variety', 'murdered', 'contingency', 'sins', 'vandals', 'matthews', 'roland', 'satirist', 'countenance', 'clips', 'confusion', 'offshoring', 'claude', 'moines', 'meekly', 'tablets', 'logistical', 'whack', 'resumption', 'inadequacy', 'bracing', 'regretted', 'flooded', 'rapprochement', 'keeping', 'profiled', 'capacity', 'compelled', 'victoria', 'ghastly', 'insinuate', 'whitewater', 'bitcoin', 'progressive', 'integrative', 'prostitute', 'uncovering', 'tantrums', 'apologized', 'indivisible', 'generating', 'usualroutine', 'straits', 'rant', 'willfully', 'similarity', 'morton', 'revisit', 'boomers', 'coconut', 'rwanda', 'sentiments', 'magicians', 'ordinary', 'jazz', 'fluent', 'score', 'roosh', 'improvements', 'lawyer', 'nuance', 'preemptive', 'sizes', 'passions', 'premised', 'norris', 'particle', 'deteriorate', 'empowerment', 'contradictory', 'reinstate', 'advertise', 'allah', 'haven', 'dime', 'inefficiently', 'cooler', 'arenas', 'convinced', 'birthed', 'defectors', 'attracted', 'crushing', 'corrosive', 'laughably', 'perceives', 'wished', 'apparently', 'abusing', 'precursor', 'stirred', 'dock', 'fairer', 'archaeological', 'katherine', 'preoccupation', 'realclearpolitics', 'euphrates', 'expect', 'performed', 'transport', 'steve', 'scarce', 'thorn', 'acknowledges', 'depiction', 'wrinkles', 'poised', 'arrangement', 'ipsos', 'globalists', 'impeding', 'graphs', 'jerri', 'legendary', 'shifts', 'scourge', 'testify', 'stuck', 'treatise', 'goodies', 'insecticides', 'circus', 'liberators', 'psychedelic', 'putins', 'medenbach', 'relegated', 'cheaper', 'descend', 'ideologies', 'anonymity', 'hannity', 'mediator', 'association', 'slurs', 'soaring', 'disprove', 'bolt', 'incompetence', 'reclaimed', 'eliot', 'slight', 'stem', 'gradual', 'data', 'messaging', 'frontiers', 'abhorrent', 'cato', 'performing', 'sitting', 'habitual', 'nearest', 'fills', 'crucially', 'address', 'mcclatchy', 'shop', 'energy', 'household', 'ponzi', 'tripling', 'unquestionably', 'utmost', 'moments', 'theses', 'interestingly', 'spelled', 'lawyers', 'solutions', 'ousting', 'catherine', 'pleased', 'guard', 'immemorial', 'scariest', 'thanking', 'freud', 'radioactive', 'cookies', 'undeniably', 'criticism', 'bursting', 'evening', 'favorable', 'comfort', 'feuds', 'connecting', 'operator', 'morality', 'authorities', 'clear', 'screaming', 'claus', 'admin', 'lawmakers', 'clashes', 'periods', 'tomatoes', 'succumbed', 'absurdities', 'vitamin', 'drought', 'outflow', 'artillery', 'tape', 'embrace', 'basin', 'persons', 'athletes', 'propulsion', 'youthful', 'oats', 'confronted', 'listed', 'ezzor', 'illustrates', 'overflow', 'upholding', 'inadequate', 'release', 'renowned', 'stomping', 'antonin', 'qualify', 'city', 'polio', 'wsws', 'liabilities', 'studied', 'overlooked', 'medicare', 'sexiest', 'overtures', 'territorial', 'underpin', 'understandings', 'adlers', 'movers', 'murderers', 'protector', 'orbit', 'saleh', 'parliaments', 'alternatively', 'margaret', 'morph', 'vitriol', 'mohammed', 'despots', 'fourth', 'blueprint', 'fireworks', 'plotters', 'strongest', 'mehdi', 'magazine', 'joan', 'firsthand', 'waited', 'promise', 'maze', 'abilities', 'streams', 'tracked', 'flush', 'troublesome', 'appointments', 'participating', 'objection', 'homosexuality', 'unconscionable', 'respiratory', 'loosely', 'phillip', 'hammering', 'occurrences', 'texts', 'mayo', 'blocking', 'pedestrian', 'vocal', 'procured', 'divisions', 'stiff', 'renege', 'privileged', 'baker', 'bangkok', 'plea', 'regrettably', 'monument', 'humans', 'laboratories', 'religion', 'demanding', 'disease', 'salvador', 'blaze', 'shrieking', 'diplomacy', 'organic', 'gravel', 'levant', 'marketwatch', 'shoppers', 'hormones', 'muir', 'glowing', 'greenhalgh', 'lungs', 'overdoses', 'hogan', 'penniless', 'campfire', 'prop', 'incessant', 'beloved', 'speculations', 'push', 'boxer', 'intellectual', 'fossils', 'handing', 'sang', 'conclude', 'moratorium', 'barbarians', 'armenian', 'venezuela', 'versatile', 'testimony', 'rungs', 'career', 'latakia', 'disclose', 'hypocritical', 'transpired', 'sino', 'compounds', 'sweets', 'request', 'puzzling', 'peacemaker', 'counterpunch', 'meek', 'louder', 'delay', 'observing', 'royals', 'bavarian', 'collects', 'microwave', 'quitting', 'zealots', 'nagging', 'provisional', 'accommodation', 'recovering', 'shorten', 'angry', 'conclusions', 'condo', 'mercury', 'sensitivity', 'clevelandhaving', 'arises', 'lifestyle', 'supermarkets', 'turk', 'window', 'battlefield', 'backyard', 'twain', 'civilised', 'pipes', 'exported', 'khrushchev', 'elicit', 'alumni', 'quickly', 'sabotaging', 'mondobeyondo', 'district', 'blew', 'ditto', 'crop', 'arrow', 'impaired', 'inhale', 'polarizing', 'presume', 'terrestrial', 'prescriptions', 'preside', 'aisles', 'hurting', 'strauss', 'governs', 'homelessness', 'vultures', 'resolved', 'charged', 'aptly', 'averaged', 'gracefully', 'gassing', 'exporters', 'mace', 'stockman', 'progression', 'secret', 'mapping', 'judgment', 'centurys', 'naftali', 'declan', 'orient', 'atop', 'fountain', 'rothschild', 'jenner', 'putsch', 'conversation', 'scouts', 'lopsided', 'digg', 'prejudiced', 'scotus', 'towns', 'stocks', 'traveling', 'momentous', 'participates', 'seattle', 'inviting', 'innocence', 'warranted', 'blended', 'karen', 'rebuked', 'eighty', 'liners', 'psychotic', 'portray', 'mastermind', 'seasons', 'memory', 'musicians', 'moses', 'uncertainty', 'rothschilds', 'crush', 'remain', 'cases', 'narrative', 'expiration', 'lasted', 'carpet', 'prepper', 'badges', 'marcus', 'excluded', 'antithesis', 'horrible', 'hungary', 'railed', 'citizenry', 'downward', 'employed', 'heating', 'invests', 'mckay', 'infect', 'refreshing', 'signals', 'stupidity', 'modest', 'webpage', 'accord', 'operating', 'burden', 'gargantuan', 'expose', 'baba', 'painter', 'hilton', 'administration', 'inescapable', 'legend', 'thursdays', 'convictions', 'pundits', 'courtesy', 'disasters', 'comb', 'solid', 'gratitude', 'advise', 'massively', 'calculated', 'busy', 'categorized', 'evaded', 'handles', 'wiles', 'graffiti', 'dispense', 'outbreak', 'reparations', 'theyll', 'convenience', 'squeeze', 'basketball', 'neuro', 'dangerous', 'peter', 'blackouts', 'silicon', 'colonizers', 'heights', 'prolific', 'hell', 'disingenuous', 'strive', 'californians', 'newborns', 'betray', 'seaboard', 'turn', 'mornings', 'thunder', 'parrots', 'disintegrating', 'resident', 'cease', 'arcane', 'whore', 'forgotten', 'burton', 'cancels', 'instrumental', 'philippine', 'tollfree', 'cartoons', 'fitton', 'koran', 'faulkner', 'whove', 'exempted', 'wool', 'lowest', 'place', 'citigroup', 'fallon', 'quoting', 'painkillers', 'accent', 'flammable', 'wedge', 'eons', 'simulated', 'tunnel', 'hasn', 'organisations', 'overly', 'werent', 'raised', 'monsanto', 'abuse', 'disparities', 'pond', 'hidden', 'exasperated', 'gentlemen', 'populous', 'apolitical', 'avoiding', 'ideally', 'evolving', 'alters', 'pupil', 'steals', 'permissible', 'mattagorist', 'patterns', 'stokes', 'meant', 'persistent', 'mitt', 'territory', 'temporary', 'hundreds', 'hilary', 'jeanine', 'conclusive', 'databases', 'sanction', 'school', 'withdrawing', 'influencers', 'idle', 'jihadist', 'largesse', 'judeo', 'wrote', 'gloom', 'implemented', 'nation', 'neighbour', 'consolidation', 'effect', 'irrational', 'obese', 'luther', 'syrias', 'eighteenth', 'procession', 'tennessee', 'quicker', 'adhere', 'inter', 'chaos', 'criterion', 'faint', 'successor', 'evacuation', 'build', 'inputs', 'painful', 'rich', 'rivers', 'willed', 'pernicious', 'hybrids', 'isolate', 'sociopaths', 'substantive', 'puberty', 'condescending', 'concealing', 'davidson', 'believe', 'purporting', 'specifically', 'sticker', 'theo', 'compete', 'carrot', 'insofar', 'plaza', 'suffice', 'interface', 'backgrounds', 'bless', 'built', 'frigate', 'anyones', 'liberally', 'license', 'medium', 'omega', 'calculus', 'feet', 'retrospect', 'flaws', 'ledger', 'bolster', 'partway', 'debunked', 'seated', 'positioned', 'barely', 'contiguous', 'defy', 'initials', 'bitterness', 'hobbies', 'sourcing', 'notch', 'aims', 'crises', 'elephants', 'liking', 'disparaging', 'glucose', 'gravely', 'humming', 'presidents', 'absurdity', 'advertising', 'drop', 'appoint', 'tricked', 'largely', 'april', 'indonesia', 'enthusiast', 'brew', 'applies', 'feels', 'fragmented', 'affiliated', 'grabbing', 'resorting', 'showed', 'immigrate', 'hurts', 'shamed', 'marla', 'terri', 'entity', 'intentional', 'eliminates', 'secures', 'detained', 'trample', 'brutality', 'testifies', 'hubble', 'parallels', 'realise', 'concrete', 'ears', 'charisma', 'male', 'paused', 'rececp', 'slower', 'artificial', 'islam', 'like', 'concentrations', 'held', 'avatar', 'buying', 'disgusting', 'flaunt', 'frames', 'indulge', 'humphries', 'evaluate', 'barnes', 'proceedings', 'conditioning', 'drawn', 'fiance', 'beefing', 'concealed', 'outpost', 'detriment', 'interruption', 'refunds', 'trader', 'fucked', 'genuine', 'visits', 'worrying', 'aided', 'grandson', 'likely', 'settler', 'physician', 'possess', 'taboo', 'truthstream', 'foods', 'delegates', 'propagandized', 'transformation', 'clinical', 'seething', 'caught', 'bicycle', 'fulfilling', 'limitation', 'cylinders', 'alaska', 'kitchens', 'supplier', 'chronically', 'canonize', 'domestically', 'drudge', 'candle', 'merrill', 'moderation', 'confess', 'seized', 'instances', 'winner', 'attractive', 'islamist', 'flung', 'penalized', 'fiscally', 'guerilla', 'almighty', 'gonzalez', 'ascertain', 'hardware', 'imbalances', 'designated', 'lest', 'admirable', 'bands', 'taming', 'aiding', 'carrier', 'pretends', 'reflections', 'wildly', 'consistency', 'propagandists', 'inclusive', 'meats', 'canned', 'purposefully', 'disrespect', 'abedins', 'filipino', 'laughed', 'pharmaceuticals', 'aberration', 'breaks', 'fiscal', 'lobbied', 'bacteria', 'fueling', 'brass', 'fledged', 'weighing', 'accelerate', 'echoed', 'plos', 'depose', 'popularly', 'crosshairs', 'cavalry', 'empirical', 'marthas', 'worthless', 'appointed', 'differentiation', 'battlegrounds', 'vindicated', 'hanging', 'debit', 'assortment', 'ruined', 'demographic', 'bamboozled', 'broadcaster', 'gunned', 'sergeant', 'edmond', 'grain', 'havens', 'bumper', 'interact', 'ensues', 'repeating', 'utter', 'stereotypical', 'drastic', 'markets', 'quantity', 'ensure', 'saved', 'tempered', 'raped', 'span', 'lend', 'lure', 'deregulate', 'forgets', 'zero', 'vietnam', 'geneva', 'trailing', 'year', 'fragment', 'engagement', 'reserved', 'mccain', 'changers', 'reno', 'generalized', 'predictable', 'herald', 'infuriating', 'poet', 'pricey', 'reacts', 'reassurance', 'huffpo', 'hebdo', 'fragile', 'statists', 'hinders', 'sigh', 'enhance', 'asean', 'pearl', 'outs', 'nicer', 'pictures', 'romney', 'suspicion', 'everybodys', 'ratified', 'watershed', 'mails', 'merck', 'richness', 'economically', 'michaels', 'boiled', 'activist', 'dinners', 'protestant', 'restructure', 'drift', 'hello', 'teenager', 'deploying', 'proudly', 'restraint', 'thereof', 'retard', 'tamp', 'thrush', 'friction', 'reaping', 'given', 'cleansing', 'duped', 'silent', 'spurred', 'henceforth', 'bonds', 'rightfully', 'media', 'features', 'partisans', 'plano', 'emissions', 'constituted', 'educational', 'inches', 'kurdistan', 'meaningless', 'clearly', 'shrugged', 'unwitting', 'dads', 'variables', 'female', 'rousing', 'lords', 'atzmon', 'conflicts', 'nudge', 'horowitz', 'central', 'hungry', 'fiji', 'perkins', 'sacrificed', 'younger', 'rented', 'quaint', 'doctrines', 'mint', 'plays', 'oppressive', 'conception', 'activism', 'origin', 'delve', 'ulrich', 'reinvented', 'manosphere', 'daniels', 'struggle', 'bills', 'inexorably', 'ideal', 'mole', 'netanyahus', 'sighed', 'spawned', 'free', 'liquid', 'overreach', 'gladly', 'entertainers', 'wiping', 'virgin', 'awkward', 'conspiracy', 'weimar', 'storing', 'literacy', 'sana', 'walled', 'hassan', 'mountains', 'combined', 'route', 'employment', 'spacey', 'implode', 'penetrate', 'reiterate', 'strictly', 'topical', 'vineyard', 'unwillingness', 'ought', 'transit', 'idol', 'tearing', 'wholesale', 'graham', 'steroids', 'lead', 'megyn', 'awarding', 'helmets', 'stashed', 'zucker', 'ballistic', 'brawl', 'encounter', 'lifezette', 'xinhua', 'rada', 'brushed', 'readies', 'opting', 'alleges', 'scripps', 'teleprompters', 'qualities', 'isolation', 'tracy', 'articulate', 'african', 'walter', 'dismissive', 'evolutionary', 'winds', 'klain', 'righteousness', 'desperate', 'portal', 'scientist', 'photograph', 'expert', 'classes', 'buchanan', 'chronicles', 'opportunity', 'previous', 'testament', 'jesse', 'aleppos', 'ineligible', 'memo', 'psychiatry', 'stool', 'fiction', 'latest', 'relativity', 'unthinkable', 'subdued', 'survey', 'clergy', 'dehydration', 'laced', 'stacking', 'brad', 'wikipedia', 'sonia', 'wild', 'rationally', 'titular', 'indefinitely', 'innocuous', 'extinction', 'persecuted', 'elaborated', 'hollywood', 'atmosphere', 'conceived', 'onerous', 'disrepute', 'emperor', 'kennels', 'inherit', 'oriental', 'outstretched', 'perpetrating', 'interlocking', 'jaketapper', 'pipelines', 'merry', 'predominantly', 'crass', 'fertile', 'magnificent', 'relates', 'brag', 'roswell', 'coward', 'substance', 'transferring', 'bloodied', 'needles', 'retrieve', 'wallonia', 'choose', 'mapped', 'awards', 'evict', 'naked', 'placate', 'ignatius', 'learned', 'public', 'ramadan', 'renounce', 'mutiny', 'reports', 'awfully', 'selects', 'dalrymple', 'opposites', 'sharp', 'enzyme', 'shout', 'thorough', 'motivating', 'tend', 'included', 'sleeves', 'feras', 'records', 'avenues', 'decorations', 'predatory', 'literal', 'intimate', 'buttons', 'cadmium', 'environments', 'input', 'shielding', 'beatings', 'mind', 'gentrification', 'firebomb', 'realfarmacy', 'sidewalks', 'jurisdiction', 'rehab', 'link', 'cnnpolitics', 'assassins', 'compliance', 'enthusiastic', 'portion', 'depot', 'hsbc', 'unequal', 'novelist', 'signed', 'wartime', 'vacancy', 'broadcasters', 'settlements', 'hazard', 'spree', 'enslaved', 'innumerable', 'motion', 'tipi', 'tina', 'temperament', 'pull', 'tribes', 'annihilate', 'empathetic', 'police', 'schwartz', 'sweatshops', 'unforeseen', 'schultz', 'pejorative', 'awesome', 'insurgent', 'bust', 'qualifications', 'compromising', 'condemned', 'pseudonym', 'relay', 'legit', 'disrupted', 'phases', 'malware', 'missed', 'hammers', 'triggers', 'vetting', 'hype', 'hygiene', 'arrogantly', 'rolls', 'quasi', 'protesters', 'mandates', 'negate', 'performance', 'veer', 'fare', 'outfit', 'aerospace', 'bets', 'deep', 'blackmail', 'butler', 'efficient', 'rendition', 'flour', 'seen', 'mentions', 'elicited', 'farmland', 'placebo', 'resolving', 'covenant', 'commissioner', 'demonstrates', 'expired', 'circumstances', 'falmouth', 'bbcs', 'jesuit', 'conscience', 'conspiracies', 'presumptive', 'reject', 'circumcision', 'anderson', 'friends', 'grants', 'montana', 'homophobes', 'fatah', 'battalion', 'maher', 'mozart', 'researching', 'privacy', 'methodology', 'recycled', 'overshadowed', 'regressive', 'unleashing', 'bigly', 'citizenship', 'homicide', 'suppressing', 'shrink', 'tajikistan', 'revert', 'cking', 'fructose', 'grains', 'yellen', 'okie', 'intercourse', 'storage', 'horrifying', 'polk', 'restrained', 'skeet', 'signing', 'pause', 'prof', 'stemming', 'inspires', 'bringing', 'fungi', 'turtle', 'elitist', 'flanked', 'downfall', 'blast', 'dylan', 'future', 'mahmoud', 'raising', 'accelerating', 'accumulating', 'fred', 'reprehensible', 'searching', 'underwater', 'huge', 'workout', 'reborn', 'immorality', 'spices', 'contemplated', 'piper', 'egos', 'plague', 'embarrassingly', 'journalists', 'miller', 'ceta', 'goodbye', 'nomi', 'punishable', 'reigns', 'anchors', 'traffic', 'sliding', 'buyers', 'rationale', 'smacks', 'demonstrably', 'finicum', 'powell', 'blaming', 'champion', 'scorched', 'beaters', 'antique', 'obscene', 'latin', 'packs', 'heavens', 'cabinets', 'bent', 'flip', 'milton', 'ottawa', 'inside', 'probed', 'visualize', 'fragments', 'outbursts', 'survivor', 'speech', 'cessation', 'equivalency', 'additions', 'pens', 'strongly', 'emblem', 'processing', 'applicant', 'evangelical', 'palmyra', 'lauded', 'globalism', 'lifespan', 'sentence', 'throws', 'tribe', 'inspiring', 'biotechnology', 'conversations', 'lloyd', 'featured', 'exercise', 'premium', 'bureaucracy', 'electro', 'clintonworld', 'netanyahu', 'peasant', 'warring', 'bulls', 'bombing', 'owing', 'escort', 'homegrown', 'recognizing', 'fixtures', 'lobbies', 'remove', 'confined', 'soils', 'wordpress', 'melania', 'agenda', 'renames', 'pardoned', 'hears', 'checkers', 'kunduz', 'impart', 'reilly', 'pantry', 'slowing', 'starting', 'thou', 'famous', 'trustees', 'sticky', 'representation', 'grow', 'bait', 'warlike', 'putrid', 'involving', 'depraved', 'bees', 'coal', 'geological', 'political', 'conviction', 'proliferation', 'zeitgeist', 'smells', 'deem', 'lute', 'south', 'surrounds', 'forcing', 'booming', 'suggestion', 'filmmakers', 'intercontinental', 'orange', 'reformation', 'hacker', 'sympathizers', 'wonders', 'evenly', 'performs', 'whomever', 'yemenis', 'death', 'pushing', 'logging', 'accessories', 'mcdonalds', 'queer', 'survived', 'influence', 'martyr', 'family', 'speechwriter', 'virginia', 'moniker', 'quran', 'induction', 'blairs', 'buys', 'legitimately', 'politrussia', 'setting', 'deviant', 'facility', 'greeks', 'slain', 'opposition', 'soldiers', 'glory', 'accents', 'doral', 'jared', 'malign', 'stable', 'untouchable', 'bouts', 'illegitimate', 'defied', 'hafiz', 'animosity', 'flips', 'merciful', 'prank', 'gaddafi', 'jihad', 'optional', 'temperatures', 'charities', 'soliciting', 'jean', 'increases', 'faked', 'shills', 'abandon', 'austria', 'olive', 'languages', 'underbelly', 'versa', 'explores', 'keys', 'labelling', 'airplane', 'gops', 'penned', 'conform', 'pondered', 'nemesis', 'prophets', 'harboring', 'inventor', 'journalist', 'factored', 'significance', 'manner', 'yuri', 'rapture', 'tender', 'watches', 'defends', 'grand', 'uncontrollable', 'cycles', 'atlanta', 'perfectly', 'login', 'falling', 'jumping', 'supplying', 'tripled', 'vests', 'suspense', 'yawn', 'abducted', 'later', 'shared', 'yeast', 'pension', 'stored', 'howling', 'tipping', 'shaw', 'tirade', 'kane', 'venture', 'roadmap', 'displaying', 'guatemala', 'print', 'municipalities', 'commenters', 'vacate', 'harshly', 'nobodys', 'acclaimed', 'himalayan', 'nullified', 'corporatists', 'homosexuals', 'plummeted', 'rick', 'spokesperson', 'sunoco', 'bureau', 'related', 'material', 'intensify', 'mandate', 'callous', 'contestants', 'inhumane', 'protein', 'technologies', 'allies', 'akbar', 'accuses', 'bell', 'jens', 'louise', 'risking', 'separatists', 'obliged', 'disappearance', 'utopia', 'abound', 'bailing', 'genetic', 'incontrovertible', 'sting', 'cruzs', 'anointed', 'negligible', 'social', 'autonomy', 'rioters', 'torpedoes', 'comics', 'going', 'broken', 'cart', 'demonizing', 'obstructions', 'oversees', 'outlined', 'signatory', 'expires', 'entailed', 'psychologists', 'chiefly', 'shows', 'iraqi', 'meter', 'alliances', 'irrigation', 'strikingly', 'responsibly', 'taking', 'ancient', 'gasoline', 'assess', 'generic', 'treachery', 'hoover', 'tass', 'drinks', 'gems', 'costello', 'idaho', 'adams', 'firewall', 'grenade', 'ceded', 'crashed', 'overshot', 'interview', 'redundant', 'events', 'someones', 'stacks', 'tourist', 'voiced', 'clique', 'deferred', 'grider', 'patton', 'reluctance', 'corpses', 'plantation', 'bartlett', 'complexity', 'secede', 'arent', 'sirius', 'strategies', 'eaten', 'omnipresent', 'administrations', 'ambush', 'hands', 'howe', 'panicking', 'narrowing', 'chairmans', 'marketplaces', 'discharged', 'permanence', 'sara', 'tinctures', 'interventionists', 'reids', 'murray', 'treasonous', 'allowance', 'instructive', 'sociopathic', 'taller', 'cede', 'file', 'scarred', 'ally', 'hyperbolic', 'unheard', 'broke', 'deniability', 'dovish', 'entourage', 'vigor', 'nourished', 'mccarthyite', 'reward', 'healer', 'dealt', 'foeticide', 'affected', 'ponder', 'fertilizer', 'organizes', 'captures', 'comfortable', 'butter', 'blasts', 'frenetic', 'inflicting', 'potentiality', 'substantial', 'spin', 'authored', 'large', 'ignored', 'witnessed', 'dividends', 'attached', 'dormant', 'venus', 'structures', 'benghazi', 'ideas', 'backdrop', 'cartoonists', 'vincent', 'cass', 'foul', 'square', 'search', 'whittled', 'parliamentary', 'nascent', 'plaintiffs', 'confiscation', 'record', 'highlighting', 'fibers', 'india', 'intense', 'kinds', 'appearing', 'industrialization', 'lighter', 'perform', 'artifacts', 'comply', 'reservoir', 'fuels', 'churches', 'discourse', 'smartly', 'radiation', 'banners', 'shaker', 'coupon', 'makeshift', 'patreon', 'spied', 'culpability', 'primary', 'wearechange', 'shift', 'juncture', 'michelle', 'tribunal', 'famed', 'hague', 'accountability', 'relic', 'alleviated', 'unjustly', 'airfield', 'physicists', 'footnote', 'aide', 'disappointing', 'bushes', 'manageable', 'placement', 'cairo', 'haphazard', 'organisation', 'corpus', 'premises', 'acls', 'mechanisms', 'pakistanis', 'acquisitions', 'tourists', 'remind', 'audacity', 'seminars', 'reinforces', 'reserve', 'humane', 'posted', 'herring', 'issuing', 'doubtless', 'clans', 'wiretap', 'january', 'instigated', 'hooded', 'philip', 'poking', 'feathers', 'coordinated', 'small', 'suspend', 'blumenthal', 'instruct', 'apostles', 'championship', 'lebanons', 'bulgaria', 'pupils', 'practiced', 'inbuilt', 'departed', 'chuck', 'satisfying', 'cair', 'card', 'lever', 'silence', 'groundwork', 'york', 'maneuver', 'belarus', 'exposing', 'textbook', 'repository', 'meteorological', 'finalized', 'upholds', 'insufficient', 'breaching', 'noxious', 'magic', 'yesterday', 'definitively', 'indulged', 'banker', 'pillow', 'fanatics', 'scheduled', 'schoolchildren', 'goons', 'posterity', 'entitled', 'readers', 'chart', 'clothesline', 'donald', 'said', 'islams', 'contender', 'billionaire', 'taquiyya', 'broadened', 'steinmeier', 'westminster', 'dioxide', 'lawsuit', 'rangers', 'roving', 'disk', 'josh', 'heated', 'mammals', 'nope', 'shed', 'ills', 'inferred', 'slow', 'scramble', 'rhythm', 'screams', 'subjecting', 'looted', 'parts', 'breath', 'barrick', 'endeavors', 'passport', 'protests', 'adjoining', 'refresher', 'sunlight', 'adjusted', 'conventions', 'steemit', 'buzzfeed', 'tarmac', 'text', 'reigning', 'change', 'hens', 'limited', 'votes', 'moores', 'sauce', 'clerical', 'controllers', 'gettysburg', 'accidental', 'carry', 'dizziness', 'entered', 'gifted', 'withstand', 'pastor', 'creativity', 'stole', 'mediate', 'waived', 'deposed', 'reunited', 'macho', 'defiance', 'shadows', 'slashed', 'occupiers', 'dismissal', 'alert', 'metal', 'quick', 'brink', 'punk', 'secrecy', 'discovers', 'sever', 'preservation', 'shutterstock', 'metropolitan', 'prominence', 'collapsing', 'tempted', 'semitic', 'spells', 'initiating', 'conspirators', 'sampling', 'tanked', 'conclusion', 'professional', 'idealist', 'jong', 'suspicions', 'passports', 'perfect', 'wmds', 'amazement', 'expects', 'tampa', 'unannounced', 'despotic', 'recover', 'beheaded', 'collapse', 'uncharted', 'eskimos', 'flocking', 'invasion', 'windy', 'ablaze', 'alchemy', 'phenomenon', 'zika', 'debate', 'tricks', 'whos', 'seldom', 'ariel', 'slams', 'budgetary', 'collectivist', 'parallel', 'accumulation', 'incumbent', 'utility', 'francis', 'traction', 'implosion', 'intestines', 'sectors', 'corporate', 'anemic', 'anymore', 'distract', 'fake', 'recycle', 'tenets', 'gatekeepers', 'sunrise', 'relax', 'libya', 'breathing', 'dailycaller', 'sentencing', 'sheryl', 'nonetheless', 'dictionary', 'archive', 'iran', 'optimistic', 'avenge', 'session', 'churchill', 'lavish', 'underlying', 'inhibiting', 'activists', 'educated', 'stranded', 'equip', 'wrenching', 'http', 'jargon', 'openly', 'consulate', 'greenfield', 'justly', 'protects', 'uncanny', 'lately', 'fortunes', 'pathetically', 'oblique', 'airbnb', 'quid', 'metaphorical', 'spite', 'charts', 'chattanooga', 'staunch', 'alright', 'topped', 'vilification', 'consultants', 'floor', 'swallow', 'unjust', 'campaigners', 'fibromyalgia', 'gaps', 'gram', 'joked', 'furthermore', 'texans', 'monte', 'departures', 'arising', 'greenpeace', 'defying', 'comprehend', 'conflicting', 'foreclosure', 'lockheed', 'corporatocracy', 'nest', 'restart', 'delays', 'planned', 'biased', 'missionary', 'preempt', 'moral', 'rotate', 'floored', 'discipline', 'speaking', 'wedding', 'national', 'talking', 'activate', 'fats', 'flee', 'sanity', 'swath', 'aaron', 'inspection', 'hater', 'santos', 'contributor', 'circled', 'critics', 'dogma', 'holdings', 'poured', 'armies', 'kissing', 'stack', 'vitality', 'wheeler', 'reference', 'unearthed', 'behavior', 'deportations', 'equities', 'flucker', 'doubling', 'medieval', 'untold', 'frankfurt', 'bryan', 'systematically', 'realized', 'roger', 'cerebral', 'accomplice', 'primed', 'usas', 'causes', 'distributing', 'profited', 'whites', 'mansions', 'restored', 'plumbing', 'cunningham', 'donors', 'interviews', 'feminists', 'pompeo', 'rubber', 'garnering', 'tortured', 'basing', 'husseins', 'tying', 'greek', 'eyes', 'rutherford', 'suppress', 'thedailysheeple', 'sped', 'demeaning', 'shark', 'elevating', 'scandals', 'telephone', 'guccifer', 'coerce', 'owner', 'firearms', 'predominately', 'exonerate', 'afloat', 'mist', 'roads', 'attackers', 'remedy', 'levy', 'recognition', 'twins', 'clashed', 'crying', 'proclaiming', 'poaching', 'faction', 'instantly', 'maybe', 'yell', 'trampled', 'bears', 'cave', 'dodd', 'snuck', 'azerbaijan', 'gardens', 'spectacle', 'erupting', 'skyrocketing', 'gotten', 'faux', 'imperatives', 'conjunction', 'righteous', 'humiliating', 'distribution', 'spiraling', 'eradicate', 'civilians', 'rebirth', 'absence', 'lightly', 'withhold', 'stumbling', 'instance', 'turks', 'thanked', 'priebus', 'alexandria', 'piss', 'errant', 'recommendation', 'willie', 'unequivocally', 'greyerz', 'hasan', 'dispute', 'edgy', 'finance', 'elevate', 'sheds', 'strategists', 'youngsters', 'prime', 'bolivia', 'roman', 'flux', 'percent', 'spinning', 'authorization', 'woes', 'feeding', 'carl', 'ecuador', 'heyes', 'spectra', 'flood', 'calls', 'governing', 'provided', 'longing', 'summits', 'correctional', 'extensions', 'passengers', 'dentists', 'frozen', 'undeclared', 'weak', 'wishes', 'deployments', 'raqqah', 'camels', 'puppet', 'remedial', 'simplify', 'jobless', 'serotonin', 'yielded', 'propose', 'bulletins', 'unify', 'virus', 'pessimistic', 'upsetting', 'deputy', 'difficulty', 'cleveland', 'haraldsson', 'fbis', 'impeach', 'pushes', 'switched', 'wholly', 'glaringly', 'ilassuring', 'bashiqa', 'resonate', 'lashing', 'supercharge', 'nova', 'lewrockwell', 'mercenaries', 'noose', 'veils', 'shrouded', 'processor', 'follows', 'endowed', 'militias', 'slippery', 'boarded', 'thwart', 'ashwin', 'payments', 'melissa', 'iraqis', 'point', 'uphill', 'vendor', 'clemency', 'laval', 'massing', 'covering', 'pursuing', 'foisted', 'alleviate', 'iphones', 'prepare', 'vanish', 'millions', 'sachs', 'genitals', 'newfound', 'dagger', 'grief', 'insecticide', 'saucers', 'criminal', 'welfare', 'paramilitaries', 'whiners', 'nawaz', 'bench', 'dishonest', 'marionette', 'surpass', 'danish', 'discovered', 'bleeding', 'cardiovascular', 'papua', 'zimmerman', 'intolerance', 'wore', 'centcom', 'decried', 'emergencies', 'frontal', 'hollowed', 'eligibility', 'wanton', 'constructing', 'mishap', 'callers', 'catastrophically', 'vladivostok', 'encompassing', 'harbinger', 'discredited', 'garcia', 'incriminate', 'proper', 'closet', 'cinnamon', 'riots', 'rupert', 'saudi', 'basis', 'freight', 'adrenal', 'debacle', 'arterial', 'samsung', 'musings', 'acts', 'donetsk', 'facets', 'federation', 'backing', 'stone', 'saul', 'mindless', 'pardons', 'jokingly', 'pays', 'essentials', 'responding', 'upheaval', 'cope', 'chavez', 'mogul', 'moguls', 'fealty', 'exploit', 'adaptation', 'gathered', 'hush', 'carters', 'carbon', 'century', 'filth', 'ibrahim', 'maligned', 'ominous', 'poop', 'repeated', 'union', 'baltics', 'wagons', 'barrel', 'protect', 'nigeria', 'websites', 'spiegel', 'corridor', 'arresting', 'norway', 'purges', 'forks', 'forfeiture', 'brightness', 'percenters', 'majority', 'posture', 'face', 'breathless', 'housed', 'simply', 'helpless', 'voltage', 'whim', 'counterproductive', 'extinguish', 'gehl', 'heres', 'lesson', 'robinson', 'flawed', 'smelling', 'allergic', 'entrance', 'proclamations', 'replay', 'instigators', 'appeasement', 'escapes', 'essence', 'harassed', 'rooftop', 'whitelash', 'derrick', 'noahs', 'vulgar', 'destroying', 'horses', 'unleashed', 'uploaded', 'robbins', 'metallic', 'colon', 'literature', 'discuss', 'eroding', 'sense', 'normalize', 'combating', 'diversion', 'lobby', 'citrus', 'memoir', 'illness', 'bear', 'rogue', 'purged', 'uses', 'grail', 'islamabad', 'diminishing', 'feces', 'sedition', 'weighted', 'resentments', 'width', 'slightly', 'rockefellers', 'action', 'clamp', 'wipe', 'amend', 'insouciant', 'prins', 'filter', 'lash', 'muscle', 'revolutionize', 'unborn', 'mounts', 'tightening', 'correct', 'financed', 'uniformed', 'yields', 'hacked', 'forcibly', 'contrived', 'cubic', 'gender', 'manipulative', 'isnt', 'rallying', 'affinity', 'cleric', 'giant', 'lastly', 'rehash', 'realpolitik', 'enduring', 'looms', 'untrue', 'herbal', 'negligence', 'noble', 'multiply', 'subsistence', 'means', 'hussain', 'tasked', 'domino', 'excitement', 'cursed', 'rewarded', 'institute', 'relayed', 'enforcers', 'shillman', 'editors', 'incarcerated', 'doug', 'access', 'exhibit', 'status', 'unknowns', 'plain', 'currency', 'distribute', 'workers', 'traumatic', 'donate', 'slush', 'stronger', 'hugged', 'emphasizes', 'returns', 'announces', 'slum', 'cross', 'freelance', 'minneapolis', 'eroded', 'hunger', 'divinity', 'launched', 'jaffy', 'headquartered', 'terribly', 'plead', 'inclusion', 'elitism', 'insanely', 'organs', 'marina', 'unsecure', 'optimism', 'hickox', 'adventure', 'petrodollar', 'unbelievably', 'evaluations', 'scamming', 'shock', 'eagles', 'sperm', 'newly', 'hammond', 'trophy', 'ethicists', 'methane', 'coarse', 'capricorn', 'dutch', 'illuminati', 'updated', 'prolong', 'exactly', 'innate', 'embraces', 'tout', 'parcel', 'cdcs', 'thrall', 'band', 'didn', 'understand', 'imperative', 'shareholders', 'subsidized', 'violate', 'rattling', 'publicized', 'deterred', 'reach', 'task', 'disavowed', 'startups', 'massacring', 'ahrar', 'lifeless', 'tanden', 'forgiven', 'robbed', 'sections', 'photo', 'adopting', 'theatre', 'wrongheaded', 'currents', 'migrant', 'operation', 'folder', 'minuscule', 'swung', 'wording', 'cyberattack', 'grandchildren', 'notice', 'rode', 'talks', 'shortest', 'arduous', 'landowners', 'correspondents', 'inspiration', 'terrorist', 'intercept', 'symptoms', 'wrapped', 'swallowed', 'modeling', 'clint', 'preach', 'unreported', 'displacing', 'bolton', 'registrations', 'imbalance', 'transmitted', 'stations', 'fifth', 'unmitigated', 'dmitry', 'tiffany', 'offline', 'trolls', 'motives', 'imfs', 'indecent', 'semite', 'inherited', 'publicizing', 'discount', 'drumbeat', 'quartered', 'carey', 'banging', 'guides', 'praised', 'negotiation', 'implicit', 'preoccupied', 'incomplete', 'powells', 'broadening', 'reminded', 'behemoth', 'grateful', 'hoping', 'reshape', 'shadow', 'turquoise', 'lucifer', 'libyas', 'tents', 'reveal', 'mentality', 'inflection', 'communist', 'modernize', 'disguises', 'emerged', 'plotted', 'areas', 'diplomats', 'revolutions', 'modify', 'active', 'multilateral', 'reshaping', 'echoing', 'ceremonial', 'peer', 'oleary', 'audience', 'liquor', 'currencies', 'snow', 'wreck', 'coping', 'hold', 'latvia', 'distinctions', 'glasses', 'rates', 'sabotaged', 'knew', 'celebration', 'decreeed', 'tory', 'unsc', 'prescription', 'prerequisite', 'timely', 'maguire', 'corpse', 'ideals', 'nullification', 'better', 'wires', 'spilled', 'syndicate', 'away', 'seminal', 'subjugated', 'ecstatic', 'extradite', 'neoconservative', 'principle', 'want', 'carelessness', 'coupled', 'prayers', 'cannons', 'chunks', 'hideous', 'absent', 'guarding', 'rituals', 'awaken', 'characterized', 'strangers', 'kejriwal', 'stadium', 'borderless', 'crown', 'problems', 'hamas', 'jeans', 'realization', 'systems', 'diaspora', 'elses', 'libra', 'troubles', 'durden', 'stretch', 'taliban', 'stampede', 'spoil', 'chaired', 'marshall', 'coulter', 'assist', 'crawling', 'fined', 'probability', 'sanctimonious', 'arguably', 'enrichment', 'hair', 'program', 'biting', 'stockton', 'inspector', 'strategize', 'polemical', 'czar', 'cataclysmic', 'jeopardy', 'marxists', 'roots', 'tail', 'characterize', 'riding', 'scant', 'tariff', 'afterlife', 'verbally', 'deeming', 'recalling', 'woven', 'reviewing', 'excluding', 'grotesque', 'stockpiling', 'interviewing', 'interactions', 'maverick', 'nicholas', 'conceivably', 'moment', 'destinations', 'dissident', 'objectivity', 'plants', 'aviation', 'charlie', 'fueled', 'faces', 'chechnya', 'create', 'skill', 'establish', 'deborah', 'arse', 'taxi', 'profiling', 'cultivation', 'libyans', 'fabrication', 'architecture', 'signs', 'sept', 'reproductive', 'brent', 'apache', 'tremendously', 'energized', 'nationalist', 'renegotiate', 'stripes', 'grigorovich', 'mortgages', 'expression', 'mocked', 'reams', 'blues', 'existed', 'centers', 'clues', 'distress', 'autism', 'debased', 'lower', 'credentials', 'conceal', 'cuff', 'endtime', 'frightened', 'protestants', 'undesirable', 'feud', 'unnecessarily', 'suzanne', 'vessels', 'cabbage', 'moronic', 'countrymen', 'offender', 'signatories', 'ambellas', 'harrison', 'pessimism', 'forcefully', 'cleverly', 'tormented', 'underscore', 'premiums', 'microbial', 'autonomous', 'wake', 'pervert', 'fraternity', 'uptick', 'regardless', 'bouncing', 'deluded', 'articles', 'senates', 'disproven', 'famously', 'hunts', 'blood', 'packed', 'shotguns', 'stating', 'tammy', 'nuisance', 'therapy', 'blunder', 'brags', 'exploits', 'usurped', 'contending', 'sabo', 'projectiles', 'cures', 'demonstrating', 'complicated', 'mobilizing', 'copenhagen', 'habitable', 'stained', 'mishandled', 'craziness', 'trey', 'accomplishing', 'usefulness', 'plane', 'expertise', 'proposed', 'bernish', 'descent', 'inflict', 'allied', 'reid', 'honesty', 'thankful', 'odyssey', 'turbines', 'effects', 'locate', 'purported', 'countermeasures', 'severe', 'introduce', 'dusting', 'plateau', 'retreated', 'devil', 'erdogan', 'pivotal', 'aleister', 'densely', 'rang', 'crossroads', 'ethnicity', 'treasuries', 'manpower', 'structure', 'marketplace', 'ambiguity', 'declaring', 'injustice', 'mans', 'credence', 'churchs', 'razor', 'enslave', 'ethan', 'crappy', 'dummy', 'renamed', 'amassing', 'troubled', 'involves', 'slide', 'clerics', 'yugoslavia', 'significantly', 'asking', 'disaffected', 'thirteen', 'urgency', 'lowering', 'comprehensively', 'tsar', 'chained', 'laughing', 'martin', 'neil', 'venezuelans', 'criticize', 'contaminants', 'diamonds', 'downturn', 'unchecked', 'spends', 'thumbnail', 'dependable', 'madsen', 'ancestor', 'raqqa', 'compliment', 'hints', 'turbulence', 'scaled', 'podestas', 'obviously', 'twin', 'statewide', 'blacks', 'repulsive', 'partially', 'unpunished', 'averages', 'doorstep', 'contrast', 'attaching', 'biological', 'converted', 'adolescents', 'expedite', 'pagan', 'lashes', 'prostate', 'cellular', 'spike', 'harvested', 'vigils', 'bunkers', 'militaristic', 'deserving', 'slot', 'weeping', 'habitats', 'particles', 'socks', 'illnesses', 'associated', 'enzymes', 'fang', 'outweigh', 'poem', 'circling', 'hypersonic', 'lists', 'unspecified', 'medicines', 'driveway', 'acquiescence', 'lambert', 'britain', 'sapiens', 'expressly', 'sellout', 'antibacterial', 'amplifying', 'jennifer', 'adventurism', 'ransom', 'maintain', 'tokyo', 'traitor', 'boulevard', 'choked', 'johnson', 'messages', 'mideast', 'verbiage', 'behaviour', 'getty', 'doings', 'morris', 'fervor', 'mortars', 'counterbalance', 'cravings', 'fierce', 'compounding', 'incarceration', 'creamers', 'collaborative', 'journal', 'occasions', 'rule', 'formulation', 'revelations', 'davywavy', 'limits', 'seaside', 'yikes', 'feast', 'youre', 'recovered', 'block', 'delaying', 'local', 'netflix', 'polluted', 'posts', 'stepping', 'lane', 'mali', 'fullest', 'blackagendareport', 'cans', 'itching', 'contemplation', 'normalization', 'maximizing', 'overcome', 'infiltrate', 'melts', 'makes', 'sorry', 'governmental', 'clown', 'tilted', 'helicopter', 'nurturing', 'malheur', 'burying', 'bounds', 'decreases', 'desperation', 'fridge', 'messiah', 'overtake', 'heels', 'mortem', 'functions', 'sheen', 'crony', 'betraying', 'expansive', 'superhuman', 'vitro', 'splash', 'immovable', 'normalcy', 'failed', 'reaffirmed', 'staten', 'emancipation', 'thief', 'tapes', 'brunei', 'receiving', 'senator', 'ploy', 'moderate', 'guilty', 'fatherland', 'guerrillas', 'automatically', 'strengthening', 'flournoy', 'farther', 'inevitably', 'spirituality', 'loathed', 'constituency', 'discard', 'merging', 'embodies', 'lynchs', 'collectivists', 'september', 'apollo', 'societys', 'vegetarian', 'intently', 'preclude', 'whales', 'breached', 'approx', 'trinity', 'enhancing', 'unintentionally', 'pioneers', 'pursuits', 'enclaves', 'idols', 'anthony', 'unambiguously', 'accordingly', 'iowa', 'safest', 'torches', 'hunt', 'vigorously', 'dissenting', 'geomagnetic', 'cumbersome', 'bret', 'properties', 'representative', 'spear', 'refining', 'bargains', 'inappropriate', 'internment', 'bandwagon', 'jihadis', 'neurological', 'britons', 'durable', 'podcast', 'ajamu', 'barbed', 'deceitful', 'trivial', 'fantasy', 'rosenberg', 'manufacturers', 'misrepresentation', 'charred', 'odessa', 'structured', 'cafe', 'grandkids', 'food', 'philosopher', 'apprehended', 'takers', 'fuse', 'unexpectedly', 'minimal', 'reassure', 'pandering', 'exporting', 'countryside', 'psyche', 'maxim', 'alerted', 'intelligence', 'boil', 'maximum', 'renaissance', 'repealed', 'stellar', 'sighting', 'supplements', 'withholding', 'hatred', 'excite', 'lenin', 'valuable', 'whichever', 'damaging', 'theaters', 'ruse', 'differed', 'pinning', 'fodder', 'assistant', 'rules', 'slapped', 'unquestionable', 'words', 'multiculturalism', 'plaines', 'absolutely', 'ratification', 'premiere', 'appalled', 'workings', 'links', 'spokesman', 'drawing', 'debating', 'bordering', 'internet', 'intractable', 'fetish', 'substandard', 'daunting', 'vocabulary', 'cussing', 'prelude', 'trades', 'inherent', 'overnight', 'worship', 'continued', 'licensed', 'invested', 'legitimate', 'prosecutorial', 'rejecting', 'magnifying', 'breeds', 'precludes', 'interested', 'lazy', 'neglect', 'playing', 'bandits', 'bewildering', 'greed', 'guessing', 'reforms', 'resentment', 'stands', 'abraham', 'brokered', 'dutertes', 'shoo', 'penalty', 'responses', 'aren', 'garrison', 'jaish', 'ranges', 'amen', 'specialized', 'standards', 'tiles', 'david', 'intrinsic', 'martyred', 'anecdotal', 'webb', 'injuries', 'antidote', 'historians', 'undertook', 'suns', 'vetted', 'burdened', 'seeking', 'formula', 'chop', 'memorandum', 'concurrence', 'coworkers', 'migraine', 'semites', 'freaks', 'gambling', 'obsessed', 'passively', 'mustafa', 'warmongers', 'overrun', 'pawn', 'represented', 'calif', 'figuratively', 'deepened', 'wheel', 'vanishing', 'keywords', 'listing', 'universities', 'treasure', 'warmly', 'radios', 'goat', 'promoting', 'scumbag', 'sheldon', 'stab', 'deems', 'desiring', 'kerrys', 'culinary', 'joyous', 'reader', 'conditioned', 'bystander', 'stockmans', 'pink', 'accused', 'carney', 'guests', 'pitted', 'potato', 'rumors', 'singers', 'street', 'martial', 'studios', 'continue', 'acres', 'mesh', 'stayed', 'erosion', 'lending', 'jewish', 'founding', 'proclaim', 'strengthens', 'clicking', 'ukrainian', 'priced', 'partly', 'prophet', 'strategizing', 'accurate', 'doomsday', 'simple', 'johnstone', 'assailants', 'deprived', 'blasting', 'element', 'pains', 'purest', 'securely', 'alternative', 'realising', 'framed', 'class', 'collaborators', 'commenced', 'pokemon', 'moroccan', 'wagging', 'pedophiles', 'darlings', 'discouraged', 'dilemma', 'fortunate', 'talk', 'liam', 'director', 'james', 'neoliberalism', 'affiliates', 'phobia', 'possibly', 'refused', 'unreal', 'untapped', 'testimonials', 'checked', 'rebellion', 'vanity', 'assured', 'jobs', 'groundbreaking', 'genre', 'pirro', 'albert', 'difference', 'instituting', 'assaulting', 'sans', 'invade', 'protest', 'chronological', 'decentralized', 'indicating', 'permitted', 'spicy', 'garmisch', 'scenario', 'excerpt', 'transaction', 'noting', 'faster', 'programming', 'counsels', 'sexting', 'branch', 'worries', 'ebola', 'sandwiches', 'interacting', 'laws', 'kristol', 'michael', 'unpopularity', 'illiterate', 'categorically', 'guessed', 'dawned', 'clowns', 'bereft', 'likewise', 'meddling', 'nameless', 'sweep', 'restitution', 'likelihood', 'reddit', 'singer', 'maps', 'clifford', 'settle', 'electioneering', 'preference', 'keyboards', 'bankruptcies', 'avail', 'measles', 'lefts', 'invoked', 'strategy', 'accountable', 'detoxification', 'supervised', 'patch', 'usher', 'dance', 'destined', 'needing', 'concealment', 'detainees', 'professions', 'knocks', 'uprooted', 'junior', 'lives', 'visible', 'residing', 'comparison', 'balm', 'infantile', 'weaning', 'whirlwind', 'gleaned', 'referendum', 'claims', 'tours', 'affection', 'marble', 'mcnamara', 'stakes', 'residents', 'encroaching', 'fight', 'sociology', 'widget', 'velocity', 'irrefutable', 'straight', 'taunting', 'permeate', 'logical', 'bravely', 'endangered', 'cement', 'enroll', 'hyped', 'pastures', 'beaches', 'intake', 'putting', 'infamously', 'hypocrites', 'enjoyed', 'crust', 'passage', 'indicative', 'jealousy', 'funders', 'carries', 'belief', 'allocated', 'contributes', 'orderly', 'served', 'sticking', 'zbigniew', 'collected', 'exhibiting', 'major', 'disrespectful', 'shadowproof', 'chinas', 'eliminating', 'peril', 'sustainably', 'lester', 'crowley', 'boards', 'enrollment', 'prove', 'captain', 'outskirts', 'deadlines', 'pumped', 'curtains', 'engineering', 'fitness', 'campus', 'interventions', 'freezes', 'framework', 'ousted', 'complaints', 'unusually', 'presse', 'whip', 'commentaries', 'remarks', 'sealed', 'ellison', 'wheelchair', 'writers', 'edwardszall', 'keegan', 'house', 'discovery', 'doers', 'massacred', 'israeli', 'establishing', 'outnumbered', 'hayes', 'provocateurs', 'modernized', 'travesty', 'vengeful', 'scope', 'bombed', 'barracks', 'triggering', 'fascism', 'random', 'whipping', 'haim', 'agreed', 'assumptions', 'inseparable', 'justifies', 'classify', 'mitigation', 'sexy', 'specs', 'ecological', 'eligible', 'dianne', 'requirement', 'sheer', 'hooked', 'junta', 'nearly', 'plutocracy', 'powerless', 'shelf', 'steer', 'pulitzer', 'illuminated', 'subtlety', 'suffering', 'wipes', 'rinf', 'application', 'overthrowing', 'exempt', 'sugars', 'pumps', 'analysis', 'hating', 'prosecutors', 'middle', 'orwells', 'lured', 'madeline', 'overwhelm', 'sociologist', 'aggrieved', 'excerpted', 'transfer', 'astronomer', 'greger', 'boundless', 'outlast', 'ranked', 'stigma', 'super', 'consequential', 'midnight', 'yanukovich', 'safely', 'ignore', 'offensive', 'renzi', 'promote', 'sail', 'dworkin', 'popular', 'brace', 'neoliberalcon', 'games', 'retaliatory', 'misogynistic', 'codes', 'roof', 'humble', 'unfortunate', 'speakers', 'gores', 'closes', 'pennies', 'hiking', 'rampant', 'canvas', 'required', 'kilometer', 'wizard', 'comprise', 'eviscerated', 'kelcy', 'perceived', 'right', 'airpower', 'hatch', 'mortal', 'destruction', 'resonates', 'vaxxed', 'understanding', 'attempting', 'staffed', 'intricate', 'wakes', 'synchronized', 'aspect', 'effective', 'hansen', 'pending', 'strongman', 'visa', 'duff', 'zones', 'miami', 'brow', 'serbian', 'gifts', 'dense', 'recommend', 'revolves', 'underpinning', 'actively', 'softening', 'pharmaceutical', 'portrayal', 'flare', 'comcast', 'memos', 'hostile', 'completely', 'couch', 'behaving', 'welcoming', 'bombs', 'aches', 'ferry', 'mohammad', 'arabian', 'easier', 'typical', 'ddos', 'emails', 'collision', 'contraceptive', 'doubly', 'urge', 'intensified', 'disavow', 'obligation', 'stonewall', 'naacp', 'diabetes', 'officials', 'denigrate', 'apologies', 'itas', 'commanded', 'draconian', 'fall', 'avenue', 'moving', 'sandy', 'special', 'assuming', 'restore', 'credits', 'pinterest', 'worldtruth', 'wifes', 'direction', 'accounted', 'scuffle', 'compromise', 'disliked', 'permit', 'pendulum', 'race', 'tellingly', 'rosneft', 'surveyed', 'awry', 'volunteers', 'periscope', 'inevitable', 'town', 'legalize', 'stooges', 'bounty', 'hitherto', 'biscuits', 'recep', 'responded', 'anticipating', 'shameless', 'barzani', 'hilt', 'somali', 'nations', 'theyve', 'sort', 'html', 'apocalyptic', 'aristocracy', 'granting', 'adventures', 'poorest', 'dumbing', 'surfaces', 'woodward', 'franken', 'occupy', 'seat', 'pumpkin', 'erik', 'ruthless', 'findings', 'crucial', 'patriarchal', 'easily', 'pistols', 'plume', 'manufacturer', 'fatalities', 'offering', 'prayer', 'springbreak', 'cause', 'concludes', 'complacency', 'agendas', 'ecuadors', 'nodapl', 'factory', 'pathetic', 'concentration', 'hughes', 'sailor', 'deceived', 'herbicides', 'choir', 'propagandistic', 'victory', 'contents', 'battles', 'beset', 'wang', 'refutes', 'complicates', 'abetted', 'pretending', 'ugliest', 'aimed', 'brennan', 'charms', 'pans', 'repentance', 'pale', 'tacitly', 'estrogen', 'sanctuary', 'nostalgic', 'sheep', 'glance', 'heavy', 'vermont', 'clue', 'producing', 'rock', 'blissfully', 'chopped', 'inadvertently', 'tourism', 'fuller', 'downside', 'campuses', 'khan', 'poverty', 'brandished', 'wreckage', 'patient', 'herd', 'named', 'botched', 'meals', 'unloaded', 'vadim', 'mosque', 'debunk', 'caliber', 'command', 'criminality', 'hopefully', 'totaled', 'entrepreneur', 'comprises', 'dissemination', 'scrambled', 'untimely', 'valuables', 'dominated', 'rolled', 'bathing', 'feel', 'purging', 'hegelian', 'imagine', 'dictatorships', 'discretion', 'sharealike', 'disastrous', 'boxes', 'exquisite', 'residential', 'contraceptives', 'gets', 'inflate', 'atlantic', 'duck', 'messes', 'yahweh', 'explore', 'mirrors', 'petersburg', 'marginal', 'wrongly', 'yemeni', 'firing', 'suspicious', 'symptom', 'masterpiece', 'false', 'shes', 'chimed', 'decree', 'endanger', 'fuzzy', 'inability', 'alcoholic', 'chevron', 'estimating', 'phishing', 'trailer', 'cohorts', 'wolf', 'davidswanson', 'crusade', 'characteristics', 'cutting', 'impairment', 'irreversible', 'flyover', 'geared', 'inappropriately', 'subprime', 'soaked', 'arson', 'pricing', 'disenfranchisement', 'drove', 'rogers', 'oils', 'begins', 'rift', 'audit', 'psychosis', 'variously', 'freshwater', 'culprits', 'bewildered', 'tenure', 'retrieved', 'approval', 'scour', 'politely', 'diffuse', 'keeper', 'misconduct', 'shirt', 'oligarchy', 'timothy', 'felony', 'painted', 'colluded', 'enslavement', 'distorted', 'sailed', 'executives', 'phones', 'ceremony', 'damage', 'hezbollah', 'offense', 'mushroom', 'aggressively', 'beret', 'considerably', 'quantitative', 'unchallenged', 'desc', 'founders', 'scientifically', 'recoup', 'heads', 'prose', 'defensive', 'japans', 'hrafnkell', 'minnesota', 'systemically', 'trenches', 'ways', 'kuwait', 'recounts', 'oxide', 'yard', 'says', 'subcontractors', 'gage', 'kalibr', 'accomplish', 'soon', 'echoes', 'prolonging', 'navigate', 'hourly', 'blitzer', 'faced', 'disenchanted', 'diary', 'jpmorgan', 'rescuers', 'transatlantic', 'suitable', 'villages', 'rodeo', 'coughing', 'flurry', 'kinda', 'flagged', 'glorification', 'literally', 'okeefe', 'partial', 'raises', 'mission', 'receding', 'selected', 'bruising', 'drains', 'playlist', 'armament', 'canal', 'discriminatory', 'spectral', 'starve', 'tomorrow', 'oligarchys', 'firefighters', 'unending', 'embarrassment', 'handler', 'airstrikes', 'carpenters', 'impassioned', 'manila', 'necessities', 'drastically', 'gennifer', 'schoen', 'recuse', 'homogenized', 'rocket', 'scuttling', 'attraction', 'raymond', 'spit', 'dumb', 'suck', 'campaigner', 'manchanda', 'desk', 'perjured', 'tufts', 'dementia', 'strether', 'branches', 'debates', 'hollis', 'maid', 'traditionally', 'garlic', 'cliffs', 'recipes', 'subs', 'nightmare', 'repetition', 'lush', 'prognosis', 'improvised', 'encouraging', 'joaquin', 'crews', 'temple', 'diametrically', 'rally', 'receives', 'refrain', 'reviewed', 'assessments', 'inconsistent', 'debts', 'enemy', 'letting', 'baffled', 'detailing', 'grande', 'irwin', 'cups', 'montreal', 'nourish', 'prophetic', 'sobering', 'boarding', 'centuries', 'lapdog', 'bloodthirsty', 'foils', 'replies', 'sinners', 'unbelievable', 'archaic', 'seoul', 'crystal', 'edited', 'patrick', 'roundly', 'yougov', 'midwest', 'rude', 'solve', 'specifics', 'beverages', 'october', 'heavenly', 'condemnation', 'milk', 'miscarriage', 'shattering', 'energies', 'tibetan', 'sympathizer', 'adobe', 'vancouver', 'mccabes', 'residue', 'commemorate', 'movements', 'persuasive', 'embody', 'overlords', 'cultivating', 'assanges', 'horror', 'crystals', 'diatribe', 'bishops', 'hopi', 'patriarch', 'jailing', 'loopholes', 'announce', 'elder', 'reactions', 'resisting', 'scheming', 'emphasized', 'cheers', 'start', 'rivalry', 'tilt', 'logistic', 'brought', 'commencement', 'batch', 'reframe', 'undisclosed', 'driven', 'just', 'explodes', 'emotionally', 'resources', 'affect', 'correlate', 'garrett', 'platter', 'differing', 'nathaniel', 'psalm', 'whitehouse', 'physicians', 'allan', 'exerting', 'inclusiveness', 'inject', 'incarnation', 'revenue', 'understate', 'circumcisions', 'reported', 'wildfire', 'human', 'marisol', 'motivated', 'stabbing', 'convinces', 'discounts', 'melt', 'baptized', 'suits', 'vigilance', 'classics', 'pouring', 'frantic', 'homemade', 'mischief', 'fitting', 'backfire', 'kaiser', 'buddhist', 'abysmal', 'counselor', 'priority', 'insolvent', 'consistently', 'mosquitoes', 'departing', 'submerged', 'vilsack', 'curtailed', 'collaborate', 'preferable', 'diving', 'machine', 'accepts', 'benign', 'drilling', 'breakers', 'eerie', 'intermediate', 'panther', 'zimbabwe', 'meditation', 'chicanery', 'corey', 'derailed', 'extractive', 'leaving', 'projected', 'student', 'matt', 'statements', 'strains', 'voices', 'broker', 'justices', 'hart', 'dismal', 'jews', 'results', 'coerced', 'liquids', 'spitting', 'stumbleupon', 'decreasing', 'rage', 'stripping', 'tweet', 'violations', 'verses', 'claire', 'sportsplace', 'undergone', 'ginsburg', 'cheese', 'high', 'unpredictable', 'weekends', 'tennis', 'spoils', 'nixon', 'possessing', 'spoiled', 'composite', 'imported', 'braziles', 'sentimental', 'adobochron', 'primitive', 'truman', 'unsurprisingly', 'rumor', 'genocide', 'acrimony', 'nationalists', 'pollution', 'stances', 'guards', 'playbook', 'luminaries', 'meager', 'bizarrely', 'reroute', 'mustnt', 'sect', 'lena', 'perpetrator', 'pitt', 'encourages', 'circulated', 'mediated', 'passing', 'retained', 'capitals', 'spewed', 'watchful', 'desert', 'englands', 'shipment', 'testosterone', 'postponed', 'coalitions', 'compelling', 'privatized', 'stabbed', 'startled', 'aggressions', 'viable', 'abuses', 'facilitated', 'thinking', 'bring', 'forecasts', 'encampments', 'leon', 'redeeming', 'assimilated', 'uprisings', 'generations', 'maurice', 'plaque', 'pedo', 'pedophilia', 'peddled', 'graceful', 'microbes', 'security', 'prevent', 'wilders', 'justifiably', 'cliches', 'monarch', 'frances', 'nashville', 'particular', 'mello', 'wink', 'prophecies', 'foval', 'sale', 'uneasy', 'delusional', 'thug', 'exhibits', 'song', 'vaccinate', 'spears', 'newest', 'deterioration', 'perpetuated', 'holders', 'hypocrite', 'slur', 'politically', 'fully', 'teamed', 'tone', 'understandably', 'fasting', 'parlance', 'extract', 'gently', 'eric', 'pillage', 'bankrupt', 'ingredients', 'pronouncements', 'possesses', 'prosecuted', 'counter', 'statutes', 'ensures', 'kucinich', 'criminalize', 'huntsville', 'districts', 'embassies', 'fahrenheit', 'odor', 'coaches', 'sport', 'perks', 'bitterly', 'baldwin', 'protectionism', 'strokes', 'liquidation', 'ordained', 'ecosystem', 'iarc', 'graph', 'starving', 'accidentally', 'stalling', 'boldly', 'paired', 'soften', 'spikes', 'edibles', 'expecting', 'extraordinarily', 'relations', 'secessionist', 'separated', 'soul', 'truths', 'angered', 'abolish', 'mood', 'commissioners', 'reed', 'condemning', 'pride', 'ultimatum', 'mobility', 'cathedral', 'presidential', 'siphoned', 'themes', 'enlightenment', 'deviations', 'flake', 'periodic', 'kuwaiti', 'wolfgang', 'liquidity', 'dignified', 'property', 'folate', 'fruits', 'companies', 'seats', 'gentle', 'lifts', 'numbered', 'rhode', 'suited', 'misinformation', 'intimidation', 'hamper', 'clearances', 'differs', 'discriminated', 'investigates', 'playground', 'cavalier', 'swaps', 'danny', 'rescuing', 'doll', 'bronze', 'constrain', 'slump', 'sorely', 'graveyard', 'rightwing', 'revolting', 'franco', 'greenhouse', 'guitar', 'gutierrez', 'illicit', 'orleans', 'schizophrenic', 'admonish', 'seeks', 'tick', 'assange', 'copies', 'evacuate', 'heartfelt', 'hotline', 'readings', 'reckoned', 'ratio', 'prima', 'stated', 'reverend', 'fulfilled', 'defer', 'melting', 'aspen', 'functionaries', 'heart', 'overt', 'extradited', 'haul', 'chill', 'qualms', 'ventilation', 'verdicts', 'rationality', 'trillion', 'allison', 'wisest', 'stalled', 'lgbtq', 'voice', 'greanville', 'aleksandr', 'economical', 'extradition', 'institution', 'alzheimer', 'trickle', 'underestimated', 'patrons', 'plainly', 'mcauliffe', 'standing', 'searches', 'optical', 'foreboding', 'harwood', 'aquinas', 'adapted', 'commons', 'amends', 'huff', 'impossible', 'panels', 'ranging', 'referenced', 'senatorial', 'headline', 'drags', 'dean', 'profitability', 'rats', 'lamb', 'solidified', 'solving', 'downtrend', 'marilyn', 'coleman', 'journeys', 'dimensional', 'forums', 'sand', 'swat', 'juche', 'neptune', 'sized', 'hopping', 'mutual', 'aghast', 'disloyal', 'balkans', 'evading', 'attribution', 'pillars', 'uptake', 'publisher', 'fighter', 'grounds', 'reputed', 'milligrams', 'cables', 'dude', 'pawns', 'raging', 'beginning', 'lewinsky', 'catholic', 'astronomical', 'commit', 'accompany', 'buzzing', 'schweizer', 'tickets', 'resurrect', 'injections', 'electronic', 'graves', 'capsule', 'richter', 'fucking', 'resurgence', 'shamir', 'gong', 'surmised', 'indicated', 'synthetic', 'unbearable', 'aside', 'injecting', 'majorities', 'manipulates', 'territories', 'instincts', 'imperial', 'entire', 'necessarily', 'obamacare', 'shane', 'hijacked', 'smashing', 'genocides', 'swap', 'maneuvered', 'tool', 'asylum', 'committee', 'thrilled', 'advantages', 'dispatches', 'dated', 'classifies', 'hysterically', 'islamophobic', 'peacetime', 'chapter', 'snakes', 'crossings', 'alexandra', 'rusvesna', 'winston', 'function', 'achievements', 'ensuring', 'regeneration', 'angles', 'albeit', 'gullible', 'cleansed', 'presiding', 'sister', 'trespass', 'ford', 'curiosity', 'pied', 'scoop', 'insurance', 'joyful', 'london', 'reverse', 'enabled', 'wwiii', 'descends', 'minimalist', 'offenses', 'criminalizing', 'producer', 'promotion', 'wireless', 'filtering', 'sanskrit', 'homestead', 'leaned', 'roller', 'utilizing', 'prized', 'classmates', 'tweetstorm', 'garland', 'bulbs', 'noam', 'ammon', 'cubs', 'dropping', 'combatant', 'craig', 'establishes', 'dedicate', 'clearest', 'flies', 'amarillo', 'distrustful', 'funneling', 'gibson', 'organise', 'satan', 'superiors', 'chump', 'greene', 'taxes', 'blankfein', 'wind', 'gilded', 'profits', 'mixture', 'creator', 'trade', 'certainly', 'ttip', 'offshoot', 'resolutions', 'bounce', 'division', 'foia', 'allocation', 'disagrees', 'dominican', 'manifested', 'spare', 'iota', 'regaled', 'croatia', 'stanley', 'rely', 'clapper', 'kristof', 'africans', 'filming', 'flock', 'powering', 'psychiatrist', 'studying', 'wales', 'forbes', 'yahoo', 'orchestrate', 'busily', 'littered', 'slam', 'fondness', 'hank', 'southerners', 'systemic', 'neighbourhood', 'attendees', 'legitimize', 'fidelity', 'spambots', 'perry', 'warns', 'missiles', 'mouthpieces', 'burr', 'attractions', 'drill', 'damn', 'desired', 'factor', 'astronomy', 'privatization', 'modern', 'conniving', 'erdogans', 'revise', 'disturbingly', 'unhinged', 'needs', 'reactive', 'embassy', 'bovine', 'rosy', 'suite', 'evaluation', 'failure', 'convoluted', 'persuade', 'enjoyable', 'article', 'highlights', 'receiver', 'ferocious', 'animated', 'propel', 'interdependence', 'lumps', 'remake', 'informant', 'unapologetically', 'tier', 'beyonce', 'stephanie', 'oppressing', 'valid', 'press', 'barnard', 'maya', 'wealthiest', 'gadhafi', 'norm', 'katy', 'affiliations', 'candid', 'charity', 'extension', 'uniform', 'travelling', 'figuring', 'refuse', 'cunning', 'precipitating', 'geostrategic', 'masses', 'mentally', 'diagnose', 'accessed', 'infections', 'terminal', 'trend', 'posited', 'spoiler', 'indisputable', 'area', 'beasts', 'saakashvili', 'amplified', 'complying', 'freeze', 'unwanted', 'tears', 'minerals', 'declares', 'restraints', 'abdullah', 'claimed', 'dictated', 'chemotherapy', 'confront', 'cook', 'judith', 'mirror', 'door', 'dontholduptheline', 'brigades', 'cages', 'great', 'observational', 'stormer', 'terrorized', 'sober', 'indictment', 'intermittently', 'accusation', 'chalk', 'praying', 'slovenia', 'dejected', 'trip', 'modifications', 'canon', 'insurer', 'sued', 'wary', 'arteries', 'canadian', 'encourage', 'commented', 'beirut', 'comprehension', 'purchase', 'synchronize', 'petition', 'mitchell', 'pioneered', 'karl', 'treat', 'concept', 'geniuses', 'silenced', 'hung', 'accumulate', 'distinction', 'girl', 'devout', 'twofold', 'influx', 'sniper', 'tails', 'flyers', 'surprised', 'rubles', 'summoned', 'exclude', 'exonerating', 'surrogates', 'fantastical', 'parked', 'pursued', 'oceania', 'trueactivist', 'sings', 'humanities', 'dynastic', 'interrogated', 'pots', 'paralysis', 'thrice', 'commodity', 'diplomat', 'preservative', 'retirement', 'incursion', 'unelected', 'warrant', 'computers', 'cooked', 'glorious', 'hollow', 'fellow', 'oregonian', 'remember', 'knows', 'provide', 'reviled', 'depressing', 'democratic', 'essentially', 'hugo', 'quayle', 'crafted', 'nude', 'oregonlive', 'costly', 'pharmas', 'worldwide', 'compiled', 'plenty', 'hierarchical', 'evenings', 'meth', 'peacefully', 'wrest', 'surrendering', 'juror', 'interfered', 'mona', 'examination', 'inmates', 'direct', 'dmca', 'lockstep', 'pneumonia', 'stomach', 'obsequious', 'strides', 'tedious', 'carlson', 'concocted', 'hunting', 'lowers', 'thwarted', 'varies', 'remote', 'suez', 'mounted', 'gained', 'biochemical', 'devaluation', 'pick', 'homes', 'informal', 'stalwart', 'treasures', 'tightly', 'unparalleled', 'wealthy', 'cannabinoids', 'provincial', 'recurring', 'discarding', 'feverish', 'quarterback', 'broaden', 'helped', 'reacting', 'nominating', 'compared', 'eowyn', 'busting', 'merchant', 'collection', 'pals', 'friendship', 'training', 'doke', 'drives', 'relaxing', 'floyd', 'shrinking', 'scripture', 'publish', 'royalty', 'raise', 'wicked', 'dems', 'adulthood', 'bastion', 'celebrates', 'georgian', 'palmieri', 'trail', 'generally', 'murphy', 'thermonuclear', 'rocked', 'uncontrolled', 'peeled', 'eager', 'value', 'hiding', 'retarded', 'dictating', 'shipments', 'equate', 'blair', 'overshoots', 'stolen', 'nexus', 'conduct', 'birth', 'vault', 'laments', 'pornography', 'toughest', 'wolfson', 'constantinople', 'precepts', 'pilots', 'displacement', 'chilly', 'disregard', 'incredibly', 'sellers', 'anwar', 'cooks', 'stagnation', 'till', 'pertains', 'interfere', 'synonymous', 'undisputed', 'negatively', 'trendy', 'realignment', 'succeed', 'comments', 'embarrass', 'snake', 'speculates', 'occupation', 'filled', 'receive', 'abolition', 'temporal', 'agreement', 'aircraft', 'billions', 'require', 'resembling', 'cartwright', 'ostensibly', 'sixties', 'lois', 'brief', 'smurfdom', 'addresses', 'feminism', 'industries', 'adversary', 'diagnostic', 'dominate', 'noncommercial', 'surfacing', 'henry', 'assassinate', 'prowess', 'blah', 'flynn', 'defenseless', 'sony', 'asshole', 'deny', 'developer', 'ratify', 'celebrating', 'behold', 'brush', 'donated', 'diversity', 'lumped', 'recap', 'harassing', 'opportunistic', 'sneak', 'casualties', 'europa', 'clean', 'hugging', 'shouldn', 'aiib', 'conceive', 'judiciary', 'charging', 'undercut', 'unacceptable', 'dubai', 'dined', 'months', 'diagnoses', 'goddess', 'harbored', 'forgone', 'ouster', 'wikileaks', 'converge', 'belgium', 'climates', 'rejoin', 'considered', 'colder', 'intrepid', 'quiz', 'deposits', 'mindset', 'neighbouring', 'hashtag', 'cure', 'wealth', 'theological', 'arrange', 'federalist', 'prospective', 'separate', 'harold', 'macfadyen', 'apparel', 'splitting', 'trends', 'libertarian', 'advises', 'natures', 'exposes', 'hearted', 'overruled', 'lyndon', 'expected', 'replaced', 'spill', 'angel', 'dysfunction', 'americas', 'aclu', 'final', 'purification', 'perjury', 'newsworthy', 'crazies', 'jeremy', 'ludwig', 'jung', 'richards', 'epic', 'houston', 'solemn', 'blameless', 'escapism', 'justifying', 'decrease', 'rabbi', 'toughness', 'appropriation', 'blurred', 'occupancy', 'crimes', 'hilariously', 'bridge', 'curtail', 'identifies', 'narcissistic', 'possibilities', 'vilified', 'blowback', 'columnist', 'aroused', 'assurances', 'civility', 'opening', 'senate', 'indefinite', 'reflects', 'embezzlement', 'unusual', 'models', 'exploitative', 'agitate', 'denial', 'fortunately', 'intervention', 'superior', 'tenants', 'stacked', 'rewarding', 'ruled', 'reins', 'biologist', 'forehead', 'alternatives', 'bahamas', 'cornerstone', 'dear', 'lateral', 'astrology', 'skewed', 'backlash', 'belts', 'chap', 'chose', 'elitists', 'firms', 'irritant', 'negroes', 'chester', 'richardson', 'youve', 'handcuffs', 'pile', 'actuality', 'melinda', 'providers', 'attract', 'midwestern', 'plastics', 'rush', 'stephens', 'cosmopolitan', 'essays', 'paychecks', 'barrels', 'deplorable', 'depleted', 'registrants', 'counseling', 'ambushed', 'checks', 'franks', 'hounded', 'preventable', 'wearing', 'enforcing', 'second', 'authors', 'cancellation', 'guardians', 'implicitly', 'scrutiny', 'constructive', 'glass', 'abstract', 'kidnappers', 'schizophrenia', 'exploration', 'tulsi', 'hemispheric', 'spotlight', 'ventures', 'salute', 'stickers', 'form', 'sagging', 'bonanza', 'captured', 'prisoner', 'shannon', 'cannabis', 'conceptual', 'vessel', 'freed', 'stabilize', 'coherent', 'retorted', 'touch', 'coating', 'designers', 'grant', 'barack', 'dublin', 'rival', 'reputations', 'blooded', 'dehydrating', 'happy', 'cooperate', 'emotion', 'psychiatric', 'reagans', 'reveling', 'rotating', 'migrating', 'venerable', 'liberties', 'hijab', 'principally', 'dealer', 'produce', 'hybrid', 'boat', 'corresponded', 'forfeit', 'guidance', 'mechanical', 'samuel', 'impotent', 'instructor', 'success', 'trolled', 'disgust', 'afoot', 'scaremongering', 'unknown', 'raked', 'played', 'aromatic', 'experiment', 'restructuring', 'rauf', 'marginally', 'embodied', 'momentum', 'reap', 'rubbed', 'stinging', 'classmate', 'substantiate', 'insurmountable', 'tunnels', 'beings', 'exorbitant', 'biotech', 'honestly', 'domains', 'excused', 'initiation', 'maturity', 'bailed', 'mormons', 'confessing', 'cnbc', 'collect', 'excruciating', 'dallas', 'confidence', 'nader', 'armaments', 'darkly', 'frightens', 'guiding', 'camp', 'prints', 'striking', 'transitioning', 'bureaus', 'climb', 'misogynists', 'runaway', 'beheadings', 'enemies', 'bashing', 'herbert', 'imagery', 'loony', 'coexistence', 'accustomed', 'complaining', 'economist', 'existential', 'settles', 'truthful', 'started', 'hoax', 'treasurer', 'hostility', 'oversampling', 'canadas', 'recording', 'hires', 'harming', 'virulent', 'stages', 'donation', 'sits', 'requests', 'marco', 'grouping', 'staples', 'boycotts', 'verse', 'bugs', 'tiny', 'unaffected', 'snip', 'heat', 'wrongs', 'damaged', 'gasp', 'africa', 'carcinogenic', 'starters', 'uncle', 'preparation', 'deployed', 'openness', 'bigots', 'statistical', 'rabid', 'altered', 'leisure', 'rigorous', 'lowered', 'tangible', 'terrifying', 'meet', 'watergate', 'toys', 'divorced', 'decline', 'expand', 'configured', 'repudiation', 'landscape', 'lapse', 'cathy', 'abnormal', 'hate', 'carolina', 'stadiums', 'avocados', 'apiece', 'interrupted', 'handouts', 'balance', 'disparity', 'submission', 'seizures', 'frail', 'frog', 'sincerity', 'critically', 'daesh', 'banco', 'composed', 'dispossession', 'aftermath', 'firstly', 'analyzes', 'electrons', 'lunar', 'awaits', 'moderates', 'quit', 'touchscreen', 'wrap', 'impeached', 'confines', 'authoritarian', 'jacqueline', 'attempt', 'miley', 'peaceful', 'norman', 'decency', 'rebel', 'remorse', 'offers', 'checking', 'software', 'frigid', 'lyin', 'techniques', 'luckily', 'vomit', 'appease', 'autistic', 'lies', 'arming', 'ndaa', 'neighbor', 'parachuting', 'productions', 'aisle', 'reviving', 'taps', 'instinctive', 'mario', 'aligned', 'unison', 'warm', 'chairwoman', 'instigating', 'constituents', 'section', 'railroads', 'yearn', 'destroy', 'ballots', 'drive', 'expire', 'sinking', 'nytimes', 'abuser', 'endorsement', 'fleeting', 'jeffrey', 'vanished', 'yearns', 'historical', 'overlook', 'solar', 'surgeon', 'exxon', 'haha', 'plastic', 'moscows', 'preposterous', 'tolerance', 'fees', 'prompting', 'towers', 'mitigate', 'practicing', 'demand', 'saber', 'kettle', 'auschwitz', 'switching', 'drag', 'killary', 'leftists', 'hindsight', 'entice', 'messed', 'noticeable', 'barbarism', 'repairs', 'thicker', 'hateful', 'honorably', 'america', 'catalyst', 'persist', 'consumes', 'prospects', 'strengthen', 'harry', 'comprehensive', 'paypal', 'write', 'infidels', 'inflicted', 'peacekeeping', 'skate', 'styles', 'violently', 'whores', 'marine', 'venue', 'epicenter', 'sanford', 'candidates', 'automatic', 'connections', 'expressed', 'foes', 'unmanageable', 'wandering', 'corrupted', 'freeloaders', 'lieberman', 'titans', 'baloney', 'alerting', 'extends', 'violates', 'explicitly', 'loading', 'hungarians', 'conundrum', 'confiscating', 'europes', 'detection', 'undocumented', 'elephant', 'fanatical', 'nets', 'poles', 'nasas', 'reappear', 'hillarycare', 'agriculture', 'exploring', 'libel', 'hesitation', 'cheats', 'outraged', 'deficiencies', 'directing', 'clarification', 'constitutionally', 'currently', 'creep', 'outta', 'webster', 'embarked', 'happier', 'defensible', 'briefing', 'versed', 'breakthrough', 'saint', 'contended', 'busts', 'conference', 'opener', 'password', 'smartphone', 'reliant', 'steering', 'businesses', 'progressives', 'sean', 'parody', 'resists', 'assuring', 'psyops', 'louisiana', 'pasture', 'revoke', 'ascension', 'donaTMt', 'kincaid', 'lining', 'flattering', 'integrity', 'project', 'signify', 'thorny', 'destroyer', 'dragged', 'explanation', 'increasingly', 'theodor', 'exclaimed', 'parenting', 'bottomless', 'assads', 'thirds', 'pack', 'watered', 'useless', 'astonishingly', 'errors', 'tackling', 'jamaica', 'outrageously', 'moot', 'sided', 'breed', 'detain', 'availability', 'optics', 'mozambique', 'plates', 'relocating', 'reinforcement', 'endorsed', 'provocative', 'restricting', 'mutually', 'undoubtedly', 'homage', 'interpreted', 'precautions', 'recordings', 'studded', 'miraculous', 'citation', 'tell', 'evacuating', 'covertly', 'publicize', 'brigadier', 'classroom', 'subsidies', 'poetry', 'flyer', 'paradise', 'veggies', 'coffers', 'sideways', 'eventually', 'highest', 'changes', 'patriotism', 'desai', 'shameful', 'ingredient', 'heinz', 'hyperactivity', 'applications', 'cole', 'empowering', 'beers', 'docile', 'savage', 'shoulder', 'flew', 'patently', 'tendencies', 'deceit', 'spark', 'various', 'examinations', 'categorize', 'presence', 'fence', 'reopened', 'tarnished', 'coups', 'fossil', 'wingers', 'reuse', 'yearly', 'improperly', 'repel', 'shuttle', 'homophobic', 'outsells', 'fetched', 'injure', 'materialistic', 'notes', 'discriminate', 'militarists', 'sell', 'cardiac', 'closely', 'racing', 'soak', 'affirmative', 'promised', 'representations', 'odonnell', 'tasers', 'bombast', 'academics', 'swears', 'finishing', 'citing', 'escalated', 'illusion', 'newspaper', 'raza', 'exploited', 'shrill', 'archambault', 'extensively', 'demagogic', 'itunes', 'shawna', 'decent', 'springsteen', 'uptrend', 'securing', 'filipinos', 'concede', 'booze', 'surrogate', 'matched', 'proposals', 'boots', 'peterson', 'dayton', 'lemons', 'bluster', 'weeks', 'dissolve', 'station', 'coveted', 'pose', 'univision', 'corrente', 'invites', 'selection', 'destroyed', 'tournament', 'thinks', 'pulpit', 'pounding', 'fruition', 'islamization', 'insistence', 'haiti', 'niche', 'allende', 'differently', 'duran', 'unravel', 'proves', 'competition', 'transformative', 'crusader', 'flocked', 'aspects', 'functioned', 'flax', 'cruelty', 'catholics', 'remarked', 'trump', 'ozone', 'reliance', 'unification', 'visas', 'spine', 'executions', 'replacements', 'measurement', 'react', 'flashing', 'likable', 'fdrs', 'bottle', 'weaponized', 'groceries', 'quarterly', 'collaborated', 'author', 'assistance', 'israel', 'primal', 'sakowin', 'exploratory', 'yazidis', 'ambition', 'backup', 'dominion', 'igniting', 'lover', 'burial', 'vaccinations', 'investments', 'swift', 'bread', 'abstained', 'exotic', 'image', 'scenarios', 'lying', 'creators', 'blog', 'preventing', 'stems', 'infinitely', 'passionate', 'aloud', 'line', 'manbij', 'muse', 'artery', 'college', 'combing', 'austerity', 'whistle', 'concussion', 'homo', 'inhabiting', 'alternativenews', 'lads', 'funerals', 'savings', 'loaded', 'parties', 'belarusian', 'ceiling', 'brakes', 'cripple', 'reflect', 'varied', 'watched', 'characterization', 'spectrum', 'andre', 'cluster', 'technologically', 'motions', 'nervous', 'primacy', 'teleprompter', 'wyoming', 'trials', 'gaggle', 'illuminate', 'microcephaly', 'mishandling', 'hails', 'vector', 'depicts', 'audacious', 'contact', 'radicalism', 'overweight', 'screens', 'einsteins', 'bottles', 'pensions', 'professionals', 'rebellious', 'child', 'trafficking', 'invent', 'prosecutions', 'attempted', 'heartless', 'consolidating', 'spreads', 'statistics', 'aftershocks', 'vdare', 'accommodations', 'antimicrobial', 'privatizing', 'plethora', 'tools', 'grandparents', 'athlete', 'medications', 'stanford', 'fantastic', 'redneck', 'unqualified', 'vanishes', 'hierarchy', 'prey', 'materialized', 'limbs', 'repulsed', 'inward', 'abstaining', 'attachments', 'forensic', 'somebody', 'afternoon', 'misses', 'greatness', 'barbarous', 'poisonous', 'woodrow', 'backs', 'immediate', 'tragic', 'studys', 'predictions', 'admiration', 'lieu', 'misinformed', 'prayed', 'sensors', 'dade', 'sessions', 'subjugate', 'detected', 'finian', 'glyphosate', 'track', 'recruited', 'alluded', 'explosives', 'pacifica', 'scan', 'highlighted', 'facilitating', 'pioneer', 'walshfreedom', 'thousand', 'gaping', 'schooled', 'willis', 'adolph', 'imposes', 'metric', 'pleading', 'potentially', 'masonic', 'mourning', 'semitism', 'hasten', 'koreans', 'pointing', 'mobile', 'highways', 'democracy', 'deeper', 'activation', 'cube', 'easley', 'methods', 'relating', 'pediatrics', 'contain', 'friendships', 'winter', 'unbiased', 'norms', 'incorrectly', 'cherish', 'disorder', 'ounce', 'quakes', 'juvenile', 'regulating', 'substantiated', 'axiom', 'heed', 'tenacity', 'asserts', 'warden', 'packing', 'diaper', 'biden', 'fractional', 'klein', 'loathsome', 'excuses', 'sonic', 'erupt', 'princeton', 'revisionists', 'sudden', 'vanessa', 'insider', 'pauls', 'labelled', 'jackie', 'childish', 'filthy', 'navarro', 'equated', 'goyim', 'seller', 'cliche', 'egalitarian', 'inference', 'iteration', 'visitor', 'hamilton', 'counteract', 'drafting', 'statues', 'pump', 'lehman', 'helm', 'journey', 'proclamation', 'finish', 'dissatisfaction', 'masks', 'oblivion', 'monuments', 'costa', 'collaborating', 'reality', 'lectures', 'determine', 'socioeconomic', 'prototype', 'lighting', 'tweeted', 'panicked', 'taxpayer', 'ruling', 'haiphong', 'damascus', 'deductibles', 'brock', 'ordnance', 'scanning', 'upbeat', 'calming', 'certification', 'efficiently', 'attention', 'aint', 'infuse', 'absurdly', 'internalized', 'carried', 'admire', 'disparate', 'floated', 'intriguing', 'amid', 'explosive', 'infamy', 'grocery', 'demonetization', 'detached', 'genic', 'hegemonic', 'regimes', 'aggregates', 'leniency', 'mice', 'suspending', 'intercepts', 'thoughtful', 'verifying', 'evidenced', 'commandments', 'pleasure', 'washingtons', 'bathroom', 'forefathers', 'counted', 'deepens', 'gazing', 'heats', 'incendiary', 'stimulus', 'altar', 'teetering', 'contradicting', 'plan', 'fore', 'iron', 'cohen', 'dietary', 'uncommon', 'portrait', 'endemic', 'legality', 'corporations', 'corporatist', 'fulfil', 'gold', 'rides', 'stock', 'messing', 'everybody', 'societies', 'draws', 'depend', 'hailing', 'martyrdom', 'slated', 'blow', 'contemptuous', 'fold', 'overseeing', 'astronaut', 'civic', 'inflated', 'cuts', 'keen', 'arrogance', 'syria', 'isil', 'consular', 'milo', 'heartwarming', 'resulted', 'scalp', 'strand', 'witness', 'lakes', 'slumber', 'separates', 'glitches', 'saker', 'relatively', 'margolis', 'danney', 'destination', 'seventy', 'spreading', 'demands', 'malnutrition', 'prudent', 'untrustworthy', 'earthquakes', 'nonwhite', 'incidentally', 'progress', 'easiest', 'holidays', 'resounding', 'cooperating', 'accuracy', 'scout', 'takes', 'verifiable', 'gossip', 'engineer', 'miners', 'barge', 'waves', 'alarming', 'euro', 'fragility', 'chatting', 'distracting', 'destabilizing', 'france', 'obtained', 'songwriter', 'aspirin', 'believing', 'blasphemy', 'estates', 'magazines', 'silly', 'tased', 'communicates', 'dominating', 'fancy', 'liberals', 'reincarnation', 'litany', 'urging', 'wooded', 'manufactured', 'villains', 'stream', 'indonesian', 'fundamentalist', 'ultimate', 'cleaners', 'fronts', 'teslas', 'politicized', 'youll', 'palm', 'voyage', 'atrocity', 'pathogens', 'censoring', 'antimedia', 'fishy', 'smokescreen', 'wins', 'poster', 'immediately', 'quotas', 'titles', 'geithner', 'kept', 'mistura', 'induces', 'questionable', 'clearing', 'tenn', 'hotel', 'online', 'complicate', 'platte', 'unfolds', 'yemen', 'ideology', 'hoarding', 'kahn', 'ladies', 'lede', 'load', 'ankles', 'constitutions', 'technicians', 'compassion', 'guinea', 'maintains', 'vaccines', 'chewing', 'toxic', 'reproach', 'taped', 'malaysia', 'conjured', 'disbanding', 'detective', 'toss', 'camouflage', 'upgrades', 'pimp', 'vaunted', 'merch', 'retailers', 'carol', 'beijings', 'ivan', 'pragmatist', 'biblical', 'alternet', 'chants', 'depressed', 'detect', 'burnt', 'gravity', 'institutional', 'hormonal', 'tighter', 'undeniable', 'xenophobia', 'bothering', 'caption', 'bald', 'premature', 'type', 'efforts', 'rivals', 'cousins', 'survive', 'departments', 'advancements', 'contributed', 'creation', 'frowned', 'stage', 'arrive', 'scattered', 'fate', 'homepage', 'overthrow', 'policemen', 'staged', 'theresa', 'truly', 'percentage', 'respectful', 'regenerate', 'caricature', 'understandable', 'shakes', 'extraordinary', 'control', 'railroad', 'saturdays', 'shortcomings', 'total', 'loot', 'rose', 'trolling', 'nile', 'underpinned', 'commerce', 'penalties', 'coup', 'narratives', 'purchased', 'speedy', 'autobiography', 'replayed', 'seizing', 'shower', 'curve', 'stymied', 'worsened', 'dumping', 'leaking', 'compromises', 'shah', 'fathers', 'crumbling', 'attorneys', 'irritated', 'deceptively', 'exhaustive', 'andrew', 'blunt', 'conformity', 'nicaraguan', 'nominated', 'pakistan', 'military', 'daylight', 'scale', 'knocking', 'peninsula', 'cradle', 'armed', 'converts', 'consideration', 'savagely', 'philadelphia', 'modifying', 'swirled', 'decade', 'height', 'inflammation', 'smiles', 'bags', 'charlotte', 'document', 'financier', 'jeanette', 'apocalypse', 'burwell', 'hairs', 'babylon', 'secondary', 'gordon', 'reason', 'demons', 'pour', 'website', 'fumes', 'rican', 'victor', 'wavering', 'stumble', 'ascending', 'containment', 'hopeless', 'email', 'perverse', 'breathed', 'mislead', 'exponential', 'corn', 'wont', 'overtaken', 'cite', 'telegraph', 'arrogant', 'boeing', 'eminently', 'artificially', 'movement', 'favoured', 'paintings', 'scenes', 'pleasing', 'effectiveness', 'exception', 'cataclysm', 'hebrew', 'ambitious', 'disenfranchised', 'reversed', 'jeremiah', 'formulating', 'plaintiff', 'ramos', 'denying', 'convention', 'baby', 'abnormalities', 'derived', 'electronics', 'designed', 'enriching', 'erroneous', 'hiss', 'mandatory', 'manipulate', 'lamp', 'little', 'gerald', 'consolidate', 'defines', 'oligarchical', 'business', 'tumor', 'flaming', 'plutonium', 'objectively', 'dixon', 'basket', 'blinded', 'story', 'roughly', 'strife', 'traumatized', 'unanticipated', 'skillful', 'underwent', 'entails', 'alarm', 'chair', 'religious', 'mourn', 'heartily', 'nebraska', 'southeastern', 'instagram', 'knight', 'internationally', 'lisa', 'scarcity', 'wasteland', 'brexit', 'executed', 'incest', 'train', 'lynched', 'dealers', 'colonizing', 'professionally', 'attack', 'christianity', 'camped', 'fiat', 'interrupting', 'collapses', 'introspection', 'nonlethal', 'storable', 'technocracy', 'aides', 'echelon', 'theater', 'reliability', 'moveon', 'removals', 'flops', 'impose', 'disney', 'kitchen', 'barring', 'rants', 'tightened', 'patents', 'consultation', 'racist', 'barak', 'spectator', 'alleging', 'rinse', 'seasoned', 'verizon', 'governance', 'nikki', 'argued', 'wwii', 'geographical', 'spokesmen', 'wellbeing', 'interaction', 'zeal', 'prep', 'herbs', 'culminate', 'exponentially', 'obligated', 'obstruction', 'subtitles', 'remotely', 'mergers', 'resolution', 'uncertain', 'develop', 'feature', 'straightforward', 'speculation', 'hero', 'daisy', 'digital', 'shoot', 'woods', 'choreographed', 'echo', 'ashes', 'mates', 'grad', 'novel', 'strain', 'militancy', 'birch', 'edible', 'misfortune', 'movie', 'gracious', 'roth', 'uplifting', 'clinically', 'contol', 'enters', 'hashd', 'portable', 'tallahassee', 'mankind', 'unaccompanied', 'revolve', 'severity', 'supernatural', 'evolved', 'coincidence', 'tired', 'campaigned', 'extreme', 'colombian', 'obscenely', 'exposures', 'alarmist', 'bricks', 'losers', 'appeal', 'waiver', 'summarily', 'alma', 'wisconsin', 'awakened', 'sneaking', 'flaring', 'morale', 'pertaining', 'surrendered', 'lauderdale', 'calhoun', 'occurrence', 'nearing', 'redemption', 'revive', 'lincolns', 'adjunct', 'hyman', 'degenerate', 'alabama', 'ashore', 'broncos', 'flora', 'commissioned', 'unfriendly', 'literate', 'siege', 'unfortunately', 'acceptable', 'nobility', 'props', 'stalins', 'knock', 'quagmire', 'render', 'object', 'nourishing', 'bosnia', 'wasting', 'demonstrators', 'saharan', 'chores', 'fishermen', 'neurotoxic', 'termed', 'overwhelming', 'fans', 'vertical', 'riyadh', 'gutter', 'bottled', 'diet', 'beta', 'consequent', 'environmentalists', 'unused', 'annihilation', 'saban', 'quality', 'routine', 'beware', 'glimpse', 'rewritten', 'browser', 'livelihood', 'backer', 'eviction', 'bachelors', 'observe', 'fundamentalists', 'shoreline', 'spaces', 'spontaneously', 'aurora', 'happenings', 'contained', 'automated', 'kiev', 'obstacles', 'pandas', 'perimeter', 'normalized', 'atom', 'gamut', 'anticipate', 'benenson', 'russia', 'skillfully', 'captivity', 'itau', 'breaker', 'typically', 'awaiting', 'congratulates', 'countered', 'fest', 'godfather', 'sore', 'distressing', 'cracks', 'romantic', 'malaysian', 'leakers', 'victimized', 'chaffetz', 'robotic', 'tunisia', 'depicting', 'propagate', 'comet', 'american', 'lukewearechange', 'saxon', 'faded', 'framers', 'legacy', 'cmon', 'canceling', 'conspicuously', 'orchestrated', 'probabilities', 'separately', 'phil', 'raid', 'dodged', 'installations', 'sinful', 'negotiating', 'norah', 'suggests', 'tumblr', 'wiggle', 'abyss', 'soundly', 'precedent', 'white', 'volunteer', 'outlaw', 'wound', 'amassed', 'moons', 'nerve', 'whitewash', 'destiny', 'gunpoint', 'multitudes', 'vital', 'aquatic', 'lgbt', 'institutions', 'conquering', 'optimal', 'addressed', 'champagne', 'interviewer', 'provocation', 'garnered', 'rural', 'professionalism', 'ruthlessly', 'treatment', 'disconnect', 'fatal', 'physics', 'skidmore', 'discrepancy', 'grids', 'bubble', 'downright', 'fabulous', 'pleasant', 'armored', 'ships', 'watering', 'innovation', 'defect', 'hepatitis', 'surveys', 'coke', 'circuit', 'recommends', 'ride', 'shotgun', 'traits', 'home', 'brainwashed', 'nonviolent', 'ulterior', 'wells', 'kilometres', 'contradicts', 'permalink', 'credited', 'stresses', 'warrens', 'tones', 'lift', 'idiotic', 'irrevocably', 'quartet', 'certainty', 'newton', 'recaptured', 'stopped', 'incentive', 'weighting', 'sandwich', 'lifeline', 'avoids', 'gathering', 'dismiss', 'prospect', 'truthfully', 'shelling', 'lizard', 'payment', 'sufficient', 'patented', 'naysayers', 'glenn', 'investors', 'alphabet', 'refuses', 'southern', 'vacations', 'platforms', 'dumbest', 'mecca', 'begin', 'column', 'query', 'kindle', 'cheerleaders', 'seals', 'abortions', 'assisting', 'blasio', 'disbelief', 'senses', 'serving', 'submitting', 'flatly', 'sofa', 'horns', 'fits', 'usurp', 'externally', 'scheme', 'complained', 'criminalized', 'exaggeration', 'pressured', 'cronyism', 'stir', 'forgive', 'support', 'fraudulently', 'seizure', 'believable', 'doesnt', 'deregulation', 'bombshells', 'imaginable', 'generates', 'warmonger', 'poorer', 'timelines', 'deploys', 'perpetrators', 'pipeline', 'maduro', 'stealing', 'retweets', 'lawns', 'rapidly', 'ethnicities', 'hardline', 'squash', 'parameters', 'accommodating', 'aerial', 'fruit', 'quota', 'troopers', 'fitted', 'imploded', 'assaulted', 'diabolical', 'embargo', 'glitch', 'misunderstandings', 'declarations', 'chocolate', 'endocrine', 'kleptocracy', 'concise', 'persuasion', 'lecture', 'progressivism', 'sarandon', 'earthly', 'refine', 'countering', 'meyer', 'rooting', 'downtime', 'mayor', 'opted', 'strongholds', 'csis', 'download', 'motivate', 'peppers', 'retaining', 'lifelong', 'sustainable', 'ridicule', 'desktop', 'gestures', 'zionist', 'convened', 'potter', 'scholarship', 'lily', 'childs', 'clintonites', 'condition', 'canvassing', 'nimoy', 'monk', 'province', 'foregone', 'charlatan', 'revered', 'seymour', 'alzheimers', 'anothers', 'hills', 'rust', 'transmission', 'undisturbed', 'enriched', 'javascript', 'favoring', 'jokes', 'killers', 'unionize', 'regulators', 'surges', 'turnout', 'screenshot', 'flank', 'hawks', 'observer', 'shores', 'leaps', 'congress', 'denmark', 'communion', 'crux', 'referring', 'removed', 'excerpts', 'wing', 'cord', 'overriding', 'woman', 'equilibrium', 'situations', 'limestone', 'naturalnews', 'corbett', 'abduction', 'roadside', 'utah', 'enamored', 'upside', 'legislation', 'vibrational', 'love', 'warrior', 'olds', 'obsession', 'neoconservatives', 'reclaiming', 'disclosures', 'shades', 'libertarians', 'transnational', 'automation', 'shalt', 'enables', 'madrid', 'militant', 'stiffy', 'humanitys', 'luck', 'signatures', 'subordinates', 'memorable', 'associations', 'scottish', 'dares', 'denizens', 'brand', 'fascist', 'phantom', 'scheduling', 'store', 'structurally', 'interventionist', 'fallout', 'niggers', 'tweaks', 'extent', 'wields', 'invite', 'alfred', 'exceptions', 'senior', 'reckless', 'skinned', 'underestimate', 'commercials', 'wishful', 'continents', 'coding', 'pushback', 'booby', 'formulas', 'hallway', 'elegant', 'possession', 'withdrawal', 'badly', 'keynote', 'squeezing', 'disappear', 'craft', 'apparent', 'japanese', 'christ', 'fleet', 'lesser', 'nukes', 'bowed', 'ridiculed', 'instruments', 'deliberately', 'announcing', 'suspended', 'devious', 'mattskosh', 'amazing', 'indicate', 'defunct', 'engines', 'carotene', 'eduard', 'escobar', 'claim', 'misogynist', 'opioid', 'soars', 'flap', 'divorce', 'neanderthal', 'reduces', 'paragraphs', 'greanvillepost', 'narrow', 'onwards', 'infighting', 'choking', 'smith', 'telescope', 'spouses', 'vassals', 'espionage', 'denounces', 'opec', 'entrusted', 'pregnant', 'spinach', 'reproduced', 'heroin', 'educate', 'bibles', 'mimic', 'represents', 'biggest', 'delaware', 'habitat', 'moderator', 'operations', 'warmth', 'blond', 'hazy', 'jumps', 'manage', 'anathema', 'opportunism', 'pollinators', 'equity', 'fled', 'hospitality', 'punjab', 'ministrys', 'comparatively', 'diebold', 'newspapers', 'competing', 'interrogations', 'gary', 'places', 'bigotry', 'prague', 'wonderfully', 'bowel', 'squarely', 'optic', 'toxicity', 'uncover', 'downtown', 'missile', 'visual', 'hedge', 'sullivan', 'storyline', 'sponsors', 'stand', 'streamcast', 'laser', 'delude', 'discretionary', 'hint', 'joes', 'kashmir', 'handling', 'legislatures', 'democratically', 'sams', 'partake', 'disturb', 'sharon', 'celtic', 'addictive', 'cuban', 'divide', 'unfairness', 'andersen', 'ruffalo', 'reopens', 'briefly', 'corps', 'minimum', 'childhood', 'extracts', 'illuminatis', 'ceaseless', 'charm', 'musket', 'exchanged', 'rebuilding', 'diehard', 'scanners', 'sickening', 'lopez', 'kaliningrad', 'placed', 'birmingham', 'temporarily', 'tony', 'benefitting', 'darkness', 'cash', 'gosh', 'grill', 'orchestrating', 'rabble', 'exceptional', 'leach', 'maddow', 'mary', 'adam', 'temperamentally', 'infesting', 'letters', 'hows', 'tripoli', 'deepleftfield', 'ghetto', 'depending', 'developments', 'inform', 'scholar', 'preparing', 'unconventional', 'suspect', 'analytics', 'chance', 'coat', 'genuinely', 'happens', 'okay', 'provider', 'appeared', 'landed', 'reserves', 'heartbreaking', 'negligent', 'oren', 'empathy', 'contraband', 'sanitized', 'cock', 'clinging', 'flashes', 'lawful', 'appropriated', 'noteworthy', 'illegitimacy', 'chappaqua', 'contrarian', 'curing', 'pacific', 'instinctively', 'statist', 'stuart', 'stronghold', 'independently', 'convert', 'defeated', 'owns', 'trottier', 'hail', 'besieged', 'acquaintance', 'television', 'smog', 'middlemen', 'occupations', 'pearls', 'outweighs', 'methodist', 'adobo', 'hinting', 'cruiser', 'africas', 'marxism', 'ounces', 'generation', 'tabs', 'humility', 'metadata', 'centrally', 'regard', 'pumping', 'tame', 'randy', 'fundamentally', 'traveled', 'grossly', 'outsourced', 'vince', 'destabilization', 'mall', 'donned', 'edition', 'girlfriend', 'hawkins', 'defendants', 'inexpensive', 'arranged', 'ahmed', 'grace', 'juries', 'eternally', 'obedience', 'oddly', 'exists', 'predators', 'antibiotics', 'manufactures', 'northern', 'confided', 'angst', 'panama', 'flying', 'fangs', 'appeals', 'chasm', 'capturing', 'martyrs', 'partisan', 'facts', 'reporter', 'scandal', 'arrows', 'dictatorship', 'manufacture', 'retire', 'misuse', 'newsroom', 'upended', 'tablespoon', 'gastrointestinal', 'supremacist', 'fisk', 'preferences', 'telescopes', 'tactics', 'dispatched', 'wayne', 'marker', 'visionary', 'milkman', 'envelope', 'ghana', 'hrcs', 'yang', 'enshrined', 'programme', 'paved', 'houthi', 'stunt', 'weighty', 'remained', 'trial', 'definitely', 'administered', 'poses', 'radiating', 'exposed', 'gateway', 'nteb', 'lucky', 'percents', 'cowardly', 'dimon', 'pursuant', 'organizer', 'taxonomy', 'translates', 'wars', 'aluminum', 'mutilates', 'preexisting', 'amazingly', 'regular', 'detention', 'aired', 'alternate', 'dispossessed', 'weighs', 'awoke', 'module', 'group', 'bedrock', 'assisted', 'escalation', 'gregory', 'fifths', 'organizers', 'redirect', 'dots', 'supremacy', 'calvin', 'conservative', 'tossed', 'organize', 'expertly', 'liberation', 'lively', 'submarine', 'advent', 'countless', 'desperately', 'speaker', 'mailing', 'smoking', 'audiences', 'edit', 'dispersed', 'stoop', 'notions', 'exclusive', 'russias', 'cherese', 'zuckerberg', 'fault', 'shake', 'tablet', 'shredded', 'marquis', 'liability', 'globalisation', 'photoshopped', 'zach', 'deceive', 'produced', 'suppliers', 'legions', 'buddhists', 'jacket', 'subpoenaed', 'assembly', 'utterly', 'porn', 'espoused', 'perpetuate', 'despicable', 'salty', 'shocking', 'dominates', 'listening', 'erased', 'queries', 'waking', 'bragging', 'cargo', 'opera', 'helps', 'narcotic', 'floats', 'cozy', 'nails', 'slipping', 'stereotype', 'explicit', 'daddy', 'infectious', 'parker', 'green', 'southeast', 'inflaming', 'strained', 'strewn', 'wait', 'mobs', 'forth', 'accommodate', 'undercutting', 'eyed', 'coronary', 'desecrated', 'priceless', 'received', 'guardsmen', 'defenders', 'smartphones', 'suppression', 'frightening', 'increased', 'harvey', 'insurgents', 'legalese', 'fated', 'generate', 'looming', 'sjws', 'deutsche', 'chlorine', 'diversified', 'fruitful', 'reconciled', 'boring', 'globalresearch', 'journalism', 'omit', 'patronage', 'probe', 'proclaims', 'progressed', 'environmental', 'dousing', 'toilet', 'discrediting', 'richest', 'shortage', 'paste', 'pepper', 'technological', 'kellogg', 'darwin', 'hated', 'swamp', 'steam', 'finally', 'cheat', 'passenger', 'smooth', 'clyde', 'invitations', 'regulates', 'ones', 'unreasonable', 'majesty', 'pretended', 'seasonal', 'registry', 'venom', 'symbolizes', 'pacts', 'booker', 'womans', 'stabbings', 'engineered', 'weren', 'swelling', 'noon', 'subtle', 'clamor', 'history', 'chakras', 'marion', 'mich', 'whining', 'scared', 'benevolent', 'cheng', 'closures', 'breakthroughs', 'pornographic', 'sexism', 'mosquito', 'validates', 'pieces', 'grinning', 'opinionated', 'punished', 'kadzik', 'opens', 'captive', 'personality', 'villagers', 'vying', 'detachment', 'disciplined', 'fury', 'outlets', 'originated', 'corporatized', 'foremost', 'formulate', 'gaming', 'instill', 'reminding', 'vagina', 'renovation', 'seventeen', 'marches', 'contacted', 'handgun', 'pass', 'assertions', 'implications', 'loyalists', 'popped', 'divestment', 'theyre', 'syrup', 'does', 'bulldozed', 'north', 'leonard', 'motherland', 'analysts', 'healthy', 'arthur', 'trusts', 'chairman', 'delegate', 'ditz', 'colds', 'identify', 'thankfully', 'investigated', 'facing', 'allows', 'inimical', 'tons', 'mens', 'propelled', 'recipients', 'bastards', 'dave', 'explain', 'publics', 'purse', 'malevolent', 'renders', 'simon', 'slamming', 'fearsome', 'smile', 'windows', 'entry', 'consumed', 'mailers', 'eminent', 'inspired', 'thanksgiving', 'criteria', 'yogurt', 'throat', 'supplies', 'chinese', 'august', 'historian', 'permission', 'comprised', 'woken', 'clustered', 'mania', 'sacrament', 'mold', 'walls', 'idea', 'father', 'releases', 'arabias', 'lecturer', 'validation', 'convoys', 'silently', 'mortar', 'beverly', 'cents', 'securities', 'narrows', 'sleeps', 'klan', 'declare', 'counsel', 'curate', 'divest', 'fotm', 'ratings', 'vulgarity', 'deteriorating', 'sioux', 'sparsely', 'asked', 'dedicating', 'equation', 'mile', 'walt', 'manager', 'practical', 'tipped', 'nears', 'chemistry', 'extracting', 'disclaimer', 'tried', 'cocktails', 'asks', 'mins', 'sustains', 'controversy', 'judges', 'rising', 'stray', 'perish', 'debut', 'wrongdoing', 'sentences', 'clueless', 'edge', 'cheer', 'paltry', 'provoked', 'paradox', 'pipe', 'abby', 'kansas', 'negative', 'leafy', 'consists', 'permanent', 'jarring', 'laos', 'disruption', 'adelson', 'brick', 'haaretz', 'gentile', 'attracts', 'sheikh', 'interacted', 'myriad', 'truthdig', 'wichita', 'alteration', 'pundit', 'rested', 'accounting', 'fetus', 'khamenei', 'successors', 'formulated', 'hellfire', 'amanda', 'okinawa', 'singapore', 'pantsuit', 'solidify', 'thinker', 'numerous', 'shelves', 'mayhem', 'sevastopol', 'demagogues', 'contemplating', 'exploded', 'introductory', 'pasta', 'crescent', 'umbrella', 'films', 'herbicide', 'minimize', 'upright', 'histories', 'unchanged', 'acting', 'companys', 'grasp', 'rightly', 'cattle', 'orbits', 'plagued', 'symbol', 'lacks', 'potent', 'risky', 'asap', 'wallet', 'insured', 'proportions', 'rabbis', 'firm', 'coronation', 'plummeting', 'grenades', 'andrei', 'heartbeat', 'prince', 'pronounced', 'childcare', 'steady', 'rahm', 'repayment', 'fines', 'supporters', 'downed', 'minor', 'simulations', 'plate', 'altercation', 'carrots', 'shockingly', 'honduras', 'distilled', 'devastation', 'parking', 'cotton', 'position', 'lone', 'gardener', 'adversaries', 'cites', 'insistent', 'steadily', 'ibid', 'karma', 'cooling', 'gowdy', 'concurrent', 'execution', 'skepticism', 'marginalization', 'ethics', 'nationalize', 'chapters', 'progresses', 'devolved', 'fears', 'elliptical', 'discoveries', 'determined', 'adverse', 'subsidiary', 'normality', 'implying', 'airing', 'lame', 'volatile', 'womb', 'curated', 'regarded', 'abstain', 'matching', 'macroeconomic', 'communicate', 'propped', 'mortgage', 'rated', 'unlikely', 'cardboard', 'arbitration', 'reassuring', 'cancer', 'cybersecurity', 'deadliest', 'firepower', 'knives', 'vortex', 'upbringing', 'consortium', 'plug', 'disperse', 'notebook', 'dams', 'clearer', 'sprott', 'fetal', 'unleash', 'computing', 'deductible', 'acquiesced', 'mutinous', 'subways', 'underlined', 'buffalo', 'expressing', 'characterizes', 'faculty', 'espn', 'insensitive', 'practically', 'loop', 'manually', 'bridges', 'verbatim', 'ethic', 'gradually', 'recommendations', 'collateral', 'intrusive', 'graduated', 'privatize', 'provokes', 'usage', 'egyptians', 'costumes', 'grievances', 'bernstein', 'holier', 'pins', 'bowl', 'slobodan', 'valerie', 'kimberly', 'stain', 'chupacabras', 'holocaust', 'thursday', 'diminished', 'remembered', 'surgeons', 'lengths', 'diligent', 'confirmed', 'develops', 'pamphlets', 'pilgrim', 'appellate', 'pretense', 'halt', 'sunny', 'glut', 'indicator', 'voters', 'annexes', 'slave', 'twist', 'view', 'championed', 'barnesandnoble', 'egon', 'justify', 'determines', 'thomas', 'resignations', 'talmud', 'timeframe', 'additionally', 'bullion', 'goodness', 'buildings', 'posing', 'advertisement', 'bible', 'book', 'extensive', 'trooper', 'caucuses', 'elite', 'blocs', 'centerpiece', 'squashed', 'prolonged', 'executes', 'novelty', 'spoon', 'preached', 'google', 'outsource', 'whod', 'throwing', 'neighborhood', 'margins', 'sisters', 'degree', 'worships', 'camps', 'youngster', 'ecology', 'trayvon', 'civilization', 'budgets', 'medvedev', 'script', 'vapid', 'militants', 'chronic', 'elderly', 'decisions', 'newman', 'torrent', 'nordic', 'antitrust', 'oversaw', 'osce', 'overheard', 'parroted', 'emptively', 'occur', 'dreaded', 'nevada', 'indoctrinated', 'transcript', 'selfish', 'humidity', 'partnership', 'putin', 'qatar', 'wonderful', 'induce', 'approximations', 'pales', 'roadblock', 'nypd', 'accompanies', 'sneaky', 'flimsy', 'assimilation', 'headache', 'potentials', 'psychic', 'boyfriends', 'toxins', 'stamina', 'suburb', 'draft', 'exerted', 'upwards', 'capitulate', 'network', 'feigned', 'driving', 'collections', 'cyberwar', 'icbms', 'convincing', 'clarifying', 'elector', 'merchandise', 'epoch', 'insects', 'succeeds', 'lengthy', 'hardy', 'infantry', 'pharma', 'photographers', 'taylor', 'jewel', 'trouble', 'aware', 'brainwashing', 'dull', 'crushed', 'jewels', 'favorites', 'flavor', 'effort', 'digit', 'subscribe', 'recalls', 'steaming', 'hook', 'dresden', 'watchdog', 'everyday', 'monger', 'baptist', 'obstructionism', 'lucas', 'parse', 'criticized', 'fundraisers', 'mexico', 'educator', 'terrorizing', 'emmy', 'imagined', 'nineveh', 'secured', 'massive', 'omission', 'overtime', 'shells', 'grievance', 'madison', 'berman', 'market', 'discharging', 'abetting', 'ironically', 'integration', 'seeds', 'unbeknownst', 'irresistible', 'alex', 'francais', 'whiff', 'graduating', 'unseat', 'eras', 'appreciated', 'aqsa', 'inflammatory', 'schedule', 'salt', 'macys', 'strayed', 'mumbo', 'snyder', 'ditched', 'abide', 'looting', 'ostracized', 'mart', 'feather', 'cake', 'approving', 'niece', 'perceptive', 'installing', 'billionaires', 'disseminate', 'registration', 'spokespersons', 'stamp', 'viking', 'jalapenos', 'transpiring', 'touted', 'boomer', 'treating', 'griffin', 'inroads', 'realistically', 'snacks', 'typo', 'understands', 'unfathomable', 'regulation', 'upped', 'exhaustion', 'narcissist', 'convergence', 'judgement', 'thriving', 'frenzied', 'donates', 'farage', 'videos', 'coins', 'summarized', 'bannon', 'sanjiv', 'chin', 'embark', 'tehrans', 'deaf', 'incite', 'marrying', 'birthright', 'economies', 'trilateral', 'reset', 'evade', 'chickens', 'commission', 'estimated', 'depart', 'ronald', 'servitude', 'suspected', 'target', 'owning', 'swords', 'cambodia', 'hardships', 'manly', 'measures', 'fuel', 'multi', 'nominal', 'generously', 'estranged', 'drink', 'kills', 'brother', 'nichols', 'lobbying', 'introduced', 'monstrosity', 'aries', 'mouth', 'subsidy', 'trio', 'exited', 'flowed', 'manslaughter', 'exchanging', 'paleo', 'superstition', 'recapture', 'sacramento', 'monthly', 'torn', 'swell', 'varsity', 'thrives', 'completes', 'psychopathy', 'unable', 'mathematician', 'jorge', 'dole', 'catastrophe', 'passages', 'simulation', 'smug', 'commander', 'seamless', 'sons', 'technology', 'disclosed', 'equals', 'raids', 'keyboard', 'cleanse', 'geopolitics', 'proceed', 'scare', 'shepard', 'underway', 'struggled', 'bean', 'experiencing', 'matrix', 'edmondo', 'rebuffed', 'vote', 'eastern', 'additives', 'pakistans', 'caesar', 'civilizations', 'cancerous', 'economics', 'energetically', 'kelley', 'loudly', 'nutrition', 'ashamed', 'informative', 'trying', 'alexis', 'ceasing', 'lrol', 'jasoninthehouse', 'landing', 'conflicted', 'denver', 'usgs', 'holmes', 'touching', 'tribal', 'metaphysical', 'onions', 'package', 'intensely', 'inane', 'cheerleading', 'clocks', 'confidently', 'hits', 'jaffe', 'litigation', 'hath', 'collaboration', 'edwin', 'millennia', 'nicolas', 'oral', 'premise', 'businessman', 'sentient', 'entrepreneurship', 'maintenance', 'reluctantly', 'resilience', 'averaging', 'paving', 'clone', 'resent', 'requiring', 'vanguard', 'private', 'cultivate', 'audits', 'manure', 'biography', 'crazed', 'embroiled', 'retaliation', 'draped', 'misdeeds', 'tuesdays', 'sloppy', 'michel', 'cynicism', 'colin', 'grams', 'gory', 'overturning', 'recruitment', 'rockets', 'showcase', 'shown', 'assuredly', 'shepherd', 'subliminal', 'commie', 'fashion', 'intuitively', 'michele', 'malice', 'ginger', 'politifact', 'appearance', 'deflect', 'printed', 'remedies', 'fivethirtyeight', 'equivalent', 'dreams', 'raison', 'coercion', 'torment', 'qaida', 'decipher', 'straw', 'hijacking', 'brat', 'trojan', 'guise', 'diets', 'arlington', 'danger', 'offs', 'parable', 'farmer', 'garner', 'stuffing', 'anchored', 'refuted', 'solely', 'validated', 'dying', 'touches', 'flak', 'russ', 'crucified', 'hostage', 'enjoy', 'references', 'triumphs', 'barrier', 'decimate', 'lavender', 'scroll', 'broadest', 'assigning', 'confederate', 'finances', 'maga', 'usable', 'horn', 'clan', 'jerk', 'tacit', 'waterboarding', 'ellen', 'cage', 'correcting', 'correspondence', 'altitude', 'crowd', 'demented', 'enthusiasm', 'flags', 'listeners', 'extermination', 'porno', 'resurrection', 'cyber', 'amounts', 'underreported', 'inhabit', 'nursery', 'eyewitness', 'lion', 'consult', 'whisked', 'persecute', 'capitalize', 'arthritis', 'emerges', 'interesting', 'lieutenant', 'dictates', 'halting', 'readynutrition', 'perverts', 'belonged', 'herbalist', 'landmark', 'spouting', 'country', 'tolerant', 'pageviews', 'obey', 'appropriations', 'infuriated', 'materialism', 'moreno', 'painfully', 'saturday', 'towel', 'saving', 'baked', 'annals', 'buildups', 'agency', 'irritating', 'imbeciles', 'veritable', 'singing', 'fiber', 'franklin', 'grasped', 'distortions', 'stan', 'materialize', 'reinstated', 'building', 'betting', 'crippled', 'mussolini', 'emma', 'nutrients', 'eugenics', 'puerto', 'faithfully', 'favourite', 'admittedly', 'forged', 'leave', 'european', 'ports', 'absorb', 'buddy', 'archives', 'merit', 'premeditated', 'bookmark', 'reformed', 'complimentary', 'antidepressant', 'drunk', 'implicate', 'indignation', 'kidnapped', 'slammed', 'midst', 'peculiarities', 'allege', 'intensity', 'crusaders', 'colonial', 'massacre', 'miranda', 'rampage', 'scrub', 'sure', 'watt', 'buckle', 'analyze', 'debbie', 'prophecy', 'carnegie', 'sensitive', 'politician', 'powers', 'sympathy', 'thor', 'disposed', 'hiroshima', 'affront', 'recession', 'derogatory', 'rejection', 'redeemed', 'checkpoint', 'juice', 'black', 'exhibition', 'widespread', 'linear', 'partners', 'tear', 'gleefully', 'exterminate', 'makers', 'travelers', 'classrooms', 'topic', 'stoning', 'plunder', 'dispensing', 'exposure', 'prohibition', 'vindictive', 'communications', 'ahmad', 'assume', 'holding', 'bunch', 'episode', 'reversing', 'gabbard', 'hiring', 'stressed', 'recommended', 'microwaves', 'teenage', 'venezuelas', 'connotation', 'limelight', 'plenary', 'exercises', 'supports', 'employees', 'shtfplan', 'symbolize', 'southfront', 'admired', 'helmet', 'laissez', 'recognizable', 'dodge', 'trustworthy', 'intangible', 'picking', 'weakening', 'financiers', 'stereotypes', 'gallon', 'resolutely', 'swaths', 'trumpet', 'yearning', 'apartheid', 'oneself', 'dysfunctional', 'fatherhood', 'reasoning', 'hilter', 'tories', 'purposes', 'cherryl', 'imminent', 'shareholder', 'fell', 'burkas', 'elusive', 'unites', 'visibly', 'programs', 'remarkably', 'interceptor', 'clay', 'goods', 'inquire', 'emailing', 'indoctrination', 'outfitted', 'steered', 'weekly', 'sensed', 'forests', 'dunk', 'immature', 'stranger', 'adrian', 'coated', 'bernardino', 'vegetables', 'singh', 'library', 'stalemate', 'stopping', 'fist', 'encircling', 'stifle', 'insulate', 'fosters', 'pushed', 'showers', 'violated', 'award', 'hardworking', 'interim', 'maiming', 'uzbekistan', 'behaved', 'habit', 'disappears', 'discrete', 'slovakia', 'rulings', 'firmly', 'goldwater', 'pierce', 'redistribution', 'founded', 'parading', 'grimly', 'entrenched', 'depopulation', 'showing', 'favorably', 'cohn', 'equating', 'scolding', 'eyebrows', 'contrasting', 'poroshenko', 'sufficiency', 'objective', 'clashing', 'gang', 'creepy', 'alienation', 'councils', 'dramatically', 'duplicitous', 'gluten', 'propensity', 'metaphors', 'instructs', 'purple', 'athletic', 'crucifixion', 'ignite', 'reservation', 'fast', 'bureaucracies', 'felon', 'frustrated', 'japan', 'ruptly', 'stove', 'analyzed', 'explored', 'member', 'nate', 'sheridan', 'swan', 'reproducing', 'bodily', 'fluoride', 'speculating', 'alignment', 'theantimedia', 'eugene', 'quake', 'responders', 'lincoln', 'saddle', 'situation', 'neutralized', 'backfired', 'superpower', 'tries', 'offspring', 'gave', 'fractured', 'matteo', 'lean', 'dearly', 'dykes', 'sociopath', 'respects', 'benefitted', 'policed', 'feeling', 'suicides', 'systematic', 'willingly', 'networking', 'endorsing', 'attuned', 'bennett', 'acolytes', 'enacting', 'able', 'surface', 'spearheaded', 'reckon', 'lara', 'emily', 'iodine', 'emperors', 'cherished', 'hallways', 'headaches', 'hostages', 'disgraceful', 'atheists', 'neighbours', 'combat', 'haitians', 'czech', 'attacking', 'risk', 'kids', 'dilute', 'devoting', 'assassinating', 'bailouts', 'pity', 'socialists', 'calories', 'teams', 'cords', 'fourteen', 'planners', 'photographer', 'europeans', 'spotted', 'unknowingly', 'packaging', 'flagrant', 'bonus', 'chemicals', 'exterior', 'instituted', 'anticipated', 'bitch', 'clings', 'colombia', 'baffling', 'coms', 'intimidate', 'manufacturing', 'borrow', 'millennial', 'mexicans', 'iniquity', 'cannon', 'sway', 'mcgovern', 'ruth', 'chip', 'khans', 'focused', 'enlightening', 'fulfill', 'decades', 'privilege', 'strategically', 'refueling', 'alil', 'invocation', 'libraries', 'evidently', 'eyebrow', 'cusp', 'evoking', 'presenter', 'riot', 'holdouts', 'stroke', 'motorcade', 'diamond', 'sickened', 'genius', 'cautiously', 'supplied', 'streets', 'identifiable', 'gear', 'struggles', 'ebook', 'endures', 'postmodernism', 'thatcher', 'dwellers', 'laugh', 'tweeting', 'appropriately', 'fernandez', 'brooklyn', 'spared', 'stability', 'unmistakable', 'discussing', 'casts', 'mcmullin', 'saddened', 'bulletin', 'deposited', 'furniture', 'wests', 'catches', 'precisely', 'auditorium', 'switch', 'doughnuts', 'mongers', 'toronto', 'damages', 'gangster', 'germs', 'healed', 'hottest', 'assertion', 'reynolds', 'cater', 'spaceship', 'spraying', 'airlines', 'albany', 'latitude', 'bothers', 'alter', 'ayatollah', 'bitches', 'mention', 'sensitivities', 'scratch', 'haider', 'prescribed', 'reply', 'triangle', 'confused', 'underwear', 'insure', 'conservatives', 'groups', 'plummets', 'mexican', 'slavo', 'forming', 'semblance', 'vows', 'evidence', 'known', 'silvers', 'motto', 'anbar', 'abnormally', 'opioids', 'inflating', 'rearing', 'vacuum', 'convenient', 'rahman', 'tailor', 'destabilized', 'vendors', 'interruptions', 'fantasies', 'wired', 'halfway', 'paying', 'refute', 'subdue', 'capita', 'sector', 'emphasize', 'terrorism', 'thats', 'achieving', 'hardened', 'reassured', 'authorizes', 'conglomerate', 'forensics', 'scorpion', 'secular', 'whispers', 'foxnews', 'soap', 'alawite', 'counts', 'craziest', 'expenditures', 'disillusionment', 'neuroscience', 'physical', 'absorbs', 'accident', 'exiting', 'archaeologist', 'paragon', 'technical', 'hawkish', 'symbolic', 'intertwined', 'technocrats', 'bulldozers', 'murdering', 'using', 'executing', 'bliss', 'degrade', 'surrounded', 'sherman', 'brussels', 'discerning', 'unprepared', 'rafael', 'appealing', 'kemp', 'undergo', 'degrees', 'consulted', 'sponsoring', 'potency', 'sporting', 'igor', 'epitome', 'music', 'stewart', 'team', 'cops', 'dialectic', 'obscure', 'onset', 'eradicating', 'pollutants', 'barrage', 'nightmares', 'bike', 'molecules', 'forgetting', 'bypass', 'dozen', 'cannonball', 'galvanize', 'installation', 'paternity', 'path', 'shaped', 'caused', 'welle', 'aiming', 'hotspot', 'donalds', 'fixer', 'genesis', 'jersey', 'overload', 'risks', 'exaggerated', 'wendy', 'numbering', 'wiki', 'estate', 'tells', 'fidel', 'multitude', 'individually', 'examples', 'professed', 'cynical', 'colorado', 'keynesian', 'excess', 'inversion', 'contend', 'governors', 'hiker', 'fellowship', 'coordinator', 'prohibit', 'disposal', 'veritas', 'surgeries', 'bake', 'convincingly', 'measuring', 'pasadena', 'tractable', 'exceeds', 'maximize', 'wants', 'certified', 'departure', 'boredom', 'feasible', 'deranged', 'minded', 'mountainous', 'noticed', 'produces', 'respond', 'copied', 'libyan', 'hopkins', 'electricity', 'mockery', 'impending', 'braun', 'fundamental', 'rhetoric', 'philadelphiasaying', 'role', 'transcended', 'honored', 'copious', 'eighteen', 'church', 'copyright', 'vacant', 'fearing', 'hangs', 'photographs', 'magical', 'clamoring', 'gareth', 'values', 'freeing', 'epidemics', 'sources', 'uniquely', 'sparked', 'censure', 'multinational', 'puzzle', 'uganda', 'nebulous', 'printing', 'insurgencies', 'extravagant', 'chew', 'pinocchio', 'comment', 'chakra', 'breakout', 'likes', 'outlived', 'meeting', 'mistreatment', 'foreigners', 'disseminated', 'propagandist', 'livestock', 'short', 'inequality', 'darn', 'raleigh', 'icbm', 'neighbors', 'price', 'advocated', 'luxembourg', 'glossed', 'cheating', 'loans', 'wrongdoings', 'robbie', 'northeastern', 'purely', 'bundys', 'duke', 'increase', 'digitally', 'incitement', 'overcame', 'radicalized', 'homelands', 'repeat', 'response', 'salads', 'tradition', 'icon', 'impacts', 'populism', 'foundational', 'whiny', 'varying', 'kris', 'subjugation', 'soured', 'seasonally', 'resettlement', 'intervene', 'excellence', 'stay', 'arun', 'trusting', 'selectively', 'fraught', 'murad', 'noticing', 'punishment', 'whitehead', 'impediment', 'decrying', 'influenza', 'astray', 'peaking', 'races', 'admiral', 'barmaid', 'derive', 'assessment', 'gentleman', 'initiate', 'happening', 'floundering', 'lamps', 'ruins', 'tests', 'intent', 'buffoon', 'giants', 'need', 'apologizing', 'nicholson', 'predecessor', 'sizable', 'dwarfs', 'pledging', 'galacticconnection', 'relationship', 'satirical', 'thee', 'version', 'teaspoon', 'napolitano', 'reared', 'washed', 'sponsor', 'loch', 'urine', 'tuition', 'analytical', 'francisco', 'reduction', 'modis', 'forwards', 'cancelling', 'coincide', 'consultations', 'detoxify', 'fewer', 'therapist', 'tariffs', 'witterings', 'shot', 'splc', 'truthout', 'donations', 'staffing', 'hadn', 'overcoming', 'solo', 'starship', 'discounted', 'courtyard', 'repression', 'unfair', 'enthusiastically', 'inclines', 'children', 'dorm', 'lake', 'productive', 'tirades', 'wakingtimes', 'bowing', 'compensated', 'contests', 'kissinger', 'suggestive', 'krugman', 'gubernatorial', 'insight', 'guidelines', 'reince', 'appointee', 'bigger', 'colluding', 'suburban', 'dignity', 'behaves', 'algerian', 'finest', 'newcomers', 'pretentious', 'barons', 'staying', 'massachusetts', 'nearer', 'staff', 'thread', 'deputies', 'succession', 'politicians', 'emphasis', 'sierra', 'torso', 'trajectory', 'leagues', 'seal', 'scientists', 'indefensible', 'adherence', 'drums', 'punish', 'exceeding', 'resilient', 'laughs', 'samples', 'powerful', 'operates', 'coterie', 'mouths', 'beacon', 'pastors', 'abundance', 'sunset', 'flows', 'predicts', 'anomaly', 'escorting', 'gonna', 'morgan', 'ruler', 'honeymoon', 'outsourcing', 'episodes', 'statistically', 'morals', 'retreats', 'extended', 'center', 'adequate', 'migrants', 'accessing', 'contagion', 'dwarf', 'restroom', 'nomination', 'finalize', 'misnomer', 'clots', 'washing', 'regimen', 'deficit', 'bias', 'verification', 'pinging', 'sleep', 'uploads', 'unsurprising', 'customers', 'normalizing', 'damned', 'impoverished', 'crash', 'amounting', 'sales', 'sprawling', 'traps', 'cover', 'bergdahl', 'divert', 'bender', 'hinder', 'prominently', 'kurdish', 'rescued', 'humvees', 'tropical', 'urban', 'cubas', 'postal', 'sodium', 'tracts', 'mentors', 'abdomen', 'cultures', 'latino', 'interferes', 'disapproves', 'georgia', 'ineffectual', 'hadi', 'greatly', 'intellectuals', 'syrmopoulos', 'landrieu', 'guided', 'cycle', 'ascend', 'peace', 'unconscious', 'entertainment', 'queues', 'haze', 'symbols', 'multicultural', 'trailers', 'dutifully', 'isis', 'tumultuous', 'array', 'decimating', 'gigantic', 'satanism', 'reunite', 'wounds', 'challenger', 'fairly', 'eternal', 'laura', 'boils', 'entities', 'conducted', 'turnaround', 'philosophical', 'powerball', 'bruised', 'holistic', 'consternation', 'prisons', 'mathematics', 'birds', 'discrimination', 'disqus', 'dodgy', 'ticking', 'rushes', 'needle', 'wheels', 'tall', 'send', 'festering', 'headquarters', 'tenet', 'objectives', 'tucker', 'technocratic', 'idlib', 'plurality', 'check', 'situated', 'inserting', 'verbal', 'hannah', 'awhile', 'descendants', 'montenegro', 'ranks', 'chess', 'cleanup', 'blatant', 'fading', 'rouge', 'representatives', 'deficiency', 'ucla', 'greedy', 'scarborough', 'character', 'marc', 'provoking', 'untreated', 'secretary', 'houses', 'extremists', 'sadness', 'moloch', 'aids', 'constituencies', 'provides', 'wear', 'scaling', 'scrubs', 'custom', 'swaying', 'binding', 'domain', 'billion', 'seeing', 'stein', 'championing', 'whatsoever', 'county', 'filling', 'officeholders', 'unnoticed', 'broward', 'colleagues', 'sane', 'broadly', 'biometric', 'folks', 'selective', 'derek', 'production', 'explosion', 'elevated', 'daughters', 'trope', 'ranking', 'cellphone', 'envisioned', 'lions', 'bismarck', 'officer', 'inept', 'paycheck', 'physicist', 'planting', 'julia', 'plunge', 'richmond', 'centered', 'sirte', 'attribute', 'soar', 'springs', 'steps', 'wastes', 'global', 'racists', 'payers', 'handful', 'intimidating', 'growing', 'stimulation', 'bore', 'tagging', 'transpire', 'comic', 'politicizing', 'brittle', 'responsibilities', 'turbulent', 'wrist', 'ghost', 'eschew', 'requesting', 'rotational', 'occurs', 'yelling', 'dismantled', 'list', 'incur', 'news', 'republicans', 'distracted', 'retail', 'blazing', 'easy', 'policing', 'rallied', 'assignments', 'formidable', 'admits', 'bisexual', 'confounding', 'pike', 'reuters', 'aliens', 'nineteenth', 'embracing', 'tampering', 'grease', 'intelligent', 'relate', 'bewilderment', 'functional', 'today', 'ukrainians', 'inalienable', 'wonder', 'neurologist', 'modernization', 'arnoldski', 'naming', 'shun', 'meantime', 'dies', 'hindu', 'connecticut', 'petty', 'analog', 'sucking', 'definitions', 'conglomerates', 'nusra', 'zombie', 'gripped', 'review', 'wisely', 'harsher', 'township', 'silk', 'colonization', 'meme', 'drones', 'socialism', 'ethical', 'industrialized', 'audio', 'hemp', 'shelby', 'anthem', 'policies', 'pioneering', 'uranium', 'collectors', 'flexing', 'considerable', 'setup', 'speeches', 'militia', 'frankenstein', 'sirens', 'captivated', 'coasts', 'sundry', 'imprisoned', 'tectonic', 'beaten', 'folk', 'cautious', 'dogs', 'logos', 'successfully', 'scotts', 'devoted', 'neurotoxin', 'civilizational', 'mccarthy', 'recount', 'digestion', 'astonished', 'aetna', 'rainbow', 'slant', 'groping', 'ripped', 'hallmarks', 'augustine', 'wesley', 'claw', 'warships', 'west', 'dissent', 'encircled', 'gridlock', 'stones', 'allowing', 'conservatism', 'rapids', 'loneliness', 'donating', 'contaminating', 'meteor', 'powered', 'kabul', 'range', 'flash', 'thinly', 'brings', 'joined', 'guns', 'explosions', 'pillar', 'balanced', 'heap', 'marianne', 'confident', 'memories', 'mountain', 'petro', 'staffer', 'tapper', 'undermined', 'unreliable', 'leveled', 'stump', 'phrase', 'bold', 'lull', 'roadblocks', 'smugglers', 'buffer', 'misled', 'reclassify', 'spokeswoman', 'sucker', 'surveillance', 'workable', 'plasma', 'beef', 'alienating', 'lunatic', 'promptly', 'quantum', 'bigfoot', 'bursts', 'derivative', 'imaging', 'peters', 'contradicted', 'salem', 'kazakhstan', 'subservient', 'existent', 'bars', 'dice', 'condemnations', 'indian', 'effected', 'dawn', 'pitch', 'pardon', 'plutocrats', 'peanut', 'boats', 'details', 'understated', 'diserio', 'variable', 'compel', 'creations', 'screengrab', 'ignorance', 'deficits', 'advertiser', 'libido', 'startup', 'external', 'incurred', 'merchants', 'unsafe', 'unanimously', 'heaven', 'monopolies', 'aberrant', 'font', 'approaches', 'muzzle', 'tirelessly', 'barrack', 'drip', 'redress', 'authentication', 'corporatism', 'feinstein', 'detract', 'flight', 'caves', 'ivory', 'troop', 'utilities', 'times', 'intentioned', 'napoleon', 'arrested', 'partnerships', 'narcotics', 'santilli', 'spiritual', 'browse', 'duplicity', 'eaters', 'gates', 'whopping', 'pissed', 'engender', 'interracial', 'intensifying', 'essences', 'evisceration', 'instructed', 'plausible', 'negotiations', 'devastating', 'reliably', 'interviewed', 'tale', 'sensory', 'terrified', 'underhanded', 'unfold', 'labor', 'misconceptions', 'broadcasts', 'aspire', 'responds', 'violence', 'indict', 'praise', 'wikimedia', 'replacing', 'agitators', 'ferguson', 'mailed', 'messianic', 'monetize', 'disservice', 'math', 'nominees', 'screenings', 'selfishness', 'afar', 'existing', 'lesbian', 'zenith', 'nagasaki', 'breadth', 'subjects', 'boris', 'maternal', 'monitors', 'vigorous', 'rolling', 'beats', 'honors', 'portuguese', 'backers', 'funniest', 'regulated', 'sociological', 'committees', 'circuses', 'clerks', 'hugh', 'intentionally', 'repent', 'fargo', 'universal', 'scores', 'plagues', 'abrasive', 'freshly', 'households', 'reaction', 'devoid', 'muhammad', 'baltimore', 'coffins', 'evils', 'larger', 'platitudes', 'worlds', 'hollywoods', 'recall', 'stevens', 'womens', 'childrens', 'powdered', 'champions', 'hoard', 'proteins', 'byproduct', 'avoid', 'correlated', 'vulnerable', 'borders', 'resistant', 'wapo', 'assists', 'club', 'freaking', 'invisible', 'directive', 'fugitive', 'celebratory', 'shaman', 'galaxies', 'impacted', 'imam', 'prepares', 'lends', 'editor', 'legitimacy', 'presstitute', 'fixed', 'proportion', 'prevents', 'interrupt', 'ranting', 'revolutionaries', 'relying', 'romans', 'averted', 'housewife', 'dwight', 'indiana', 'lister', 'muslims', 'resemble', 'shelter', 'worshiping', 'consensus', 'whilst', 'sincerely', 'frequently', 'oriented', 'sequoia', 'ernst', 'gangsters', 'shooters', 'skirt', 'voluminous', 'error', 'explanations', 'stratfor', 'downs', 'consciously', 'loom', 'consumption', 'photoshop', 'opponents', 'uninterested', 'usual', 'sown', 'cursory', 'intifada', 'nodes', 'belt', 'retake', 'voter', 'whoring', 'grandfather', 'bombastic', 'walid', 'developmental', 'fictitious', 'cola', 'kindly', 'bloc', 'resembles', 'laptop', 'manchester', 'financing', 'cemented', 'hatched', 'decay', 'contracting', 'editorial', 'presenting', 'amplify', 'assurance', 'sock', 'unveiled', 'kurt', 'impress', 'murder', 'rupees', 'boycott', 'antics', 'china', 'shots', 'bystanders', 'willpower', 'recognized', 'diagnosis', 'farcical', 'nutshell', 'bullies', 'edelman', 'experimental', 'stocked', 'mock', 'selecting', 'saves', 'ducked', 'receipt', 'backpack', 'different', 'harvest', 'salafi', 'credit', 'melatonin', 'decimated', 'compact', 'dosages', 'comical', 'manuals', 'protected', 'rico', 'circulation', 'john', 'disrupting', 'infected', 'memorial', 'manipulation', 'karmic', 'liberating', 'liars', 'susan', 'morphed', 'attitudes', 'docs', 'invoke', 'nixons', 'modicum', 'nobel', 'industrys', 'coded', 'beast', 'discord', 'fiery', 'paperback', 'plus', 'posters', 'choke', 'gain', 'murdoch', 'schooling', 'societal', 'outlaws', 'unsuspecting', 'bowels', 'erasure', 'erupted', 'cliff', 'analogy', 'construct', 'ohio', 'spearhead', 'subjected', 'demonstration', 'marshals', 'sensation', 'secure', 'antiquated', 'graciously', 'logan', 'warfare', 'rationalized', 'shields', 'dogged', 'sewer', 'bleak', 'contract', 'flop', 'parliamentarians', 'revived', 'uphold', 'farewell', 'naturalization', 'readying', 'rooted', 'softly', 'essay', 'unclassified', 'rout', 'slowly', 'witless', 'golden', 'constitution', 'doing', 'legends', 'noises', 'pelosi', 'fools', 'advocating', 'current', 'microphone', 'died', 'geometry', 'ability', 'contest', 'developing', 'ramp', 'concentrating', 'courtney', 'report', 'convince', 'emphatically', 'older', 'unwind', 'passersby', 'disturbance', 'symbolism', 'merge', 'shakespeare', 'july', 'instrumentation', 'citizens', 'cared', 'domestic', 'sender', 'testimonies', 'twice', 'universality', 'davis', 'brute', 'walked', 'almonds', 'tune', 'wages', 'saudis', 'cheated', 'reception', 'tonkin', 'comparably', 'hedges', 'interrupts', 'chaotic', 'honoring', 'preventive', 'abrupt', 'downloaded', 'antagonism', 'perpetual', 'pieczenik', 'torch', 'burst', 'esteem', 'dread', 'absorption', 'amendment', 'competitions', 'banks', 'earnest', 'emptive', 'goers', 'sentenced', 'pools', 'principal', 'tailored', 'drained', 'examined', 'lose', 'weighed', 'screenshots', 'carson', 'suffocated', 'logically', 'youths', 'navigation', 'dinner', 'intestinal', 'masculine', 'terrorists', 'melody', 'aggressive', 'assigned', 'sexes', 'conserve', 'goddamn', 'unsettled', 'baking', 'eliminate', 'cuyahoga', 'multibillion', 'swept', 'syrian', 'acknowledge', 'juicy', 'punishments', 'allowances', 'purposeful', 'settlement', 'trashed', 'equality', 'tube', 'grove', 'field', 'defender', 'liberalization', 'screen', 'depriving', 'offenders', 'corrupt', 'peaked', 'perpetrated', 'recipient', 'collided', 'gingrich', 'directors', 'jabro', 'books', 'chastise', 'halls', 'collider', 'observation', 'blessings', 'oceanic', 'dulles', 'strikes', 'scream', 'restrict', 'teeth', 'genders', 'nigger', 'fleeing', 'fawning', 'lennon', 'packages', 'competitor', 'foment', 'rigor', 'wasn', 'alexey', 'lucrative', 'mobilized', 'past', 'mini', 'tabloid', 'courtroom', 'truth', 'herded', 'ungodly', 'workplaces', 'fostering', 'tantrum', 'nuclear', 'schoolers', 'stupid', 'doctored', 'bravery', 'attacks', 'cloak', 'intel', 'knots', 'cape', 'interfering', 'benefited', 'grave', 'slack', 'transitioned', 'alibi', 'harvesting', 'performances', 'resource', 'cheque', 'berkley', 'correlation', 'packaged', 'morsi', 'friedrich', 'revolution', 'blitz', 'syrians', 'gouge', 'milne', 'invoking', 'returning', 'outweighed', 'exiled', 'diverting', 'heller', 'mined', 'armstrong', 'dispose', 'plummet', 'trait', 'pursuit', 'inching', 'soccer', 'sowing', 'haunts', 'narcissism', 'beneath', 'doled', 'accepted', 'baier', 'gaining', 'joints', 'mystery', 'banksters', 'advances', 'gardasil', 'felons', 'synergy', 'tricky', 'kuznetsov', 'honey', 'outpouring', 'havent', 'corresponds', 'electrical', 'tackle', 'flaw', 'salient', 'joel', 'steeped', 'migration', 'steak', 'thoroughly', 'extinguished', 'routed', 'documenting', 'chelseas', 'breaths', 'vehemently', 'invalid', 'dare', 'financial', 'cnns', 'imaginary', 'agitation', 'drone', 'colony', 'lagging', 'confronting', 'recognize', 'sinner', 'expressions', 'carving', 'mainstay', 'crackdowns', 'hardest', 'labels', 'propping', 'screened', 'pics', 'presently', 'williams', 'surreal', 'unfriends', 'pairs', 'fraudulent', 'result', 'upshot', 'yemens', 'liberty', 'razed', 'yield', 'appalling', 'impartiality', 'optimally', 'exile', 'loudon', 'dwelling', 'medal', 'turf', 'highway', 'uneven', 'gerber', 'repeats', 'sewage', 'careers', 'mastery', 'turbo', 'underclass', 'bearing', 'presstitutes', 'yves', 'dishonesty', 'blight', 'expedient', 'spanish', 'einstein', 'winters', 'pretty', 'hates', 'administering', 'brazenly', 'safe', 'egypt', 'concern', 'wielding', 'rediscovered', 'attendant', 'brutally', 'competitive', 'defending', 'downplay', 'elizabeth', 'dissatisfied', 'conducts', 'imperfect', 'hazards', 'night', 'stress', 'wolves', 'cheerleader', 'manipulator', 'readership', 'toddlers', 'deficient', 'hopelessness', 'expenses', 'parental', 'tyrants', 'circuits', 'causal', 'paperwork', 'satisfy', 'spectacularly', 'muscular', 'naughty', 'drenched', 'despised', 'circumvent', 'civilisation', 'calmly', 'magnetic', 'amass', 'bored', 'desire', 'indigenous', 'projectile', 'tommy', 'occultist', 'trips', 'corbyn', 'rabbit', 'https', 'competitors', 'birthday', 'jordanian', 'eurasian', 'solomon', 'walsh', 'evacuated', 'tomorrows', 'typing', 'adopted', 'bump', 'envisions', 'dishes', 'obeying', 'shinseki', 'reactors', 'shirts', 'syndicated', 'invasions', 'chemtrails', 'warmer', 'worthwhile', 'gaia', 'moneyed', 'filing', 'census', 'thesis', 'profit', 'biodiversity', 'cushy', 'prior', 'commenting', 'dick', 'atms', 'footprint', 'equates', 'johnsons', 'diana', 'problem', 'doubtful', 'replica', 'conceivable', 'pressuring', 'bart', 'gravitational', 'interviewers', 'parents', 'thirst', 'traditional', 'insert', 'hats', 'strengthened', 'varieties', 'weary', 'intellect', 'unresponsive', 'labs', 'georgetown', 'barry', 'kale', 'foolishly', 'floods', 'baths', 'procurement', 'answered', 'criticizing', 'prosecution', 'suppose', 'hotly', 'kremlins', 'onlookers', 'beat', 'theoretical', 'moneys', 'surprises', 'talented', 'unemployed', 'creatures', 'invaders', 'mccains', 'continuation', 'spider', 'contributing', 'mark', 'mises', 'altogether', 'lined', 'complied', 'preserved', 'intuition', 'mansion', 'lines', 'tied', 'concerning', 'dark', 'expense', 'groped', 'militarist', 'message', 'smiled', 'reduced', 'funneled', 'offer', 'developers', 'hyperbole', 'yorkin', 'regulator', 'meds', 'phenomena', 'rapist', 'poke', 'suffrage', 'shored', 'restaurant', 'cohort', 'dizzy', 'gallery', 'deportation', 'cancel', 'ribs', 'indians', 'potential', 'kneeling', 'affiliate', 'valued', 'accompanying', 'swiss', 'cohesion', 'secretaries', 'misadventures', 'unions', 'update', 'stifling', 'unavoidable', 'arithmetic', 'weakened', 'ailes', 'illustrating', 'suddenly', 'feedback', 'jakarta', 'lobbyists', 'companion', 'nothings', 'counterterrorism', 'dale', 'steel', 'pole', 'coordinate', 'consumerism', 'fairbanks', 'behest', 'near', 'kent', 'relief', 'baghdad', 'scent', 'cartalucci', 'deserved', 'uncontested', 'hunters', 'julius', 'consisted', 'plains', 'spring', 'craze', 'gaddafis', 'infinite', 'locally', 'taunts', 'consent', 'person', 'attentive', 'revival', 'appears', 'erratic', 'gray', 'heavyweights', 'renewables', 'appetite', 'patrol', 'dollar', 'projects', 'constipation', 'disillusioned', 'gland', 'racket', 'completing', 'waxman', 'gene', 'pauses', 'directives', 'shallow', 'earth', 'doctor', 'million', 'breach', 'compiling', 'creative', 'healthcare', 'prejudice', 'echelons', 'somodevilla', 'anguish', 'concession', 'bend', 'formed', 'conformist', 'assaults', 'gala', 'misery', 'adversely', 'delivering', 'tipsheet', 'unpaid', 'satisfaction', 'simpler', 'scarcely', 'william', 'independence', 'exceed', 'miriam', 'rebuilt', 'expenditure', 'isiss', 'shiites', 'boon', 'suggest', 'alexei', 'pulses', 'seeded', 'amitabh', 'pros', 'crumbles', 'isaiah', 'ecologically', 'proposes', 'restricts', 'clash', 'charting', 'cruz', 'influences', 'chicago', 'exceptionally', 'precision', 'sclerosis', 'oblivious', 'obstructing', 'brightest', 'cowardice', 'extortion', 'frequencies', 'duly', 'godless', 'smash', 'boggling', 'montgomery', 'sext', 'dared', 'globalization', 'unstoppable', 'waive', 'revoked', 'blockades', 'chomsky', 'shooter', 'vibes', 'blvd', 'endurance', 'word', 'clause', 'facilities', 'suspects', 'pitting', 'aleppo', 'rendered', 'mirroring', 'suffered', 'pulse', 'uncompromising', 'weathered', 'coordination', 'coverage', 'covered', 'fencing', 'serbia', 'trespassers', 'warmed', 'oath', 'plentiful', 'eyewitnesses', 'theft', 'brookings', 'hispanic', 'honorary', 'island', 'lifestyles', 'narrowly', 'unrealistic', 'bluff', 'potatoes', 'gulen', 'patrolling', 'went', 'insult', 'duty', 'spooky', 'tolerate', 'voracious', 'smell', 'behalf', 'brilliant', 'reactionary', 'capacities', 'bond', 'vetoed', 'offence', 'bombarded', 'defended', 'wasted', 'earths', 'bureaucratic', 'niger', 'relentlessly', 'duties', 'andrey', 'outsized', 'wanting', 'shares', 'apple', 'feudal', 'enlarge', 'timing', 'acknowledgement', 'kaltura', 'licensing', 'secretly', 'thanks', 'punishing', 'teenagers', 'battleground', 'airline', 'gone', 'medic', 'reminders', 'surfaced', 'trackback', 'hood', 'strapped', 'dislike', 'exhausted', 'inventory', 'amiss', 'jury', 'murderous', 'aggressor', 'exports', 'stefan', 'seismic', 'recklessness', 'advisor', 'goes', 'kelly', 'gauge', 'psychology', 'accusations', 'bloodstream', 'consequence', 'displeasure', 'dystopian', 'fleets', 'indoors', 'realdonaldtrump', 'removes', 'gagged', 'centralized', 'highly', 'warsaw', 'graduate', 'encountered', 'molecule', 'depression', 'forms', 'ariana', 'downplayed', 'veracity', 'widen', 'garners', 'splintering', 'argentine', 'pardoning', 'apps', 'baggage', 'counting', 'encircle', 'mercy', 'mcauliffes', 'injured', 'execute', 'working', 'consisting', 'therapies', 'casino', 'decidedly', 'joke', 'management', 'involved', 'appointing', 'staffs', 'fared', 'recommending', 'sound', 'hang', 'apoplectic', 'hatreds', 'judy', 'gains', 'yello', 'broader', 'commandment', 'seniors', 'inventing', 'sexually', 'swoop', 'reconsider', 'imperialist', 'spontaneous', 'stirring', 'stake', 'gaga', 'warhead', 'kremlin', 'lyrics', 'ominously', 'workplace', 'dismantling', 'agree', 'ineptitude', 'intentions', 'ensuing', 'turmoil', 'shortly', 'repudiate', 'shunned', 'delayed', 'rosetta', 'course', 'petulant', 'conquest', 'proactive', 'sensations', 'transparent', 'literary', 'flesh', 'vandalized', 'zionists', 'demonstrate', 'italians', 'fanciful', 'stimulated', 'source', 'obliterate', 'sociable', 'indifference', 'refer', 'opposite', 'pesticide', 'punitive', 'unholy', 'faking', 'unsuccessfully', 'general', 'borrowing', 'gross', 'vowing', 'ailments', 'cues', 'inconvenient', 'poked', 'inner', 'laramie', 'disarmed', 'pine', 'highlands', 'accounts', 'gassed', 'expediency', 'omnipotent', 'chest', 'tycoons', 'horseback', 'snap', 'invasive', 'moribund', 'flourish', 'managers', 'celebrated', 'bloodshed', 'dangerously', 'dozens', 'harmless', 'conspired', 'achilles', 'camel', 'oligarch', 'periphery', 'fretted', 'preventative', 'skin', 'denier', 'traditionalists', 'brazilian', 'fund', 'advantage', 'comprising', 'coalition', 'edged', 'handlers', 'nasdaq', 'verkhovna', 'fundraising', 'indeterminate', 'autopsy', 'imperialists', 'issued', 'constitutional', 'pleas', 'disconnected', 'nearby', 'deporting', 'undo', 'precautionary', 'eighth', 'unsuccessful', 'denies', 'brazen', 'consecutive', 'ministries', 'wouldve', 'presented', 'pledge', 'bretton', 'assholes', 'rushed', 'admitting', 'patriot', 'disciplines', 'producers', 'dreadful', 'tagged', 'dissertation', 'concert', 'humiliate', 'dumps', 'guillotine', 'hayden', 'afford', 'merkels', 'financially', 'hilarious', 'awarded', 'couples', 'governed', 'seekers', 'potassium', 'publications', 'tapping', 'irish', 'provinces', 'planning', 'neat', 'remarking', 'spain', 'ducks', 'fraternal', 'unproductive', 'youtu', 'didnt', 'weiss', 'blockbuster', 'rove', 'hollande', 'injected', 'twentieth', 'cried', 'embarrassing', 'prevalence', 'assassinations', 'buster', 'notified', 'pinky', 'waco', 'rixon', 'deserves', 'waits', 'footing', 'firestorm', 'looked', 'detractors', 'otis', 'described', 'deepest', 'eternity', 'bush', 'friday', 'presided', 'partition', 'colours', 'chairs', 'slick', 'bangor', 'mattered', 'retirees', 'jacobs', 'refrained', 'scissors', 'dougherty', 'glasnost', 'mandated', 'affirmed', 'personalities', 'desks', 'endowment', 'yuan', 'limit', 'scales', 'blindly', 'accumulates', 'consider', 'documentation', 'paramilitary', 'waged', 'deir', 'marginalized', 'operative', 'localized', 'machinations', 'transgender', 'upper', 'wrath', 'electing', 'spread', 'begging', 'degenerative', 'mature', 'explorers', 'genome', 'worthy', 'chemical', 'aristocratic', 'limitless', 'accomplishments', 'rein', 'aforementioned', 'gulagbound', 'nutrient', 'shovel', 'metres', 'derided', 'garment', 'seeker', 'sham', 'specialize', 'architects', 'detecting', 'pool', 'activity', 'notably', 'ordinances', 'live', 'pledged', 'injuring', 'preparations', 'significant', 'brains', 'tribunes', 'young', 'oppress', 'available', 'incidence', 'notification', 'risen', 'stunned', 'enable', 'vibrations', 'excoriated', 'wringing', 'zealand', 'lens', 'medication', 'oval', 'oftentimes', 'decision', 'morphine', 'backdoor', 'bout', 'okeefes', 'privileges', 'recalled', 'deity', 'mate', 'glancing', 'present', 'reign', 'envy', 'rationalize', 'synopsis', 'favour', 'veteransnewsnow', 'credibility', 'weddings', 'crave', 'rednecks', 'visso', 'polls', 'artists', 'illustrated', 'kievs', 'krieger', 'marry', 'newsrooms', 'palestinian', 'grudging', 'hazardous', 'katie', 'latent', 'dukes', 'pausing', 'prescient', 'retains', 'robbing', 'trumps', 'viii', 'affirmation', 'borrowed', 'apologists', 'accountants', 'clogged', 'acids', 'learn', 'smartmatic', 'absorbing', 'choom', 'predation', 'rigorously', 'speeds', 'jayaraj', 'benedict', 'outsiders', 'vegetable', 'officially', 'boob', 'forgot', 'plunging', 'slew', 'unanimous', 'richs', 'brandon', 'rebuttal', 'smack', 'politics', 'snatch', 'crawford', 'peddling', 'darkened', 'deployment', 'compromised', 'policeman', 'conduits', 'disclosure', 'realists', 'criticised', 'procure', 'focal', 'acquiesce', 'migrated', 'kathleen', 'buried', 'confronts', 'pressing', 'trees', 'usually', 'salary', 'gals', 'gravest', 'advancement', 'transitional', 'unceded', 'communisty', 'implodes', 'introducing', 'horizontal', 'strict', 'advanced', 'intrigues', 'days', 'clears', 'naomi', 'authorizing', 'jungle', 'presentation', 'shamelessly', 'steep', 'garb', 'oven', 'untenable', 'nationalities', 'icons', 'prescribing', 'sweeping', 'culpable', 'earl', 'tayyip', 'entrepreneurial', 'override', 'outcry', 'wrought', 'weapons', 'cries', 'animation', 'armenia', 'affluent', 'disdain', 'hastings', 'unfounded', 'mailman', 'examining', 'restoring', 'contractors', 'coercive', 'lukewarm', 'deposition', 'displays', 'wreak', 'compass', 'illustration', 'inactive', 'identical', 'foil', 'shoddy', 'enlistment', 'kirk', 'truce', 'festivities', 'courage', 'corresponding', 'launcher', 'comex', 'reaper', 'remarkable', 'tycoon', 'phillips', 'planet', 'preferential', 'leaves', 'publically', 'sunglasses', 'fallacy', 'agitprop', 'booed', 'congregation', 'tarnish', 'physiology', 'sprays', 'pepe', 'finely', 'folly', 'idealistic', 'hides', 'jack', 'persuaded', 'commentary', 'illinois', 'buffett', 'domination', 'insomnia', 'mired', 'priorities', 'proven', 'skipped', 'stood', 'eclipse', 'misinterpreted', 'pacifism', 'julie', 'geopolitical', 'sasha', 'beltway', 'demonize', 'emerging', 'impulse', 'ramping', 'adversarial', 'repairing', 'vain', 'familiar', 'posed', 'species', 'staggeringly', 'telesur', 'fanfare', 'drilled', 'inspectors', 'implies', 'mentioning', 'manuel', 'confusing', 'boycotted', 'airspace', 'demonstrations', 'diversionary', 'november', 'nstagram', 'retention', 'amendments', 'violation', 'exoneration', 'refuge', 'safety', 'starvation', 'crunch', 'beleaguered', 'reminiscent', 'respecting', 'sought', 'contracts', 'abbas', 'bluntly', 'boston', 'brokers', 'applying', 'moms', 'election', 'mossadegh', 'suppressed', 'wrestling', 'egregious', 'works', 'exploding', 'images', 'imagination', 'compares', 'passover', 'sorties', 'inhibits', 'ashton', 'nutritional', 'useful', 'indifferent', 'caffeine', 'entries', 'pathway', 'suburbs', 'mujahideen', 'vent', 'unimaginable', 'balcony', 'necks', 'numbing', 'lawmaker', 'qualifies', 'rudy', 'misguided', 'erect', 'erasing', 'hapless', 'volunteering', 'designation', 'poultry', 'mississippi', 'fukushima', 'taxing', 'lawsuits', 'watson', 'professor', 'alberta', 'overpriced', 'locker', 'procedures', 'forour', 'pronounce', 'starter', 'solicitation', 'submarines', 'polish', 'scored', 'bourgeois', 'shouldnt', 'criticizes', 'lunatics', 'restrain', 'warehouse', 'confession', 'counties', 'wanna', 'amnesia', 'fomenting', 'campaigning', 'infamous', 'burdensome', 'constellation', 'meditations', 'string', 'heaped', 'rickards', 'costing', 'meta', 'teaching', 'micro', 'interpretations', 'fabric', 'loosen', 'successful', 'collude', 'detailed', 'yesterdays', 'hobby', 'lynching', 'magnitude', 'chested', 'resume', 'dividend', 'sightings', 'tags', 'everyones', 'include', 'western', 'translating', 'crippling', 'gayest', 'hear', 'nicole', 'misunderstood', 'responsibility', 'slowed', 'witchcraft', 'replenish', 'handled', 'mouse', 'fungus', 'exceeded', 'massacres', 'decides', 'matthew', 'municipal', 'thriller', 'commuting', 'shrunken', 'operated', 'snuff', 'tolerating', 'wagner', 'video', 'wife', 'thaad', 'liverpool', 'celestial', 'foot', 'ridding', 'epidemic', 'hurricane', 'vomiting', 'hawking', 'emanating', 'enhancement', 'peanuts', 'secrets', 'spam', 'amnesty', 'ceremonies', 'dobbs', 'takeaway', 'holt', 'uniting', 'affairs', 'button', 'impoverishment', 'money', 'armys', 'bankrupting', 'offending', 'sexual', 'told', 'jihadists', 'distinctly', 'mystic', 'enquirer', 'futures', 'puppets', 'manipulated', 'optimum', 'brilliantly', 'consolation', 'sympathize', 'resentful', 'unfinished', 'supervise', 'ready', 'salvation', 'perishable', 'kumar', 'suing', 'precaution', 'pyatt', 'enforcement', 'granny', 'pentagons', 'possessions', 'diego', 'post', 'realist', 'antipathy', 'bigot', 'containers', 'virtual', 'tonight', 'hesitate', 'jose', 'routes', 'cockroaches', 'doomed', 'irina', 'magnesium', 'terrain', 'motley', 'pregnancy', 'denominator', 'corporation', 'girls', 'insulting', 'reproduce', 'xenophobic', 'junk', 'drew', 'intruder', 'tinfoil', 'marx', 'creeping', 'shia', 'federally', 'daring', 'challengers', 'grapes', 'hampshire', 'carefully', 'sketchy', 'subverted', 'level', 'havoc', 'cigarettes', 'caliphate', 'caveat', 'alas', 'cults', 'hormone', 'envoy', 'lauren', 'ness', 'occurring', 'warplane', 'licenses', 'descriptions', 'gouging', 'statistic', 'advocates', 'geoengineering', 'fool', 'crumbled', 'emission', 'gorgeous', 'gunfire', 'shoe', 'thoroughness', 'fridays', 'storm', 'incomprehensible', 'multiplied', 'sustainability', 'quipped', 'unworthy', 'thrown', 'argues', 'careful', 'bartering', 'bird', 'incorrect', 'gibberish', 'stuff', 'hockey', 'conceding', 'exams', 'irelands', 'minutes', 'rhodes', 'buyer', 'guevara', 'employ', 'injury', 'tight', 'sprang', 'adjust', 'agent', 'canterbury', 'disaster', 'unimportant', 'cartoonist', 'frontlines', 'defective', 'shell', 'investor', 'plausibly', 'textile', 'expanded', 'credible', 'perspectives', 'garden', 'investigations', 'graduates', 'catering', 'appealed', 'stumping', 'arsenal', 'twisted', 'goliath', 'successive', 'insidious', 'submitted', 'infidel', 'operational', 'sends', 'sharks', 'authenticity', 'doesn', 'simplicity', 'waist', 'relevant', 'unicorn', 'militarization', 'blinding', 'goldtooth', 'sweeps', 'diabetic', 'king', 'detox', 'dive', 'roles', 'frauds', 'disgruntled', 'gallons', 'mindedness', 'weekend', 'clock', 'bison', 'comedy', 'elevation', 'hubs', 'lesley', 'preeminent', 'realities', 'saddam', 'flashback', 'unhappy', 'road', 'fisa', 'leveraged', 'refineries', 'routines', 'edgar', 'ending', 'compulsive', 'insane', 'disputed', 'foundations', 'polluters', 'surviving', 'machines', 'christie', 'fade', 'railing', 'populated', 'mild', 'rise', 'sailors', 'invalidate', 'ethnically', 'spice', 'ambitions', 'relocated', 'rifles', 'briefings', 'clothes', 'surrounding', 'burned', 'miserably', 'antisemitism', 'hesitated', 'exemplified', 'bankroll', 'mormon', 'dystopia', 'apples', 'wills', 'willy', 'otter', 'brics', 'toxicology', 'jabs', 'prosperous', 'chicagos', 'documentaries', 'logs', 'number', 'unfit', 'emblematic', 'intimidated', 'judicial', 'reforming', 'ample', 'spiral', 'pertinent', 'coming', 'pattern', 'prev', 'solves', 'advocacy', 'failing', 'excuse', 'natalie', 'grabbed', 'patrice', 'moss', 'perfected', 'saud', 'harper', 'sergey', 'signaled', 'sworn', 'valve', 'cortex', 'hindered', 'precise', 'lavoy', 'handcuffed', 'best', 'conquer', 'charismatic', 'dojs', 'capitalists', 'dual', 'ethnic', 'factually', 'fail', 'burglary', 'faulty', 'mook', 'throats', 'interception', 'beverage', 'cautioned', 'added', 'fearless', 'maidan', 'upheavals', 'erode', 'nigerian', 'attain', 'grade', 'adapting', 'profound', 'consulting', 'rating', 'bunker', 'sally', 'communicating', 'uprising', 'boasted', 'cocaine', 'lasting', 'belgrade', 'burning', 'stew', 'weirdest', 'crept', 'conjures', 'feds', 'nasal', 'quds', 'injunction', 'shouted', 'roosevelt', 'power', 'tripped', 'arose', 'marathon', 'improvement', 'piercing', 'impacting', 'lofty', 'evolve', 'knockoff', 'jihadi', 'referendums', 'followed', 'homework', 'viciously', 'governments', 'dosing', 'proposal', 'caucasus', 'locks', 'incapable', 'cleaned', 'pill', 'vary', 'caretaker', 'wander', 'contingent', 'commence', 'youtube', 'dealings', 'behead', 'tweets', 'lulled', 'reconnaissance', 'gotta', 'blows', 'supporter', 'patriarchy', 'breitbart', 'remainder', 'doom', 'ubiquitous', 'yorks', 'siphoning', 'vaccine', 'ingenious', 'chances', 'mail', 'royal', 'cruise', 'ultra', 'ruby', 'rebels', 'vinegar', 'joie', 'brien', 'setbacks', 'vaguely', 'slate', 'cars', 'jiffy', 'weakness', 'disapproval', 'necessity', 'covington', 'patience', 'washingtonsblog', 'oahe', 'parades', 'pediatrician', 'whisper', 'regrets', 'winger', 'advised', 'fortified', 'obstructed', 'archived', 'deleterious', 'emanuel', 'stalin', 'warship', 'content', 'underground', 'mccarthyism', 'electric', 'rainy', 'stooge', 'babbling', 'caribbean', 'parasites', 'wage', 'casualty', 'goodwill', 'cosmetic', 'inventors', 'chasing', 'samantha', 'acronym', 'dynamic', 'lights', 'welcome', 'worried', 'activated', 'academia', 'dealing', 'forcible', 'applauded', 'imprison', 'mentioned', 'overthrown', 'swirling', 'tornadoes', 'homophobia', 'handy', 'kenyan', 'nervously', 'scholarly', 'stairs', 'liable', 'praising', 'archetypes', 'offended', 'russell', 'sheltered', 'port', 'bloom', 'resorted', 'nuke', 'spray', 'unsolved', 'birther', 'snapchat', 'disgrace', 'outer', 'semen', 'letter', 'enforce', 'husbands', 'satellite', 'fertilizers', 'irate', 'wallace', 'renewal', 'irrelevant', 'notable', 'cascade', 'fdas', 'ninth', 'iranian', 'colour', 'unidentified', 'hmmm', 'conventional', 'horrid', 'statesmen', 'traditions', 'disqualify', 'semester', 'wouldnt', 'ramadi', 'abbott', 'mathematicians', 'responsive', 'viewpoint', 'maria', 'proving', 'round', 'unaware', 'veneer', 'underage', 'distorting', 'ranged', 'patrols', 'remington', 'rotting', 'nefarious', 'chooses', 'contenders', 'polluting', 'agorist', 'warehouses', 'tower', 'pounded', 'primer', 'accessory', 'sabotage', 'monroe', 'unaccountable', 'locating', 'tops', 'ernest', 'chain', 'interpreter', 'curiously', 'undertaking', 'jumbo', 'contributors', 'institutes', 'expelled', 'dissenters', 'distinguished', 'brunt', 'inflationary', 'islamophobia', 'ward', 'impetus', 'peppermint', 'artwork', 'jimmy', 'philippe', 'pittsburgh', 'mismanagement', 'bloody', 'pulled', 'rollback', 'christmas', 'accuser', 'slots', 'display', 'overarching', 'christina', 'bail', 'denounce', 'failings', 'faith', 'mounting', 'oppressed', 'esteemed', 'boyfriend', 'homicidal', 'leftist', 'arnaldo', 'stimulate', 'suggested', 'palpable', 'profusely', 'flowers', 'admit', 'budding', 'tehran', 'ottoman', 'manipulators', 'brackets', 'bundy', 'humanly', 'afghanistan', 'drivers', 'icing', 'planets', 'avid', 'respectfully', 'ties', 'moore', 'expectations', 'pledges', 'dire', 'insulted', 'hama', 'invited', 'disgraced', 'mask', 'observatory', 'quotation', 'concerned', 'occult', 'candidacy', 'subtly', 'lasers', 'globalist', 'visitors', 'editorials', 'incorporated', 'murderer', 'bizarre', 'seamlessly', 'drowned', 'parks', 'layer', 'rodriguez', 'keeps', 'romneys', 'tamil', 'affirms', 'inventories', 'tires', 'hosted', 'tire', 'disability', 'kaine', 'unicef', 'arizonas', 'shrunk', 'omitted', 'overhead', 'fascists', 'confessions', 'elements', 'wanted', 'cecil', 'governor', 'glued', 'objections', 'positions', 'clicks', 'tumors', 'interpretation', 'associates', 'dial', 'invaded', 'lance', 'clintons', 'slaves', 'dashed', 'havana', 'lrad', 'dichotomy', 'harmonious', 'austro', 'repaid', 'supplemental', 'morocco', 'dismayed', 'reducing', 'protestors', 'kicks', 'prediction', 'language', 'rescue', 'compulsion', 'plunged', 'unspeakable', 'hastily', 'iraq', 'michigans', 'immortal', 'powerbrokers', 'inefficient', 'mindful', 'strategist', 'evaluating', 'bestowed', 'aunt', 'order', 'cream', 'unsuitable', 'sheriff', 'summers', 'compensate', 'pollsters', 'earned', 'frustrations', 'repaired', 'constitute', 'tilting', 'fundamentalism', 'existence', 'torturing', 'coral', 'state', 'noticeably', 'tyrant', 'ugliness', 'binary', 'reelected', 'fooled', 'regularly', 'rewards', 'glove', 'ignited', 'rebuke', 'laughter', 'beijing', 'retweeted', 'horinek', 'definition', 'controversially', 'nonexistent', 'deadly', 'eleanor', 'commanding', 'alterations', 'hawk', 'ranch', 'opium', 'inaccurate', 'clarified', 'enact', 'haunt', 'merits', 'partys', 'aloof', 'mogia', 'motivation', 'dipped', 'answerable', 'developed', 'empire', 'offset', 'fruitless', 'informing', 'savages', 'communication', 'taboos', 'psychopaths', 'intern', 'shoulders', 'fundamentals', 'subconsciously', 'fact', 'variants', 'weaver', 'bidder', 'quietly', 'treason', 'certificate', 'oleg', 'foreman', 'cast', 'fulfillment', 'egyptian', 'invest', 'americans', 'neck', 'overseen', 'regrettable', 'eritrea', 'hans', 'divulge', 'capitulation', 'cell', 'sphere', 'monetary', 'accountant', 'anon', 'healthier', 'informed', 'inmate', 'necessary', 'punched', 'physically', 'lunch', 'ferocity', 'harvard', 'raking', 'referencing', 'vision', 'unprovoked', 'resort', 'organically', 'voluntary', 'winners', 'minions', 'battering', 'punches', 'adequately', 'outwardly', 'kenya', 'campaign', 'researched', 'sleeping', 'asthma', 'border', 'diameter', 'castle', 'diplomatic', 'allegory', 'driver', 'thrive', 'tiring', 'adhd', 'impunity', 'appointment', 'blend', 'translate', 'process', 'dissipate', 'steal', 'harassment', 'treats', 'transforming', 'skullduggery', 'deciding', 'boundary', 'skeptics', 'dunford', 'swarm', 'toddler', 'bothered', 'astonishing', 'crotch', 'mode', 'rewriting', 'sanaa', 'commitments', 'auto', 'nikita', 'proponent', 'carcinogens', 'poisoned', 'bernies', 'settling', 'hotels', 'indictments', 'digenova', 'hallmark', 'realms', 'freest', 'sweat', 'sweet', 'grammar', 'dental', 'codified', 'ignores', 'harmed', 'intending', 'investing', 'liquefied', 'belly', 'dogging', 'stretches', 'blankets', 'foster', 'heresy', 'bishop', 'evans', 'informs', 'rounding', 'bohemian', 'shouting', 'weather', 'withdrew', 'shoots', 'antarctic', 'ivanka', 'glorify', 'knowing', 'unconditional', 'appear', 'uninsured', 'assessed', 'manual', 'rigged', 'billboard', 'conditions', 'mainstream', 'apes', 'conveniently', 'brazile', 'staring', 'virtuous', 'hitler', 'hitting', 'disgusted', 'juncker', 'jeopardized', 'duality', 'repair', 'dynamics', 'facilitate', 'maintained', 'rubbing', 'subsequent', 'trick', 'jamming', 'writes', 'resigns', 'denis', 'puppeteer', 'contentious', 'counters', 'item', 'rises', 'walmart', 'abrams', 'worrisome', 'monolithic', 'reading', 'applaud', 'dunham', 'pope', 'government', 'farms', 'pacifist', 'permanently', 'facebook', 'conspire', 'dividing', 'duplication', 'geoffrey', 'hide', 'miracles', 'lineage', 'bilateral', 'collectively', 'sorrows', 'mighty', 'skeptic', 'confluence', 'counterpart', 'locked', 'taxpayers', 'fabricating', 'leaping', 'lunacy', 'polar', 'sports', 'undertaken', 'fathom', 'exercised', 'banquet', 'daniel', 'arsenals', 'dismissed', 'crimeans', 'elected', 'creek', 'abolishing', 'embodiment', 'gamechanger', 'infection', 'depictions', 'moron', 'approved', 'assigns', 'ownership', 'shrug', 'tardy', 'reputation', 'skies', 'undergoing', 'pops', 'sunday', 'effectively', 'redeem', 'robot', 'stash', 'mubarak', 'politicization', 'hearing', 'observations', 'cliven', 'reaffirm', 'succeeding', 'hussein', 'whims', 'breast', 'abandoned', 'bunnies', 'stoic', 'assignment', 'apartment', 'artifact', 'triumphant', 'ancestors', 'blessed', 'qualifying', 'condoned', 'portraying', 'blasted', 'hillary', 'curtis', 'fires', 'parliament', 'punditry', 'recruiting', 'solitary', 'title', 'nicaragua', 'unscrupulous', 'fungal', 'warplanes', 'wretched', 'oceans', 'ordinarily', 'squadron', 'rome', 'ukraines', 'unconsciously', 'undermine', 'rudkowski', 'sleight', 'dwell', 'outstanding', 'absurd', 'birthplace', 'nationality', 'unattractive', 'universe', 'scarlet', 'illumination', 'seriousness', 'tragedies', 'confrontational', 'elementary', 'osborne', 'brimming', 'touched', 'medicaid', 'joshua', 'puts', 'offshoots', 'sexuality', 'smiling', 'synagogue', 'launchers', 'servants', 'respondents', 'streamed', 'muslim', 'deteriorated', 'capable', 'event', 'baphomet', 'battling', 'beneficial', 'preaches', 'server', 'speeding', 'petraeus', 'arbiter', 'belongings', 'carter', 'gazeta', 'contemplate', 'distant', 'confiscated', 'inquiries', 'variant', 'fighting', 'ordinance', 'convict', 'persian', 'cosmetics', 'defies', 'planes', 'deed', 'publishing', 'texture', 'supplementation', 'dissuade', 'ingrained', 'elevator', 'undeveloped', 'routinely', 'cent', 'offshore', 'pyotr', 'assassination', 'qaeda', 'specialty', 'andrea', 'toll', 'tyler', 'village', 'charge', 'limitations', 'commotion', 'scripted', 'lump', 'nurtured', 'psychiatrists', 'ratcheting', 'stoltenberg', 'buck', 'taser', 'insightful', 'cultural', 'rice', 'share', 'parity', 'runoff', 'pyongyang', 'scratched', 'glacier', 'chapel', 'banished', 'scattering', 'softer', 'forecasting', 'milestone', 'midday', 'proof', 'imbued', 'injection', 'janet', 'munich', 'schumer', 'sensational', 'affordable', 'millionaires', 'phased', 'execs', 'folded', 'resonated', 'capitol', 'theoretically', 'casting', 'disappointment', 'kochs', 'needlessly', 'emailgate', 'enhanced', 'herman', 'lasts', 'unveil', 'erase', 'forwarded', 'erected', 'deliberations', 'locals', 'rachel', 'dismantle', 'precarious', 'arrives', 'head', 'chelsea', 'craigslist', 'minster', 'revolutionary', 'outcomes', 'women', 'subcommittee', 'unclear', 'wright', 'banditry', 'nurse', 'outsmarted', 'fences', 'snapped', 'spineless', 'meadors', 'revised', 'mountaineering', 'cardinal', 'lessons', 'soulless', 'clumsy', 'sundays', 'holds', 'mocking', 'observes', 'critique', 'canary', 'seas', 'forbidden', 'members', 'eggs', 'victimization', 'nguyen', 'auxiliary', 'chant', 'engendered', 'chen', 'confirms', 'fracture', 'mack', 'dragon', 'cares', 'prostitution', 'rapists', 'rent', 'bradford', 'familiarity', 'solicited', 'adamantly', 'apply', 'bang', 'browsing', 'enrich', 'perversely', 'wasnt', 'imagines', 'indiscriminately', 'customer', 'finite', 'manned', 'unambiguous', 'ocean', 'relieve', 'panda', 'dependence', 'relaxed', 'ammo', 'define', 'virtue', 'pedophile', 'decorated', 'spell', 'demolish', 'fooling', 'pants', 'odious', 'commissions', 'pitiful', 'unequivocal', 'exceedingly', 'coaching', 'konashenkov', 'leveling', 'jessica', 'prairie', 'tampered', 'treaty', 'horrified', 'bite', 'dept', 'longest', 'airports', 'intimately', 'example', 'assemble', 'decimation', 'peso', 'typed', 'marche', 'acquire', 'geller', 'barter', 'tainted', 'horizon', 'axles', 'debris', 'cosmic', 'voluntarily', 'anybody', 'panthers', 'prompt', 'comeys', 'speaks', 'dustbin', 'neighborhoods', 'originates', 'proverbial', 'surgical', 'thwarting', 'cincinnati', 'provocateur', 'community', 'evil', 'hypothetical', 'ripping', 'origins', 'longer', 'globe', 'deterrence', 'football', 'recess', 'marching', 'transforms', 'translated', 'procedure', 'swing', 'undervalued', 'lawless', 'disagree', 'tighten', 'trauma', 'abolished', 'aspiration', 'insiders', 'backbone', 'basics', 'cheapest', 'pressed', 'adapt', 'democratization', 'drain', 'adversity', 'tasks', 'smaller', 'constraints', 'bahrain', 'dialogue', 'circulate', 'learning', 'skull', 'tapped', 'caller', 'bucket', 'texting', 'darrelllucus', 'documents', 'religiously', 'respect', 'schlosberg', 'smithereens', 'spoiling', 'constructed', 'burns', 'summarize', 'kind', 'collar', 'catastrophes', 'lookout', 'symposium', 'defeating', 'monarchies', 'moved', 'penetration', 'combines', 'chilcot', 'emotional', 'foresee', 'airborne', 'pair', 'totaling', 'acquittal', 'insulated', 'moammar', 'benefits', 'california', 'body', 'designations', 'loves', 'misreading', 'adorned', 'unwelcome', 'begged', 'flushed', 'sweating', 'kellys', 'prevails', 'bolsters', 'unrelated', 'nephew', 'visiting', 'drifted', 'joint', 'judgments', 'satanic', 'silver', 'climax', 'chris', 'uniformly', 'achieved', 'alfa', 'fame', 'core', 'employer', 'thrust', 'groomed', 'forbade', 'rainfall', 'tsunami', 'axis', 'sykes', 'unrestrained', 'freefall', 'goldman', 'homicides', 'getaway', 'settlers', 'standstill', 'popularity', 'celebrity', 'broze', 'implant', 'cockburn', 'hypnotic', 'greeted', 'israels', 'kaci', 'larry', 'columns', 'maggie', 'nsas', 'utilized', 'carlos', 'grasping', 'visit', 'portland', 'experience', 'lamented', 'virtues', 'awakens', 'steagall', 'impressionable', 'arise', 'bidding', 'basically', 'inclination', 'receptors', 'witnessing', 'excessively', 'clarity', 'labeling', 'legitimized', 'sickness', 'invincible', 'gruber', 'chased', 'hosting', 'brewing', 'scar', 'goose', 'guesses', 'attendants', 'soothing', 'tough', 'efficacy', 'insurers', 'transform', 'confirmation', 'jamal', 'heather', 'atvs', 'creating', 'guide', 'linking', 'outright', 'properly', 'troops', 'emirates', 'illusory', 'shoes', 'depress', 'flat', 'obedient', 'columnists', 'crusades', 'solved', 'milky', 'eisenhower', 'deformities', 'subject', 'thoughts', 'forgiveness', 'operatives', 'songs', 'sexists', 'qualified', 'volcanic', 'exodus', 'experiences', 'gilad', 'acquisition', 'auditors', 'inch', 'peers', 'prizes', 'downplaying', 'master', 'networks', 'impervious', 'participant', 'meets', 'innovative', 'bashir', 'loyalist', 'objects', 'occupational', 'portends', 'therell', 'universes', 'oneness', 'cheaply', 'predicted', 'strong', 'hadnt', 'hagmann', 'dangled', 'islamophobe', 'anxiety', 'cedar', 'conservation', 'greater', 'strands', 'rhetorically', 'naturopathic', 'intuitive', 'pinochet', 'executive', 'nikola', 'substitute', 'statutory', 'thirty', 'guilt', 'spiked', 'southwest', 'wood', 'bulk', 'inclined', 'reproduction', 'perez', 'centralization', 'humanitarians', 'invariably', 'infringement', 'ethno', 'marketed', 'focus', 'pentagon', 'robust', 'shelters', 'fine', 'dissidents', 'inundated', 'lung', 'themed', 'diseases', 'awake', 'functioning', 'acknowledging', 'incremental', 'laundering', 'veto', 'categories', 'contras', 'stealth', 'stubbornly', 'arvind', 'wandered', 'deplorables', 'australian', 'detre', 'frontline', 'signaling', 'continuing', 'congratulations', 'claiming', 'scans', 'caucus', 'morrison', 'deprive', 'inaugurated', 'ngos', 'muammar', 'partnered', 'reunion', 'heroic', 'fields', 'periodically', 'cursing', 'hours', 'solution', 'grappling', 'ritual', 'lunches', 'dwindling', 'camera', 'numbers', 'disguise', 'disintegration', 'hordes', 'blown', 'accelerated', 'hashtags', 'intact', 'mills', 'mardi', 'protracted', 'reasons', 'starbucks', 'targets', 'bangladesh', 'technically', 'violating', 'establishment', 'instructors', 'overflowing', 'benefit', 'reasonably', 'commemoration', 'dismisses', 'blue', 'incidents', 'losses', 'congratulating', 'december', 'ceased', 'erotic', 'archbishop', 'capital', 'mothers', 'comrades', 'bearded', 'desirable', 'proceeds', 'creditors', 'incriminating', 'nose', 'bloomberg', 'attendance', 'oversample', 'willing', 'patriots', 'setback', 'consequently', 'beck', 'install', 'madness', 'depletion', 'calcium', 'recreation', 'liked', 'demagogue', 'invaluable', 'opaque', 'spend', 'protections', 'chunk', 'scrap', 'discomfort', 'fertility', 'generated', 'goldberg', 'powerfully', 'pilger', 'probably', 'californias', 'usda', 'predicting', 'blowing', 'delegation', 'selections', 'leaders', 'coordinating', 'republican', 'stared', 'turkish', 'yale', 'prodding', 'lebanese', 'occurred', 'destroys', 'vintage', 'shaabi', 'greens', 'light', 'armoured', 'bushs', 'republic', 'yelled', 'sides', 'hacking', 'elliot', 'overview', 'striving', 'malignant', 'merely', 'manuscript', 'keith', 'oliver', 'outing', 'extremism', 'smokers', 'transgenders', 'interpret', 'clever', 'avocado', 'chastised', 'unethical', 'demeanor', 'harris', 'condoleezza', 'realize', 'escape', 'implants', 'individuality', 'ankle', 'mentor', 'rahul', 'fatigue', 'raytheon', 'tatiana', 'fervently', 'tossing', 'suit', 'nada', 'wallets', 'buds', 'attributes', 'officers', 'precedents', 'world', 'croatian', 'divergent', 'hard', 'nightmarish', 'touts', 'tucked', 'twisting', 'evan', 'vassal', 'bolshevik', 'kenneth', 'prevailed', 'loathe', 'obligations', 'sights', 'anticipates', 'rails', 'brimelow', 'deadlock', 'rubble', 'jeff', 'glow', 'underworld', 'bases', 'baraka', 'circles', 'salafist', 'adopt', 'crafts', 'peripheral', 'snopes', 'maple', 'defend', 'psychopathic', 'sword', 'trigger', 'leftism', 'yogi', 'welcomes', 'authoritative', 'kaufman', 'manafort', 'ringing', 'employers', 'fray', 'manhattan', 'prioritized', 'linings', 'babtist', 'fbook', 'engineers', 'idiots', 'stars', 'treaties', 'displayed', 'billboards', 'adults', 'consigned', 'casings', 'flanks', 'forced', 'calibration', 'enlisted', 'creed', 'kiss', 'lousy', 'marks', 'obtaining', 'britains', 'chechen', 'demonic', 'inhabited', 'maine', 'conway', 'musk', 'disarm', 'resembled', 'stuffed', 'supply', 'softened', 'carbohydrates', 'overpaid', 'housing', 'disappointments', 'sink', 'unnatural', 'berlin', 'characteristic', 'environmentally', 'collecting', 'nrol', 'imperialism', 'indicting', 'noaa', 'residual', 'traders', 'preacher', 'tunes', 'armchair', 'vulnerabilities', 'gutted', 'disable', 'photos', 'unlimited', 'lockdown', 'dictator', 'theology', 'unjustifiable', 'dissolution', 'whoa', 'chilean', 'sanger', 'burger', 'holy', 'reversal', 'occupier', 'squandered', 'obamacares', 'england', 'stick', 'floridas', 'german', 'congresswoman', 'capitalism', 'founder', 'amused', 'plotting', 'remaining', 'curb', 'guts', 'allergies', 'masculinity', 'alarmed', 'overblown', 'scary', 'aggravated', 'northwestern', 'piles', 'reservations', 'pinnacle', 'seminar', 'simmering', 'majestic', 'sacrifice', 'scathing', 'conciliatory', 'teddy', 'inexplicable', 'golan', 'beginnings', 'predict', 'swine', 'manifesto', 'oman', 'pirates', 'worker', 'classification', 'iconic', 'balfour', 'administrator', 'busted', 'hotter', 'comparative', 'drivel', 'stockholm', 'orthodox', 'puzzled', 'amusement', 'mount', 'nature', 'exclusively', 'impossibility', 'proposing', 'ugly', 'denied', 'lifetime', 'abedin', 'exist', 'happily', 'metaphor', 'oiled', 'encirclement', 'infusion', 'penny', 'persona', 'queue', 'constructs', 'fanaticism', 'relies', 'battled', 'bipartisan', 'breaches', 'cory', 'ironic', 'unite', 'complement', 'channel', 'instrument', 'frighteningly', 'feminine', 'pretenses', 'annoyance', 'extraterrestrial', 'preview', 'nuanced', 'forwarding', 'redefine', 'prohibitions', 'gatherings', 'valiant', 'dream', 'milan', 'osteoporosis', 'sailing', 'distraction', 'esoteric', 'memes', 'bully', 'microcosm', 'rightist', 'para', 'overdue', 'balances', 'returned', 'median', 'siberian', 'similarities', 'freezer', 'cubans', 'leader', 'hearts', 'mondays', 'swore', 'slanted', 'irony', 'duct', 'recorded', 'views', 'voodoo', 'arrived', 'brutal', 'ahead', 'stimulates', 'welcomed', 'knee', 'split', 'dressing', 'unprecedented', 'thinner', 'parasitic', 'entirety', 'sparking', 'faire', 'commonly', 'backwater', 'cornered', 'lenders', 'upcoming', 'prohibits', 'vegas', 'refugee', 'exam', 'communicated', 'base', 'twitter', 'balls', 'reduce', 'assumes', 'abruptly', 'attending', 'bernie', 'consented', 'minion', 'recognised', 'breathe', 'cheney', 'antiwar', 'commands', 'rarely', 'surgery', 'sentiment', 'predictably', 'thirdly', 'worldly', 'artist', 'conceals', 'chemo', 'jade', 'reviews', 'natural', 'shorter', 'waste', 'kennedy', 'ardent', 'unseen', 'generators', 'handedly', 'menacing', 'analysed', 'determining', 'flatulence', 'watch', 'socially', 'congestion', 'devastate', 'double', 'engulfed', 'hypothesis', 'weakens', 'primaries', 'victim', 'apologizes', 'scripts', 'superintendent', 'travels', 'unfolded', 'economic', 'surveying', 'byzantine', 'fringe', 'raft', 'activistpost', 'cooperated', 'irans', 'textbooks', 'stops', 'narrower', 'oops', 'sufficiently', 'barriers', 'outdoor', 'thumb', 'totalitarian', 'confrontation', 'emerge', 'undemocratic', 'warned', 'continuously', 'congressmen', 'likud', 'elects', 'roaming', 'justifiable', 'orwell', 'passionately', 'anton', 'attach', 'emanates', 'vegetation', 'align', 'bladder', 'coffee', 'demonization', 'brushing', 'conditional', 'fingers', 'paradoxically', 'thing', 'murky', 'infiltrating', 'degradation', 'boldness', 'portugal', 'causing', 'hawaii', 'fiasco', 'reptilian', 'wire', 'annex', 'annexed', 'aspartame', 'changed', 'erstwhile', 'kate', 'explode', 'pronged', 'retreating', 'thermal', 'twenties', 'basic', 'germanys', 'realised', 'irreparably', 'quartz', 'unique', 'facilitation', 'berries', 'piled', 'elon', 'piano', 'solidarity', 'visibility', 'abdulaziz', 'circle', 'revenge', 'laureate', 'strength', 'speak', 'meddle', 'dubious', 'giveaway', 'oregon', 'finds', 'rene', 'catch', 'funeral', 'resurgent', 'snipers', 'snooping', 'unscathed', 'remains', 'romance', 'downgraded', 'superb', 'provoke', 'belgian', 'cleaning', 'woodhouse', 'bestselling', 'tinseltown', 'winning', 'tracking', 'recreate', 'payer', 'stables', 'nightly', 'outreach', 'infant', 'vested', 'clearance', 'looters', 'saturated', 'corrections', 'rehabilitation', 'outlining', 'excellent', 'rope', 'ankara', 'moon', 'nativism', 'bled', 'santa', 'trending', 'demonized', 'nazism', 'undersecretary', 'courts', 'nuances', 'sarin', 'subconscious', 'unstable', 'jacksons', 'instructions', 'builds', 'centre', 'orban', 'adding', 'avoidance', 'segment', 'alice', 'analyzing', 'beheading', 'ostensible', 'madeleine', 'meal', 'exxonmobil', 'refined', 'popes', 'actually', 'apologist', 'upward', 'grieving', 'pences', 'booth', 'arctic', 'fails', 'infowarsstore', 'instigate', 'despondent', 'decks', 'resting', 'incarcerate', 'impeachment', 'italy', 'slogans', 'victorious', 'client', 'brainwash', 'acknowledged', 'geographic', 'applied', 'vengeance', 'smoke', 'colonists', 'rejoice', 'studio', 'aligning', 'weed', 'doubled', 'nationally', 'plundering', 'mayadeen', 'prohibiting', 'ross', 'unsecured', 'wastelands', 'escalating', 'rubberstamps', 'sophistication', 'easing', 'nonpartisan', 'sudafed', 'refusal', 'optimize', 'force', 'geography', 'popularized', 'stressful', 'unity', 'depravity', 'science', 'retaliates', 'stark', 'sites', 'express', 'publication', 'doors', 'tanker', 'barricades', 'feckless', 'cheering', 'contracted', 'metaphorically', 'shifting', 'exploitation', 'confuse', 'maryland', 'launching', 'code', 'inevitability', 'anthropologist', 'mossad', 'despair', 'cereal', 'modified', 'seriously', 'passion', 'shall', 'linger', 'jupiter', 'holes', 'accessible', 'smoked', 'rains', 'tallied', 'launches', 'expectation', 'lawlessness', 'grilled', 'senegal', 'hunted', 'witnesses', 'refusing', 'hostilities', 'sketch', 'issues', 'jailed', 'desist', 'endgame', 'evaluated', 'darrell', 'additional', 'correctness', 'fuck', 'unfiltered', 'soberly', 'diminish', 'konstantin', 'wouldn', 'oakland', 'albania', 'crumble', 'accompanied', 'outlet', 'resumes', 'outburst', 'cyclical', 'posting', 'float', 'liberal', 'patriotic', 'viral', 'mixed', 'dominic', 'predator', 'warmongering', 'antioxidants', 'essential', 'persisted', 'widening', 'clinics', 'pilot', 'default', 'disputes', 'prices', 'resuming', 'recruit', 'antioxidant', 'wears', 'luxurious', 'oxygen', 'iceberg', 'trove', 'blogspot', 'discovering', 'witches', 'advisers', 'aged', 'hosts', 'raddatz', 'navys', 'running', 'label', 'medics', 'scene', 'electorates', 'egged', 'binney', 'indulging', 'sheet', 'instruction', 'bogus', 'dmitri', 'addition', 'boasting', 'continent', 'defiantly', 'depths', 'fish', 'agents', 'broadcasting', 'unraveling', 'sausage', 'overseas', 'congratulated', 'christians', 'save', 'regiment', 'wrong', 'smart', 'distributed', 'arrival', 'tesla', 'churning', 'distinct', 'uttered', 'rachael', 'scares', 'fixing', 'modi', 'prefers', 'nerves', 'loretta', 'patron', 'extremist', 'friend', 'etched', 'abadi', 'obamas', 'skyrocket', 'workforce', 'profiles', 'bought', 'overwhelmed', 'identity', 'thinning', 'withdrawals', 'anybodys', 'customs', 'pathways', 'rosie', 'seemingly', 'brooks', 'abusive', 'fassa', 'naive', 'abcs', 'colossal', 'poems', 'lovers', 'rebelling', 'rumours', 'soviets', 'piracy', 'pondering', 'anytime', 'butts', 'fearmongering', 'flick', 'bile', 'ovation', 'supervising', 'ambulance', 'argue', 'drills', 'helpful', 'latters', 'contention', 'beautifully', 'addicted', 'elders', 'fundraiser', 'kindergarten', 'selma', 'dances', 'drunken', 'staked', 'disclosing', 'floating', 'entanglements', 'unfavorably', 'vapor', 'listened', 'reconstruction', 'muscles', 'exit', 'butcher', 'modes', 'holland', 'illustrate', 'precious', 'particularly', 'questions', 'stamps', 'throes', 'applicants', 'emboldened', 'irritation', 'commentators', 'defences', 'postpone', 'rest', 'angels', 'outward', 'subversion', 'ensue', 'clarify', 'machinery', 'oclock', 'jake', 'oppression', 'foolishness', 'fever', 'quarter', 'baxter', 'thai', 'mysteries', 'scanned', 'embarrassed', 'itll', 'riddled', 'consciousness', 'quantify', 'radius', 'edward', 'stalinist', 'activating', 'doubles', 'provision', 'reprinted', 'bastard', 'fort', 'booked', 'infiltrated', 'peshmerga', 'fork', 'touring', 'equipped', 'guantanamo', 'theorized', 'trench', 'unilaterally', 'unauthorized', 'delegitimize', 'discouraging', 'regales', 'natives', 'presumably', 'afro', 'registered', 'afghans', 'stinking', 'lack', 'unfairly', 'veil', 'widely', 'tendency', 'classic', 'cropping', 'mess', 'scapegoats', 'collective', 'conclusively', 'jesus', 'transparency', 'feared', 'spanning', 'escaped', 'melbourne', 'comforting', 'corporal', 'replied', 'antidepressants', 'preferably', 'collars', 'advice', 'males', 'meticulously', 'nationalistic', 'vantage', 'influential', 'kings', 'tank', 'versions', 'pinpoint', 'pres', 'seek', 'arisen', 'hamid', 'specially', 'cognitive', 'reductions', 'attended', 'page', 'study', 'university', 'aging', 'asses', 'strap', 'baton', 'finale', 'miles', 'convene', 'graphic', 'polished', 'courthouse', 'extraction', 'theirs', 'fluke', 'gives', 'photography', 'unpublished', 'filtered', 'practitioner', 'subscribers', 'attacked', 'lashed', 'antonio', 'crazier', 'impressed', 'deliberate', 'someday', 'tranquility', 'impressions', 'pushers', 'robby', 'excited', 'dairy', 'disqualified', 'celebrities', 'identification', 'motorcycle', 'bots', 'gunning', 'coincidental', 'hong', 'orientations', 'singular', 'sunni', 'foreigner', 'getting', 'terry', 'portrays', 'warnings', 'ireland', 'taught', 'honour', 'pariah', 'struggling', 'nbcs', 'describes', 'smallest', 'proclaimed', 'transported', 'weld', 'afflicted', 'allowed', 'confrontations', 'politicos', 'lots', 'apostates', 'handguns', 'leaderships', 'tonnes', 'bodies', 'oxford', 'unprotected', 'vienna', 'apathy', 'familys', 'worst', 'sharif', 'enlightened', 'revision', 'deafening', 'theres', 'celebrations', 'coffin', 'travel', 'democrat', 'deter', 'skeptical', 'mental', 'madame', 'apprehension', 'immensely', 'lows', 'hurled', 'keenly', 'peculiar', 'surmise', 'nutty', 'pretend', 'dates', 'exciting', 'onward', 'gunmen', 'paso', 'motionless', 'multiple', 'oxymoron', 'services', 'withheld', 'haitian', 'yeltsins', 'ejected', 'leaning', 'choices', 'misdemeanors', 'kidnap', 'vaccinated', 'disregards', 'verify', 'having', 'programmes', 'demanded', 'doctorate', 'transcendence', 'maricopa', 'complexes', 'bunk', 'fracking', 'naively', 'ordered', 'rancid', 'reveals', 'updating', 'opensecrets', 'tomato', 'relationships', 'make', 'narrowed', 'antagonize', 'subscribing', 'foresight', 'boiling', 'cycling', 'forward', 'admirers', 'duplicate', 'juan', 'orphan', 'presents', 'addict', 'politico', 'satanist', 'selves', 'deception', 'likeminded', 'preliminary', 'voicing', 'excludes', 'requirements', 'crisis', 'disadvantaged', 'electronically', 'scams', 'misrepresented', 'yacht', 'inflamed', 'lendmanstephen', 'cascading', 'eagerly', 'earnings', 'lament', 'achievable', 'mizzou', 'muted', 'laguardia', 'teachers', 'multiples', 'assertive', 'humanism', 'princess', 'proofs', 'employee', 'raining', 'unfettered', 'incompetent', 'venues', 'venice', 'connected', 'yournewswire', 'antiseptic', 'upgrade', 'couldve', 'guest', 'furnished', 'compensation', 'muster', 'limbo', 'rights', 'verge', 'projections', 'brain', 'whale', 'ramped', 'fords', 'reverted', 'whistleblowing', 'participate', 'disappeared', 'mekasi', 'snapshot', 'outfits', 'museum', 'rocking', 'latinos', 'missing', 'adamant', 'resigned', 'respected', 'bruce', 'precipitated', 'testing', 'blake', 'capture', 'defeat', 'forgiving', 'nigh', 'spokespeople', 'napalm', 'sciences', 'repay', 'defaced', 'palestinians', 'pills', 'favor', 'deer', 'dissolving', 'guaranteeing', 'masterful', 'pediatric', 'notion', 'fuss', 'prestige', 'reagan', 'somber', 'greg', 'paustenbach', 'petroleum', 'supplement', 'meat', 'humanitarianism', 'clintonemail', 'entangled', 'sift', 'magnet', 'understatement', 'immense', 'agencys', 'ailing', 'radar', 'clerk', 'tribunals', 'gauntlet', 'phony', 'static', 'heightened', 'casually', 'bloggers', 'meaning', 'drugs', 'know', 'pacify', 'appearances', 'picket', 'consolidated', 'singularity', 'booted', 'bats', 'fascinating', 'hopes', 'cheered', 'offerings', 'republished', 'dreaming', 'bandwidth', 'closed', 'shep', 'testified', 'brandishing', 'integrates', 'preparedness', 'alinsky', 'beer', 'airplanes', 'bakken', 'reformer', 'skyrocketed', 'ptsd', 'sells', 'controlled', 'squandering', 'storms', 'irresponsibly', 'cashing', 'expedition', 'shackles', 'soros', 'panties', 'democracies', 'gallup', 'loss', 'angeles', 'stories', 'warheads', 'teller', 'kallstrom', 'supplementing', 'released', 'screwed', 'weapon', 'comparable', 'internship', 'judged', 'tandem', 'sucked', 'uplift', 'yeltsin', 'surpassing', 'contempt', 'freely', 'simultaneous', 'convoy', 'rebecca', 'registering', 'accumulated', 'remark', 'unbridled', 'intersection', 'immoral', 'humas', 'spirit', 'titanic', 'appreciate', 'globally', 'vietnamese', 'wrangling', 'colonized', 'brook', 'knowledge', 'waging', 'promoters', 'making', 'neutralize', 'misogyny', 'relied', 'sample', 'automotive', 'sigmund', 'bypassing', 'drug', 'graft', 'handpicked', 'skeleton', 'pinned', 'enlist', 'guaranteed', 'protectors', 'humanity', 'excrement', 'espousing', 'ninety', 'insanity', 'overall', 'technique', 'wacky', 'italys', 'mimicking', 'designing', 'roamed', 'hawthorne', 'inconvenience', 'robert', 'spoken', 'yoga', 'outcome', 'renew', 'transmissions', 'watts', 'dragging', 'runway', 'lied', 'futile', 'import', 'looks', 'hasty', 'upgraded', 'solace', 'complementary', 'bulldozer', 'receipts', 'anomalous', 'viruses', 'bride', 'incensed', 'insist', 'mandela', 'negotiate', 'junkies', 'shut', 'sexist', 'romanian', 'withdrawn', 'militarized', 'intellihub', 'partisanship', 'goodman', 'tracks', 'worth', 'vladimir', 'exemption', 'alabamas', 'dakotas', 'detaining', 'stabilizing', 'pandemic', 'switches', 'walker', 'zion', 'spot', 'resonance', 'measurements', 'parrys', 'reassess', 'checkpoints', 'distrust', 'borough', 'mcdonald', 'safer', 'believer', 'shops', 'bites', 'masquerading', 'designs', 'diversify', 'achieve', 'pamela', 'upload', 'acne', 'standalone', 'immigrant', 'gripping', 'bitten', 'blinders', 'cartel', 'conflagration', 'fiercely', 'intrusion', 'alienated', 'lancet', 'average', 'ingested', 'abused', 'brutalized', 'judge', 'programmed', 'twists', 'alexander', 'thefts', 'ring', 'terminology', 'debt', 'flag', 'unsure', 'thrones', 'atmospheric', 'barbaric', 'diligence', 'divisive', 'rockefeller', 'unlike', 'vicki', 'mingling', 'pathological', 'conversion', 'curse', 'delusions', 'masked', 'citibank', 'fatty', 'fluids', 'atlas', 'foundation', 'cleaner', 'florida', 'misplaced', 'retired', 'judging', 'sanctions', 'scriptures', 'insular', 'substances', 'behave', 'supporting', 'watcher', 'autocracy', 'ethiopian', 'minorities', 'emptied', 'traded', 'regained', 'glad', 'practice', 'tastes', 'iraqs', 'hikes', 'mumbai', 'nursing', 'rail', 'hull', 'schematic', 'stores', 'democracys', 'addendum', 'mythology', 'forum', 'elites', 'lewd', 'assessing', 'badge', 'bandera', 'conjecture', 'despise', 'abortion', 'culturally', 'hurry', 'influenced', 'korea', 'grind', 'incursions', 'biases', 'nutritious', 'railway', 'intervening', 'stomped', 'walnuts', 'contractor', 'gaza', 'fates', 'vulnerability', 'liaison', 'reminder', 'sharing', 'consultancy', 'supremely', 'armageddon', 'paint', 'threats', 'mother', 'feelings', 'aufc', 'mere', 'militarily', 'futility', 'mystical', 'newark', 'mitch', 'wall', 'horde', 'relaying', 'expands', 'tentatively', 'illegal', 'impromptu', 'tubes', 'forceful', 'predisposed', 'appointees']\n"
     ]
    }
   ],
   "source": [
    "print(vectorizer.get_feature_names())"
   ]
  },
  {
   "cell_type": "code",
   "execution_count": 235,
   "metadata": {
    "collapsed": true
   },
   "outputs": [],
   "source": [
    "wd_frequency = vectorizer.transform(text)"
   ]
  },
  {
   "cell_type": "code",
   "execution_count": null,
   "metadata": {
    "collapsed": true
   },
   "outputs": [],
   "source": [
    "u,s,vt = svds(wd_frequency.asfptype(),k=200)"
   ]
  },
  {
   "cell_type": "code",
   "execution_count": null,
   "metadata": {},
   "outputs": [],
   "source": [
    "u.shape"
   ]
  },
  {
   "cell_type": "code",
   "execution_count": null,
   "metadata": {},
   "outputs": [],
   "source": [
    "s"
   ]
  },
  {
   "cell_type": "code",
   "execution_count": null,
   "metadata": {
    "collapsed": true
   },
   "outputs": [],
   "source": [
    "cumul=0\n",
    "n_components=[]\n",
    "cum_vals = []\n",
    "for ind,singv in enumerate(sorted(s,reverse=True)):\n",
    "    cumul += singv\n",
    "    n_components.append(ind)\n",
    "    cum_vals.append(cumul/sum(s))"
   ]
  },
  {
   "cell_type": "code",
   "execution_count": null,
   "metadata": {},
   "outputs": [],
   "source": [
    "plt.plot(n_components,cum_vals,'g-')"
   ]
  },
  {
   "cell_type": "code",
   "execution_count": null,
   "metadata": {
    "collapsed": true
   },
   "outputs": [],
   "source": [
    "tsvd = TruncatedSVD(n_components=300,random_state=40)"
   ]
  },
  {
   "cell_type": "code",
   "execution_count": null,
   "metadata": {},
   "outputs": [],
   "source": [
    "tsvd.fit(wd_frequency)"
   ]
  },
  {
   "cell_type": "code",
   "execution_count": null,
   "metadata": {},
   "outputs": [],
   "source": [
    "tsvd.get_params()"
   ]
  },
  {
   "cell_type": "code",
   "execution_count": null,
   "metadata": {},
   "outputs": [],
   "source": [
    "sum(tsvd.explained_variance_ratio_)"
   ]
  },
  {
   "cell_type": "code",
   "execution_count": null,
   "metadata": {},
   "outputs": [],
   "source": [
    "\n",
    "\n",
    "cumul=0\n",
    "n_components=[]\n",
    "cum_vals = []\n",
    "for ind,singv in enumerate(tsvd.explained_variance_ratio_):\n",
    "    cumul += singv\n",
    "    n_components.append(ind+1)\n",
    "    cum_vals.append(cumul)\n",
    "    \n",
    "plt.plot(n_components,cum_vals,'g-');"
   ]
  },
  {
   "cell_type": "code",
   "execution_count": null,
   "metadata": {
    "collapsed": true
   },
   "outputs": [],
   "source": [
    "transformed_wd_frequency = pd.DataFrame(tsvd.transform(wd_frequency))"
   ]
  },
  {
   "cell_type": "code",
   "execution_count": null,
   "metadata": {},
   "outputs": [],
   "source": [
    "kmeanscl = KMeans(n_clusters=10,n_jobs=-1,random_state=40)\n",
    "\n",
    "kmeanscl.fit(transformed_wd_frequency)\n",
    "\n",
    "centroids = kmeanscl.cluster_centers_\n",
    "\n",
    "Counter(kmeanscl.labels_)"
   ]
  },
  {
   "cell_type": "code",
   "execution_count": null,
   "metadata": {},
   "outputs": [],
   "source": [
    "len(kmeanscl.labels_)"
   ]
  },
  {
   "cell_type": "code",
   "execution_count": null,
   "metadata": {
    "collapsed": true
   },
   "outputs": [],
   "source": [
    "clustered_text = pd.merge(pd.DataFrame(fakenews_df_filtered),\n",
    "                          pd.DataFrame(kmeanscl.labels_,\n",
    "                                       index=fakenews_df_filtered.index,\n",
    "                                       columns=['cluster_label']),\n",
    "                          how='left',left_index=True,right_index=True)"
   ]
  },
  {
   "cell_type": "code",
   "execution_count": null,
   "metadata": {},
   "outputs": [],
   "source": [
    "list(clustered_text[clustered_text['cluster_label']==4]['text'].sample())"
   ]
  },
  {
   "cell_type": "code",
   "execution_count": null,
   "metadata": {},
   "outputs": [],
   "source": [
    "clustered_text[clustered_text['language']!='english']"
   ]
  },
  {
   "cell_type": "code",
   "execution_count": null,
   "metadata": {},
   "outputs": [],
   "source": [
    "clustered_text[clustered_text['cluster_label']==8]"
   ]
  },
  {
   "cell_type": "code",
   "execution_count": null,
   "metadata": {},
   "outputs": [],
   "source": [
    "[list(print(doc,'\\n\\n') for doc in clustered_text[clustered_text['cluster_label']==2].sample(5).text)]"
   ]
  },
  {
   "cell_type": "code",
   "execution_count": null,
   "metadata": {
    "collapsed": true
   },
   "outputs": [],
   "source": []
  },
  {
   "cell_type": "markdown",
   "metadata": {
    "collapsed": true
   },
   "source": [
    "## TFIDF"
   ]
  },
  {
   "cell_type": "code",
   "execution_count": 264,
   "metadata": {
    "collapsed": true
   },
   "outputs": [],
   "source": [
    "from sklearn.feature_extraction.text import TfidfVectorizer"
   ]
  },
  {
   "cell_type": "code",
   "execution_count": null,
   "metadata": {
    "collapsed": true
   },
   "outputs": [],
   "source": [
    "vectorizer = TfidfVectorizer(strip_accents='ascii',analyzer='word',lowercase=True,stop_words='english',min_df=10,vocabulary=feat_names_clean)"
   ]
  },
  {
   "cell_type": "code",
   "execution_count": null,
   "metadata": {},
   "outputs": [],
   "source": [
    "vectorizer.fit(text)"
   ]
  },
  {
   "cell_type": "code",
   "execution_count": null,
   "metadata": {},
   "outputs": [],
   "source": [
    "len(vectorizer.get_feature_names())"
   ]
  },
  {
   "cell_type": "code",
   "execution_count": null,
   "metadata": {},
   "outputs": [],
   "source": [
    "wd_frequency = vectorizer.transform(text)\n",
    "tsvd = TruncatedSVD(n_components=300,random_state=40)\n",
    "tsvd.fit(wd_frequency)"
   ]
  },
  {
   "cell_type": "code",
   "execution_count": null,
   "metadata": {},
   "outputs": [],
   "source": [
    "cumul=0\n",
    "n_components=[]\n",
    "cum_vals = []\n",
    "for ind,singv in enumerate(tsvd.explained_variance_ratio_):\n",
    "    cumul += singv\n",
    "    n_components.append(ind+1)\n",
    "    cum_vals.append(cumul)\n",
    "    \n",
    "plt.plot(n_components,cum_vals,'g-');"
   ]
  },
  {
   "cell_type": "code",
   "execution_count": null,
   "metadata": {},
   "outputs": [],
   "source": [
    "sorted([(ind,val) for ind,val in enumerate(tsvd.components_[0])],key=lambda x: x[1],reverse=True)[:10]"
   ]
  },
  {
   "cell_type": "code",
   "execution_count": null,
   "metadata": {},
   "outputs": [],
   "source": [
    "test_indices = [10187,10824,2465,10654,3326,11731]\n",
    "[feat_names_clean[i] for i in test_indices]"
   ]
  },
  {
   "cell_type": "code",
   "execution_count": null,
   "metadata": {
    "collapsed": true
   },
   "outputs": [],
   "source": [
    "transformed_wd_frequency = pd.DataFrame(tsvd.transform(wd_frequency))"
   ]
  },
  {
   "cell_type": "code",
   "execution_count": null,
   "metadata": {},
   "outputs": [],
   "source": [
    "kmeanscl = KMeans(n_clusters=10,n_jobs=-1,random_state=40)\n",
    "\n",
    "kmeanscl.fit(transformed_wd_frequency)\n",
    "\n",
    "centroids = kmeanscl.cluster_centers_\n",
    "\n",
    "Counter(kmeanscl.labels_)"
   ]
  },
  {
   "cell_type": "code",
   "execution_count": null,
   "metadata": {},
   "outputs": [],
   "source": [
    "sorted([(ind,val) for ind,val in enumerate(centroids[9])],key=lambda x: x[1],reverse=True)"
   ]
  },
  {
   "cell_type": "code",
   "execution_count": null,
   "metadata": {},
   "outputs": [],
   "source": [
    "centroids[0]"
   ]
  },
  {
   "cell_type": "code",
   "execution_count": null,
   "metadata": {
    "scrolled": true
   },
   "outputs": [],
   "source": [
    "# to get the most important topics in the cluster:\n",
    "for cluster_ind in range(len(centroids)):\n",
    "    main_topics_in_cluster = [topic[0] for topic in sorted([(ind,val) for ind,val in enumerate(centroids[cluster_ind])],key=lambda x: x[1],reverse=True)[:3]]\n",
    "    topic_relative_importance = [topic[1] for topic in sorted([(ind,val) for ind,val in enumerate(centroids[cluster_ind])],key=lambda x: x[1],reverse=True)[:3]]\n",
    "    print(f\"Cluster # {cluster_ind}\",main_topics_in_cluster)\n",
    "    print(f\"Topic rel. importance: {np.around(topic_relative_importance,3)}\\n\")\n",
    "    for topic in main_topics_in_cluster:\n",
    "        words_in_topic = [word_ind[0] for word_ind in sorted([(ind,val) for ind,val in enumerate(tsvd.components_[topic])],key=lambda x: x[1],reverse=True)[:15]]\n",
    "        print(f\"Topic # {topic}\",[feat_names_clean[word_ind] for word_ind in words_in_topic])\n",
    "    excerpts = [clustered_text[clustered_text['cluster_label']==cluster_ind].loc[:,'text'].iloc[i][200:600] for i in range(5,8)]\n",
    "    for ind,excerpt in enumerate(excerpts):\n",
    "        print(f\"\\n*******Excerpt#{ind+1}: *********\\n {excerpt}\")\n",
    "    print('\\n\\n')\n",
    "    print(\"___________________________________________________________________________\")"
   ]
  },
  {
   "cell_type": "code",
   "execution_count": null,
   "metadata": {
    "collapsed": true
   },
   "outputs": [],
   "source": [
    "clustered_text = pd.merge(pd.DataFrame(fakenews_df_filtered),\n",
    "                          pd.DataFrame(kmeanscl.labels_,\n",
    "                                       index=fakenews_df_filtered.index,\n",
    "                                       columns=['cluster_label']),\n",
    "                          how='left',left_index=True,right_index=True)"
   ]
  },
  {
   "cell_type": "code",
   "execution_count": null,
   "metadata": {},
   "outputs": [],
   "source": [
    "list(clustered_text[clustered_text['cluster_label']==9].loc[:,'text'].iloc[i][300:1000] for i in range(10))"
   ]
  },
  {
   "cell_type": "code",
   "execution_count": null,
   "metadata": {
    "collapsed": true
   },
   "outputs": [],
   "source": []
  },
  {
   "cell_type": "markdown",
   "metadata": {},
   "source": [
    "# SPACY"
   ]
  },
  {
   "cell_type": "code",
   "execution_count": 213,
   "metadata": {
    "collapsed": true
   },
   "outputs": [],
   "source": [
    "import spacy"
   ]
  },
  {
   "cell_type": "code",
   "execution_count": 214,
   "metadata": {
    "collapsed": true
   },
   "outputs": [],
   "source": [
    "nlp = spacy.load('en')"
   ]
  },
  {
   "cell_type": "code",
   "execution_count": 256,
   "metadata": {
    "collapsed": true
   },
   "outputs": [],
   "source": [
    "mod_text = deepcopy(text)"
   ]
  },
  {
   "cell_type": "code",
   "execution_count": 261,
   "metadata": {},
   "outputs": [
    {
     "data": {
      "text/plain": [
       "'why did attorney general loretta lynch plead the fifth? barracuda brigade -- print the administration is blocking congressional probe into cash payments to iran. of course she needs to plead the . she either can t recall, refuses to answer, or just plain deflects the question. straight up corruption at its finest!   ; talk about covering your ass! loretta lynch did just that when she plead the fifth to avoid incriminating herself over payments to iran…corrupt to the core! attorney general loretta lynch is declining to comply with an investigation by leading members of congress about the obama administration s secret efforts to send iran $ billion in cash earlier this year, prompting accusations that lynch has “pleaded the fifth” amendment to avoid incriminating herself over these payments, according to lawmakers and communications exclusively obtained by the washington free beacon.  sen. marco rubio (r., fla.) and rep. mike pompeo (r., kan.) initially presented lynch in october with a series of questions about how the cash payment to iran was approved and delivered.  in an oct.  response, assistant attorney general peter kadzik responded on lynch s behalf, refusing to answer the questions and informing the lawmakers that they are barred from publicly disclosing any details about the cash payment, which was bound up in a ransom deal aimed at freeing several american hostages from iran.  the response from the attorney general s office is “unacceptable” and provides evidence that lynch has chosen to “essentially plead the fifth and refuse to respond to inquiries regarding [her]role in providing cash to the world s foremost state sponsor of terrorism,” rubio and pompeo wrote on friday in a follow-up letter to lynch. more related'"
      ]
     },
     "execution_count": 261,
     "metadata": {},
     "output_type": "execute_result"
    }
   ],
   "source": [
    "cleanText(mod_text[1])"
   ]
  },
  {
   "cell_type": "code",
   "execution_count": 263,
   "metadata": {},
   "outputs": [],
   "source": [
    "mod_docs = [doc for doc in nlp.pipe(mod_text,n_threads=3)]"
   ]
  },
  {
   "cell_type": "code",
   "execution_count": 218,
   "metadata": {
    "collapsed": true
   },
   "outputs": [],
   "source": [
    "doc_idxs = [doc_idx for doc_idx in text.index]"
   ]
  },
  {
   "cell_type": "code",
   "execution_count": 220,
   "metadata": {},
   "outputs": [],
   "source": [
    "documents = [nlp(doc) for doc in text]"
   ]
  },
  {
   "cell_type": "code",
   "execution_count": 217,
   "metadata": {},
   "outputs": [
    {
     "data": {
      "text/plain": [
       "1        Why Did Attorney General Loretta Lynch Plead T...\n",
       "2        Red State : \\nFox News Sunday reported this mo...\n",
       "4        Email HEALTHCARE REFORM TO MAKE AMERICA GREAT ...\n",
       "5        Print Hillary goes absolutely berserk! She exp...\n",
       "6        BREAKING! NYPD Ready To Make Arrests In Weiner...\n",
       "7        BREAKING! NYPD Ready To Make Arrests In Weiner...\n",
       "8        \\nLimbaugh said that the revelations in the Wi...\n",
       "11       \\nWho? Comedian. \\nWhere would she move? Spain...\n",
       "12       Students expressed their “fear” over a Trump p...\n",
       "13       Email For Republican politicians like Ohio Gov...\n",
       "17       Go to Article Donald Trump was willing to give...\n",
       "18       John McNaughton is a special American painter ...\n",
       "19       Go to Article Dear Abby, I supported a woman I...\n",
       "20       Mark Cuban has made no secret of his dislike f...\n",
       "23       Go to Article \\nPolitical activist and Hillary...\n",
       "26       Go to Article \\nThey had to know they had it c...\n",
       "27       DONALD TRUMP SKIPS MEDIA: Delivers Transition ...\n",
       "30       SHARIA IN AMERICA? How Minneapolis Muslims Are...\n",
       "34       \\n21st  says… \\n21WIRE reported on Friday abou...\n",
       "35       \\nIn a stunning turn of events 11 days before ...\n",
       "36       A tidal wave of revelations is pouring out of ...\n",
       "37       November 1, 2016 By 21wire 4 Comments \\nPatric...\n",
       "38       November 3, 2016 By Shawn Helton 1 Comment \\nS...\n",
       "39       \\n21st  says… \\nThis should be the biggest rev...\n",
       "40       \\n21st  says… \\nYesterday, WikiLeaks editor an...\n",
       "42       \\nEpisode #159 of SUNDAY WIRE SHOW resumes thi...\n",
       "43       \\n21st  says… \\nOver the past months, Hillary ...\n",
       "45       \\n21st  says… \\nMexico’s billionaire tycoon Ca...\n",
       "46       \\n21st  says… \\nOne of the great myths being s...\n",
       "47       \\n21st  says… \\nUS college students continue t...\n",
       "                               ...                        \n",
       "12883      Edmondo Burr in Technology // 0 Comments Nan...\n",
       "12884      Sean Adl-Tabatabai in News , US // 0 Comment...\n",
       "12885    Natural Blaze reports: \\nAfter months of simil...\n",
       "12886    Judge Orders Release Of 15,000 Clinton Emails ...\n",
       "12887    Posted on November 1, 2016 by Sean Adl-Tabatab...\n",
       "12888    Posted on November 1, 2016 by Sean Adl-Tabatab...\n",
       "12889    Putin Prepares For World War 3 With Simulated ...\n",
       "12890    Michelle Obama Deletes Hillary Clinton From Tw...\n",
       "12891    RT.com reports: \\nThe search warrant allows th...\n",
       "12892    USA Today reports: \\nAoun, 81, is an ally of H...\n",
       "12893    Posted on October 31, 2016 by Sean Adl-Tabatab...\n",
       "12894    Posted on October 31, 2016 by Edmondo Burr in ...\n",
       "12895    Posted on October 31, 2016 by Carol Adl in New...\n",
       "12896    Posted on November 1, 2016 by Edmondo Burr in ...\n",
       "12897    Sputnik reports: \\nAustralian Prime Minister M...\n",
       "12898    Johnson & Johnson Lose Third Multimillion Doll...\n",
       "12899      Texas County Enacts \"Emergency Paper Ballots...\n",
       "12900    Stupid Stuff, Late-2016 Edition by Sprott Mone...\n",
       "12901      As Calais \"Jungle\" Burns, Refugees Try To St...\n",
       "12902      Don't Diss The Dark Ages Oct 26, 2016 2:50 P...\n",
       "12903      Bitcoin Soars As China Launches Crackdown On...\n",
       "12904      Project Veritas 4: Robert Creamer's Illegal ...\n",
       "12905    Oct 26, 2016 3:52 PM 0 SHARES \\nThe long await...\n",
       "12906    Oct 26, 2016 3:50 PM 0 \\nSubmitted by Claudio ...\n",
       "12907    Kaiser Sousa Oct 26, 2016 4:07 PM \\nwhen i awo...\n",
       "12908    Oct 26, 2016 4:26 PM 0 SHARES \\nThere was a su...\n",
       "12910    She explains : \\nHillary Clinton wants to star...\n",
       "12911    YHC-FTSE Oct 26, 2016 5:14 PM \\nWould have bee...\n",
       "12912    Oct 26, 2016 5:20 PM 0 \\nSubmitted by Joseph J...\n",
       "12983    when i awoke this morning the Dow Jones Propag...\n",
       "Name: text, Length: 9692, dtype: object"
      ]
     },
     "execution_count": 217,
     "metadata": {},
     "output_type": "execute_result"
    }
   ],
   "source": [
    "text"
   ]
  },
  {
   "cell_type": "code",
   "execution_count": null,
   "metadata": {},
   "outputs": [],
   "source": [
    "ttxt = clustered_text[clustered_text['cluster_label']==4].text[10337]"
   ]
  },
  {
   "cell_type": "code",
   "execution_count": null,
   "metadata": {},
   "outputs": [],
   "source": [
    "ttxt"
   ]
  },
  {
   "cell_type": "code",
   "execution_count": null,
   "metadata": {},
   "outputs": [],
   "source": []
  },
  {
   "cell_type": "code",
   "execution_count": 239,
   "metadata": {},
   "outputs": [
    {
     "data": {
      "text/plain": [
       "Go to Article \n",
       "Political activist and Hillary supporter Amal Clooney traveled to Texas to warn Americans about our elected President Donald J. Trump and his tough immigration policies. Maybe she didn’t get the memo…Trump’s tough immigration stance is what catapulted him to the top of the heap in the crowded pack of GOP primary contenders. It wasn’t too long ago that her arrogant liberal husband announced with great confidence, “There will never be a President Trump”. \n",
       "Perhaps Amal should’ve traveled to some of the border towns if she wanted to get a clear picture of how illegal immigration is affecting our nation. Aliens crossing our borders illegally have destroyed the property of American ranchers, and threatened the safety and security of American citizens living in homes in or near the US -Mexican border towns… \n",
       "Amal Clooney has warned that many of president-elect Trump’s proposals would be ‘violations of international law.’ \n",
       "Speaking at the Texas Conference For Women at the Austin Convention Center on Tuesday, the international human rights lawyer, and wife of George Clooney, said she had concerns about America’s reputation under the real estate mogul’s plans. \n",
       "She noted that Trump’s comments during his campaign, ‘that there should be a religious test imposed on entering the U.S. or the fact that there should be state-sponsored torture or that families of suspected terrorists should all be killed — all of those things are violations of international human rights law and the values that underlie that.’ \n",
       "The 38-year-old wife said America’s reputation as a country with a strong human rights record and high moral standing was at risk. \n",
       "‘I think there’s some concern from abroad as to, “Are these things actually going to happen?”, or is the U.S. going to lose some of the moral standing that it has internationally,’ according to the Hollywood Reporter. \n",
       "Perhaps its time to put our nation’s security and sovereignty before we worry about what people in other countries around the world think of us… \n",
       "Both Amal and her Hollywood actor husband George, a staunch Hillary Clinton supporter, have spoken out against Trump in the past. \n",
       "Earlier this year, Amal Clooney called for Trump to be challenged on his extreme views. \n",
       "Watch George Clooney here whine about press giving Trump too much favorable press: \n",
       "‘When you listen to what the leading candidate on the Republican side has been saying about building walls, about excluding Mexicans and a complete shutdown of all Muslims entering in, and if you actually look at what he specifically said in that now infamous speech about Muslims, he kept saying, ‘They only want jihad. They don’t believe in our way of life. They don’t respect our system,” Clooney said. Via: Daily Mail  "
      ]
     },
     "execution_count": 239,
     "metadata": {},
     "output_type": "execute_result"
    }
   ],
   "source": [
    "documents[14]"
   ]
  },
  {
   "cell_type": "code",
   "execution_count": 247,
   "metadata": {},
   "outputs": [
    {
     "name": "stdout",
     "output_type": "stream",
     "text": [
      "print\n",
      "hillary\n",
      "go\n",
      "absolutely\n",
      "berserk\n",
      "!\n",
      "-PRON-\n",
      "explode\n",
      "on\n",
      "bill\n",
      "'\n",
      "rapist’\n",
      "protester\n",
      "at\n",
      "rally\n",
      "…\n",
      "oh\n",
      "the\n",
      "irony\n",
      "!\n",
      "-PRON-\n",
      "be\n",
      "an\n",
      "enabler\n",
      "to\n",
      "bill\n",
      "’s\n",
      "\"\n",
      "escapade\n",
      "\"\n",
      ".\n",
      "-PRON-\n",
      "’s\n",
      "be\n",
      "just\n",
      "project\n",
      "again\n",
      ".\n",
      "-PRON-\n",
      "be\n",
      "so\n",
      "pathetic\n",
      ".\n",
      "drag\n",
      "integrity\n",
      "challenge\n",
      "alicia\n",
      "machado\n",
      "on\n",
      "stage\n",
      "with\n",
      "-PRON-\n",
      "yesterday\n",
      "at\n",
      "-PRON-\n",
      "sad\n",
      "little\n",
      "\"\n",
      "rally\n",
      "\"\n",
      "in\n",
      "florida\n",
      ".\n",
      "\n",
      "\n",
      "tgp\n",
      ":\n",
      "democratic\n",
      "party\n",
      "presidential\n",
      "nominee\n",
      "hillary\n",
      "clinton\n",
      "angrily\n",
      "react\n",
      "to\n",
      "a\n",
      "protester\n",
      "shout\n",
      "\"\n",
      "bill\n",
      "clinton\n",
      "be\n",
      "a\n",
      "rapist\n",
      "\"\n",
      "at\n",
      "a\n",
      "campaign\n",
      "rally\n",
      "in\n",
      "fort\n",
      "lauderdale\n",
      ",\n",
      "florida\n",
      "tuesday\n",
      "night\n",
      ",\n",
      "say\n",
      ",\n",
      "\"\n",
      "-PRON-\n",
      "be\n",
      "sick\n",
      "and\n",
      "tired\n",
      "of\n",
      "the\n",
      "negative\n",
      ",\n",
      "dark\n",
      ",\n",
      "divisive\n",
      ",\n",
      "dangerous\n",
      "vision\n",
      "and\n",
      "behavior\n",
      "of\n",
      "people\n",
      "who\n",
      "support\n",
      "donald\n",
      "trump\n",
      ",\n",
      "\"\n",
      "accord\n",
      "to\n",
      "report\n",
      ".\n",
      "\n",
      "\n",
      "protester\n",
      "interrupt\n",
      "hillary\n",
      "clinton\n",
      "shout\n",
      "\"\n",
      "bill\n",
      "clinton\n",
      "be\n",
      "a\n",
      "rapist\n",
      ".\n",
      "\"\n",
      "clinton\n",
      "fire\n",
      "right\n",
      "back\n",
      "\"\n",
      "-PRON-\n",
      "be\n",
      "sick\n",
      "and\n",
      "tired\n",
      "of\n",
      "the\n",
      "negative\n",
      "\"\n",
      "pic.twitter.com/yncdks90bg\n",
      "\n",
      "\n",
      "--\n",
      "josh\n",
      "haskell\n",
      "(\n",
      "@joshbhaskell\n",
      ")\n",
      "november\n",
      "2\n",
      ",\n",
      "2016\n",
      "man\n",
      "interrupt\n",
      "@hillaryclinton\n",
      "yell\n",
      "\"\n",
      "bill\n",
      "clinton\n",
      "be\n",
      "a\n",
      "rapist\"-\n",
      "-PRON-\n",
      "respond\n",
      "-PRON-\n",
      "be\n",
      "tired\n",
      "of\n",
      "divisive\n",
      "distraction\n",
      ".\n",
      "@nbc6\n",
      "pic.twitter.com/2gpjps1eqb\n",
      "\n",
      "\n",
      "--\n",
      "jamie\n",
      "guirola\n",
      "(\n",
      "@jamienbc6\n",
      ")\n",
      "november\n",
      "2\n",
      ",\n",
      "2016\n",
      "here\n",
      "be\n",
      "hillary\n",
      "absolutely\n",
      "go\n",
      "bezerk\n",
      "on\n",
      "a\n",
      "protester\n",
      ",\n",
      "start\n",
      "scream\n",
      ",\n",
      "shout\n",
      ",\n",
      "yelling\n",
      ".\n",
      "full\n",
      "off\n",
      "the\n",
      "rail\n",
      ".\n",
      "pic.twitter.com/j11qi5jjto\n",
      "\n",
      "\n",
      "--\n",
      "john\n",
      "binder\n",
      "👽\n",
      "(\n",
      "@jxhnbinder\n",
      ")\n",
      "november\n",
      "2\n",
      ",\n",
      "2016\n",
      "related\n"
     ]
    }
   ],
   "source": [
    "for token in documents[3]:\n",
    "    print(token.lemma_)"
   ]
  },
  {
   "cell_type": "code",
   "execution_count": null,
   "metadata": {},
   "outputs": [],
   "source": [
    "\n",
    "stw = list(stopwords.words('english'))\n",
    "stw +=['.',',','!','?','\"',\"'\"]"
   ]
  },
  {
   "cell_type": "code",
   "execution_count": null,
   "metadata": {},
   "outputs": [],
   "source": [
    "string.punctuation"
   ]
  },
  {
   "cell_type": "code",
   "execution_count": 248,
   "metadata": {
    "collapsed": true
   },
   "outputs": [],
   "source": [
    "from sklearn.feature_extraction.stop_words import ENGLISH_STOP_WORDS\n",
    "from nltk.corpus import stopwords\n",
    "from sklearn.base import TransformerMixin\n",
    "from sklearn.pipeline import Pipeline\n",
    "import string"
   ]
  },
  {
   "cell_type": "code",
   "execution_count": 268,
   "metadata": {},
   "outputs": [],
   "source": [
    "# A custom stoplist\n",
    "content_specific_stopwords = ['trump', 'clinton', 'hillary', 'election', 'people', 'said', 'president', 'obama', 'campaign']\n",
    "STOPLIST = set(stopwords.words('english') + [\"n't\", \"'s\", \"'m\", \"ca\",\"’s\",\"'ve\"] + list(ENGLISH_STOP_WORDS)+content_specific_stopwords)\n",
    "# List of symbols we don't care about\n",
    "SYMBOLS = \" \".join(string.punctuation).split(\" \") + [\"-----\", \"---\",'--','-', \"...\", \"“\", \"”\",'…' ,'’','–']\n",
    "\n",
    "# Every step in a pipeline needs to be a \"transformer\". \n",
    "# Define a custom transformer to clean text using spaCy\n",
    "class CleanTextTransformer(TransformerMixin):\n",
    "    \"\"\"\n",
    "    Convert text to cleaned text\n",
    "    \"\"\"\n",
    "\n",
    "    def transform(self, X, **transform_params):\n",
    "        return [cleanText(text) for text in X]\n",
    "\n",
    "    def fit(self, X, y=None, **fit_params):\n",
    "        return self\n",
    "\n",
    "    def get_params(self, deep=True):\n",
    "        return {}\n",
    "    \n",
    "# A custom function to clean the text before sending it into the vectorizer\n",
    "def cleanText(text):\n",
    "    \n",
    "    # get rid of newlines\n",
    "    text = text.strip().replace(\"\\n\", \" \").replace(\"\\r\", \" \")\n",
    "    \n",
    "    # split up words comlicated by some symbols\n",
    "    text = text.replace('’',\" \")\n",
    "    \n",
    "    #convert text to unicode\n",
    "    emoji_pattern = re.compile(\"[\"\n",
    "        u\"\\U0001F600-\\U0001F64F\"  # emoticons\n",
    "        u\"\\U0001F300-\\U0001F5FF\"  # symbols & pictographs\n",
    "        u\"\\U0001F680-\\U0001F6FF\"  # transport & map symbols\n",
    "        u\"\\U0001F1E0-\\U0001F1FF\"  # flags (iOS)\n",
    "                           \"]+\", flags=re.UNICODE)\n",
    "    text = emoji_pattern.sub(r'', text) # no emoji\n",
    "    \n",
    "    # replace twitter @mentions\n",
    "    mentionFinder = re.compile(r\"@[a-z0-9_]{1,15}\", re.IGNORECASE)\n",
    "    text = mentionFinder.sub(\"\", text)\n",
    "    \n",
    "    # replace HTML symbols\n",
    "    bracs_regex = re.compile('<.*?>')\n",
    "    text = re.sub(bracs_regex,\" \",text)\n",
    "    text = text.replace(\"&amp;\", \"and\").replace(\"&gt;\", \">\").replace(\"&lt;\", \"<\")\n",
    "    \n",
    "    # delete urls\n",
    "    url_reg = re.compile('\\w+(?:\\.\\w+)+')\n",
    "    text = re.sub(url_reg, \"\", text)\n",
    "    url_reg2 = re.compile('http.* ')\n",
    "    text = re.sub(url_reg2, \" \", text)\n",
    "    \n",
    "    # delete words countaining numbers\n",
    "    num_reg = re.compile('\\w*\\d+\\w*')\n",
    "    text = re.sub(num_reg, \"\", text)\n",
    "        \n",
    "    # lowercase\n",
    "    text = text.lower()\n",
    "    \n",
    "    # only return alphabetical words\n",
    "    letter_reg = re.compile(' .*[^a-z]+?.* ')\n",
    "    text = re.sub(letter_reg,' ',text)\n",
    "\n",
    "    return text\n",
    "\n",
    "# A custom function to tokenize the text using spaCy\n",
    "# and convert to lemmas\n",
    "def tokenizeText(sample):\n",
    "\n",
    "    # get the tokens using spaCy\n",
    "    tokens = nlp(sample)\n",
    "\n",
    "    # lemmatize\n",
    "    lemmas = []\n",
    "    for tok in tokens:\n",
    "        lemmas.append(tok.lemma_.lower().strip() if tok.lemma_ != \"-PRON-\" else tok.lower_)\n",
    "    tokens = lemmas\n",
    "\n",
    "    # stoplist the tokens\n",
    "    tokens = [tok for tok in tokens if tok not in STOPLIST]\n",
    "\n",
    "    # stoplist symbols\n",
    "    tokens = [tok for tok in tokens if tok not in SYMBOLS]\n",
    "\n",
    "    # remove large strings of whitespace\n",
    "    while \"\" in tokens:\n",
    "        tokens.remove(\"\")\n",
    "    while \" \" in tokens:\n",
    "        tokens.remove(\" \")\n",
    "    while \"\\n\" in tokens:\n",
    "        tokens.remove(\"\\n\")\n",
    "    while \"\\n\\n\" in tokens:\n",
    "        tokens.remove(\"\\n\\n\")\n",
    "\n",
    "    tokens = [token for token in tokens if len(token)>=3]\n",
    "    return tokens\n",
    "\n",
    "def printNMostInformative(vectorizer, clf, N):\n",
    "    \"\"\"Prints features with the highest coefficient values, per class\"\"\"\n",
    "    feature_names = vectorizer.get_feature_names()\n",
    "    coefs_with_fns = sorted(zip(clf.coef_[0], feature_names))\n",
    "    topClass1 = coefs_with_fns[:N]\n",
    "    topClass2 = coefs_with_fns[:-(N + 1):-1]\n",
    "    print(\"Class 1 best: \")\n",
    "    for feat in topClass1:\n",
    "        print(feat)\n",
    "    print(\"Class 2 best: \")\n",
    "    for feat in topClass2:\n",
    "        print(feat)\n",
    "    \n",
    "# the vectorizer and classifer to use\n",
    "# note that I changed the tokenizer in CountVectorizer to use a custom function using spaCy's tokenizer\n",
    "vectorizer = TfidfVectorizer(tokenizer=tokenizeText, ngram_range=(1,1))\n",
    "clf =  KMeans(n_clusters=10,n_jobs=-1,random_state=40)\n",
    "# the pipeline to clean, tokenize, vectorize, and classify\n",
    "pipe = Pipeline([('cleanText', CleanTextTransformer()), ('vectorizer', vectorizer), ('clf', clf)])"
   ]
  },
  {
   "cell_type": "code",
   "execution_count": 276,
   "metadata": {
    "collapsed": true
   },
   "outputs": [],
   "source": [
    "cl_text_tf = CleanTextTransformer()"
   ]
  },
  {
   "cell_type": "code",
   "execution_count": 277,
   "metadata": {},
   "outputs": [
    {
     "data": {
      "text/plain": [
       "<__main__.CleanTextTransformer at 0x7fdc1dec0a20>"
      ]
     },
     "execution_count": 277,
     "metadata": {},
     "output_type": "execute_result"
    }
   ],
   "source": [
    "cl_text_tf.fit(mod_text)"
   ]
  },
  {
   "cell_type": "code",
   "execution_count": 279,
   "metadata": {},
   "outputs": [],
   "source": [
    "cl_txt = cl_text_tf.transform(mod_text)"
   ]
  },
  {
   "cell_type": "code",
   "execution_count": 281,
   "metadata": {},
   "outputs": [
    {
     "data": {
      "text/plain": [
       "'why did attorney general loretta lynch plead the fifth? barracuda brigade -- print the administration is blocking congressional probe into cash payments to iran. of course she needs to plead the . she either can t recall, refuses to answer, or just plain deflects the question. straight up corruption at its finest!   ; talk about covering your ass! loretta lynch did just that when she plead the fifth to avoid incriminating herself over payments to iran…corrupt to the core! attorney general loretta lynch is declining to comply with an investigation by leading members of congress about the obama administration s secret efforts to send iran $ billion in cash earlier this year, prompting accusations that lynch has “pleaded the fifth” amendment to avoid incriminating herself over these payments, according to lawmakers and communications exclusively obtained by the washington free beacon.  sen. marco rubio (r., fla.) and rep. mike pompeo (r., kan.) initially presented lynch in october with a series of questions about how the cash payment to iran was approved and delivered.  in an oct.  response, assistant attorney general peter kadzik responded on lynch s behalf, refusing to answer the questions and informing the lawmakers that they are barred from publicly disclosing any details about the cash payment, which was bound up in a ransom deal aimed at freeing several american hostages from iran.  the response from the attorney general s office is “unacceptable” and provides evidence that lynch has chosen to “essentially plead the fifth and refuse to respond to inquiries regarding [her]role in providing cash to the world s foremost state sponsor of terrorism,” rubio and pompeo wrote on friday in a follow-up letter to lynch. more related'"
      ]
     },
     "execution_count": 281,
     "metadata": {},
     "output_type": "execute_result"
    }
   ],
   "source": [
    "cl_txt[0]"
   ]
  },
  {
   "cell_type": "code",
   "execution_count": 282,
   "metadata": {
    "collapsed": true
   },
   "outputs": [],
   "source": [
    "vectorizer = TfidfVectorizer(tokenizer=tokenizeText, ngram_range=(1,1))"
   ]
  },
  {
   "cell_type": "code",
   "execution_count": 283,
   "metadata": {},
   "outputs": [
    {
     "data": {
      "text/plain": [
       "TfidfVectorizer(analyzer='word', binary=False, decode_error='strict',\n",
       "        dtype=<class 'numpy.int64'>, encoding='utf-8', input='content',\n",
       "        lowercase=True, max_df=1.0, max_features=None, min_df=1,\n",
       "        ngram_range=(1, 1), norm='l2', preprocessor=None, smooth_idf=True,\n",
       "        stop_words=None, strip_accents=None, sublinear_tf=False,\n",
       "        token_pattern='(?u)\\\\b\\\\w\\\\w+\\\\b',\n",
       "        tokenizer=<function tokenizeText at 0x7fdc3330ab70>, use_idf=True,\n",
       "        vocabulary=None)"
      ]
     },
     "execution_count": 283,
     "metadata": {},
     "output_type": "execute_result"
    }
   ],
   "source": [
    "vectorizer.fit(cl_txt)"
   ]
  },
  {
   "cell_type": "code",
   "execution_count": 284,
   "metadata": {
    "collapsed": true
   },
   "outputs": [],
   "source": [
    "sparsed_txt = vectorizer.transform(cl_txt)"
   ]
  },
  {
   "cell_type": "code",
   "execution_count": 294,
   "metadata": {},
   "outputs": [
    {
     "data": {
      "text/plain": [
       "['\"--',\n",
       " '\"></span',\n",
       " '\"full',\n",
       " '\"here',\n",
       " '\"hot',\n",
       " \"'cause\",\n",
       " \"'em\",\n",
       " \"'ll\",\n",
       " '(-;',\n",
       " '(proverb',\n",
       " '(russia',\n",
       " '(so',\n",
       " '(they',\n",
       " ')as',\n",
       " ')instead',\n",
       " '-(-phenylethyl',\n",
       " '-(a',\n",
       " '-(e',\n",
       " '--\"these',\n",
       " '--(g',\n",
       " '----',\n",
       " '--/',\n",
       " '--::-',\n",
       " '--a',\n",
       " '--ad',\n",
       " '--and',\n",
       " '--as',\n",
       " '--at',\n",
       " '--but',\n",
       " '--civ',\n",
       " '--even',\n",
       " '--ha',\n",
       " '--he',\n",
       " '--image',\n",
       " '--is',\n",
       " '--it\\x92s',\n",
       " '--it\\x92s--',\n",
       " '--leader',\n",
       " '--million',\n",
       " '--once',\n",
       " '--our',\n",
       " '--remy',\n",
       " '--say',\n",
       " '--the',\n",
       " '--what',\n",
       " '--whatever',\n",
       " '--what\\x92s',\n",
       " '--when',\n",
       " '--which',\n",
       " '--would',\n",
       " '-/-dimensional',\n",
       " '-/-month',\n",
       " '-/s',\n",
       " '-;margin',\n",
       " '-abraham',\n",
       " '-acre',\n",
       " '-affiliat',\n",
       " '-after',\n",
       " '-against-',\n",
       " '-all',\n",
       " '-alt',\n",
       " '-america',\n",
       " '-an',\n",
       " '-and',\n",
       " '-anti',\n",
       " '-as',\n",
       " '-at',\n",
       " '-athaliah',\n",
       " '-austin',\n",
       " '-automatic',\n",
       " '-ballot',\n",
       " '-bank',\n",
       " '-barack',\n",
       " '-barrel',\n",
       " '-bed',\n",
       " '-bedroom',\n",
       " '-believ',\n",
       " '-bestsell',\n",
       " '-beyond',\n",
       " '-bigelow',\n",
       " '-bill',\n",
       " '-billion',\n",
       " '-bit',\n",
       " '-blade',\n",
       " '-blind',\n",
       " '-block',\n",
       " '-bloomberg',\n",
       " '-born',\n",
       " '-brain',\n",
       " '-brutal',\n",
       " '-by',\n",
       " '-by-',\n",
       " '-can',\n",
       " '-candidate',\n",
       " '-carat',\n",
       " '-carewemust',\n",
       " '-cent',\n",
       " '-centimeter',\n",
       " '-century',\n",
       " '-character',\n",
       " '-child',\n",
       " '-city',\n",
       " '-claim',\n",
       " '-clarissa',\n",
       " '-cleans',\n",
       " '-cnn',\n",
       " '-code',\n",
       " '-contact',\n",
       " '-contain',\n",
       " '-core',\n",
       " '-corey',\n",
       " '-country',\n",
       " '-cow',\n",
       " '-cup',\n",
       " '-current',\n",
       " '-cv-',\n",
       " '-cylinder',\n",
       " '-day',\n",
       " '-db',\n",
       " '-decade',\n",
       " '-degree',\n",
       " '-department',\n",
       " '-dependent',\n",
       " '-despite',\n",
       " '-digestive',\n",
       " '-digit',\n",
       " '-dignity',\n",
       " '-dimensional',\n",
       " '-dioxane',\n",
       " '-dollar',\n",
       " '-donald',\n",
       " '-dose',\n",
       " '-dr',\n",
       " '-due',\n",
       " '-dwight',\n",
       " '-earlier',\n",
       " '-early',\n",
       " '-elect',\n",
       " '-election',\n",
       " '-eleven',\n",
       " '-email',\n",
       " '-eric',\n",
       " '-especially',\n",
       " '-estrogenic',\n",
       " '-every',\n",
       " '-feet',\n",
       " '-figure',\n",
       " '-financ',\n",
       " '-fold',\n",
       " '-foot',\n",
       " '-foot-',\n",
       " '-free',\n",
       " '-freedom',\n",
       " '-ft',\n",
       " '-fu',\n",
       " '-fund',\n",
       " '-gallon',\n",
       " '-game',\n",
       " '-genesis',\n",
       " '-genic',\n",
       " '-grader',\n",
       " '-gram',\n",
       " '-gun',\n",
       " '-hd',\n",
       " '-hectare',\n",
       " '-henry',\n",
       " '-high',\n",
       " '-highest',\n",
       " '-hit',\n",
       " '-hole',\n",
       " '-hour',\n",
       " '-humanitarian',\n",
       " '-iape',\n",
       " '-ibd',\n",
       " '-imam',\n",
       " '-impos',\n",
       " '-imtiaz',\n",
       " '-in',\n",
       " '-in-',\n",
       " '-inch',\n",
       " '-inn',\n",
       " '-instead',\n",
       " '-ish',\n",
       " '-ism',\n",
       " '-issue',\n",
       " '-ist',\n",
       " '-it',\n",
       " '-ja',\n",
       " '-january',\n",
       " '-joe',\n",
       " '-john',\n",
       " '-journalist',\n",
       " '-july',\n",
       " '-just',\n",
       " '-kilogram',\n",
       " '-kilometer',\n",
       " '-kilowatt',\n",
       " '-kirt',\n",
       " '-km',\n",
       " '-lantern',\n",
       " '-larg',\n",
       " '-lb',\n",
       " '-led',\n",
       " '-leftist',\n",
       " '-legged',\n",
       " '-life',\n",
       " '-like',\n",
       " '-linda',\n",
       " '-lipooxygenase',\n",
       " '-liter',\n",
       " '-lox',\n",
       " '-made',\n",
       " '-magnitude',\n",
       " '-man',\n",
       " '-management',\n",
       " '-manufacturer',\n",
       " '-match',\n",
       " '-megawatt',\n",
       " '-member',\n",
       " '-meter',\n",
       " '-metre',\n",
       " '-metric',\n",
       " '-mexican',\n",
       " '-michelle',\n",
       " '-mil',\n",
       " '-mile',\n",
       " '-millimeter',\n",
       " '-million',\n",
       " '-minute',\n",
       " '-minutes',\n",
       " '-mm',\n",
       " '-model',\n",
       " '-month',\n",
       " '-months',\n",
       " '-most',\n",
       " '-move',\n",
       " '-multiculturalism',\n",
       " '-my',\n",
       " '-nancy',\n",
       " '-nation',\n",
       " '-neoconservative',\n",
       " '-no',\n",
       " '-north',\n",
       " '-noth',\n",
       " '-nov-',\n",
       " '-november',\n",
       " '-oakeshottian',\n",
       " '-oct',\n",
       " '-odd',\n",
       " '-of-',\n",
       " '-oktober-',\n",
       " '-old',\n",
       " '-on-',\n",
       " '-onion',\n",
       " '-or',\n",
       " '-ounce',\n",
       " '-our',\n",
       " '-over',\n",
       " '-own',\n",
       " '-pack',\n",
       " '-page',\n",
       " '-pam',\n",
       " '-part',\n",
       " '-party',\n",
       " '-paula',\n",
       " '-pence',\n",
       " '-people',\n",
       " '-per',\n",
       " '-percent',\n",
       " '-percentage',\n",
       " '-person',\n",
       " '-peter',\n",
       " '-phobia',\n",
       " '-phobic',\n",
       " '-piece',\n",
       " '-plus',\n",
       " '-point',\n",
       " '-pound',\n",
       " '-pounder',\n",
       " '-present',\n",
       " '-prong',\n",
       " '-proposition',\n",
       " '-provided',\n",
       " '-pt',\n",
       " '-qtr',\n",
       " '-question',\n",
       " '-quintillion',\n",
       " '-redhawk',\n",
       " '-relat',\n",
       " '-relevant',\n",
       " '-resident',\n",
       " '-respect',\n",
       " '-retir',\n",
       " '-reuter',\n",
       " '-revolution',\n",
       " '-rich',\n",
       " '-richard',\n",
       " '-ridicule',\n",
       " '-ronin\"you\\'re',\n",
       " '-room',\n",
       " '-round',\n",
       " '-rupee',\n",
       " '-russia',\n",
       " '-russian',\n",
       " '-seat',\n",
       " '-seater',\n",
       " '-second',\n",
       " '-section',\n",
       " '-securitysettingpage',\n",
       " '-see',\n",
       " '-sent',\n",
       " '-sentence',\n",
       " '-serv',\n",
       " '-sex',\n",
       " '-sha',\n",
       " '-sham',\n",
       " '-shout',\n",
       " '-sid',\n",
       " '-sided',\n",
       " '-sized',\n",
       " '-skill',\n",
       " '-smh',\n",
       " '-someth',\n",
       " '-something',\n",
       " '-sponsor',\n",
       " '-sponsored',\n",
       " '-square',\n",
       " '-squeal',\n",
       " '-star',\n",
       " '-state',\n",
       " '-step',\n",
       " '-story',\n",
       " '-strike',\n",
       " '-strong',\n",
       " '-style',\n",
       " '-subject',\n",
       " '-supermoon',\n",
       " '-supplied',\n",
       " '-support',\n",
       " '-supreme',\n",
       " '-taste',\n",
       " '-term',\n",
       " '-tetris',\n",
       " '-texas',\n",
       " '-th',\n",
       " '-that\\x92s',\n",
       " '-the',\n",
       " '-themed',\n",
       " '-they',\n",
       " '-this',\n",
       " '-time',\n",
       " '-times',\n",
       " '-to',\n",
       " '-to-',\n",
       " '-to-$',\n",
       " '-ton',\n",
       " '-tr',\n",
       " '-trillion',\n",
       " '-trophy',\n",
       " '-tv',\n",
       " '-type',\n",
       " '-ulcerative',\n",
       " '-unimaginabed',\n",
       " '-unit',\n",
       " '-ut',\n",
       " '-vi',\n",
       " '-via',\n",
       " '-victory',\n",
       " '-vj',\n",
       " '-volume',\n",
       " '-vot',\n",
       " '-vote',\n",
       " '-watt',\n",
       " '-way',\n",
       " '-we',\n",
       " '-week',\n",
       " '-wheeler',\n",
       " '-where',\n",
       " '-which',\n",
       " '-why',\n",
       " '-wide',\n",
       " '-will',\n",
       " '-win',\n",
       " '-winn',\n",
       " '-wk',\n",
       " '-woman',\n",
       " '-word',\n",
       " '-yard',\n",
       " '-year',\n",
       " '-years',\n",
       " '-yera',\n",
       " '-yo',\n",
       " '-you',\n",
       " '-yournewswire',\n",
       " '-yr',\n",
       " '-zant',\n",
       " '-zee',\n",
       " '-|o',\n",
       " '-°c',\n",
       " '-°f',\n",
       " '-“after',\n",
       " '-“in',\n",
       " '-“on',\n",
       " '-“the',\n",
       " '-“their',\n",
       " '-“whatever',\n",
       " '-“with',\n",
       " '.\"\"most',\n",
       " '.\"\"the',\n",
       " '.\"--',\n",
       " '.\"a',\n",
       " '.\"accord',\n",
       " '.\"and',\n",
       " '.\"however',\n",
       " '.\"if',\n",
       " '.\"my',\n",
       " '.\"standard',\n",
       " '.\"the',\n",
       " '.\"they\\'re',\n",
       " '.\"viy',\n",
       " '.\"we',\n",
       " \".$_request['id\",\n",
       " '.(compliment',\n",
       " '.(photo',\n",
       " '.)but',\n",
       " '.)the',\n",
       " '.--',\n",
       " '.-aggression',\n",
       " '.-align',\n",
       " '.-aligned',\n",
       " '.-alli',\n",
       " '.-allied',\n",
       " '.-and',\n",
       " '.-arab',\n",
       " '.-aristocracy',\n",
       " '.-arm',\n",
       " '.-armed',\n",
       " '.-australia',\n",
       " '.-back',\n",
       " '.-backed',\n",
       " '.-bas',\n",
       " '.-based',\n",
       " '.-born',\n",
       " '.-caliber',\n",
       " '.-china',\n",
       " '.-chinese',\n",
       " '.-coalition',\n",
       " '.-colombian',\n",
       " '.-controll',\n",
       " '.-controlled',\n",
       " '.-costa',\n",
       " '.-created',\n",
       " '.-dominated',\n",
       " '.-driven',\n",
       " '.-encouraged',\n",
       " '.-establish',\n",
       " '.-favored',\n",
       " '.-financed',\n",
       " '.-funded',\n",
       " '.-good',\n",
       " '.-impos',\n",
       " '.-imposed',\n",
       " '.-india',\n",
       " '.-install',\n",
       " '.-iranian',\n",
       " '.-israeli',\n",
       " '.-korea',\n",
       " '.-l',\n",
       " '.-led',\n",
       " '.-lov',\n",
       " '.-made',\n",
       " '.-mexican',\n",
       " '.-mexico',\n",
       " '.-minted',\n",
       " '.-nato',\n",
       " '.-orchestrated',\n",
       " '.-preferr',\n",
       " '.-president',\n",
       " '.-rais',\n",
       " '.-russia',\n",
       " '.-russian',\n",
       " '.-sanction',\n",
       " '.-saudi',\n",
       " '.-soviet',\n",
       " '.-speak',\n",
       " '.-specific',\n",
       " '.-sponsor',\n",
       " '.-sponsored',\n",
       " '.-supplied',\n",
       " '.-taliban',\n",
       " '.-taxpayer',\n",
       " '.-train',\n",
       " '.-tribal',\n",
       " '.-turkey',\n",
       " '.-vett',\n",
       " '....',\n",
       " '..a',\n",
       " '..and',\n",
       " '..but',\n",
       " '..even',\n",
       " '..ex',\n",
       " '..he',\n",
       " '..i',\n",
       " '..it',\n",
       " '..keep',\n",
       " '..learn',\n",
       " '..like',\n",
       " '..lol',\n",
       " '..now',\n",
       " '..of',\n",
       " '..oh',\n",
       " '..one',\n",
       " '..possibly',\n",
       " '..read',\n",
       " '..since',\n",
       " '..so',\n",
       " '..stop',\n",
       " '..take',\n",
       " '..that',\n",
       " '..the',\n",
       " '..there',\n",
       " '..til',\n",
       " '..to',\n",
       " '..very',\n",
       " '..we',\n",
       " '..whoosh',\n",
       " '..”start',\n",
       " './.',\n",
       " './al',\n",
       " './communist',\n",
       " './mexico',\n",
       " './nato',\n",
       " './russian',\n",
       " './rwandan',\n",
       " './saudi',\n",
       " './sdf',\n",
       " './syrian',\n",
       " './uk',\n",
       " './×.',\n",
       " '.[]',\n",
       " '.[november',\n",
       " '.]/nato',\n",
       " '.accord',\n",
       " '.adam',\n",
       " '.add(aa$$aa',\n",
       " '.add(new',\n",
       " '.addmouselistener(this',\n",
       " '.addmousemotionlistener(this',\n",
       " '.all',\n",
       " '.america',\n",
       " '.and',\n",
       " '.another',\n",
       " '.apparently',\n",
       " '.as',\n",
       " '.at',\n",
       " '.attorney',\n",
       " '.because',\n",
       " '.bottom',\n",
       " '.built',\n",
       " '.but',\n",
       " '.caught',\n",
       " '.chinese',\n",
       " '.clear',\n",
       " '.com',\n",
       " '.connect',\n",
       " '.dirty',\n",
       " '.do',\n",
       " '.election',\n",
       " '.eml',\n",
       " '.even',\n",
       " '.facebooklike',\n",
       " '.forget',\n",
       " '.former',\n",
       " '.friend',\n",
       " '.from',\n",
       " '.ftse',\n",
       " '.gdaxi',\n",
       " '.gov',\n",
       " '.he',\n",
       " '.here',\n",
       " '.hillary',\n",
       " '.his',\n",
       " '.hollande',\n",
       " '.icon',\n",
       " '.in',\n",
       " '.is',\n",
       " '.it',\n",
       " '.jpg',\n",
       " '.just',\n",
       " '.lol',\n",
       " '.main',\n",
       " '.mog',\n",
       " '.mohan',\n",
       " '.net',\n",
       " '.not',\n",
       " '.nowaday',\n",
       " '.one',\n",
       " '.opera',\n",
       " '.opposition',\n",
       " '.or–',\n",
       " '.pdf',\n",
       " '.petty',\n",
       " '.polly',\n",
       " '.practically',\n",
       " '.president',\n",
       " '.read',\n",
       " '.repaint',\n",
       " '.researcher',\n",
       " '.ru',\n",
       " '.russia',\n",
       " '.scientist',\n",
       " '.setdefaultcloseoperation',\n",
       " '.setpreferredsize(new',\n",
       " '.setsize(new',\n",
       " '.setvisible(true',\n",
       " '.sheep',\n",
       " '.slepyshev',\n",
       " '.so',\n",
       " '.socialwrap',\n",
       " '.some',\n",
       " '.such',\n",
       " '.suffrage',\n",
       " '.the',\n",
       " '.these',\n",
       " '.they',\n",
       " '.those',\n",
       " '.ti',\n",
       " '.tk',\n",
       " '.to',\n",
       " '.together',\n",
       " '.truth',\n",
       " '.tv',\n",
       " '.twitterlike',\n",
       " '.under',\n",
       " '.unlike',\n",
       " '.us',\n",
       " '.vix',\n",
       " '.vs',\n",
       " '.watch',\n",
       " '.way',\n",
       " '.while',\n",
       " '.yes',\n",
       " '.yet',\n",
       " '.zip',\n",
       " '.\\x92s',\n",
       " '.â€\\x9d',\n",
       " '.–lift',\n",
       " '.–mexico',\n",
       " '.—ha',\n",
       " '.‘s',\n",
       " '.“we',\n",
       " '.“when',\n",
       " '.”currently',\n",
       " '.”â',\n",
       " '.”—',\n",
       " '.”—john',\n",
       " '/++',\n",
       " '/+/',\n",
       " '/+gin+/',\n",
       " '/+kr',\n",
       " '/+v/+',\n",
       " '/+zavifcqrpif+',\n",
       " '/---',\n",
       " '/-/',\n",
       " '/-relat',\n",
       " '/-signs',\n",
       " '//+',\n",
       " '//++',\n",
       " '//+gsf/',\n",
       " '//-',\n",
       " '//-//',\n",
       " '//.',\n",
       " '//remhwjwtkw/+gjpo',\n",
       " '/act',\n",
       " '/afp',\n",
       " '/alehuszqem',\n",
       " '/alex',\n",
       " '/articlepage',\n",
       " '/author',\n",
       " '/bbl',\n",
       " '/btjhpvadcj',\n",
       " '/cbs',\n",
       " '/cc',\n",
       " '/center',\n",
       " '/centos/',\n",
       " '/chicagothu',\n",
       " '/chinese',\n",
       " '/content',\n",
       " '/cqetigpsez',\n",
       " '/creative',\n",
       " '/d/',\n",
       " '/day',\n",
       " '/death',\n",
       " '/demwisrtax',\n",
       " '/disc',\n",
       " '/div',\n",
       " '/donate',\n",
       " '/drwnwflsoe',\n",
       " '/dshiqadibj',\n",
       " '/dyoydquyjk',\n",
       " '/earth',\n",
       " '/economic',\n",
       " '/etc',\n",
       " '/eypyjvfhmc',\n",
       " '/f+iwmqedylyxhiem',\n",
       " '/fecbrlkitx',\n",
       " '/flickr',\n",
       " '/fpluggnovd',\n",
       " '/freedomprojecteducation/.',\n",
       " '/freight',\n",
       " '/fusion_text',\n",
       " '/gadfly',\n",
       " '/gallon',\n",
       " '/gckbmifhjl',\n",
       " '/gel',\n",
       " '/ggpzdmgbnw',\n",
       " '/gkexwfdxzk',\n",
       " '/gov',\n",
       " '/gqwqkppewo',\n",
       " '/gthfvjhsnp',\n",
       " '/hang',\n",
       " '/heyodmkord',\n",
       " '/higher',\n",
       " '/hmymp/',\n",
       " '/home',\n",
       " '/hour',\n",
       " '/hr',\n",
       " '/hsdfmqlvrk',\n",
       " '/hyuotexykm',\n",
       " '/iagfjrzyyu',\n",
       " '/it',\n",
       " '/iu//',\n",
       " '/january',\n",
       " '/jiusoewyev',\n",
       " '/jnplnrlefp',\n",
       " '/junocam',\n",
       " '/kasspod',\n",
       " '/kjqcbocqzz',\n",
       " '/kqvhwqrclk',\n",
       " '/lhdzfscaqo',\n",
       " '/liidhzusqr',\n",
       " '/ljlgasgnwa',\n",
       " '/lkwattlmbe',\n",
       " '/lyuzqkfhzz',\n",
       " '/mid-',\n",
       " '/mile',\n",
       " '/mile–$/mile',\n",
       " '/mircnjkdtf',\n",
       " '/month',\n",
       " '/mqjmftdxhx',\n",
       " '/nafeez',\n",
       " '/new',\n",
       " '/night',\n",
       " '/nnrwrpdggp',\n",
       " '/oiacugqkkk',\n",
       " '/oil',\n",
       " '/okjipteijp',\n",
       " '/onahyvpglw',\n",
       " '/organisation',\n",
       " '/ounce',\n",
       " '/oz',\n",
       " '/p><p',\n",
       " '/pair',\n",
       " '/pete',\n",
       " '/phdvxfgggw',\n",
       " '/planetfreewill',\n",
       " '/pol/',\n",
       " '/pol/.',\n",
       " '/political',\n",
       " '/prnewswire',\n",
       " '/qkrnqyqbid',\n",
       " '/qkurgdbzew',\n",
       " '/qrayqmfifv',\n",
       " '/qrfhkyckfl',\n",
       " '/rbqurbpydn',\n",
       " '/resource',\n",
       " '/road',\n",
       " '/santa',\n",
       " '/sarcasm',\n",
       " '/sbawcclijl',\n",
       " '/screengrabs',\n",
       " '/script',\n",
       " '/secretpath',\n",
       " '/sf',\n",
       " '/shiv',\n",
       " '/show',\n",
       " '/social',\n",
       " '/somjbnnkky',\n",
       " '/span',\n",
       " '/spghvawvur',\n",
       " '/stevetaylorauthor',\n",
       " '/style',\n",
       " '/style><![endif][if',\n",
       " '/suffolk',\n",
       " '/suse/',\n",
       " '/sxmdnpdpuw',\n",
       " '/tass/.',\n",
       " '/tfalvkgago',\n",
       " '/tiygbohjgl',\n",
       " '/tl',\n",
       " '/trump',\n",
       " '/twitter',\n",
       " '/ubuntu/',\n",
       " '/uorqcpwdyy',\n",
       " '/vesti',\n",
       " '/vgnwghxxgs',\n",
       " '/watch?v=',\n",
       " '/wear',\n",
       " '/xaknsgduwd',\n",
       " '/xfjvdbeunb',\n",
       " '/xtyutecguz',\n",
       " '/xvjirwqmcz',\n",
       " '/xze',\n",
       " '/year',\n",
       " '/yuukopvywj',\n",
       " '/zjroqeplce',\n",
       " '/~stipakb',\n",
       " \":'(\",\n",
       " ':-(',\n",
       " ':-)',\n",
       " ':--',\n",
       " ':-]',\n",
       " ';-)',\n",
       " '@#$$',\n",
       " '@#$@',\n",
       " '@#%',\n",
       " '@$$hoie',\n",
       " '[and',\n",
       " '[but',\n",
       " '[they',\n",
       " '[thus',\n",
       " '[to',\n",
       " '[western',\n",
       " '\\\\\";font',\n",
       " '^.^',\n",
       " '^^^anyth',\n",
       " '^^^false',\n",
       " '^^^let',\n",
       " '^^^so',\n",
       " '^^^that',\n",
       " '^^^the',\n",
       " '^^^true',\n",
       " '^^^well',\n",
       " 'a\"liar',\n",
       " 'a$$.',\n",
       " 'a$$e',\n",
       " 'a$$es',\n",
       " 'a&e',\n",
       " 'a&m',\n",
       " \"a'ali\",\n",
       " 'a)ll',\n",
       " 'a**.',\n",
       " 'a**hole',\n",
       " 'a[nd',\n",
       " 'a]bove',\n",
       " 'a]ll',\n",
       " 'a]lthough',\n",
       " 'a]mazingly',\n",
       " 'a]n',\n",
       " 'a]nesthesiologist',\n",
       " 'a]nother',\n",
       " 'a]s',\n",
       " 'a_s_sinat',\n",
       " 'aa$$($$$',\n",
       " 'aa$$(_$$_$',\n",
       " 'aa$$(new',\n",
       " 'aa$$aa',\n",
       " 'aaa',\n",
       " 'aaaaggg',\n",
       " 'aaahhh',\n",
       " 'aaargh',\n",
       " 'aaas',\n",
       " 'aab',\n",
       " 'aac',\n",
       " 'aadhar',\n",
       " 'aadmi',\n",
       " 'aae',\n",
       " 'aafe',\n",
       " 'aah',\n",
       " 'aaib',\n",
       " 'aaii',\n",
       " 'aaj',\n",
       " 'aaja',\n",
       " 'aakar',\n",
       " 'aakhri',\n",
       " 'aaliya',\n",
       " 'aall',\n",
       " 'aam',\n",
       " 'aamer',\n",
       " 'aamon',\n",
       " 'aand',\n",
       " 'aankhen',\n",
       " 'aap',\n",
       " 'aapke',\n",
       " 'aapko',\n",
       " 'aapne',\n",
       " 'aapse',\n",
       " 'aar',\n",
       " 'aarizonian',\n",
       " 'aaron',\n",
       " 'aarp',\n",
       " 'aas',\n",
       " 'aata',\n",
       " 'aav-',\n",
       " 'aaye',\n",
       " 'aayush',\n",
       " 'aba',\n",
       " 'ababa',\n",
       " 'aback',\n",
       " 'abadam',\n",
       " 'abadgaran',\n",
       " 'abadi',\n",
       " 'abalone',\n",
       " 'aban',\n",
       " 'abandon',\n",
       " 'abandond',\n",
       " 'abandonment',\n",
       " 'abandonnig',\n",
       " 'abas',\n",
       " 'abasiyeh',\n",
       " 'abastecimiento',\n",
       " 'abate',\n",
       " 'abatement',\n",
       " 'abating',\n",
       " 'abattoir',\n",
       " 'abay',\n",
       " 'abazović',\n",
       " 'abb',\n",
       " 'abba',\n",
       " 'abbaf',\n",
       " 'abbar',\n",
       " 'abbas',\n",
       " 'abbase',\n",
       " 'abbasiya',\n",
       " 'abbasside',\n",
       " 'abbatoir',\n",
       " 'abberation',\n",
       " 'abbey',\n",
       " 'abbie',\n",
       " 'abbot',\n",
       " 'abbott',\n",
       " 'abbreviate',\n",
       " 'abbreviated',\n",
       " 'abbreviation',\n",
       " 'abby',\n",
       " 'abbyy',\n",
       " 'abc',\n",
       " 'abc-',\n",
       " 'abc/',\n",
       " 'abcnbccbsapbsnprcnnwashingtonpostpolitico',\n",
       " 'abd',\n",
       " 'abdahman',\n",
       " 'abdalla',\n",
       " 'abdallah',\n",
       " 'abdalrhman',\n",
       " 'abdel',\n",
       " 'abdelaziz',\n",
       " 'abdelghafour',\n",
       " 'abdelhakim',\n",
       " 'abdelhamid',\n",
       " 'abdelkader',\n",
       " 'abdelmouman',\n",
       " 'abdelrahman',\n",
       " 'abdelwahid',\n",
       " 'abdessalem',\n",
       " 'abdi',\n",
       " 'abdicate',\n",
       " 'abdication',\n",
       " 'abdin',\n",
       " 'abdirahman',\n",
       " 'abdo',\n",
       " 'abdollah',\n",
       " 'abdolvahab',\n",
       " 'abdoman',\n",
       " 'abdomen',\n",
       " 'abdominal',\n",
       " 'abdoo',\n",
       " 'abdoulaye',\n",
       " 'abdrabbuh',\n",
       " 'abduct',\n",
       " 'abductee',\n",
       " 'abducting',\n",
       " 'abduction',\n",
       " 'abductor',\n",
       " 'abdul',\n",
       " 'abdulazeez',\n",
       " 'abdulaziz',\n",
       " 'abdulhadi',\n",
       " 'abduljabbar',\n",
       " 'abdullah',\n",
       " 'abdulrahim',\n",
       " 'abdulrahman',\n",
       " 'abdur',\n",
       " 'abdus',\n",
       " 'abdussamatov',\n",
       " 'abe',\n",
       " 'abed',\n",
       " 'abedi',\n",
       " 'abedin',\n",
       " 'abedin&#;s',\n",
       " ...]"
      ]
     },
     "execution_count": 294,
     "metadata": {},
     "output_type": "execute_result"
    }
   ],
   "source": [
    "vectorizer.get_feature_names()"
   ]
  },
  {
   "cell_type": "code",
   "execution_count": 285,
   "metadata": {},
   "outputs": [
    {
     "data": {
      "text/plain": [
       "scipy.sparse.csr.csr_matrix"
      ]
     },
     "execution_count": 285,
     "metadata": {},
     "output_type": "execute_result"
    }
   ],
   "source": [
    "type(sparsed_txt)"
   ]
  },
  {
   "cell_type": "code",
   "execution_count": 290,
   "metadata": {},
   "outputs": [
    {
     "data": {
      "text/plain": [
       "TruncatedSVD(algorithm='randomized', n_components=80, n_iter=5,\n",
       "       random_state=40, tol=0.0)"
      ]
     },
     "execution_count": 290,
     "metadata": {},
     "output_type": "execute_result"
    }
   ],
   "source": [
    "tsvd = TruncatedSVD(n_components=80,random_state=40)\n",
    "tsvd.fit(sparsed_txt)"
   ]
  },
  {
   "cell_type": "code",
   "execution_count": 291,
   "metadata": {},
   "outputs": [
    {
     "data": {
      "text/plain": [
       "0.16417349872448042"
      ]
     },
     "execution_count": 291,
     "metadata": {},
     "output_type": "execute_result"
    }
   ],
   "source": [
    "sum(sorted(tsvd.explained_variance_ratio_))"
   ]
  },
  {
   "cell_type": "code",
   "execution_count": 292,
   "metadata": {},
   "outputs": [
    {
     "data": {
      "text/plain": [
       "Counter({0: 479, 1: 1474, 2: 598, 3: 5032, 4: 511, 5: 529, 6: 894, 7: 175})"
      ]
     },
     "execution_count": 292,
     "metadata": {},
     "output_type": "execute_result"
    }
   ],
   "source": [
    "kmeanscl = KMeans(n_clusters=8,n_jobs=-1,random_state=40)\n",
    "\n",
    "transformed_wd_frequency = pd.DataFrame(tsvd.transform(sparsed_txt))\n",
    "\n",
    "kmeanscl.fit(transformed_wd_frequency)\n",
    "\n",
    "centroids = kmeanscl.cluster_centers_\n",
    "\n",
    "Counter(kmeanscl.labels_)"
   ]
  },
  {
   "cell_type": "code",
   "execution_count": null,
   "metadata": {
    "collapsed": true
   },
   "outputs": [],
   "source": []
  },
  {
   "cell_type": "code",
   "execution_count": 269,
   "metadata": {},
   "outputs": [
    {
     "ename": "KeyboardInterrupt",
     "evalue": "",
     "output_type": "error",
     "traceback": [
      "\u001b[0;31m---------------------------------------------------------------------------\u001b[0m",
      "\u001b[0;31mKeyboardInterrupt\u001b[0m                         Traceback (most recent call last)",
      "\u001b[0;32m<ipython-input-269-5869d0dc710b>\u001b[0m in \u001b[0;36m<module>\u001b[0;34m()\u001b[0m\n\u001b[1;32m      3\u001b[0m \u001b[0;34m\u001b[0m\u001b[0m\n\u001b[1;32m      4\u001b[0m \u001b[0;31m# train\u001b[0m\u001b[0;34m\u001b[0m\u001b[0;34m\u001b[0m\u001b[0m\n\u001b[0;32m----> 5\u001b[0;31m \u001b[0mpipe\u001b[0m\u001b[0;34m.\u001b[0m\u001b[0mfit\u001b[0m\u001b[0;34m(\u001b[0m\u001b[0mtrain\u001b[0m\u001b[0;34m)\u001b[0m\u001b[0;34m\u001b[0m\u001b[0m\n\u001b[0m",
      "\u001b[0;32m/home/farhaan/anaconda3/lib/python3.6/site-packages/sklearn/pipeline.py\u001b[0m in \u001b[0;36mfit\u001b[0;34m(self, X, y, **fit_params)\u001b[0m\n\u001b[1;32m    266\u001b[0m             \u001b[0mThis\u001b[0m \u001b[0mestimator\u001b[0m\u001b[0;34m\u001b[0m\u001b[0m\n\u001b[1;32m    267\u001b[0m         \"\"\"\n\u001b[0;32m--> 268\u001b[0;31m         \u001b[0mXt\u001b[0m\u001b[0;34m,\u001b[0m \u001b[0mfit_params\u001b[0m \u001b[0;34m=\u001b[0m \u001b[0mself\u001b[0m\u001b[0;34m.\u001b[0m\u001b[0m_fit\u001b[0m\u001b[0;34m(\u001b[0m\u001b[0mX\u001b[0m\u001b[0;34m,\u001b[0m \u001b[0my\u001b[0m\u001b[0;34m,\u001b[0m \u001b[0;34m**\u001b[0m\u001b[0mfit_params\u001b[0m\u001b[0;34m)\u001b[0m\u001b[0;34m\u001b[0m\u001b[0m\n\u001b[0m\u001b[1;32m    269\u001b[0m         \u001b[0;32mif\u001b[0m \u001b[0mself\u001b[0m\u001b[0;34m.\u001b[0m\u001b[0m_final_estimator\u001b[0m \u001b[0;32mis\u001b[0m \u001b[0;32mnot\u001b[0m \u001b[0;32mNone\u001b[0m\u001b[0;34m:\u001b[0m\u001b[0;34m\u001b[0m\u001b[0m\n\u001b[1;32m    270\u001b[0m             \u001b[0mself\u001b[0m\u001b[0;34m.\u001b[0m\u001b[0m_final_estimator\u001b[0m\u001b[0;34m.\u001b[0m\u001b[0mfit\u001b[0m\u001b[0;34m(\u001b[0m\u001b[0mXt\u001b[0m\u001b[0;34m,\u001b[0m \u001b[0my\u001b[0m\u001b[0;34m,\u001b[0m \u001b[0;34m**\u001b[0m\u001b[0mfit_params\u001b[0m\u001b[0;34m)\u001b[0m\u001b[0;34m\u001b[0m\u001b[0m\n",
      "\u001b[0;32m/home/farhaan/anaconda3/lib/python3.6/site-packages/sklearn/pipeline.py\u001b[0m in \u001b[0;36m_fit\u001b[0;34m(self, X, y, **fit_params)\u001b[0m\n\u001b[1;32m    232\u001b[0m                 \u001b[0;32mpass\u001b[0m\u001b[0;34m\u001b[0m\u001b[0m\n\u001b[1;32m    233\u001b[0m             \u001b[0;32melif\u001b[0m \u001b[0mhasattr\u001b[0m\u001b[0;34m(\u001b[0m\u001b[0mtransform\u001b[0m\u001b[0;34m,\u001b[0m \u001b[0;34m\"fit_transform\"\u001b[0m\u001b[0;34m)\u001b[0m\u001b[0;34m:\u001b[0m\u001b[0;34m\u001b[0m\u001b[0m\n\u001b[0;32m--> 234\u001b[0;31m                 \u001b[0mXt\u001b[0m \u001b[0;34m=\u001b[0m \u001b[0mtransform\u001b[0m\u001b[0;34m.\u001b[0m\u001b[0mfit_transform\u001b[0m\u001b[0;34m(\u001b[0m\u001b[0mXt\u001b[0m\u001b[0;34m,\u001b[0m \u001b[0my\u001b[0m\u001b[0;34m,\u001b[0m \u001b[0;34m**\u001b[0m\u001b[0mfit_params_steps\u001b[0m\u001b[0;34m[\u001b[0m\u001b[0mname\u001b[0m\u001b[0;34m]\u001b[0m\u001b[0;34m)\u001b[0m\u001b[0;34m\u001b[0m\u001b[0m\n\u001b[0m\u001b[1;32m    235\u001b[0m             \u001b[0;32melse\u001b[0m\u001b[0;34m:\u001b[0m\u001b[0;34m\u001b[0m\u001b[0m\n\u001b[1;32m    236\u001b[0m                 \u001b[0mXt\u001b[0m \u001b[0;34m=\u001b[0m \u001b[0mtransform\u001b[0m\u001b[0;34m.\u001b[0m\u001b[0mfit\u001b[0m\u001b[0;34m(\u001b[0m\u001b[0mXt\u001b[0m\u001b[0;34m,\u001b[0m \u001b[0my\u001b[0m\u001b[0;34m,\u001b[0m \u001b[0;34m**\u001b[0m\u001b[0mfit_params_steps\u001b[0m\u001b[0;34m[\u001b[0m\u001b[0mname\u001b[0m\u001b[0;34m]\u001b[0m\u001b[0;34m)\u001b[0m\u001b[0;31m \u001b[0m\u001b[0;31m\\\u001b[0m\u001b[0;34m\u001b[0m\u001b[0m\n",
      "\u001b[0;32m/home/farhaan/anaconda3/lib/python3.6/site-packages/sklearn/feature_extraction/text.py\u001b[0m in \u001b[0;36mfit_transform\u001b[0;34m(self, raw_documents, y)\u001b[0m\n\u001b[1;32m   1350\u001b[0m             \u001b[0mTf\u001b[0m\u001b[0;34m-\u001b[0m\u001b[0midf\u001b[0m\u001b[0;34m-\u001b[0m\u001b[0mweighted\u001b[0m \u001b[0mdocument\u001b[0m\u001b[0;34m-\u001b[0m\u001b[0mterm\u001b[0m \u001b[0mmatrix\u001b[0m\u001b[0;34m.\u001b[0m\u001b[0;34m\u001b[0m\u001b[0m\n\u001b[1;32m   1351\u001b[0m         \"\"\"\n\u001b[0;32m-> 1352\u001b[0;31m         \u001b[0mX\u001b[0m \u001b[0;34m=\u001b[0m \u001b[0msuper\u001b[0m\u001b[0;34m(\u001b[0m\u001b[0mTfidfVectorizer\u001b[0m\u001b[0;34m,\u001b[0m \u001b[0mself\u001b[0m\u001b[0;34m)\u001b[0m\u001b[0;34m.\u001b[0m\u001b[0mfit_transform\u001b[0m\u001b[0;34m(\u001b[0m\u001b[0mraw_documents\u001b[0m\u001b[0;34m)\u001b[0m\u001b[0;34m\u001b[0m\u001b[0m\n\u001b[0m\u001b[1;32m   1353\u001b[0m         \u001b[0mself\u001b[0m\u001b[0;34m.\u001b[0m\u001b[0m_tfidf\u001b[0m\u001b[0;34m.\u001b[0m\u001b[0mfit\u001b[0m\u001b[0;34m(\u001b[0m\u001b[0mX\u001b[0m\u001b[0;34m)\u001b[0m\u001b[0;34m\u001b[0m\u001b[0m\n\u001b[1;32m   1354\u001b[0m         \u001b[0;31m# X is already a transformed view of raw_documents so\u001b[0m\u001b[0;34m\u001b[0m\u001b[0;34m\u001b[0m\u001b[0m\n",
      "\u001b[0;32m/home/farhaan/anaconda3/lib/python3.6/site-packages/sklearn/feature_extraction/text.py\u001b[0m in \u001b[0;36mfit_transform\u001b[0;34m(self, raw_documents, y)\u001b[0m\n\u001b[1;32m    837\u001b[0m \u001b[0;34m\u001b[0m\u001b[0m\n\u001b[1;32m    838\u001b[0m         vocabulary, X = self._count_vocab(raw_documents,\n\u001b[0;32m--> 839\u001b[0;31m                                           self.fixed_vocabulary_)\n\u001b[0m\u001b[1;32m    840\u001b[0m \u001b[0;34m\u001b[0m\u001b[0m\n\u001b[1;32m    841\u001b[0m         \u001b[0;32mif\u001b[0m \u001b[0mself\u001b[0m\u001b[0;34m.\u001b[0m\u001b[0mbinary\u001b[0m\u001b[0;34m:\u001b[0m\u001b[0;34m\u001b[0m\u001b[0m\n",
      "\u001b[0;32m/home/farhaan/anaconda3/lib/python3.6/site-packages/sklearn/feature_extraction/text.py\u001b[0m in \u001b[0;36m_count_vocab\u001b[0;34m(self, raw_documents, fixed_vocab)\u001b[0m\n\u001b[1;32m    760\u001b[0m         \u001b[0;32mfor\u001b[0m \u001b[0mdoc\u001b[0m \u001b[0;32min\u001b[0m \u001b[0mraw_documents\u001b[0m\u001b[0;34m:\u001b[0m\u001b[0;34m\u001b[0m\u001b[0m\n\u001b[1;32m    761\u001b[0m             \u001b[0mfeature_counter\u001b[0m \u001b[0;34m=\u001b[0m \u001b[0;34m{\u001b[0m\u001b[0;34m}\u001b[0m\u001b[0;34m\u001b[0m\u001b[0m\n\u001b[0;32m--> 762\u001b[0;31m             \u001b[0;32mfor\u001b[0m \u001b[0mfeature\u001b[0m \u001b[0;32min\u001b[0m \u001b[0manalyze\u001b[0m\u001b[0;34m(\u001b[0m\u001b[0mdoc\u001b[0m\u001b[0;34m)\u001b[0m\u001b[0;34m:\u001b[0m\u001b[0;34m\u001b[0m\u001b[0m\n\u001b[0m\u001b[1;32m    763\u001b[0m                 \u001b[0;32mtry\u001b[0m\u001b[0;34m:\u001b[0m\u001b[0;34m\u001b[0m\u001b[0m\n\u001b[1;32m    764\u001b[0m                     \u001b[0mfeature_idx\u001b[0m \u001b[0;34m=\u001b[0m \u001b[0mvocabulary\u001b[0m\u001b[0;34m[\u001b[0m\u001b[0mfeature\u001b[0m\u001b[0;34m]\u001b[0m\u001b[0;34m\u001b[0m\u001b[0m\n",
      "\u001b[0;32m/home/farhaan/anaconda3/lib/python3.6/site-packages/sklearn/feature_extraction/text.py\u001b[0m in \u001b[0;36m<lambda>\u001b[0;34m(doc)\u001b[0m\n\u001b[1;32m    239\u001b[0m \u001b[0;34m\u001b[0m\u001b[0m\n\u001b[1;32m    240\u001b[0m             return lambda doc: self._word_ngrams(\n\u001b[0;32m--> 241\u001b[0;31m                 tokenize(preprocess(self.decode(doc))), stop_words)\n\u001b[0m\u001b[1;32m    242\u001b[0m \u001b[0;34m\u001b[0m\u001b[0m\n\u001b[1;32m    243\u001b[0m         \u001b[0;32melse\u001b[0m\u001b[0;34m:\u001b[0m\u001b[0;34m\u001b[0m\u001b[0m\n",
      "\u001b[0;32m<ipython-input-268-021cc4185266>\u001b[0m in \u001b[0;36mtokenizeText\u001b[0;34m(sample)\u001b[0m\n\u001b[1;32m     66\u001b[0m \u001b[0;34m\u001b[0m\u001b[0m\n\u001b[1;32m     67\u001b[0m     \u001b[0;31m# get the tokens using spaCy\u001b[0m\u001b[0;34m\u001b[0m\u001b[0;34m\u001b[0m\u001b[0m\n\u001b[0;32m---> 68\u001b[0;31m     \u001b[0mtokens\u001b[0m \u001b[0;34m=\u001b[0m \u001b[0mnlp\u001b[0m\u001b[0;34m(\u001b[0m\u001b[0msample\u001b[0m\u001b[0;34m)\u001b[0m\u001b[0;34m\u001b[0m\u001b[0m\n\u001b[0m\u001b[1;32m     69\u001b[0m \u001b[0;34m\u001b[0m\u001b[0m\n\u001b[1;32m     70\u001b[0m     \u001b[0;31m# lemmatize\u001b[0m\u001b[0;34m\u001b[0m\u001b[0;34m\u001b[0m\u001b[0m\n",
      "\u001b[0;32m/home/farhaan/anaconda3/lib/python3.6/site-packages/spacy/language.py\u001b[0m in \u001b[0;36m__call__\u001b[0;34m(self, text, tag, parse, entity)\u001b[0m\n\u001b[1;32m    327\u001b[0m         \u001b[0;32mfor\u001b[0m \u001b[0mproc\u001b[0m \u001b[0;32min\u001b[0m \u001b[0mself\u001b[0m\u001b[0;34m.\u001b[0m\u001b[0mpipeline\u001b[0m\u001b[0;34m:\u001b[0m\u001b[0;34m\u001b[0m\u001b[0m\n\u001b[1;32m    328\u001b[0m             \u001b[0;32mif\u001b[0m \u001b[0mproc\u001b[0m \u001b[0;32mand\u001b[0m \u001b[0;32mnot\u001b[0m \u001b[0mskip\u001b[0m\u001b[0;34m.\u001b[0m\u001b[0mget\u001b[0m\u001b[0;34m(\u001b[0m\u001b[0mproc\u001b[0m\u001b[0;34m)\u001b[0m\u001b[0;34m:\u001b[0m\u001b[0;34m\u001b[0m\u001b[0m\n\u001b[0;32m--> 329\u001b[0;31m                 \u001b[0mproc\u001b[0m\u001b[0;34m(\u001b[0m\u001b[0mdoc\u001b[0m\u001b[0;34m)\u001b[0m\u001b[0;34m\u001b[0m\u001b[0m\n\u001b[0m\u001b[1;32m    330\u001b[0m         \u001b[0;32mreturn\u001b[0m \u001b[0mdoc\u001b[0m\u001b[0;34m\u001b[0m\u001b[0m\n\u001b[1;32m    331\u001b[0m \u001b[0;34m\u001b[0m\u001b[0m\n",
      "\u001b[0;32m/home/farhaan/anaconda3/lib/python3.6/site-packages/spacy/syntax/parser.pyx\u001b[0m in \u001b[0;36mspacy.syntax.parser.Parser.__call__ (spacy/syntax/parser.cpp:8527)\u001b[0;34m()\u001b[0m\n",
      "\u001b[0;31mKeyboardInterrupt\u001b[0m: "
     ]
    }
   ],
   "source": [
    "# data\n",
    "train = mod_text\n",
    "\n",
    "# train\n",
    "pipe.fit(train)"
   ]
  },
  {
   "cell_type": "code",
   "execution_count": 262,
   "metadata": {},
   "outputs": [
    {
     "name": "stdout",
     "output_type": "stream",
     "text": [
      "why\n",
      "do\n",
      "attorney\n",
      "general\n",
      "loretta\n",
      "lynch\n",
      "plead\n",
      "the\n",
      "fifth\n",
      "?\n",
      "barracuda\n",
      "brigade\n",
      "2016\n",
      "-\n",
      "10\n",
      "-\n",
      "28\n",
      "print\n",
      "the\n",
      "administration\n",
      "be\n",
      "block\n",
      "congressional\n",
      "probe\n",
      "into\n",
      "cash\n",
      "payment\n",
      "to\n",
      "iran\n",
      ".\n",
      "of\n",
      "course\n",
      "-PRON-\n",
      "need\n",
      "to\n",
      "plead\n",
      "the\n",
      "5th\n",
      ".\n",
      "-PRON-\n",
      "either\n",
      "can\n",
      "not\n",
      "recall\n",
      ",\n",
      "refuse\n",
      "to\n",
      "answer\n",
      ",\n",
      "or\n",
      "just\n",
      "plain\n",
      "deflect\n",
      "the\n",
      "question\n",
      ".\n",
      "straight\n",
      "up\n",
      "corruption\n",
      "at\n",
      "-PRON-\n",
      "fine\n",
      "!\n",
      "\n",
      "\n",
      "100percentfedup.com\n",
      ";\n",
      "talk\n",
      "about\n",
      "cover\n",
      "-PRON-\n",
      "ass\n",
      "!\n",
      "loretta\n",
      "lynch\n",
      "do\n",
      "just\n",
      "that\n",
      "when\n",
      "-PRON-\n",
      "plead\n",
      "the\n",
      "fifth\n",
      "to\n",
      "avoid\n",
      "incriminate\n",
      "-PRON-\n",
      "over\n",
      "payment\n",
      "to\n",
      "iran\n",
      "…\n",
      "corrupt\n",
      "to\n",
      "the\n",
      "core\n",
      "!\n",
      "attorney\n",
      "general\n",
      "loretta\n",
      "lynch\n",
      "be\n",
      "decline\n",
      "to\n",
      "comply\n",
      "with\n",
      "an\n",
      "investigation\n",
      "by\n",
      "lead\n",
      "member\n",
      "of\n",
      "congress\n",
      "about\n",
      "the\n",
      "obama\n",
      "administration\n",
      "’s\n",
      "secret\n",
      "effort\n",
      "to\n",
      "send\n",
      "iran\n",
      "$\n",
      "1.7\n",
      "billion\n",
      "in\n",
      "cash\n",
      "earlier\n",
      "this\n",
      "year\n",
      ",\n",
      "prompt\n",
      "accusation\n",
      "that\n",
      "lynch\n",
      "have\n",
      "\"\n",
      "plead\n",
      "the\n",
      "fifth\n",
      "”\n",
      "amendment\n",
      "to\n",
      "avoid\n",
      "incriminate\n",
      "-PRON-\n",
      "over\n",
      "these\n",
      "payment\n",
      ",\n",
      "accord\n",
      "to\n",
      "lawmaker\n",
      "and\n",
      "communication\n",
      "exclusively\n",
      "obtain\n",
      "by\n",
      "the\n",
      "washington\n",
      "free\n",
      "beacon\n",
      ".\n",
      "\n",
      "\n",
      "sen.\n",
      "marco\n",
      "rubio\n",
      "(\n",
      "r.\n",
      ",\n",
      "fla.\n",
      ")\n",
      "and\n",
      "rep.\n",
      "mike\n",
      "pompeo\n",
      "(\n",
      "r.\n",
      ",\n",
      "kan.\n",
      ")\n",
      "initially\n",
      "present\n",
      "lynch\n",
      "in\n",
      "october\n",
      "with\n",
      "a\n",
      "series\n",
      "of\n",
      "question\n",
      "about\n",
      "how\n",
      "the\n",
      "cash\n",
      "payment\n",
      "to\n",
      "iran\n",
      "be\n",
      "approve\n",
      "and\n",
      "deliver\n",
      ".\n",
      "\n",
      "\n",
      "in\n",
      "an\n",
      "oct.\n",
      "24\n",
      "response\n",
      ",\n",
      "assistant\n",
      "attorney\n",
      "general\n",
      "peter\n",
      "kadzik\n",
      "respond\n",
      "on\n",
      "lynch\n",
      "’s\n",
      "behalf\n",
      ",\n",
      "refuse\n",
      "to\n",
      "answer\n",
      "the\n",
      "question\n",
      "and\n",
      "inform\n",
      "the\n",
      "lawmaker\n",
      "that\n",
      "-PRON-\n",
      "be\n",
      "bar\n",
      "from\n",
      "publicly\n",
      "disclose\n",
      "any\n",
      "detail\n",
      "about\n",
      "the\n",
      "cash\n",
      "payment\n",
      ",\n",
      "which\n",
      "be\n",
      "bind\n",
      "up\n",
      "in\n",
      "a\n",
      "ransom\n",
      "deal\n",
      "aim\n",
      "at\n",
      "free\n",
      "several\n",
      "american\n",
      "hostage\n",
      "from\n",
      "iran\n",
      ".\n",
      "\n",
      "\n"
     ]
    }
   ],
   "source": [
    "for sent in list(documents[0].sents)[:10]:\n",
    "    for token in sent:\n",
    "        print(token.lemma_)"
   ]
  },
  {
   "cell_type": "code",
   "execution_count": null,
   "metadata": {},
   "outputs": [],
   "source": [
    "len(text)"
   ]
  },
  {
   "cell_type": "code",
   "execution_count": null,
   "metadata": {
    "collapsed": true
   },
   "outputs": [],
   "source": [
    "from spacy.en import English\n",
    "parser = English()"
   ]
  },
  {
   "cell_type": "code",
   "execution_count": null,
   "metadata": {},
   "outputs": [],
   "source": [
    "testtoklist = cleanText(text[5])"
   ]
  },
  {
   "cell_type": "code",
   "execution_count": null,
   "metadata": {},
   "outputs": [],
   "source": [
    "type(testtoklist[0])"
   ]
  },
  {
   "cell_type": "code",
   "execution_count": null,
   "metadata": {
    "collapsed": true
   },
   "outputs": [],
   "source": [
    "tst2=deepcopy(text[5])"
   ]
  },
  {
   "cell_type": "code",
   "execution_count": null,
   "metadata": {},
   "outputs": [],
   "source": [
    "regex = re.compile('\\w+(?:\\.\\w+)+')"
   ]
  },
  {
   "cell_type": "code",
   "execution_count": null,
   "metadata": {},
   "outputs": [],
   "source": [
    "re.findall(regex,tst2)"
   ]
  },
  {
   "cell_type": "code",
   "execution_count": null,
   "metadata": {},
   "outputs": [],
   "source": [
    "list(ENGLISH_STOP_WORDS)"
   ]
  },
  {
   "cell_type": "code",
   "execution_count": null,
   "metadata": {},
   "outputs": [],
   "source": [
    "fakenews_df_filtered"
   ]
  },
  {
   "cell_type": "code",
   "execution_count": null,
   "metadata": {
    "collapsed": true
   },
   "outputs": [],
   "source": [
    "mod_text = deepcopy(text)"
   ]
  },
  {
   "cell_type": "code",
   "execution_count": 240,
   "metadata": {
    "collapsed": true
   },
   "outputs": [],
   "source": [
    "import gensim"
   ]
  },
  {
   "cell_type": "code",
   "execution_count": 244,
   "metadata": {
    "collapsed": true
   },
   "outputs": [],
   "source": [
    "from gensim import corpora, models, similarities"
   ]
  },
  {
   "cell_type": "code",
   "execution_count": 246,
   "metadata": {},
   "outputs": [
    {
     "ename": "TypeError",
     "evalue": "'spacy.tokens.token.Token' object is not iterable",
     "output_type": "error",
     "traceback": [
      "\u001b[0;31m---------------------------------------------------------------------------\u001b[0m",
      "\u001b[0;31mTypeError\u001b[0m                                 Traceback (most recent call last)",
      "\u001b[0;32m<ipython-input-246-cf41ebf42060>\u001b[0m in \u001b[0;36m<module>\u001b[0;34m()\u001b[0m\n\u001b[0;32m----> 1\u001b[0;31m \u001b[0mtfidf\u001b[0m \u001b[0;34m=\u001b[0m \u001b[0mmodels\u001b[0m\u001b[0;34m.\u001b[0m\u001b[0mTfidfModel\u001b[0m\u001b[0;34m(\u001b[0m\u001b[0mdocuments\u001b[0m\u001b[0;34m[\u001b[0m\u001b[0;36m0\u001b[0m\u001b[0;34m]\u001b[0m\u001b[0;34m)\u001b[0m\u001b[0;34m\u001b[0m\u001b[0m\n\u001b[0m",
      "\u001b[0;32m/home/farhaan/anaconda3/lib/python3.6/site-packages/gensim/models/tfidfmodel.py\u001b[0m in \u001b[0;36m__init__\u001b[0;34m(self, corpus, id2word, dictionary, wlocal, wglobal, normalize)\u001b[0m\n\u001b[1;32m     96\u001b[0m                 \u001b[0mself\u001b[0m\u001b[0;34m.\u001b[0m\u001b[0mid2word\u001b[0m \u001b[0;34m=\u001b[0m \u001b[0mdictionary\u001b[0m\u001b[0;34m\u001b[0m\u001b[0m\n\u001b[1;32m     97\u001b[0m         \u001b[0;32melif\u001b[0m \u001b[0mcorpus\u001b[0m \u001b[0;32mis\u001b[0m \u001b[0;32mnot\u001b[0m \u001b[0;32mNone\u001b[0m\u001b[0;34m:\u001b[0m\u001b[0;34m\u001b[0m\u001b[0m\n\u001b[0;32m---> 98\u001b[0;31m             \u001b[0mself\u001b[0m\u001b[0;34m.\u001b[0m\u001b[0minitialize\u001b[0m\u001b[0;34m(\u001b[0m\u001b[0mcorpus\u001b[0m\u001b[0;34m)\u001b[0m\u001b[0;34m\u001b[0m\u001b[0m\n\u001b[0m\u001b[1;32m     99\u001b[0m         \u001b[0;32melse\u001b[0m\u001b[0;34m:\u001b[0m\u001b[0;34m\u001b[0m\u001b[0m\n\u001b[1;32m    100\u001b[0m             \u001b[0;31m# NOTE: everything is left uninitialized; presumably the model will\u001b[0m\u001b[0;34m\u001b[0m\u001b[0;34m\u001b[0m\u001b[0m\n",
      "\u001b[0;32m/home/farhaan/anaconda3/lib/python3.6/site-packages/gensim/models/tfidfmodel.py\u001b[0m in \u001b[0;36minitialize\u001b[0;34m(self, corpus)\u001b[0m\n\u001b[1;32m    119\u001b[0m                 \u001b[0mlogger\u001b[0m\u001b[0;34m.\u001b[0m\u001b[0minfo\u001b[0m\u001b[0;34m(\u001b[0m\u001b[0;34m\"PROGRESS: processing document #%i\"\u001b[0m\u001b[0;34m,\u001b[0m \u001b[0mdocno\u001b[0m\u001b[0;34m)\u001b[0m\u001b[0;34m\u001b[0m\u001b[0m\n\u001b[1;32m    120\u001b[0m             \u001b[0mnumnnz\u001b[0m \u001b[0;34m+=\u001b[0m \u001b[0mlen\u001b[0m\u001b[0;34m(\u001b[0m\u001b[0mbow\u001b[0m\u001b[0;34m)\u001b[0m\u001b[0;34m\u001b[0m\u001b[0m\n\u001b[0;32m--> 121\u001b[0;31m             \u001b[0;32mfor\u001b[0m \u001b[0mtermid\u001b[0m\u001b[0;34m,\u001b[0m \u001b[0m_\u001b[0m \u001b[0;32min\u001b[0m \u001b[0mbow\u001b[0m\u001b[0;34m:\u001b[0m\u001b[0;34m\u001b[0m\u001b[0m\n\u001b[0m\u001b[1;32m    122\u001b[0m                 \u001b[0mdfs\u001b[0m\u001b[0;34m[\u001b[0m\u001b[0mtermid\u001b[0m\u001b[0;34m]\u001b[0m \u001b[0;34m=\u001b[0m \u001b[0mdfs\u001b[0m\u001b[0;34m.\u001b[0m\u001b[0mget\u001b[0m\u001b[0;34m(\u001b[0m\u001b[0mtermid\u001b[0m\u001b[0;34m,\u001b[0m \u001b[0;36m0\u001b[0m\u001b[0;34m)\u001b[0m \u001b[0;34m+\u001b[0m \u001b[0;36m1\u001b[0m\u001b[0;34m\u001b[0m\u001b[0m\n\u001b[1;32m    123\u001b[0m \u001b[0;34m\u001b[0m\u001b[0m\n",
      "\u001b[0;31mTypeError\u001b[0m: 'spacy.tokens.token.Token' object is not iterable"
     ]
    }
   ],
   "source": [
    "tfidf = models.TfidfModel(documents[0])"
   ]
  },
  {
   "cell_type": "code",
   "execution_count": null,
   "metadata": {
    "collapsed": true
   },
   "outputs": [],
   "source": []
  }
 ],
 "metadata": {
  "kernelspec": {
   "display_name": "Python 3",
   "language": "python",
   "name": "python3"
  },
  "language_info": {
   "codemirror_mode": {
    "name": "ipython",
    "version": 3
   },
   "file_extension": ".py",
   "mimetype": "text/x-python",
   "name": "python",
   "nbconvert_exporter": "python",
   "pygments_lexer": "ipython3",
   "version": "3.6.1"
  }
 },
 "nbformat": 4,
 "nbformat_minor": 2
}
